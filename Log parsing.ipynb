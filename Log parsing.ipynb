{
 "cells": [
  {
   "cell_type": "code",
   "execution_count": 1,
   "id": "ddafe005",
   "metadata": {},
   "outputs": [],
   "source": [
    "# libraries\n",
    "import pandas as pd\n",
    "import numpy as np"
   ]
  },
  {
   "cell_type": "markdown",
   "id": "c3954102",
   "metadata": {},
   "source": [
    "## 1. Log parsing"
   ]
  },
  {
   "cell_type": "code",
   "execution_count": 2,
   "id": "f78c48be",
   "metadata": {},
   "outputs": [],
   "source": [
    "path = 'OLD_PIT.txt'"
   ]
  },
  {
   "cell_type": "code",
   "execution_count": 3,
   "id": "2e01e9bd",
   "metadata": {},
   "outputs": [],
   "source": [
    "def log_to_table(path):\n",
    "    #====================================================================================\n",
    "    # 1.Get columns from text\n",
    "\n",
    "    # 1.1 Read Data\n",
    "    df_log = pd.read_csv(path, sep=\"\\t\", header=None, names = [\"Text\"])\n",
    "\n",
    "    # 1.2. Keep only needed logs\n",
    "    df_log = df_log.loc[df_log[\"Text\"].str.contains(\"JOBSPLIT\") == True]\n",
    "\n",
    "    # 1.3. Clean symbols and remove \"JOBSPLIT\" keyword\n",
    "    df_log[\"Text\"] = df_log[\"Text\"].apply(lambda x: ' '.join(x.split(' ')[1:-1])).str.replace(r\"JOBSPLIT: \", \"\", regex=True)\n",
    "\n",
    "    # 1.5. Define action type\n",
    "    df_log[\"Action Type\"] = df_log[\"Text\"].str.split().str[0]\n",
    "\n",
    "    # 1.7. Keep the correct groups\n",
    "    df_log = df_log.loc[df_log[\"Action Type\"].isin([\"DATASET\", \"OPENTIME\", \"TASKSTARTTIME\", \"JOBENDTIME\"])]\n",
    "\n",
    "    # 1.8. Get Table name\n",
    "    df_log[\"Table\"] = np.where(df_log[\"Action Type\"].isin([\"DATASET\"]),\n",
    "                               df_log[\"Text\"].str.split().str[3],\n",
    "                               np.where(df_log[\"Action Type\"].isin([\"OPENTIME\"]),\n",
    "                                        df_log[\"Text\"].str.split().str[1],\n",
    "                                        \"\"))\n",
    "    df_log[\"Table type\"] = df_log[\"Table\"].str.split('.').str[-1]\n",
    "    df_log[\"Table\"] = df_log[\"Table\"].apply(lambda x: '.'.join(x.split('.')[:-1]))\n",
    "\n",
    "    # 1.9. Keep the correct tables\n",
    "    df_log = df_log.loc[~df_log[\"Table type\"].isin([\"UTILITY\"])]\n",
    "\n",
    "    # 1.10. Define type of dataset\n",
    "    df_log[\"Dataset type\"] = np.where(df_log[\"Action Type\"].isin([\"DATASET\"]),\n",
    "                                      df_log[\"Text\"].str.split().str[1],\n",
    "                                      '')\n",
    "    df_log[\"Dataset type\"] = np.where(df_log[\"Action Type\"].isin([\"OPENTIME\"]),\n",
    "                                      df_log[\"Dataset type\"].shift(),\n",
    "                                      df_log[\"Dataset type\"])\n",
    "    # 1.11 Add IDs for each process\n",
    "    df_log = df_log.reset_index(drop=True)\n",
    "    df_log[\"Lag Dataset type\"] = df_log[\"Dataset type\"].shift()\n",
    "    test_list = [1] \n",
    "    for index, row in df_log.iterrows():\n",
    "        if ((row[\"Lag Dataset type\"] == 'OUTPUT') & (row[\"Dataset type\"] == 'INPUT')) | \\\n",
    "            ((row[\"Lag Dataset type\"] == 'OUTPUT') & (row[\"Dataset type\"] == 'UPDATE')) | \\\n",
    "            ((row[\"Lag Dataset type\"] == 'UPDATE') & (row[\"Dataset type\"] == 'INPUT')):\n",
    "            test_list.append(test_list[index] +1)\n",
    "        else:\n",
    "            test_list.append(test_list[index])\n",
    "    df_log[\"Step\"] = test_list[1:]\n",
    "\n",
    "    # 1.12. Drop columns\n",
    "    df_log.drop(['Lag Dataset type','Table type'], inplace=True, axis=1)   \n",
    "\n",
    "    #====================================================================================\n",
    "    # 2. Dataset Manipulations\n",
    "    # 2.1. Input dataset\n",
    "    df_input = df_log.loc[(df_log[\"Action Type\"].isin([\"DATASET\"])) & \n",
    "                          (df_log[\"Dataset type\"].isin([\"INPUT\"])) ].copy()\n",
    "    df_input = df_input.rename(columns={\"Table\": \"Input Table\"})\n",
    "    df_input.drop(['Text', 'Action Type', 'Dataset type'], inplace=True, axis=1)\n",
    "\n",
    "    # 2.2. Output dataset\n",
    "    df_output = df_log.loc[(df_log[\"Action Type\"].isin([\"DATASET\"])) & \n",
    "                           (df_log[\"Dataset type\"].isin([\"OUTPUT\"])) ].copy()\n",
    "    df_output = df_output.rename(columns={\"Table\": \"Output Table\"})\n",
    "    df_output.drop(['Text', 'Action Type', 'Dataset type'], inplace=True, axis=1)\n",
    "\n",
    "    # 2.3. Update dataset\n",
    "    df_update = df_log.loc[(df_log[\"Action Type\"].isin([\"DATASET\"])) & \n",
    "                           (df_log[\"Dataset type\"].isin([\"UPDATE\"])) ].copy()\n",
    "    df_update = df_update.rename(columns={\"Table\": \"Input Table\"})\n",
    "    df_update[\"Output Table\"] = df_update[\"Input Table\"] \n",
    "    df_update.drop(['Text', 'Action Type', 'Dataset type'], inplace=True, axis=1)\n",
    "\n",
    "    #====================================================================================\n",
    "    # 3. Time dictionary\n",
    "    df_time = df_log.loc[df_log[\"Action Type\"].isin([\"OPENTIME\", \"TASKSTARTTIME\", \"JOBENDTIME\"])].copy()\n",
    "    df_time[\"Start Time\"] = np.where(df_time[\"Action Type\"].isin([\"OPENTIME\"]),\n",
    "                               df_time[\"Text\"].str.split().str[2].str.replace(\"DATE:\", \"\"),\n",
    "                               df_time[\"Text\"].str.split().str[1].str.replace(\"DATE:\", \"\"))\n",
    "    df_time[\"Start Time\"]  = pd.to_datetime(df_time[\"Start Time\"], format=\"%d%b%Y:%H:%M:%S.%f\")\n",
    "    df_time.drop(['Text','Action Type','Table','Dataset type'], inplace=True, axis=1)\n",
    "    df_time = df_time.drop_duplicates(subset=['Step'], keep='first')\n",
    "    df_time[\"Elapsed Time\"] = (df_time[\"Start Time\"].shift(-1) - df_time[\"Start Time\"]).dt.total_seconds()\n",
    "    df_time[\"Elapsed Time\"] = df_time[\"Elapsed Time\"].round(2)\n",
    "    df_time = df_time.fillna(0)\n",
    "\n",
    "    #====================================================================================\n",
    "    # 4. Table size dictionary\n",
    "    df_table = df_log.loc[df_log[\"Action Type\"].isin([\"OPENTIME\"])].copy()\n",
    "    df_table[\"Input File Size\"] = df_table[\"Text\"].str.split().str[-1].str.replace(\"SIZE:\", \"\")\n",
    "    df_table = df_table.rename(columns={\"Table\": \"Input Table\"})\n",
    "    df_table.drop(['Text', 'Action Type', 'Dataset type'], inplace=True, axis=1)\n",
    "    df_table = df_table.drop_duplicates(subset=['Input Table', 'Step'], keep='first')\n",
    "\n",
    "    #====================================================================================\n",
    "    # 5. Output\n",
    "    # 5.1 Merge the results for input, output and updated tables + Time and Size dictionaries\n",
    "    df = df_input.merge(df_output, on=['Step'], how = 'outer')\\\n",
    "                 .append(df_update)\\\n",
    "                 .merge(df_time, on=['Step'], how = 'left')\\\n",
    "                 .merge(df_table, on=['Step', 'Input Table'], how = 'left')\\\n",
    "                 .sort_values(['Step', 'Start Time'])\\\n",
    "                 .reset_index(drop = True)\\\n",
    "                 .fillna(\"No Input\")\n",
    "\n",
    "    # 5.2 Indicate special actions (SORT, UPDATE AND CREATE TABLE)\n",
    "    df['Action'] = np.where(df[\"Input Table\"]==df[\"Output Table\"],\n",
    "                        \"UPDATE\",\n",
    "                        np.where(df[\"Input Table\"]==\"No Input\",\n",
    "                                 \"CREATED\",\n",
    "                                 np.where(df[\"Output Table\"].str.contains(\"SORTTMP\"),\n",
    "                                          \"SORTED\",\n",
    "                                          \"\")))\n",
    "\n",
    "    # 5.3 Correct action labels\n",
    "    df_actions = df.loc[df['Action'] == \"SORTED\", [\"Step\", \"Action\"] ]\n",
    "    df = df.merge(df_actions, on=['Step'], how = 'left')\n",
    "    df['Action'] = np.where(df['Action_y'] == \"SORTED\",\n",
    "                            df['Action_y'],\n",
    "                            df['Action_x'])\n",
    "    df = df.drop(columns=['Action_x','Action_y'])\n",
    "    \n",
    "    # 5.4 Drop tmp sorting output\n",
    "    df = df.drop(df[ df[\"Output Table\"].str.contains(\"SORTTMP\") ].index)\n",
    "    \n",
    "    # 5.5 Add target node index\n",
    "    df[\"Target Node Id\"] = \"Step \" + df[\"Step\"].astype('str') + \": \" + df[\"Output Table\"]\n",
    "\n",
    "    # 5.6 Add source node index\n",
    "    node_id_dict = {}\n",
    "    Source_Node_Id = []\n",
    "    node_attr = {}\n",
    "    for index, row in df.iterrows():\n",
    "        # Add Source Node Id\n",
    "        if row[\"Input Table\"] in node_id_dict:\n",
    "            Source_Node_Id.append(node_id_dict[row[\"Input Table\"]])\n",
    "        elif row[\"Input Table\"] == \"No Input\":\n",
    "            Source_Node_Id.append(\"Step \"+ str(row[\"Step\"]) + \": \" + \"No Input\")\n",
    "        else:\n",
    "            Source_Node_Id.append(\"Step 0: \" + row[\"Input Table\"]) \n",
    "        # Update Keys\n",
    "        node_id_dict[row[\"Output Table\"]] = row[\"Target Node Id\"]    \n",
    "\n",
    "        # Node attributes\n",
    "        if row[\"Action\"] != \"\":\n",
    "            node_attr[row[\"Target Node Id\"]] = row[\"Action\"]\n",
    "    df['Source Node Id'] = Source_Node_Id\n",
    "    \n",
    "    # 5.7 Reorder columns\n",
    "    df = df[['Step','Source Node Id','Target Node Id','Input Table','Output Table','Start Time','Elapsed Time','Action']]\n",
    "    \n",
    "    return df, node_attr"
   ]
  },
  {
   "cell_type": "code",
   "execution_count": 4,
   "id": "a6b7b7b1",
   "metadata": {},
   "outputs": [
    {
     "data": {
      "text/html": [
       "<div>\n",
       "<style scoped>\n",
       "    .dataframe tbody tr th:only-of-type {\n",
       "        vertical-align: middle;\n",
       "    }\n",
       "\n",
       "    .dataframe tbody tr th {\n",
       "        vertical-align: top;\n",
       "    }\n",
       "\n",
       "    .dataframe thead th {\n",
       "        text-align: right;\n",
       "    }\n",
       "</style>\n",
       "<table border=\"1\" class=\"dataframe\">\n",
       "  <thead>\n",
       "    <tr style=\"text-align: right;\">\n",
       "      <th></th>\n",
       "      <th>Step</th>\n",
       "      <th>Source Node Id</th>\n",
       "      <th>Target Node Id</th>\n",
       "      <th>Input Table</th>\n",
       "      <th>Output Table</th>\n",
       "      <th>Start Time</th>\n",
       "      <th>Elapsed Time</th>\n",
       "      <th>Action</th>\n",
       "    </tr>\n",
       "  </thead>\n",
       "  <tbody>\n",
       "    <tr>\n",
       "      <th>0</th>\n",
       "      <td>1</td>\n",
       "      <td>Step 1: No Input</td>\n",
       "      <td>Step 1: WORK.__MTF_PD_PIT_VERSION</td>\n",
       "      <td>No Input</td>\n",
       "      <td>WORK.__MTF_PD_PIT_VERSION</td>\n",
       "      <td>2021-07-23 18:00:00.780</td>\n",
       "      <td>0.06</td>\n",
       "      <td>CREATED</td>\n",
       "    </tr>\n",
       "    <tr>\n",
       "      <th>1</th>\n",
       "      <td>2</td>\n",
       "      <td>Step 1: WORK.__MTF_PD_PIT_VERSION</td>\n",
       "      <td>Step 2: WORK.__MTF_PD_PIT_DISTINCT_RATING1</td>\n",
       "      <td>WORK.__MTF_PD_PIT_VERSION</td>\n",
       "      <td>WORK.__MTF_PD_PIT_DISTINCT_RATING1</td>\n",
       "      <td>2021-07-23 18:00:00.840</td>\n",
       "      <td>3.35</td>\n",
       "      <td></td>\n",
       "    </tr>\n",
       "    <tr>\n",
       "      <th>2</th>\n",
       "      <td>2</td>\n",
       "      <td>Step 0: INPUT.PD_VIEW</td>\n",
       "      <td>Step 2: WORK.__MTF_PD_PIT_DISTINCT_RATING1</td>\n",
       "      <td>INPUT.PD_VIEW</td>\n",
       "      <td>WORK.__MTF_PD_PIT_DISTINCT_RATING1</td>\n",
       "      <td>2021-07-23 18:00:00.840</td>\n",
       "      <td>3.35</td>\n",
       "      <td></td>\n",
       "    </tr>\n",
       "    <tr>\n",
       "      <th>3</th>\n",
       "      <td>3</td>\n",
       "      <td>Step 0: INPUT.PD_RR_RATING</td>\n",
       "      <td>Step 3: WORK.__MTF_PD_PIT_DISTINCT_RATING2</td>\n",
       "      <td>INPUT.PD_RR_RATING</td>\n",
       "      <td>WORK.__MTF_PD_PIT_DISTINCT_RATING2</td>\n",
       "      <td>2021-07-23 18:00:04.190</td>\n",
       "      <td>0.00</td>\n",
       "      <td></td>\n",
       "    </tr>\n",
       "    <tr>\n",
       "      <th>4</th>\n",
       "      <td>4</td>\n",
       "      <td>Step 2: WORK.__MTF_PD_PIT_DISTINCT_RATING1</td>\n",
       "      <td>Step 4: WORK.__MTF_PD_PIT_DISTINCT_ZVAL1</td>\n",
       "      <td>WORK.__MTF_PD_PIT_DISTINCT_RATING1</td>\n",
       "      <td>WORK.__MTF_PD_PIT_DISTINCT_ZVAL1</td>\n",
       "      <td>2021-07-23 18:00:04.190</td>\n",
       "      <td>0.36</td>\n",
       "      <td></td>\n",
       "    </tr>\n",
       "    <tr>\n",
       "      <th>...</th>\n",
       "      <td>...</td>\n",
       "      <td>...</td>\n",
       "      <td>...</td>\n",
       "      <td>...</td>\n",
       "      <td>...</td>\n",
       "      <td>...</td>\n",
       "      <td>...</td>\n",
       "      <td>...</td>\n",
       "    </tr>\n",
       "    <tr>\n",
       "      <th>140</th>\n",
       "      <td>80</td>\n",
       "      <td>Step 79: WORK.__MTF_PD_MARK_RATING_MIG_AVG1_20</td>\n",
       "      <td>Step 80: WORK.TEST_PD_STB_IN</td>\n",
       "      <td>WORK.__MTF_PD_MARK_RATING_MIG_AVG1_20</td>\n",
       "      <td>WORK.TEST_PD_STB_IN</td>\n",
       "      <td>2021-07-23 18:03:23.680</td>\n",
       "      <td>0.83</td>\n",
       "      <td></td>\n",
       "    </tr>\n",
       "    <tr>\n",
       "      <th>141</th>\n",
       "      <td>80</td>\n",
       "      <td>Step 79: WORK.__MTF_PD_MARK_RATING_MIG_AVG1_20</td>\n",
       "      <td>Step 80: WORK.__MTF_PD_PIT_ODR_WIDE_DIS</td>\n",
       "      <td>WORK.__MTF_PD_MARK_RATING_MIG_AVG1_20</td>\n",
       "      <td>WORK.__MTF_PD_PIT_ODR_WIDE_DIS</td>\n",
       "      <td>2021-07-23 18:03:23.680</td>\n",
       "      <td>0.83</td>\n",
       "      <td></td>\n",
       "    </tr>\n",
       "    <tr>\n",
       "      <th>142</th>\n",
       "      <td>81</td>\n",
       "      <td>Step 80: WORK.__MTF_PD_PIT_ODR_WIDE_DIS</td>\n",
       "      <td>Step 81: WORK.__MTF_PD_PIT_ODR_WIDE_TP_DIS</td>\n",
       "      <td>WORK.__MTF_PD_PIT_ODR_WIDE_DIS</td>\n",
       "      <td>WORK.__MTF_PD_PIT_ODR_WIDE_TP_DIS</td>\n",
       "      <td>2021-07-23 18:03:24.510</td>\n",
       "      <td>0.19</td>\n",
       "      <td></td>\n",
       "    </tr>\n",
       "    <tr>\n",
       "      <th>143</th>\n",
       "      <td>82</td>\n",
       "      <td>Step 81: WORK.__MTF_PD_PIT_ODR_WIDE_TP_DIS</td>\n",
       "      <td>Step 82: WORK.__MTF_PD_PIT_ODR_LONG_DIS</td>\n",
       "      <td>WORK.__MTF_PD_PIT_ODR_WIDE_TP_DIS</td>\n",
       "      <td>WORK.__MTF_PD_PIT_ODR_LONG_DIS</td>\n",
       "      <td>2021-07-23 18:03:24.700</td>\n",
       "      <td>1.05</td>\n",
       "      <td></td>\n",
       "    </tr>\n",
       "    <tr>\n",
       "      <th>144</th>\n",
       "      <td>83</td>\n",
       "      <td>Step 82: WORK.__MTF_PD_PIT_ODR_LONG_DIS</td>\n",
       "      <td>Step 83: WORK.TEST_PD_DIS_IN</td>\n",
       "      <td>WORK.__MTF_PD_PIT_ODR_LONG_DIS</td>\n",
       "      <td>WORK.TEST_PD_DIS_IN</td>\n",
       "      <td>2021-07-23 18:03:25.750</td>\n",
       "      <td>0.00</td>\n",
       "      <td></td>\n",
       "    </tr>\n",
       "  </tbody>\n",
       "</table>\n",
       "<p>144 rows × 8 columns</p>\n",
       "</div>"
      ],
      "text/plain": [
       "     Step                                  Source Node Id  \\\n",
       "0       1                                Step 1: No Input   \n",
       "1       2               Step 1: WORK.__MTF_PD_PIT_VERSION   \n",
       "2       2                           Step 0: INPUT.PD_VIEW   \n",
       "3       3                      Step 0: INPUT.PD_RR_RATING   \n",
       "4       4      Step 2: WORK.__MTF_PD_PIT_DISTINCT_RATING1   \n",
       "..    ...                                             ...   \n",
       "140    80  Step 79: WORK.__MTF_PD_MARK_RATING_MIG_AVG1_20   \n",
       "141    80  Step 79: WORK.__MTF_PD_MARK_RATING_MIG_AVG1_20   \n",
       "142    81         Step 80: WORK.__MTF_PD_PIT_ODR_WIDE_DIS   \n",
       "143    82      Step 81: WORK.__MTF_PD_PIT_ODR_WIDE_TP_DIS   \n",
       "144    83         Step 82: WORK.__MTF_PD_PIT_ODR_LONG_DIS   \n",
       "\n",
       "                                 Target Node Id  \\\n",
       "0             Step 1: WORK.__MTF_PD_PIT_VERSION   \n",
       "1    Step 2: WORK.__MTF_PD_PIT_DISTINCT_RATING1   \n",
       "2    Step 2: WORK.__MTF_PD_PIT_DISTINCT_RATING1   \n",
       "3    Step 3: WORK.__MTF_PD_PIT_DISTINCT_RATING2   \n",
       "4      Step 4: WORK.__MTF_PD_PIT_DISTINCT_ZVAL1   \n",
       "..                                          ...   \n",
       "140                Step 80: WORK.TEST_PD_STB_IN   \n",
       "141     Step 80: WORK.__MTF_PD_PIT_ODR_WIDE_DIS   \n",
       "142  Step 81: WORK.__MTF_PD_PIT_ODR_WIDE_TP_DIS   \n",
       "143     Step 82: WORK.__MTF_PD_PIT_ODR_LONG_DIS   \n",
       "144                Step 83: WORK.TEST_PD_DIS_IN   \n",
       "\n",
       "                               Input Table  \\\n",
       "0                                 No Input   \n",
       "1                WORK.__MTF_PD_PIT_VERSION   \n",
       "2                            INPUT.PD_VIEW   \n",
       "3                       INPUT.PD_RR_RATING   \n",
       "4       WORK.__MTF_PD_PIT_DISTINCT_RATING1   \n",
       "..                                     ...   \n",
       "140  WORK.__MTF_PD_MARK_RATING_MIG_AVG1_20   \n",
       "141  WORK.__MTF_PD_MARK_RATING_MIG_AVG1_20   \n",
       "142         WORK.__MTF_PD_PIT_ODR_WIDE_DIS   \n",
       "143      WORK.__MTF_PD_PIT_ODR_WIDE_TP_DIS   \n",
       "144         WORK.__MTF_PD_PIT_ODR_LONG_DIS   \n",
       "\n",
       "                           Output Table              Start Time  Elapsed Time  \\\n",
       "0             WORK.__MTF_PD_PIT_VERSION 2021-07-23 18:00:00.780          0.06   \n",
       "1    WORK.__MTF_PD_PIT_DISTINCT_RATING1 2021-07-23 18:00:00.840          3.35   \n",
       "2    WORK.__MTF_PD_PIT_DISTINCT_RATING1 2021-07-23 18:00:00.840          3.35   \n",
       "3    WORK.__MTF_PD_PIT_DISTINCT_RATING2 2021-07-23 18:00:04.190          0.00   \n",
       "4      WORK.__MTF_PD_PIT_DISTINCT_ZVAL1 2021-07-23 18:00:04.190          0.36   \n",
       "..                                  ...                     ...           ...   \n",
       "140                 WORK.TEST_PD_STB_IN 2021-07-23 18:03:23.680          0.83   \n",
       "141      WORK.__MTF_PD_PIT_ODR_WIDE_DIS 2021-07-23 18:03:23.680          0.83   \n",
       "142   WORK.__MTF_PD_PIT_ODR_WIDE_TP_DIS 2021-07-23 18:03:24.510          0.19   \n",
       "143      WORK.__MTF_PD_PIT_ODR_LONG_DIS 2021-07-23 18:03:24.700          1.05   \n",
       "144                 WORK.TEST_PD_DIS_IN 2021-07-23 18:03:25.750          0.00   \n",
       "\n",
       "      Action  \n",
       "0    CREATED  \n",
       "1             \n",
       "2             \n",
       "3             \n",
       "4             \n",
       "..       ...  \n",
       "140           \n",
       "141           \n",
       "142           \n",
       "143           \n",
       "144           \n",
       "\n",
       "[144 rows x 8 columns]"
      ]
     },
     "execution_count": 4,
     "metadata": {},
     "output_type": "execute_result"
    }
   ],
   "source": [
    "df,node_attr = log_to_table(path)\n",
    "df"
   ]
  },
  {
   "cell_type": "code",
   "execution_count": 5,
   "id": "653266c1",
   "metadata": {},
   "outputs": [],
   "source": [
    "df.to_csv('test.csv', sep = \";\")"
   ]
  },
  {
   "cell_type": "markdown",
   "id": "a1d6d541",
   "metadata": {},
   "source": [
    "# Network visualisation"
   ]
  },
  {
   "cell_type": "code",
   "execution_count": 6,
   "id": "23fcff94",
   "metadata": {},
   "outputs": [],
   "source": [
    "# libraries\n",
    "import networkx as nx\n",
    "\n",
    "import matplotlib\n",
    "import matplotlib.cm as cm\n",
    "from matplotlib import pyplot as plt\n",
    "\n",
    "import plotly.graph_objects as go\n",
    "from plotly.subplots import make_subplots"
   ]
  },
  {
   "cell_type": "markdown",
   "id": "44aa4081",
   "metadata": {},
   "source": [
    "#### Graph Setup"
   ]
  },
  {
   "cell_type": "code",
   "execution_count": 15,
   "id": "f164f989",
   "metadata": {},
   "outputs": [],
   "source": [
    "def get_coordinates(G):\n",
    "\n",
    "    #====================================================================================\n",
    "    # 1. Define coordinates\n",
    "    coords = nx.multipartite_layout(G, subset_key = \"offset\")\n",
    "    node_x_coords = []\n",
    "    node_y_coords = []\n",
    "    pos = {}\n",
    "    for keys, values in coords.items():\n",
    "        pos[keys] = list([round(values[0], 6),\n",
    "                          round(values[1], 6)])\n",
    "        node_x_coords.append(round(values[0], 6))\n",
    "        node_y_coords.append(round(values[1], 6))\n",
    "    nx.set_node_attributes(G, pos, \"pos\") \n",
    "\n",
    "    #====================================================================================    \n",
    "    # 2. Shift coordinates to avoid overlap\n",
    "    # Edge coords\n",
    "    edge_x_coords = []\n",
    "    edge_y_coords = []\n",
    "    # Edge text coords\n",
    "    edge_text_x_coords=[]\n",
    "    edge_text_y_coords=[]\n",
    "    for edge in G.edges():\n",
    "        \n",
    "        # 2.1 Get data:\n",
    "        # Start points\n",
    "        x0, y0 = G.nodes[edge[0]]['pos']\n",
    "        # End points\n",
    "        x1, y1 = G.nodes[edge[1]]['pos']\n",
    "        # Middle points\n",
    "        x_mean = round( (x0+x1)/2, 6) \n",
    "        y_mean = round( (y0+y1)/2, 6)\n",
    "        # Shift length\n",
    "        shift = (( (x1-x0)**2 + (y1-y0)**2 )**0.5) * 0.05\n",
    "\n",
    "        # 2.2 Adjustment of coordinates\n",
    "        # If Horizontal line\n",
    "        if x0 == x1:\n",
    "                x_mean = x_mean - shift\n",
    "        # If Vertical line            \n",
    "        elif y0 == y1:\n",
    "            if y0 >= 0:\n",
    "                 y_mean = y_mean + shift\n",
    "            else:\n",
    "                 y_mean = y_mean - shift        \n",
    "        # If Diagonal line\n",
    "        else:\n",
    "            y_x_proportion = abs((x1-x0) / (y1-y0))\n",
    "            l_y = ( (shift**2) / (y_x_proportion**2+1) )**0.5\n",
    "            l_x = l_y * y_x_proportion\n",
    "            # Increase \n",
    "            if y0 < y1:\n",
    "                # Below y=0\n",
    "                if y1<=0:\n",
    "                    x_mean = x_mean + l_x\n",
    "                    y_mean = y_mean - l_y    \n",
    "                # Above y=0\n",
    "                else:\n",
    "                    x_mean = x_mean - l_x\n",
    "                    y_mean = y_mean + l_y    \n",
    "                    \n",
    "            # Decrease\n",
    "            elif y0 > y1:\n",
    "                # Below y=0\n",
    "                if y0<=0:\n",
    "                    x_mean = x_mean - l_x\n",
    "                    y_mean = y_mean - l_y                     \n",
    "                # Above y=0\n",
    "                else:\n",
    "                    x_mean = x_mean + l_x\n",
    "                    y_mean = y_mean + l_y             \n",
    "\n",
    "        # 2.3 Output\n",
    "        # X coordinates\n",
    "        edge_x_coords.append([x0,x_mean,x1])\n",
    "        # Y coordinates  \n",
    "        edge_y_coords.append([y0,y_mean,y1])\n",
    "        # Edge text coordinates        \n",
    "        edge_text_x_coords.append(x_mean)\n",
    "        edge_text_y_coords.append(y_mean)\n",
    "\n",
    "    return G, edge_x_coords, edge_y_coords, edge_text_x_coords, edge_text_y_coords"
   ]
  },
  {
   "cell_type": "code",
   "execution_count": 16,
   "id": "8670fdf1",
   "metadata": {},
   "outputs": [],
   "source": [
    "def get_edge_trace(G, \n",
    "                   edge_x_coords, edge_y_coords, \n",
    "                   edge_text_x_coords, edge_text_y_coords):\n",
    "    \n",
    "    #====================================================================================        \n",
    "    # 1. Edge text values\n",
    "    edge_text = []\n",
    "    edge_color_values = []\n",
    "    for edge in G.edges():\n",
    "        edge_color_values.append(G.edges[edge[0], edge[1]]['Elapsed Time'])\n",
    "        edge_text.append('Input Table: '     +  str(G.edges[edge[0], edge[1]]['Input Table'])      + ' <br> ' +            \n",
    "                         'Output Table: '    +  str(G.edges[edge[0], edge[1]]['Output Table'])     + ' <br> ' +            \n",
    "                         'Step: '            +  str(G.edges[edge[0], edge[1]]['Step'])             + ' <br> ' +\n",
    "                         'Start Time: '      +  str(G.edges[edge[0], edge[1]]['Start Time'])       + ' <br> ' +\n",
    "                         'Elapsed Time: '    +  str(G.edges[edge[0], edge[1]]['Elapsed Time']))\n",
    "    \n",
    "    #====================================================================================        \n",
    "    # 2. Map colors to values\n",
    "    minima = min(edge_color_values)\n",
    "    maxima = max(edge_color_values)\n",
    "    norm = matplotlib.colors.Normalize(vmin=minima, vmax=maxima, clip=True)\n",
    "    mapper = cm.ScalarMappable(norm=norm, cmap='RdYlGn_r')\n",
    "    \n",
    "    edge_color = []\n",
    "    for v in edge_color_values:\n",
    "        rgba = mapper.to_rgba(v)\n",
    "        edge_color.append( matplotlib.colors.to_hex(rgba, keep_alpha=False))\n",
    "        \n",
    "    #====================================================================================        \n",
    "    # 2. Edge plot         \n",
    "    edge_trace = []  \n",
    "    for i in range(len(edge_color)): # Add each edge as a separate plot\n",
    "        edge_trace.append(go.Scatter(x = edge_x_coords[i], \n",
    "                                     y = edge_y_coords[i],\n",
    "                                     mode = 'lines',\n",
    "                                     line_shape = 'spline',\n",
    "                                     line = dict(width=1,\n",
    "                                                 dash='dot',\n",
    "                                                 color=edge_color[i]),\n",
    "                                     hoverinfo = 'none'))\n",
    "    \n",
    "    #====================================================================================        \n",
    "    # 3. Edge text plot\n",
    "    edge_text_trace = go.Scatter(x = edge_text_x_coords,\n",
    "                                 y = edge_text_y_coords, \n",
    "                                 # Marker\n",
    "                                 mode = 'markers',\n",
    "                                 marker_symbol = 'hexagram',\n",
    "                                 marker=dict(showscale=True, \n",
    "                                             colorscale='RdYlGn', \n",
    "                                             reversescale=True, \n",
    "                                             size = 8,\n",
    "                                             color=[], \n",
    "                                             colorbar=dict(thickness=15,\n",
    "                                                           title='Execution time (s)',\n",
    "                                                           xanchor='left',\n",
    "                                                           titleside='right')\n",
    "                                            ),\n",
    "                                 # Text\n",
    "                                 text = edge_text, \n",
    "                                 textposition = 'top center', \n",
    "                                 hovertemplate = ' %{text}')\n",
    "    edge_text_trace.marker.color = edge_color_values\n",
    "    \n",
    "    return edge_trace, edge_text_trace"
   ]
  },
  {
   "cell_type": "code",
   "execution_count": 17,
   "id": "c41a228c",
   "metadata": {
    "scrolled": true
   },
   "outputs": [],
   "source": [
    "def get_node_trace(G):\n",
    "    \n",
    "    #====================================================================================            \n",
    "    # 1. Node Attributes\n",
    "    node_x = []\n",
    "    node_y = []\n",
    "    node_table = []\n",
    "    node_color = []\n",
    "    node_shape = []\n",
    "    for node in G.nodes():        \n",
    "        # Node Coords\n",
    "        x, y = G.nodes[node]['pos']\n",
    "        node_x.append(x)\n",
    "        node_y.append(y)        \n",
    "        \n",
    "        # Node name\n",
    "        table_name = node.split(\": \")[1]\n",
    "        node_table.append(table_name)\n",
    "        \n",
    "        # Node shape and color\n",
    "        # No source node\n",
    "        if G.nodes[node][\"node_type\"] == \"CREATED\":\n",
    "            node_shape.append(\"diamond-cross\")\n",
    "            node_color.append(\"grey\")\n",
    "    \n",
    "        # Input node\n",
    "        elif G.in_degree(node) == 0:\n",
    "            node_shape.append(\"diamond\")\n",
    "            node_color.append(\"gold\")\n",
    "            \n",
    "        # Output node\n",
    "        elif G.out_degree(node) == 0:\n",
    "            node_shape.append(\"square\")\n",
    "            node_color.append(\"cyan\") \n",
    "            \n",
    "        # Updated node            \n",
    "        elif G.nodes[node][\"node_type\"] == \"UPDATE\":\n",
    "            node_shape.append(\"cross\")\n",
    "            node_color.append(\"orange\")\n",
    "            \n",
    "        # Sorted node            \n",
    "        elif G.nodes[node][\"node_type\"] == \"SORTED\":\n",
    "            node_shape.append(\"pentagon\")\n",
    "            node_color.append(\"purple\")\n",
    "            \n",
    "        # Internal nodes\n",
    "        else:\n",
    "            node_shape.append(\"circle\")\n",
    "            node_color.append(\"blue\")\n",
    "\n",
    "    #====================================================================================        \n",
    "    # 2. Node plot\n",
    "    node_trace = go.Scatter(x = node_x, \n",
    "                            y = node_y,\n",
    "                            mode = 'markers',\n",
    "                            marker_size = 10,\n",
    "                            marker_line_color=\"black\", \n",
    "                            marker_line_width=0.5,\n",
    "                            text = node_table,\n",
    "                            textposition = 'top center',\n",
    "                            hovertemplate = ' %{text}')\n",
    "    \n",
    "    node_trace.marker.color = node_color\n",
    "    node_trace.marker.symbol = node_shape\n",
    "    \n",
    "    return node_trace"
   ]
  },
  {
   "cell_type": "code",
   "execution_count": 18,
   "id": "629099b3",
   "metadata": {},
   "outputs": [
    {
     "data": {
      "application/vnd.plotly.v1+json": {
       "config": {
        "plotlyServerURL": "https://plot.ly"
       },
       "data": [
        {
         "hoverinfo": "none",
         "line": {
          "color": "#0c7f43",
          "dash": "dot",
          "shape": "spline",
          "width": 1
         },
         "mode": "lines",
         "type": "scatter",
         "x": [
          -0.976554,
          -0.964832,
          -0.953109
         ],
         "xaxis": "x",
         "y": [
          0,
          0.0011722500000000025,
          0
         ],
         "yaxis": "y"
        },
        {
         "hoverinfo": "none",
         "line": {
          "color": "#016a38",
          "dash": "dot",
          "shape": "spline",
          "width": 1
         },
         "mode": "lines",
         "type": "scatter",
         "x": [
          -0.953109,
          -0.929663,
          -0.906217
         ],
         "xaxis": "x",
         "y": [
          0,
          0.002344599999999997,
          0
         ],
         "yaxis": "y"
        },
        {
         "hoverinfo": "none",
         "line": {
          "color": "#0c7f43",
          "dash": "dot",
          "shape": "spline",
          "width": 1
         },
         "mode": "lines",
         "type": "scatter",
         "x": [
          -1,
          -0.97420945,
          -0.953109
         ],
         "xaxis": "x",
         "y": [
          0.023446,
          0.0128953,
          0
         ],
         "yaxis": "y"
        },
        {
         "hoverinfo": "none",
         "line": {
          "color": "#006837",
          "dash": "dot",
          "shape": "spline",
          "width": 1
         },
         "mode": "lines",
         "type": "scatter",
         "x": [
          -1,
          -0.964832,
          -0.929663
         ],
         "xaxis": "x",
         "y": [
          0,
          0.0035168499999999993,
          0
         ],
         "yaxis": "y"
        },
        {
         "hoverinfo": "none",
         "line": {
          "color": "#016a38",
          "dash": "dot",
          "shape": "spline",
          "width": 1
         },
         "mode": "lines",
         "type": "scatter",
         "x": [
          -0.929663,
          -0.91794,
          -0.906217
         ],
         "xaxis": "x",
         "y": [
          0,
          0.0011722999999999985,
          0
         ],
         "yaxis": "y"
        },
        {
         "hoverinfo": "none",
         "line": {
          "color": "#006837",
          "dash": "dot",
          "shape": "spline",
          "width": 1
         },
         "mode": "lines",
         "type": "scatter",
         "x": [
          -0.906217,
          -0.882772,
          -0.859326
         ],
         "xaxis": "x",
         "y": [
          0,
          0.002344550000000001,
          0
         ],
         "yaxis": "y"
        },
        {
         "hoverinfo": "none",
         "line": {
          "color": "#006837",
          "dash": "dot",
          "shape": "spline",
          "width": 1
         },
         "mode": "lines",
         "type": "scatter",
         "x": [
          -1,
          -0.9355245999999999,
          -0.882772
         ],
         "xaxis": "x",
         "y": [
          -0.023446,
          -0.0128953,
          0
         ],
         "yaxis": "y"
        },
        {
         "hoverinfo": "none",
         "line": {
          "color": "#006837",
          "dash": "dot",
          "shape": "spline",
          "width": 1
         },
         "mode": "lines",
         "type": "scatter",
         "x": [
          -0.882772,
          -0.871049,
          -0.859326
         ],
         "xaxis": "x",
         "y": [
          0,
          0.0011722999999999985,
          0
         ],
         "yaxis": "y"
        },
        {
         "hoverinfo": "none",
         "line": {
          "color": "#026c39",
          "dash": "dot",
          "shape": "spline",
          "width": 1
         },
         "mode": "lines",
         "type": "scatter",
         "x": [
          -0.859326,
          -0.847603,
          -0.83588
         ],
         "xaxis": "x",
         "y": [
          0,
          0.001172300000000004,
          0
         ],
         "yaxis": "y"
        },
        {
         "hoverinfo": "none",
         "line": {
          "color": "#016a38",
          "dash": "dot",
          "shape": "spline",
          "width": 1
         },
         "mode": "lines",
         "type": "scatter",
         "x": [
          -0.83588,
          -0.824158,
          -0.812435
         ],
         "xaxis": "x",
         "y": [
          0,
          0.001172249999999997,
          0
         ],
         "yaxis": "y"
        },
        {
         "hoverinfo": "none",
         "line": {
          "color": "#0a7b41",
          "dash": "dot",
          "shape": "spline",
          "width": 1
         },
         "mode": "lines",
         "type": "scatter",
         "x": [
          -0.812435,
          -0.8018843,
          -0.788989
         ],
         "xaxis": "x",
         "y": [
          0,
          0.012895300000000002,
          0.023446
         ],
         "yaxis": "y"
        },
        {
         "hoverinfo": "none",
         "line": {
          "color": "#0a7b41",
          "dash": "dot",
          "shape": "spline",
          "width": 1
         },
         "mode": "lines",
         "type": "scatter",
         "x": [
          -0.812435,
          -0.800712,
          -0.788989
         ],
         "xaxis": "x",
         "y": [
          0,
          0.0011722999999999985,
          0
         ],
         "yaxis": "y"
        },
        {
         "hoverinfo": "none",
         "line": {
          "color": "#0a7b41",
          "dash": "dot",
          "shape": "spline",
          "width": 1
         },
         "mode": "lines",
         "type": "scatter",
         "x": [
          -0.812435,
          -0.8018843,
          -0.788989
         ],
         "xaxis": "x",
         "y": [
          0,
          -0.012895300000000002,
          -0.023446
         ],
         "yaxis": "y"
        },
        {
         "hoverinfo": "none",
         "line": {
          "color": "#006837",
          "dash": "dot",
          "shape": "spline",
          "width": 1
         },
         "mode": "lines",
         "type": "scatter",
         "x": [
          -0.788989,
          -0.13133749999999997,
          0.406741
         ],
         "xaxis": "x",
         "y": [
          0.023446,
          0.012895300000000002,
          0
         ],
         "yaxis": "y"
        },
        {
         "hoverinfo": "none",
         "line": {
          "color": "#006837",
          "dash": "dot",
          "shape": "spline",
          "width": 1
         },
         "mode": "lines",
         "type": "scatter",
         "x": [
          -0.788989,
          -0.777266,
          -0.765543
         ],
         "xaxis": "x",
         "y": [
          0,
          0.001172300000000004,
          0
         ],
         "yaxis": "y"
        },
        {
         "hoverinfo": "none",
         "line": {
          "color": "#006837",
          "dash": "dot",
          "shape": "spline",
          "width": 1
         },
         "mode": "lines",
         "type": "scatter",
         "x": [
          -0.788989,
          -0.76319945,
          -0.742098
         ],
         "xaxis": "x",
         "y": [
          -0.023446,
          -0.0128953,
          0
         ],
         "yaxis": "y"
        },
        {
         "hoverinfo": "none",
         "line": {
          "color": "#006837",
          "dash": "dot",
          "shape": "spline",
          "width": 1
         },
         "mode": "lines",
         "type": "scatter",
         "x": [
          -0.765543,
          -0.73389085,
          -0.695206
         ],
         "xaxis": "x",
         "y": [
          0,
          0.00644815,
          0.011723
         ],
         "yaxis": "y"
        },
        {
         "hoverinfo": "none",
         "line": {
          "color": "#006837",
          "dash": "dot",
          "shape": "spline",
          "width": 1
         },
         "mode": "lines",
         "type": "scatter",
         "x": [
          -0.765543,
          -0.73389085,
          -0.695206
         ],
         "xaxis": "x",
         "y": [
          0,
          -0.00644815,
          -0.011723
         ],
         "yaxis": "y"
        },
        {
         "hoverinfo": "none",
         "line": {
          "color": "#006837",
          "dash": "dot",
          "shape": "spline",
          "width": 1
         },
         "mode": "lines",
         "type": "scatter",
         "x": [
          -0.742098,
          -0.730375,
          -0.718652
         ],
         "xaxis": "x",
         "y": [
          0,
          0.001172300000000004,
          0
         ],
         "yaxis": "y"
        },
        {
         "hoverinfo": "none",
         "line": {
          "color": "#006837",
          "dash": "dot",
          "shape": "spline",
          "width": 1
         },
         "mode": "lines",
         "type": "scatter",
         "x": [
          -0.718652,
          -0.7081013,
          -0.695206
         ],
         "xaxis": "x",
         "y": [
          0,
          0.00644815,
          0.011723
         ],
         "yaxis": "y"
        },
        {
         "hoverinfo": "none",
         "line": {
          "color": "#006837",
          "dash": "dot",
          "shape": "spline",
          "width": 1
         },
         "mode": "lines",
         "type": "scatter",
         "x": [
          -0.718652,
          -0.7081013,
          -0.695206
         ],
         "xaxis": "x",
         "y": [
          0,
          -0.00644815,
          -0.011723
         ],
         "yaxis": "y"
        },
        {
         "hoverinfo": "none",
         "line": {
          "color": "#05713c",
          "dash": "dot",
          "shape": "spline",
          "width": 1
         },
         "mode": "lines",
         "type": "scatter",
         "x": [
          -0.695206,
          -0.17940065,
          0.242621
         ],
         "xaxis": "x",
         "y": [
          0.011723,
          0.00644815,
          0
         ],
         "yaxis": "y"
        },
        {
         "hoverinfo": "none",
         "line": {
          "color": "#006837",
          "dash": "dot",
          "shape": "spline",
          "width": 1
         },
         "mode": "lines",
         "type": "scatter",
         "x": [
          -0.695206,
          -0.68231175,
          -0.671761
         ],
         "xaxis": "x",
         "y": [
          -0.011723,
          -0.00644815,
          0
         ],
         "yaxis": "y"
        },
        {
         "hoverinfo": "none",
         "line": {
          "color": "#006837",
          "dash": "dot",
          "shape": "spline",
          "width": 1
         },
         "mode": "lines",
         "type": "scatter",
         "x": [
          -0.671761,
          -0.660038,
          -0.648315
         ],
         "xaxis": "x",
         "y": [
          0,
          0.001172300000000004,
          0
         ],
         "yaxis": "y"
        },
        {
         "hoverinfo": "none",
         "line": {
          "color": "#006837",
          "dash": "dot",
          "shape": "spline",
          "width": 1
         },
         "mode": "lines",
         "type": "scatter",
         "x": [
          -0.648315,
          -0.636592,
          -0.624869
         ],
         "xaxis": "x",
         "y": [
          0,
          0.0011722999999999985,
          0
         ],
         "yaxis": "y"
        },
        {
         "hoverinfo": "none",
         "line": {
          "color": "#006837",
          "dash": "dot",
          "shape": "spline",
          "width": 1
         },
         "mode": "lines",
         "type": "scatter",
         "x": [
          -0.624869,
          -0.6143183,
          -0.601423
         ],
         "xaxis": "x",
         "y": [
          0,
          0.00644815,
          0.011723
         ],
         "yaxis": "y"
        },
        {
         "hoverinfo": "none",
         "line": {
          "color": "#006837",
          "dash": "dot",
          "shape": "spline",
          "width": 1
         },
         "mode": "lines",
         "type": "scatter",
         "x": [
          -0.624869,
          -0.6143183,
          -0.601423
         ],
         "xaxis": "x",
         "y": [
          0,
          -0.00644815,
          -0.011723
         ],
         "yaxis": "y"
        },
        {
         "hoverinfo": "none",
         "line": {
          "color": "#006837",
          "dash": "dot",
          "shape": "spline",
          "width": 1
         },
         "mode": "lines",
         "type": "scatter",
         "x": [
          -0.601423,
          -0.59087225,
          -0.577978
         ],
         "xaxis": "x",
         "y": [
          0.011723,
          0.01817115,
          0.023446
         ],
         "yaxis": "y"
        },
        {
         "hoverinfo": "none",
         "line": {
          "color": "#006837",
          "dash": "dot",
          "shape": "spline",
          "width": 1
         },
         "mode": "lines",
         "type": "scatter",
         "x": [
          -0.601423,
          -0.58852775,
          -0.577978
         ],
         "xaxis": "x",
         "y": [
          0.011723,
          0.00644815,
          0
         ],
         "yaxis": "y"
        },
        {
         "hoverinfo": "none",
         "line": {
          "color": "#006837",
          "dash": "dot",
          "shape": "spline",
          "width": 1
         },
         "mode": "lines",
         "type": "scatter",
         "x": [
          -0.601423,
          -0.58852775,
          -0.577978
         ],
         "xaxis": "x",
         "y": [
          0.011723,
          -0.004103549999999999,
          -0.023446
         ],
         "yaxis": "y"
        },
        {
         "hoverinfo": "none",
         "line": {
          "color": "#148e4b",
          "dash": "dot",
          "shape": "spline",
          "width": 1
         },
         "mode": "lines",
         "type": "scatter",
         "x": [
          -0.577978,
          -0.3200753,
          -0.109064
         ],
         "xaxis": "x",
         "y": [
          0.023446,
          0.012895300000000002,
          0
         ],
         "yaxis": "y"
        },
        {
         "hoverinfo": "none",
         "line": {
          "color": "#006837",
          "dash": "dot",
          "shape": "spline",
          "width": 1
         },
         "mode": "lines",
         "type": "scatter",
         "x": [
          -0.577978,
          -0.402136,
          -0.226293
         ],
         "xaxis": "x",
         "y": [
          0,
          0.017584250000000003,
          0
         ],
         "yaxis": "y"
        },
        {
         "hoverinfo": "none",
         "line": {
          "color": "#219c52",
          "dash": "dot",
          "shape": "spline",
          "width": 1
         },
         "mode": "lines",
         "type": "scatter",
         "x": [
          -0.577978,
          -0.5650826999999999,
          -0.554532
         ],
         "xaxis": "x",
         "y": [
          -0.023446,
          -0.012895300000000002,
          0
         ],
         "yaxis": "y"
        },
        {
         "hoverinfo": "none",
         "line": {
          "color": "#08773f",
          "dash": "dot",
          "shape": "spline",
          "width": 1
         },
         "mode": "lines",
         "type": "scatter",
         "x": [
          -0.554532,
          -0.542809,
          -0.531086
         ],
         "xaxis": "x",
         "y": [
          0,
          0.001172300000000004,
          0
         ],
         "yaxis": "y"
        },
        {
         "hoverinfo": "none",
         "line": {
          "color": "#4eb15d",
          "dash": "dot",
          "shape": "spline",
          "width": 1
         },
         "mode": "lines",
         "type": "scatter",
         "x": [
          -0.531086,
          -0.52053625,
          -0.507641
         ],
         "xaxis": "x",
         "y": [
          0,
          0.00644815,
          0.011723
         ],
         "yaxis": "y"
        },
        {
         "hoverinfo": "none",
         "line": {
          "color": "#4eb15d",
          "dash": "dot",
          "shape": "spline",
          "width": 1
         },
         "mode": "lines",
         "type": "scatter",
         "x": [
          -0.531086,
          -0.52053625,
          -0.507641
         ],
         "xaxis": "x",
         "y": [
          0,
          -0.00644815,
          -0.011723
         ],
         "yaxis": "y"
        },
        {
         "hoverinfo": "none",
         "line": {
          "color": "#006837",
          "dash": "dot",
          "shape": "spline",
          "width": 1
         },
         "mode": "lines",
         "type": "scatter",
         "x": [
          -0.507641,
          -0.495918,
          -0.484195
         ],
         "xaxis": "x",
         "y": [
          0.011723,
          0.012895300000000002,
          0.011723
         ],
         "yaxis": "y"
        },
        {
         "hoverinfo": "none",
         "line": {
          "color": "#006837",
          "dash": "dot",
          "shape": "spline",
          "width": 1
         },
         "mode": "lines",
         "type": "scatter",
         "x": [
          -0.507641,
          -0.4947457,
          -0.484195
         ],
         "xaxis": "x",
         "y": [
          0.011723,
          0.0011723000000000003,
          -0.011723
         ],
         "yaxis": "y"
        },
        {
         "hoverinfo": "none",
         "line": {
          "color": "#006837",
          "dash": "dot",
          "shape": "spline",
          "width": 1
         },
         "mode": "lines",
         "type": "scatter",
         "x": [
          -0.507641,
          -0.49709030000000004,
          -0.484195
         ],
         "xaxis": "x",
         "y": [
          -0.011723,
          0.0011723000000000003,
          0.011723
         ],
         "yaxis": "y"
        },
        {
         "hoverinfo": "none",
         "line": {
          "color": "#006837",
          "dash": "dot",
          "shape": "spline",
          "width": 1
         },
         "mode": "lines",
         "type": "scatter",
         "x": [
          -0.507641,
          -0.495918,
          -0.484195
         ],
         "xaxis": "x",
         "y": [
          -0.011723,
          -0.012895300000000002,
          -0.011723
         ],
         "yaxis": "y"
        },
        {
         "hoverinfo": "none",
         "line": {
          "color": "#026c39",
          "dash": "dot",
          "shape": "spline",
          "width": 1
         },
         "mode": "lines",
         "type": "scatter",
         "x": [
          -0.484195,
          -0.38103375,
          -0.29663
         ],
         "xaxis": "x",
         "y": [
          0.011723,
          0.006448150000000001,
          0
         ],
         "yaxis": "y"
        },
        {
         "hoverinfo": "none",
         "line": {
          "color": "#006837",
          "dash": "dot",
          "shape": "spline",
          "width": 1
         },
         "mode": "lines",
         "type": "scatter",
         "x": [
          -0.484195,
          -0.4712997,
          -0.460749
         ],
         "xaxis": "x",
         "y": [
          -0.011723,
          -0.00644815,
          0
         ],
         "yaxis": "y"
        },
        {
         "hoverinfo": "none",
         "line": {
          "color": "#006837",
          "dash": "dot",
          "shape": "spline",
          "width": 1
         },
         "mode": "lines",
         "type": "scatter",
         "x": [
          -0.460749,
          -0.449026,
          -0.437304
         ],
         "xaxis": "x",
         "y": [
          0,
          0.0011722499999999997,
          0
         ],
         "yaxis": "y"
        },
        {
         "hoverinfo": "none",
         "line": {
          "color": "#006837",
          "dash": "dot",
          "shape": "spline",
          "width": 1
         },
         "mode": "lines",
         "type": "scatter",
         "x": [
          -0.437304,
          -0.425581,
          -0.413858
         ],
         "xaxis": "x",
         "y": [
          0,
          0.0011723000000000011,
          0
         ],
         "yaxis": "y"
        },
        {
         "hoverinfo": "none",
         "line": {
          "color": "#006837",
          "dash": "dot",
          "shape": "spline",
          "width": 1
         },
         "mode": "lines",
         "type": "scatter",
         "x": [
          -0.413858,
          -0.402135,
          -0.390412
         ],
         "xaxis": "x",
         "y": [
          0,
          0.0011723000000000011,
          0
         ],
         "yaxis": "y"
        },
        {
         "hoverinfo": "none",
         "line": {
          "color": "#006837",
          "dash": "dot",
          "shape": "spline",
          "width": 1
         },
         "mode": "lines",
         "type": "scatter",
         "x": [
          -0.390412,
          -0.37869,
          -0.366967
         ],
         "xaxis": "x",
         "y": [
          0,
          0.0011722499999999997,
          0
         ],
         "yaxis": "y"
        },
        {
         "hoverinfo": "none",
         "line": {
          "color": "#006837",
          "dash": "dot",
          "shape": "spline",
          "width": 1
         },
         "mode": "lines",
         "type": "scatter",
         "x": [
          -0.366967,
          -0.355244,
          -0.343521
         ],
         "xaxis": "x",
         "y": [
          0,
          0.0011722999999999985,
          0
         ],
         "yaxis": "y"
        },
        {
         "hoverinfo": "none",
         "line": {
          "color": "#006837",
          "dash": "dot",
          "shape": "spline",
          "width": 1
         },
         "mode": "lines",
         "type": "scatter",
         "x": [
          -0.343521,
          -0.331798,
          -0.320075
         ],
         "xaxis": "x",
         "y": [
          0,
          0.0011723000000000011,
          0
         ],
         "yaxis": "y"
        },
        {
         "hoverinfo": "none",
         "line": {
          "color": "#016a38",
          "dash": "dot",
          "shape": "spline",
          "width": 1
         },
         "mode": "lines",
         "type": "scatter",
         "x": [
          -0.320075,
          -0.29663,
          -0.273184
         ],
         "xaxis": "x",
         "y": [
          0,
          0.002344550000000001,
          0
         ],
         "yaxis": "y"
        },
        {
         "hoverinfo": "none",
         "line": {
          "color": "#006837",
          "dash": "dot",
          "shape": "spline",
          "width": 1
         },
         "mode": "lines",
         "type": "scatter",
         "x": [
          -0.273184,
          -0.261461,
          -0.249738
         ],
         "xaxis": "x",
         "y": [
          0,
          0.0011722999999999998,
          0
         ],
         "yaxis": "y"
        },
        {
         "hoverinfo": "none",
         "line": {
          "color": "#006837",
          "dash": "dot",
          "shape": "spline",
          "width": 1
         },
         "mode": "lines",
         "type": "scatter",
         "x": [
          -0.249738,
          -0.238016,
          -0.226293
         ],
         "xaxis": "x",
         "y": [
          0,
          0.0011722499999999997,
          0
         ],
         "yaxis": "y"
        },
        {
         "hoverinfo": "none",
         "line": {
          "color": "#006837",
          "dash": "dot",
          "shape": "spline",
          "width": 1
         },
         "mode": "lines",
         "type": "scatter",
         "x": [
          -0.226293,
          -0.21457,
          -0.202847
         ],
         "xaxis": "x",
         "y": [
          0,
          0.0011722999999999998,
          0
         ],
         "yaxis": "y"
        },
        {
         "hoverinfo": "none",
         "line": {
          "color": "#006837",
          "dash": "dot",
          "shape": "spline",
          "width": 1
         },
         "mode": "lines",
         "type": "scatter",
         "x": [
          -0.202847,
          -0.191124,
          -0.179401
         ],
         "xaxis": "x",
         "y": [
          0,
          0.0011722999999999998,
          0
         ],
         "yaxis": "y"
        },
        {
         "hoverinfo": "none",
         "line": {
          "color": "#006837",
          "dash": "dot",
          "shape": "spline",
          "width": 1
         },
         "mode": "lines",
         "type": "scatter",
         "x": [
          -0.179401,
          -0.167678,
          -0.155956
         ],
         "xaxis": "x",
         "y": [
          0,
          0.0011722499999999997,
          0
         ],
         "yaxis": "y"
        },
        {
         "hoverinfo": "none",
         "line": {
          "color": "#006837",
          "dash": "dot",
          "shape": "spline",
          "width": 1
         },
         "mode": "lines",
         "type": "scatter",
         "x": [
          -0.155956,
          -0.144233,
          -0.13251
         ],
         "xaxis": "x",
         "y": [
          0,
          0.0011723000000000011,
          0
         ],
         "yaxis": "y"
        },
        {
         "hoverinfo": "none",
         "line": {
          "color": "#f88c51",
          "dash": "dot",
          "shape": "spline",
          "width": 1
         },
         "mode": "lines",
         "type": "scatter",
         "x": [
          -0.13251,
          -0.097342,
          -0.062173
         ],
         "xaxis": "x",
         "y": [
          0,
          0.0035168499999999993,
          0
         ],
         "yaxis": "y"
        },
        {
         "hoverinfo": "none",
         "line": {
          "color": "#006837",
          "dash": "dot",
          "shape": "spline",
          "width": 1
         },
         "mode": "lines",
         "type": "scatter",
         "x": [
          -0.109064,
          -0.097342,
          -0.085619
         ],
         "xaxis": "x",
         "y": [
          0,
          0.0011722499999999997,
          0
         ],
         "yaxis": "y"
        },
        {
         "hoverinfo": "none",
         "line": {
          "color": "#0a7b41",
          "dash": "dot",
          "shape": "spline",
          "width": 1
         },
         "mode": "lines",
         "type": "scatter",
         "x": [
          -0.085619,
          -0.053966850000000004,
          -0.015282
         ],
         "xaxis": "x",
         "y": [
          0,
          0.00644815,
          0.011723
         ],
         "yaxis": "y"
        },
        {
         "hoverinfo": "none",
         "line": {
          "color": "#0a7b41",
          "dash": "dot",
          "shape": "spline",
          "width": 1
         },
         "mode": "lines",
         "type": "scatter",
         "x": [
          -0.085619,
          -0.053966850000000004,
          -0.015282
         ],
         "xaxis": "x",
         "y": [
          0,
          -0.00644815,
          -0.011723
         ],
         "yaxis": "y"
        },
        {
         "hoverinfo": "none",
         "line": {
          "color": "#05713c",
          "dash": "dot",
          "shape": "spline",
          "width": 1
         },
         "mode": "lines",
         "type": "scatter",
         "x": [
          -0.062173,
          -0.05045,
          -0.038727
         ],
         "xaxis": "x",
         "y": [
          0,
          0.0011723000000000003,
          0
         ],
         "yaxis": "y"
        },
        {
         "hoverinfo": "none",
         "line": {
          "color": "#a50026",
          "dash": "dot",
          "shape": "spline",
          "width": 1
         },
         "mode": "lines",
         "type": "scatter",
         "x": [
          -0.038727,
          -0.01762655,
          0.008164
         ],
         "xaxis": "x",
         "y": [
          0,
          0.0128953,
          0.023446
         ],
         "yaxis": "y"
        },
        {
         "hoverinfo": "none",
         "line": {
          "color": "#a50026",
          "dash": "dot",
          "shape": "spline",
          "width": 1
         },
         "mode": "lines",
         "type": "scatter",
         "x": [
          -0.038727,
          -0.015282,
          0.008164
         ],
         "xaxis": "x",
         "y": [
          0,
          0.00234455,
          0
         ],
         "yaxis": "y"
        },
        {
         "hoverinfo": "none",
         "line": {
          "color": "#a50026",
          "dash": "dot",
          "shape": "spline",
          "width": 1
         },
         "mode": "lines",
         "type": "scatter",
         "x": [
          -0.038727,
          -0.01762655,
          0.008164
         ],
         "xaxis": "x",
         "y": [
          0,
          -0.0128953,
          -0.023446
         ],
         "yaxis": "y"
        },
        {
         "hoverinfo": "none",
         "line": {
          "color": "#05713c",
          "dash": "dot",
          "shape": "spline",
          "width": 1
         },
         "mode": "lines",
         "type": "scatter",
         "x": [
          -0.015282,
          0.40674,
          0.828763
         ],
         "xaxis": "x",
         "y": [
          0.011723,
          0.05392525000000001,
          0.011723
         ],
         "yaxis": "y"
        },
        {
         "hoverinfo": "none",
         "line": {
          "color": "#05713c",
          "dash": "dot",
          "shape": "spline",
          "width": 1
         },
         "mode": "lines",
         "type": "scatter",
         "x": [
          -0.015282,
          0.44894225,
          0.828763
         ],
         "xaxis": "x",
         "y": [
          0.011723,
          0.0011723000000000003,
          -0.011723
         ],
         "yaxis": "y"
        },
        {
         "hoverinfo": "none",
         "line": {
          "color": "#a50026",
          "dash": "dot",
          "shape": "spline",
          "width": 1
         },
         "mode": "lines",
         "type": "scatter",
         "x": [
          -0.015282,
          -0.004731300000000001,
          0.008164
         ],
         "xaxis": "x",
         "y": [
          -0.011723,
          0.007620450000000001,
          0.023446
         ],
         "yaxis": "y"
        },
        {
         "hoverinfo": "none",
         "line": {
          "color": "#a50026",
          "dash": "dot",
          "shape": "spline",
          "width": 1
         },
         "mode": "lines",
         "type": "scatter",
         "x": [
          -0.015282,
          -0.0023867000000000003,
          0.008164
         ],
         "xaxis": "x",
         "y": [
          -0.011723,
          -0.00644815,
          0
         ],
         "yaxis": "y"
        },
        {
         "hoverinfo": "none",
         "line": {
          "color": "#a50026",
          "dash": "dot",
          "shape": "spline",
          "width": 1
         },
         "mode": "lines",
         "type": "scatter",
         "x": [
          -0.015282,
          -0.0047313,
          0.008164
         ],
         "xaxis": "x",
         "y": [
          -0.011723,
          -0.01817115,
          -0.023446
         ],
         "yaxis": "y"
        },
        {
         "hoverinfo": "none",
         "line": {
          "color": "#04703b",
          "dash": "dot",
          "shape": "spline",
          "width": 1
         },
         "mode": "lines",
         "type": "scatter",
         "x": [
          0.008164,
          0.019887,
          0.03161
         ],
         "xaxis": "x",
         "y": [
          0,
          0.0011723000000000003,
          0
         ],
         "yaxis": "y"
        },
        {
         "hoverinfo": "none",
         "line": {
          "color": "#0e8245",
          "dash": "dot",
          "shape": "spline",
          "width": 1
         },
         "mode": "lines",
         "type": "scatter",
         "x": [
          0.008164,
          0.03395455,
          0.055055
         ],
         "xaxis": "x",
         "y": [
          -0.023446,
          -0.012895300000000002,
          0
         ],
         "yaxis": "y"
        },
        {
         "hoverinfo": "none",
         "line": {
          "color": "#05713c",
          "dash": "dot",
          "shape": "spline",
          "width": 1
         },
         "mode": "lines",
         "type": "scatter",
         "x": [
          0.055055,
          0.0656057,
          0.078501
         ],
         "xaxis": "x",
         "y": [
          0,
          0.00644815,
          0.011723
         ],
         "yaxis": "y"
        },
        {
         "hoverinfo": "none",
         "line": {
          "color": "#05713c",
          "dash": "dot",
          "shape": "spline",
          "width": 1
         },
         "mode": "lines",
         "type": "scatter",
         "x": [
          0.055055,
          0.0656057,
          0.078501
         ],
         "xaxis": "x",
         "y": [
          0,
          -0.00644815,
          -0.011723
         ],
         "yaxis": "y"
        },
        {
         "hoverinfo": "none",
         "line": {
          "color": "#1e9a51",
          "dash": "dot",
          "shape": "spline",
          "width": 1
         },
         "mode": "lines",
         "type": "scatter",
         "x": [
          0.078501,
          0.0913963,
          0.101947
         ],
         "xaxis": "x",
         "y": [
          0.011723,
          0.00644815,
          0
         ],
         "yaxis": "y"
        },
        {
         "hoverinfo": "none",
         "line": {
          "color": "#1e9a51",
          "dash": "dot",
          "shape": "spline",
          "width": 1
         },
         "mode": "lines",
         "type": "scatter",
         "x": [
          0.078501,
          0.0913963,
          0.101947
         ],
         "xaxis": "x",
         "y": [
          -0.011723,
          -0.00644815,
          0
         ],
         "yaxis": "y"
        },
        {
         "hoverinfo": "none",
         "line": {
          "color": "#016a38",
          "dash": "dot",
          "shape": "spline",
          "width": 1
         },
         "mode": "lines",
         "type": "scatter",
         "x": [
          0.101947,
          0.11367,
          0.125393
         ],
         "xaxis": "x",
         "y": [
          0,
          0.0011723000000000005,
          0
         ],
         "yaxis": "y"
        },
        {
         "hoverinfo": "none",
         "line": {
          "color": "#87cb67",
          "dash": "dot",
          "shape": "spline",
          "width": 1
         },
         "mode": "lines",
         "type": "scatter",
         "x": [
          0.125393,
          0.137116,
          0.148838
         ],
         "xaxis": "x",
         "y": [
          0,
          0.0011722499999999997,
          0
         ],
         "yaxis": "y"
        },
        {
         "hoverinfo": "none",
         "line": {
          "color": "#016a38",
          "dash": "dot",
          "shape": "spline",
          "width": 1
         },
         "mode": "lines",
         "type": "scatter",
         "x": [
          0.148838,
          0.160561,
          0.172284
         ],
         "xaxis": "x",
         "y": [
          0,
          0.0011722999999999998,
          0
         ],
         "yaxis": "y"
        },
        {
         "hoverinfo": "none",
         "line": {
          "color": "#016a38",
          "dash": "dot",
          "shape": "spline",
          "width": 1
         },
         "mode": "lines",
         "type": "scatter",
         "x": [
          0.172284,
          0.184007,
          0.19573
         ],
         "xaxis": "x",
         "y": [
          0,
          0.0011722999999999998,
          0
         ],
         "yaxis": "y"
        },
        {
         "hoverinfo": "none",
         "line": {
          "color": "#006837",
          "dash": "dot",
          "shape": "spline",
          "width": 1
         },
         "mode": "lines",
         "type": "scatter",
         "x": [
          0.19573,
          0.207452,
          0.219175
         ],
         "xaxis": "x",
         "y": [
          0,
          0.0011722500000000012,
          0
         ],
         "yaxis": "y"
        },
        {
         "hoverinfo": "none",
         "line": {
          "color": "#05713c",
          "dash": "dot",
          "shape": "spline",
          "width": 1
         },
         "mode": "lines",
         "type": "scatter",
         "x": [
          0.219175,
          0.230898,
          0.242621
         ],
         "xaxis": "x",
         "y": [
          0,
          0.0011722999999999998,
          0
         ],
         "yaxis": "y"
        },
        {
         "hoverinfo": "none",
         "line": {
          "color": "#006837",
          "dash": "dot",
          "shape": "spline",
          "width": 1
         },
         "mode": "lines",
         "type": "scatter",
         "x": [
          0.242621,
          0.254344,
          0.266067
         ],
         "xaxis": "x",
         "y": [
          0,
          0.0011722999999999998,
          0
         ],
         "yaxis": "y"
        },
        {
         "hoverinfo": "none",
         "line": {
          "color": "#006837",
          "dash": "dot",
          "shape": "spline",
          "width": 1
         },
         "mode": "lines",
         "type": "scatter",
         "x": [
          0.266067,
          0.27661775,
          0.289512
         ],
         "xaxis": "x",
         "y": [
          0,
          -0.00644815,
          -0.011723
         ],
         "yaxis": "y"
        },
        {
         "hoverinfo": "none",
         "line": {
          "color": "#006837",
          "dash": "dot",
          "shape": "spline",
          "width": 1
         },
         "mode": "lines",
         "type": "scatter",
         "x": [
          0.289512,
          0.3024073,
          0.312958
         ],
         "xaxis": "x",
         "y": [
          0.011723,
          0.00644815,
          0
         ],
         "yaxis": "y"
        },
        {
         "hoverinfo": "none",
         "line": {
          "color": "#006837",
          "dash": "dot",
          "shape": "spline",
          "width": 1
         },
         "mode": "lines",
         "type": "scatter",
         "x": [
          0.289512,
          0.3153026,
          0.336404
         ],
         "xaxis": "x",
         "y": [
          -0.011723,
          -0.00644815,
          0
         ],
         "yaxis": "y"
        },
        {
         "hoverinfo": "none",
         "line": {
          "color": "#006837",
          "dash": "dot",
          "shape": "spline",
          "width": 1
         },
         "mode": "lines",
         "type": "scatter",
         "x": [
          0.312958,
          0.324681,
          0.336404
         ],
         "xaxis": "x",
         "y": [
          0,
          0.0011722999999999985,
          0
         ],
         "yaxis": "y"
        },
        {
         "hoverinfo": "none",
         "line": {
          "color": "#006837",
          "dash": "dot",
          "shape": "spline",
          "width": 1
         },
         "mode": "lines",
         "type": "scatter",
         "x": [
          0.336404,
          0.348126,
          0.359849
         ],
         "xaxis": "x",
         "y": [
          0,
          0.0011722499999999997,
          0
         ],
         "yaxis": "y"
        },
        {
         "hoverinfo": "none",
         "line": {
          "color": "#026c39",
          "dash": "dot",
          "shape": "spline",
          "width": 1
         },
         "mode": "lines",
         "type": "scatter",
         "x": [
          0.359849,
          0.3703997,
          0.383295
         ],
         "xaxis": "x",
         "y": [
          0,
          0.012895300000000002,
          0.023446
         ],
         "yaxis": "y"
        },
        {
         "hoverinfo": "none",
         "line": {
          "color": "#026c39",
          "dash": "dot",
          "shape": "spline",
          "width": 1
         },
         "mode": "lines",
         "type": "scatter",
         "x": [
          0.359849,
          0.371572,
          0.383295
         ],
         "xaxis": "x",
         "y": [
          0,
          0.0011723000000000011,
          0
         ],
         "yaxis": "y"
        },
        {
         "hoverinfo": "none",
         "line": {
          "color": "#026c39",
          "dash": "dot",
          "shape": "spline",
          "width": 1
         },
         "mode": "lines",
         "type": "scatter",
         "x": [
          0.359849,
          0.3703997,
          0.383295
         ],
         "xaxis": "x",
         "y": [
          0,
          -0.012895300000000002,
          -0.023446
         ],
         "yaxis": "y"
        },
        {
         "hoverinfo": "none",
         "line": {
          "color": "#016a38",
          "dash": "dot",
          "shape": "spline",
          "width": 1
         },
         "mode": "lines",
         "type": "scatter",
         "x": [
          0.406741,
          0.418464,
          0.430186
         ],
         "xaxis": "x",
         "y": [
          0,
          0.0011722499999999997,
          0
         ],
         "yaxis": "y"
        },
        {
         "hoverinfo": "none",
         "line": {
          "color": "#016a38",
          "dash": "dot",
          "shape": "spline",
          "width": 1
         },
         "mode": "lines",
         "type": "scatter",
         "x": [
          0.430186,
          0.441909,
          0.453632
         ],
         "xaxis": "x",
         "y": [
          0,
          0.0011722999999999985,
          0
         ],
         "yaxis": "y"
        },
        {
         "hoverinfo": "none",
         "line": {
          "color": "#006837",
          "dash": "dot",
          "shape": "spline",
          "width": 1
         },
         "mode": "lines",
         "type": "scatter",
         "x": [
          0.453632,
          0.465355,
          0.477078
         ],
         "xaxis": "x",
         "y": [
          0,
          0.0011723000000000011,
          0
         ],
         "yaxis": "y"
        },
        {
         "hoverinfo": "none",
         "line": {
          "color": "#006837",
          "dash": "dot",
          "shape": "spline",
          "width": 1
         },
         "mode": "lines",
         "type": "scatter",
         "x": [
          0.477078,
          0.4888,
          0.500523
         ],
         "xaxis": "x",
         "y": [
          0,
          0.0011722500000000025,
          0
         ],
         "yaxis": "y"
        },
        {
         "hoverinfo": "none",
         "line": {
          "color": "#036e3a",
          "dash": "dot",
          "shape": "spline",
          "width": 1
         },
         "mode": "lines",
         "type": "scatter",
         "x": [
          0.500523,
          0.5110737,
          0.523969
         ],
         "xaxis": "x",
         "y": [
          0,
          0.00644815,
          0.011723
         ],
         "yaxis": "y"
        },
        {
         "hoverinfo": "none",
         "line": {
          "color": "#036e3a",
          "dash": "dot",
          "shape": "spline",
          "width": 1
         },
         "mode": "lines",
         "type": "scatter",
         "x": [
          0.500523,
          0.5110737,
          0.523969
         ],
         "xaxis": "x",
         "y": [
          0,
          -0.00644815,
          -0.011723
         ],
         "yaxis": "y"
        },
        {
         "hoverinfo": "none",
         "line": {
          "color": "#016a38",
          "dash": "dot",
          "shape": "spline",
          "width": 1
         },
         "mode": "lines",
         "type": "scatter",
         "x": [
          0.523969,
          0.629474,
          0.73498
         ],
         "xaxis": "x",
         "y": [
          0.011723,
          0.02227355,
          0.011723
         ],
         "yaxis": "y"
        },
        {
         "hoverinfo": "none",
         "line": {
          "color": "#016a38",
          "dash": "dot",
          "shape": "spline",
          "width": 1
         },
         "mode": "lines",
         "type": "scatter",
         "x": [
          0.523969,
          0.64002455,
          0.73498
         ],
         "xaxis": "x",
         "y": [
          0.011723,
          0.0011723,
          -0.011723
         ],
         "yaxis": "y"
        },
        {
         "hoverinfo": "none",
         "line": {
          "color": "#016a38",
          "dash": "dot",
          "shape": "spline",
          "width": 1
         },
         "mode": "lines",
         "type": "scatter",
         "x": [
          0.523969,
          0.5368643,
          0.547415
         ],
         "xaxis": "x",
         "y": [
          -0.011723,
          -0.00644815,
          0
         ],
         "yaxis": "y"
        },
        {
         "hoverinfo": "none",
         "line": {
          "color": "#036e3a",
          "dash": "dot",
          "shape": "spline",
          "width": 1
         },
         "mode": "lines",
         "type": "scatter",
         "x": [
          0.547415,
          0.55796575,
          0.57086
         ],
         "xaxis": "x",
         "y": [
          0,
          0.00644815,
          0.011723
         ],
         "yaxis": "y"
        },
        {
         "hoverinfo": "none",
         "line": {
          "color": "#036e3a",
          "dash": "dot",
          "shape": "spline",
          "width": 1
         },
         "mode": "lines",
         "type": "scatter",
         "x": [
          0.547415,
          0.55796575,
          0.57086
         ],
         "xaxis": "x",
         "y": [
          0,
          -0.00644815,
          -0.011723
         ],
         "yaxis": "y"
        },
        {
         "hoverinfo": "none",
         "line": {
          "color": "#016a38",
          "dash": "dot",
          "shape": "spline",
          "width": 1
         },
         "mode": "lines",
         "type": "scatter",
         "x": [
          0.57086,
          0.65292,
          0.73498
         ],
         "xaxis": "x",
         "y": [
          0.011723,
          0.019928999999999995,
          0.011723
         ],
         "yaxis": "y"
        },
        {
         "hoverinfo": "none",
         "line": {
          "color": "#016a38",
          "dash": "dot",
          "shape": "spline",
          "width": 1
         },
         "mode": "lines",
         "type": "scatter",
         "x": [
          0.57086,
          0.661126,
          0.73498
         ],
         "xaxis": "x",
         "y": [
          0.011723,
          0.0011723000000000003,
          -0.011723
         ],
         "yaxis": "y"
        },
        {
         "hoverinfo": "none",
         "line": {
          "color": "#016a38",
          "dash": "dot",
          "shape": "spline",
          "width": 1
         },
         "mode": "lines",
         "type": "scatter",
         "x": [
          0.57086,
          0.5837553,
          0.594306
         ],
         "xaxis": "x",
         "y": [
          -0.011723,
          -0.00644815,
          0
         ],
         "yaxis": "y"
        },
        {
         "hoverinfo": "none",
         "line": {
          "color": "#036e3a",
          "dash": "dot",
          "shape": "spline",
          "width": 1
         },
         "mode": "lines",
         "type": "scatter",
         "x": [
          0.594306,
          0.6048567,
          0.617752
         ],
         "xaxis": "x",
         "y": [
          0,
          0.00644815,
          0.011723
         ],
         "yaxis": "y"
        },
        {
         "hoverinfo": "none",
         "line": {
          "color": "#036e3a",
          "dash": "dot",
          "shape": "spline",
          "width": 1
         },
         "mode": "lines",
         "type": "scatter",
         "x": [
          0.594306,
          0.6048567,
          0.617752
         ],
         "xaxis": "x",
         "y": [
          0,
          -0.00644815,
          -0.011723
         ],
         "yaxis": "y"
        },
        {
         "hoverinfo": "none",
         "line": {
          "color": "#016a38",
          "dash": "dot",
          "shape": "spline",
          "width": 1
         },
         "mode": "lines",
         "type": "scatter",
         "x": [
          0.617752,
          0.676366,
          0.73498
         ],
         "xaxis": "x",
         "y": [
          0.011723,
          0.0175844,
          0.011723
         ],
         "yaxis": "y"
        },
        {
         "hoverinfo": "none",
         "line": {
          "color": "#016a38",
          "dash": "dot",
          "shape": "spline",
          "width": 1
         },
         "mode": "lines",
         "type": "scatter",
         "x": [
          0.617752,
          0.6822274,
          0.73498
         ],
         "xaxis": "x",
         "y": [
          0.011723,
          0.0011723,
          -0.011723
         ],
         "yaxis": "y"
        },
        {
         "hoverinfo": "none",
         "line": {
          "color": "#016a38",
          "dash": "dot",
          "shape": "spline",
          "width": 1
         },
         "mode": "lines",
         "type": "scatter",
         "x": [
          0.617752,
          0.63064625,
          0.641197
         ],
         "xaxis": "x",
         "y": [
          -0.011723,
          -0.00644815,
          0
         ],
         "yaxis": "y"
        },
        {
         "hoverinfo": "none",
         "line": {
          "color": "#036e3a",
          "dash": "dot",
          "shape": "spline",
          "width": 1
         },
         "mode": "lines",
         "type": "scatter",
         "x": [
          0.641197,
          0.6517476999999999,
          0.664643
         ],
         "xaxis": "x",
         "y": [
          0,
          0.00644815,
          0.011723
         ],
         "yaxis": "y"
        },
        {
         "hoverinfo": "none",
         "line": {
          "color": "#036e3a",
          "dash": "dot",
          "shape": "spline",
          "width": 1
         },
         "mode": "lines",
         "type": "scatter",
         "x": [
          0.641197,
          0.6517476999999999,
          0.664643
         ],
         "xaxis": "x",
         "y": [
          0,
          -0.00644815,
          -0.011723
         ],
         "yaxis": "y"
        },
        {
         "hoverinfo": "none",
         "line": {
          "color": "#016a38",
          "dash": "dot",
          "shape": "spline",
          "width": 1
         },
         "mode": "lines",
         "type": "scatter",
         "x": [
          0.664643,
          0.699812,
          0.73498
         ],
         "xaxis": "x",
         "y": [
          0.011723,
          0.01523985,
          0.011723
         ],
         "yaxis": "y"
        },
        {
         "hoverinfo": "none",
         "line": {
          "color": "#016a38",
          "dash": "dot",
          "shape": "spline",
          "width": 1
         },
         "mode": "lines",
         "type": "scatter",
         "x": [
          0.664643,
          0.70332885,
          0.73498
         ],
         "xaxis": "x",
         "y": [
          0.011723,
          0.0011723000000000003,
          -0.011723
         ],
         "yaxis": "y"
        },
        {
         "hoverinfo": "none",
         "line": {
          "color": "#016a38",
          "dash": "dot",
          "shape": "spline",
          "width": 1
         },
         "mode": "lines",
         "type": "scatter",
         "x": [
          0.664643,
          0.6775383,
          0.688089
         ],
         "xaxis": "x",
         "y": [
          -0.011723,
          -0.00644815,
          0
         ],
         "yaxis": "y"
        },
        {
         "hoverinfo": "none",
         "line": {
          "color": "#016a38",
          "dash": "dot",
          "shape": "spline",
          "width": 1
         },
         "mode": "lines",
         "type": "scatter",
         "x": [
          0.688089,
          0.699812,
          0.711534
         ],
         "xaxis": "x",
         "y": [
          0,
          0.0011722500000000025,
          0
         ],
         "yaxis": "y"
        },
        {
         "hoverinfo": "none",
         "line": {
          "color": "#016a38",
          "dash": "dot",
          "shape": "spline",
          "width": 1
         },
         "mode": "lines",
         "type": "scatter",
         "x": [
          0.711534,
          0.7220847,
          0.73498
         ],
         "xaxis": "x",
         "y": [
          0,
          0.00644815,
          0.011723
         ],
         "yaxis": "y"
        },
        {
         "hoverinfo": "none",
         "line": {
          "color": "#016a38",
          "dash": "dot",
          "shape": "spline",
          "width": 1
         },
         "mode": "lines",
         "type": "scatter",
         "x": [
          0.711534,
          0.7220847,
          0.73498
         ],
         "xaxis": "x",
         "y": [
          0,
          -0.00644815,
          -0.011723
         ],
         "yaxis": "y"
        },
        {
         "hoverinfo": "none",
         "line": {
          "color": "#006837",
          "dash": "dot",
          "shape": "spline",
          "width": 1
         },
         "mode": "lines",
         "type": "scatter",
         "x": [
          0.73498,
          0.7478753,
          0.758426
         ],
         "xaxis": "x",
         "y": [
          0.011723,
          0.00644815,
          0
         ],
         "yaxis": "y"
        },
        {
         "hoverinfo": "none",
         "line": {
          "color": "#016a38",
          "dash": "dot",
          "shape": "spline",
          "width": 1
         },
         "mode": "lines",
         "type": "scatter",
         "x": [
          0.73498,
          0.76663115,
          0.805317
         ],
         "xaxis": "x",
         "y": [
          -0.011723,
          0.007620450000000001,
          0.023446
         ],
         "yaxis": "y"
        },
        {
         "hoverinfo": "none",
         "line": {
          "color": "#016a38",
          "dash": "dot",
          "shape": "spline",
          "width": 1
         },
         "mode": "lines",
         "type": "scatter",
         "x": [
          0.73498,
          0.7736648500000001,
          0.805317
         ],
         "xaxis": "x",
         "y": [
          -0.011723,
          -0.00644815,
          0
         ],
         "yaxis": "y"
        },
        {
         "hoverinfo": "none",
         "line": {
          "color": "#016a38",
          "dash": "dot",
          "shape": "spline",
          "width": 1
         },
         "mode": "lines",
         "type": "scatter",
         "x": [
          0.73498,
          0.76663115,
          0.805317
         ],
         "xaxis": "x",
         "y": [
          -0.011723,
          -0.01817115,
          -0.023446
         ],
         "yaxis": "y"
        },
        {
         "hoverinfo": "none",
         "line": {
          "color": "#006837",
          "dash": "dot",
          "shape": "spline",
          "width": 1
         },
         "mode": "lines",
         "type": "scatter",
         "x": [
          0.758426,
          0.770148,
          0.781871
         ],
         "xaxis": "x",
         "y": [
          0,
          0.001172249999999997,
          0
         ],
         "yaxis": "y"
        },
        {
         "hoverinfo": "none",
         "line": {
          "color": "#016a38",
          "dash": "dot",
          "shape": "spline",
          "width": 1
         },
         "mode": "lines",
         "type": "scatter",
         "x": [
          0.781871,
          0.7924217,
          0.805317
         ],
         "xaxis": "x",
         "y": [
          0,
          0.012895300000000002,
          0.023446
         ],
         "yaxis": "y"
        },
        {
         "hoverinfo": "none",
         "line": {
          "color": "#016a38",
          "dash": "dot",
          "shape": "spline",
          "width": 1
         },
         "mode": "lines",
         "type": "scatter",
         "x": [
          0.781871,
          0.793594,
          0.805317
         ],
         "xaxis": "x",
         "y": [
          0,
          0.0011722999999999985,
          0
         ],
         "yaxis": "y"
        },
        {
         "hoverinfo": "none",
         "line": {
          "color": "#016a38",
          "dash": "dot",
          "shape": "spline",
          "width": 1
         },
         "mode": "lines",
         "type": "scatter",
         "x": [
          0.781871,
          0.7924217,
          0.805317
         ],
         "xaxis": "x",
         "y": [
          0,
          -0.012895300000000002,
          -0.023446
         ],
         "yaxis": "y"
        },
        {
         "hoverinfo": "none",
         "line": {
          "color": "#036e3a",
          "dash": "dot",
          "shape": "spline",
          "width": 1
         },
         "mode": "lines",
         "type": "scatter",
         "x": [
          0.805317,
          0.8369691499999999,
          0.875654
         ],
         "xaxis": "x",
         "y": [
          0,
          0.0128953,
          0.023446
         ],
         "yaxis": "y"
        },
        {
         "hoverinfo": "none",
         "line": {
          "color": "#036e3a",
          "dash": "dot",
          "shape": "spline",
          "width": 1
         },
         "mode": "lines",
         "type": "scatter",
         "x": [
          0.805317,
          0.840486,
          0.875654
         ],
         "xaxis": "x",
         "y": [
          0,
          0.003516850000000005,
          0
         ],
         "yaxis": "y"
        },
        {
         "hoverinfo": "none",
         "line": {
          "color": "#036e3a",
          "dash": "dot",
          "shape": "spline",
          "width": 1
         },
         "mode": "lines",
         "type": "scatter",
         "x": [
          0.805317,
          0.8369691499999999,
          0.875654
         ],
         "xaxis": "x",
         "y": [
          0,
          -0.0128953,
          -0.023446
         ],
         "yaxis": "y"
        },
        {
         "hoverinfo": "none",
         "line": {
          "color": "#016a38",
          "dash": "dot",
          "shape": "spline",
          "width": 1
         },
         "mode": "lines",
         "type": "scatter",
         "x": [
          0.805317,
          0.82641745,
          0.852208
         ],
         "xaxis": "x",
         "y": [
          -0.023446,
          -0.004103549999999999,
          0.011723
         ],
         "yaxis": "y"
        },
        {
         "hoverinfo": "none",
         "line": {
          "color": "#016a38",
          "dash": "dot",
          "shape": "spline",
          "width": 1
         },
         "mode": "lines",
         "type": "scatter",
         "x": [
          0.805317,
          0.83110655,
          0.852208
         ],
         "xaxis": "x",
         "y": [
          -0.023446,
          -0.01817115,
          -0.011723
         ],
         "yaxis": "y"
        },
        {
         "hoverinfo": "none",
         "line": {
          "color": "#016a38",
          "dash": "dot",
          "shape": "spline",
          "width": 1
         },
         "mode": "lines",
         "type": "scatter",
         "x": [
          0.828763,
          0.840486,
          0.852208
         ],
         "xaxis": "x",
         "y": [
          0.011723,
          0.012895249999999997,
          0.011723
         ],
         "yaxis": "y"
        },
        {
         "hoverinfo": "none",
         "line": {
          "color": "#016a38",
          "dash": "dot",
          "shape": "spline",
          "width": 1
         },
         "mode": "lines",
         "type": "scatter",
         "x": [
          0.828763,
          0.8416582499999999,
          0.852208
         ],
         "xaxis": "x",
         "y": [
          0.011723,
          0.0011723000000000003,
          -0.011723
         ],
         "yaxis": "y"
        },
        {
         "hoverinfo": "none",
         "line": {
          "color": "#016a38",
          "dash": "dot",
          "shape": "spline",
          "width": 1
         },
         "mode": "lines",
         "type": "scatter",
         "x": [
          0.828763,
          0.83931375,
          0.852208
         ],
         "xaxis": "x",
         "y": [
          -0.011723,
          0.0011723000000000003,
          0.011723
         ],
         "yaxis": "y"
        },
        {
         "hoverinfo": "none",
         "line": {
          "color": "#016a38",
          "dash": "dot",
          "shape": "spline",
          "width": 1
         },
         "mode": "lines",
         "type": "scatter",
         "x": [
          0.828763,
          0.840486,
          0.852208
         ],
         "xaxis": "x",
         "y": [
          -0.011723,
          -0.012895249999999997,
          -0.011723
         ],
         "yaxis": "y"
        },
        {
         "hoverinfo": "none",
         "line": {
          "color": "#036e3a",
          "dash": "dot",
          "shape": "spline",
          "width": 1
         },
         "mode": "lines",
         "type": "scatter",
         "x": [
          0.852208,
          0.8627587,
          0.875654
         ],
         "xaxis": "x",
         "y": [
          0.011723,
          0.01817115,
          0.023446
         ],
         "yaxis": "y"
        },
        {
         "hoverinfo": "none",
         "line": {
          "color": "#036e3a",
          "dash": "dot",
          "shape": "spline",
          "width": 1
         },
         "mode": "lines",
         "type": "scatter",
         "x": [
          0.852208,
          0.8651033,
          0.875654
         ],
         "xaxis": "x",
         "y": [
          0.011723,
          0.00644815,
          0
         ],
         "yaxis": "y"
        },
        {
         "hoverinfo": "none",
         "line": {
          "color": "#036e3a",
          "dash": "dot",
          "shape": "spline",
          "width": 1
         },
         "mode": "lines",
         "type": "scatter",
         "x": [
          0.852208,
          0.8651033,
          0.875654
         ],
         "xaxis": "x",
         "y": [
          0.011723,
          -0.00410355,
          -0.023446
         ],
         "yaxis": "y"
        },
        {
         "hoverinfo": "none",
         "line": {
          "color": "#036e3a",
          "dash": "dot",
          "shape": "spline",
          "width": 1
         },
         "mode": "lines",
         "type": "scatter",
         "x": [
          0.852208,
          0.8627587,
          0.875654
         ],
         "xaxis": "x",
         "y": [
          -0.011723,
          0.00762045,
          0.023446
         ],
         "yaxis": "y"
        },
        {
         "hoverinfo": "none",
         "line": {
          "color": "#036e3a",
          "dash": "dot",
          "shape": "spline",
          "width": 1
         },
         "mode": "lines",
         "type": "scatter",
         "x": [
          0.852208,
          0.8651033,
          0.875654
         ],
         "xaxis": "x",
         "y": [
          -0.011723,
          -0.00644815,
          0
         ],
         "yaxis": "y"
        },
        {
         "hoverinfo": "none",
         "line": {
          "color": "#036e3a",
          "dash": "dot",
          "shape": "spline",
          "width": 1
         },
         "mode": "lines",
         "type": "scatter",
         "x": [
          0.852208,
          0.8627587,
          0.875654
         ],
         "xaxis": "x",
         "y": [
          -0.011723,
          -0.01817115,
          -0.023446
         ],
         "yaxis": "y"
        },
        {
         "hoverinfo": "none",
         "line": {
          "color": "#006837",
          "dash": "dot",
          "shape": "spline",
          "width": 1
         },
         "mode": "lines",
         "type": "scatter",
         "x": [
          0.875654,
          0.8885493,
          0.8991
         ],
         "xaxis": "x",
         "y": [
          -0.023446,
          -0.012895300000000002,
          0
         ],
         "yaxis": "y"
        },
        {
         "hoverinfo": "none",
         "line": {
          "color": "#036e3a",
          "dash": "dot",
          "shape": "spline",
          "width": 1
         },
         "mode": "lines",
         "type": "scatter",
         "x": [
          0.8991,
          0.910823,
          0.922546
         ],
         "xaxis": "x",
         "y": [
          0,
          0.0011722999999999985,
          0
         ],
         "yaxis": "y"
        },
        {
         "hoverinfo": "none",
         "line": {
          "color": "#006837",
          "dash": "dot",
          "shape": "spline",
          "width": 1
         },
         "mode": "lines",
         "type": "scatter",
         "x": [
          0.922546,
          0.934268,
          0.945991
         ],
         "xaxis": "x",
         "y": [
          0,
          0.0011722500000000025,
          0
         ],
         "yaxis": "y"
        },
        {
         "hovertemplate": " %{text}",
         "marker": {
          "color": [
           "grey",
           "blue",
           "gold",
           "gold",
           "blue",
           "blue",
           "gold",
           "blue",
           "blue",
           "blue",
           "purple",
           "blue",
           "blue",
           "blue",
           "blue",
           "blue",
           "blue",
           "blue",
           "blue",
           "blue",
           "blue",
           "blue",
           "blue",
           "cyan",
           "blue",
           "blue",
           "blue",
           "blue",
           "blue",
           "blue",
           "blue",
           "blue",
           "blue",
           "orange",
           "blue",
           "orange",
           "blue",
           "orange",
           "blue",
           "orange",
           "cyan",
           "blue",
           "blue",
           "blue",
           "blue",
           "blue",
           "blue",
           "blue",
           "blue",
           "orange",
           "blue",
           "orange",
           "blue",
           "blue",
           "cyan",
           "blue",
           "blue",
           "cyan",
           "blue",
           "blue",
           "blue",
           "blue",
           "blue",
           "blue",
           "blue",
           "blue",
           "blue",
           "blue",
           "blue",
           "grey",
           "orange",
           "orange",
           "blue",
           "blue",
           "cyan",
           "cyan",
           "cyan",
           "blue",
           "blue",
           "blue",
           "blue",
           "blue",
           "blue",
           "blue",
           "blue",
           "blue",
           "blue",
           "blue",
           "blue",
           "blue",
           "blue",
           "blue",
           "blue",
           "blue",
           "blue",
           "blue",
           "blue",
           "blue",
           "blue",
           "cyan",
           "blue",
           "blue",
           "blue",
           "blue",
           "blue",
           "blue",
           "cyan",
           "cyan",
           "blue",
           "blue",
           "blue",
           "cyan"
          ],
          "line": {
           "color": "black",
           "width": 0.5
          },
          "size": 10,
          "symbol": [
           "diamond-cross",
           "circle",
           "diamond",
           "diamond",
           "circle",
           "circle",
           "diamond",
           "circle",
           "circle",
           "circle",
           "pentagon",
           "circle",
           "circle",
           "circle",
           "circle",
           "circle",
           "circle",
           "circle",
           "circle",
           "circle",
           "circle",
           "circle",
           "circle",
           "square",
           "circle",
           "circle",
           "circle",
           "circle",
           "circle",
           "circle",
           "circle",
           "circle",
           "circle",
           "cross",
           "circle",
           "cross",
           "circle",
           "cross",
           "circle",
           "cross",
           "square",
           "circle",
           "circle",
           "circle",
           "circle",
           "circle",
           "circle",
           "circle",
           "circle",
           "cross",
           "circle",
           "cross",
           "circle",
           "circle",
           "square",
           "circle",
           "circle",
           "square",
           "circle",
           "circle",
           "circle",
           "circle",
           "circle",
           "circle",
           "circle",
           "circle",
           "circle",
           "circle",
           "circle",
           "diamond-cross",
           "cross",
           "cross",
           "circle",
           "circle",
           "square",
           "square",
           "square",
           "circle",
           "circle",
           "circle",
           "circle",
           "circle",
           "circle",
           "circle",
           "circle",
           "circle",
           "circle",
           "circle",
           "circle",
           "circle",
           "circle",
           "circle",
           "circle",
           "circle",
           "circle",
           "circle",
           "circle",
           "circle",
           "circle",
           "square",
           "circle",
           "circle",
           "circle",
           "circle",
           "circle",
           "circle",
           "square",
           "square",
           "circle",
           "circle",
           "circle",
           "square"
          ]
         },
         "mode": "markers",
         "text": [
          "WORK.__MTF_PD_PIT_VERSION",
          "WORK.__MTF_PD_PIT_DISTINCT_RATING1",
          "INPUT.PD_VIEW",
          "INPUT.PD_RR_RATING",
          "WORK.__MTF_PD_PIT_DISTINCT_RATING2",
          "WORK.__MTF_PD_PIT_DISTINCT_ZVAL1",
          "INPUT.PD_Z_FACTOR",
          "WORK.__MTF_PD_PIT_DISTINCT_ZVAL2",
          "WORK.__MTF_PD_PIT_VIEW",
          "WORK.__MTF_PD_PIT_VIEW2",
          "WORK.__MTF_PD_PIT_PROC_MULTIYEAR_DATA",
          "WORK.__MTF_PD_NON_MIGRATIONS_IN",
          "WORK.__MTF_PD_PIT_PROC_ONEYEAR_DATA",
          "WORK.__MTF_PD_PIT_ODR_WIDE",
          "WORK.__MTF_PD_PIT_OUTSTANDING_STATS_1",
          "WORK.__MTF_PD_PIT_ODR_WIDE_TP",
          "WORK.__MTF_PD_PIT_ODR_LONG",
          "WORK.__MTF_PD_PIT_MULTIYEAR_OBS_GRP",
          "WORK.__MTF_PD_PIT_RATING_PARAMS",
          "WORK.__MTF_PD_PIT_TTCMATRIX_TMP1",
          "WORK.__MTF_PD_PIT_TTCMATRIX_TMP2",
          "WORK.__MTF_PD_PIT_TTCMATRIX_TMP3",
          "WORK.__MTF_PD_PIT_TTCMATRIX_NONNULL",
          "WORK.__MTF_PD_PIT_IRB_OLD",
          "WORK.__MTF_PD_PIT_ASSET_CORRELATION",
          "WORK.__MTF_PD_PIT_PIC",
          "WORK.__MTF_PD_PIT_TTCMATRIX_SCALED",
          "WORK.__MTF_PD_PIT_TTC_MATRIX_SCALED2",
          "WORK.__MTF_PD_PIT_TTCMATRIX_LONG",
          "WORK.__MTF_PD_PIT_RISK_RATING_NAMES",
          "WORK.__MTF_PD_PIT_TTCMATRIX_WIDE_1",
          "WORK.__MTF_PD_PIT_TTC_PD_OUT",
          "WORK.__MTF_PD_PIT_TTCMATRIX_WIDE_2",
          "WORK.__MTF_PD_PIT_TTCMATRIX_WIDE_2",
          "WORK.__MTF_PD_PIT_TTCMATRIX_WIDE_3",
          "WORK.__MTF_PD_PIT_TTCMATRIX_WIDE_3",
          "WORK.__MTF_PD_PIT_TTCMATRIX_WIDE_4",
          "WORK.__MTF_PD_PIT_TTCMATRIX_WIDE_4",
          "WORK.__MTF_PD_PIT_TTCMATRIX_WIDE_5",
          "WORK.__MTF_PD_PIT_TTCMATRIX_WIDE_5",
          "WORK.__MTF_PD_PIT_TTC_PD_OUT_TMP",
          "WORK.__MTF_PD_PIT_MULTIYEAR_TTC_PD",
          "WORK.__MTF_PIT_PITPD_VERSION",
          "WORK.__MTF_PIT_PIC_UNIQUE",
          "WORK.__MTF_PIT_COUNTRY_DATES",
          "WORK.__MTF_PIT_COUNTRY_DATES_MULTI",
          "WORK.__MTF_PIT_COUNTRY_PIC_MULTI",
          "WORK.__MTF_PIT_COUNTRY_PIC_MULTI_RANK",
          "WORK.__MTF_PIT_ONEYEAR_PDS",
          "WORK.__MTF_PIT_ONEYEAR_PDS",
          "WORK.__MTF_PIT_MULTI_PDS",
          "WORK.__MTF_PIT_MULTI_PDS",
          "WORK.__MTF_PD_PIT_ONEYEAR_PIT_PD_1",
          "WORK.__MTF_PIT_MULTIYEAR_ROW_INFO",
          "WORK.__MTF_PD_PIT_MULTIYEAR_PIT_PD_1",
          "WORK.__MTF_PD_PIT_ONEYEAR_PIT_PD_0",
          "WORK.__MTF_PD_PIT_MULTIYEAR_PIT_PD_0",
          "WORK.__MTF_PD_PIT_ONEYEAR_PIT_PD",
          "WORK.__MTF_PD_PIT_MULTIYEAR_PIT_PD",
          "WORK.__MTF_PD_PIT_MULTIYEAR_PIT_PD_20",
          "WORK.__MTF_PD_PIT_MULTIYEAR_TTC_PD_20",
          "WORK.__MTF_PD_PIT_MULTIYEAR_BOTH_PD",
          "WORK.__MTF_PD_PIT_MARGINAL_BOTH_PD",
          "WORK.__MTF_PD_PIT_MULTIYEAR_PRED",
          "WORK.__MTF_PD_PIT_MULTIYEAR_PRED2",
          "WORK.__MTF_PD_PIT_MULTIYEAR_PRED_STD",
          "WORK.__MTF_PD_PIT_MULTIYEAR_PRED_GRP",
          "WORK.__MTF_PD_PIT_MULTIYEAR_BOTH_GRP",
          "WORK.__MTF_PD_PIT_MULTIYEAR_CI",
          "WORK.__MTF_PD_PIT_MULTIYEAR_ME",
          "WORK.__MTF_PD_PIT_MULTIYEAR_CI",
          "WORK.__MTF_PD_PIT_MULTIYEAR_ME",
          "WORK.__MTF_PD_PIT_MULTIYEAR_CI_ME",
          "WORK.__MTF_PD_PIT_CONCLUSION",
          "WORK.TEST_PD_PIT_U",
          "WORK.TEST_PD_PIT",
          "WORK.TEST_PD_TTC_IN",
          "WORK.__MTF_PD_NON_TO_RATINGS",
          "WORK.__MTF_PD_NON_RATING_MIGRATIONS",
          "WORK.__MTF_PD_NON_RATING_MIG_COUNTS_1",
          "WORK.__MTF_PD_NON_MIGRATION_TEMPLATE",
          "WORK.__MTF_PD_NON_RATING_MIG_RES_1",
          "WORK.__MTF_PD_NON_RATING_MIG_RES2_1",
          "WORK.__MTF_PD_NON_RATING_MIG_COUNTS_2",
          "WORK.__MTF_PD_NON_RATING_MIG_RES_2",
          "WORK.__MTF_PD_NON_RATING_MIG_RES2_2",
          "WORK.__MTF_PD_NON_RATING_MIG_COUNTS_3",
          "WORK.__MTF_PD_NON_RATING_MIG_RES_3",
          "WORK.__MTF_PD_NON_RATING_MIG_RES2_3",
          "WORK.__MTF_PD_NON_RATING_MIG_COUNTS_4",
          "WORK.__MTF_PD_NON_RATING_MIG_RES_4",
          "WORK.__MTF_PD_NON_RATING_MIG_RES2_4",
          "WORK.__MTF_PD_NON_RATING_MIG_COUNTS_5",
          "WORK.__MTF_PD_NON_RATING_MIG_RES_5",
          "WORK.__MTF_PD_NON_RATING_MIG_RES2_5",
          "WORK.__MTF_PD_NON_RATING_MIG_RES2",
          "WORK.__MTF_PD_NON_RATING_PD_TTC",
          "WORK.__MTF_PD_MARK_RATING_MIG_AVG1",
          "WORK.__MTF_PD_MARK_RATING_MIG_AVG2",
          "WORK.TEST_PD_MARK_IN",
          "WORK.__MTF_PD_NON_RATING_MIG_RES3_1",
          "WORK.__MTF_PD_NON_RATING_PD_TTC_TABLE",
          "WORK.__MTF_PD_NON_ONEYEAR_PIT_PD_FULL",
          "WORK.__MTF_PD_NON_ONEYEAR_PIT_PD_DEF",
          "WORK.__MTF_PD_NON_JOINED_PDS",
          "WORK.__MTF_PD_MARK_RATING_MIG_AVG1_20",
          "WORK.TEST_PD_NON_IN",
          "WORK.TEST_PD_STB_IN",
          "WORK.__MTF_PD_PIT_ODR_WIDE_DIS",
          "WORK.__MTF_PD_PIT_ODR_WIDE_TP_DIS",
          "WORK.__MTF_PD_PIT_ODR_LONG_DIS",
          "WORK.TEST_PD_DIS_IN"
         ],
         "textposition": "top center",
         "type": "scatter",
         "x": [
          -0.976554,
          -0.953109,
          -1,
          -1,
          -0.929663,
          -0.906217,
          -1,
          -0.882772,
          -0.859326,
          -0.83588,
          -0.812435,
          -0.788989,
          -0.788989,
          -0.788989,
          -0.765543,
          -0.742098,
          -0.718652,
          -0.695206,
          -0.695206,
          -0.671761,
          -0.648315,
          -0.624869,
          -0.601423,
          -0.601423,
          -0.577978,
          -0.577978,
          -0.577978,
          -0.554532,
          -0.531086,
          -0.507641,
          -0.507641,
          -0.484195,
          -0.484195,
          -0.460749,
          -0.437304,
          -0.413858,
          -0.390412,
          -0.366967,
          -0.343521,
          -0.320075,
          -0.29663,
          -0.273184,
          -0.249738,
          -0.226293,
          -0.202847,
          -0.179401,
          -0.155956,
          -0.13251,
          -0.109064,
          -0.085619,
          -0.062173,
          -0.038727,
          -0.015282,
          -0.015282,
          0.008164,
          0.008164,
          0.008164,
          0.03161,
          0.055055,
          0.078501,
          0.078501,
          0.101947,
          0.125393,
          0.148838,
          0.172284,
          0.19573,
          0.219175,
          0.242621,
          0.266067,
          0.289512,
          0.289512,
          0.312958,
          0.336404,
          0.359849,
          0.383295,
          0.383295,
          0.383295,
          0.406741,
          0.430186,
          0.453632,
          0.477078,
          0.500523,
          0.523969,
          0.523969,
          0.547415,
          0.57086,
          0.57086,
          0.594306,
          0.617752,
          0.617752,
          0.641197,
          0.664643,
          0.664643,
          0.688089,
          0.711534,
          0.73498,
          0.73498,
          0.758426,
          0.781871,
          0.805317,
          0.805317,
          0.805317,
          0.828763,
          0.828763,
          0.852208,
          0.852208,
          0.875654,
          0.875654,
          0.875654,
          0.8991,
          0.922546,
          0.945991
         ],
         "xaxis": "x",
         "y": [
          0,
          0,
          0.023446,
          0,
          0,
          0,
          -0.023446,
          0,
          0,
          0,
          0,
          0.023446,
          0,
          -0.023446,
          0,
          0,
          0,
          0.011723,
          -0.011723,
          0,
          0,
          0,
          0.011723,
          -0.011723,
          0.023446,
          0,
          -0.023446,
          0,
          0,
          0.011723,
          -0.011723,
          0.011723,
          -0.011723,
          0,
          0,
          0,
          0,
          0,
          0,
          0,
          0,
          0,
          0,
          0,
          0,
          0,
          0,
          0,
          0,
          0,
          0,
          0,
          0.011723,
          -0.011723,
          0.023446,
          0,
          -0.023446,
          0,
          0,
          0.011723,
          -0.011723,
          0,
          0,
          0,
          0,
          0,
          0,
          0,
          0,
          0.011723,
          -0.011723,
          0,
          0,
          0,
          0.023446,
          0,
          -0.023446,
          0,
          0,
          0,
          0,
          0,
          0.011723,
          -0.011723,
          0,
          0.011723,
          -0.011723,
          0,
          0.011723,
          -0.011723,
          0,
          0.011723,
          -0.011723,
          0,
          0,
          0.011723,
          -0.011723,
          0,
          0,
          0.023446,
          0,
          -0.023446,
          0.011723,
          -0.011723,
          0.011723,
          -0.011723,
          0.023446,
          0,
          -0.023446,
          0,
          0,
          0
         ],
         "yaxis": "y"
        },
        {
         "hovertemplate": " %{text}",
         "marker": {
          "color": [
           3.35,
           0.36,
           3.35,
           0,
           0.36,
           0.19,
           0.01,
           0.19,
           0.72,
           0.47,
           2.69,
           2.69,
           2.69,
           0.23,
           0.03,
           0.02,
           0.06,
           0.06,
           0.08,
           0.06,
           0.06,
           1.32,
           0.05,
           0.03,
           0.07,
           0.04,
           0.04,
           0.12,
           0.12,
           0.12,
           5.35,
           0.18,
           7.46,
           2.3,
           11.31,
           11.31,
           0.06,
           0.06,
           0.06,
           0.06,
           0.65,
           0.05,
           0,
           0.05,
           0.01,
           0.05,
           0.01,
           0.12,
           0.31,
           0.12,
           0.18,
           0.13,
           0.08,
           0.09,
           0.11,
           50.51,
           0.17,
           2.77,
           2.77,
           1.32,
           67.32,
           67.32,
           67.32,
           1.57,
           1.57,
           67.32,
           67.32,
           67.32,
           1.2,
           3.75,
           1.39,
           1.39,
           7.3,
           7.3,
           0.35,
           17.08,
           0.47,
           0.52,
           0.08,
           1.32,
           0.04,
           0.01,
           0.11,
           0.11,
           0.11,
           0.1,
           0.54,
           0.54,
           0.54,
           0.39,
           0.34,
           0.12,
           0.15,
           0.99,
           0.99,
           0.42,
           0.42,
           0.27,
           0.91,
           0.91,
           0.42,
           0.42,
           0.27,
           0.91,
           0.91,
           0.42,
           0.42,
           0.27,
           0.89,
           0.89,
           0.42,
           0.42,
           0.31,
           0.28,
           0.42,
           0.42,
           0.23,
           0.51,
           0.51,
           0.51,
           0.14,
           0.51,
           0.51,
           0.51,
           0.83,
           0.83,
           0.83,
           0.45,
           0.45,
           0.45,
           0.45,
           0.45,
           0.45,
           0.83,
           0.83,
           0.83,
           0.83,
           0.83,
           0.83,
           0.19,
           1.05,
           0
          ],
          "colorbar": {
           "thickness": 15,
           "title": {
            "side": "right",
            "text": "Execution time (s)"
           },
           "xanchor": "left"
          },
          "colorscale": [
           [
            0,
            "rgb(165,0,38)"
           ],
           [
            0.1,
            "rgb(215,48,39)"
           ],
           [
            0.2,
            "rgb(244,109,67)"
           ],
           [
            0.3,
            "rgb(253,174,97)"
           ],
           [
            0.4,
            "rgb(254,224,139)"
           ],
           [
            0.5,
            "rgb(255,255,191)"
           ],
           [
            0.6,
            "rgb(217,239,139)"
           ],
           [
            0.7,
            "rgb(166,217,106)"
           ],
           [
            0.8,
            "rgb(102,189,99)"
           ],
           [
            0.9,
            "rgb(26,152,80)"
           ],
           [
            1,
            "rgb(0,104,55)"
           ]
          ],
          "reversescale": true,
          "showscale": true,
          "size": 8,
          "symbol": "hexagram"
         },
         "mode": "markers",
         "text": [
          "Input Table: WORK.__MTF_PD_PIT_VERSION <br> Output Table: WORK.__MTF_PD_PIT_DISTINCT_RATING1 <br> Step: 2 <br> Start Time: 2021-07-23 18:00:00.840000 <br> Elapsed Time: 3.35",
          "Input Table: WORK.__MTF_PD_PIT_DISTINCT_RATING1 <br> Output Table: WORK.__MTF_PD_PIT_DISTINCT_ZVAL1 <br> Step: 4 <br> Start Time: 2021-07-23 18:00:04.190000 <br> Elapsed Time: 0.36",
          "Input Table: INPUT.PD_VIEW <br> Output Table: WORK.__MTF_PD_PIT_DISTINCT_RATING1 <br> Step: 2 <br> Start Time: 2021-07-23 18:00:00.840000 <br> Elapsed Time: 3.35",
          "Input Table: INPUT.PD_RR_RATING <br> Output Table: WORK.__MTF_PD_PIT_DISTINCT_RATING2 <br> Step: 3 <br> Start Time: 2021-07-23 18:00:04.190000 <br> Elapsed Time: 0.0",
          "Input Table: WORK.__MTF_PD_PIT_DISTINCT_RATING2 <br> Output Table: WORK.__MTF_PD_PIT_DISTINCT_ZVAL1 <br> Step: 4 <br> Start Time: 2021-07-23 18:00:04.190000 <br> Elapsed Time: 0.36",
          "Input Table: WORK.__MTF_PD_PIT_DISTINCT_ZVAL1 <br> Output Table: WORK.__MTF_PD_PIT_VIEW <br> Step: 6 <br> Start Time: 2021-07-23 18:00:04.560000 <br> Elapsed Time: 0.19",
          "Input Table: INPUT.PD_Z_FACTOR <br> Output Table: WORK.__MTF_PD_PIT_DISTINCT_ZVAL2 <br> Step: 5 <br> Start Time: 2021-07-23 18:00:04.550000 <br> Elapsed Time: 0.01",
          "Input Table: WORK.__MTF_PD_PIT_DISTINCT_ZVAL2 <br> Output Table: WORK.__MTF_PD_PIT_VIEW <br> Step: 6 <br> Start Time: 2021-07-23 18:00:04.560000 <br> Elapsed Time: 0.19",
          "Input Table: WORK.__MTF_PD_PIT_VIEW <br> Output Table: WORK.__MTF_PD_PIT_VIEW2 <br> Step: 7 <br> Start Time: 2021-07-23 18:00:04.750000 <br> Elapsed Time: 0.72",
          "Input Table: WORK.__MTF_PD_PIT_VIEW2 <br> Output Table: WORK.__MTF_PD_PIT_PROC_MULTIYEAR_DATA <br> Step: 8 <br> Start Time: 2021-07-23 18:00:05.470000 <br> Elapsed Time: 0.47",
          "Input Table: WORK.__MTF_PD_PIT_PROC_MULTIYEAR_DATA <br> Output Table: WORK.__MTF_PD_NON_MIGRATIONS_IN <br> Step: 9 <br> Start Time: 2021-07-23 18:00:05.940000 <br> Elapsed Time: 2.69",
          "Input Table: WORK.__MTF_PD_PIT_PROC_MULTIYEAR_DATA <br> Output Table: WORK.__MTF_PD_PIT_PROC_ONEYEAR_DATA <br> Step: 9 <br> Start Time: 2021-07-23 18:00:05.940000 <br> Elapsed Time: 2.69",
          "Input Table: WORK.__MTF_PD_PIT_PROC_MULTIYEAR_DATA <br> Output Table: WORK.__MTF_PD_PIT_ODR_WIDE <br> Step: 9 <br> Start Time: 2021-07-23 18:00:05.940000 <br> Elapsed Time: 2.69",
          "Input Table: WORK.__MTF_PD_NON_MIGRATIONS_IN <br> Output Table: WORK.__MTF_PD_NON_TO_RATINGS <br> Step: 60 <br> Start Time: 2021-07-23 18:03:14.030000 <br> Elapsed Time: 0.23",
          "Input Table: WORK.__MTF_PD_PIT_PROC_ONEYEAR_DATA <br> Output Table: WORK.__MTF_PD_PIT_OUTSTANDING_STATS_1 <br> Step: 10 <br> Start Time: 2021-07-23 18:00:08.630000 <br> Elapsed Time: 0.03",
          "Input Table: WORK.__MTF_PD_PIT_ODR_WIDE <br> Output Table: WORK.__MTF_PD_PIT_ODR_WIDE_TP <br> Step: 11 <br> Start Time: 2021-07-23 18:00:08.660000 <br> Elapsed Time: 0.02",
          "Input Table: WORK.__MTF_PD_PIT_OUTSTANDING_STATS_1 <br> Output Table: WORK.__MTF_PD_PIT_MULTIYEAR_OBS_GRP <br> Step: 13 <br> Start Time: 2021-07-23 18:00:08.760000 <br> Elapsed Time: 0.06",
          "Input Table: WORK.__MTF_PD_PIT_OUTSTANDING_STATS_1 <br> Output Table: WORK.__MTF_PD_PIT_RATING_PARAMS <br> Step: 13 <br> Start Time: 2021-07-23 18:00:08.760000 <br> Elapsed Time: 0.06",
          "Input Table: WORK.__MTF_PD_PIT_ODR_WIDE_TP <br> Output Table: WORK.__MTF_PD_PIT_ODR_LONG <br> Step: 12 <br> Start Time: 2021-07-23 18:00:08.680000 <br> Elapsed Time: 0.08",
          "Input Table: WORK.__MTF_PD_PIT_ODR_LONG <br> Output Table: WORK.__MTF_PD_PIT_MULTIYEAR_OBS_GRP <br> Step: 13 <br> Start Time: 2021-07-23 18:00:08.760000 <br> Elapsed Time: 0.06",
          "Input Table: WORK.__MTF_PD_PIT_ODR_LONG <br> Output Table: WORK.__MTF_PD_PIT_RATING_PARAMS <br> Step: 13 <br> Start Time: 2021-07-23 18:00:08.760000 <br> Elapsed Time: 0.06",
          "Input Table: WORK.__MTF_PD_PIT_MULTIYEAR_OBS_GRP <br> Output Table: WORK.__MTF_PD_PIT_MULTIYEAR_BOTH_GRP <br> Step: 53 <br> Start Time: 2021-07-23 18:03:11.800000 <br> Elapsed Time: 1.32",
          "Input Table: WORK.__MTF_PD_PIT_RATING_PARAMS <br> Output Table: WORK.__MTF_PD_PIT_TTCMATRIX_TMP1 <br> Step: 14 <br> Start Time: 2021-07-23 18:00:08.820000 <br> Elapsed Time: 0.05",
          "Input Table: WORK.__MTF_PD_PIT_TTCMATRIX_TMP1 <br> Output Table: WORK.__MTF_PD_PIT_TTCMATRIX_TMP2 <br> Step: 15 <br> Start Time: 2021-07-23 18:00:08.870000 <br> Elapsed Time: 0.03",
          "Input Table: WORK.__MTF_PD_PIT_TTCMATRIX_TMP2 <br> Output Table: WORK.__MTF_PD_PIT_TTCMATRIX_TMP3 <br> Step: 16 <br> Start Time: 2021-07-23 18:00:08.900000 <br> Elapsed Time: 0.07",
          "Input Table: WORK.__MTF_PD_PIT_TTCMATRIX_TMP3 <br> Output Table: WORK.__MTF_PD_PIT_TTCMATRIX_NONNULL <br> Step: 17 <br> Start Time: 2021-07-23 18:00:08.970000 <br> Elapsed Time: 0.04",
          "Input Table: WORK.__MTF_PD_PIT_TTCMATRIX_TMP3 <br> Output Table: WORK.__MTF_PD_PIT_IRB_OLD <br> Step: 17 <br> Start Time: 2021-07-23 18:00:08.970000 <br> Elapsed Time: 0.04",
          "Input Table: WORK.__MTF_PD_PIT_TTCMATRIX_NONNULL <br> Output Table: WORK.__MTF_PD_PIT_ASSET_CORRELATION <br> Step: 18 <br> Start Time: 2021-07-23 18:00:09.010000 <br> Elapsed Time: 0.12",
          "Input Table: WORK.__MTF_PD_PIT_TTCMATRIX_NONNULL <br> Output Table: WORK.__MTF_PD_PIT_PIC <br> Step: 18 <br> Start Time: 2021-07-23 18:00:09.010000 <br> Elapsed Time: 0.12",
          "Input Table: WORK.__MTF_PD_PIT_TTCMATRIX_NONNULL <br> Output Table: WORK.__MTF_PD_PIT_TTCMATRIX_SCALED <br> Step: 18 <br> Start Time: 2021-07-23 18:00:09.010000 <br> Elapsed Time: 0.12",
          "Input Table: WORK.__MTF_PD_PIT_ASSET_CORRELATION <br> Output Table: WORK.__MTF_PIT_ONEYEAR_PDS <br> Step: 38 <br> Start Time: 2021-07-23 18:00:32.220000 <br> Elapsed Time: 5.35",
          "Input Table: WORK.__MTF_PD_PIT_PIC <br> Output Table: WORK.__MTF_PIT_PIC_UNIQUE <br> Step: 33 <br> Start Time: 2021-07-23 18:00:31.630000 <br> Elapsed Time: 0.18",
          "Input Table: WORK.__MTF_PD_PIT_TTCMATRIX_SCALED <br> Output Table: WORK.__MTF_PD_PIT_TTC_MATRIX_SCALED2 <br> Step: 19 <br> Start Time: 2021-07-23 18:00:09.130000 <br> Elapsed Time: 7.46",
          "Input Table: WORK.__MTF_PD_PIT_TTC_MATRIX_SCALED2 <br> Output Table: WORK.__MTF_PD_PIT_TTCMATRIX_LONG <br> Step: 20 <br> Start Time: 2021-07-23 18:00:16.590000 <br> Elapsed Time: 2.3",
          "Input Table: WORK.__MTF_PD_PIT_TTCMATRIX_LONG <br> Output Table: WORK.__MTF_PD_PIT_RISK_RATING_NAMES <br> Step: 21 <br> Start Time: 2021-07-23 18:00:18.890000 <br> Elapsed Time: 11.31",
          "Input Table: WORK.__MTF_PD_PIT_TTCMATRIX_LONG <br> Output Table: WORK.__MTF_PD_PIT_TTCMATRIX_WIDE_1 <br> Step: 21 <br> Start Time: 2021-07-23 18:00:18.890000 <br> Elapsed Time: 11.31",
          "Input Table: WORK.__MTF_PD_PIT_RISK_RATING_NAMES <br> Output Table: WORK.__MTF_PD_PIT_TTC_PD_OUT <br> Step: 22 <br> Start Time: 2021-07-23 18:00:30.200000 <br> Elapsed Time: 0.06",
          "Input Table: WORK.__MTF_PD_PIT_RISK_RATING_NAMES <br> Output Table: WORK.__MTF_PD_PIT_TTCMATRIX_WIDE_2 <br> Step: 22 <br> Start Time: 2021-07-23 18:00:30.200000 <br> Elapsed Time: 0.06",
          "Input Table: WORK.__MTF_PD_PIT_TTCMATRIX_WIDE_1 <br> Output Table: WORK.__MTF_PD_PIT_TTC_PD_OUT <br> Step: 22 <br> Start Time: 2021-07-23 18:00:30.200000 <br> Elapsed Time: 0.06",
          "Input Table: WORK.__MTF_PD_PIT_TTCMATRIX_WIDE_1 <br> Output Table: WORK.__MTF_PD_PIT_TTCMATRIX_WIDE_2 <br> Step: 22 <br> Start Time: 2021-07-23 18:00:30.200000 <br> Elapsed Time: 0.06",
          "Input Table: WORK.__MTF_PD_PIT_TTC_PD_OUT <br> Output Table: WORK.__MTF_PD_PIT_TTC_PD_OUT_TMP <br> Step: 30 <br> Start Time: 2021-07-23 18:00:30.550000 <br> Elapsed Time: 0.65",
          "Input Table: WORK.__MTF_PD_PIT_TTCMATRIX_WIDE_2 <br> Output Table: WORK.__MTF_PD_PIT_TTCMATRIX_WIDE_2 <br> Step: 23 <br> Start Time: 2021-07-23 18:00:30.260000 <br> Elapsed Time: 0.05",
          "Input Table: WORK.__MTF_PD_PIT_TTCMATRIX_WIDE_2 <br> Output Table: WORK.__MTF_PD_PIT_TTCMATRIX_WIDE_3 <br> Step: 24 <br> Start Time: 2021-07-23 18:00:30.310000 <br> Elapsed Time: 0.0",
          "Input Table: WORK.__MTF_PD_PIT_TTCMATRIX_WIDE_3 <br> Output Table: WORK.__MTF_PD_PIT_TTCMATRIX_WIDE_3 <br> Step: 25 <br> Start Time: 2021-07-23 18:00:30.310000 <br> Elapsed Time: 0.05",
          "Input Table: WORK.__MTF_PD_PIT_TTCMATRIX_WIDE_3 <br> Output Table: WORK.__MTF_PD_PIT_TTCMATRIX_WIDE_4 <br> Step: 26 <br> Start Time: 2021-07-23 18:00:30.360000 <br> Elapsed Time: 0.01",
          "Input Table: WORK.__MTF_PD_PIT_TTCMATRIX_WIDE_4 <br> Output Table: WORK.__MTF_PD_PIT_TTCMATRIX_WIDE_4 <br> Step: 27 <br> Start Time: 2021-07-23 18:00:30.370000 <br> Elapsed Time: 0.05",
          "Input Table: WORK.__MTF_PD_PIT_TTCMATRIX_WIDE_4 <br> Output Table: WORK.__MTF_PD_PIT_TTCMATRIX_WIDE_5 <br> Step: 28 <br> Start Time: 2021-07-23 18:00:30.420000 <br> Elapsed Time: 0.01",
          "Input Table: WORK.__MTF_PD_PIT_TTCMATRIX_WIDE_5 <br> Output Table: WORK.__MTF_PD_PIT_TTCMATRIX_WIDE_5 <br> Step: 29 <br> Start Time: 2021-07-23 18:00:30.430000 <br> Elapsed Time: 0.12",
          "Input Table: WORK.__MTF_PD_PIT_TTCMATRIX_WIDE_5 <br> Output Table: WORK.__MTF_PD_PIT_MULTIYEAR_TTC_PD <br> Step: 31 <br> Start Time: 2021-07-23 18:00:31.200000 <br> Elapsed Time: 0.31",
          "Input Table: WORK.__MTF_PD_PIT_MULTIYEAR_TTC_PD <br> Output Table: WORK.__MTF_PIT_PITPD_VERSION <br> Step: 32 <br> Start Time: 2021-07-23 18:00:31.510000 <br> Elapsed Time: 0.12",
          "Input Table: WORK.__MTF_PIT_PITPD_VERSION <br> Output Table: WORK.__MTF_PIT_PIC_UNIQUE <br> Step: 33 <br> Start Time: 2021-07-23 18:00:31.630000 <br> Elapsed Time: 0.18",
          "Input Table: WORK.__MTF_PIT_PIC_UNIQUE <br> Output Table: WORK.__MTF_PIT_COUNTRY_DATES <br> Step: 34 <br> Start Time: 2021-07-23 18:00:31.810000 <br> Elapsed Time: 0.13",
          "Input Table: WORK.__MTF_PIT_COUNTRY_DATES <br> Output Table: WORK.__MTF_PIT_COUNTRY_DATES_MULTI <br> Step: 35 <br> Start Time: 2021-07-23 18:00:31.940000 <br> Elapsed Time: 0.08",
          "Input Table: WORK.__MTF_PIT_COUNTRY_DATES_MULTI <br> Output Table: WORK.__MTF_PIT_COUNTRY_PIC_MULTI <br> Step: 36 <br> Start Time: 2021-07-23 18:00:32.020000 <br> Elapsed Time: 0.09",
          "Input Table: WORK.__MTF_PIT_COUNTRY_PIC_MULTI <br> Output Table: WORK.__MTF_PIT_COUNTRY_PIC_MULTI_RANK <br> Step: 37 <br> Start Time: 2021-07-23 18:00:32.110000 <br> Elapsed Time: 0.11",
          "Input Table: WORK.__MTF_PIT_COUNTRY_PIC_MULTI_RANK <br> Output Table: WORK.__MTF_PIT_MULTI_PDS <br> Step: 40 <br> Start Time: 2021-07-23 18:00:37.740000 <br> Elapsed Time: 50.51",
          "Input Table: WORK.__MTF_PIT_ONEYEAR_PDS <br> Output Table: WORK.__MTF_PIT_ONEYEAR_PDS <br> Step: 39 <br> Start Time: 2021-07-23 18:00:37.570000 <br> Elapsed Time: 0.17",
          "Input Table: WORK.__MTF_PIT_ONEYEAR_PDS <br> Output Table: WORK.__MTF_PD_PIT_ONEYEAR_PIT_PD_1 <br> Step: 42 <br> Start Time: 2021-07-23 18:01:29.570000 <br> Elapsed Time: 2.77",
          "Input Table: WORK.__MTF_PIT_ONEYEAR_PDS <br> Output Table: WORK.__MTF_PIT_MULTIYEAR_ROW_INFO <br> Step: 42 <br> Start Time: 2021-07-23 18:01:29.570000 <br> Elapsed Time: 2.77",
          "Input Table: WORK.__MTF_PIT_MULTI_PDS <br> Output Table: WORK.__MTF_PIT_MULTI_PDS <br> Step: 41 <br> Start Time: 2021-07-23 18:01:28.250000 <br> Elapsed Time: 1.32",
          "Input Table: WORK.__MTF_PIT_MULTI_PDS <br> Output Table: WORK.__MTF_PD_PIT_MULTIYEAR_PIT_PD_1 <br> Step: 43 <br> Start Time: 2021-07-23 18:01:32.340000 <br> Elapsed Time: 67.32",
          "Input Table: WORK.__MTF_PIT_MULTI_PDS <br> Output Table: WORK.__MTF_PD_PIT_ONEYEAR_PIT_PD_0 <br> Step: 43 <br> Start Time: 2021-07-23 18:01:32.340000 <br> Elapsed Time: 67.32",
          "Input Table: WORK.__MTF_PIT_MULTI_PDS <br> Output Table: WORK.__MTF_PD_PIT_MULTIYEAR_PIT_PD_0 <br> Step: 43 <br> Start Time: 2021-07-23 18:01:32.340000 <br> Elapsed Time: 67.32",
          "Input Table: WORK.__MTF_PD_PIT_ONEYEAR_PIT_PD_1 <br> Output Table: WORK.__MTF_PD_NON_ONEYEAR_PIT_PD_FULL <br> Step: 78 <br> Start Time: 2021-07-23 18:03:21.660000 <br> Elapsed Time: 1.57",
          "Input Table: WORK.__MTF_PD_PIT_ONEYEAR_PIT_PD_1 <br> Output Table: WORK.__MTF_PD_NON_ONEYEAR_PIT_PD_DEF <br> Step: 78 <br> Start Time: 2021-07-23 18:03:21.660000 <br> Elapsed Time: 1.57",
          "Input Table: WORK.__MTF_PIT_MULTIYEAR_ROW_INFO <br> Output Table: WORK.__MTF_PD_PIT_MULTIYEAR_PIT_PD_1 <br> Step: 43 <br> Start Time: 2021-07-23 18:01:32.340000 <br> Elapsed Time: 67.32",
          "Input Table: WORK.__MTF_PIT_MULTIYEAR_ROW_INFO <br> Output Table: WORK.__MTF_PD_PIT_ONEYEAR_PIT_PD_0 <br> Step: 43 <br> Start Time: 2021-07-23 18:01:32.340000 <br> Elapsed Time: 67.32",
          "Input Table: WORK.__MTF_PIT_MULTIYEAR_ROW_INFO <br> Output Table: WORK.__MTF_PD_PIT_MULTIYEAR_PIT_PD_0 <br> Step: 43 <br> Start Time: 2021-07-23 18:01:32.340000 <br> Elapsed Time: 67.32",
          "Input Table: WORK.__MTF_PD_PIT_ONEYEAR_PIT_PD_0 <br> Output Table: WORK.__MTF_PD_PIT_ONEYEAR_PIT_PD <br> Step: 44 <br> Start Time: 2021-07-23 18:02:39.660000 <br> Elapsed Time: 1.2",
          "Input Table: WORK.__MTF_PD_PIT_MULTIYEAR_PIT_PD_0 <br> Output Table: WORK.__MTF_PD_PIT_MULTIYEAR_PIT_PD <br> Step: 45 <br> Start Time: 2021-07-23 18:02:40.860000 <br> Elapsed Time: 3.75",
          "Input Table: WORK.__MTF_PD_PIT_MULTIYEAR_PIT_PD <br> Output Table: WORK.__MTF_PD_PIT_MULTIYEAR_PIT_PD_20 <br> Step: 46 <br> Start Time: 2021-07-23 18:02:44.610000 <br> Elapsed Time: 1.39",
          "Input Table: WORK.__MTF_PD_PIT_MULTIYEAR_PIT_PD <br> Output Table: WORK.__MTF_PD_PIT_MULTIYEAR_TTC_PD_20 <br> Step: 46 <br> Start Time: 2021-07-23 18:02:44.610000 <br> Elapsed Time: 1.39",
          "Input Table: WORK.__MTF_PD_PIT_MULTIYEAR_PIT_PD_20 <br> Output Table: WORK.__MTF_PD_PIT_MULTIYEAR_BOTH_PD <br> Step: 47 <br> Start Time: 2021-07-23 18:02:46 <br> Elapsed Time: 7.3",
          "Input Table: WORK.__MTF_PD_PIT_MULTIYEAR_TTC_PD_20 <br> Output Table: WORK.__MTF_PD_PIT_MULTIYEAR_BOTH_PD <br> Step: 47 <br> Start Time: 2021-07-23 18:02:46 <br> Elapsed Time: 7.3",
          "Input Table: WORK.__MTF_PD_PIT_MULTIYEAR_BOTH_PD <br> Output Table: WORK.__MTF_PD_PIT_MARGINAL_BOTH_PD <br> Step: 48 <br> Start Time: 2021-07-23 18:02:53.300000 <br> Elapsed Time: 0.35",
          "Input Table: WORK.__MTF_PD_PIT_MARGINAL_BOTH_PD <br> Output Table: WORK.__MTF_PD_PIT_MULTIYEAR_PRED <br> Step: 49 <br> Start Time: 2021-07-23 18:02:53.650000 <br> Elapsed Time: 17.08",
          "Input Table: WORK.__MTF_PD_PIT_MULTIYEAR_PRED <br> Output Table: WORK.__MTF_PD_PIT_MULTIYEAR_PRED2 <br> Step: 50 <br> Start Time: 2021-07-23 18:03:10.730000 <br> Elapsed Time: 0.47",
          "Input Table: WORK.__MTF_PD_PIT_MULTIYEAR_PRED2 <br> Output Table: WORK.__MTF_PD_PIT_MULTIYEAR_PRED_STD <br> Step: 51 <br> Start Time: 2021-07-23 18:03:11.200000 <br> Elapsed Time: 0.52",
          "Input Table: WORK.__MTF_PD_PIT_MULTIYEAR_PRED_STD <br> Output Table: WORK.__MTF_PD_PIT_MULTIYEAR_PRED_GRP <br> Step: 52 <br> Start Time: 2021-07-23 18:03:11.720000 <br> Elapsed Time: 0.08",
          "Input Table: WORK.__MTF_PD_PIT_MULTIYEAR_PRED_GRP <br> Output Table: WORK.__MTF_PD_PIT_MULTIYEAR_BOTH_GRP <br> Step: 53 <br> Start Time: 2021-07-23 18:03:11.800000 <br> Elapsed Time: 1.32",
          "Input Table: WORK.__MTF_PD_PIT_MULTIYEAR_BOTH_GRP <br> Output Table: WORK.__MTF_PD_PIT_MULTIYEAR_CI <br> Step: 54 <br> Start Time: 2021-07-23 18:03:13.120000 <br> Elapsed Time: 0.04",
          "Input Table: WORK.__MTF_PD_PIT_MULTIYEAR_CI <br> Output Table: WORK.__MTF_PD_PIT_MULTIYEAR_CI <br> Step: 55 <br> Start Time: 2021-07-23 18:03:13.160000 <br> Elapsed Time: 0.01",
          "Input Table: WORK.__MTF_PD_PIT_MULTIYEAR_ME <br> Output Table: WORK.__MTF_PD_PIT_MULTIYEAR_ME <br> Step: 56 <br> Start Time: 2021-07-23 18:03:13.170000 <br> Elapsed Time: 0.11",
          "Input Table: WORK.__MTF_PD_PIT_MULTIYEAR_CI <br> Output Table: WORK.__MTF_PD_PIT_MULTIYEAR_CI_ME <br> Step: 57 <br> Start Time: 2021-07-23 18:03:13.280000 <br> Elapsed Time: 0.11",
          "Input Table: WORK.__MTF_PD_PIT_MULTIYEAR_ME <br> Output Table: WORK.__MTF_PD_PIT_MULTIYEAR_CI_ME <br> Step: 57 <br> Start Time: 2021-07-23 18:03:13.280000 <br> Elapsed Time: 0.11",
          "Input Table: WORK.__MTF_PD_PIT_MULTIYEAR_CI_ME <br> Output Table: WORK.__MTF_PD_PIT_CONCLUSION <br> Step: 58 <br> Start Time: 2021-07-23 18:03:13.390000 <br> Elapsed Time: 0.1",
          "Input Table: WORK.__MTF_PD_PIT_CONCLUSION <br> Output Table: WORK.TEST_PD_PIT_U <br> Step: 59 <br> Start Time: 2021-07-23 18:03:13.490000 <br> Elapsed Time: 0.54",
          "Input Table: WORK.__MTF_PD_PIT_CONCLUSION <br> Output Table: WORK.TEST_PD_PIT <br> Step: 59 <br> Start Time: 2021-07-23 18:03:13.490000 <br> Elapsed Time: 0.54",
          "Input Table: WORK.__MTF_PD_PIT_CONCLUSION <br> Output Table: WORK.TEST_PD_TTC_IN <br> Step: 59 <br> Start Time: 2021-07-23 18:03:13.490000 <br> Elapsed Time: 0.54",
          "Input Table: WORK.__MTF_PD_NON_TO_RATINGS <br> Output Table: WORK.__MTF_PD_NON_RATING_MIGRATIONS <br> Step: 61 <br> Start Time: 2021-07-23 18:03:14.260000 <br> Elapsed Time: 0.39",
          "Input Table: WORK.__MTF_PD_NON_RATING_MIGRATIONS <br> Output Table: WORK.__MTF_PD_NON_RATING_MIG_COUNTS_1 <br> Step: 62 <br> Start Time: 2021-07-23 18:03:14.650000 <br> Elapsed Time: 0.34",
          "Input Table: WORK.__MTF_PD_NON_RATING_MIG_COUNTS_1 <br> Output Table: WORK.__MTF_PD_NON_MIGRATION_TEMPLATE <br> Step: 63 <br> Start Time: 2021-07-23 18:03:14.990000 <br> Elapsed Time: 0.12",
          "Input Table: WORK.__MTF_PD_NON_MIGRATION_TEMPLATE <br> Output Table: WORK.__MTF_PD_NON_RATING_MIG_RES_1 <br> Step: 64 <br> Start Time: 2021-07-23 18:03:15.110000 <br> Elapsed Time: 0.15",
          "Input Table: WORK.__MTF_PD_NON_RATING_MIG_RES_1 <br> Output Table: WORK.__MTF_PD_NON_RATING_MIG_RES2_1 <br> Step: 65 <br> Start Time: 2021-07-23 18:03:15.260000 <br> Elapsed Time: 0.99",
          "Input Table: WORK.__MTF_PD_NON_RATING_MIG_RES_1 <br> Output Table: WORK.__MTF_PD_NON_RATING_MIG_COUNTS_2 <br> Step: 65 <br> Start Time: 2021-07-23 18:03:15.260000 <br> Elapsed Time: 0.99",
          "Input Table: WORK.__MTF_PD_NON_RATING_MIG_RES2_1 <br> Output Table: WORK.__MTF_PD_NON_RATING_MIG_RES2 <br> Step: 74 <br> Start Time: 2021-07-23 18:03:20.360000 <br> Elapsed Time: 0.42",
          "Input Table: WORK.__MTF_PD_NON_RATING_MIG_RES2_1 <br> Output Table: WORK.__MTF_PD_NON_RATING_PD_TTC <br> Step: 74 <br> Start Time: 2021-07-23 18:03:20.360000 <br> Elapsed Time: 0.42",
          "Input Table: WORK.__MTF_PD_NON_RATING_MIG_COUNTS_2 <br> Output Table: WORK.__MTF_PD_NON_RATING_MIG_RES_2 <br> Step: 66 <br> Start Time: 2021-07-23 18:03:16.250000 <br> Elapsed Time: 0.27",
          "Input Table: WORK.__MTF_PD_NON_RATING_MIG_RES_2 <br> Output Table: WORK.__MTF_PD_NON_RATING_MIG_RES2_2 <br> Step: 67 <br> Start Time: 2021-07-23 18:03:16.520000 <br> Elapsed Time: 0.91",
          "Input Table: WORK.__MTF_PD_NON_RATING_MIG_RES_2 <br> Output Table: WORK.__MTF_PD_NON_RATING_MIG_COUNTS_3 <br> Step: 67 <br> Start Time: 2021-07-23 18:03:16.520000 <br> Elapsed Time: 0.91",
          "Input Table: WORK.__MTF_PD_NON_RATING_MIG_RES2_2 <br> Output Table: WORK.__MTF_PD_NON_RATING_MIG_RES2 <br> Step: 74 <br> Start Time: 2021-07-23 18:03:20.360000 <br> Elapsed Time: 0.42",
          "Input Table: WORK.__MTF_PD_NON_RATING_MIG_RES2_2 <br> Output Table: WORK.__MTF_PD_NON_RATING_PD_TTC <br> Step: 74 <br> Start Time: 2021-07-23 18:03:20.360000 <br> Elapsed Time: 0.42",
          "Input Table: WORK.__MTF_PD_NON_RATING_MIG_COUNTS_3 <br> Output Table: WORK.__MTF_PD_NON_RATING_MIG_RES_3 <br> Step: 68 <br> Start Time: 2021-07-23 18:03:17.430000 <br> Elapsed Time: 0.27",
          "Input Table: WORK.__MTF_PD_NON_RATING_MIG_RES_3 <br> Output Table: WORK.__MTF_PD_NON_RATING_MIG_RES2_3 <br> Step: 69 <br> Start Time: 2021-07-23 18:03:17.700000 <br> Elapsed Time: 0.91",
          "Input Table: WORK.__MTF_PD_NON_RATING_MIG_RES_3 <br> Output Table: WORK.__MTF_PD_NON_RATING_MIG_COUNTS_4 <br> Step: 69 <br> Start Time: 2021-07-23 18:03:17.700000 <br> Elapsed Time: 0.91",
          "Input Table: WORK.__MTF_PD_NON_RATING_MIG_RES2_3 <br> Output Table: WORK.__MTF_PD_NON_RATING_MIG_RES2 <br> Step: 74 <br> Start Time: 2021-07-23 18:03:20.360000 <br> Elapsed Time: 0.42",
          "Input Table: WORK.__MTF_PD_NON_RATING_MIG_RES2_3 <br> Output Table: WORK.__MTF_PD_NON_RATING_PD_TTC <br> Step: 74 <br> Start Time: 2021-07-23 18:03:20.360000 <br> Elapsed Time: 0.42",
          "Input Table: WORK.__MTF_PD_NON_RATING_MIG_COUNTS_4 <br> Output Table: WORK.__MTF_PD_NON_RATING_MIG_RES_4 <br> Step: 70 <br> Start Time: 2021-07-23 18:03:18.610000 <br> Elapsed Time: 0.27",
          "Input Table: WORK.__MTF_PD_NON_RATING_MIG_RES_4 <br> Output Table: WORK.__MTF_PD_NON_RATING_MIG_RES2_4 <br> Step: 71 <br> Start Time: 2021-07-23 18:03:18.880000 <br> Elapsed Time: 0.89",
          "Input Table: WORK.__MTF_PD_NON_RATING_MIG_RES_4 <br> Output Table: WORK.__MTF_PD_NON_RATING_MIG_COUNTS_5 <br> Step: 71 <br> Start Time: 2021-07-23 18:03:18.880000 <br> Elapsed Time: 0.89",
          "Input Table: WORK.__MTF_PD_NON_RATING_MIG_RES2_4 <br> Output Table: WORK.__MTF_PD_NON_RATING_MIG_RES2 <br> Step: 74 <br> Start Time: 2021-07-23 18:03:20.360000 <br> Elapsed Time: 0.42",
          "Input Table: WORK.__MTF_PD_NON_RATING_MIG_RES2_4 <br> Output Table: WORK.__MTF_PD_NON_RATING_PD_TTC <br> Step: 74 <br> Start Time: 2021-07-23 18:03:20.360000 <br> Elapsed Time: 0.42",
          "Input Table: WORK.__MTF_PD_NON_RATING_MIG_COUNTS_5 <br> Output Table: WORK.__MTF_PD_NON_RATING_MIG_RES_5 <br> Step: 72 <br> Start Time: 2021-07-23 18:03:19.770000 <br> Elapsed Time: 0.31",
          "Input Table: WORK.__MTF_PD_NON_RATING_MIG_RES_5 <br> Output Table: WORK.__MTF_PD_NON_RATING_MIG_RES2_5 <br> Step: 73 <br> Start Time: 2021-07-23 18:03:20.080000 <br> Elapsed Time: 0.28",
          "Input Table: WORK.__MTF_PD_NON_RATING_MIG_RES2_5 <br> Output Table: WORK.__MTF_PD_NON_RATING_MIG_RES2 <br> Step: 74 <br> Start Time: 2021-07-23 18:03:20.360000 <br> Elapsed Time: 0.42",
          "Input Table: WORK.__MTF_PD_NON_RATING_MIG_RES2_5 <br> Output Table: WORK.__MTF_PD_NON_RATING_PD_TTC <br> Step: 74 <br> Start Time: 2021-07-23 18:03:20.360000 <br> Elapsed Time: 0.42",
          "Input Table: WORK.__MTF_PD_NON_RATING_MIG_RES2 <br> Output Table: WORK.__MTF_PD_MARK_RATING_MIG_AVG1 <br> Step: 75 <br> Start Time: 2021-07-23 18:03:20.780000 <br> Elapsed Time: 0.23",
          "Input Table: WORK.__MTF_PD_NON_RATING_PD_TTC <br> Output Table: WORK.TEST_PD_MARK_IN <br> Step: 77 <br> Start Time: 2021-07-23 18:03:21.150000 <br> Elapsed Time: 0.51",
          "Input Table: WORK.__MTF_PD_NON_RATING_PD_TTC <br> Output Table: WORK.__MTF_PD_NON_RATING_MIG_RES3_1 <br> Step: 77 <br> Start Time: 2021-07-23 18:03:21.150000 <br> Elapsed Time: 0.51",
          "Input Table: WORK.__MTF_PD_NON_RATING_PD_TTC <br> Output Table: WORK.__MTF_PD_NON_RATING_PD_TTC_TABLE <br> Step: 77 <br> Start Time: 2021-07-23 18:03:21.150000 <br> Elapsed Time: 0.51",
          "Input Table: WORK.__MTF_PD_MARK_RATING_MIG_AVG1 <br> Output Table: WORK.__MTF_PD_MARK_RATING_MIG_AVG2 <br> Step: 76 <br> Start Time: 2021-07-23 18:03:21.010000 <br> Elapsed Time: 0.14",
          "Input Table: WORK.__MTF_PD_MARK_RATING_MIG_AVG2 <br> Output Table: WORK.TEST_PD_MARK_IN <br> Step: 77 <br> Start Time: 2021-07-23 18:03:21.150000 <br> Elapsed Time: 0.51",
          "Input Table: WORK.__MTF_PD_MARK_RATING_MIG_AVG2 <br> Output Table: WORK.__MTF_PD_NON_RATING_MIG_RES3_1 <br> Step: 77 <br> Start Time: 2021-07-23 18:03:21.150000 <br> Elapsed Time: 0.51",
          "Input Table: WORK.__MTF_PD_MARK_RATING_MIG_AVG2 <br> Output Table: WORK.__MTF_PD_NON_RATING_PD_TTC_TABLE <br> Step: 77 <br> Start Time: 2021-07-23 18:03:21.150000 <br> Elapsed Time: 0.51",
          "Input Table: WORK.__MTF_PD_NON_RATING_MIG_RES3_1 <br> Output Table: WORK.TEST_PD_NON_IN <br> Step: 80 <br> Start Time: 2021-07-23 18:03:23.680000 <br> Elapsed Time: 0.83",
          "Input Table: WORK.__MTF_PD_NON_RATING_MIG_RES3_1 <br> Output Table: WORK.TEST_PD_STB_IN <br> Step: 80 <br> Start Time: 2021-07-23 18:03:23.680000 <br> Elapsed Time: 0.83",
          "Input Table: WORK.__MTF_PD_NON_RATING_MIG_RES3_1 <br> Output Table: WORK.__MTF_PD_PIT_ODR_WIDE_DIS <br> Step: 80 <br> Start Time: 2021-07-23 18:03:23.680000 <br> Elapsed Time: 0.83",
          "Input Table: WORK.__MTF_PD_NON_RATING_PD_TTC_TABLE <br> Output Table: WORK.__MTF_PD_NON_JOINED_PDS <br> Step: 79 <br> Start Time: 2021-07-23 18:03:23.230000 <br> Elapsed Time: 0.45",
          "Input Table: WORK.__MTF_PD_NON_RATING_PD_TTC_TABLE <br> Output Table: WORK.__MTF_PD_MARK_RATING_MIG_AVG1_20 <br> Step: 79 <br> Start Time: 2021-07-23 18:03:23.230000 <br> Elapsed Time: 0.45",
          "Input Table: WORK.__MTF_PD_NON_ONEYEAR_PIT_PD_FULL <br> Output Table: WORK.__MTF_PD_NON_JOINED_PDS <br> Step: 79 <br> Start Time: 2021-07-23 18:03:23.230000 <br> Elapsed Time: 0.45",
          "Input Table: WORK.__MTF_PD_NON_ONEYEAR_PIT_PD_FULL <br> Output Table: WORK.__MTF_PD_MARK_RATING_MIG_AVG1_20 <br> Step: 79 <br> Start Time: 2021-07-23 18:03:23.230000 <br> Elapsed Time: 0.45",
          "Input Table: WORK.__MTF_PD_NON_ONEYEAR_PIT_PD_DEF <br> Output Table: WORK.__MTF_PD_NON_JOINED_PDS <br> Step: 79 <br> Start Time: 2021-07-23 18:03:23.230000 <br> Elapsed Time: 0.45",
          "Input Table: WORK.__MTF_PD_NON_ONEYEAR_PIT_PD_DEF <br> Output Table: WORK.__MTF_PD_MARK_RATING_MIG_AVG1_20 <br> Step: 79 <br> Start Time: 2021-07-23 18:03:23.230000 <br> Elapsed Time: 0.45",
          "Input Table: WORK.__MTF_PD_NON_JOINED_PDS <br> Output Table: WORK.TEST_PD_NON_IN <br> Step: 80 <br> Start Time: 2021-07-23 18:03:23.680000 <br> Elapsed Time: 0.83",
          "Input Table: WORK.__MTF_PD_NON_JOINED_PDS <br> Output Table: WORK.TEST_PD_STB_IN <br> Step: 80 <br> Start Time: 2021-07-23 18:03:23.680000 <br> Elapsed Time: 0.83",
          "Input Table: WORK.__MTF_PD_NON_JOINED_PDS <br> Output Table: WORK.__MTF_PD_PIT_ODR_WIDE_DIS <br> Step: 80 <br> Start Time: 2021-07-23 18:03:23.680000 <br> Elapsed Time: 0.83",
          "Input Table: WORK.__MTF_PD_MARK_RATING_MIG_AVG1_20 <br> Output Table: WORK.TEST_PD_NON_IN <br> Step: 80 <br> Start Time: 2021-07-23 18:03:23.680000 <br> Elapsed Time: 0.83",
          "Input Table: WORK.__MTF_PD_MARK_RATING_MIG_AVG1_20 <br> Output Table: WORK.TEST_PD_STB_IN <br> Step: 80 <br> Start Time: 2021-07-23 18:03:23.680000 <br> Elapsed Time: 0.83",
          "Input Table: WORK.__MTF_PD_MARK_RATING_MIG_AVG1_20 <br> Output Table: WORK.__MTF_PD_PIT_ODR_WIDE_DIS <br> Step: 80 <br> Start Time: 2021-07-23 18:03:23.680000 <br> Elapsed Time: 0.83",
          "Input Table: WORK.__MTF_PD_PIT_ODR_WIDE_DIS <br> Output Table: WORK.__MTF_PD_PIT_ODR_WIDE_TP_DIS <br> Step: 81 <br> Start Time: 2021-07-23 18:03:24.510000 <br> Elapsed Time: 0.19",
          "Input Table: WORK.__MTF_PD_PIT_ODR_WIDE_TP_DIS <br> Output Table: WORK.__MTF_PD_PIT_ODR_LONG_DIS <br> Step: 82 <br> Start Time: 2021-07-23 18:03:24.700000 <br> Elapsed Time: 1.05",
          "Input Table: WORK.__MTF_PD_PIT_ODR_LONG_DIS <br> Output Table: WORK.TEST_PD_DIS_IN <br> Step: 83 <br> Start Time: 2021-07-23 18:03:25.750000 <br> Elapsed Time: 0.0"
         ],
         "textposition": "top center",
         "type": "scatter",
         "x": [
          -0.964832,
          -0.929663,
          -0.97420945,
          -0.964832,
          -0.91794,
          -0.882772,
          -0.9355245999999999,
          -0.871049,
          -0.847603,
          -0.824158,
          -0.8018843,
          -0.800712,
          -0.8018843,
          -0.13133749999999997,
          -0.777266,
          -0.76319945,
          -0.73389085,
          -0.73389085,
          -0.730375,
          -0.7081013,
          -0.7081013,
          -0.17940065,
          -0.68231175,
          -0.660038,
          -0.636592,
          -0.6143183,
          -0.6143183,
          -0.59087225,
          -0.58852775,
          -0.58852775,
          -0.3200753,
          -0.402136,
          -0.5650826999999999,
          -0.542809,
          -0.52053625,
          -0.52053625,
          -0.495918,
          -0.4947457,
          -0.49709030000000004,
          -0.495918,
          -0.38103375,
          -0.4712997,
          -0.449026,
          -0.425581,
          -0.402135,
          -0.37869,
          -0.355244,
          -0.331798,
          -0.29663,
          -0.261461,
          -0.238016,
          -0.21457,
          -0.191124,
          -0.167678,
          -0.144233,
          -0.097342,
          -0.097342,
          -0.053966850000000004,
          -0.053966850000000004,
          -0.05045,
          -0.01762655,
          -0.015282,
          -0.01762655,
          0.40674,
          0.44894225,
          -0.004731300000000001,
          -0.0023867000000000003,
          -0.0047313,
          0.019887,
          0.03395455,
          0.0656057,
          0.0656057,
          0.0913963,
          0.0913963,
          0.11367,
          0.137116,
          0.160561,
          0.184007,
          0.207452,
          0.230898,
          0.254344,
          0.27661775,
          0.3024073,
          0.3153026,
          0.324681,
          0.348126,
          0.3703997,
          0.371572,
          0.3703997,
          0.418464,
          0.441909,
          0.465355,
          0.4888,
          0.5110737,
          0.5110737,
          0.629474,
          0.64002455,
          0.5368643,
          0.55796575,
          0.55796575,
          0.65292,
          0.661126,
          0.5837553,
          0.6048567,
          0.6048567,
          0.676366,
          0.6822274,
          0.63064625,
          0.6517476999999999,
          0.6517476999999999,
          0.699812,
          0.70332885,
          0.6775383,
          0.699812,
          0.7220847,
          0.7220847,
          0.7478753,
          0.76663115,
          0.7736648500000001,
          0.76663115,
          0.770148,
          0.7924217,
          0.793594,
          0.7924217,
          0.8369691499999999,
          0.840486,
          0.8369691499999999,
          0.82641745,
          0.83110655,
          0.840486,
          0.8416582499999999,
          0.83931375,
          0.840486,
          0.8627587,
          0.8651033,
          0.8651033,
          0.8627587,
          0.8651033,
          0.8627587,
          0.8885493,
          0.910823,
          0.934268
         ],
         "xaxis": "x",
         "y": [
          0.0011722500000000025,
          0.002344599999999997,
          0.0128953,
          0.0035168499999999993,
          0.0011722999999999985,
          0.002344550000000001,
          -0.0128953,
          0.0011722999999999985,
          0.001172300000000004,
          0.001172249999999997,
          0.012895300000000002,
          0.0011722999999999985,
          -0.012895300000000002,
          0.012895300000000002,
          0.001172300000000004,
          -0.0128953,
          0.00644815,
          -0.00644815,
          0.001172300000000004,
          0.00644815,
          -0.00644815,
          0.00644815,
          -0.00644815,
          0.001172300000000004,
          0.0011722999999999985,
          0.00644815,
          -0.00644815,
          0.01817115,
          0.00644815,
          -0.004103549999999999,
          0.012895300000000002,
          0.017584250000000003,
          -0.012895300000000002,
          0.001172300000000004,
          0.00644815,
          -0.00644815,
          0.012895300000000002,
          0.0011723000000000003,
          0.0011723000000000003,
          -0.012895300000000002,
          0.006448150000000001,
          -0.00644815,
          0.0011722499999999997,
          0.0011723000000000011,
          0.0011723000000000011,
          0.0011722499999999997,
          0.0011722999999999985,
          0.0011723000000000011,
          0.002344550000000001,
          0.0011722999999999998,
          0.0011722499999999997,
          0.0011722999999999998,
          0.0011722999999999998,
          0.0011722499999999997,
          0.0011723000000000011,
          0.0035168499999999993,
          0.0011722499999999997,
          0.00644815,
          -0.00644815,
          0.0011723000000000003,
          0.0128953,
          0.00234455,
          -0.0128953,
          0.05392525000000001,
          0.0011723000000000003,
          0.007620450000000001,
          -0.00644815,
          -0.01817115,
          0.0011723000000000003,
          -0.012895300000000002,
          0.00644815,
          -0.00644815,
          0.00644815,
          -0.00644815,
          0.0011723000000000005,
          0.0011722499999999997,
          0.0011722999999999998,
          0.0011722999999999998,
          0.0011722500000000012,
          0.0011722999999999998,
          0.0011722999999999998,
          -0.00644815,
          0.00644815,
          -0.00644815,
          0.0011722999999999985,
          0.0011722499999999997,
          0.012895300000000002,
          0.0011723000000000011,
          -0.012895300000000002,
          0.0011722499999999997,
          0.0011722999999999985,
          0.0011723000000000011,
          0.0011722500000000025,
          0.00644815,
          -0.00644815,
          0.02227355,
          0.0011723,
          -0.00644815,
          0.00644815,
          -0.00644815,
          0.019928999999999995,
          0.0011723000000000003,
          -0.00644815,
          0.00644815,
          -0.00644815,
          0.0175844,
          0.0011723,
          -0.00644815,
          0.00644815,
          -0.00644815,
          0.01523985,
          0.0011723000000000003,
          -0.00644815,
          0.0011722500000000025,
          0.00644815,
          -0.00644815,
          0.00644815,
          0.007620450000000001,
          -0.00644815,
          -0.01817115,
          0.001172249999999997,
          0.012895300000000002,
          0.0011722999999999985,
          -0.012895300000000002,
          0.0128953,
          0.003516850000000005,
          -0.0128953,
          -0.004103549999999999,
          -0.01817115,
          0.012895249999999997,
          0.0011723000000000003,
          0.0011723000000000003,
          -0.012895249999999997,
          0.01817115,
          0.00644815,
          -0.00410355,
          0.00762045,
          -0.00644815,
          -0.01817115,
          -0.012895300000000002,
          0.0011722999999999985,
          0.0011722500000000025
         ],
         "yaxis": "y"
        },
        {
         "cells": {
          "align": "left",
          "font": {
           "size": 8
          },
          "values": [
           [
            1,
            2,
            2,
            3,
            4,
            4,
            5,
            6,
            6,
            7,
            8,
            9,
            9,
            9,
            10,
            11,
            12,
            13,
            13,
            13,
            13,
            14,
            15,
            16,
            17,
            17,
            18,
            18,
            18,
            19,
            20,
            21,
            21,
            22,
            22,
            22,
            22,
            23,
            24,
            25,
            26,
            27,
            28,
            29,
            30,
            31,
            32,
            33,
            33,
            34,
            35,
            36,
            37,
            38,
            39,
            40,
            41,
            42,
            42,
            43,
            43,
            43,
            43,
            43,
            43,
            44,
            45,
            46,
            46,
            47,
            47,
            48,
            49,
            50,
            51,
            52,
            53,
            53,
            54,
            55,
            55,
            56,
            57,
            57,
            58,
            59,
            59,
            59,
            60,
            61,
            62,
            63,
            64,
            65,
            65,
            66,
            67,
            67,
            68,
            69,
            69,
            70,
            71,
            71,
            72,
            73,
            74,
            74,
            74,
            74,
            74,
            74,
            74,
            74,
            74,
            74,
            75,
            76,
            77,
            77,
            77,
            77,
            77,
            77,
            78,
            78,
            79,
            79,
            79,
            79,
            79,
            79,
            80,
            80,
            80,
            80,
            80,
            80,
            80,
            80,
            80,
            81,
            82,
            83
           ],
           [
            "No Input",
            "WORK.__MTF_PD_PIT_VERSION",
            "INPUT.PD_VIEW",
            "INPUT.PD_RR_RATING",
            "WORK.__MTF_PD_PIT_DISTINCT_RATING1",
            "WORK.__MTF_PD_PIT_DISTINCT_RATING2",
            "INPUT.PD_Z_FACTOR",
            "WORK.__MTF_PD_PIT_DISTINCT_ZVAL1",
            "WORK.__MTF_PD_PIT_DISTINCT_ZVAL2",
            "WORK.__MTF_PD_PIT_VIEW",
            "WORK.__MTF_PD_PIT_VIEW2",
            "WORK.__MTF_PD_PIT_PROC_MULTIYEAR_DATA",
            "WORK.__MTF_PD_PIT_PROC_MULTIYEAR_DATA",
            "WORK.__MTF_PD_PIT_PROC_MULTIYEAR_DATA",
            "WORK.__MTF_PD_PIT_PROC_ONEYEAR_DATA",
            "WORK.__MTF_PD_PIT_ODR_WIDE",
            "WORK.__MTF_PD_PIT_ODR_WIDE_TP",
            "WORK.__MTF_PD_PIT_ODR_LONG",
            "WORK.__MTF_PD_PIT_ODR_LONG",
            "WORK.__MTF_PD_PIT_OUTSTANDING_STATS_1",
            "WORK.__MTF_PD_PIT_OUTSTANDING_STATS_1",
            "WORK.__MTF_PD_PIT_RATING_PARAMS",
            "WORK.__MTF_PD_PIT_TTCMATRIX_TMP1",
            "WORK.__MTF_PD_PIT_TTCMATRIX_TMP2",
            "WORK.__MTF_PD_PIT_TTCMATRIX_TMP3",
            "WORK.__MTF_PD_PIT_TTCMATRIX_TMP3",
            "WORK.__MTF_PD_PIT_TTCMATRIX_NONNULL",
            "WORK.__MTF_PD_PIT_TTCMATRIX_NONNULL",
            "WORK.__MTF_PD_PIT_TTCMATRIX_NONNULL",
            "WORK.__MTF_PD_PIT_TTCMATRIX_SCALED",
            "WORK.__MTF_PD_PIT_TTC_MATRIX_SCALED2",
            "WORK.__MTF_PD_PIT_TTCMATRIX_LONG",
            "WORK.__MTF_PD_PIT_TTCMATRIX_LONG",
            "WORK.__MTF_PD_PIT_RISK_RATING_NAMES",
            "WORK.__MTF_PD_PIT_RISK_RATING_NAMES",
            "WORK.__MTF_PD_PIT_TTCMATRIX_WIDE_1",
            "WORK.__MTF_PD_PIT_TTCMATRIX_WIDE_1",
            "WORK.__MTF_PD_PIT_TTCMATRIX_WIDE_2",
            "WORK.__MTF_PD_PIT_TTCMATRIX_WIDE_2",
            "WORK.__MTF_PD_PIT_TTCMATRIX_WIDE_3",
            "WORK.__MTF_PD_PIT_TTCMATRIX_WIDE_3",
            "WORK.__MTF_PD_PIT_TTCMATRIX_WIDE_4",
            "WORK.__MTF_PD_PIT_TTCMATRIX_WIDE_4",
            "WORK.__MTF_PD_PIT_TTCMATRIX_WIDE_5",
            "WORK.__MTF_PD_PIT_TTC_PD_OUT",
            "WORK.__MTF_PD_PIT_TTCMATRIX_WIDE_5",
            "WORK.__MTF_PD_PIT_MULTIYEAR_TTC_PD",
            "WORK.__MTF_PIT_PITPD_VERSION",
            "WORK.__MTF_PD_PIT_PIC",
            "WORK.__MTF_PIT_PIC_UNIQUE",
            "WORK.__MTF_PIT_COUNTRY_DATES",
            "WORK.__MTF_PIT_COUNTRY_DATES_MULTI",
            "WORK.__MTF_PIT_COUNTRY_PIC_MULTI",
            "WORK.__MTF_PD_PIT_ASSET_CORRELATION",
            "WORK.__MTF_PIT_ONEYEAR_PDS",
            "WORK.__MTF_PIT_COUNTRY_PIC_MULTI_RANK",
            "WORK.__MTF_PIT_MULTI_PDS",
            "WORK.__MTF_PIT_ONEYEAR_PDS",
            "WORK.__MTF_PIT_ONEYEAR_PDS",
            "WORK.__MTF_PIT_MULTIYEAR_ROW_INFO",
            "WORK.__MTF_PIT_MULTIYEAR_ROW_INFO",
            "WORK.__MTF_PIT_MULTIYEAR_ROW_INFO",
            "WORK.__MTF_PIT_MULTI_PDS",
            "WORK.__MTF_PIT_MULTI_PDS",
            "WORK.__MTF_PIT_MULTI_PDS",
            "WORK.__MTF_PD_PIT_ONEYEAR_PIT_PD_0",
            "WORK.__MTF_PD_PIT_MULTIYEAR_PIT_PD_0",
            "WORK.__MTF_PD_PIT_MULTIYEAR_PIT_PD",
            "WORK.__MTF_PD_PIT_MULTIYEAR_PIT_PD",
            "WORK.__MTF_PD_PIT_MULTIYEAR_PIT_PD_20",
            "WORK.__MTF_PD_PIT_MULTIYEAR_TTC_PD_20",
            "WORK.__MTF_PD_PIT_MULTIYEAR_BOTH_PD",
            "WORK.__MTF_PD_PIT_MARGINAL_BOTH_PD",
            "WORK.__MTF_PD_PIT_MULTIYEAR_PRED",
            "WORK.__MTF_PD_PIT_MULTIYEAR_PRED2",
            "WORK.__MTF_PD_PIT_MULTIYEAR_PRED_STD",
            "WORK.__MTF_PD_PIT_MULTIYEAR_PRED_GRP",
            "WORK.__MTF_PD_PIT_MULTIYEAR_OBS_GRP",
            "WORK.__MTF_PD_PIT_MULTIYEAR_BOTH_GRP",
            "No Input",
            "WORK.__MTF_PD_PIT_MULTIYEAR_CI",
            "WORK.__MTF_PD_PIT_MULTIYEAR_ME",
            "WORK.__MTF_PD_PIT_MULTIYEAR_CI",
            "WORK.__MTF_PD_PIT_MULTIYEAR_ME",
            "WORK.__MTF_PD_PIT_MULTIYEAR_CI_ME",
            "WORK.__MTF_PD_PIT_CONCLUSION",
            "WORK.__MTF_PD_PIT_CONCLUSION",
            "WORK.__MTF_PD_PIT_CONCLUSION",
            "WORK.__MTF_PD_NON_MIGRATIONS_IN",
            "WORK.__MTF_PD_NON_TO_RATINGS",
            "WORK.__MTF_PD_NON_RATING_MIGRATIONS",
            "WORK.__MTF_PD_NON_RATING_MIG_COUNTS_1",
            "WORK.__MTF_PD_NON_MIGRATION_TEMPLATE",
            "WORK.__MTF_PD_NON_RATING_MIG_RES_1",
            "WORK.__MTF_PD_NON_RATING_MIG_RES_1",
            "WORK.__MTF_PD_NON_RATING_MIG_COUNTS_2",
            "WORK.__MTF_PD_NON_RATING_MIG_RES_2",
            "WORK.__MTF_PD_NON_RATING_MIG_RES_2",
            "WORK.__MTF_PD_NON_RATING_MIG_COUNTS_3",
            "WORK.__MTF_PD_NON_RATING_MIG_RES_3",
            "WORK.__MTF_PD_NON_RATING_MIG_RES_3",
            "WORK.__MTF_PD_NON_RATING_MIG_COUNTS_4",
            "WORK.__MTF_PD_NON_RATING_MIG_RES_4",
            "WORK.__MTF_PD_NON_RATING_MIG_RES_4",
            "WORK.__MTF_PD_NON_RATING_MIG_COUNTS_5",
            "WORK.__MTF_PD_NON_RATING_MIG_RES_5",
            "WORK.__MTF_PD_NON_RATING_MIG_RES2_1",
            "WORK.__MTF_PD_NON_RATING_MIG_RES2_1",
            "WORK.__MTF_PD_NON_RATING_MIG_RES2_2",
            "WORK.__MTF_PD_NON_RATING_MIG_RES2_2",
            "WORK.__MTF_PD_NON_RATING_MIG_RES2_3",
            "WORK.__MTF_PD_NON_RATING_MIG_RES2_3",
            "WORK.__MTF_PD_NON_RATING_MIG_RES2_4",
            "WORK.__MTF_PD_NON_RATING_MIG_RES2_4",
            "WORK.__MTF_PD_NON_RATING_MIG_RES2_5",
            "WORK.__MTF_PD_NON_RATING_MIG_RES2_5",
            "WORK.__MTF_PD_NON_RATING_MIG_RES2",
            "WORK.__MTF_PD_MARK_RATING_MIG_AVG1",
            "WORK.__MTF_PD_MARK_RATING_MIG_AVG2",
            "WORK.__MTF_PD_MARK_RATING_MIG_AVG2",
            "WORK.__MTF_PD_MARK_RATING_MIG_AVG2",
            "WORK.__MTF_PD_NON_RATING_PD_TTC",
            "WORK.__MTF_PD_NON_RATING_PD_TTC",
            "WORK.__MTF_PD_NON_RATING_PD_TTC",
            "WORK.__MTF_PD_PIT_ONEYEAR_PIT_PD_1",
            "WORK.__MTF_PD_PIT_ONEYEAR_PIT_PD_1",
            "WORK.__MTF_PD_NON_RATING_PD_TTC_TABLE",
            "WORK.__MTF_PD_NON_RATING_PD_TTC_TABLE",
            "WORK.__MTF_PD_NON_ONEYEAR_PIT_PD_FULL",
            "WORK.__MTF_PD_NON_ONEYEAR_PIT_PD_FULL",
            "WORK.__MTF_PD_NON_ONEYEAR_PIT_PD_DEF",
            "WORK.__MTF_PD_NON_ONEYEAR_PIT_PD_DEF",
            "WORK.__MTF_PD_NON_RATING_MIG_RES3_1",
            "WORK.__MTF_PD_NON_RATING_MIG_RES3_1",
            "WORK.__MTF_PD_NON_RATING_MIG_RES3_1",
            "WORK.__MTF_PD_NON_JOINED_PDS",
            "WORK.__MTF_PD_NON_JOINED_PDS",
            "WORK.__MTF_PD_NON_JOINED_PDS",
            "WORK.__MTF_PD_MARK_RATING_MIG_AVG1_20",
            "WORK.__MTF_PD_MARK_RATING_MIG_AVG1_20",
            "WORK.__MTF_PD_MARK_RATING_MIG_AVG1_20",
            "WORK.__MTF_PD_PIT_ODR_WIDE_DIS",
            "WORK.__MTF_PD_PIT_ODR_WIDE_TP_DIS",
            "WORK.__MTF_PD_PIT_ODR_LONG_DIS"
           ],
           [
            "WORK.__MTF_PD_PIT_VERSION",
            "WORK.__MTF_PD_PIT_DISTINCT_RATING1",
            "WORK.__MTF_PD_PIT_DISTINCT_RATING1",
            "WORK.__MTF_PD_PIT_DISTINCT_RATING2",
            "WORK.__MTF_PD_PIT_DISTINCT_ZVAL1",
            "WORK.__MTF_PD_PIT_DISTINCT_ZVAL1",
            "WORK.__MTF_PD_PIT_DISTINCT_ZVAL2",
            "WORK.__MTF_PD_PIT_VIEW",
            "WORK.__MTF_PD_PIT_VIEW",
            "WORK.__MTF_PD_PIT_VIEW2",
            "WORK.__MTF_PD_PIT_PROC_MULTIYEAR_DATA",
            "WORK.__MTF_PD_NON_MIGRATIONS_IN",
            "WORK.__MTF_PD_PIT_PROC_ONEYEAR_DATA",
            "WORK.__MTF_PD_PIT_ODR_WIDE",
            "WORK.__MTF_PD_PIT_OUTSTANDING_STATS_1",
            "WORK.__MTF_PD_PIT_ODR_WIDE_TP",
            "WORK.__MTF_PD_PIT_ODR_LONG",
            "WORK.__MTF_PD_PIT_MULTIYEAR_OBS_GRP",
            "WORK.__MTF_PD_PIT_RATING_PARAMS",
            "WORK.__MTF_PD_PIT_MULTIYEAR_OBS_GRP",
            "WORK.__MTF_PD_PIT_RATING_PARAMS",
            "WORK.__MTF_PD_PIT_TTCMATRIX_TMP1",
            "WORK.__MTF_PD_PIT_TTCMATRIX_TMP2",
            "WORK.__MTF_PD_PIT_TTCMATRIX_TMP3",
            "WORK.__MTF_PD_PIT_TTCMATRIX_NONNULL",
            "WORK.__MTF_PD_PIT_IRB_OLD",
            "WORK.__MTF_PD_PIT_ASSET_CORRELATION",
            "WORK.__MTF_PD_PIT_PIC",
            "WORK.__MTF_PD_PIT_TTCMATRIX_SCALED",
            "WORK.__MTF_PD_PIT_TTC_MATRIX_SCALED2",
            "WORK.__MTF_PD_PIT_TTCMATRIX_LONG",
            "WORK.__MTF_PD_PIT_RISK_RATING_NAMES",
            "WORK.__MTF_PD_PIT_TTCMATRIX_WIDE_1",
            "WORK.__MTF_PD_PIT_TTC_PD_OUT",
            "WORK.__MTF_PD_PIT_TTCMATRIX_WIDE_2",
            "WORK.__MTF_PD_PIT_TTC_PD_OUT",
            "WORK.__MTF_PD_PIT_TTCMATRIX_WIDE_2",
            "WORK.__MTF_PD_PIT_TTCMATRIX_WIDE_2",
            "WORK.__MTF_PD_PIT_TTCMATRIX_WIDE_3",
            "WORK.__MTF_PD_PIT_TTCMATRIX_WIDE_3",
            "WORK.__MTF_PD_PIT_TTCMATRIX_WIDE_4",
            "WORK.__MTF_PD_PIT_TTCMATRIX_WIDE_4",
            "WORK.__MTF_PD_PIT_TTCMATRIX_WIDE_5",
            "WORK.__MTF_PD_PIT_TTCMATRIX_WIDE_5",
            "WORK.__MTF_PD_PIT_TTC_PD_OUT_TMP",
            "WORK.__MTF_PD_PIT_MULTIYEAR_TTC_PD",
            "WORK.__MTF_PIT_PITPD_VERSION",
            "WORK.__MTF_PIT_PIC_UNIQUE",
            "WORK.__MTF_PIT_PIC_UNIQUE",
            "WORK.__MTF_PIT_COUNTRY_DATES",
            "WORK.__MTF_PIT_COUNTRY_DATES_MULTI",
            "WORK.__MTF_PIT_COUNTRY_PIC_MULTI",
            "WORK.__MTF_PIT_COUNTRY_PIC_MULTI_RANK",
            "WORK.__MTF_PIT_ONEYEAR_PDS",
            "WORK.__MTF_PIT_ONEYEAR_PDS",
            "WORK.__MTF_PIT_MULTI_PDS",
            "WORK.__MTF_PIT_MULTI_PDS",
            "WORK.__MTF_PD_PIT_ONEYEAR_PIT_PD_1",
            "WORK.__MTF_PIT_MULTIYEAR_ROW_INFO",
            "WORK.__MTF_PD_PIT_MULTIYEAR_PIT_PD_1",
            "WORK.__MTF_PD_PIT_ONEYEAR_PIT_PD_0",
            "WORK.__MTF_PD_PIT_MULTIYEAR_PIT_PD_0",
            "WORK.__MTF_PD_PIT_MULTIYEAR_PIT_PD_1",
            "WORK.__MTF_PD_PIT_ONEYEAR_PIT_PD_0",
            "WORK.__MTF_PD_PIT_MULTIYEAR_PIT_PD_0",
            "WORK.__MTF_PD_PIT_ONEYEAR_PIT_PD",
            "WORK.__MTF_PD_PIT_MULTIYEAR_PIT_PD",
            "WORK.__MTF_PD_PIT_MULTIYEAR_PIT_PD_20",
            "WORK.__MTF_PD_PIT_MULTIYEAR_TTC_PD_20",
            "WORK.__MTF_PD_PIT_MULTIYEAR_BOTH_PD",
            "WORK.__MTF_PD_PIT_MULTIYEAR_BOTH_PD",
            "WORK.__MTF_PD_PIT_MARGINAL_BOTH_PD",
            "WORK.__MTF_PD_PIT_MULTIYEAR_PRED",
            "WORK.__MTF_PD_PIT_MULTIYEAR_PRED2",
            "WORK.__MTF_PD_PIT_MULTIYEAR_PRED_STD",
            "WORK.__MTF_PD_PIT_MULTIYEAR_PRED_GRP",
            "WORK.__MTF_PD_PIT_MULTIYEAR_BOTH_GRP",
            "WORK.__MTF_PD_PIT_MULTIYEAR_BOTH_GRP",
            "WORK.__MTF_PD_PIT_MULTIYEAR_CI",
            "WORK.__MTF_PD_PIT_MULTIYEAR_ME",
            "WORK.__MTF_PD_PIT_MULTIYEAR_CI",
            "WORK.__MTF_PD_PIT_MULTIYEAR_ME",
            "WORK.__MTF_PD_PIT_MULTIYEAR_CI_ME",
            "WORK.__MTF_PD_PIT_MULTIYEAR_CI_ME",
            "WORK.__MTF_PD_PIT_CONCLUSION",
            "WORK.TEST_PD_PIT_U",
            "WORK.TEST_PD_PIT",
            "WORK.TEST_PD_TTC_IN",
            "WORK.__MTF_PD_NON_TO_RATINGS",
            "WORK.__MTF_PD_NON_RATING_MIGRATIONS",
            "WORK.__MTF_PD_NON_RATING_MIG_COUNTS_1",
            "WORK.__MTF_PD_NON_MIGRATION_TEMPLATE",
            "WORK.__MTF_PD_NON_RATING_MIG_RES_1",
            "WORK.__MTF_PD_NON_RATING_MIG_RES2_1",
            "WORK.__MTF_PD_NON_RATING_MIG_COUNTS_2",
            "WORK.__MTF_PD_NON_RATING_MIG_RES_2",
            "WORK.__MTF_PD_NON_RATING_MIG_RES2_2",
            "WORK.__MTF_PD_NON_RATING_MIG_COUNTS_3",
            "WORK.__MTF_PD_NON_RATING_MIG_RES_3",
            "WORK.__MTF_PD_NON_RATING_MIG_RES2_3",
            "WORK.__MTF_PD_NON_RATING_MIG_COUNTS_4",
            "WORK.__MTF_PD_NON_RATING_MIG_RES_4",
            "WORK.__MTF_PD_NON_RATING_MIG_RES2_4",
            "WORK.__MTF_PD_NON_RATING_MIG_COUNTS_5",
            "WORK.__MTF_PD_NON_RATING_MIG_RES_5",
            "WORK.__MTF_PD_NON_RATING_MIG_RES2_5",
            "WORK.__MTF_PD_NON_RATING_MIG_RES2",
            "WORK.__MTF_PD_NON_RATING_PD_TTC",
            "WORK.__MTF_PD_NON_RATING_MIG_RES2",
            "WORK.__MTF_PD_NON_RATING_PD_TTC",
            "WORK.__MTF_PD_NON_RATING_MIG_RES2",
            "WORK.__MTF_PD_NON_RATING_PD_TTC",
            "WORK.__MTF_PD_NON_RATING_MIG_RES2",
            "WORK.__MTF_PD_NON_RATING_PD_TTC",
            "WORK.__MTF_PD_NON_RATING_MIG_RES2",
            "WORK.__MTF_PD_NON_RATING_PD_TTC",
            "WORK.__MTF_PD_MARK_RATING_MIG_AVG1",
            "WORK.__MTF_PD_MARK_RATING_MIG_AVG2",
            "WORK.TEST_PD_MARK_IN",
            "WORK.__MTF_PD_NON_RATING_MIG_RES3_1",
            "WORK.__MTF_PD_NON_RATING_PD_TTC_TABLE",
            "WORK.TEST_PD_MARK_IN",
            "WORK.__MTF_PD_NON_RATING_MIG_RES3_1",
            "WORK.__MTF_PD_NON_RATING_PD_TTC_TABLE",
            "WORK.__MTF_PD_NON_ONEYEAR_PIT_PD_FULL",
            "WORK.__MTF_PD_NON_ONEYEAR_PIT_PD_DEF",
            "WORK.__MTF_PD_NON_JOINED_PDS",
            "WORK.__MTF_PD_MARK_RATING_MIG_AVG1_20",
            "WORK.__MTF_PD_NON_JOINED_PDS",
            "WORK.__MTF_PD_MARK_RATING_MIG_AVG1_20",
            "WORK.__MTF_PD_NON_JOINED_PDS",
            "WORK.__MTF_PD_MARK_RATING_MIG_AVG1_20",
            "WORK.TEST_PD_NON_IN",
            "WORK.TEST_PD_STB_IN",
            "WORK.__MTF_PD_PIT_ODR_WIDE_DIS",
            "WORK.TEST_PD_NON_IN",
            "WORK.TEST_PD_STB_IN",
            "WORK.__MTF_PD_PIT_ODR_WIDE_DIS",
            "WORK.TEST_PD_NON_IN",
            "WORK.TEST_PD_STB_IN",
            "WORK.__MTF_PD_PIT_ODR_WIDE_DIS",
            "WORK.__MTF_PD_PIT_ODR_WIDE_TP_DIS",
            "WORK.__MTF_PD_PIT_ODR_LONG_DIS",
            "WORK.TEST_PD_DIS_IN"
           ],
           [
            "2021-07-23T18:00:00.780000",
            "2021-07-23T18:00:00.840000",
            "2021-07-23T18:00:00.840000",
            "2021-07-23T18:00:04.190000",
            "2021-07-23T18:00:04.190000",
            "2021-07-23T18:00:04.190000",
            "2021-07-23T18:00:04.550000",
            "2021-07-23T18:00:04.560000",
            "2021-07-23T18:00:04.560000",
            "2021-07-23T18:00:04.750000",
            "2021-07-23T18:00:05.470000",
            "2021-07-23T18:00:05.940000",
            "2021-07-23T18:00:05.940000",
            "2021-07-23T18:00:05.940000",
            "2021-07-23T18:00:08.630000",
            "2021-07-23T18:00:08.660000",
            "2021-07-23T18:00:08.680000",
            "2021-07-23T18:00:08.760000",
            "2021-07-23T18:00:08.760000",
            "2021-07-23T18:00:08.760000",
            "2021-07-23T18:00:08.760000",
            "2021-07-23T18:00:08.820000",
            "2021-07-23T18:00:08.870000",
            "2021-07-23T18:00:08.900000",
            "2021-07-23T18:00:08.970000",
            "2021-07-23T18:00:08.970000",
            "2021-07-23T18:00:09.010000",
            "2021-07-23T18:00:09.010000",
            "2021-07-23T18:00:09.010000",
            "2021-07-23T18:00:09.130000",
            "2021-07-23T18:00:16.590000",
            "2021-07-23T18:00:18.890000",
            "2021-07-23T18:00:18.890000",
            "2021-07-23T18:00:30.200000",
            "2021-07-23T18:00:30.200000",
            "2021-07-23T18:00:30.200000",
            "2021-07-23T18:00:30.200000",
            "2021-07-23T18:00:30.260000",
            "2021-07-23T18:00:30.310000",
            "2021-07-23T18:00:30.310000",
            "2021-07-23T18:00:30.360000",
            "2021-07-23T18:00:30.370000",
            "2021-07-23T18:00:30.420000",
            "2021-07-23T18:00:30.430000",
            "2021-07-23T18:00:30.550000",
            "2021-07-23T18:00:31.200000",
            "2021-07-23T18:00:31.510000",
            "2021-07-23T18:00:31.630000",
            "2021-07-23T18:00:31.630000",
            "2021-07-23T18:00:31.810000",
            "2021-07-23T18:00:31.940000",
            "2021-07-23T18:00:32.020000",
            "2021-07-23T18:00:32.110000",
            "2021-07-23T18:00:32.220000",
            "2021-07-23T18:00:37.570000",
            "2021-07-23T18:00:37.740000",
            "2021-07-23T18:01:28.250000",
            "2021-07-23T18:01:29.570000",
            "2021-07-23T18:01:29.570000",
            "2021-07-23T18:01:32.340000",
            "2021-07-23T18:01:32.340000",
            "2021-07-23T18:01:32.340000",
            "2021-07-23T18:01:32.340000",
            "2021-07-23T18:01:32.340000",
            "2021-07-23T18:01:32.340000",
            "2021-07-23T18:02:39.660000",
            "2021-07-23T18:02:40.860000",
            "2021-07-23T18:02:44.610000",
            "2021-07-23T18:02:44.610000",
            "2021-07-23T18:02:46",
            "2021-07-23T18:02:46",
            "2021-07-23T18:02:53.300000",
            "2021-07-23T18:02:53.650000",
            "2021-07-23T18:03:10.730000",
            "2021-07-23T18:03:11.200000",
            "2021-07-23T18:03:11.720000",
            "2021-07-23T18:03:11.800000",
            "2021-07-23T18:03:11.800000",
            "2021-07-23T18:03:13.120000",
            "2021-07-23T18:03:13.160000",
            "2021-07-23T18:03:13.160000",
            "2021-07-23T18:03:13.170000",
            "2021-07-23T18:03:13.280000",
            "2021-07-23T18:03:13.280000",
            "2021-07-23T18:03:13.390000",
            "2021-07-23T18:03:13.490000",
            "2021-07-23T18:03:13.490000",
            "2021-07-23T18:03:13.490000",
            "2021-07-23T18:03:14.030000",
            "2021-07-23T18:03:14.260000",
            "2021-07-23T18:03:14.650000",
            "2021-07-23T18:03:14.990000",
            "2021-07-23T18:03:15.110000",
            "2021-07-23T18:03:15.260000",
            "2021-07-23T18:03:15.260000",
            "2021-07-23T18:03:16.250000",
            "2021-07-23T18:03:16.520000",
            "2021-07-23T18:03:16.520000",
            "2021-07-23T18:03:17.430000",
            "2021-07-23T18:03:17.700000",
            "2021-07-23T18:03:17.700000",
            "2021-07-23T18:03:18.610000",
            "2021-07-23T18:03:18.880000",
            "2021-07-23T18:03:18.880000",
            "2021-07-23T18:03:19.770000",
            "2021-07-23T18:03:20.080000",
            "2021-07-23T18:03:20.360000",
            "2021-07-23T18:03:20.360000",
            "2021-07-23T18:03:20.360000",
            "2021-07-23T18:03:20.360000",
            "2021-07-23T18:03:20.360000",
            "2021-07-23T18:03:20.360000",
            "2021-07-23T18:03:20.360000",
            "2021-07-23T18:03:20.360000",
            "2021-07-23T18:03:20.360000",
            "2021-07-23T18:03:20.360000",
            "2021-07-23T18:03:20.780000",
            "2021-07-23T18:03:21.010000",
            "2021-07-23T18:03:21.150000",
            "2021-07-23T18:03:21.150000",
            "2021-07-23T18:03:21.150000",
            "2021-07-23T18:03:21.150000",
            "2021-07-23T18:03:21.150000",
            "2021-07-23T18:03:21.150000",
            "2021-07-23T18:03:21.660000",
            "2021-07-23T18:03:21.660000",
            "2021-07-23T18:03:23.230000",
            "2021-07-23T18:03:23.230000",
            "2021-07-23T18:03:23.230000",
            "2021-07-23T18:03:23.230000",
            "2021-07-23T18:03:23.230000",
            "2021-07-23T18:03:23.230000",
            "2021-07-23T18:03:23.680000",
            "2021-07-23T18:03:23.680000",
            "2021-07-23T18:03:23.680000",
            "2021-07-23T18:03:23.680000",
            "2021-07-23T18:03:23.680000",
            "2021-07-23T18:03:23.680000",
            "2021-07-23T18:03:23.680000",
            "2021-07-23T18:03:23.680000",
            "2021-07-23T18:03:23.680000",
            "2021-07-23T18:03:24.510000",
            "2021-07-23T18:03:24.700000",
            "2021-07-23T18:03:25.750000"
           ],
           [
            0.06,
            3.35,
            3.35,
            0,
            0.36,
            0.36,
            0.01,
            0.19,
            0.19,
            0.72,
            0.47,
            2.69,
            2.69,
            2.69,
            0.03,
            0.02,
            0.08,
            0.06,
            0.06,
            0.06,
            0.06,
            0.05,
            0.03,
            0.07,
            0.04,
            0.04,
            0.12,
            0.12,
            0.12,
            7.46,
            2.3,
            11.31,
            11.31,
            0.06,
            0.06,
            0.06,
            0.06,
            0.05,
            0,
            0.05,
            0.01,
            0.05,
            0.01,
            0.12,
            0.65,
            0.31,
            0.12,
            0.18,
            0.18,
            0.13,
            0.08,
            0.09,
            0.11,
            5.35,
            0.17,
            50.51,
            1.32,
            2.77,
            2.77,
            67.32,
            67.32,
            67.32,
            67.32,
            67.32,
            67.32,
            1.2,
            3.75,
            1.39,
            1.39,
            7.3,
            7.3,
            0.35,
            17.08,
            0.47,
            0.52,
            0.08,
            1.32,
            1.32,
            0.04,
            0.01,
            0.01,
            0.11,
            0.11,
            0.11,
            0.1,
            0.54,
            0.54,
            0.54,
            0.23,
            0.39,
            0.34,
            0.12,
            0.15,
            0.99,
            0.99,
            0.27,
            0.91,
            0.91,
            0.27,
            0.91,
            0.91,
            0.27,
            0.89,
            0.89,
            0.31,
            0.28,
            0.42,
            0.42,
            0.42,
            0.42,
            0.42,
            0.42,
            0.42,
            0.42,
            0.42,
            0.42,
            0.23,
            0.14,
            0.51,
            0.51,
            0.51,
            0.51,
            0.51,
            0.51,
            1.57,
            1.57,
            0.45,
            0.45,
            0.45,
            0.45,
            0.45,
            0.45,
            0.83,
            0.83,
            0.83,
            0.83,
            0.83,
            0.83,
            0.83,
            0.83,
            0.83,
            0.19,
            1.05,
            0
           ]
          ]
         },
         "columnwidth": [
          1,
          6,
          6,
          4,
          2,
          2
         ],
         "domain": {
          "x": [
           0,
           1
          ],
          "y": [
           0,
           0.5
          ]
         },
         "header": {
          "align": "left",
          "font": {
           "size": 10
          },
          "values": [
           "Step",
           "Input Table",
           "Output Table",
           "Start Time",
           "Elapsed Time"
          ]
         },
         "type": "table"
        }
       ],
       "layout": {
        "height": 800,
        "showlegend": false,
        "template": {
         "data": {
          "bar": [
           {
            "error_x": {
             "color": "#2a3f5f"
            },
            "error_y": {
             "color": "#2a3f5f"
            },
            "marker": {
             "line": {
              "color": "#E5ECF6",
              "width": 0.5
             }
            },
            "type": "bar"
           }
          ],
          "barpolar": [
           {
            "marker": {
             "line": {
              "color": "#E5ECF6",
              "width": 0.5
             }
            },
            "type": "barpolar"
           }
          ],
          "carpet": [
           {
            "aaxis": {
             "endlinecolor": "#2a3f5f",
             "gridcolor": "white",
             "linecolor": "white",
             "minorgridcolor": "white",
             "startlinecolor": "#2a3f5f"
            },
            "baxis": {
             "endlinecolor": "#2a3f5f",
             "gridcolor": "white",
             "linecolor": "white",
             "minorgridcolor": "white",
             "startlinecolor": "#2a3f5f"
            },
            "type": "carpet"
           }
          ],
          "choropleth": [
           {
            "colorbar": {
             "outlinewidth": 0,
             "ticks": ""
            },
            "type": "choropleth"
           }
          ],
          "contour": [
           {
            "colorbar": {
             "outlinewidth": 0,
             "ticks": ""
            },
            "colorscale": [
             [
              0,
              "#0d0887"
             ],
             [
              0.1111111111111111,
              "#46039f"
             ],
             [
              0.2222222222222222,
              "#7201a8"
             ],
             [
              0.3333333333333333,
              "#9c179e"
             ],
             [
              0.4444444444444444,
              "#bd3786"
             ],
             [
              0.5555555555555556,
              "#d8576b"
             ],
             [
              0.6666666666666666,
              "#ed7953"
             ],
             [
              0.7777777777777778,
              "#fb9f3a"
             ],
             [
              0.8888888888888888,
              "#fdca26"
             ],
             [
              1,
              "#f0f921"
             ]
            ],
            "type": "contour"
           }
          ],
          "contourcarpet": [
           {
            "colorbar": {
             "outlinewidth": 0,
             "ticks": ""
            },
            "type": "contourcarpet"
           }
          ],
          "heatmap": [
           {
            "colorbar": {
             "outlinewidth": 0,
             "ticks": ""
            },
            "colorscale": [
             [
              0,
              "#0d0887"
             ],
             [
              0.1111111111111111,
              "#46039f"
             ],
             [
              0.2222222222222222,
              "#7201a8"
             ],
             [
              0.3333333333333333,
              "#9c179e"
             ],
             [
              0.4444444444444444,
              "#bd3786"
             ],
             [
              0.5555555555555556,
              "#d8576b"
             ],
             [
              0.6666666666666666,
              "#ed7953"
             ],
             [
              0.7777777777777778,
              "#fb9f3a"
             ],
             [
              0.8888888888888888,
              "#fdca26"
             ],
             [
              1,
              "#f0f921"
             ]
            ],
            "type": "heatmap"
           }
          ],
          "heatmapgl": [
           {
            "colorbar": {
             "outlinewidth": 0,
             "ticks": ""
            },
            "colorscale": [
             [
              0,
              "#0d0887"
             ],
             [
              0.1111111111111111,
              "#46039f"
             ],
             [
              0.2222222222222222,
              "#7201a8"
             ],
             [
              0.3333333333333333,
              "#9c179e"
             ],
             [
              0.4444444444444444,
              "#bd3786"
             ],
             [
              0.5555555555555556,
              "#d8576b"
             ],
             [
              0.6666666666666666,
              "#ed7953"
             ],
             [
              0.7777777777777778,
              "#fb9f3a"
             ],
             [
              0.8888888888888888,
              "#fdca26"
             ],
             [
              1,
              "#f0f921"
             ]
            ],
            "type": "heatmapgl"
           }
          ],
          "histogram": [
           {
            "marker": {
             "colorbar": {
              "outlinewidth": 0,
              "ticks": ""
             }
            },
            "type": "histogram"
           }
          ],
          "histogram2d": [
           {
            "colorbar": {
             "outlinewidth": 0,
             "ticks": ""
            },
            "colorscale": [
             [
              0,
              "#0d0887"
             ],
             [
              0.1111111111111111,
              "#46039f"
             ],
             [
              0.2222222222222222,
              "#7201a8"
             ],
             [
              0.3333333333333333,
              "#9c179e"
             ],
             [
              0.4444444444444444,
              "#bd3786"
             ],
             [
              0.5555555555555556,
              "#d8576b"
             ],
             [
              0.6666666666666666,
              "#ed7953"
             ],
             [
              0.7777777777777778,
              "#fb9f3a"
             ],
             [
              0.8888888888888888,
              "#fdca26"
             ],
             [
              1,
              "#f0f921"
             ]
            ],
            "type": "histogram2d"
           }
          ],
          "histogram2dcontour": [
           {
            "colorbar": {
             "outlinewidth": 0,
             "ticks": ""
            },
            "colorscale": [
             [
              0,
              "#0d0887"
             ],
             [
              0.1111111111111111,
              "#46039f"
             ],
             [
              0.2222222222222222,
              "#7201a8"
             ],
             [
              0.3333333333333333,
              "#9c179e"
             ],
             [
              0.4444444444444444,
              "#bd3786"
             ],
             [
              0.5555555555555556,
              "#d8576b"
             ],
             [
              0.6666666666666666,
              "#ed7953"
             ],
             [
              0.7777777777777778,
              "#fb9f3a"
             ],
             [
              0.8888888888888888,
              "#fdca26"
             ],
             [
              1,
              "#f0f921"
             ]
            ],
            "type": "histogram2dcontour"
           }
          ],
          "mesh3d": [
           {
            "colorbar": {
             "outlinewidth": 0,
             "ticks": ""
            },
            "type": "mesh3d"
           }
          ],
          "parcoords": [
           {
            "line": {
             "colorbar": {
              "outlinewidth": 0,
              "ticks": ""
             }
            },
            "type": "parcoords"
           }
          ],
          "pie": [
           {
            "automargin": true,
            "type": "pie"
           }
          ],
          "scatter": [
           {
            "marker": {
             "colorbar": {
              "outlinewidth": 0,
              "ticks": ""
             }
            },
            "type": "scatter"
           }
          ],
          "scatter3d": [
           {
            "line": {
             "colorbar": {
              "outlinewidth": 0,
              "ticks": ""
             }
            },
            "marker": {
             "colorbar": {
              "outlinewidth": 0,
              "ticks": ""
             }
            },
            "type": "scatter3d"
           }
          ],
          "scattercarpet": [
           {
            "marker": {
             "colorbar": {
              "outlinewidth": 0,
              "ticks": ""
             }
            },
            "type": "scattercarpet"
           }
          ],
          "scattergeo": [
           {
            "marker": {
             "colorbar": {
              "outlinewidth": 0,
              "ticks": ""
             }
            },
            "type": "scattergeo"
           }
          ],
          "scattergl": [
           {
            "marker": {
             "colorbar": {
              "outlinewidth": 0,
              "ticks": ""
             }
            },
            "type": "scattergl"
           }
          ],
          "scattermapbox": [
           {
            "marker": {
             "colorbar": {
              "outlinewidth": 0,
              "ticks": ""
             }
            },
            "type": "scattermapbox"
           }
          ],
          "scatterpolar": [
           {
            "marker": {
             "colorbar": {
              "outlinewidth": 0,
              "ticks": ""
             }
            },
            "type": "scatterpolar"
           }
          ],
          "scatterpolargl": [
           {
            "marker": {
             "colorbar": {
              "outlinewidth": 0,
              "ticks": ""
             }
            },
            "type": "scatterpolargl"
           }
          ],
          "scatterternary": [
           {
            "marker": {
             "colorbar": {
              "outlinewidth": 0,
              "ticks": ""
             }
            },
            "type": "scatterternary"
           }
          ],
          "surface": [
           {
            "colorbar": {
             "outlinewidth": 0,
             "ticks": ""
            },
            "colorscale": [
             [
              0,
              "#0d0887"
             ],
             [
              0.1111111111111111,
              "#46039f"
             ],
             [
              0.2222222222222222,
              "#7201a8"
             ],
             [
              0.3333333333333333,
              "#9c179e"
             ],
             [
              0.4444444444444444,
              "#bd3786"
             ],
             [
              0.5555555555555556,
              "#d8576b"
             ],
             [
              0.6666666666666666,
              "#ed7953"
             ],
             [
              0.7777777777777778,
              "#fb9f3a"
             ],
             [
              0.8888888888888888,
              "#fdca26"
             ],
             [
              1,
              "#f0f921"
             ]
            ],
            "type": "surface"
           }
          ],
          "table": [
           {
            "cells": {
             "fill": {
              "color": "#EBF0F8"
             },
             "line": {
              "color": "white"
             }
            },
            "header": {
             "fill": {
              "color": "#C8D4E3"
             },
             "line": {
              "color": "white"
             }
            },
            "type": "table"
           }
          ]
         },
         "layout": {
          "annotationdefaults": {
           "arrowcolor": "#2a3f5f",
           "arrowhead": 0,
           "arrowwidth": 1
          },
          "autotypenumbers": "strict",
          "coloraxis": {
           "colorbar": {
            "outlinewidth": 0,
            "ticks": ""
           }
          },
          "colorscale": {
           "diverging": [
            [
             0,
             "#8e0152"
            ],
            [
             0.1,
             "#c51b7d"
            ],
            [
             0.2,
             "#de77ae"
            ],
            [
             0.3,
             "#f1b6da"
            ],
            [
             0.4,
             "#fde0ef"
            ],
            [
             0.5,
             "#f7f7f7"
            ],
            [
             0.6,
             "#e6f5d0"
            ],
            [
             0.7,
             "#b8e186"
            ],
            [
             0.8,
             "#7fbc41"
            ],
            [
             0.9,
             "#4d9221"
            ],
            [
             1,
             "#276419"
            ]
           ],
           "sequential": [
            [
             0,
             "#0d0887"
            ],
            [
             0.1111111111111111,
             "#46039f"
            ],
            [
             0.2222222222222222,
             "#7201a8"
            ],
            [
             0.3333333333333333,
             "#9c179e"
            ],
            [
             0.4444444444444444,
             "#bd3786"
            ],
            [
             0.5555555555555556,
             "#d8576b"
            ],
            [
             0.6666666666666666,
             "#ed7953"
            ],
            [
             0.7777777777777778,
             "#fb9f3a"
            ],
            [
             0.8888888888888888,
             "#fdca26"
            ],
            [
             1,
             "#f0f921"
            ]
           ],
           "sequentialminus": [
            [
             0,
             "#0d0887"
            ],
            [
             0.1111111111111111,
             "#46039f"
            ],
            [
             0.2222222222222222,
             "#7201a8"
            ],
            [
             0.3333333333333333,
             "#9c179e"
            ],
            [
             0.4444444444444444,
             "#bd3786"
            ],
            [
             0.5555555555555556,
             "#d8576b"
            ],
            [
             0.6666666666666666,
             "#ed7953"
            ],
            [
             0.7777777777777778,
             "#fb9f3a"
            ],
            [
             0.8888888888888888,
             "#fdca26"
            ],
            [
             1,
             "#f0f921"
            ]
           ]
          },
          "colorway": [
           "#636efa",
           "#EF553B",
           "#00cc96",
           "#ab63fa",
           "#FFA15A",
           "#19d3f3",
           "#FF6692",
           "#B6E880",
           "#FF97FF",
           "#FECB52"
          ],
          "font": {
           "color": "#2a3f5f"
          },
          "geo": {
           "bgcolor": "white",
           "lakecolor": "white",
           "landcolor": "#E5ECF6",
           "showlakes": true,
           "showland": true,
           "subunitcolor": "white"
          },
          "hoverlabel": {
           "align": "left"
          },
          "hovermode": "closest",
          "mapbox": {
           "style": "light"
          },
          "paper_bgcolor": "white",
          "plot_bgcolor": "#E5ECF6",
          "polar": {
           "angularaxis": {
            "gridcolor": "white",
            "linecolor": "white",
            "ticks": ""
           },
           "bgcolor": "#E5ECF6",
           "radialaxis": {
            "gridcolor": "white",
            "linecolor": "white",
            "ticks": ""
           }
          },
          "scene": {
           "xaxis": {
            "backgroundcolor": "#E5ECF6",
            "gridcolor": "white",
            "gridwidth": 2,
            "linecolor": "white",
            "showbackground": true,
            "ticks": "",
            "zerolinecolor": "white"
           },
           "yaxis": {
            "backgroundcolor": "#E5ECF6",
            "gridcolor": "white",
            "gridwidth": 2,
            "linecolor": "white",
            "showbackground": true,
            "ticks": "",
            "zerolinecolor": "white"
           },
           "zaxis": {
            "backgroundcolor": "#E5ECF6",
            "gridcolor": "white",
            "gridwidth": 2,
            "linecolor": "white",
            "showbackground": true,
            "ticks": "",
            "zerolinecolor": "white"
           }
          },
          "shapedefaults": {
           "line": {
            "color": "#2a3f5f"
           }
          },
          "ternary": {
           "aaxis": {
            "gridcolor": "white",
            "linecolor": "white",
            "ticks": ""
           },
           "baxis": {
            "gridcolor": "white",
            "linecolor": "white",
            "ticks": ""
           },
           "bgcolor": "#E5ECF6",
           "caxis": {
            "gridcolor": "white",
            "linecolor": "white",
            "ticks": ""
           }
          },
          "title": {
           "x": 0.05
          },
          "xaxis": {
           "automargin": true,
           "gridcolor": "white",
           "linecolor": "white",
           "ticks": "",
           "title": {
            "standoff": 15
           },
           "zerolinecolor": "white",
           "zerolinewidth": 2
          },
          "yaxis": {
           "automargin": true,
           "gridcolor": "white",
           "linecolor": "white",
           "ticks": "",
           "title": {
            "standoff": 15
           },
           "zerolinecolor": "white",
           "zerolinewidth": 2
          }
         }
        },
        "title": {
         "text": "SAS Code Process analysis"
        },
        "width": 950,
        "xaxis": {
         "anchor": "y",
         "domain": [
          0,
          1
         ],
         "showgrid": false,
         "showticklabels": false,
         "zeroline": false
        },
        "yaxis": {
         "anchor": "x",
         "domain": [
          0.5,
          1
         ],
         "showgrid": false,
         "showticklabels": false,
         "zeroline": false
        }
       }
      },
      "text/html": [
       "<div>                            <div id=\"29fb1beb-2e7d-4418-a56c-53cbbf795614\" class=\"plotly-graph-div\" style=\"height:800px; width:950px;\"></div>            <script type=\"text/javascript\">                require([\"plotly\"], function(Plotly) {                    window.PLOTLYENV=window.PLOTLYENV || {};                                    if (document.getElementById(\"29fb1beb-2e7d-4418-a56c-53cbbf795614\")) {                    Plotly.newPlot(                        \"29fb1beb-2e7d-4418-a56c-53cbbf795614\",                        [{\"hoverinfo\": \"none\", \"line\": {\"color\": \"#0c7f43\", \"dash\": \"dot\", \"shape\": \"spline\", \"width\": 1}, \"mode\": \"lines\", \"type\": \"scatter\", \"x\": [-0.976554, -0.964832, -0.953109], \"xaxis\": \"x\", \"y\": [0.0, 0.0011722500000000025, 0.0], \"yaxis\": \"y\"}, {\"hoverinfo\": \"none\", \"line\": {\"color\": \"#016a38\", \"dash\": \"dot\", \"shape\": \"spline\", \"width\": 1}, \"mode\": \"lines\", \"type\": \"scatter\", \"x\": [-0.953109, -0.929663, -0.906217], \"xaxis\": \"x\", \"y\": [0.0, 0.002344599999999997, 0.0], \"yaxis\": \"y\"}, {\"hoverinfo\": \"none\", \"line\": {\"color\": \"#0c7f43\", \"dash\": \"dot\", \"shape\": \"spline\", \"width\": 1}, \"mode\": \"lines\", \"type\": \"scatter\", \"x\": [-1.0, -0.97420945, -0.953109], \"xaxis\": \"x\", \"y\": [0.023446, 0.0128953, 0.0], \"yaxis\": \"y\"}, {\"hoverinfo\": \"none\", \"line\": {\"color\": \"#006837\", \"dash\": \"dot\", \"shape\": \"spline\", \"width\": 1}, \"mode\": \"lines\", \"type\": \"scatter\", \"x\": [-1.0, -0.964832, -0.929663], \"xaxis\": \"x\", \"y\": [0.0, 0.0035168499999999993, 0.0], \"yaxis\": \"y\"}, {\"hoverinfo\": \"none\", \"line\": {\"color\": \"#016a38\", \"dash\": \"dot\", \"shape\": \"spline\", \"width\": 1}, \"mode\": \"lines\", \"type\": \"scatter\", \"x\": [-0.929663, -0.91794, -0.906217], \"xaxis\": \"x\", \"y\": [0.0, 0.0011722999999999985, 0.0], \"yaxis\": \"y\"}, {\"hoverinfo\": \"none\", \"line\": {\"color\": \"#006837\", \"dash\": \"dot\", \"shape\": \"spline\", \"width\": 1}, \"mode\": \"lines\", \"type\": \"scatter\", \"x\": [-0.906217, -0.882772, -0.859326], \"xaxis\": \"x\", \"y\": [0.0, 0.002344550000000001, 0.0], \"yaxis\": \"y\"}, {\"hoverinfo\": \"none\", \"line\": {\"color\": \"#006837\", \"dash\": \"dot\", \"shape\": \"spline\", \"width\": 1}, \"mode\": \"lines\", \"type\": \"scatter\", \"x\": [-1.0, -0.9355245999999999, -0.882772], \"xaxis\": \"x\", \"y\": [-0.023446, -0.0128953, 0.0], \"yaxis\": \"y\"}, {\"hoverinfo\": \"none\", \"line\": {\"color\": \"#006837\", \"dash\": \"dot\", \"shape\": \"spline\", \"width\": 1}, \"mode\": \"lines\", \"type\": \"scatter\", \"x\": [-0.882772, -0.871049, -0.859326], \"xaxis\": \"x\", \"y\": [0.0, 0.0011722999999999985, 0.0], \"yaxis\": \"y\"}, {\"hoverinfo\": \"none\", \"line\": {\"color\": \"#026c39\", \"dash\": \"dot\", \"shape\": \"spline\", \"width\": 1}, \"mode\": \"lines\", \"type\": \"scatter\", \"x\": [-0.859326, -0.847603, -0.83588], \"xaxis\": \"x\", \"y\": [0.0, 0.001172300000000004, 0.0], \"yaxis\": \"y\"}, {\"hoverinfo\": \"none\", \"line\": {\"color\": \"#016a38\", \"dash\": \"dot\", \"shape\": \"spline\", \"width\": 1}, \"mode\": \"lines\", \"type\": \"scatter\", \"x\": [-0.83588, -0.824158, -0.812435], \"xaxis\": \"x\", \"y\": [0.0, 0.001172249999999997, 0.0], \"yaxis\": \"y\"}, {\"hoverinfo\": \"none\", \"line\": {\"color\": \"#0a7b41\", \"dash\": \"dot\", \"shape\": \"spline\", \"width\": 1}, \"mode\": \"lines\", \"type\": \"scatter\", \"x\": [-0.812435, -0.8018843, -0.788989], \"xaxis\": \"x\", \"y\": [0.0, 0.012895300000000002, 0.023446], \"yaxis\": \"y\"}, {\"hoverinfo\": \"none\", \"line\": {\"color\": \"#0a7b41\", \"dash\": \"dot\", \"shape\": \"spline\", \"width\": 1}, \"mode\": \"lines\", \"type\": \"scatter\", \"x\": [-0.812435, -0.800712, -0.788989], \"xaxis\": \"x\", \"y\": [0.0, 0.0011722999999999985, 0.0], \"yaxis\": \"y\"}, {\"hoverinfo\": \"none\", \"line\": {\"color\": \"#0a7b41\", \"dash\": \"dot\", \"shape\": \"spline\", \"width\": 1}, \"mode\": \"lines\", \"type\": \"scatter\", \"x\": [-0.812435, -0.8018843, -0.788989], \"xaxis\": \"x\", \"y\": [0.0, -0.012895300000000002, -0.023446], \"yaxis\": \"y\"}, {\"hoverinfo\": \"none\", \"line\": {\"color\": \"#006837\", \"dash\": \"dot\", \"shape\": \"spline\", \"width\": 1}, \"mode\": \"lines\", \"type\": \"scatter\", \"x\": [-0.788989, -0.13133749999999997, 0.406741], \"xaxis\": \"x\", \"y\": [0.023446, 0.012895300000000002, 0.0], \"yaxis\": \"y\"}, {\"hoverinfo\": \"none\", \"line\": {\"color\": \"#006837\", \"dash\": \"dot\", \"shape\": \"spline\", \"width\": 1}, \"mode\": \"lines\", \"type\": \"scatter\", \"x\": [-0.788989, -0.777266, -0.765543], \"xaxis\": \"x\", \"y\": [0.0, 0.001172300000000004, 0.0], \"yaxis\": \"y\"}, {\"hoverinfo\": \"none\", \"line\": {\"color\": \"#006837\", \"dash\": \"dot\", \"shape\": \"spline\", \"width\": 1}, \"mode\": \"lines\", \"type\": \"scatter\", \"x\": [-0.788989, -0.76319945, -0.742098], \"xaxis\": \"x\", \"y\": [-0.023446, -0.0128953, 0.0], \"yaxis\": \"y\"}, {\"hoverinfo\": \"none\", \"line\": {\"color\": \"#006837\", \"dash\": \"dot\", \"shape\": \"spline\", \"width\": 1}, \"mode\": \"lines\", \"type\": \"scatter\", \"x\": [-0.765543, -0.73389085, -0.695206], \"xaxis\": \"x\", \"y\": [0.0, 0.00644815, 0.011723], \"yaxis\": \"y\"}, {\"hoverinfo\": \"none\", \"line\": {\"color\": \"#006837\", \"dash\": \"dot\", \"shape\": \"spline\", \"width\": 1}, \"mode\": \"lines\", \"type\": \"scatter\", \"x\": [-0.765543, -0.73389085, -0.695206], \"xaxis\": \"x\", \"y\": [0.0, -0.00644815, -0.011723], \"yaxis\": \"y\"}, {\"hoverinfo\": \"none\", \"line\": {\"color\": \"#006837\", \"dash\": \"dot\", \"shape\": \"spline\", \"width\": 1}, \"mode\": \"lines\", \"type\": \"scatter\", \"x\": [-0.742098, -0.730375, -0.718652], \"xaxis\": \"x\", \"y\": [0.0, 0.001172300000000004, 0.0], \"yaxis\": \"y\"}, {\"hoverinfo\": \"none\", \"line\": {\"color\": \"#006837\", \"dash\": \"dot\", \"shape\": \"spline\", \"width\": 1}, \"mode\": \"lines\", \"type\": \"scatter\", \"x\": [-0.718652, -0.7081013, -0.695206], \"xaxis\": \"x\", \"y\": [0.0, 0.00644815, 0.011723], \"yaxis\": \"y\"}, {\"hoverinfo\": \"none\", \"line\": {\"color\": \"#006837\", \"dash\": \"dot\", \"shape\": \"spline\", \"width\": 1}, \"mode\": \"lines\", \"type\": \"scatter\", \"x\": [-0.718652, -0.7081013, -0.695206], \"xaxis\": \"x\", \"y\": [0.0, -0.00644815, -0.011723], \"yaxis\": \"y\"}, {\"hoverinfo\": \"none\", \"line\": {\"color\": \"#05713c\", \"dash\": \"dot\", \"shape\": \"spline\", \"width\": 1}, \"mode\": \"lines\", \"type\": \"scatter\", \"x\": [-0.695206, -0.17940065, 0.242621], \"xaxis\": \"x\", \"y\": [0.011723, 0.00644815, 0.0], \"yaxis\": \"y\"}, {\"hoverinfo\": \"none\", \"line\": {\"color\": \"#006837\", \"dash\": \"dot\", \"shape\": \"spline\", \"width\": 1}, \"mode\": \"lines\", \"type\": \"scatter\", \"x\": [-0.695206, -0.68231175, -0.671761], \"xaxis\": \"x\", \"y\": [-0.011723, -0.00644815, 0.0], \"yaxis\": \"y\"}, {\"hoverinfo\": \"none\", \"line\": {\"color\": \"#006837\", \"dash\": \"dot\", \"shape\": \"spline\", \"width\": 1}, \"mode\": \"lines\", \"type\": \"scatter\", \"x\": [-0.671761, -0.660038, -0.648315], \"xaxis\": \"x\", \"y\": [0.0, 0.001172300000000004, 0.0], \"yaxis\": \"y\"}, {\"hoverinfo\": \"none\", \"line\": {\"color\": \"#006837\", \"dash\": \"dot\", \"shape\": \"spline\", \"width\": 1}, \"mode\": \"lines\", \"type\": \"scatter\", \"x\": [-0.648315, -0.636592, -0.624869], \"xaxis\": \"x\", \"y\": [0.0, 0.0011722999999999985, 0.0], \"yaxis\": \"y\"}, {\"hoverinfo\": \"none\", \"line\": {\"color\": \"#006837\", \"dash\": \"dot\", \"shape\": \"spline\", \"width\": 1}, \"mode\": \"lines\", \"type\": \"scatter\", \"x\": [-0.624869, -0.6143183, -0.601423], \"xaxis\": \"x\", \"y\": [0.0, 0.00644815, 0.011723], \"yaxis\": \"y\"}, {\"hoverinfo\": \"none\", \"line\": {\"color\": \"#006837\", \"dash\": \"dot\", \"shape\": \"spline\", \"width\": 1}, \"mode\": \"lines\", \"type\": \"scatter\", \"x\": [-0.624869, -0.6143183, -0.601423], \"xaxis\": \"x\", \"y\": [0.0, -0.00644815, -0.011723], \"yaxis\": \"y\"}, {\"hoverinfo\": \"none\", \"line\": {\"color\": \"#006837\", \"dash\": \"dot\", \"shape\": \"spline\", \"width\": 1}, \"mode\": \"lines\", \"type\": \"scatter\", \"x\": [-0.601423, -0.59087225, -0.577978], \"xaxis\": \"x\", \"y\": [0.011723, 0.01817115, 0.023446], \"yaxis\": \"y\"}, {\"hoverinfo\": \"none\", \"line\": {\"color\": \"#006837\", \"dash\": \"dot\", \"shape\": \"spline\", \"width\": 1}, \"mode\": \"lines\", \"type\": \"scatter\", \"x\": [-0.601423, -0.58852775, -0.577978], \"xaxis\": \"x\", \"y\": [0.011723, 0.00644815, 0.0], \"yaxis\": \"y\"}, {\"hoverinfo\": \"none\", \"line\": {\"color\": \"#006837\", \"dash\": \"dot\", \"shape\": \"spline\", \"width\": 1}, \"mode\": \"lines\", \"type\": \"scatter\", \"x\": [-0.601423, -0.58852775, -0.577978], \"xaxis\": \"x\", \"y\": [0.011723, -0.004103549999999999, -0.023446], \"yaxis\": \"y\"}, {\"hoverinfo\": \"none\", \"line\": {\"color\": \"#148e4b\", \"dash\": \"dot\", \"shape\": \"spline\", \"width\": 1}, \"mode\": \"lines\", \"type\": \"scatter\", \"x\": [-0.577978, -0.3200753, -0.109064], \"xaxis\": \"x\", \"y\": [0.023446, 0.012895300000000002, 0.0], \"yaxis\": \"y\"}, {\"hoverinfo\": \"none\", \"line\": {\"color\": \"#006837\", \"dash\": \"dot\", \"shape\": \"spline\", \"width\": 1}, \"mode\": \"lines\", \"type\": \"scatter\", \"x\": [-0.577978, -0.402136, -0.226293], \"xaxis\": \"x\", \"y\": [0.0, 0.017584250000000003, 0.0], \"yaxis\": \"y\"}, {\"hoverinfo\": \"none\", \"line\": {\"color\": \"#219c52\", \"dash\": \"dot\", \"shape\": \"spline\", \"width\": 1}, \"mode\": \"lines\", \"type\": \"scatter\", \"x\": [-0.577978, -0.5650826999999999, -0.554532], \"xaxis\": \"x\", \"y\": [-0.023446, -0.012895300000000002, 0.0], \"yaxis\": \"y\"}, {\"hoverinfo\": \"none\", \"line\": {\"color\": \"#08773f\", \"dash\": \"dot\", \"shape\": \"spline\", \"width\": 1}, \"mode\": \"lines\", \"type\": \"scatter\", \"x\": [-0.554532, -0.542809, -0.531086], \"xaxis\": \"x\", \"y\": [0.0, 0.001172300000000004, 0.0], \"yaxis\": \"y\"}, {\"hoverinfo\": \"none\", \"line\": {\"color\": \"#4eb15d\", \"dash\": \"dot\", \"shape\": \"spline\", \"width\": 1}, \"mode\": \"lines\", \"type\": \"scatter\", \"x\": [-0.531086, -0.52053625, -0.507641], \"xaxis\": \"x\", \"y\": [0.0, 0.00644815, 0.011723], \"yaxis\": \"y\"}, {\"hoverinfo\": \"none\", \"line\": {\"color\": \"#4eb15d\", \"dash\": \"dot\", \"shape\": \"spline\", \"width\": 1}, \"mode\": \"lines\", \"type\": \"scatter\", \"x\": [-0.531086, -0.52053625, -0.507641], \"xaxis\": \"x\", \"y\": [0.0, -0.00644815, -0.011723], \"yaxis\": \"y\"}, {\"hoverinfo\": \"none\", \"line\": {\"color\": \"#006837\", \"dash\": \"dot\", \"shape\": \"spline\", \"width\": 1}, \"mode\": \"lines\", \"type\": \"scatter\", \"x\": [-0.507641, -0.495918, -0.484195], \"xaxis\": \"x\", \"y\": [0.011723, 0.012895300000000002, 0.011723], \"yaxis\": \"y\"}, {\"hoverinfo\": \"none\", \"line\": {\"color\": \"#006837\", \"dash\": \"dot\", \"shape\": \"spline\", \"width\": 1}, \"mode\": \"lines\", \"type\": \"scatter\", \"x\": [-0.507641, -0.4947457, -0.484195], \"xaxis\": \"x\", \"y\": [0.011723, 0.0011723000000000003, -0.011723], \"yaxis\": \"y\"}, {\"hoverinfo\": \"none\", \"line\": {\"color\": \"#006837\", \"dash\": \"dot\", \"shape\": \"spline\", \"width\": 1}, \"mode\": \"lines\", \"type\": \"scatter\", \"x\": [-0.507641, -0.49709030000000004, -0.484195], \"xaxis\": \"x\", \"y\": [-0.011723, 0.0011723000000000003, 0.011723], \"yaxis\": \"y\"}, {\"hoverinfo\": \"none\", \"line\": {\"color\": \"#006837\", \"dash\": \"dot\", \"shape\": \"spline\", \"width\": 1}, \"mode\": \"lines\", \"type\": \"scatter\", \"x\": [-0.507641, -0.495918, -0.484195], \"xaxis\": \"x\", \"y\": [-0.011723, -0.012895300000000002, -0.011723], \"yaxis\": \"y\"}, {\"hoverinfo\": \"none\", \"line\": {\"color\": \"#026c39\", \"dash\": \"dot\", \"shape\": \"spline\", \"width\": 1}, \"mode\": \"lines\", \"type\": \"scatter\", \"x\": [-0.484195, -0.38103375, -0.29663], \"xaxis\": \"x\", \"y\": [0.011723, 0.006448150000000001, 0.0], \"yaxis\": \"y\"}, {\"hoverinfo\": \"none\", \"line\": {\"color\": \"#006837\", \"dash\": \"dot\", \"shape\": \"spline\", \"width\": 1}, \"mode\": \"lines\", \"type\": \"scatter\", \"x\": [-0.484195, -0.4712997, -0.460749], \"xaxis\": \"x\", \"y\": [-0.011723, -0.00644815, 0.0], \"yaxis\": \"y\"}, {\"hoverinfo\": \"none\", \"line\": {\"color\": \"#006837\", \"dash\": \"dot\", \"shape\": \"spline\", \"width\": 1}, \"mode\": \"lines\", \"type\": \"scatter\", \"x\": [-0.460749, -0.449026, -0.437304], \"xaxis\": \"x\", \"y\": [0.0, 0.0011722499999999997, 0.0], \"yaxis\": \"y\"}, {\"hoverinfo\": \"none\", \"line\": {\"color\": \"#006837\", \"dash\": \"dot\", \"shape\": \"spline\", \"width\": 1}, \"mode\": \"lines\", \"type\": \"scatter\", \"x\": [-0.437304, -0.425581, -0.413858], \"xaxis\": \"x\", \"y\": [0.0, 0.0011723000000000011, 0.0], \"yaxis\": \"y\"}, {\"hoverinfo\": \"none\", \"line\": {\"color\": \"#006837\", \"dash\": \"dot\", \"shape\": \"spline\", \"width\": 1}, \"mode\": \"lines\", \"type\": \"scatter\", \"x\": [-0.413858, -0.402135, -0.390412], \"xaxis\": \"x\", \"y\": [0.0, 0.0011723000000000011, 0.0], \"yaxis\": \"y\"}, {\"hoverinfo\": \"none\", \"line\": {\"color\": \"#006837\", \"dash\": \"dot\", \"shape\": \"spline\", \"width\": 1}, \"mode\": \"lines\", \"type\": \"scatter\", \"x\": [-0.390412, -0.37869, -0.366967], \"xaxis\": \"x\", \"y\": [0.0, 0.0011722499999999997, 0.0], \"yaxis\": \"y\"}, {\"hoverinfo\": \"none\", \"line\": {\"color\": \"#006837\", \"dash\": \"dot\", \"shape\": \"spline\", \"width\": 1}, \"mode\": \"lines\", \"type\": \"scatter\", \"x\": [-0.366967, -0.355244, -0.343521], \"xaxis\": \"x\", \"y\": [0.0, 0.0011722999999999985, 0.0], \"yaxis\": \"y\"}, {\"hoverinfo\": \"none\", \"line\": {\"color\": \"#006837\", \"dash\": \"dot\", \"shape\": \"spline\", \"width\": 1}, \"mode\": \"lines\", \"type\": \"scatter\", \"x\": [-0.343521, -0.331798, -0.320075], \"xaxis\": \"x\", \"y\": [0.0, 0.0011723000000000011, 0.0], \"yaxis\": \"y\"}, {\"hoverinfo\": \"none\", \"line\": {\"color\": \"#016a38\", \"dash\": \"dot\", \"shape\": \"spline\", \"width\": 1}, \"mode\": \"lines\", \"type\": \"scatter\", \"x\": [-0.320075, -0.29663, -0.273184], \"xaxis\": \"x\", \"y\": [0.0, 0.002344550000000001, 0.0], \"yaxis\": \"y\"}, {\"hoverinfo\": \"none\", \"line\": {\"color\": \"#006837\", \"dash\": \"dot\", \"shape\": \"spline\", \"width\": 1}, \"mode\": \"lines\", \"type\": \"scatter\", \"x\": [-0.273184, -0.261461, -0.249738], \"xaxis\": \"x\", \"y\": [0.0, 0.0011722999999999998, 0.0], \"yaxis\": \"y\"}, {\"hoverinfo\": \"none\", \"line\": {\"color\": \"#006837\", \"dash\": \"dot\", \"shape\": \"spline\", \"width\": 1}, \"mode\": \"lines\", \"type\": \"scatter\", \"x\": [-0.249738, -0.238016, -0.226293], \"xaxis\": \"x\", \"y\": [0.0, 0.0011722499999999997, 0.0], \"yaxis\": \"y\"}, {\"hoverinfo\": \"none\", \"line\": {\"color\": \"#006837\", \"dash\": \"dot\", \"shape\": \"spline\", \"width\": 1}, \"mode\": \"lines\", \"type\": \"scatter\", \"x\": [-0.226293, -0.21457, -0.202847], \"xaxis\": \"x\", \"y\": [0.0, 0.0011722999999999998, 0.0], \"yaxis\": \"y\"}, {\"hoverinfo\": \"none\", \"line\": {\"color\": \"#006837\", \"dash\": \"dot\", \"shape\": \"spline\", \"width\": 1}, \"mode\": \"lines\", \"type\": \"scatter\", \"x\": [-0.202847, -0.191124, -0.179401], \"xaxis\": \"x\", \"y\": [0.0, 0.0011722999999999998, 0.0], \"yaxis\": \"y\"}, {\"hoverinfo\": \"none\", \"line\": {\"color\": \"#006837\", \"dash\": \"dot\", \"shape\": \"spline\", \"width\": 1}, \"mode\": \"lines\", \"type\": \"scatter\", \"x\": [-0.179401, -0.167678, -0.155956], \"xaxis\": \"x\", \"y\": [0.0, 0.0011722499999999997, 0.0], \"yaxis\": \"y\"}, {\"hoverinfo\": \"none\", \"line\": {\"color\": \"#006837\", \"dash\": \"dot\", \"shape\": \"spline\", \"width\": 1}, \"mode\": \"lines\", \"type\": \"scatter\", \"x\": [-0.155956, -0.144233, -0.13251], \"xaxis\": \"x\", \"y\": [0.0, 0.0011723000000000011, 0.0], \"yaxis\": \"y\"}, {\"hoverinfo\": \"none\", \"line\": {\"color\": \"#f88c51\", \"dash\": \"dot\", \"shape\": \"spline\", \"width\": 1}, \"mode\": \"lines\", \"type\": \"scatter\", \"x\": [-0.13251, -0.097342, -0.062173], \"xaxis\": \"x\", \"y\": [0.0, 0.0035168499999999993, 0.0], \"yaxis\": \"y\"}, {\"hoverinfo\": \"none\", \"line\": {\"color\": \"#006837\", \"dash\": \"dot\", \"shape\": \"spline\", \"width\": 1}, \"mode\": \"lines\", \"type\": \"scatter\", \"x\": [-0.109064, -0.097342, -0.085619], \"xaxis\": \"x\", \"y\": [0.0, 0.0011722499999999997, 0.0], \"yaxis\": \"y\"}, {\"hoverinfo\": \"none\", \"line\": {\"color\": \"#0a7b41\", \"dash\": \"dot\", \"shape\": \"spline\", \"width\": 1}, \"mode\": \"lines\", \"type\": \"scatter\", \"x\": [-0.085619, -0.053966850000000004, -0.015282], \"xaxis\": \"x\", \"y\": [0.0, 0.00644815, 0.011723], \"yaxis\": \"y\"}, {\"hoverinfo\": \"none\", \"line\": {\"color\": \"#0a7b41\", \"dash\": \"dot\", \"shape\": \"spline\", \"width\": 1}, \"mode\": \"lines\", \"type\": \"scatter\", \"x\": [-0.085619, -0.053966850000000004, -0.015282], \"xaxis\": \"x\", \"y\": [0.0, -0.00644815, -0.011723], \"yaxis\": \"y\"}, {\"hoverinfo\": \"none\", \"line\": {\"color\": \"#05713c\", \"dash\": \"dot\", \"shape\": \"spline\", \"width\": 1}, \"mode\": \"lines\", \"type\": \"scatter\", \"x\": [-0.062173, -0.05045, -0.038727], \"xaxis\": \"x\", \"y\": [0.0, 0.0011723000000000003, 0.0], \"yaxis\": \"y\"}, {\"hoverinfo\": \"none\", \"line\": {\"color\": \"#a50026\", \"dash\": \"dot\", \"shape\": \"spline\", \"width\": 1}, \"mode\": \"lines\", \"type\": \"scatter\", \"x\": [-0.038727, -0.01762655, 0.008164], \"xaxis\": \"x\", \"y\": [0.0, 0.0128953, 0.023446], \"yaxis\": \"y\"}, {\"hoverinfo\": \"none\", \"line\": {\"color\": \"#a50026\", \"dash\": \"dot\", \"shape\": \"spline\", \"width\": 1}, \"mode\": \"lines\", \"type\": \"scatter\", \"x\": [-0.038727, -0.015282, 0.008164], \"xaxis\": \"x\", \"y\": [0.0, 0.00234455, 0.0], \"yaxis\": \"y\"}, {\"hoverinfo\": \"none\", \"line\": {\"color\": \"#a50026\", \"dash\": \"dot\", \"shape\": \"spline\", \"width\": 1}, \"mode\": \"lines\", \"type\": \"scatter\", \"x\": [-0.038727, -0.01762655, 0.008164], \"xaxis\": \"x\", \"y\": [0.0, -0.0128953, -0.023446], \"yaxis\": \"y\"}, {\"hoverinfo\": \"none\", \"line\": {\"color\": \"#05713c\", \"dash\": \"dot\", \"shape\": \"spline\", \"width\": 1}, \"mode\": \"lines\", \"type\": \"scatter\", \"x\": [-0.015282, 0.40674, 0.828763], \"xaxis\": \"x\", \"y\": [0.011723, 0.05392525000000001, 0.011723], \"yaxis\": \"y\"}, {\"hoverinfo\": \"none\", \"line\": {\"color\": \"#05713c\", \"dash\": \"dot\", \"shape\": \"spline\", \"width\": 1}, \"mode\": \"lines\", \"type\": \"scatter\", \"x\": [-0.015282, 0.44894225, 0.828763], \"xaxis\": \"x\", \"y\": [0.011723, 0.0011723000000000003, -0.011723], \"yaxis\": \"y\"}, {\"hoverinfo\": \"none\", \"line\": {\"color\": \"#a50026\", \"dash\": \"dot\", \"shape\": \"spline\", \"width\": 1}, \"mode\": \"lines\", \"type\": \"scatter\", \"x\": [-0.015282, -0.004731300000000001, 0.008164], \"xaxis\": \"x\", \"y\": [-0.011723, 0.007620450000000001, 0.023446], \"yaxis\": \"y\"}, {\"hoverinfo\": \"none\", \"line\": {\"color\": \"#a50026\", \"dash\": \"dot\", \"shape\": \"spline\", \"width\": 1}, \"mode\": \"lines\", \"type\": \"scatter\", \"x\": [-0.015282, -0.0023867000000000003, 0.008164], \"xaxis\": \"x\", \"y\": [-0.011723, -0.00644815, 0.0], \"yaxis\": \"y\"}, {\"hoverinfo\": \"none\", \"line\": {\"color\": \"#a50026\", \"dash\": \"dot\", \"shape\": \"spline\", \"width\": 1}, \"mode\": \"lines\", \"type\": \"scatter\", \"x\": [-0.015282, -0.0047313, 0.008164], \"xaxis\": \"x\", \"y\": [-0.011723, -0.01817115, -0.023446], \"yaxis\": \"y\"}, {\"hoverinfo\": \"none\", \"line\": {\"color\": \"#04703b\", \"dash\": \"dot\", \"shape\": \"spline\", \"width\": 1}, \"mode\": \"lines\", \"type\": \"scatter\", \"x\": [0.008164, 0.019887, 0.03161], \"xaxis\": \"x\", \"y\": [0.0, 0.0011723000000000003, 0.0], \"yaxis\": \"y\"}, {\"hoverinfo\": \"none\", \"line\": {\"color\": \"#0e8245\", \"dash\": \"dot\", \"shape\": \"spline\", \"width\": 1}, \"mode\": \"lines\", \"type\": \"scatter\", \"x\": [0.008164, 0.03395455, 0.055055], \"xaxis\": \"x\", \"y\": [-0.023446, -0.012895300000000002, 0.0], \"yaxis\": \"y\"}, {\"hoverinfo\": \"none\", \"line\": {\"color\": \"#05713c\", \"dash\": \"dot\", \"shape\": \"spline\", \"width\": 1}, \"mode\": \"lines\", \"type\": \"scatter\", \"x\": [0.055055, 0.0656057, 0.078501], \"xaxis\": \"x\", \"y\": [0.0, 0.00644815, 0.011723], \"yaxis\": \"y\"}, {\"hoverinfo\": \"none\", \"line\": {\"color\": \"#05713c\", \"dash\": \"dot\", \"shape\": \"spline\", \"width\": 1}, \"mode\": \"lines\", \"type\": \"scatter\", \"x\": [0.055055, 0.0656057, 0.078501], \"xaxis\": \"x\", \"y\": [0.0, -0.00644815, -0.011723], \"yaxis\": \"y\"}, {\"hoverinfo\": \"none\", \"line\": {\"color\": \"#1e9a51\", \"dash\": \"dot\", \"shape\": \"spline\", \"width\": 1}, \"mode\": \"lines\", \"type\": \"scatter\", \"x\": [0.078501, 0.0913963, 0.101947], \"xaxis\": \"x\", \"y\": [0.011723, 0.00644815, 0.0], \"yaxis\": \"y\"}, {\"hoverinfo\": \"none\", \"line\": {\"color\": \"#1e9a51\", \"dash\": \"dot\", \"shape\": \"spline\", \"width\": 1}, \"mode\": \"lines\", \"type\": \"scatter\", \"x\": [0.078501, 0.0913963, 0.101947], \"xaxis\": \"x\", \"y\": [-0.011723, -0.00644815, 0.0], \"yaxis\": \"y\"}, {\"hoverinfo\": \"none\", \"line\": {\"color\": \"#016a38\", \"dash\": \"dot\", \"shape\": \"spline\", \"width\": 1}, \"mode\": \"lines\", \"type\": \"scatter\", \"x\": [0.101947, 0.11367, 0.125393], \"xaxis\": \"x\", \"y\": [0.0, 0.0011723000000000005, 0.0], \"yaxis\": \"y\"}, {\"hoverinfo\": \"none\", \"line\": {\"color\": \"#87cb67\", \"dash\": \"dot\", \"shape\": \"spline\", \"width\": 1}, \"mode\": \"lines\", \"type\": \"scatter\", \"x\": [0.125393, 0.137116, 0.148838], \"xaxis\": \"x\", \"y\": [0.0, 0.0011722499999999997, 0.0], \"yaxis\": \"y\"}, {\"hoverinfo\": \"none\", \"line\": {\"color\": \"#016a38\", \"dash\": \"dot\", \"shape\": \"spline\", \"width\": 1}, \"mode\": \"lines\", \"type\": \"scatter\", \"x\": [0.148838, 0.160561, 0.172284], \"xaxis\": \"x\", \"y\": [0.0, 0.0011722999999999998, 0.0], \"yaxis\": \"y\"}, {\"hoverinfo\": \"none\", \"line\": {\"color\": \"#016a38\", \"dash\": \"dot\", \"shape\": \"spline\", \"width\": 1}, \"mode\": \"lines\", \"type\": \"scatter\", \"x\": [0.172284, 0.184007, 0.19573], \"xaxis\": \"x\", \"y\": [0.0, 0.0011722999999999998, 0.0], \"yaxis\": \"y\"}, {\"hoverinfo\": \"none\", \"line\": {\"color\": \"#006837\", \"dash\": \"dot\", \"shape\": \"spline\", \"width\": 1}, \"mode\": \"lines\", \"type\": \"scatter\", \"x\": [0.19573, 0.207452, 0.219175], \"xaxis\": \"x\", \"y\": [0.0, 0.0011722500000000012, 0.0], \"yaxis\": \"y\"}, {\"hoverinfo\": \"none\", \"line\": {\"color\": \"#05713c\", \"dash\": \"dot\", \"shape\": \"spline\", \"width\": 1}, \"mode\": \"lines\", \"type\": \"scatter\", \"x\": [0.219175, 0.230898, 0.242621], \"xaxis\": \"x\", \"y\": [0.0, 0.0011722999999999998, 0.0], \"yaxis\": \"y\"}, {\"hoverinfo\": \"none\", \"line\": {\"color\": \"#006837\", \"dash\": \"dot\", \"shape\": \"spline\", \"width\": 1}, \"mode\": \"lines\", \"type\": \"scatter\", \"x\": [0.242621, 0.254344, 0.266067], \"xaxis\": \"x\", \"y\": [0.0, 0.0011722999999999998, 0.0], \"yaxis\": \"y\"}, {\"hoverinfo\": \"none\", \"line\": {\"color\": \"#006837\", \"dash\": \"dot\", \"shape\": \"spline\", \"width\": 1}, \"mode\": \"lines\", \"type\": \"scatter\", \"x\": [0.266067, 0.27661775, 0.289512], \"xaxis\": \"x\", \"y\": [0.0, -0.00644815, -0.011723], \"yaxis\": \"y\"}, {\"hoverinfo\": \"none\", \"line\": {\"color\": \"#006837\", \"dash\": \"dot\", \"shape\": \"spline\", \"width\": 1}, \"mode\": \"lines\", \"type\": \"scatter\", \"x\": [0.289512, 0.3024073, 0.312958], \"xaxis\": \"x\", \"y\": [0.011723, 0.00644815, 0.0], \"yaxis\": \"y\"}, {\"hoverinfo\": \"none\", \"line\": {\"color\": \"#006837\", \"dash\": \"dot\", \"shape\": \"spline\", \"width\": 1}, \"mode\": \"lines\", \"type\": \"scatter\", \"x\": [0.289512, 0.3153026, 0.336404], \"xaxis\": \"x\", \"y\": [-0.011723, -0.00644815, 0.0], \"yaxis\": \"y\"}, {\"hoverinfo\": \"none\", \"line\": {\"color\": \"#006837\", \"dash\": \"dot\", \"shape\": \"spline\", \"width\": 1}, \"mode\": \"lines\", \"type\": \"scatter\", \"x\": [0.312958, 0.324681, 0.336404], \"xaxis\": \"x\", \"y\": [0.0, 0.0011722999999999985, 0.0], \"yaxis\": \"y\"}, {\"hoverinfo\": \"none\", \"line\": {\"color\": \"#006837\", \"dash\": \"dot\", \"shape\": \"spline\", \"width\": 1}, \"mode\": \"lines\", \"type\": \"scatter\", \"x\": [0.336404, 0.348126, 0.359849], \"xaxis\": \"x\", \"y\": [0.0, 0.0011722499999999997, 0.0], \"yaxis\": \"y\"}, {\"hoverinfo\": \"none\", \"line\": {\"color\": \"#026c39\", \"dash\": \"dot\", \"shape\": \"spline\", \"width\": 1}, \"mode\": \"lines\", \"type\": \"scatter\", \"x\": [0.359849, 0.3703997, 0.383295], \"xaxis\": \"x\", \"y\": [0.0, 0.012895300000000002, 0.023446], \"yaxis\": \"y\"}, {\"hoverinfo\": \"none\", \"line\": {\"color\": \"#026c39\", \"dash\": \"dot\", \"shape\": \"spline\", \"width\": 1}, \"mode\": \"lines\", \"type\": \"scatter\", \"x\": [0.359849, 0.371572, 0.383295], \"xaxis\": \"x\", \"y\": [0.0, 0.0011723000000000011, 0.0], \"yaxis\": \"y\"}, {\"hoverinfo\": \"none\", \"line\": {\"color\": \"#026c39\", \"dash\": \"dot\", \"shape\": \"spline\", \"width\": 1}, \"mode\": \"lines\", \"type\": \"scatter\", \"x\": [0.359849, 0.3703997, 0.383295], \"xaxis\": \"x\", \"y\": [0.0, -0.012895300000000002, -0.023446], \"yaxis\": \"y\"}, {\"hoverinfo\": \"none\", \"line\": {\"color\": \"#016a38\", \"dash\": \"dot\", \"shape\": \"spline\", \"width\": 1}, \"mode\": \"lines\", \"type\": \"scatter\", \"x\": [0.406741, 0.418464, 0.430186], \"xaxis\": \"x\", \"y\": [0.0, 0.0011722499999999997, 0.0], \"yaxis\": \"y\"}, {\"hoverinfo\": \"none\", \"line\": {\"color\": \"#016a38\", \"dash\": \"dot\", \"shape\": \"spline\", \"width\": 1}, \"mode\": \"lines\", \"type\": \"scatter\", \"x\": [0.430186, 0.441909, 0.453632], \"xaxis\": \"x\", \"y\": [0.0, 0.0011722999999999985, 0.0], \"yaxis\": \"y\"}, {\"hoverinfo\": \"none\", \"line\": {\"color\": \"#006837\", \"dash\": \"dot\", \"shape\": \"spline\", \"width\": 1}, \"mode\": \"lines\", \"type\": \"scatter\", \"x\": [0.453632, 0.465355, 0.477078], \"xaxis\": \"x\", \"y\": [0.0, 0.0011723000000000011, 0.0], \"yaxis\": \"y\"}, {\"hoverinfo\": \"none\", \"line\": {\"color\": \"#006837\", \"dash\": \"dot\", \"shape\": \"spline\", \"width\": 1}, \"mode\": \"lines\", \"type\": \"scatter\", \"x\": [0.477078, 0.4888, 0.500523], \"xaxis\": \"x\", \"y\": [0.0, 0.0011722500000000025, 0.0], \"yaxis\": \"y\"}, {\"hoverinfo\": \"none\", \"line\": {\"color\": \"#036e3a\", \"dash\": \"dot\", \"shape\": \"spline\", \"width\": 1}, \"mode\": \"lines\", \"type\": \"scatter\", \"x\": [0.500523, 0.5110737, 0.523969], \"xaxis\": \"x\", \"y\": [0.0, 0.00644815, 0.011723], \"yaxis\": \"y\"}, {\"hoverinfo\": \"none\", \"line\": {\"color\": \"#036e3a\", \"dash\": \"dot\", \"shape\": \"spline\", \"width\": 1}, \"mode\": \"lines\", \"type\": \"scatter\", \"x\": [0.500523, 0.5110737, 0.523969], \"xaxis\": \"x\", \"y\": [0.0, -0.00644815, -0.011723], \"yaxis\": \"y\"}, {\"hoverinfo\": \"none\", \"line\": {\"color\": \"#016a38\", \"dash\": \"dot\", \"shape\": \"spline\", \"width\": 1}, \"mode\": \"lines\", \"type\": \"scatter\", \"x\": [0.523969, 0.629474, 0.73498], \"xaxis\": \"x\", \"y\": [0.011723, 0.02227355, 0.011723], \"yaxis\": \"y\"}, {\"hoverinfo\": \"none\", \"line\": {\"color\": \"#016a38\", \"dash\": \"dot\", \"shape\": \"spline\", \"width\": 1}, \"mode\": \"lines\", \"type\": \"scatter\", \"x\": [0.523969, 0.64002455, 0.73498], \"xaxis\": \"x\", \"y\": [0.011723, 0.0011723, -0.011723], \"yaxis\": \"y\"}, {\"hoverinfo\": \"none\", \"line\": {\"color\": \"#016a38\", \"dash\": \"dot\", \"shape\": \"spline\", \"width\": 1}, \"mode\": \"lines\", \"type\": \"scatter\", \"x\": [0.523969, 0.5368643, 0.547415], \"xaxis\": \"x\", \"y\": [-0.011723, -0.00644815, 0.0], \"yaxis\": \"y\"}, {\"hoverinfo\": \"none\", \"line\": {\"color\": \"#036e3a\", \"dash\": \"dot\", \"shape\": \"spline\", \"width\": 1}, \"mode\": \"lines\", \"type\": \"scatter\", \"x\": [0.547415, 0.55796575, 0.57086], \"xaxis\": \"x\", \"y\": [0.0, 0.00644815, 0.011723], \"yaxis\": \"y\"}, {\"hoverinfo\": \"none\", \"line\": {\"color\": \"#036e3a\", \"dash\": \"dot\", \"shape\": \"spline\", \"width\": 1}, \"mode\": \"lines\", \"type\": \"scatter\", \"x\": [0.547415, 0.55796575, 0.57086], \"xaxis\": \"x\", \"y\": [0.0, -0.00644815, -0.011723], \"yaxis\": \"y\"}, {\"hoverinfo\": \"none\", \"line\": {\"color\": \"#016a38\", \"dash\": \"dot\", \"shape\": \"spline\", \"width\": 1}, \"mode\": \"lines\", \"type\": \"scatter\", \"x\": [0.57086, 0.65292, 0.73498], \"xaxis\": \"x\", \"y\": [0.011723, 0.019928999999999995, 0.011723], \"yaxis\": \"y\"}, {\"hoverinfo\": \"none\", \"line\": {\"color\": \"#016a38\", \"dash\": \"dot\", \"shape\": \"spline\", \"width\": 1}, \"mode\": \"lines\", \"type\": \"scatter\", \"x\": [0.57086, 0.661126, 0.73498], \"xaxis\": \"x\", \"y\": [0.011723, 0.0011723000000000003, -0.011723], \"yaxis\": \"y\"}, {\"hoverinfo\": \"none\", \"line\": {\"color\": \"#016a38\", \"dash\": \"dot\", \"shape\": \"spline\", \"width\": 1}, \"mode\": \"lines\", \"type\": \"scatter\", \"x\": [0.57086, 0.5837553, 0.594306], \"xaxis\": \"x\", \"y\": [-0.011723, -0.00644815, 0.0], \"yaxis\": \"y\"}, {\"hoverinfo\": \"none\", \"line\": {\"color\": \"#036e3a\", \"dash\": \"dot\", \"shape\": \"spline\", \"width\": 1}, \"mode\": \"lines\", \"type\": \"scatter\", \"x\": [0.594306, 0.6048567, 0.617752], \"xaxis\": \"x\", \"y\": [0.0, 0.00644815, 0.011723], \"yaxis\": \"y\"}, {\"hoverinfo\": \"none\", \"line\": {\"color\": \"#036e3a\", \"dash\": \"dot\", \"shape\": \"spline\", \"width\": 1}, \"mode\": \"lines\", \"type\": \"scatter\", \"x\": [0.594306, 0.6048567, 0.617752], \"xaxis\": \"x\", \"y\": [0.0, -0.00644815, -0.011723], \"yaxis\": \"y\"}, {\"hoverinfo\": \"none\", \"line\": {\"color\": \"#016a38\", \"dash\": \"dot\", \"shape\": \"spline\", \"width\": 1}, \"mode\": \"lines\", \"type\": \"scatter\", \"x\": [0.617752, 0.676366, 0.73498], \"xaxis\": \"x\", \"y\": [0.011723, 0.0175844, 0.011723], \"yaxis\": \"y\"}, {\"hoverinfo\": \"none\", \"line\": {\"color\": \"#016a38\", \"dash\": \"dot\", \"shape\": \"spline\", \"width\": 1}, \"mode\": \"lines\", \"type\": \"scatter\", \"x\": [0.617752, 0.6822274, 0.73498], \"xaxis\": \"x\", \"y\": [0.011723, 0.0011723, -0.011723], \"yaxis\": \"y\"}, {\"hoverinfo\": \"none\", \"line\": {\"color\": \"#016a38\", \"dash\": \"dot\", \"shape\": \"spline\", \"width\": 1}, \"mode\": \"lines\", \"type\": \"scatter\", \"x\": [0.617752, 0.63064625, 0.641197], \"xaxis\": \"x\", \"y\": [-0.011723, -0.00644815, 0.0], \"yaxis\": \"y\"}, {\"hoverinfo\": \"none\", \"line\": {\"color\": \"#036e3a\", \"dash\": \"dot\", \"shape\": \"spline\", \"width\": 1}, \"mode\": \"lines\", \"type\": \"scatter\", \"x\": [0.641197, 0.6517476999999999, 0.664643], \"xaxis\": \"x\", \"y\": [0.0, 0.00644815, 0.011723], \"yaxis\": \"y\"}, {\"hoverinfo\": \"none\", \"line\": {\"color\": \"#036e3a\", \"dash\": \"dot\", \"shape\": \"spline\", \"width\": 1}, \"mode\": \"lines\", \"type\": \"scatter\", \"x\": [0.641197, 0.6517476999999999, 0.664643], \"xaxis\": \"x\", \"y\": [0.0, -0.00644815, -0.011723], \"yaxis\": \"y\"}, {\"hoverinfo\": \"none\", \"line\": {\"color\": \"#016a38\", \"dash\": \"dot\", \"shape\": \"spline\", \"width\": 1}, \"mode\": \"lines\", \"type\": \"scatter\", \"x\": [0.664643, 0.699812, 0.73498], \"xaxis\": \"x\", \"y\": [0.011723, 0.01523985, 0.011723], \"yaxis\": \"y\"}, {\"hoverinfo\": \"none\", \"line\": {\"color\": \"#016a38\", \"dash\": \"dot\", \"shape\": \"spline\", \"width\": 1}, \"mode\": \"lines\", \"type\": \"scatter\", \"x\": [0.664643, 0.70332885, 0.73498], \"xaxis\": \"x\", \"y\": [0.011723, 0.0011723000000000003, -0.011723], \"yaxis\": \"y\"}, {\"hoverinfo\": \"none\", \"line\": {\"color\": \"#016a38\", \"dash\": \"dot\", \"shape\": \"spline\", \"width\": 1}, \"mode\": \"lines\", \"type\": \"scatter\", \"x\": [0.664643, 0.6775383, 0.688089], \"xaxis\": \"x\", \"y\": [-0.011723, -0.00644815, 0.0], \"yaxis\": \"y\"}, {\"hoverinfo\": \"none\", \"line\": {\"color\": \"#016a38\", \"dash\": \"dot\", \"shape\": \"spline\", \"width\": 1}, \"mode\": \"lines\", \"type\": \"scatter\", \"x\": [0.688089, 0.699812, 0.711534], \"xaxis\": \"x\", \"y\": [0.0, 0.0011722500000000025, 0.0], \"yaxis\": \"y\"}, {\"hoverinfo\": \"none\", \"line\": {\"color\": \"#016a38\", \"dash\": \"dot\", \"shape\": \"spline\", \"width\": 1}, \"mode\": \"lines\", \"type\": \"scatter\", \"x\": [0.711534, 0.7220847, 0.73498], \"xaxis\": \"x\", \"y\": [0.0, 0.00644815, 0.011723], \"yaxis\": \"y\"}, {\"hoverinfo\": \"none\", \"line\": {\"color\": \"#016a38\", \"dash\": \"dot\", \"shape\": \"spline\", \"width\": 1}, \"mode\": \"lines\", \"type\": \"scatter\", \"x\": [0.711534, 0.7220847, 0.73498], \"xaxis\": \"x\", \"y\": [0.0, -0.00644815, -0.011723], \"yaxis\": \"y\"}, {\"hoverinfo\": \"none\", \"line\": {\"color\": \"#006837\", \"dash\": \"dot\", \"shape\": \"spline\", \"width\": 1}, \"mode\": \"lines\", \"type\": \"scatter\", \"x\": [0.73498, 0.7478753, 0.758426], \"xaxis\": \"x\", \"y\": [0.011723, 0.00644815, 0.0], \"yaxis\": \"y\"}, {\"hoverinfo\": \"none\", \"line\": {\"color\": \"#016a38\", \"dash\": \"dot\", \"shape\": \"spline\", \"width\": 1}, \"mode\": \"lines\", \"type\": \"scatter\", \"x\": [0.73498, 0.76663115, 0.805317], \"xaxis\": \"x\", \"y\": [-0.011723, 0.007620450000000001, 0.023446], \"yaxis\": \"y\"}, {\"hoverinfo\": \"none\", \"line\": {\"color\": \"#016a38\", \"dash\": \"dot\", \"shape\": \"spline\", \"width\": 1}, \"mode\": \"lines\", \"type\": \"scatter\", \"x\": [0.73498, 0.7736648500000001, 0.805317], \"xaxis\": \"x\", \"y\": [-0.011723, -0.00644815, 0.0], \"yaxis\": \"y\"}, {\"hoverinfo\": \"none\", \"line\": {\"color\": \"#016a38\", \"dash\": \"dot\", \"shape\": \"spline\", \"width\": 1}, \"mode\": \"lines\", \"type\": \"scatter\", \"x\": [0.73498, 0.76663115, 0.805317], \"xaxis\": \"x\", \"y\": [-0.011723, -0.01817115, -0.023446], \"yaxis\": \"y\"}, {\"hoverinfo\": \"none\", \"line\": {\"color\": \"#006837\", \"dash\": \"dot\", \"shape\": \"spline\", \"width\": 1}, \"mode\": \"lines\", \"type\": \"scatter\", \"x\": [0.758426, 0.770148, 0.781871], \"xaxis\": \"x\", \"y\": [0.0, 0.001172249999999997, 0.0], \"yaxis\": \"y\"}, {\"hoverinfo\": \"none\", \"line\": {\"color\": \"#016a38\", \"dash\": \"dot\", \"shape\": \"spline\", \"width\": 1}, \"mode\": \"lines\", \"type\": \"scatter\", \"x\": [0.781871, 0.7924217, 0.805317], \"xaxis\": \"x\", \"y\": [0.0, 0.012895300000000002, 0.023446], \"yaxis\": \"y\"}, {\"hoverinfo\": \"none\", \"line\": {\"color\": \"#016a38\", \"dash\": \"dot\", \"shape\": \"spline\", \"width\": 1}, \"mode\": \"lines\", \"type\": \"scatter\", \"x\": [0.781871, 0.793594, 0.805317], \"xaxis\": \"x\", \"y\": [0.0, 0.0011722999999999985, 0.0], \"yaxis\": \"y\"}, {\"hoverinfo\": \"none\", \"line\": {\"color\": \"#016a38\", \"dash\": \"dot\", \"shape\": \"spline\", \"width\": 1}, \"mode\": \"lines\", \"type\": \"scatter\", \"x\": [0.781871, 0.7924217, 0.805317], \"xaxis\": \"x\", \"y\": [0.0, -0.012895300000000002, -0.023446], \"yaxis\": \"y\"}, {\"hoverinfo\": \"none\", \"line\": {\"color\": \"#036e3a\", \"dash\": \"dot\", \"shape\": \"spline\", \"width\": 1}, \"mode\": \"lines\", \"type\": \"scatter\", \"x\": [0.805317, 0.8369691499999999, 0.875654], \"xaxis\": \"x\", \"y\": [0.0, 0.0128953, 0.023446], \"yaxis\": \"y\"}, {\"hoverinfo\": \"none\", \"line\": {\"color\": \"#036e3a\", \"dash\": \"dot\", \"shape\": \"spline\", \"width\": 1}, \"mode\": \"lines\", \"type\": \"scatter\", \"x\": [0.805317, 0.840486, 0.875654], \"xaxis\": \"x\", \"y\": [0.0, 0.003516850000000005, 0.0], \"yaxis\": \"y\"}, {\"hoverinfo\": \"none\", \"line\": {\"color\": \"#036e3a\", \"dash\": \"dot\", \"shape\": \"spline\", \"width\": 1}, \"mode\": \"lines\", \"type\": \"scatter\", \"x\": [0.805317, 0.8369691499999999, 0.875654], \"xaxis\": \"x\", \"y\": [0.0, -0.0128953, -0.023446], \"yaxis\": \"y\"}, {\"hoverinfo\": \"none\", \"line\": {\"color\": \"#016a38\", \"dash\": \"dot\", \"shape\": \"spline\", \"width\": 1}, \"mode\": \"lines\", \"type\": \"scatter\", \"x\": [0.805317, 0.82641745, 0.852208], \"xaxis\": \"x\", \"y\": [-0.023446, -0.004103549999999999, 0.011723], \"yaxis\": \"y\"}, {\"hoverinfo\": \"none\", \"line\": {\"color\": \"#016a38\", \"dash\": \"dot\", \"shape\": \"spline\", \"width\": 1}, \"mode\": \"lines\", \"type\": \"scatter\", \"x\": [0.805317, 0.83110655, 0.852208], \"xaxis\": \"x\", \"y\": [-0.023446, -0.01817115, -0.011723], \"yaxis\": \"y\"}, {\"hoverinfo\": \"none\", \"line\": {\"color\": \"#016a38\", \"dash\": \"dot\", \"shape\": \"spline\", \"width\": 1}, \"mode\": \"lines\", \"type\": \"scatter\", \"x\": [0.828763, 0.840486, 0.852208], \"xaxis\": \"x\", \"y\": [0.011723, 0.012895249999999997, 0.011723], \"yaxis\": \"y\"}, {\"hoverinfo\": \"none\", \"line\": {\"color\": \"#016a38\", \"dash\": \"dot\", \"shape\": \"spline\", \"width\": 1}, \"mode\": \"lines\", \"type\": \"scatter\", \"x\": [0.828763, 0.8416582499999999, 0.852208], \"xaxis\": \"x\", \"y\": [0.011723, 0.0011723000000000003, -0.011723], \"yaxis\": \"y\"}, {\"hoverinfo\": \"none\", \"line\": {\"color\": \"#016a38\", \"dash\": \"dot\", \"shape\": \"spline\", \"width\": 1}, \"mode\": \"lines\", \"type\": \"scatter\", \"x\": [0.828763, 0.83931375, 0.852208], \"xaxis\": \"x\", \"y\": [-0.011723, 0.0011723000000000003, 0.011723], \"yaxis\": \"y\"}, {\"hoverinfo\": \"none\", \"line\": {\"color\": \"#016a38\", \"dash\": \"dot\", \"shape\": \"spline\", \"width\": 1}, \"mode\": \"lines\", \"type\": \"scatter\", \"x\": [0.828763, 0.840486, 0.852208], \"xaxis\": \"x\", \"y\": [-0.011723, -0.012895249999999997, -0.011723], \"yaxis\": \"y\"}, {\"hoverinfo\": \"none\", \"line\": {\"color\": \"#036e3a\", \"dash\": \"dot\", \"shape\": \"spline\", \"width\": 1}, \"mode\": \"lines\", \"type\": \"scatter\", \"x\": [0.852208, 0.8627587, 0.875654], \"xaxis\": \"x\", \"y\": [0.011723, 0.01817115, 0.023446], \"yaxis\": \"y\"}, {\"hoverinfo\": \"none\", \"line\": {\"color\": \"#036e3a\", \"dash\": \"dot\", \"shape\": \"spline\", \"width\": 1}, \"mode\": \"lines\", \"type\": \"scatter\", \"x\": [0.852208, 0.8651033, 0.875654], \"xaxis\": \"x\", \"y\": [0.011723, 0.00644815, 0.0], \"yaxis\": \"y\"}, {\"hoverinfo\": \"none\", \"line\": {\"color\": \"#036e3a\", \"dash\": \"dot\", \"shape\": \"spline\", \"width\": 1}, \"mode\": \"lines\", \"type\": \"scatter\", \"x\": [0.852208, 0.8651033, 0.875654], \"xaxis\": \"x\", \"y\": [0.011723, -0.00410355, -0.023446], \"yaxis\": \"y\"}, {\"hoverinfo\": \"none\", \"line\": {\"color\": \"#036e3a\", \"dash\": \"dot\", \"shape\": \"spline\", \"width\": 1}, \"mode\": \"lines\", \"type\": \"scatter\", \"x\": [0.852208, 0.8627587, 0.875654], \"xaxis\": \"x\", \"y\": [-0.011723, 0.00762045, 0.023446], \"yaxis\": \"y\"}, {\"hoverinfo\": \"none\", \"line\": {\"color\": \"#036e3a\", \"dash\": \"dot\", \"shape\": \"spline\", \"width\": 1}, \"mode\": \"lines\", \"type\": \"scatter\", \"x\": [0.852208, 0.8651033, 0.875654], \"xaxis\": \"x\", \"y\": [-0.011723, -0.00644815, 0.0], \"yaxis\": \"y\"}, {\"hoverinfo\": \"none\", \"line\": {\"color\": \"#036e3a\", \"dash\": \"dot\", \"shape\": \"spline\", \"width\": 1}, \"mode\": \"lines\", \"type\": \"scatter\", \"x\": [0.852208, 0.8627587, 0.875654], \"xaxis\": \"x\", \"y\": [-0.011723, -0.01817115, -0.023446], \"yaxis\": \"y\"}, {\"hoverinfo\": \"none\", \"line\": {\"color\": \"#006837\", \"dash\": \"dot\", \"shape\": \"spline\", \"width\": 1}, \"mode\": \"lines\", \"type\": \"scatter\", \"x\": [0.875654, 0.8885493, 0.8991], \"xaxis\": \"x\", \"y\": [-0.023446, -0.012895300000000002, 0.0], \"yaxis\": \"y\"}, {\"hoverinfo\": \"none\", \"line\": {\"color\": \"#036e3a\", \"dash\": \"dot\", \"shape\": \"spline\", \"width\": 1}, \"mode\": \"lines\", \"type\": \"scatter\", \"x\": [0.8991, 0.910823, 0.922546], \"xaxis\": \"x\", \"y\": [0.0, 0.0011722999999999985, 0.0], \"yaxis\": \"y\"}, {\"hoverinfo\": \"none\", \"line\": {\"color\": \"#006837\", \"dash\": \"dot\", \"shape\": \"spline\", \"width\": 1}, \"mode\": \"lines\", \"type\": \"scatter\", \"x\": [0.922546, 0.934268, 0.945991], \"xaxis\": \"x\", \"y\": [0.0, 0.0011722500000000025, 0.0], \"yaxis\": \"y\"}, {\"hovertemplate\": \" %{text}\", \"marker\": {\"color\": [\"grey\", \"blue\", \"gold\", \"gold\", \"blue\", \"blue\", \"gold\", \"blue\", \"blue\", \"blue\", \"purple\", \"blue\", \"blue\", \"blue\", \"blue\", \"blue\", \"blue\", \"blue\", \"blue\", \"blue\", \"blue\", \"blue\", \"blue\", \"cyan\", \"blue\", \"blue\", \"blue\", \"blue\", \"blue\", \"blue\", \"blue\", \"blue\", \"blue\", \"orange\", \"blue\", \"orange\", \"blue\", \"orange\", \"blue\", \"orange\", \"cyan\", \"blue\", \"blue\", \"blue\", \"blue\", \"blue\", \"blue\", \"blue\", \"blue\", \"orange\", \"blue\", \"orange\", \"blue\", \"blue\", \"cyan\", \"blue\", \"blue\", \"cyan\", \"blue\", \"blue\", \"blue\", \"blue\", \"blue\", \"blue\", \"blue\", \"blue\", \"blue\", \"blue\", \"blue\", \"grey\", \"orange\", \"orange\", \"blue\", \"blue\", \"cyan\", \"cyan\", \"cyan\", \"blue\", \"blue\", \"blue\", \"blue\", \"blue\", \"blue\", \"blue\", \"blue\", \"blue\", \"blue\", \"blue\", \"blue\", \"blue\", \"blue\", \"blue\", \"blue\", \"blue\", \"blue\", \"blue\", \"blue\", \"blue\", \"blue\", \"cyan\", \"blue\", \"blue\", \"blue\", \"blue\", \"blue\", \"blue\", \"cyan\", \"cyan\", \"blue\", \"blue\", \"blue\", \"cyan\"], \"line\": {\"color\": \"black\", \"width\": 0.5}, \"size\": 10, \"symbol\": [\"diamond-cross\", \"circle\", \"diamond\", \"diamond\", \"circle\", \"circle\", \"diamond\", \"circle\", \"circle\", \"circle\", \"pentagon\", \"circle\", \"circle\", \"circle\", \"circle\", \"circle\", \"circle\", \"circle\", \"circle\", \"circle\", \"circle\", \"circle\", \"circle\", \"square\", \"circle\", \"circle\", \"circle\", \"circle\", \"circle\", \"circle\", \"circle\", \"circle\", \"circle\", \"cross\", \"circle\", \"cross\", \"circle\", \"cross\", \"circle\", \"cross\", \"square\", \"circle\", \"circle\", \"circle\", \"circle\", \"circle\", \"circle\", \"circle\", \"circle\", \"cross\", \"circle\", \"cross\", \"circle\", \"circle\", \"square\", \"circle\", \"circle\", \"square\", \"circle\", \"circle\", \"circle\", \"circle\", \"circle\", \"circle\", \"circle\", \"circle\", \"circle\", \"circle\", \"circle\", \"diamond-cross\", \"cross\", \"cross\", \"circle\", \"circle\", \"square\", \"square\", \"square\", \"circle\", \"circle\", \"circle\", \"circle\", \"circle\", \"circle\", \"circle\", \"circle\", \"circle\", \"circle\", \"circle\", \"circle\", \"circle\", \"circle\", \"circle\", \"circle\", \"circle\", \"circle\", \"circle\", \"circle\", \"circle\", \"circle\", \"square\", \"circle\", \"circle\", \"circle\", \"circle\", \"circle\", \"circle\", \"square\", \"square\", \"circle\", \"circle\", \"circle\", \"square\"]}, \"mode\": \"markers\", \"text\": [\"WORK.__MTF_PD_PIT_VERSION\", \"WORK.__MTF_PD_PIT_DISTINCT_RATING1\", \"INPUT.PD_VIEW\", \"INPUT.PD_RR_RATING\", \"WORK.__MTF_PD_PIT_DISTINCT_RATING2\", \"WORK.__MTF_PD_PIT_DISTINCT_ZVAL1\", \"INPUT.PD_Z_FACTOR\", \"WORK.__MTF_PD_PIT_DISTINCT_ZVAL2\", \"WORK.__MTF_PD_PIT_VIEW\", \"WORK.__MTF_PD_PIT_VIEW2\", \"WORK.__MTF_PD_PIT_PROC_MULTIYEAR_DATA\", \"WORK.__MTF_PD_NON_MIGRATIONS_IN\", \"WORK.__MTF_PD_PIT_PROC_ONEYEAR_DATA\", \"WORK.__MTF_PD_PIT_ODR_WIDE\", \"WORK.__MTF_PD_PIT_OUTSTANDING_STATS_1\", \"WORK.__MTF_PD_PIT_ODR_WIDE_TP\", \"WORK.__MTF_PD_PIT_ODR_LONG\", \"WORK.__MTF_PD_PIT_MULTIYEAR_OBS_GRP\", \"WORK.__MTF_PD_PIT_RATING_PARAMS\", \"WORK.__MTF_PD_PIT_TTCMATRIX_TMP1\", \"WORK.__MTF_PD_PIT_TTCMATRIX_TMP2\", \"WORK.__MTF_PD_PIT_TTCMATRIX_TMP3\", \"WORK.__MTF_PD_PIT_TTCMATRIX_NONNULL\", \"WORK.__MTF_PD_PIT_IRB_OLD\", \"WORK.__MTF_PD_PIT_ASSET_CORRELATION\", \"WORK.__MTF_PD_PIT_PIC\", \"WORK.__MTF_PD_PIT_TTCMATRIX_SCALED\", \"WORK.__MTF_PD_PIT_TTC_MATRIX_SCALED2\", \"WORK.__MTF_PD_PIT_TTCMATRIX_LONG\", \"WORK.__MTF_PD_PIT_RISK_RATING_NAMES\", \"WORK.__MTF_PD_PIT_TTCMATRIX_WIDE_1\", \"WORK.__MTF_PD_PIT_TTC_PD_OUT\", \"WORK.__MTF_PD_PIT_TTCMATRIX_WIDE_2\", \"WORK.__MTF_PD_PIT_TTCMATRIX_WIDE_2\", \"WORK.__MTF_PD_PIT_TTCMATRIX_WIDE_3\", \"WORK.__MTF_PD_PIT_TTCMATRIX_WIDE_3\", \"WORK.__MTF_PD_PIT_TTCMATRIX_WIDE_4\", \"WORK.__MTF_PD_PIT_TTCMATRIX_WIDE_4\", \"WORK.__MTF_PD_PIT_TTCMATRIX_WIDE_5\", \"WORK.__MTF_PD_PIT_TTCMATRIX_WIDE_5\", \"WORK.__MTF_PD_PIT_TTC_PD_OUT_TMP\", \"WORK.__MTF_PD_PIT_MULTIYEAR_TTC_PD\", \"WORK.__MTF_PIT_PITPD_VERSION\", \"WORK.__MTF_PIT_PIC_UNIQUE\", \"WORK.__MTF_PIT_COUNTRY_DATES\", \"WORK.__MTF_PIT_COUNTRY_DATES_MULTI\", \"WORK.__MTF_PIT_COUNTRY_PIC_MULTI\", \"WORK.__MTF_PIT_COUNTRY_PIC_MULTI_RANK\", \"WORK.__MTF_PIT_ONEYEAR_PDS\", \"WORK.__MTF_PIT_ONEYEAR_PDS\", \"WORK.__MTF_PIT_MULTI_PDS\", \"WORK.__MTF_PIT_MULTI_PDS\", \"WORK.__MTF_PD_PIT_ONEYEAR_PIT_PD_1\", \"WORK.__MTF_PIT_MULTIYEAR_ROW_INFO\", \"WORK.__MTF_PD_PIT_MULTIYEAR_PIT_PD_1\", \"WORK.__MTF_PD_PIT_ONEYEAR_PIT_PD_0\", \"WORK.__MTF_PD_PIT_MULTIYEAR_PIT_PD_0\", \"WORK.__MTF_PD_PIT_ONEYEAR_PIT_PD\", \"WORK.__MTF_PD_PIT_MULTIYEAR_PIT_PD\", \"WORK.__MTF_PD_PIT_MULTIYEAR_PIT_PD_20\", \"WORK.__MTF_PD_PIT_MULTIYEAR_TTC_PD_20\", \"WORK.__MTF_PD_PIT_MULTIYEAR_BOTH_PD\", \"WORK.__MTF_PD_PIT_MARGINAL_BOTH_PD\", \"WORK.__MTF_PD_PIT_MULTIYEAR_PRED\", \"WORK.__MTF_PD_PIT_MULTIYEAR_PRED2\", \"WORK.__MTF_PD_PIT_MULTIYEAR_PRED_STD\", \"WORK.__MTF_PD_PIT_MULTIYEAR_PRED_GRP\", \"WORK.__MTF_PD_PIT_MULTIYEAR_BOTH_GRP\", \"WORK.__MTF_PD_PIT_MULTIYEAR_CI\", \"WORK.__MTF_PD_PIT_MULTIYEAR_ME\", \"WORK.__MTF_PD_PIT_MULTIYEAR_CI\", \"WORK.__MTF_PD_PIT_MULTIYEAR_ME\", \"WORK.__MTF_PD_PIT_MULTIYEAR_CI_ME\", \"WORK.__MTF_PD_PIT_CONCLUSION\", \"WORK.TEST_PD_PIT_U\", \"WORK.TEST_PD_PIT\", \"WORK.TEST_PD_TTC_IN\", \"WORK.__MTF_PD_NON_TO_RATINGS\", \"WORK.__MTF_PD_NON_RATING_MIGRATIONS\", \"WORK.__MTF_PD_NON_RATING_MIG_COUNTS_1\", \"WORK.__MTF_PD_NON_MIGRATION_TEMPLATE\", \"WORK.__MTF_PD_NON_RATING_MIG_RES_1\", \"WORK.__MTF_PD_NON_RATING_MIG_RES2_1\", \"WORK.__MTF_PD_NON_RATING_MIG_COUNTS_2\", \"WORK.__MTF_PD_NON_RATING_MIG_RES_2\", \"WORK.__MTF_PD_NON_RATING_MIG_RES2_2\", \"WORK.__MTF_PD_NON_RATING_MIG_COUNTS_3\", \"WORK.__MTF_PD_NON_RATING_MIG_RES_3\", \"WORK.__MTF_PD_NON_RATING_MIG_RES2_3\", \"WORK.__MTF_PD_NON_RATING_MIG_COUNTS_4\", \"WORK.__MTF_PD_NON_RATING_MIG_RES_4\", \"WORK.__MTF_PD_NON_RATING_MIG_RES2_4\", \"WORK.__MTF_PD_NON_RATING_MIG_COUNTS_5\", \"WORK.__MTF_PD_NON_RATING_MIG_RES_5\", \"WORK.__MTF_PD_NON_RATING_MIG_RES2_5\", \"WORK.__MTF_PD_NON_RATING_MIG_RES2\", \"WORK.__MTF_PD_NON_RATING_PD_TTC\", \"WORK.__MTF_PD_MARK_RATING_MIG_AVG1\", \"WORK.__MTF_PD_MARK_RATING_MIG_AVG2\", \"WORK.TEST_PD_MARK_IN\", \"WORK.__MTF_PD_NON_RATING_MIG_RES3_1\", \"WORK.__MTF_PD_NON_RATING_PD_TTC_TABLE\", \"WORK.__MTF_PD_NON_ONEYEAR_PIT_PD_FULL\", \"WORK.__MTF_PD_NON_ONEYEAR_PIT_PD_DEF\", \"WORK.__MTF_PD_NON_JOINED_PDS\", \"WORK.__MTF_PD_MARK_RATING_MIG_AVG1_20\", \"WORK.TEST_PD_NON_IN\", \"WORK.TEST_PD_STB_IN\", \"WORK.__MTF_PD_PIT_ODR_WIDE_DIS\", \"WORK.__MTF_PD_PIT_ODR_WIDE_TP_DIS\", \"WORK.__MTF_PD_PIT_ODR_LONG_DIS\", \"WORK.TEST_PD_DIS_IN\"], \"textposition\": \"top center\", \"type\": \"scatter\", \"x\": [-0.976554, -0.953109, -1.0, -1.0, -0.929663, -0.906217, -1.0, -0.882772, -0.859326, -0.83588, -0.812435, -0.788989, -0.788989, -0.788989, -0.765543, -0.742098, -0.718652, -0.695206, -0.695206, -0.671761, -0.648315, -0.624869, -0.601423, -0.601423, -0.577978, -0.577978, -0.577978, -0.554532, -0.531086, -0.507641, -0.507641, -0.484195, -0.484195, -0.460749, -0.437304, -0.413858, -0.390412, -0.366967, -0.343521, -0.320075, -0.29663, -0.273184, -0.249738, -0.226293, -0.202847, -0.179401, -0.155956, -0.13251, -0.109064, -0.085619, -0.062173, -0.038727, -0.015282, -0.015282, 0.008164, 0.008164, 0.008164, 0.03161, 0.055055, 0.078501, 0.078501, 0.101947, 0.125393, 0.148838, 0.172284, 0.19573, 0.219175, 0.242621, 0.266067, 0.289512, 0.289512, 0.312958, 0.336404, 0.359849, 0.383295, 0.383295, 0.383295, 0.406741, 0.430186, 0.453632, 0.477078, 0.500523, 0.523969, 0.523969, 0.547415, 0.57086, 0.57086, 0.594306, 0.617752, 0.617752, 0.641197, 0.664643, 0.664643, 0.688089, 0.711534, 0.73498, 0.73498, 0.758426, 0.781871, 0.805317, 0.805317, 0.805317, 0.828763, 0.828763, 0.852208, 0.852208, 0.875654, 0.875654, 0.875654, 0.8991, 0.922546, 0.945991], \"xaxis\": \"x\", \"y\": [0.0, 0.0, 0.023446, 0.0, 0.0, 0.0, -0.023446, 0.0, 0.0, 0.0, 0.0, 0.023446, 0.0, -0.023446, 0.0, 0.0, 0.0, 0.011723, -0.011723, 0.0, 0.0, 0.0, 0.011723, -0.011723, 0.023446, 0.0, -0.023446, 0.0, 0.0, 0.011723, -0.011723, 0.011723, -0.011723, 0.0, 0.0, 0.0, 0.0, 0.0, 0.0, 0.0, 0.0, 0.0, 0.0, 0.0, 0.0, 0.0, 0.0, 0.0, 0.0, 0.0, 0.0, 0.0, 0.011723, -0.011723, 0.023446, 0.0, -0.023446, 0.0, 0.0, 0.011723, -0.011723, 0.0, 0.0, 0.0, 0.0, 0.0, 0.0, 0.0, 0.0, 0.011723, -0.011723, 0.0, 0.0, 0.0, 0.023446, 0.0, -0.023446, 0.0, 0.0, 0.0, 0.0, 0.0, 0.011723, -0.011723, 0.0, 0.011723, -0.011723, 0.0, 0.011723, -0.011723, 0.0, 0.011723, -0.011723, 0.0, 0.0, 0.011723, -0.011723, 0.0, 0.0, 0.023446, 0.0, -0.023446, 0.011723, -0.011723, 0.011723, -0.011723, 0.023446, 0.0, -0.023446, 0.0, 0.0, 0.0], \"yaxis\": \"y\"}, {\"hovertemplate\": \" %{text}\", \"marker\": {\"color\": [3.35, 0.36, 3.35, 0.0, 0.36, 0.19, 0.01, 0.19, 0.72, 0.47, 2.69, 2.69, 2.69, 0.23, 0.03, 0.02, 0.06, 0.06, 0.08, 0.06, 0.06, 1.32, 0.05, 0.03, 0.07, 0.04, 0.04, 0.12, 0.12, 0.12, 5.35, 0.18, 7.46, 2.3, 11.31, 11.31, 0.06, 0.06, 0.06, 0.06, 0.65, 0.05, 0.0, 0.05, 0.01, 0.05, 0.01, 0.12, 0.31, 0.12, 0.18, 0.13, 0.08, 0.09, 0.11, 50.51, 0.17, 2.77, 2.77, 1.32, 67.32, 67.32, 67.32, 1.57, 1.57, 67.32, 67.32, 67.32, 1.2, 3.75, 1.39, 1.39, 7.3, 7.3, 0.35, 17.08, 0.47, 0.52, 0.08, 1.32, 0.04, 0.01, 0.11, 0.11, 0.11, 0.1, 0.54, 0.54, 0.54, 0.39, 0.34, 0.12, 0.15, 0.99, 0.99, 0.42, 0.42, 0.27, 0.91, 0.91, 0.42, 0.42, 0.27, 0.91, 0.91, 0.42, 0.42, 0.27, 0.89, 0.89, 0.42, 0.42, 0.31, 0.28, 0.42, 0.42, 0.23, 0.51, 0.51, 0.51, 0.14, 0.51, 0.51, 0.51, 0.83, 0.83, 0.83, 0.45, 0.45, 0.45, 0.45, 0.45, 0.45, 0.83, 0.83, 0.83, 0.83, 0.83, 0.83, 0.19, 1.05, 0.0], \"colorbar\": {\"thickness\": 15, \"title\": {\"side\": \"right\", \"text\": \"Execution time (s)\"}, \"xanchor\": \"left\"}, \"colorscale\": [[0.0, \"rgb(165,0,38)\"], [0.1, \"rgb(215,48,39)\"], [0.2, \"rgb(244,109,67)\"], [0.3, \"rgb(253,174,97)\"], [0.4, \"rgb(254,224,139)\"], [0.5, \"rgb(255,255,191)\"], [0.6, \"rgb(217,239,139)\"], [0.7, \"rgb(166,217,106)\"], [0.8, \"rgb(102,189,99)\"], [0.9, \"rgb(26,152,80)\"], [1.0, \"rgb(0,104,55)\"]], \"reversescale\": true, \"showscale\": true, \"size\": 8, \"symbol\": \"hexagram\"}, \"mode\": \"markers\", \"text\": [\"Input Table: WORK.__MTF_PD_PIT_VERSION <br> Output Table: WORK.__MTF_PD_PIT_DISTINCT_RATING1 <br> Step: 2 <br> Start Time: 2021-07-23 18:00:00.840000 <br> Elapsed Time: 3.35\", \"Input Table: WORK.__MTF_PD_PIT_DISTINCT_RATING1 <br> Output Table: WORK.__MTF_PD_PIT_DISTINCT_ZVAL1 <br> Step: 4 <br> Start Time: 2021-07-23 18:00:04.190000 <br> Elapsed Time: 0.36\", \"Input Table: INPUT.PD_VIEW <br> Output Table: WORK.__MTF_PD_PIT_DISTINCT_RATING1 <br> Step: 2 <br> Start Time: 2021-07-23 18:00:00.840000 <br> Elapsed Time: 3.35\", \"Input Table: INPUT.PD_RR_RATING <br> Output Table: WORK.__MTF_PD_PIT_DISTINCT_RATING2 <br> Step: 3 <br> Start Time: 2021-07-23 18:00:04.190000 <br> Elapsed Time: 0.0\", \"Input Table: WORK.__MTF_PD_PIT_DISTINCT_RATING2 <br> Output Table: WORK.__MTF_PD_PIT_DISTINCT_ZVAL1 <br> Step: 4 <br> Start Time: 2021-07-23 18:00:04.190000 <br> Elapsed Time: 0.36\", \"Input Table: WORK.__MTF_PD_PIT_DISTINCT_ZVAL1 <br> Output Table: WORK.__MTF_PD_PIT_VIEW <br> Step: 6 <br> Start Time: 2021-07-23 18:00:04.560000 <br> Elapsed Time: 0.19\", \"Input Table: INPUT.PD_Z_FACTOR <br> Output Table: WORK.__MTF_PD_PIT_DISTINCT_ZVAL2 <br> Step: 5 <br> Start Time: 2021-07-23 18:00:04.550000 <br> Elapsed Time: 0.01\", \"Input Table: WORK.__MTF_PD_PIT_DISTINCT_ZVAL2 <br> Output Table: WORK.__MTF_PD_PIT_VIEW <br> Step: 6 <br> Start Time: 2021-07-23 18:00:04.560000 <br> Elapsed Time: 0.19\", \"Input Table: WORK.__MTF_PD_PIT_VIEW <br> Output Table: WORK.__MTF_PD_PIT_VIEW2 <br> Step: 7 <br> Start Time: 2021-07-23 18:00:04.750000 <br> Elapsed Time: 0.72\", \"Input Table: WORK.__MTF_PD_PIT_VIEW2 <br> Output Table: WORK.__MTF_PD_PIT_PROC_MULTIYEAR_DATA <br> Step: 8 <br> Start Time: 2021-07-23 18:00:05.470000 <br> Elapsed Time: 0.47\", \"Input Table: WORK.__MTF_PD_PIT_PROC_MULTIYEAR_DATA <br> Output Table: WORK.__MTF_PD_NON_MIGRATIONS_IN <br> Step: 9 <br> Start Time: 2021-07-23 18:00:05.940000 <br> Elapsed Time: 2.69\", \"Input Table: WORK.__MTF_PD_PIT_PROC_MULTIYEAR_DATA <br> Output Table: WORK.__MTF_PD_PIT_PROC_ONEYEAR_DATA <br> Step: 9 <br> Start Time: 2021-07-23 18:00:05.940000 <br> Elapsed Time: 2.69\", \"Input Table: WORK.__MTF_PD_PIT_PROC_MULTIYEAR_DATA <br> Output Table: WORK.__MTF_PD_PIT_ODR_WIDE <br> Step: 9 <br> Start Time: 2021-07-23 18:00:05.940000 <br> Elapsed Time: 2.69\", \"Input Table: WORK.__MTF_PD_NON_MIGRATIONS_IN <br> Output Table: WORK.__MTF_PD_NON_TO_RATINGS <br> Step: 60 <br> Start Time: 2021-07-23 18:03:14.030000 <br> Elapsed Time: 0.23\", \"Input Table: WORK.__MTF_PD_PIT_PROC_ONEYEAR_DATA <br> Output Table: WORK.__MTF_PD_PIT_OUTSTANDING_STATS_1 <br> Step: 10 <br> Start Time: 2021-07-23 18:00:08.630000 <br> Elapsed Time: 0.03\", \"Input Table: WORK.__MTF_PD_PIT_ODR_WIDE <br> Output Table: WORK.__MTF_PD_PIT_ODR_WIDE_TP <br> Step: 11 <br> Start Time: 2021-07-23 18:00:08.660000 <br> Elapsed Time: 0.02\", \"Input Table: WORK.__MTF_PD_PIT_OUTSTANDING_STATS_1 <br> Output Table: WORK.__MTF_PD_PIT_MULTIYEAR_OBS_GRP <br> Step: 13 <br> Start Time: 2021-07-23 18:00:08.760000 <br> Elapsed Time: 0.06\", \"Input Table: WORK.__MTF_PD_PIT_OUTSTANDING_STATS_1 <br> Output Table: WORK.__MTF_PD_PIT_RATING_PARAMS <br> Step: 13 <br> Start Time: 2021-07-23 18:00:08.760000 <br> Elapsed Time: 0.06\", \"Input Table: WORK.__MTF_PD_PIT_ODR_WIDE_TP <br> Output Table: WORK.__MTF_PD_PIT_ODR_LONG <br> Step: 12 <br> Start Time: 2021-07-23 18:00:08.680000 <br> Elapsed Time: 0.08\", \"Input Table: WORK.__MTF_PD_PIT_ODR_LONG <br> Output Table: WORK.__MTF_PD_PIT_MULTIYEAR_OBS_GRP <br> Step: 13 <br> Start Time: 2021-07-23 18:00:08.760000 <br> Elapsed Time: 0.06\", \"Input Table: WORK.__MTF_PD_PIT_ODR_LONG <br> Output Table: WORK.__MTF_PD_PIT_RATING_PARAMS <br> Step: 13 <br> Start Time: 2021-07-23 18:00:08.760000 <br> Elapsed Time: 0.06\", \"Input Table: WORK.__MTF_PD_PIT_MULTIYEAR_OBS_GRP <br> Output Table: WORK.__MTF_PD_PIT_MULTIYEAR_BOTH_GRP <br> Step: 53 <br> Start Time: 2021-07-23 18:03:11.800000 <br> Elapsed Time: 1.32\", \"Input Table: WORK.__MTF_PD_PIT_RATING_PARAMS <br> Output Table: WORK.__MTF_PD_PIT_TTCMATRIX_TMP1 <br> Step: 14 <br> Start Time: 2021-07-23 18:00:08.820000 <br> Elapsed Time: 0.05\", \"Input Table: WORK.__MTF_PD_PIT_TTCMATRIX_TMP1 <br> Output Table: WORK.__MTF_PD_PIT_TTCMATRIX_TMP2 <br> Step: 15 <br> Start Time: 2021-07-23 18:00:08.870000 <br> Elapsed Time: 0.03\", \"Input Table: WORK.__MTF_PD_PIT_TTCMATRIX_TMP2 <br> Output Table: WORK.__MTF_PD_PIT_TTCMATRIX_TMP3 <br> Step: 16 <br> Start Time: 2021-07-23 18:00:08.900000 <br> Elapsed Time: 0.07\", \"Input Table: WORK.__MTF_PD_PIT_TTCMATRIX_TMP3 <br> Output Table: WORK.__MTF_PD_PIT_TTCMATRIX_NONNULL <br> Step: 17 <br> Start Time: 2021-07-23 18:00:08.970000 <br> Elapsed Time: 0.04\", \"Input Table: WORK.__MTF_PD_PIT_TTCMATRIX_TMP3 <br> Output Table: WORK.__MTF_PD_PIT_IRB_OLD <br> Step: 17 <br> Start Time: 2021-07-23 18:00:08.970000 <br> Elapsed Time: 0.04\", \"Input Table: WORK.__MTF_PD_PIT_TTCMATRIX_NONNULL <br> Output Table: WORK.__MTF_PD_PIT_ASSET_CORRELATION <br> Step: 18 <br> Start Time: 2021-07-23 18:00:09.010000 <br> Elapsed Time: 0.12\", \"Input Table: WORK.__MTF_PD_PIT_TTCMATRIX_NONNULL <br> Output Table: WORK.__MTF_PD_PIT_PIC <br> Step: 18 <br> Start Time: 2021-07-23 18:00:09.010000 <br> Elapsed Time: 0.12\", \"Input Table: WORK.__MTF_PD_PIT_TTCMATRIX_NONNULL <br> Output Table: WORK.__MTF_PD_PIT_TTCMATRIX_SCALED <br> Step: 18 <br> Start Time: 2021-07-23 18:00:09.010000 <br> Elapsed Time: 0.12\", \"Input Table: WORK.__MTF_PD_PIT_ASSET_CORRELATION <br> Output Table: WORK.__MTF_PIT_ONEYEAR_PDS <br> Step: 38 <br> Start Time: 2021-07-23 18:00:32.220000 <br> Elapsed Time: 5.35\", \"Input Table: WORK.__MTF_PD_PIT_PIC <br> Output Table: WORK.__MTF_PIT_PIC_UNIQUE <br> Step: 33 <br> Start Time: 2021-07-23 18:00:31.630000 <br> Elapsed Time: 0.18\", \"Input Table: WORK.__MTF_PD_PIT_TTCMATRIX_SCALED <br> Output Table: WORK.__MTF_PD_PIT_TTC_MATRIX_SCALED2 <br> Step: 19 <br> Start Time: 2021-07-23 18:00:09.130000 <br> Elapsed Time: 7.46\", \"Input Table: WORK.__MTF_PD_PIT_TTC_MATRIX_SCALED2 <br> Output Table: WORK.__MTF_PD_PIT_TTCMATRIX_LONG <br> Step: 20 <br> Start Time: 2021-07-23 18:00:16.590000 <br> Elapsed Time: 2.3\", \"Input Table: WORK.__MTF_PD_PIT_TTCMATRIX_LONG <br> Output Table: WORK.__MTF_PD_PIT_RISK_RATING_NAMES <br> Step: 21 <br> Start Time: 2021-07-23 18:00:18.890000 <br> Elapsed Time: 11.31\", \"Input Table: WORK.__MTF_PD_PIT_TTCMATRIX_LONG <br> Output Table: WORK.__MTF_PD_PIT_TTCMATRIX_WIDE_1 <br> Step: 21 <br> Start Time: 2021-07-23 18:00:18.890000 <br> Elapsed Time: 11.31\", \"Input Table: WORK.__MTF_PD_PIT_RISK_RATING_NAMES <br> Output Table: WORK.__MTF_PD_PIT_TTC_PD_OUT <br> Step: 22 <br> Start Time: 2021-07-23 18:00:30.200000 <br> Elapsed Time: 0.06\", \"Input Table: WORK.__MTF_PD_PIT_RISK_RATING_NAMES <br> Output Table: WORK.__MTF_PD_PIT_TTCMATRIX_WIDE_2 <br> Step: 22 <br> Start Time: 2021-07-23 18:00:30.200000 <br> Elapsed Time: 0.06\", \"Input Table: WORK.__MTF_PD_PIT_TTCMATRIX_WIDE_1 <br> Output Table: WORK.__MTF_PD_PIT_TTC_PD_OUT <br> Step: 22 <br> Start Time: 2021-07-23 18:00:30.200000 <br> Elapsed Time: 0.06\", \"Input Table: WORK.__MTF_PD_PIT_TTCMATRIX_WIDE_1 <br> Output Table: WORK.__MTF_PD_PIT_TTCMATRIX_WIDE_2 <br> Step: 22 <br> Start Time: 2021-07-23 18:00:30.200000 <br> Elapsed Time: 0.06\", \"Input Table: WORK.__MTF_PD_PIT_TTC_PD_OUT <br> Output Table: WORK.__MTF_PD_PIT_TTC_PD_OUT_TMP <br> Step: 30 <br> Start Time: 2021-07-23 18:00:30.550000 <br> Elapsed Time: 0.65\", \"Input Table: WORK.__MTF_PD_PIT_TTCMATRIX_WIDE_2 <br> Output Table: WORK.__MTF_PD_PIT_TTCMATRIX_WIDE_2 <br> Step: 23 <br> Start Time: 2021-07-23 18:00:30.260000 <br> Elapsed Time: 0.05\", \"Input Table: WORK.__MTF_PD_PIT_TTCMATRIX_WIDE_2 <br> Output Table: WORK.__MTF_PD_PIT_TTCMATRIX_WIDE_3 <br> Step: 24 <br> Start Time: 2021-07-23 18:00:30.310000 <br> Elapsed Time: 0.0\", \"Input Table: WORK.__MTF_PD_PIT_TTCMATRIX_WIDE_3 <br> Output Table: WORK.__MTF_PD_PIT_TTCMATRIX_WIDE_3 <br> Step: 25 <br> Start Time: 2021-07-23 18:00:30.310000 <br> Elapsed Time: 0.05\", \"Input Table: WORK.__MTF_PD_PIT_TTCMATRIX_WIDE_3 <br> Output Table: WORK.__MTF_PD_PIT_TTCMATRIX_WIDE_4 <br> Step: 26 <br> Start Time: 2021-07-23 18:00:30.360000 <br> Elapsed Time: 0.01\", \"Input Table: WORK.__MTF_PD_PIT_TTCMATRIX_WIDE_4 <br> Output Table: WORK.__MTF_PD_PIT_TTCMATRIX_WIDE_4 <br> Step: 27 <br> Start Time: 2021-07-23 18:00:30.370000 <br> Elapsed Time: 0.05\", \"Input Table: WORK.__MTF_PD_PIT_TTCMATRIX_WIDE_4 <br> Output Table: WORK.__MTF_PD_PIT_TTCMATRIX_WIDE_5 <br> Step: 28 <br> Start Time: 2021-07-23 18:00:30.420000 <br> Elapsed Time: 0.01\", \"Input Table: WORK.__MTF_PD_PIT_TTCMATRIX_WIDE_5 <br> Output Table: WORK.__MTF_PD_PIT_TTCMATRIX_WIDE_5 <br> Step: 29 <br> Start Time: 2021-07-23 18:00:30.430000 <br> Elapsed Time: 0.12\", \"Input Table: WORK.__MTF_PD_PIT_TTCMATRIX_WIDE_5 <br> Output Table: WORK.__MTF_PD_PIT_MULTIYEAR_TTC_PD <br> Step: 31 <br> Start Time: 2021-07-23 18:00:31.200000 <br> Elapsed Time: 0.31\", \"Input Table: WORK.__MTF_PD_PIT_MULTIYEAR_TTC_PD <br> Output Table: WORK.__MTF_PIT_PITPD_VERSION <br> Step: 32 <br> Start Time: 2021-07-23 18:00:31.510000 <br> Elapsed Time: 0.12\", \"Input Table: WORK.__MTF_PIT_PITPD_VERSION <br> Output Table: WORK.__MTF_PIT_PIC_UNIQUE <br> Step: 33 <br> Start Time: 2021-07-23 18:00:31.630000 <br> Elapsed Time: 0.18\", \"Input Table: WORK.__MTF_PIT_PIC_UNIQUE <br> Output Table: WORK.__MTF_PIT_COUNTRY_DATES <br> Step: 34 <br> Start Time: 2021-07-23 18:00:31.810000 <br> Elapsed Time: 0.13\", \"Input Table: WORK.__MTF_PIT_COUNTRY_DATES <br> Output Table: WORK.__MTF_PIT_COUNTRY_DATES_MULTI <br> Step: 35 <br> Start Time: 2021-07-23 18:00:31.940000 <br> Elapsed Time: 0.08\", \"Input Table: WORK.__MTF_PIT_COUNTRY_DATES_MULTI <br> Output Table: WORK.__MTF_PIT_COUNTRY_PIC_MULTI <br> Step: 36 <br> Start Time: 2021-07-23 18:00:32.020000 <br> Elapsed Time: 0.09\", \"Input Table: WORK.__MTF_PIT_COUNTRY_PIC_MULTI <br> Output Table: WORK.__MTF_PIT_COUNTRY_PIC_MULTI_RANK <br> Step: 37 <br> Start Time: 2021-07-23 18:00:32.110000 <br> Elapsed Time: 0.11\", \"Input Table: WORK.__MTF_PIT_COUNTRY_PIC_MULTI_RANK <br> Output Table: WORK.__MTF_PIT_MULTI_PDS <br> Step: 40 <br> Start Time: 2021-07-23 18:00:37.740000 <br> Elapsed Time: 50.51\", \"Input Table: WORK.__MTF_PIT_ONEYEAR_PDS <br> Output Table: WORK.__MTF_PIT_ONEYEAR_PDS <br> Step: 39 <br> Start Time: 2021-07-23 18:00:37.570000 <br> Elapsed Time: 0.17\", \"Input Table: WORK.__MTF_PIT_ONEYEAR_PDS <br> Output Table: WORK.__MTF_PD_PIT_ONEYEAR_PIT_PD_1 <br> Step: 42 <br> Start Time: 2021-07-23 18:01:29.570000 <br> Elapsed Time: 2.77\", \"Input Table: WORK.__MTF_PIT_ONEYEAR_PDS <br> Output Table: WORK.__MTF_PIT_MULTIYEAR_ROW_INFO <br> Step: 42 <br> Start Time: 2021-07-23 18:01:29.570000 <br> Elapsed Time: 2.77\", \"Input Table: WORK.__MTF_PIT_MULTI_PDS <br> Output Table: WORK.__MTF_PIT_MULTI_PDS <br> Step: 41 <br> Start Time: 2021-07-23 18:01:28.250000 <br> Elapsed Time: 1.32\", \"Input Table: WORK.__MTF_PIT_MULTI_PDS <br> Output Table: WORK.__MTF_PD_PIT_MULTIYEAR_PIT_PD_1 <br> Step: 43 <br> Start Time: 2021-07-23 18:01:32.340000 <br> Elapsed Time: 67.32\", \"Input Table: WORK.__MTF_PIT_MULTI_PDS <br> Output Table: WORK.__MTF_PD_PIT_ONEYEAR_PIT_PD_0 <br> Step: 43 <br> Start Time: 2021-07-23 18:01:32.340000 <br> Elapsed Time: 67.32\", \"Input Table: WORK.__MTF_PIT_MULTI_PDS <br> Output Table: WORK.__MTF_PD_PIT_MULTIYEAR_PIT_PD_0 <br> Step: 43 <br> Start Time: 2021-07-23 18:01:32.340000 <br> Elapsed Time: 67.32\", \"Input Table: WORK.__MTF_PD_PIT_ONEYEAR_PIT_PD_1 <br> Output Table: WORK.__MTF_PD_NON_ONEYEAR_PIT_PD_FULL <br> Step: 78 <br> Start Time: 2021-07-23 18:03:21.660000 <br> Elapsed Time: 1.57\", \"Input Table: WORK.__MTF_PD_PIT_ONEYEAR_PIT_PD_1 <br> Output Table: WORK.__MTF_PD_NON_ONEYEAR_PIT_PD_DEF <br> Step: 78 <br> Start Time: 2021-07-23 18:03:21.660000 <br> Elapsed Time: 1.57\", \"Input Table: WORK.__MTF_PIT_MULTIYEAR_ROW_INFO <br> Output Table: WORK.__MTF_PD_PIT_MULTIYEAR_PIT_PD_1 <br> Step: 43 <br> Start Time: 2021-07-23 18:01:32.340000 <br> Elapsed Time: 67.32\", \"Input Table: WORK.__MTF_PIT_MULTIYEAR_ROW_INFO <br> Output Table: WORK.__MTF_PD_PIT_ONEYEAR_PIT_PD_0 <br> Step: 43 <br> Start Time: 2021-07-23 18:01:32.340000 <br> Elapsed Time: 67.32\", \"Input Table: WORK.__MTF_PIT_MULTIYEAR_ROW_INFO <br> Output Table: WORK.__MTF_PD_PIT_MULTIYEAR_PIT_PD_0 <br> Step: 43 <br> Start Time: 2021-07-23 18:01:32.340000 <br> Elapsed Time: 67.32\", \"Input Table: WORK.__MTF_PD_PIT_ONEYEAR_PIT_PD_0 <br> Output Table: WORK.__MTF_PD_PIT_ONEYEAR_PIT_PD <br> Step: 44 <br> Start Time: 2021-07-23 18:02:39.660000 <br> Elapsed Time: 1.2\", \"Input Table: WORK.__MTF_PD_PIT_MULTIYEAR_PIT_PD_0 <br> Output Table: WORK.__MTF_PD_PIT_MULTIYEAR_PIT_PD <br> Step: 45 <br> Start Time: 2021-07-23 18:02:40.860000 <br> Elapsed Time: 3.75\", \"Input Table: WORK.__MTF_PD_PIT_MULTIYEAR_PIT_PD <br> Output Table: WORK.__MTF_PD_PIT_MULTIYEAR_PIT_PD_20 <br> Step: 46 <br> Start Time: 2021-07-23 18:02:44.610000 <br> Elapsed Time: 1.39\", \"Input Table: WORK.__MTF_PD_PIT_MULTIYEAR_PIT_PD <br> Output Table: WORK.__MTF_PD_PIT_MULTIYEAR_TTC_PD_20 <br> Step: 46 <br> Start Time: 2021-07-23 18:02:44.610000 <br> Elapsed Time: 1.39\", \"Input Table: WORK.__MTF_PD_PIT_MULTIYEAR_PIT_PD_20 <br> Output Table: WORK.__MTF_PD_PIT_MULTIYEAR_BOTH_PD <br> Step: 47 <br> Start Time: 2021-07-23 18:02:46 <br> Elapsed Time: 7.3\", \"Input Table: WORK.__MTF_PD_PIT_MULTIYEAR_TTC_PD_20 <br> Output Table: WORK.__MTF_PD_PIT_MULTIYEAR_BOTH_PD <br> Step: 47 <br> Start Time: 2021-07-23 18:02:46 <br> Elapsed Time: 7.3\", \"Input Table: WORK.__MTF_PD_PIT_MULTIYEAR_BOTH_PD <br> Output Table: WORK.__MTF_PD_PIT_MARGINAL_BOTH_PD <br> Step: 48 <br> Start Time: 2021-07-23 18:02:53.300000 <br> Elapsed Time: 0.35\", \"Input Table: WORK.__MTF_PD_PIT_MARGINAL_BOTH_PD <br> Output Table: WORK.__MTF_PD_PIT_MULTIYEAR_PRED <br> Step: 49 <br> Start Time: 2021-07-23 18:02:53.650000 <br> Elapsed Time: 17.08\", \"Input Table: WORK.__MTF_PD_PIT_MULTIYEAR_PRED <br> Output Table: WORK.__MTF_PD_PIT_MULTIYEAR_PRED2 <br> Step: 50 <br> Start Time: 2021-07-23 18:03:10.730000 <br> Elapsed Time: 0.47\", \"Input Table: WORK.__MTF_PD_PIT_MULTIYEAR_PRED2 <br> Output Table: WORK.__MTF_PD_PIT_MULTIYEAR_PRED_STD <br> Step: 51 <br> Start Time: 2021-07-23 18:03:11.200000 <br> Elapsed Time: 0.52\", \"Input Table: WORK.__MTF_PD_PIT_MULTIYEAR_PRED_STD <br> Output Table: WORK.__MTF_PD_PIT_MULTIYEAR_PRED_GRP <br> Step: 52 <br> Start Time: 2021-07-23 18:03:11.720000 <br> Elapsed Time: 0.08\", \"Input Table: WORK.__MTF_PD_PIT_MULTIYEAR_PRED_GRP <br> Output Table: WORK.__MTF_PD_PIT_MULTIYEAR_BOTH_GRP <br> Step: 53 <br> Start Time: 2021-07-23 18:03:11.800000 <br> Elapsed Time: 1.32\", \"Input Table: WORK.__MTF_PD_PIT_MULTIYEAR_BOTH_GRP <br> Output Table: WORK.__MTF_PD_PIT_MULTIYEAR_CI <br> Step: 54 <br> Start Time: 2021-07-23 18:03:13.120000 <br> Elapsed Time: 0.04\", \"Input Table: WORK.__MTF_PD_PIT_MULTIYEAR_CI <br> Output Table: WORK.__MTF_PD_PIT_MULTIYEAR_CI <br> Step: 55 <br> Start Time: 2021-07-23 18:03:13.160000 <br> Elapsed Time: 0.01\", \"Input Table: WORK.__MTF_PD_PIT_MULTIYEAR_ME <br> Output Table: WORK.__MTF_PD_PIT_MULTIYEAR_ME <br> Step: 56 <br> Start Time: 2021-07-23 18:03:13.170000 <br> Elapsed Time: 0.11\", \"Input Table: WORK.__MTF_PD_PIT_MULTIYEAR_CI <br> Output Table: WORK.__MTF_PD_PIT_MULTIYEAR_CI_ME <br> Step: 57 <br> Start Time: 2021-07-23 18:03:13.280000 <br> Elapsed Time: 0.11\", \"Input Table: WORK.__MTF_PD_PIT_MULTIYEAR_ME <br> Output Table: WORK.__MTF_PD_PIT_MULTIYEAR_CI_ME <br> Step: 57 <br> Start Time: 2021-07-23 18:03:13.280000 <br> Elapsed Time: 0.11\", \"Input Table: WORK.__MTF_PD_PIT_MULTIYEAR_CI_ME <br> Output Table: WORK.__MTF_PD_PIT_CONCLUSION <br> Step: 58 <br> Start Time: 2021-07-23 18:03:13.390000 <br> Elapsed Time: 0.1\", \"Input Table: WORK.__MTF_PD_PIT_CONCLUSION <br> Output Table: WORK.TEST_PD_PIT_U <br> Step: 59 <br> Start Time: 2021-07-23 18:03:13.490000 <br> Elapsed Time: 0.54\", \"Input Table: WORK.__MTF_PD_PIT_CONCLUSION <br> Output Table: WORK.TEST_PD_PIT <br> Step: 59 <br> Start Time: 2021-07-23 18:03:13.490000 <br> Elapsed Time: 0.54\", \"Input Table: WORK.__MTF_PD_PIT_CONCLUSION <br> Output Table: WORK.TEST_PD_TTC_IN <br> Step: 59 <br> Start Time: 2021-07-23 18:03:13.490000 <br> Elapsed Time: 0.54\", \"Input Table: WORK.__MTF_PD_NON_TO_RATINGS <br> Output Table: WORK.__MTF_PD_NON_RATING_MIGRATIONS <br> Step: 61 <br> Start Time: 2021-07-23 18:03:14.260000 <br> Elapsed Time: 0.39\", \"Input Table: WORK.__MTF_PD_NON_RATING_MIGRATIONS <br> Output Table: WORK.__MTF_PD_NON_RATING_MIG_COUNTS_1 <br> Step: 62 <br> Start Time: 2021-07-23 18:03:14.650000 <br> Elapsed Time: 0.34\", \"Input Table: WORK.__MTF_PD_NON_RATING_MIG_COUNTS_1 <br> Output Table: WORK.__MTF_PD_NON_MIGRATION_TEMPLATE <br> Step: 63 <br> Start Time: 2021-07-23 18:03:14.990000 <br> Elapsed Time: 0.12\", \"Input Table: WORK.__MTF_PD_NON_MIGRATION_TEMPLATE <br> Output Table: WORK.__MTF_PD_NON_RATING_MIG_RES_1 <br> Step: 64 <br> Start Time: 2021-07-23 18:03:15.110000 <br> Elapsed Time: 0.15\", \"Input Table: WORK.__MTF_PD_NON_RATING_MIG_RES_1 <br> Output Table: WORK.__MTF_PD_NON_RATING_MIG_RES2_1 <br> Step: 65 <br> Start Time: 2021-07-23 18:03:15.260000 <br> Elapsed Time: 0.99\", \"Input Table: WORK.__MTF_PD_NON_RATING_MIG_RES_1 <br> Output Table: WORK.__MTF_PD_NON_RATING_MIG_COUNTS_2 <br> Step: 65 <br> Start Time: 2021-07-23 18:03:15.260000 <br> Elapsed Time: 0.99\", \"Input Table: WORK.__MTF_PD_NON_RATING_MIG_RES2_1 <br> Output Table: WORK.__MTF_PD_NON_RATING_MIG_RES2 <br> Step: 74 <br> Start Time: 2021-07-23 18:03:20.360000 <br> Elapsed Time: 0.42\", \"Input Table: WORK.__MTF_PD_NON_RATING_MIG_RES2_1 <br> Output Table: WORK.__MTF_PD_NON_RATING_PD_TTC <br> Step: 74 <br> Start Time: 2021-07-23 18:03:20.360000 <br> Elapsed Time: 0.42\", \"Input Table: WORK.__MTF_PD_NON_RATING_MIG_COUNTS_2 <br> Output Table: WORK.__MTF_PD_NON_RATING_MIG_RES_2 <br> Step: 66 <br> Start Time: 2021-07-23 18:03:16.250000 <br> Elapsed Time: 0.27\", \"Input Table: WORK.__MTF_PD_NON_RATING_MIG_RES_2 <br> Output Table: WORK.__MTF_PD_NON_RATING_MIG_RES2_2 <br> Step: 67 <br> Start Time: 2021-07-23 18:03:16.520000 <br> Elapsed Time: 0.91\", \"Input Table: WORK.__MTF_PD_NON_RATING_MIG_RES_2 <br> Output Table: WORK.__MTF_PD_NON_RATING_MIG_COUNTS_3 <br> Step: 67 <br> Start Time: 2021-07-23 18:03:16.520000 <br> Elapsed Time: 0.91\", \"Input Table: WORK.__MTF_PD_NON_RATING_MIG_RES2_2 <br> Output Table: WORK.__MTF_PD_NON_RATING_MIG_RES2 <br> Step: 74 <br> Start Time: 2021-07-23 18:03:20.360000 <br> Elapsed Time: 0.42\", \"Input Table: WORK.__MTF_PD_NON_RATING_MIG_RES2_2 <br> Output Table: WORK.__MTF_PD_NON_RATING_PD_TTC <br> Step: 74 <br> Start Time: 2021-07-23 18:03:20.360000 <br> Elapsed Time: 0.42\", \"Input Table: WORK.__MTF_PD_NON_RATING_MIG_COUNTS_3 <br> Output Table: WORK.__MTF_PD_NON_RATING_MIG_RES_3 <br> Step: 68 <br> Start Time: 2021-07-23 18:03:17.430000 <br> Elapsed Time: 0.27\", \"Input Table: WORK.__MTF_PD_NON_RATING_MIG_RES_3 <br> Output Table: WORK.__MTF_PD_NON_RATING_MIG_RES2_3 <br> Step: 69 <br> Start Time: 2021-07-23 18:03:17.700000 <br> Elapsed Time: 0.91\", \"Input Table: WORK.__MTF_PD_NON_RATING_MIG_RES_3 <br> Output Table: WORK.__MTF_PD_NON_RATING_MIG_COUNTS_4 <br> Step: 69 <br> Start Time: 2021-07-23 18:03:17.700000 <br> Elapsed Time: 0.91\", \"Input Table: WORK.__MTF_PD_NON_RATING_MIG_RES2_3 <br> Output Table: WORK.__MTF_PD_NON_RATING_MIG_RES2 <br> Step: 74 <br> Start Time: 2021-07-23 18:03:20.360000 <br> Elapsed Time: 0.42\", \"Input Table: WORK.__MTF_PD_NON_RATING_MIG_RES2_3 <br> Output Table: WORK.__MTF_PD_NON_RATING_PD_TTC <br> Step: 74 <br> Start Time: 2021-07-23 18:03:20.360000 <br> Elapsed Time: 0.42\", \"Input Table: WORK.__MTF_PD_NON_RATING_MIG_COUNTS_4 <br> Output Table: WORK.__MTF_PD_NON_RATING_MIG_RES_4 <br> Step: 70 <br> Start Time: 2021-07-23 18:03:18.610000 <br> Elapsed Time: 0.27\", \"Input Table: WORK.__MTF_PD_NON_RATING_MIG_RES_4 <br> Output Table: WORK.__MTF_PD_NON_RATING_MIG_RES2_4 <br> Step: 71 <br> Start Time: 2021-07-23 18:03:18.880000 <br> Elapsed Time: 0.89\", \"Input Table: WORK.__MTF_PD_NON_RATING_MIG_RES_4 <br> Output Table: WORK.__MTF_PD_NON_RATING_MIG_COUNTS_5 <br> Step: 71 <br> Start Time: 2021-07-23 18:03:18.880000 <br> Elapsed Time: 0.89\", \"Input Table: WORK.__MTF_PD_NON_RATING_MIG_RES2_4 <br> Output Table: WORK.__MTF_PD_NON_RATING_MIG_RES2 <br> Step: 74 <br> Start Time: 2021-07-23 18:03:20.360000 <br> Elapsed Time: 0.42\", \"Input Table: WORK.__MTF_PD_NON_RATING_MIG_RES2_4 <br> Output Table: WORK.__MTF_PD_NON_RATING_PD_TTC <br> Step: 74 <br> Start Time: 2021-07-23 18:03:20.360000 <br> Elapsed Time: 0.42\", \"Input Table: WORK.__MTF_PD_NON_RATING_MIG_COUNTS_5 <br> Output Table: WORK.__MTF_PD_NON_RATING_MIG_RES_5 <br> Step: 72 <br> Start Time: 2021-07-23 18:03:19.770000 <br> Elapsed Time: 0.31\", \"Input Table: WORK.__MTF_PD_NON_RATING_MIG_RES_5 <br> Output Table: WORK.__MTF_PD_NON_RATING_MIG_RES2_5 <br> Step: 73 <br> Start Time: 2021-07-23 18:03:20.080000 <br> Elapsed Time: 0.28\", \"Input Table: WORK.__MTF_PD_NON_RATING_MIG_RES2_5 <br> Output Table: WORK.__MTF_PD_NON_RATING_MIG_RES2 <br> Step: 74 <br> Start Time: 2021-07-23 18:03:20.360000 <br> Elapsed Time: 0.42\", \"Input Table: WORK.__MTF_PD_NON_RATING_MIG_RES2_5 <br> Output Table: WORK.__MTF_PD_NON_RATING_PD_TTC <br> Step: 74 <br> Start Time: 2021-07-23 18:03:20.360000 <br> Elapsed Time: 0.42\", \"Input Table: WORK.__MTF_PD_NON_RATING_MIG_RES2 <br> Output Table: WORK.__MTF_PD_MARK_RATING_MIG_AVG1 <br> Step: 75 <br> Start Time: 2021-07-23 18:03:20.780000 <br> Elapsed Time: 0.23\", \"Input Table: WORK.__MTF_PD_NON_RATING_PD_TTC <br> Output Table: WORK.TEST_PD_MARK_IN <br> Step: 77 <br> Start Time: 2021-07-23 18:03:21.150000 <br> Elapsed Time: 0.51\", \"Input Table: WORK.__MTF_PD_NON_RATING_PD_TTC <br> Output Table: WORK.__MTF_PD_NON_RATING_MIG_RES3_1 <br> Step: 77 <br> Start Time: 2021-07-23 18:03:21.150000 <br> Elapsed Time: 0.51\", \"Input Table: WORK.__MTF_PD_NON_RATING_PD_TTC <br> Output Table: WORK.__MTF_PD_NON_RATING_PD_TTC_TABLE <br> Step: 77 <br> Start Time: 2021-07-23 18:03:21.150000 <br> Elapsed Time: 0.51\", \"Input Table: WORK.__MTF_PD_MARK_RATING_MIG_AVG1 <br> Output Table: WORK.__MTF_PD_MARK_RATING_MIG_AVG2 <br> Step: 76 <br> Start Time: 2021-07-23 18:03:21.010000 <br> Elapsed Time: 0.14\", \"Input Table: WORK.__MTF_PD_MARK_RATING_MIG_AVG2 <br> Output Table: WORK.TEST_PD_MARK_IN <br> Step: 77 <br> Start Time: 2021-07-23 18:03:21.150000 <br> Elapsed Time: 0.51\", \"Input Table: WORK.__MTF_PD_MARK_RATING_MIG_AVG2 <br> Output Table: WORK.__MTF_PD_NON_RATING_MIG_RES3_1 <br> Step: 77 <br> Start Time: 2021-07-23 18:03:21.150000 <br> Elapsed Time: 0.51\", \"Input Table: WORK.__MTF_PD_MARK_RATING_MIG_AVG2 <br> Output Table: WORK.__MTF_PD_NON_RATING_PD_TTC_TABLE <br> Step: 77 <br> Start Time: 2021-07-23 18:03:21.150000 <br> Elapsed Time: 0.51\", \"Input Table: WORK.__MTF_PD_NON_RATING_MIG_RES3_1 <br> Output Table: WORK.TEST_PD_NON_IN <br> Step: 80 <br> Start Time: 2021-07-23 18:03:23.680000 <br> Elapsed Time: 0.83\", \"Input Table: WORK.__MTF_PD_NON_RATING_MIG_RES3_1 <br> Output Table: WORK.TEST_PD_STB_IN <br> Step: 80 <br> Start Time: 2021-07-23 18:03:23.680000 <br> Elapsed Time: 0.83\", \"Input Table: WORK.__MTF_PD_NON_RATING_MIG_RES3_1 <br> Output Table: WORK.__MTF_PD_PIT_ODR_WIDE_DIS <br> Step: 80 <br> Start Time: 2021-07-23 18:03:23.680000 <br> Elapsed Time: 0.83\", \"Input Table: WORK.__MTF_PD_NON_RATING_PD_TTC_TABLE <br> Output Table: WORK.__MTF_PD_NON_JOINED_PDS <br> Step: 79 <br> Start Time: 2021-07-23 18:03:23.230000 <br> Elapsed Time: 0.45\", \"Input Table: WORK.__MTF_PD_NON_RATING_PD_TTC_TABLE <br> Output Table: WORK.__MTF_PD_MARK_RATING_MIG_AVG1_20 <br> Step: 79 <br> Start Time: 2021-07-23 18:03:23.230000 <br> Elapsed Time: 0.45\", \"Input Table: WORK.__MTF_PD_NON_ONEYEAR_PIT_PD_FULL <br> Output Table: WORK.__MTF_PD_NON_JOINED_PDS <br> Step: 79 <br> Start Time: 2021-07-23 18:03:23.230000 <br> Elapsed Time: 0.45\", \"Input Table: WORK.__MTF_PD_NON_ONEYEAR_PIT_PD_FULL <br> Output Table: WORK.__MTF_PD_MARK_RATING_MIG_AVG1_20 <br> Step: 79 <br> Start Time: 2021-07-23 18:03:23.230000 <br> Elapsed Time: 0.45\", \"Input Table: WORK.__MTF_PD_NON_ONEYEAR_PIT_PD_DEF <br> Output Table: WORK.__MTF_PD_NON_JOINED_PDS <br> Step: 79 <br> Start Time: 2021-07-23 18:03:23.230000 <br> Elapsed Time: 0.45\", \"Input Table: WORK.__MTF_PD_NON_ONEYEAR_PIT_PD_DEF <br> Output Table: WORK.__MTF_PD_MARK_RATING_MIG_AVG1_20 <br> Step: 79 <br> Start Time: 2021-07-23 18:03:23.230000 <br> Elapsed Time: 0.45\", \"Input Table: WORK.__MTF_PD_NON_JOINED_PDS <br> Output Table: WORK.TEST_PD_NON_IN <br> Step: 80 <br> Start Time: 2021-07-23 18:03:23.680000 <br> Elapsed Time: 0.83\", \"Input Table: WORK.__MTF_PD_NON_JOINED_PDS <br> Output Table: WORK.TEST_PD_STB_IN <br> Step: 80 <br> Start Time: 2021-07-23 18:03:23.680000 <br> Elapsed Time: 0.83\", \"Input Table: WORK.__MTF_PD_NON_JOINED_PDS <br> Output Table: WORK.__MTF_PD_PIT_ODR_WIDE_DIS <br> Step: 80 <br> Start Time: 2021-07-23 18:03:23.680000 <br> Elapsed Time: 0.83\", \"Input Table: WORK.__MTF_PD_MARK_RATING_MIG_AVG1_20 <br> Output Table: WORK.TEST_PD_NON_IN <br> Step: 80 <br> Start Time: 2021-07-23 18:03:23.680000 <br> Elapsed Time: 0.83\", \"Input Table: WORK.__MTF_PD_MARK_RATING_MIG_AVG1_20 <br> Output Table: WORK.TEST_PD_STB_IN <br> Step: 80 <br> Start Time: 2021-07-23 18:03:23.680000 <br> Elapsed Time: 0.83\", \"Input Table: WORK.__MTF_PD_MARK_RATING_MIG_AVG1_20 <br> Output Table: WORK.__MTF_PD_PIT_ODR_WIDE_DIS <br> Step: 80 <br> Start Time: 2021-07-23 18:03:23.680000 <br> Elapsed Time: 0.83\", \"Input Table: WORK.__MTF_PD_PIT_ODR_WIDE_DIS <br> Output Table: WORK.__MTF_PD_PIT_ODR_WIDE_TP_DIS <br> Step: 81 <br> Start Time: 2021-07-23 18:03:24.510000 <br> Elapsed Time: 0.19\", \"Input Table: WORK.__MTF_PD_PIT_ODR_WIDE_TP_DIS <br> Output Table: WORK.__MTF_PD_PIT_ODR_LONG_DIS <br> Step: 82 <br> Start Time: 2021-07-23 18:03:24.700000 <br> Elapsed Time: 1.05\", \"Input Table: WORK.__MTF_PD_PIT_ODR_LONG_DIS <br> Output Table: WORK.TEST_PD_DIS_IN <br> Step: 83 <br> Start Time: 2021-07-23 18:03:25.750000 <br> Elapsed Time: 0.0\"], \"textposition\": \"top center\", \"type\": \"scatter\", \"x\": [-0.964832, -0.929663, -0.97420945, -0.964832, -0.91794, -0.882772, -0.9355245999999999, -0.871049, -0.847603, -0.824158, -0.8018843, -0.800712, -0.8018843, -0.13133749999999997, -0.777266, -0.76319945, -0.73389085, -0.73389085, -0.730375, -0.7081013, -0.7081013, -0.17940065, -0.68231175, -0.660038, -0.636592, -0.6143183, -0.6143183, -0.59087225, -0.58852775, -0.58852775, -0.3200753, -0.402136, -0.5650826999999999, -0.542809, -0.52053625, -0.52053625, -0.495918, -0.4947457, -0.49709030000000004, -0.495918, -0.38103375, -0.4712997, -0.449026, -0.425581, -0.402135, -0.37869, -0.355244, -0.331798, -0.29663, -0.261461, -0.238016, -0.21457, -0.191124, -0.167678, -0.144233, -0.097342, -0.097342, -0.053966850000000004, -0.053966850000000004, -0.05045, -0.01762655, -0.015282, -0.01762655, 0.40674, 0.44894225, -0.004731300000000001, -0.0023867000000000003, -0.0047313, 0.019887, 0.03395455, 0.0656057, 0.0656057, 0.0913963, 0.0913963, 0.11367, 0.137116, 0.160561, 0.184007, 0.207452, 0.230898, 0.254344, 0.27661775, 0.3024073, 0.3153026, 0.324681, 0.348126, 0.3703997, 0.371572, 0.3703997, 0.418464, 0.441909, 0.465355, 0.4888, 0.5110737, 0.5110737, 0.629474, 0.64002455, 0.5368643, 0.55796575, 0.55796575, 0.65292, 0.661126, 0.5837553, 0.6048567, 0.6048567, 0.676366, 0.6822274, 0.63064625, 0.6517476999999999, 0.6517476999999999, 0.699812, 0.70332885, 0.6775383, 0.699812, 0.7220847, 0.7220847, 0.7478753, 0.76663115, 0.7736648500000001, 0.76663115, 0.770148, 0.7924217, 0.793594, 0.7924217, 0.8369691499999999, 0.840486, 0.8369691499999999, 0.82641745, 0.83110655, 0.840486, 0.8416582499999999, 0.83931375, 0.840486, 0.8627587, 0.8651033, 0.8651033, 0.8627587, 0.8651033, 0.8627587, 0.8885493, 0.910823, 0.934268], \"xaxis\": \"x\", \"y\": [0.0011722500000000025, 0.002344599999999997, 0.0128953, 0.0035168499999999993, 0.0011722999999999985, 0.002344550000000001, -0.0128953, 0.0011722999999999985, 0.001172300000000004, 0.001172249999999997, 0.012895300000000002, 0.0011722999999999985, -0.012895300000000002, 0.012895300000000002, 0.001172300000000004, -0.0128953, 0.00644815, -0.00644815, 0.001172300000000004, 0.00644815, -0.00644815, 0.00644815, -0.00644815, 0.001172300000000004, 0.0011722999999999985, 0.00644815, -0.00644815, 0.01817115, 0.00644815, -0.004103549999999999, 0.012895300000000002, 0.017584250000000003, -0.012895300000000002, 0.001172300000000004, 0.00644815, -0.00644815, 0.012895300000000002, 0.0011723000000000003, 0.0011723000000000003, -0.012895300000000002, 0.006448150000000001, -0.00644815, 0.0011722499999999997, 0.0011723000000000011, 0.0011723000000000011, 0.0011722499999999997, 0.0011722999999999985, 0.0011723000000000011, 0.002344550000000001, 0.0011722999999999998, 0.0011722499999999997, 0.0011722999999999998, 0.0011722999999999998, 0.0011722499999999997, 0.0011723000000000011, 0.0035168499999999993, 0.0011722499999999997, 0.00644815, -0.00644815, 0.0011723000000000003, 0.0128953, 0.00234455, -0.0128953, 0.05392525000000001, 0.0011723000000000003, 0.007620450000000001, -0.00644815, -0.01817115, 0.0011723000000000003, -0.012895300000000002, 0.00644815, -0.00644815, 0.00644815, -0.00644815, 0.0011723000000000005, 0.0011722499999999997, 0.0011722999999999998, 0.0011722999999999998, 0.0011722500000000012, 0.0011722999999999998, 0.0011722999999999998, -0.00644815, 0.00644815, -0.00644815, 0.0011722999999999985, 0.0011722499999999997, 0.012895300000000002, 0.0011723000000000011, -0.012895300000000002, 0.0011722499999999997, 0.0011722999999999985, 0.0011723000000000011, 0.0011722500000000025, 0.00644815, -0.00644815, 0.02227355, 0.0011723, -0.00644815, 0.00644815, -0.00644815, 0.019928999999999995, 0.0011723000000000003, -0.00644815, 0.00644815, -0.00644815, 0.0175844, 0.0011723, -0.00644815, 0.00644815, -0.00644815, 0.01523985, 0.0011723000000000003, -0.00644815, 0.0011722500000000025, 0.00644815, -0.00644815, 0.00644815, 0.007620450000000001, -0.00644815, -0.01817115, 0.001172249999999997, 0.012895300000000002, 0.0011722999999999985, -0.012895300000000002, 0.0128953, 0.003516850000000005, -0.0128953, -0.004103549999999999, -0.01817115, 0.012895249999999997, 0.0011723000000000003, 0.0011723000000000003, -0.012895249999999997, 0.01817115, 0.00644815, -0.00410355, 0.00762045, -0.00644815, -0.01817115, -0.012895300000000002, 0.0011722999999999985, 0.0011722500000000025], \"yaxis\": \"y\"}, {\"cells\": {\"align\": \"left\", \"font\": {\"size\": 8}, \"values\": [[1, 2, 2, 3, 4, 4, 5, 6, 6, 7, 8, 9, 9, 9, 10, 11, 12, 13, 13, 13, 13, 14, 15, 16, 17, 17, 18, 18, 18, 19, 20, 21, 21, 22, 22, 22, 22, 23, 24, 25, 26, 27, 28, 29, 30, 31, 32, 33, 33, 34, 35, 36, 37, 38, 39, 40, 41, 42, 42, 43, 43, 43, 43, 43, 43, 44, 45, 46, 46, 47, 47, 48, 49, 50, 51, 52, 53, 53, 54, 55, 55, 56, 57, 57, 58, 59, 59, 59, 60, 61, 62, 63, 64, 65, 65, 66, 67, 67, 68, 69, 69, 70, 71, 71, 72, 73, 74, 74, 74, 74, 74, 74, 74, 74, 74, 74, 75, 76, 77, 77, 77, 77, 77, 77, 78, 78, 79, 79, 79, 79, 79, 79, 80, 80, 80, 80, 80, 80, 80, 80, 80, 81, 82, 83], [\"No Input\", \"WORK.__MTF_PD_PIT_VERSION\", \"INPUT.PD_VIEW\", \"INPUT.PD_RR_RATING\", \"WORK.__MTF_PD_PIT_DISTINCT_RATING1\", \"WORK.__MTF_PD_PIT_DISTINCT_RATING2\", \"INPUT.PD_Z_FACTOR\", \"WORK.__MTF_PD_PIT_DISTINCT_ZVAL1\", \"WORK.__MTF_PD_PIT_DISTINCT_ZVAL2\", \"WORK.__MTF_PD_PIT_VIEW\", \"WORK.__MTF_PD_PIT_VIEW2\", \"WORK.__MTF_PD_PIT_PROC_MULTIYEAR_DATA\", \"WORK.__MTF_PD_PIT_PROC_MULTIYEAR_DATA\", \"WORK.__MTF_PD_PIT_PROC_MULTIYEAR_DATA\", \"WORK.__MTF_PD_PIT_PROC_ONEYEAR_DATA\", \"WORK.__MTF_PD_PIT_ODR_WIDE\", \"WORK.__MTF_PD_PIT_ODR_WIDE_TP\", \"WORK.__MTF_PD_PIT_ODR_LONG\", \"WORK.__MTF_PD_PIT_ODR_LONG\", \"WORK.__MTF_PD_PIT_OUTSTANDING_STATS_1\", \"WORK.__MTF_PD_PIT_OUTSTANDING_STATS_1\", \"WORK.__MTF_PD_PIT_RATING_PARAMS\", \"WORK.__MTF_PD_PIT_TTCMATRIX_TMP1\", \"WORK.__MTF_PD_PIT_TTCMATRIX_TMP2\", \"WORK.__MTF_PD_PIT_TTCMATRIX_TMP3\", \"WORK.__MTF_PD_PIT_TTCMATRIX_TMP3\", \"WORK.__MTF_PD_PIT_TTCMATRIX_NONNULL\", \"WORK.__MTF_PD_PIT_TTCMATRIX_NONNULL\", \"WORK.__MTF_PD_PIT_TTCMATRIX_NONNULL\", \"WORK.__MTF_PD_PIT_TTCMATRIX_SCALED\", \"WORK.__MTF_PD_PIT_TTC_MATRIX_SCALED2\", \"WORK.__MTF_PD_PIT_TTCMATRIX_LONG\", \"WORK.__MTF_PD_PIT_TTCMATRIX_LONG\", \"WORK.__MTF_PD_PIT_RISK_RATING_NAMES\", \"WORK.__MTF_PD_PIT_RISK_RATING_NAMES\", \"WORK.__MTF_PD_PIT_TTCMATRIX_WIDE_1\", \"WORK.__MTF_PD_PIT_TTCMATRIX_WIDE_1\", \"WORK.__MTF_PD_PIT_TTCMATRIX_WIDE_2\", \"WORK.__MTF_PD_PIT_TTCMATRIX_WIDE_2\", \"WORK.__MTF_PD_PIT_TTCMATRIX_WIDE_3\", \"WORK.__MTF_PD_PIT_TTCMATRIX_WIDE_3\", \"WORK.__MTF_PD_PIT_TTCMATRIX_WIDE_4\", \"WORK.__MTF_PD_PIT_TTCMATRIX_WIDE_4\", \"WORK.__MTF_PD_PIT_TTCMATRIX_WIDE_5\", \"WORK.__MTF_PD_PIT_TTC_PD_OUT\", \"WORK.__MTF_PD_PIT_TTCMATRIX_WIDE_5\", \"WORK.__MTF_PD_PIT_MULTIYEAR_TTC_PD\", \"WORK.__MTF_PIT_PITPD_VERSION\", \"WORK.__MTF_PD_PIT_PIC\", \"WORK.__MTF_PIT_PIC_UNIQUE\", \"WORK.__MTF_PIT_COUNTRY_DATES\", \"WORK.__MTF_PIT_COUNTRY_DATES_MULTI\", \"WORK.__MTF_PIT_COUNTRY_PIC_MULTI\", \"WORK.__MTF_PD_PIT_ASSET_CORRELATION\", \"WORK.__MTF_PIT_ONEYEAR_PDS\", \"WORK.__MTF_PIT_COUNTRY_PIC_MULTI_RANK\", \"WORK.__MTF_PIT_MULTI_PDS\", \"WORK.__MTF_PIT_ONEYEAR_PDS\", \"WORK.__MTF_PIT_ONEYEAR_PDS\", \"WORK.__MTF_PIT_MULTIYEAR_ROW_INFO\", \"WORK.__MTF_PIT_MULTIYEAR_ROW_INFO\", \"WORK.__MTF_PIT_MULTIYEAR_ROW_INFO\", \"WORK.__MTF_PIT_MULTI_PDS\", \"WORK.__MTF_PIT_MULTI_PDS\", \"WORK.__MTF_PIT_MULTI_PDS\", \"WORK.__MTF_PD_PIT_ONEYEAR_PIT_PD_0\", \"WORK.__MTF_PD_PIT_MULTIYEAR_PIT_PD_0\", \"WORK.__MTF_PD_PIT_MULTIYEAR_PIT_PD\", \"WORK.__MTF_PD_PIT_MULTIYEAR_PIT_PD\", \"WORK.__MTF_PD_PIT_MULTIYEAR_PIT_PD_20\", \"WORK.__MTF_PD_PIT_MULTIYEAR_TTC_PD_20\", \"WORK.__MTF_PD_PIT_MULTIYEAR_BOTH_PD\", \"WORK.__MTF_PD_PIT_MARGINAL_BOTH_PD\", \"WORK.__MTF_PD_PIT_MULTIYEAR_PRED\", \"WORK.__MTF_PD_PIT_MULTIYEAR_PRED2\", \"WORK.__MTF_PD_PIT_MULTIYEAR_PRED_STD\", \"WORK.__MTF_PD_PIT_MULTIYEAR_PRED_GRP\", \"WORK.__MTF_PD_PIT_MULTIYEAR_OBS_GRP\", \"WORK.__MTF_PD_PIT_MULTIYEAR_BOTH_GRP\", \"No Input\", \"WORK.__MTF_PD_PIT_MULTIYEAR_CI\", \"WORK.__MTF_PD_PIT_MULTIYEAR_ME\", \"WORK.__MTF_PD_PIT_MULTIYEAR_CI\", \"WORK.__MTF_PD_PIT_MULTIYEAR_ME\", \"WORK.__MTF_PD_PIT_MULTIYEAR_CI_ME\", \"WORK.__MTF_PD_PIT_CONCLUSION\", \"WORK.__MTF_PD_PIT_CONCLUSION\", \"WORK.__MTF_PD_PIT_CONCLUSION\", \"WORK.__MTF_PD_NON_MIGRATIONS_IN\", \"WORK.__MTF_PD_NON_TO_RATINGS\", \"WORK.__MTF_PD_NON_RATING_MIGRATIONS\", \"WORK.__MTF_PD_NON_RATING_MIG_COUNTS_1\", \"WORK.__MTF_PD_NON_MIGRATION_TEMPLATE\", \"WORK.__MTF_PD_NON_RATING_MIG_RES_1\", \"WORK.__MTF_PD_NON_RATING_MIG_RES_1\", \"WORK.__MTF_PD_NON_RATING_MIG_COUNTS_2\", \"WORK.__MTF_PD_NON_RATING_MIG_RES_2\", \"WORK.__MTF_PD_NON_RATING_MIG_RES_2\", \"WORK.__MTF_PD_NON_RATING_MIG_COUNTS_3\", \"WORK.__MTF_PD_NON_RATING_MIG_RES_3\", \"WORK.__MTF_PD_NON_RATING_MIG_RES_3\", \"WORK.__MTF_PD_NON_RATING_MIG_COUNTS_4\", \"WORK.__MTF_PD_NON_RATING_MIG_RES_4\", \"WORK.__MTF_PD_NON_RATING_MIG_RES_4\", \"WORK.__MTF_PD_NON_RATING_MIG_COUNTS_5\", \"WORK.__MTF_PD_NON_RATING_MIG_RES_5\", \"WORK.__MTF_PD_NON_RATING_MIG_RES2_1\", \"WORK.__MTF_PD_NON_RATING_MIG_RES2_1\", \"WORK.__MTF_PD_NON_RATING_MIG_RES2_2\", \"WORK.__MTF_PD_NON_RATING_MIG_RES2_2\", \"WORK.__MTF_PD_NON_RATING_MIG_RES2_3\", \"WORK.__MTF_PD_NON_RATING_MIG_RES2_3\", \"WORK.__MTF_PD_NON_RATING_MIG_RES2_4\", \"WORK.__MTF_PD_NON_RATING_MIG_RES2_4\", \"WORK.__MTF_PD_NON_RATING_MIG_RES2_5\", \"WORK.__MTF_PD_NON_RATING_MIG_RES2_5\", \"WORK.__MTF_PD_NON_RATING_MIG_RES2\", \"WORK.__MTF_PD_MARK_RATING_MIG_AVG1\", \"WORK.__MTF_PD_MARK_RATING_MIG_AVG2\", \"WORK.__MTF_PD_MARK_RATING_MIG_AVG2\", \"WORK.__MTF_PD_MARK_RATING_MIG_AVG2\", \"WORK.__MTF_PD_NON_RATING_PD_TTC\", \"WORK.__MTF_PD_NON_RATING_PD_TTC\", \"WORK.__MTF_PD_NON_RATING_PD_TTC\", \"WORK.__MTF_PD_PIT_ONEYEAR_PIT_PD_1\", \"WORK.__MTF_PD_PIT_ONEYEAR_PIT_PD_1\", \"WORK.__MTF_PD_NON_RATING_PD_TTC_TABLE\", \"WORK.__MTF_PD_NON_RATING_PD_TTC_TABLE\", \"WORK.__MTF_PD_NON_ONEYEAR_PIT_PD_FULL\", \"WORK.__MTF_PD_NON_ONEYEAR_PIT_PD_FULL\", \"WORK.__MTF_PD_NON_ONEYEAR_PIT_PD_DEF\", \"WORK.__MTF_PD_NON_ONEYEAR_PIT_PD_DEF\", \"WORK.__MTF_PD_NON_RATING_MIG_RES3_1\", \"WORK.__MTF_PD_NON_RATING_MIG_RES3_1\", \"WORK.__MTF_PD_NON_RATING_MIG_RES3_1\", \"WORK.__MTF_PD_NON_JOINED_PDS\", \"WORK.__MTF_PD_NON_JOINED_PDS\", \"WORK.__MTF_PD_NON_JOINED_PDS\", \"WORK.__MTF_PD_MARK_RATING_MIG_AVG1_20\", \"WORK.__MTF_PD_MARK_RATING_MIG_AVG1_20\", \"WORK.__MTF_PD_MARK_RATING_MIG_AVG1_20\", \"WORK.__MTF_PD_PIT_ODR_WIDE_DIS\", \"WORK.__MTF_PD_PIT_ODR_WIDE_TP_DIS\", \"WORK.__MTF_PD_PIT_ODR_LONG_DIS\"], [\"WORK.__MTF_PD_PIT_VERSION\", \"WORK.__MTF_PD_PIT_DISTINCT_RATING1\", \"WORK.__MTF_PD_PIT_DISTINCT_RATING1\", \"WORK.__MTF_PD_PIT_DISTINCT_RATING2\", \"WORK.__MTF_PD_PIT_DISTINCT_ZVAL1\", \"WORK.__MTF_PD_PIT_DISTINCT_ZVAL1\", \"WORK.__MTF_PD_PIT_DISTINCT_ZVAL2\", \"WORK.__MTF_PD_PIT_VIEW\", \"WORK.__MTF_PD_PIT_VIEW\", \"WORK.__MTF_PD_PIT_VIEW2\", \"WORK.__MTF_PD_PIT_PROC_MULTIYEAR_DATA\", \"WORK.__MTF_PD_NON_MIGRATIONS_IN\", \"WORK.__MTF_PD_PIT_PROC_ONEYEAR_DATA\", \"WORK.__MTF_PD_PIT_ODR_WIDE\", \"WORK.__MTF_PD_PIT_OUTSTANDING_STATS_1\", \"WORK.__MTF_PD_PIT_ODR_WIDE_TP\", \"WORK.__MTF_PD_PIT_ODR_LONG\", \"WORK.__MTF_PD_PIT_MULTIYEAR_OBS_GRP\", \"WORK.__MTF_PD_PIT_RATING_PARAMS\", \"WORK.__MTF_PD_PIT_MULTIYEAR_OBS_GRP\", \"WORK.__MTF_PD_PIT_RATING_PARAMS\", \"WORK.__MTF_PD_PIT_TTCMATRIX_TMP1\", \"WORK.__MTF_PD_PIT_TTCMATRIX_TMP2\", \"WORK.__MTF_PD_PIT_TTCMATRIX_TMP3\", \"WORK.__MTF_PD_PIT_TTCMATRIX_NONNULL\", \"WORK.__MTF_PD_PIT_IRB_OLD\", \"WORK.__MTF_PD_PIT_ASSET_CORRELATION\", \"WORK.__MTF_PD_PIT_PIC\", \"WORK.__MTF_PD_PIT_TTCMATRIX_SCALED\", \"WORK.__MTF_PD_PIT_TTC_MATRIX_SCALED2\", \"WORK.__MTF_PD_PIT_TTCMATRIX_LONG\", \"WORK.__MTF_PD_PIT_RISK_RATING_NAMES\", \"WORK.__MTF_PD_PIT_TTCMATRIX_WIDE_1\", \"WORK.__MTF_PD_PIT_TTC_PD_OUT\", \"WORK.__MTF_PD_PIT_TTCMATRIX_WIDE_2\", \"WORK.__MTF_PD_PIT_TTC_PD_OUT\", \"WORK.__MTF_PD_PIT_TTCMATRIX_WIDE_2\", \"WORK.__MTF_PD_PIT_TTCMATRIX_WIDE_2\", \"WORK.__MTF_PD_PIT_TTCMATRIX_WIDE_3\", \"WORK.__MTF_PD_PIT_TTCMATRIX_WIDE_3\", \"WORK.__MTF_PD_PIT_TTCMATRIX_WIDE_4\", \"WORK.__MTF_PD_PIT_TTCMATRIX_WIDE_4\", \"WORK.__MTF_PD_PIT_TTCMATRIX_WIDE_5\", \"WORK.__MTF_PD_PIT_TTCMATRIX_WIDE_5\", \"WORK.__MTF_PD_PIT_TTC_PD_OUT_TMP\", \"WORK.__MTF_PD_PIT_MULTIYEAR_TTC_PD\", \"WORK.__MTF_PIT_PITPD_VERSION\", \"WORK.__MTF_PIT_PIC_UNIQUE\", \"WORK.__MTF_PIT_PIC_UNIQUE\", \"WORK.__MTF_PIT_COUNTRY_DATES\", \"WORK.__MTF_PIT_COUNTRY_DATES_MULTI\", \"WORK.__MTF_PIT_COUNTRY_PIC_MULTI\", \"WORK.__MTF_PIT_COUNTRY_PIC_MULTI_RANK\", \"WORK.__MTF_PIT_ONEYEAR_PDS\", \"WORK.__MTF_PIT_ONEYEAR_PDS\", \"WORK.__MTF_PIT_MULTI_PDS\", \"WORK.__MTF_PIT_MULTI_PDS\", \"WORK.__MTF_PD_PIT_ONEYEAR_PIT_PD_1\", \"WORK.__MTF_PIT_MULTIYEAR_ROW_INFO\", \"WORK.__MTF_PD_PIT_MULTIYEAR_PIT_PD_1\", \"WORK.__MTF_PD_PIT_ONEYEAR_PIT_PD_0\", \"WORK.__MTF_PD_PIT_MULTIYEAR_PIT_PD_0\", \"WORK.__MTF_PD_PIT_MULTIYEAR_PIT_PD_1\", \"WORK.__MTF_PD_PIT_ONEYEAR_PIT_PD_0\", \"WORK.__MTF_PD_PIT_MULTIYEAR_PIT_PD_0\", \"WORK.__MTF_PD_PIT_ONEYEAR_PIT_PD\", \"WORK.__MTF_PD_PIT_MULTIYEAR_PIT_PD\", \"WORK.__MTF_PD_PIT_MULTIYEAR_PIT_PD_20\", \"WORK.__MTF_PD_PIT_MULTIYEAR_TTC_PD_20\", \"WORK.__MTF_PD_PIT_MULTIYEAR_BOTH_PD\", \"WORK.__MTF_PD_PIT_MULTIYEAR_BOTH_PD\", \"WORK.__MTF_PD_PIT_MARGINAL_BOTH_PD\", \"WORK.__MTF_PD_PIT_MULTIYEAR_PRED\", \"WORK.__MTF_PD_PIT_MULTIYEAR_PRED2\", \"WORK.__MTF_PD_PIT_MULTIYEAR_PRED_STD\", \"WORK.__MTF_PD_PIT_MULTIYEAR_PRED_GRP\", \"WORK.__MTF_PD_PIT_MULTIYEAR_BOTH_GRP\", \"WORK.__MTF_PD_PIT_MULTIYEAR_BOTH_GRP\", \"WORK.__MTF_PD_PIT_MULTIYEAR_CI\", \"WORK.__MTF_PD_PIT_MULTIYEAR_ME\", \"WORK.__MTF_PD_PIT_MULTIYEAR_CI\", \"WORK.__MTF_PD_PIT_MULTIYEAR_ME\", \"WORK.__MTF_PD_PIT_MULTIYEAR_CI_ME\", \"WORK.__MTF_PD_PIT_MULTIYEAR_CI_ME\", \"WORK.__MTF_PD_PIT_CONCLUSION\", \"WORK.TEST_PD_PIT_U\", \"WORK.TEST_PD_PIT\", \"WORK.TEST_PD_TTC_IN\", \"WORK.__MTF_PD_NON_TO_RATINGS\", \"WORK.__MTF_PD_NON_RATING_MIGRATIONS\", \"WORK.__MTF_PD_NON_RATING_MIG_COUNTS_1\", \"WORK.__MTF_PD_NON_MIGRATION_TEMPLATE\", \"WORK.__MTF_PD_NON_RATING_MIG_RES_1\", \"WORK.__MTF_PD_NON_RATING_MIG_RES2_1\", \"WORK.__MTF_PD_NON_RATING_MIG_COUNTS_2\", \"WORK.__MTF_PD_NON_RATING_MIG_RES_2\", \"WORK.__MTF_PD_NON_RATING_MIG_RES2_2\", \"WORK.__MTF_PD_NON_RATING_MIG_COUNTS_3\", \"WORK.__MTF_PD_NON_RATING_MIG_RES_3\", \"WORK.__MTF_PD_NON_RATING_MIG_RES2_3\", \"WORK.__MTF_PD_NON_RATING_MIG_COUNTS_4\", \"WORK.__MTF_PD_NON_RATING_MIG_RES_4\", \"WORK.__MTF_PD_NON_RATING_MIG_RES2_4\", \"WORK.__MTF_PD_NON_RATING_MIG_COUNTS_5\", \"WORK.__MTF_PD_NON_RATING_MIG_RES_5\", \"WORK.__MTF_PD_NON_RATING_MIG_RES2_5\", \"WORK.__MTF_PD_NON_RATING_MIG_RES2\", \"WORK.__MTF_PD_NON_RATING_PD_TTC\", \"WORK.__MTF_PD_NON_RATING_MIG_RES2\", \"WORK.__MTF_PD_NON_RATING_PD_TTC\", \"WORK.__MTF_PD_NON_RATING_MIG_RES2\", \"WORK.__MTF_PD_NON_RATING_PD_TTC\", \"WORK.__MTF_PD_NON_RATING_MIG_RES2\", \"WORK.__MTF_PD_NON_RATING_PD_TTC\", \"WORK.__MTF_PD_NON_RATING_MIG_RES2\", \"WORK.__MTF_PD_NON_RATING_PD_TTC\", \"WORK.__MTF_PD_MARK_RATING_MIG_AVG1\", \"WORK.__MTF_PD_MARK_RATING_MIG_AVG2\", \"WORK.TEST_PD_MARK_IN\", \"WORK.__MTF_PD_NON_RATING_MIG_RES3_1\", \"WORK.__MTF_PD_NON_RATING_PD_TTC_TABLE\", \"WORK.TEST_PD_MARK_IN\", \"WORK.__MTF_PD_NON_RATING_MIG_RES3_1\", \"WORK.__MTF_PD_NON_RATING_PD_TTC_TABLE\", \"WORK.__MTF_PD_NON_ONEYEAR_PIT_PD_FULL\", \"WORK.__MTF_PD_NON_ONEYEAR_PIT_PD_DEF\", \"WORK.__MTF_PD_NON_JOINED_PDS\", \"WORK.__MTF_PD_MARK_RATING_MIG_AVG1_20\", \"WORK.__MTF_PD_NON_JOINED_PDS\", \"WORK.__MTF_PD_MARK_RATING_MIG_AVG1_20\", \"WORK.__MTF_PD_NON_JOINED_PDS\", \"WORK.__MTF_PD_MARK_RATING_MIG_AVG1_20\", \"WORK.TEST_PD_NON_IN\", \"WORK.TEST_PD_STB_IN\", \"WORK.__MTF_PD_PIT_ODR_WIDE_DIS\", \"WORK.TEST_PD_NON_IN\", \"WORK.TEST_PD_STB_IN\", \"WORK.__MTF_PD_PIT_ODR_WIDE_DIS\", \"WORK.TEST_PD_NON_IN\", \"WORK.TEST_PD_STB_IN\", \"WORK.__MTF_PD_PIT_ODR_WIDE_DIS\", \"WORK.__MTF_PD_PIT_ODR_WIDE_TP_DIS\", \"WORK.__MTF_PD_PIT_ODR_LONG_DIS\", \"WORK.TEST_PD_DIS_IN\"], [\"2021-07-23T18:00:00.780000\", \"2021-07-23T18:00:00.840000\", \"2021-07-23T18:00:00.840000\", \"2021-07-23T18:00:04.190000\", \"2021-07-23T18:00:04.190000\", \"2021-07-23T18:00:04.190000\", \"2021-07-23T18:00:04.550000\", \"2021-07-23T18:00:04.560000\", \"2021-07-23T18:00:04.560000\", \"2021-07-23T18:00:04.750000\", \"2021-07-23T18:00:05.470000\", \"2021-07-23T18:00:05.940000\", \"2021-07-23T18:00:05.940000\", \"2021-07-23T18:00:05.940000\", \"2021-07-23T18:00:08.630000\", \"2021-07-23T18:00:08.660000\", \"2021-07-23T18:00:08.680000\", \"2021-07-23T18:00:08.760000\", \"2021-07-23T18:00:08.760000\", \"2021-07-23T18:00:08.760000\", \"2021-07-23T18:00:08.760000\", \"2021-07-23T18:00:08.820000\", \"2021-07-23T18:00:08.870000\", \"2021-07-23T18:00:08.900000\", \"2021-07-23T18:00:08.970000\", \"2021-07-23T18:00:08.970000\", \"2021-07-23T18:00:09.010000\", \"2021-07-23T18:00:09.010000\", \"2021-07-23T18:00:09.010000\", \"2021-07-23T18:00:09.130000\", \"2021-07-23T18:00:16.590000\", \"2021-07-23T18:00:18.890000\", \"2021-07-23T18:00:18.890000\", \"2021-07-23T18:00:30.200000\", \"2021-07-23T18:00:30.200000\", \"2021-07-23T18:00:30.200000\", \"2021-07-23T18:00:30.200000\", \"2021-07-23T18:00:30.260000\", \"2021-07-23T18:00:30.310000\", \"2021-07-23T18:00:30.310000\", \"2021-07-23T18:00:30.360000\", \"2021-07-23T18:00:30.370000\", \"2021-07-23T18:00:30.420000\", \"2021-07-23T18:00:30.430000\", \"2021-07-23T18:00:30.550000\", \"2021-07-23T18:00:31.200000\", \"2021-07-23T18:00:31.510000\", \"2021-07-23T18:00:31.630000\", \"2021-07-23T18:00:31.630000\", \"2021-07-23T18:00:31.810000\", \"2021-07-23T18:00:31.940000\", \"2021-07-23T18:00:32.020000\", \"2021-07-23T18:00:32.110000\", \"2021-07-23T18:00:32.220000\", \"2021-07-23T18:00:37.570000\", \"2021-07-23T18:00:37.740000\", \"2021-07-23T18:01:28.250000\", \"2021-07-23T18:01:29.570000\", \"2021-07-23T18:01:29.570000\", \"2021-07-23T18:01:32.340000\", \"2021-07-23T18:01:32.340000\", \"2021-07-23T18:01:32.340000\", \"2021-07-23T18:01:32.340000\", \"2021-07-23T18:01:32.340000\", \"2021-07-23T18:01:32.340000\", \"2021-07-23T18:02:39.660000\", \"2021-07-23T18:02:40.860000\", \"2021-07-23T18:02:44.610000\", \"2021-07-23T18:02:44.610000\", \"2021-07-23T18:02:46\", \"2021-07-23T18:02:46\", \"2021-07-23T18:02:53.300000\", \"2021-07-23T18:02:53.650000\", \"2021-07-23T18:03:10.730000\", \"2021-07-23T18:03:11.200000\", \"2021-07-23T18:03:11.720000\", \"2021-07-23T18:03:11.800000\", \"2021-07-23T18:03:11.800000\", \"2021-07-23T18:03:13.120000\", \"2021-07-23T18:03:13.160000\", \"2021-07-23T18:03:13.160000\", \"2021-07-23T18:03:13.170000\", \"2021-07-23T18:03:13.280000\", \"2021-07-23T18:03:13.280000\", \"2021-07-23T18:03:13.390000\", \"2021-07-23T18:03:13.490000\", \"2021-07-23T18:03:13.490000\", \"2021-07-23T18:03:13.490000\", \"2021-07-23T18:03:14.030000\", \"2021-07-23T18:03:14.260000\", \"2021-07-23T18:03:14.650000\", \"2021-07-23T18:03:14.990000\", \"2021-07-23T18:03:15.110000\", \"2021-07-23T18:03:15.260000\", \"2021-07-23T18:03:15.260000\", \"2021-07-23T18:03:16.250000\", \"2021-07-23T18:03:16.520000\", \"2021-07-23T18:03:16.520000\", \"2021-07-23T18:03:17.430000\", \"2021-07-23T18:03:17.700000\", \"2021-07-23T18:03:17.700000\", \"2021-07-23T18:03:18.610000\", \"2021-07-23T18:03:18.880000\", \"2021-07-23T18:03:18.880000\", \"2021-07-23T18:03:19.770000\", \"2021-07-23T18:03:20.080000\", \"2021-07-23T18:03:20.360000\", \"2021-07-23T18:03:20.360000\", \"2021-07-23T18:03:20.360000\", \"2021-07-23T18:03:20.360000\", \"2021-07-23T18:03:20.360000\", \"2021-07-23T18:03:20.360000\", \"2021-07-23T18:03:20.360000\", \"2021-07-23T18:03:20.360000\", \"2021-07-23T18:03:20.360000\", \"2021-07-23T18:03:20.360000\", \"2021-07-23T18:03:20.780000\", \"2021-07-23T18:03:21.010000\", \"2021-07-23T18:03:21.150000\", \"2021-07-23T18:03:21.150000\", \"2021-07-23T18:03:21.150000\", \"2021-07-23T18:03:21.150000\", \"2021-07-23T18:03:21.150000\", \"2021-07-23T18:03:21.150000\", \"2021-07-23T18:03:21.660000\", \"2021-07-23T18:03:21.660000\", \"2021-07-23T18:03:23.230000\", \"2021-07-23T18:03:23.230000\", \"2021-07-23T18:03:23.230000\", \"2021-07-23T18:03:23.230000\", \"2021-07-23T18:03:23.230000\", \"2021-07-23T18:03:23.230000\", \"2021-07-23T18:03:23.680000\", \"2021-07-23T18:03:23.680000\", \"2021-07-23T18:03:23.680000\", \"2021-07-23T18:03:23.680000\", \"2021-07-23T18:03:23.680000\", \"2021-07-23T18:03:23.680000\", \"2021-07-23T18:03:23.680000\", \"2021-07-23T18:03:23.680000\", \"2021-07-23T18:03:23.680000\", \"2021-07-23T18:03:24.510000\", \"2021-07-23T18:03:24.700000\", \"2021-07-23T18:03:25.750000\"], [0.06, 3.35, 3.35, 0.0, 0.36, 0.36, 0.01, 0.19, 0.19, 0.72, 0.47, 2.69, 2.69, 2.69, 0.03, 0.02, 0.08, 0.06, 0.06, 0.06, 0.06, 0.05, 0.03, 0.07, 0.04, 0.04, 0.12, 0.12, 0.12, 7.46, 2.3, 11.31, 11.31, 0.06, 0.06, 0.06, 0.06, 0.05, 0.0, 0.05, 0.01, 0.05, 0.01, 0.12, 0.65, 0.31, 0.12, 0.18, 0.18, 0.13, 0.08, 0.09, 0.11, 5.35, 0.17, 50.51, 1.32, 2.77, 2.77, 67.32, 67.32, 67.32, 67.32, 67.32, 67.32, 1.2, 3.75, 1.39, 1.39, 7.3, 7.3, 0.35, 17.08, 0.47, 0.52, 0.08, 1.32, 1.32, 0.04, 0.01, 0.01, 0.11, 0.11, 0.11, 0.1, 0.54, 0.54, 0.54, 0.23, 0.39, 0.34, 0.12, 0.15, 0.99, 0.99, 0.27, 0.91, 0.91, 0.27, 0.91, 0.91, 0.27, 0.89, 0.89, 0.31, 0.28, 0.42, 0.42, 0.42, 0.42, 0.42, 0.42, 0.42, 0.42, 0.42, 0.42, 0.23, 0.14, 0.51, 0.51, 0.51, 0.51, 0.51, 0.51, 1.57, 1.57, 0.45, 0.45, 0.45, 0.45, 0.45, 0.45, 0.83, 0.83, 0.83, 0.83, 0.83, 0.83, 0.83, 0.83, 0.83, 0.19, 1.05, 0.0]]}, \"columnwidth\": [1, 6, 6, 4, 2, 2], \"domain\": {\"x\": [0.0, 1.0], \"y\": [0.0, 0.5]}, \"header\": {\"align\": \"left\", \"font\": {\"size\": 10}, \"values\": [\"Step\", \"Input Table\", \"Output Table\", \"Start Time\", \"Elapsed Time\"]}, \"type\": \"table\"}],                        {\"height\": 800, \"showlegend\": false, \"template\": {\"data\": {\"bar\": [{\"error_x\": {\"color\": \"#2a3f5f\"}, \"error_y\": {\"color\": \"#2a3f5f\"}, \"marker\": {\"line\": {\"color\": \"#E5ECF6\", \"width\": 0.5}}, \"type\": \"bar\"}], \"barpolar\": [{\"marker\": {\"line\": {\"color\": \"#E5ECF6\", \"width\": 0.5}}, \"type\": \"barpolar\"}], \"carpet\": [{\"aaxis\": {\"endlinecolor\": \"#2a3f5f\", \"gridcolor\": \"white\", \"linecolor\": \"white\", \"minorgridcolor\": \"white\", \"startlinecolor\": \"#2a3f5f\"}, \"baxis\": {\"endlinecolor\": \"#2a3f5f\", \"gridcolor\": \"white\", \"linecolor\": \"white\", \"minorgridcolor\": \"white\", \"startlinecolor\": \"#2a3f5f\"}, \"type\": \"carpet\"}], \"choropleth\": [{\"colorbar\": {\"outlinewidth\": 0, \"ticks\": \"\"}, \"type\": \"choropleth\"}], \"contour\": [{\"colorbar\": {\"outlinewidth\": 0, \"ticks\": \"\"}, \"colorscale\": [[0.0, \"#0d0887\"], [0.1111111111111111, \"#46039f\"], [0.2222222222222222, \"#7201a8\"], [0.3333333333333333, \"#9c179e\"], [0.4444444444444444, \"#bd3786\"], [0.5555555555555556, \"#d8576b\"], [0.6666666666666666, \"#ed7953\"], [0.7777777777777778, \"#fb9f3a\"], [0.8888888888888888, \"#fdca26\"], [1.0, \"#f0f921\"]], \"type\": \"contour\"}], \"contourcarpet\": [{\"colorbar\": {\"outlinewidth\": 0, \"ticks\": \"\"}, \"type\": \"contourcarpet\"}], \"heatmap\": [{\"colorbar\": {\"outlinewidth\": 0, \"ticks\": \"\"}, \"colorscale\": [[0.0, \"#0d0887\"], [0.1111111111111111, \"#46039f\"], [0.2222222222222222, \"#7201a8\"], [0.3333333333333333, \"#9c179e\"], [0.4444444444444444, \"#bd3786\"], [0.5555555555555556, \"#d8576b\"], [0.6666666666666666, \"#ed7953\"], [0.7777777777777778, \"#fb9f3a\"], [0.8888888888888888, \"#fdca26\"], [1.0, \"#f0f921\"]], \"type\": \"heatmap\"}], \"heatmapgl\": [{\"colorbar\": {\"outlinewidth\": 0, \"ticks\": \"\"}, \"colorscale\": [[0.0, \"#0d0887\"], [0.1111111111111111, \"#46039f\"], [0.2222222222222222, \"#7201a8\"], [0.3333333333333333, \"#9c179e\"], [0.4444444444444444, \"#bd3786\"], [0.5555555555555556, \"#d8576b\"], [0.6666666666666666, \"#ed7953\"], [0.7777777777777778, \"#fb9f3a\"], [0.8888888888888888, \"#fdca26\"], [1.0, \"#f0f921\"]], \"type\": \"heatmapgl\"}], \"histogram\": [{\"marker\": {\"colorbar\": {\"outlinewidth\": 0, \"ticks\": \"\"}}, \"type\": \"histogram\"}], \"histogram2d\": [{\"colorbar\": {\"outlinewidth\": 0, \"ticks\": \"\"}, \"colorscale\": [[0.0, \"#0d0887\"], [0.1111111111111111, \"#46039f\"], [0.2222222222222222, \"#7201a8\"], [0.3333333333333333, \"#9c179e\"], [0.4444444444444444, \"#bd3786\"], [0.5555555555555556, \"#d8576b\"], [0.6666666666666666, \"#ed7953\"], [0.7777777777777778, \"#fb9f3a\"], [0.8888888888888888, \"#fdca26\"], [1.0, \"#f0f921\"]], \"type\": \"histogram2d\"}], \"histogram2dcontour\": [{\"colorbar\": {\"outlinewidth\": 0, \"ticks\": \"\"}, \"colorscale\": [[0.0, \"#0d0887\"], [0.1111111111111111, \"#46039f\"], [0.2222222222222222, \"#7201a8\"], [0.3333333333333333, \"#9c179e\"], [0.4444444444444444, \"#bd3786\"], [0.5555555555555556, \"#d8576b\"], [0.6666666666666666, \"#ed7953\"], [0.7777777777777778, \"#fb9f3a\"], [0.8888888888888888, \"#fdca26\"], [1.0, \"#f0f921\"]], \"type\": \"histogram2dcontour\"}], \"mesh3d\": [{\"colorbar\": {\"outlinewidth\": 0, \"ticks\": \"\"}, \"type\": \"mesh3d\"}], \"parcoords\": [{\"line\": {\"colorbar\": {\"outlinewidth\": 0, \"ticks\": \"\"}}, \"type\": \"parcoords\"}], \"pie\": [{\"automargin\": true, \"type\": \"pie\"}], \"scatter\": [{\"marker\": {\"colorbar\": {\"outlinewidth\": 0, \"ticks\": \"\"}}, \"type\": \"scatter\"}], \"scatter3d\": [{\"line\": {\"colorbar\": {\"outlinewidth\": 0, \"ticks\": \"\"}}, \"marker\": {\"colorbar\": {\"outlinewidth\": 0, \"ticks\": \"\"}}, \"type\": \"scatter3d\"}], \"scattercarpet\": [{\"marker\": {\"colorbar\": {\"outlinewidth\": 0, \"ticks\": \"\"}}, \"type\": \"scattercarpet\"}], \"scattergeo\": [{\"marker\": {\"colorbar\": {\"outlinewidth\": 0, \"ticks\": \"\"}}, \"type\": \"scattergeo\"}], \"scattergl\": [{\"marker\": {\"colorbar\": {\"outlinewidth\": 0, \"ticks\": \"\"}}, \"type\": \"scattergl\"}], \"scattermapbox\": [{\"marker\": {\"colorbar\": {\"outlinewidth\": 0, \"ticks\": \"\"}}, \"type\": \"scattermapbox\"}], \"scatterpolar\": [{\"marker\": {\"colorbar\": {\"outlinewidth\": 0, \"ticks\": \"\"}}, \"type\": \"scatterpolar\"}], \"scatterpolargl\": [{\"marker\": {\"colorbar\": {\"outlinewidth\": 0, \"ticks\": \"\"}}, \"type\": \"scatterpolargl\"}], \"scatterternary\": [{\"marker\": {\"colorbar\": {\"outlinewidth\": 0, \"ticks\": \"\"}}, \"type\": \"scatterternary\"}], \"surface\": [{\"colorbar\": {\"outlinewidth\": 0, \"ticks\": \"\"}, \"colorscale\": [[0.0, \"#0d0887\"], [0.1111111111111111, \"#46039f\"], [0.2222222222222222, \"#7201a8\"], [0.3333333333333333, \"#9c179e\"], [0.4444444444444444, \"#bd3786\"], [0.5555555555555556, \"#d8576b\"], [0.6666666666666666, \"#ed7953\"], [0.7777777777777778, \"#fb9f3a\"], [0.8888888888888888, \"#fdca26\"], [1.0, \"#f0f921\"]], \"type\": \"surface\"}], \"table\": [{\"cells\": {\"fill\": {\"color\": \"#EBF0F8\"}, \"line\": {\"color\": \"white\"}}, \"header\": {\"fill\": {\"color\": \"#C8D4E3\"}, \"line\": {\"color\": \"white\"}}, \"type\": \"table\"}]}, \"layout\": {\"annotationdefaults\": {\"arrowcolor\": \"#2a3f5f\", \"arrowhead\": 0, \"arrowwidth\": 1}, \"autotypenumbers\": \"strict\", \"coloraxis\": {\"colorbar\": {\"outlinewidth\": 0, \"ticks\": \"\"}}, \"colorscale\": {\"diverging\": [[0, \"#8e0152\"], [0.1, \"#c51b7d\"], [0.2, \"#de77ae\"], [0.3, \"#f1b6da\"], [0.4, \"#fde0ef\"], [0.5, \"#f7f7f7\"], [0.6, \"#e6f5d0\"], [0.7, \"#b8e186\"], [0.8, \"#7fbc41\"], [0.9, \"#4d9221\"], [1, \"#276419\"]], \"sequential\": [[0.0, \"#0d0887\"], [0.1111111111111111, \"#46039f\"], [0.2222222222222222, \"#7201a8\"], [0.3333333333333333, \"#9c179e\"], [0.4444444444444444, \"#bd3786\"], [0.5555555555555556, \"#d8576b\"], [0.6666666666666666, \"#ed7953\"], [0.7777777777777778, \"#fb9f3a\"], [0.8888888888888888, \"#fdca26\"], [1.0, \"#f0f921\"]], \"sequentialminus\": [[0.0, \"#0d0887\"], [0.1111111111111111, \"#46039f\"], [0.2222222222222222, \"#7201a8\"], [0.3333333333333333, \"#9c179e\"], [0.4444444444444444, \"#bd3786\"], [0.5555555555555556, \"#d8576b\"], [0.6666666666666666, \"#ed7953\"], [0.7777777777777778, \"#fb9f3a\"], [0.8888888888888888, \"#fdca26\"], [1.0, \"#f0f921\"]]}, \"colorway\": [\"#636efa\", \"#EF553B\", \"#00cc96\", \"#ab63fa\", \"#FFA15A\", \"#19d3f3\", \"#FF6692\", \"#B6E880\", \"#FF97FF\", \"#FECB52\"], \"font\": {\"color\": \"#2a3f5f\"}, \"geo\": {\"bgcolor\": \"white\", \"lakecolor\": \"white\", \"landcolor\": \"#E5ECF6\", \"showlakes\": true, \"showland\": true, \"subunitcolor\": \"white\"}, \"hoverlabel\": {\"align\": \"left\"}, \"hovermode\": \"closest\", \"mapbox\": {\"style\": \"light\"}, \"paper_bgcolor\": \"white\", \"plot_bgcolor\": \"#E5ECF6\", \"polar\": {\"angularaxis\": {\"gridcolor\": \"white\", \"linecolor\": \"white\", \"ticks\": \"\"}, \"bgcolor\": \"#E5ECF6\", \"radialaxis\": {\"gridcolor\": \"white\", \"linecolor\": \"white\", \"ticks\": \"\"}}, \"scene\": {\"xaxis\": {\"backgroundcolor\": \"#E5ECF6\", \"gridcolor\": \"white\", \"gridwidth\": 2, \"linecolor\": \"white\", \"showbackground\": true, \"ticks\": \"\", \"zerolinecolor\": \"white\"}, \"yaxis\": {\"backgroundcolor\": \"#E5ECF6\", \"gridcolor\": \"white\", \"gridwidth\": 2, \"linecolor\": \"white\", \"showbackground\": true, \"ticks\": \"\", \"zerolinecolor\": \"white\"}, \"zaxis\": {\"backgroundcolor\": \"#E5ECF6\", \"gridcolor\": \"white\", \"gridwidth\": 2, \"linecolor\": \"white\", \"showbackground\": true, \"ticks\": \"\", \"zerolinecolor\": \"white\"}}, \"shapedefaults\": {\"line\": {\"color\": \"#2a3f5f\"}}, \"ternary\": {\"aaxis\": {\"gridcolor\": \"white\", \"linecolor\": \"white\", \"ticks\": \"\"}, \"baxis\": {\"gridcolor\": \"white\", \"linecolor\": \"white\", \"ticks\": \"\"}, \"bgcolor\": \"#E5ECF6\", \"caxis\": {\"gridcolor\": \"white\", \"linecolor\": \"white\", \"ticks\": \"\"}}, \"title\": {\"x\": 0.05}, \"xaxis\": {\"automargin\": true, \"gridcolor\": \"white\", \"linecolor\": \"white\", \"ticks\": \"\", \"title\": {\"standoff\": 15}, \"zerolinecolor\": \"white\", \"zerolinewidth\": 2}, \"yaxis\": {\"automargin\": true, \"gridcolor\": \"white\", \"linecolor\": \"white\", \"ticks\": \"\", \"title\": {\"standoff\": 15}, \"zerolinecolor\": \"white\", \"zerolinewidth\": 2}}}, \"title\": {\"text\": \"SAS Code Process analysis\"}, \"width\": 950, \"xaxis\": {\"anchor\": \"y\", \"domain\": [0.0, 1.0], \"showgrid\": false, \"showticklabels\": false, \"zeroline\": false}, \"yaxis\": {\"anchor\": \"x\", \"domain\": [0.5, 1.0], \"showgrid\": false, \"showticklabels\": false, \"zeroline\": false}},                        {\"responsive\": true}                    ).then(function(){\n",
       "                            \n",
       "var gd = document.getElementById('29fb1beb-2e7d-4418-a56c-53cbbf795614');\n",
       "var x = new MutationObserver(function (mutations, observer) {{\n",
       "        var display = window.getComputedStyle(gd).display;\n",
       "        if (!display || display === 'none') {{\n",
       "            console.log([gd, 'removed!']);\n",
       "            Plotly.purge(gd);\n",
       "            observer.disconnect();\n",
       "        }}\n",
       "}});\n",
       "\n",
       "// Listen for the removal of the full notebook cells\n",
       "var notebookContainer = gd.closest('#notebook-container');\n",
       "if (notebookContainer) {{\n",
       "    x.observe(notebookContainer, {childList: true});\n",
       "}}\n",
       "\n",
       "// Listen for the clearing of the current output cell\n",
       "var outputEl = gd.closest('.output');\n",
       "if (outputEl) {{\n",
       "    x.observe(outputEl, {childList: true});\n",
       "}}\n",
       "\n",
       "                        })                };                });            </script>        </div>"
      ]
     },
     "metadata": {},
     "output_type": "display_data"
    }
   ],
   "source": [
    "#====================================================================================\n",
    "# 1. Create Graph\n",
    "G = nx.from_pandas_edgelist(df,\n",
    "                            'Source Node Id', 'Target Node Id',\n",
    "                            ['Input Table', 'Output Table', 'Step','Start Time','Elapsed Time'],\n",
    "                            create_using=nx.DiGraph())\n",
    "\n",
    "#====================================================================================\n",
    "# 2. Add Attributes\n",
    "\n",
    "# 2.1 Define node type\n",
    "nx.set_node_attributes(G, \"\", \"node_type\") \n",
    "nx.set_node_attributes(G, node_attr, \"node_type\")\n",
    "\n",
    "# 2.2 Define offset and table name for nodes\n",
    "node_tables = {}\n",
    "node_offset = {}\n",
    "for node in G.nodes():\n",
    "    node_tables[node] = node.split(\": \")[1]\n",
    "    node_offset[node] = int(node.split(\" \")[1].replace(r\":\", \"\")) + 1\n",
    "nx.set_node_attributes(G, node_tables, \"Table Name\")\n",
    "nx.set_node_attributes(G, node_offset, \"offset\")\n",
    "\n",
    "#====================================================================================\n",
    "# 3. Drop unused nodes\n",
    "remove = [node for node,node_table in dict(G.nodes.data(\"Table Name\")).items() if node_table == 'No Input']\n",
    "G.remove_nodes_from(remove)\n",
    "\n",
    "#====================================================================================\n",
    "# 4. Add coordinates\n",
    "G, edge_x_coords, edge_y_coords, edge_text_x_coords, edge_text_y_coords = get_coordinates(G)\n",
    "\n",
    "#====================================================================================\n",
    "# 5. Create edge lines\n",
    "edge_trace, edge_text_trace = get_edge_trace(G,\n",
    "                                             edge_x_coords, edge_y_coords,\n",
    "                                             edge_text_x_coords, edge_text_y_coords)\n",
    "\n",
    "#====================================================================================\n",
    "# 6. Create node lines\n",
    "node_trace = get_node_trace(G)\n",
    "\n",
    "#====================================================================================\n",
    "# 7. Plot\n",
    "# 7.1. Base\n",
    "fig = make_subplots(rows=2, cols=1,\n",
    "                    shared_xaxes=True,\n",
    "                    vertical_spacing=0,\n",
    "                    specs=[[{\"type\": \"scatter\"}], [{\"type\": \"table\"}]])\n",
    "\n",
    "# 7.2. Network plot\n",
    "# Draw each edge as a separate plot\n",
    "for i in range(len(edge_trace)):\n",
    "    fig.add_trace(edge_trace[i], row=1, col=1) \n",
    "# Nodes\n",
    "fig.add_trace(node_trace, row=1, col=1)\n",
    "# Text\n",
    "fig.add_trace(edge_text_trace, row=1, col=1) \n",
    "\n",
    "# 7.3. Table plot\n",
    "df_plot = df[['Step','Input Table','Output Table','Start Time','Elapsed Time']]\n",
    "fig.add_trace(go.Table(columnwidth=[1,6,6,4,2,2],\n",
    "                       header=dict(values=list(df_plot.columns),\n",
    "                                   font=dict(size=10),\n",
    "                                   align=\"left\"),\n",
    "                       cells=dict(values=[df_plot[k].tolist() for k in df_plot.columns],\n",
    "                                  font=dict(size=8),\n",
    "                                  align = \"left\")),\n",
    "              row=2, col=1)\n",
    "\n",
    "# 7.4. Plot correction\n",
    "fig.update_layout(width=950, height=800,\n",
    "                  showlegend=False,\n",
    "                  title_text=\"SAS Code Process analysis\",\n",
    "                  xaxis=dict(showgrid=False, zeroline=False, showticklabels=False),\n",
    "                  yaxis=dict(showgrid=False, zeroline=False, showticklabels=False))\n",
    "\n",
    "fig.show()"
   ]
  },
  {
   "cell_type": "code",
   "execution_count": null,
   "id": "614e7c76",
   "metadata": {},
   "outputs": [],
   "source": []
  }
 ],
 "metadata": {
  "kernelspec": {
   "display_name": "Python 3",
   "language": "python",
   "name": "python3"
  },
  "language_info": {
   "codemirror_mode": {
    "name": "ipython",
    "version": 3
   },
   "file_extension": ".py",
   "mimetype": "text/x-python",
   "name": "python",
   "nbconvert_exporter": "python",
   "pygments_lexer": "ipython3",
   "version": "3.8.8"
  }
 },
 "nbformat": 4,
 "nbformat_minor": 5
}
