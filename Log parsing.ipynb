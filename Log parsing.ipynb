{
 "cells": [
  {
   "cell_type": "code",
   "execution_count": 1,
   "id": "d22e3be8",
   "metadata": {},
   "outputs": [],
   "source": [
    "# libraries\n",
    "import pandas as pd\n",
    "import numpy as np"
   ]
  },
  {
   "cell_type": "markdown",
   "id": "f494414b",
   "metadata": {},
   "source": [
    "# 1. Log parsing"
   ]
  },
  {
   "cell_type": "code",
   "execution_count": 2,
   "id": "78180b8a",
   "metadata": {},
   "outputs": [],
   "source": [
    "path = 'New_PIT2.txt'"
   ]
  },
  {
   "cell_type": "code",
   "execution_count": 149,
   "id": "62547408",
   "metadata": {},
   "outputs": [
    {
     "data": {
      "text/html": [
       "<div>\n",
       "<style scoped>\n",
       "    .dataframe tbody tr th:only-of-type {\n",
       "        vertical-align: middle;\n",
       "    }\n",
       "\n",
       "    .dataframe tbody tr th {\n",
       "        vertical-align: top;\n",
       "    }\n",
       "\n",
       "    .dataframe thead th {\n",
       "        text-align: right;\n",
       "    }\n",
       "</style>\n",
       "<table border=\"1\" class=\"dataframe\">\n",
       "  <thead>\n",
       "    <tr style=\"text-align: right;\">\n",
       "      <th></th>\n",
       "      <th>Text</th>\n",
       "      <th>Task Type</th>\n",
       "      <th>Task ID</th>\n",
       "    </tr>\n",
       "  </thead>\n",
       "  <tbody>\n",
       "    <tr>\n",
       "      <th>0</th>\n",
       "      <td></td>\n",
       "      <td>NaN</td>\n",
       "      <td>0</td>\n",
       "    </tr>\n",
       "    <tr>\n",
       "      <th>1</th>\n",
       "      <td>JOBSTARTTIME 27JUL2021:10:34:25.72</td>\n",
       "      <td>JOBSTARTTIME</td>\n",
       "      <td>0</td>\n",
       "    </tr>\n",
       "    <tr>\n",
       "      <th>2</th>\n",
       "      <td>TASKSTARTTIME 27JUL2021:10:34:25.72</td>\n",
       "      <td>TASKSTARTTIME</td>\n",
       "      <td>1</td>\n",
       "    </tr>\n",
       "    <tr>\n",
       "      <th>3</th>\n",
       "      <td>CATALOG INPUT WORK.SASMAC1.MTF_IFRS9_PD_PIT_BA...</td>\n",
       "      <td>CATALOG</td>\n",
       "      <td>1</td>\n",
       "    </tr>\n",
       "    <tr>\n",
       "      <th>4</th>\n",
       "      <td>LIBNAME WORK V9 '/opt/sas/saswork/SAS_work2019...</td>\n",
       "      <td>LIBNAME</td>\n",
       "      <td>1</td>\n",
       "    </tr>\n",
       "    <tr>\n",
       "      <th>...</th>\n",
       "      <td>...</td>\n",
       "      <td>...</td>\n",
       "      <td>...</td>\n",
       "    </tr>\n",
       "    <tr>\n",
       "      <th>3976</th>\n",
       "      <td>ELAPSED 8</td>\n",
       "      <td>ELAPSED</td>\n",
       "      <td>163</td>\n",
       "    </tr>\n",
       "    <tr>\n",
       "      <th>3977</th>\n",
       "      <td>PROCNAME DATASETS</td>\n",
       "      <td>PROCNAME</td>\n",
       "      <td>163</td>\n",
       "    </tr>\n",
       "    <tr>\n",
       "      <th>3978</th>\n",
       "      <td>proc datasets lib = work nolist noprint memty...</td>\n",
       "      <td>STEP</td>\n",
       "      <td>163</td>\n",
       "    </tr>\n",
       "    <tr>\n",
       "      <th>3979</th>\n",
       "      <td>JOBENDTIME 27JUL2021:10:36:37.94</td>\n",
       "      <td>JOBENDTIME</td>\n",
       "      <td>164</td>\n",
       "    </tr>\n",
       "    <tr>\n",
       "      <th>3980</th>\n",
       "      <td>END</td>\n",
       "      <td>END</td>\n",
       "      <td>164</td>\n",
       "    </tr>\n",
       "  </tbody>\n",
       "</table>\n",
       "<p>3981 rows × 3 columns</p>\n",
       "</div>"
      ],
      "text/plain": [
       "                                                   Text      Task Type  \\\n",
       "0                                                                  NaN   \n",
       "1                   JOBSTARTTIME 27JUL2021:10:34:25.72    JOBSTARTTIME   \n",
       "2                  TASKSTARTTIME 27JUL2021:10:34:25.72   TASKSTARTTIME   \n",
       "3     CATALOG INPUT WORK.SASMAC1.MTF_IFRS9_PD_PIT_BA...        CATALOG   \n",
       "4     LIBNAME WORK V9 '/opt/sas/saswork/SAS_work2019...        LIBNAME   \n",
       "...                                                 ...            ...   \n",
       "3976                                        ELAPSED 8          ELAPSED   \n",
       "3977                                 PROCNAME DATASETS        PROCNAME   \n",
       "3978   proc datasets lib = work nolist noprint memty...           STEP   \n",
       "3979                  JOBENDTIME 27JUL2021:10:36:37.94      JOBENDTIME   \n",
       "3980                                               END             END   \n",
       "\n",
       "      Task ID  \n",
       "0           0  \n",
       "1           0  \n",
       "2           1  \n",
       "3           1  \n",
       "4           1  \n",
       "...       ...  \n",
       "3976      163  \n",
       "3977      163  \n",
       "3978      163  \n",
       "3979      164  \n",
       "3980      164  \n",
       "\n",
       "[3981 rows x 3 columns]"
      ]
     },
     "execution_count": 149,
     "metadata": {},
     "output_type": "execute_result"
    }
   ],
   "source": [
    "#====================================================================================\n",
    "# 1.Get columns from text\n",
    "def txt_to_df(path):\n",
    "\n",
    "    # 1.1 Read Data\n",
    "    f = open(path, 'r')\n",
    "    content = f.read()\n",
    "    content_list = content.split('/* JOBSPLIT: ')\n",
    "    f.close()\n",
    "    df = pd.DataFrame(content_list, columns=['Text'])\n",
    "\n",
    "    # 1.2. Define Task type\n",
    "    df['Task Type'] = df[\"Text\"].str.split().str[0]\n",
    "\n",
    "    # 1.3 Assign Task ID\n",
    "    df = df.reset_index(drop=True)\n",
    "    task_list = [0] \n",
    "    for index, row in df.iterrows():\n",
    "        if (row['Task Type'] == 'TASKSTARTTIME') | (row['Task Type'] == 'JOBENDTIME'):\n",
    "            task_list.append(task_list[index] +1)\n",
    "        else:\n",
    "            task_list.append(task_list[index])   \n",
    "    df['Task ID'] = task_list[1:]\n",
    "\n",
    "    # 1.4 Remove unessesary text\n",
    "    df['Text'] = df[['Text','Task Type']].apply(lambda x: x[0].replace('STEP SOURCE FOLLOWS */\\n','').replace(\"\\n\", \"<br>\") if x[1]=='STEP' \n",
    "                                                          else x[0].replace('*/\\n',''), axis = 1)\n",
    "    \n",
    "    return df\n",
    "\n",
    "\n",
    "\n",
    "\n",
    "df_log = txt_to_df(path)\n",
    "df_log"
   ]
  },
  {
   "cell_type": "code",
   "execution_count": 150,
   "id": "32a6868e",
   "metadata": {},
   "outputs": [
    {
     "data": {
      "text/html": [
       "<div>\n",
       "<style scoped>\n",
       "    .dataframe tbody tr th:only-of-type {\n",
       "        vertical-align: middle;\n",
       "    }\n",
       "\n",
       "    .dataframe tbody tr th {\n",
       "        vertical-align: top;\n",
       "    }\n",
       "\n",
       "    .dataframe thead th {\n",
       "        text-align: right;\n",
       "    }\n",
       "</style>\n",
       "<table border=\"1\" class=\"dataframe\">\n",
       "  <thead>\n",
       "    <tr style=\"text-align: right;\">\n",
       "      <th></th>\n",
       "      <th>Task ID</th>\n",
       "      <th>Code</th>\n",
       "      <th>Procedure</th>\n",
       "      <th>Start Time</th>\n",
       "      <th>Elapsed Time</th>\n",
       "    </tr>\n",
       "  </thead>\n",
       "  <tbody>\n",
       "    <tr>\n",
       "      <th>0</th>\n",
       "      <td>1</td>\n",
       "      <td>&lt;br&gt;/*----------------------------------------...</td>\n",
       "      <td>DATASTEP</td>\n",
       "      <td>2021-07-27 10:34:25.720</td>\n",
       "      <td>0.06</td>\n",
       "    </tr>\n",
       "    <tr>\n",
       "      <th>1</th>\n",
       "      <td>2</td>\n",
       "      <td>data _null_;&lt;br&gt; set __mtf_pd_pit_version;&lt;br...</td>\n",
       "      <td>DATASTEP</td>\n",
       "      <td>2021-07-27 10:34:25.730</td>\n",
       "      <td>0.07</td>\n",
       "    </tr>\n",
       "    <tr>\n",
       "      <th>2</th>\n",
       "      <td>3</td>\n",
       "      <td>proc sql noprint;&lt;br&gt; create table __mtf_pd_p...</td>\n",
       "      <td>SQL</td>\n",
       "      <td>2021-07-27 10:34:25.740</td>\n",
       "      <td>29.41</td>\n",
       "    </tr>\n",
       "    <tr>\n",
       "      <th>3</th>\n",
       "      <td>4</td>\n",
       "      <td>proc sql noprint;&lt;br&gt; create table __mtf_pd_p...</td>\n",
       "      <td>SQL</td>\n",
       "      <td>2021-07-27 10:34:28.680</td>\n",
       "      <td>24.90</td>\n",
       "    </tr>\n",
       "    <tr>\n",
       "      <th>4</th>\n",
       "      <td>5</td>\n",
       "      <td>proc sql noprint;&lt;br&gt; select count(*) into :_...</td>\n",
       "      <td>SQL</td>\n",
       "      <td>2021-07-27 10:34:31.170</td>\n",
       "      <td>1.28</td>\n",
       "    </tr>\n",
       "    <tr>\n",
       "      <th>...</th>\n",
       "      <td>...</td>\n",
       "      <td>...</td>\n",
       "      <td>...</td>\n",
       "      <td>...</td>\n",
       "      <td>...</td>\n",
       "    </tr>\n",
       "    <tr>\n",
       "      <th>158</th>\n",
       "      <td>159</td>\n",
       "      <td>proc transpose data=WORK.__MTF_PD_PIT_ODR_WID...</td>\n",
       "      <td>TRANSPOSE</td>\n",
       "      <td>2021-07-27 10:36:36.550</td>\n",
       "      <td>6.59</td>\n",
       "    </tr>\n",
       "    <tr>\n",
       "      <th>159</th>\n",
       "      <td>160</td>\n",
       "      <td>proc sql noprint _method;&lt;br&gt; create table wo...</td>\n",
       "      <td>SQL</td>\n",
       "      <td>2021-07-27 10:36:37.210</td>\n",
       "      <td>2.08</td>\n",
       "    </tr>\n",
       "    <tr>\n",
       "      <th>160</th>\n",
       "      <td>161</td>\n",
       "      <td>proc datasets lib = work nolist noprint memty...</td>\n",
       "      <td>DATASETS</td>\n",
       "      <td>2021-07-27 10:36:37.420</td>\n",
       "      <td>4.68</td>\n",
       "    </tr>\n",
       "    <tr>\n",
       "      <th>161</th>\n",
       "      <td>162</td>\n",
       "      <td>proc datasets lib = work nolist noprint memty...</td>\n",
       "      <td>DATASETS</td>\n",
       "      <td>2021-07-27 10:36:37.890</td>\n",
       "      <td>0.44</td>\n",
       "    </tr>\n",
       "    <tr>\n",
       "      <th>162</th>\n",
       "      <td>163</td>\n",
       "      <td>proc datasets lib = work nolist noprint memty...</td>\n",
       "      <td>DATASETS</td>\n",
       "      <td>2021-07-27 10:36:37.930</td>\n",
       "      <td>0.08</td>\n",
       "    </tr>\n",
       "  </tbody>\n",
       "</table>\n",
       "<p>163 rows × 5 columns</p>\n",
       "</div>"
      ],
      "text/plain": [
       "     Task ID                                               Code  Procedure  \\\n",
       "0          1  <br>/*----------------------------------------...   DATASTEP   \n",
       "1          2   data _null_;<br> set __mtf_pd_pit_version;<br...   DATASTEP   \n",
       "2          3   proc sql noprint;<br> create table __mtf_pd_p...        SQL   \n",
       "3          4   proc sql noprint;<br> create table __mtf_pd_p...        SQL   \n",
       "4          5   proc sql noprint;<br> select count(*) into :_...        SQL   \n",
       "..       ...                                                ...        ...   \n",
       "158      159   proc transpose data=WORK.__MTF_PD_PIT_ODR_WID...  TRANSPOSE   \n",
       "159      160   proc sql noprint _method;<br> create table wo...        SQL   \n",
       "160      161   proc datasets lib = work nolist noprint memty...   DATASETS   \n",
       "161      162   proc datasets lib = work nolist noprint memty...   DATASETS   \n",
       "162      163   proc datasets lib = work nolist noprint memty...   DATASETS   \n",
       "\n",
       "                 Start Time  Elapsed Time  \n",
       "0   2021-07-27 10:34:25.720          0.06  \n",
       "1   2021-07-27 10:34:25.730          0.07  \n",
       "2   2021-07-27 10:34:25.740         29.41  \n",
       "3   2021-07-27 10:34:28.680         24.90  \n",
       "4   2021-07-27 10:34:31.170          1.28  \n",
       "..                      ...           ...  \n",
       "158 2021-07-27 10:36:36.550          6.59  \n",
       "159 2021-07-27 10:36:37.210          2.08  \n",
       "160 2021-07-27 10:36:37.420          4.68  \n",
       "161 2021-07-27 10:36:37.890          0.44  \n",
       "162 2021-07-27 10:36:37.930          0.08  \n",
       "\n",
       "[163 rows x 5 columns]"
      ]
     },
     "execution_count": 150,
     "metadata": {},
     "output_type": "execute_result"
    }
   ],
   "source": [
    "#====================================================================================\n",
    "# 2. Prepare info about Code\n",
    "\n",
    "def df_to_code(df):\n",
    "\n",
    "    #-------------------------------------------\n",
    "    # 2.1 Extract the Code Syntax\n",
    "    df_code = df.loc[(df_log['Task Type'].isin(['STEP']))].copy()\n",
    "    df_code.drop(['Task Type'], inplace=True, axis=1)\n",
    "    df_code = df_code.rename(columns={'Text': 'Code'})\n",
    "    df_code = df_code[['Task ID', 'Code']]\n",
    "\n",
    "    #-------------------------------------------\n",
    "    # 2.2. Prepare info about Start Time\n",
    "    df_taskstarttime = df_log.loc[(df_log['Task Type'].isin(['TASKSTARTTIME']))].copy()\n",
    "    df_taskstarttime['Start Time'] = df_taskstarttime['Text'].str.split().str[1]\n",
    "    df_taskstarttime['Start Time'] = pd.to_datetime(df_taskstarttime['Start Time'], format='%d%b%Y:%H:%M:%S.%f')\n",
    "    df_taskstarttime.drop(['Text', 'Task Type'], inplace=True, axis=1)\n",
    "\n",
    "    #-------------------------------------------\n",
    "    # 2.3. Prepare info about Elapsed Time\n",
    "    df_elapsedtime = df_log.loc[(df_log['Task Type'].isin(['ELAPSED']))].copy()\n",
    "    df_elapsedtime['Elapsed Time'] = df_elapsedtime['Text'].str.split().str[1].astype('int')/100\n",
    "    df_elapsedtime.drop(['Text', 'Task Type'], inplace=True, axis=1)\n",
    "\n",
    "    #-------------------------------------------\n",
    "    # 2.4. Prepare info about Procedure Names\n",
    "    df_procedure = df_log.loc[(df_log['Task Type'].isin(['PROCNAME']))].copy()\n",
    "    df_procedure['Procedure'] = df_procedure['Text'].str.split().str[1]\n",
    "    df_procedure.drop(['Text', 'Task Type'], inplace=True, axis=1)\n",
    "\n",
    "    #-------------------------------------------\n",
    "    # 2.5 Output\n",
    "    df_code = df_code.merge(df_procedure, on=['Task ID'], how = 'outer')\\\n",
    "                     .merge(df_taskstarttime, on=['Task ID'], how = 'outer')\\\n",
    "                     .merge(df_elapsedtime, on=['Task ID'], how = 'outer')\n",
    "    \n",
    "    return df_code\n",
    "\n",
    "df_code = df_to_code(df_log)\n",
    "df_code"
   ]
  },
  {
   "cell_type": "code",
   "execution_count": 151,
   "id": "4b3953c1",
   "metadata": {},
   "outputs": [
    {
     "data": {
      "text/html": [
       "<div>\n",
       "<style scoped>\n",
       "    .dataframe tbody tr th:only-of-type {\n",
       "        vertical-align: middle;\n",
       "    }\n",
       "\n",
       "    .dataframe tbody tr th {\n",
       "        vertical-align: top;\n",
       "    }\n",
       "\n",
       "    .dataframe thead th {\n",
       "        text-align: right;\n",
       "    }\n",
       "</style>\n",
       "<table border=\"1\" class=\"dataframe\">\n",
       "  <thead>\n",
       "    <tr style=\"text-align: right;\">\n",
       "      <th></th>\n",
       "      <th>Task ID</th>\n",
       "      <th>SubTask ID</th>\n",
       "      <th>Source ID</th>\n",
       "      <th>Target ID</th>\n",
       "      <th>Input Table</th>\n",
       "      <th>Output Table</th>\n",
       "      <th>Start Time</th>\n",
       "      <th>Elapsed Time</th>\n",
       "    </tr>\n",
       "  </thead>\n",
       "  <tbody>\n",
       "    <tr>\n",
       "      <th>0</th>\n",
       "      <td>1</td>\n",
       "      <td>1</td>\n",
       "      <td>0:1:No Input</td>\n",
       "      <td>1:1:WORK.__MTF_PD_PIT_VERSION</td>\n",
       "      <td>No Input</td>\n",
       "      <td>WORK.__MTF_PD_PIT_VERSION</td>\n",
       "      <td>2021-07-27 10:34:25.720</td>\n",
       "      <td>0.01</td>\n",
       "    </tr>\n",
       "    <tr>\n",
       "      <th>1</th>\n",
       "      <td>2</td>\n",
       "      <td>1</td>\n",
       "      <td>1:1:WORK.__MTF_PD_PIT_VERSION</td>\n",
       "      <td>2:1:No Output</td>\n",
       "      <td>WORK.__MTF_PD_PIT_VERSION</td>\n",
       "      <td>_null_</td>\n",
       "      <td>2021-07-27 10:34:25.730</td>\n",
       "      <td>0.01</td>\n",
       "    </tr>\n",
       "    <tr>\n",
       "      <th>2</th>\n",
       "      <td>3</td>\n",
       "      <td>1</td>\n",
       "      <td>0:1:INPUT.PD_VIEW</td>\n",
       "      <td>3:1:WORK.__MTF_PD_PIT_DISTINCT_RATING1</td>\n",
       "      <td>INPUT.PD_VIEW</td>\n",
       "      <td>WORK.__MTF_PD_PIT_DISTINCT_RATING1</td>\n",
       "      <td>2021-07-27 10:34:25.740</td>\n",
       "      <td>2.93</td>\n",
       "    </tr>\n",
       "    <tr>\n",
       "      <th>3</th>\n",
       "      <td>3</td>\n",
       "      <td>1</td>\n",
       "      <td>0:1:INPUT.PD_VIEW</td>\n",
       "      <td>3:1:WORK.'SASTMP-000000348'</td>\n",
       "      <td>INPUT.PD_VIEW</td>\n",
       "      <td>WORK.'SASTMP-000000348'</td>\n",
       "      <td>2021-07-27 10:34:25.740</td>\n",
       "      <td>2.93</td>\n",
       "    </tr>\n",
       "    <tr>\n",
       "      <th>4</th>\n",
       "      <td>3</td>\n",
       "      <td>2</td>\n",
       "      <td>0:1:INPUT.PD_RR_RATING</td>\n",
       "      <td>3:2:WORK.__MTF_PD_PIT_DISTINCT_RATING2</td>\n",
       "      <td>INPUT.PD_RR_RATING</td>\n",
       "      <td>WORK.__MTF_PD_PIT_DISTINCT_RATING2</td>\n",
       "      <td>2021-07-27 10:34:28.670</td>\n",
       "      <td>0.00</td>\n",
       "    </tr>\n",
       "    <tr>\n",
       "      <th>...</th>\n",
       "      <td>...</td>\n",
       "      <td>...</td>\n",
       "      <td>...</td>\n",
       "      <td>...</td>\n",
       "      <td>...</td>\n",
       "      <td>...</td>\n",
       "      <td>...</td>\n",
       "      <td>...</td>\n",
       "    </tr>\n",
       "    <tr>\n",
       "      <th>286</th>\n",
       "      <td>160</td>\n",
       "      <td>1</td>\n",
       "      <td>159:1:WORK.__MTF_PD_PIT_ODR_LONG_DIS</td>\n",
       "      <td>160:1:WORK.TEST_PD_DIS_IN</td>\n",
       "      <td>WORK.__MTF_PD_PIT_ODR_LONG_DIS</td>\n",
       "      <td>WORK.TEST_PD_DIS_IN</td>\n",
       "      <td>2021-07-27 10:36:37.210</td>\n",
       "      <td>0.21</td>\n",
       "    </tr>\n",
       "    <tr>\n",
       "      <th>287</th>\n",
       "      <td>160</td>\n",
       "      <td>1</td>\n",
       "      <td>100:1:WORK.__MTF_PD_PIT_MARGINAL_BOTH_PD</td>\n",
       "      <td>160:1:WORK.TEST_PD_DIS_IN</td>\n",
       "      <td>WORK.__MTF_PD_PIT_MARGINAL_BOTH_PD</td>\n",
       "      <td>WORK.TEST_PD_DIS_IN</td>\n",
       "      <td>2021-07-27 10:36:37.210</td>\n",
       "      <td>0.21</td>\n",
       "    </tr>\n",
       "    <tr>\n",
       "      <th>288</th>\n",
       "      <td>161</td>\n",
       "      <td>1</td>\n",
       "      <td>160:1:No Input</td>\n",
       "      <td>161:1:WORK.'SASTMP-000000636'</td>\n",
       "      <td>No Input</td>\n",
       "      <td>WORK.'SASTMP-000000636'</td>\n",
       "      <td>2021-07-27 10:36:37.420</td>\n",
       "      <td>0.47</td>\n",
       "    </tr>\n",
       "    <tr>\n",
       "      <th>289</th>\n",
       "      <td>162</td>\n",
       "      <td>1</td>\n",
       "      <td>161:1:No Input</td>\n",
       "      <td>162:1:WORK.'SASTMP-000000638'</td>\n",
       "      <td>No Input</td>\n",
       "      <td>WORK.'SASTMP-000000638'</td>\n",
       "      <td>2021-07-27 10:36:37.890</td>\n",
       "      <td>0.04</td>\n",
       "    </tr>\n",
       "    <tr>\n",
       "      <th>290</th>\n",
       "      <td>163</td>\n",
       "      <td>1</td>\n",
       "      <td>162:1:No Input</td>\n",
       "      <td>163:1:WORK.'SASTMP-000000640'</td>\n",
       "      <td>No Input</td>\n",
       "      <td>WORK.'SASTMP-000000640'</td>\n",
       "      <td>2021-07-27 10:36:37.930</td>\n",
       "      <td>0.01</td>\n",
       "    </tr>\n",
       "  </tbody>\n",
       "</table>\n",
       "<p>291 rows × 8 columns</p>\n",
       "</div>"
      ],
      "text/plain": [
       "     Task ID  SubTask ID                                 Source ID  \\\n",
       "0          1           1                              0:1:No Input   \n",
       "1          2           1             1:1:WORK.__MTF_PD_PIT_VERSION   \n",
       "2          3           1                         0:1:INPUT.PD_VIEW   \n",
       "3          3           1                         0:1:INPUT.PD_VIEW   \n",
       "4          3           2                    0:1:INPUT.PD_RR_RATING   \n",
       "..       ...         ...                                       ...   \n",
       "286      160           1      159:1:WORK.__MTF_PD_PIT_ODR_LONG_DIS   \n",
       "287      160           1  100:1:WORK.__MTF_PD_PIT_MARGINAL_BOTH_PD   \n",
       "288      161           1                            160:1:No Input   \n",
       "289      162           1                            161:1:No Input   \n",
       "290      163           1                            162:1:No Input   \n",
       "\n",
       "                                  Target ID  \\\n",
       "0             1:1:WORK.__MTF_PD_PIT_VERSION   \n",
       "1                             2:1:No Output   \n",
       "2    3:1:WORK.__MTF_PD_PIT_DISTINCT_RATING1   \n",
       "3               3:1:WORK.'SASTMP-000000348'   \n",
       "4    3:2:WORK.__MTF_PD_PIT_DISTINCT_RATING2   \n",
       "..                                      ...   \n",
       "286               160:1:WORK.TEST_PD_DIS_IN   \n",
       "287               160:1:WORK.TEST_PD_DIS_IN   \n",
       "288           161:1:WORK.'SASTMP-000000636'   \n",
       "289           162:1:WORK.'SASTMP-000000638'   \n",
       "290           163:1:WORK.'SASTMP-000000640'   \n",
       "\n",
       "                            Input Table                        Output Table  \\\n",
       "0                              No Input           WORK.__MTF_PD_PIT_VERSION   \n",
       "1             WORK.__MTF_PD_PIT_VERSION                              _null_   \n",
       "2                         INPUT.PD_VIEW  WORK.__MTF_PD_PIT_DISTINCT_RATING1   \n",
       "3                         INPUT.PD_VIEW             WORK.'SASTMP-000000348'   \n",
       "4                    INPUT.PD_RR_RATING  WORK.__MTF_PD_PIT_DISTINCT_RATING2   \n",
       "..                                  ...                                 ...   \n",
       "286      WORK.__MTF_PD_PIT_ODR_LONG_DIS                 WORK.TEST_PD_DIS_IN   \n",
       "287  WORK.__MTF_PD_PIT_MARGINAL_BOTH_PD                 WORK.TEST_PD_DIS_IN   \n",
       "288                            No Input             WORK.'SASTMP-000000636'   \n",
       "289                            No Input             WORK.'SASTMP-000000638'   \n",
       "290                            No Input             WORK.'SASTMP-000000640'   \n",
       "\n",
       "                 Start Time  Elapsed Time  \n",
       "0   2021-07-27 10:34:25.720          0.01  \n",
       "1   2021-07-27 10:34:25.730          0.01  \n",
       "2   2021-07-27 10:34:25.740          2.93  \n",
       "3   2021-07-27 10:34:25.740          2.93  \n",
       "4   2021-07-27 10:34:28.670          0.00  \n",
       "..                      ...           ...  \n",
       "286 2021-07-27 10:36:37.210          0.21  \n",
       "287 2021-07-27 10:36:37.210          0.21  \n",
       "288 2021-07-27 10:36:37.420          0.47  \n",
       "289 2021-07-27 10:36:37.890          0.04  \n",
       "290 2021-07-27 10:36:37.930          0.01  \n",
       "\n",
       "[291 rows x 8 columns]"
      ]
     },
     "execution_count": 151,
     "metadata": {},
     "output_type": "execute_result"
    }
   ],
   "source": [
    "#====================================================================================\n",
    "# 3. Extract Edges\n",
    "\n",
    "def df_to_edges(df):\n",
    "    \n",
    "    #-------------------------------------------\n",
    "    # 3.1 Extract Table info\n",
    "    # 3.1.a Get data\n",
    "    df_tables = df.loc[(df['Task Type'].isin(['DATASET', 'OPENTIME', 'TASKSTARTTIME',  'JOBENDTIME']))].copy()   \n",
    "\n",
    "    # 3.1.b # Extract table name and type\n",
    "    df_tables['Table'] = np.where(df_tables['Task Type'].isin(['DATASET']),\n",
    "                                  df_tables['Text'].str.split().str[3],\n",
    "                                  np.where(df_tables['Task Type'].isin(['OPENTIME']),\n",
    "                                           df_tables['Text'].str.split().str[1],\n",
    "                                           ''))\n",
    "    df_tables['Table type'] = df_tables['Table'].str.split('.').str[-1]                          # Extract table type\n",
    "    df_tables['Table'] = df_tables['Table'].apply(lambda x: '.'.join(x.split('.')[:-1]))         # Extract table name\n",
    "\n",
    "    # 3.1.c Define table type (Input, Output, Update)\n",
    "    df_tables['Dataset type'] = np.where(df_tables['Task Type'].isin(['DATASET']),\n",
    "                                          df_tables['Text'].str.split().str[1],                  # Define Input, Output, Update tables\n",
    "                                          '')\n",
    "    df_tables['Dataset type'] = np.where(df_tables['Task Type'].isin(['OPENTIME']),\n",
    "                                          df_tables['Dataset type'].shift(),                     # Inherit table type\n",
    "                                          df_tables['Dataset type'])\n",
    "\n",
    "    # 3.1.d Add sub-step indicator\n",
    "    df_tables = df_tables.reset_index(drop=True)\n",
    "    df_tables['Lag Task ID'] = df_tables['Task ID'].shift()\n",
    "    df_tables['Lag Dataset type'] = df_tables['Dataset type'].shift()\n",
    "    sub_step_list = [1]\n",
    "    for index, row in df_tables.iterrows():\n",
    "        if (row['Task ID'] != row['Lag Task ID']):\n",
    "            sub_step_list.append(1)                       # Reset sub-step\n",
    "        elif ((row['Lag Dataset type'] == 'OUTPUT') & (row['Dataset type'] == 'INPUT')) | \\\n",
    "             ((row['Lag Dataset type'] == 'OUTPUT') & (row['Dataset type'] == 'UPDATE')) | \\\n",
    "             ((row['Lag Dataset type'] == 'UPDATE') & (row['Dataset type'] == 'INPUT')):\n",
    "            sub_step_list.append(sub_step_list[index] +1) # Increase sub-step\n",
    "        else:\n",
    "            sub_step_list.append(sub_step_list[index])    # Keep sub-step\n",
    "    df_tables['SubTask ID'] = sub_step_list[1:]\n",
    "\n",
    "    # 3.1.e Correct case for updated tables\n",
    "    df_tables['Dataset type'] = df_tables['Dataset type'].replace({'UPDATE': 'UPDATE INPUT'})\n",
    "    df_update = df_tables.loc[df_tables['Dataset type'].isin(['UPDATE INPUT'])].copy()\n",
    "    df_update['Dataset type'] = df_update['Dataset type'].replace({'UPDATE INPUT': 'UPDATE OUTPUT'})\n",
    "    df_tables = df_tables.append(df_update).sort_values(['Task ID', 'SubTask ID', 'Dataset type'])\n",
    "    # 3.1.f Add node index\n",
    "    node_id_dict = {}\n",
    "    node_id_list = []\n",
    "    for index, row in df_tables.iterrows():\n",
    "        # If update or output:\n",
    "        if (row['Dataset type'] == 'OUTPUT') | (row['Dataset type'] == 'UPDATE OUTPUT') :\n",
    "            node_id = str(row['Task ID']) +':'+ str(row['SubTask ID']) +':'+ row['Table']        # create node ID\n",
    "            node_id_list.append(node_id)                                                         # update column\n",
    "            node_id_dict[row['Table']] = node_id                                                 # update dict\n",
    "\n",
    "        # If source table:\n",
    "        elif row['Table'] not in node_id_dict:        \n",
    "            node_id = '0:1:' + row['Table']                                                      # create node ID\n",
    "            node_id_list.append(node_id)                                                         # update column\n",
    "            node_id_dict[row['Table']] = node_id                                                 # update dict\n",
    "\n",
    "        # If input:\n",
    "        else: \n",
    "            node_id_list.append(node_id_dict[row['Table']])                                      # use previous node ID \n",
    "\n",
    "    df_tables['Node Id'] = node_id_list\n",
    "\n",
    "    # 3.1.g Remove leftover tables\n",
    "    df_tables.drop(['Table type','Lag Task ID','Lag Dataset type'], inplace=True, axis=1)\n",
    "\n",
    "    #-------------------------------------------\n",
    "    # 3.2. Prepare info about Input tables\n",
    "    df_input = df_tables.loc[(df_tables['Task Type'].isin(['DATASET']) ) & \n",
    "                             (df_tables['Dataset type'].isin(['INPUT', 'UPDATE INPUT']))].copy()\n",
    "    df_input = df_input.rename(columns={'Table': 'Input Table',\n",
    "                                        'Node Id': 'Source ID'})\n",
    "    df_input.drop(['Text', 'Dataset type', 'Task Type'], inplace=True, axis=1)\n",
    "\n",
    "    #-------------------------------------------\n",
    "    # 3.3. Prepare info about Output tables\n",
    "    df_output = df_tables.loc[(df_tables['Task Type'].isin(['DATASET']) ) & \n",
    "                              (df_tables['Dataset type'].isin(['OUTPUT', 'UPDATE OUTPUT']))].copy()\n",
    "    df_output = df_output.rename(columns={'Table': 'Output Table',\n",
    "                                          'Node Id': 'Target ID'})\n",
    "    df_output.drop(['Text', 'Dataset type', 'Task Type'], inplace=True, axis=1)\n",
    "\n",
    "    #-------------------------------------------\n",
    "    # 3.4. Prepare info about Time Calculations\n",
    "    # 3.4.a Get Data\n",
    "    df_time = df_tables.loc[df_tables['Task Type'].isin(['OPENTIME', 'TASKSTARTTIME', 'JOBENDTIME'])].copy()\n",
    "\n",
    "    # 3.4.b Add time\n",
    "    df_time['Start Time'] = np.where(df_time['Task Type'].isin(['OPENTIME']),\n",
    "                                     df_time['Text'].str.split().str[2].str.replace('DATE:', ''),\n",
    "                                     df_time['Text'].str.split().str[1].str.replace('DATE:', ''))\n",
    "    df_time['Start Time']  = pd.to_datetime(df_time['Start Time'], format='%d%b%Y:%H:%M:%S.%f')\n",
    "\n",
    "    # 3.4.c Remove columns and rows\n",
    "    df_time.drop(['Table','Text','Task Type','Dataset type','Node Id'], inplace=True, axis=1)\n",
    "    df_time = df_time.drop_duplicates(subset=['Task ID', 'SubTask ID'], keep='first')\n",
    "\n",
    "    # 3.4.d Calculate time for each step\n",
    "    df_time['Elapsed Time'] = (df_time['Start Time'].shift(-1) - df_time['Start Time']).dt.total_seconds()\n",
    "    df_time['Elapsed Time'] = df_time['Elapsed Time'].round(2)\n",
    "\n",
    "    #-------------------------------------------\n",
    "    # 3.5. Output\n",
    "    # 3.5.a Merge the results for input and output tables + Elapsed time\n",
    "    df = df_input.merge(df_output, on=['Task ID', 'SubTask ID'], how = 'outer')\\\n",
    "                 .merge(df_time, on=['Task ID', 'SubTask ID'], how = 'left')\\\n",
    "                 .sort_values(['Task ID', 'SubTask ID'])\\\n",
    "                 .reset_index(drop = True)\n",
    "\n",
    "    # 3.5.b Fill missing for specific cases\n",
    "    df['Input Table'] = df['Input Table'].fillna('No Input')\n",
    "    df['Output Table'] = df['Output Table'].fillna('_null_')\n",
    "\n",
    "    # 3.5.c Correct Start time\n",
    "    df['Start Time'] = df['Start Time'].fillna(df['Start Time'].shift()) \n",
    "    df['Elapsed Time'] = df['Elapsed Time'].fillna(0)\n",
    "\n",
    "    # 3.5.d Correct Target node ID\n",
    "    df['Target ID'] = df['Target ID'].fillna(df['Task ID'].astype('str') +':'+ df['SubTask ID'].astype('str')+ ':No Output') \n",
    "\n",
    "    # 3.5.e Correct Source node ID\n",
    "    df['Source ID'] = df[['Input Table','Task ID','SubTask ID','Source ID']].apply(lambda x: str(int(x[1])-1)+':'+ str(x[2])+  ':No Input' if x[0]=='No Input' \n",
    "                                                          else x[3], axis = 1)\n",
    "    \n",
    "    # 3.5.f Reorder columns\n",
    "    df = df[['Task ID','SubTask ID', 'Source ID','Target ID', 'Input Table','Output Table', 'Start Time','Elapsed Time']]\n",
    "    \n",
    "    return df\n",
    "\n",
    "df_edges = df_to_edges(df_log)\n",
    "\n",
    "\n",
    "df_edges.to_csv('test.csv', sep=';')\n",
    "df_edges"
   ]
  },
  {
   "cell_type": "markdown",
   "id": "fb34879b",
   "metadata": {},
   "source": [
    "## Network plot"
   ]
  },
  {
   "cell_type": "code",
   "execution_count": 152,
   "id": "8c0cb0fd",
   "metadata": {},
   "outputs": [],
   "source": [
    "# libraries\n",
    "import networkx as nx\n",
    "\n",
    "import matplotlib\n",
    "import matplotlib.cm as cm\n",
    "from matplotlib import pyplot as plt\n",
    "\n",
    "import plotly.graph_objects as go\n",
    "import plotly.offline as py\n",
    "from plotly.subplots import make_subplots\n",
    "\n",
    "from ipywidgets import interactive, VBox, HBox"
   ]
  },
  {
   "cell_type": "code",
   "execution_count": 153,
   "id": "5d5fec89",
   "metadata": {},
   "outputs": [],
   "source": [
    "# Create Graph\n",
    "G = nx.from_pandas_edgelist(df_edges,\n",
    "                            'Source ID','Target ID',\n",
    "                            ['Task ID','SubTask ID',\n",
    "                             'Input Table','Output Table',\n",
    "                             'Start Time','Elapsed Time'],\n",
    "                            create_using=nx.DiGraph())"
   ]
  },
  {
   "cell_type": "code",
   "execution_count": 158,
   "id": "15581700",
   "metadata": {},
   "outputs": [],
   "source": [
    "def get_coords(G):\n",
    "    # get a list of all nodes \n",
    "    list_nodes_full = sorted(list(G.nodes))\n",
    "\n",
    "    def setdiff_sorted(list_append, list_result):\n",
    "        ans = np.setdiff1d(list_append, list_result, False).tolist()\n",
    "        list_result.extend(ans)\n",
    "        return ans\n",
    "\n",
    "    # get source nodes \n",
    "    source_nodes = sorted([node for node in G.nodes() if G.in_degree(node) == 0])\n",
    "\n",
    "    list_nodes = []\n",
    "    for i in range(len(source_nodes)):\n",
    "\n",
    "        # Define source node\n",
    "        source = source_nodes[i]\n",
    "\n",
    "        # Get nodes in depth order\n",
    "        list_nodes_depth = list(nx.dfs_preorder_nodes(G, source=source, depth_limit=None))\n",
    "\n",
    "        # Keep nodes not already in list\n",
    "        list_nodes_unique = setdiff_sorted(list_nodes_depth, list_nodes)\n",
    "\n",
    "    # Get missed nodes\n",
    "    list_nodes_miss = setdiff_sorted(list_nodes, list_nodes_full)\n",
    "\n",
    "    # Create df\n",
    "    df_nodes = pd.DataFrame(list_nodes, columns =['Node'])\n",
    "    df_nodes['Task ID'] = df_nodes['Node'].str.split(':').str[0].astype('int')\n",
    "    df_nodes['SubTask ID'] = df_nodes['Node'].str.split(':').str[1].astype('int')\n",
    "\n",
    "    # Assign x\n",
    "    df_nodes['x'] = df_nodes['Task ID']\n",
    "\n",
    "    # Assign y\n",
    "    df_nodes = df_nodes.reset_index(drop=True)\n",
    "    df_nodes['Lag Task ID'] = df_nodes['Task ID'].shift()\n",
    "    df_nodes['Lag SubTask ID'] = df_nodes['SubTask ID'].shift()\n",
    "    x_list = [10] \n",
    "    for index, row in df_nodes.iterrows():\n",
    "        if   ( (row['Task ID']-row['Lag Task ID'])==0  & (row['SubTask ID'] != row['Lag SubTask ID']) ):\n",
    "            x_list.append(x_list[index] + 1)\n",
    "        elif ( (row['Task ID']-row['Lag Task ID'])<= 0 ):\n",
    "            x_list.append(x_list[index] + 1)        \n",
    "        else:\n",
    "            x_list.append(x_list[index]) \n",
    "    df_nodes['y'] = x_list[1:]\n",
    "\n",
    "    # Coords dict\n",
    "    coords = df_nodes[['Node', 'x' , 'y']].set_index('Node').T.to_dict('list')\n",
    "    return coords\n",
    "\n",
    "\n",
    "# Add coords\n",
    "coords = get_coords(G)\n",
    "# Add attributes\n",
    "nx.set_node_attributes(G, coords, 'coords') \n"
   ]
  },
  {
   "cell_type": "code",
   "execution_count": 189,
   "id": "4ee85ffa",
   "metadata": {},
   "outputs": [],
   "source": [
    "# Create Edges\n",
    "def get_edge_trace(G):\n",
    "    #====================================================================================        \n",
    "    # Edge info\n",
    "    edge_x = []\n",
    "    edge_y = []\n",
    "    edge_text = []\n",
    "    edge_x_text = []\n",
    "    edge_y_text = []\n",
    "    edge_color_values = []\n",
    "    for edge in G.edges():\n",
    "        #--------------------------------------------------------------------\n",
    "        # Coords\n",
    "        x0, y0 = G.nodes[edge[0]]['coords']\n",
    "        x1, y1 = G.nodes[edge[1]]['coords']\n",
    "        x_mean = round( (x0+x1)/2, 4)\n",
    "        y_mean = round( (y0+y1)/2, 4)   \n",
    "        edge_x.append([x0, x_mean, x1, None])\n",
    "        edge_y.append([y0, y_mean, y1, None])   \n",
    "        \n",
    "        #--------------------------------------------------------------------\n",
    "        # Hover text\n",
    "        edge_text.append('Task ID: '+str(G.edges[edge[0],edge[1]]['Task ID']) \n",
    "                         +' '+\n",
    "                         'SubTask ID: '+str(G.edges[edge[0],edge[1]]['SubTask ID'])\n",
    "                         +'<br> '+\n",
    "                         'Input: '+str(G.edges[edge[0],edge[1]]['Input Table'])\n",
    "                         +'<br> '+   \n",
    "                         'Output: '+str(G.edges[edge[0],edge[1]]['Output Table'])     \n",
    "                         +'<br> '+                     \n",
    "                         'Elapsed Time: '+str(G.edges[edge[0],edge[1]]['Elapsed Time']) \n",
    "                        )\n",
    "        edge_x_text.append(x_mean)\n",
    "        edge_y_text.append(y_mean) \n",
    "        \n",
    "        #--------------------------------------------------------------------\n",
    "        # Colorbar\n",
    "        edge_color_values.append(G.edges[edge[0],edge[1]]['Elapsed Time'])\n",
    "        \n",
    "    #====================================================================================        \n",
    "    # b) Edges color\n",
    "    minima = min(edge_color_values)\n",
    "    maxima = max(edge_color_values)\n",
    "    norm = matplotlib.colors.Normalize(vmin=minima, vmax=maxima, clip=True)\n",
    "    mapper = cm.ScalarMappable(norm=norm, cmap='RdYlGn_r')\n",
    "    edge_color = []\n",
    "    for v in edge_color_values:\n",
    "        rgba = mapper.to_rgba(v)\n",
    "        edge_color.append( matplotlib.colors.to_hex(rgba, keep_alpha=False))\n",
    "        \n",
    "    #====================================================================================        \n",
    "    # c) Edges lines\n",
    "    edge_trace = []  \n",
    "    for i in range(len(edge_color)):\n",
    "        edge_trace.append(go.Scatter(x=edge_x[i], y=edge_y[i],\n",
    "                                     mode = 'lines', \n",
    "                                     line_shape = 'spline',\n",
    "                                     line = dict(width=1, \n",
    "                                                 dash='dot', \n",
    "                                                 color=edge_color[i]),\n",
    "                                     hoverinfo = 'none'))\n",
    "        \n",
    "    #====================================================================================        \n",
    "    # Text\n",
    "    edge_text_trace = go.Scatter(x=edge_x_text, y=edge_y_text, \n",
    "                                 # Marker\n",
    "                                 mode = 'markers', \n",
    "                                 marker_symbol = 'hexagram',\n",
    "                                 marker=dict(showscale=True, \n",
    "                                             colorscale='RdYlGn', \n",
    "                                             reversescale=True,\n",
    "                                             size = 8, \n",
    "                                             color=edge_color_values,\n",
    "                                             colorbar=dict(thickness=15,\n",
    "                                                           title='Execution time (s)',\n",
    "                                                           xanchor='left',\n",
    "                                                           titleside='right')\n",
    "                                            ),\n",
    "                                 # Text\n",
    "                                 text = edge_text,  \n",
    "                                 textposition = 'top center', \n",
    "                                 hovertemplate = ' %{text}')\n",
    "    \n",
    "    return edge_trace, edge_text_trace\n",
    "\n",
    "edge_trace, edge_text_trace = get_edge_trace(G)"
   ]
  },
  {
   "cell_type": "code",
   "execution_count": 204,
   "id": "f0dbfa6f",
   "metadata": {},
   "outputs": [],
   "source": [
    "# Create Nodes\n",
    "def get_node_trace(G):\n",
    "    #====================================================================================            \n",
    "    # 1. Node Attributes\n",
    "    node_x = []\n",
    "    node_y = []\n",
    "    node_table = []\n",
    "    node_color = []\n",
    "    node_shape = []\n",
    "    step_id = []    \n",
    "    for node in G.nodes():  \n",
    "        #--------------------------------------------------------------------\n",
    "        # Node Coords\n",
    "        x, y = G.nodes[node]['coords']\n",
    "        node_x.append(x)\n",
    "        node_y.append(y)        \n",
    "\n",
    "        #--------------------------------------------------------------------\n",
    "        # Node name\n",
    "        table_name = node.split(':')[2]\n",
    "        node_table.append(table_name)\n",
    "        \n",
    "        #--------------------------------------------------------------------\n",
    "        # Step ID\n",
    "        step_id.append(node.split(':')[0])        \n",
    "\n",
    "        #--------------------------------------------------------------------\n",
    "        # Predesessors\n",
    "        predecessors = [c.split(':')[2] for c in G.predecessors(node)]\n",
    "\n",
    "        #--------------------------------------------------------------------\n",
    "        # Node shape and color\n",
    "        # a) No Input node\n",
    "        if table_name == 'No Input':\n",
    "            node_shape.append(\"diamond-cross\")\n",
    "            node_color.append(\"grey\")\n",
    "        # b) No Output node\n",
    "        elif table_name == 'No Output':\n",
    "            node_shape.append(\"square-cross\")\n",
    "            node_color.append(\"grey\") \n",
    "        # c) Temporary tables\n",
    "        elif ('SASTMP' in table_name) | ('SORTTMP' in table_name):\n",
    "            node_shape.append(\"star-square-dot\")\n",
    "            node_color.append(\"silver\")    \n",
    "        # d) Input node\n",
    "        elif G.in_degree(node) == 0:\n",
    "            node_shape.append(\"diamond\")\n",
    "            node_color.append(\"gold\")\n",
    "        # e) Output node\n",
    "        elif G.out_degree(node) == 0:\n",
    "            node_shape.append(\"square\")\n",
    "            node_color.append(\"cyan\") \n",
    "        # f) Updated node            \n",
    "        elif table_name in predecessors:\n",
    "            node_shape.append(\"cross\")\n",
    "            node_color.append(\"orange\")\n",
    "        # g) Internal nodes\n",
    "        else:\n",
    "            node_shape.append(\"circle\")\n",
    "            node_color.append(\"blue\")\n",
    "\n",
    "    #====================================================================================        \n",
    "    # 2. Node plot\n",
    "    node_trace = go.Scatter(x = node_x, \n",
    "                            y = node_y,\n",
    "                            mode = 'markers',\n",
    "                            marker=dict(symbol = node_shape, \n",
    "                                        color = node_color,\n",
    "                                        size = 10\n",
    "                                       ),\n",
    "                            marker_line_color=\"black\", \n",
    "                            marker_line_width=0.5,\n",
    "                            text = node_table,\n",
    "                            textposition = 'top center',\n",
    "                            hovertemplate = ' %{text}')\n",
    "    return node_trace\n",
    "\n",
    "\n",
    "node_trace = get_node_trace(G)"
   ]
  },
  {
   "cell_type": "code",
   "execution_count": null,
   "id": "9d48fd9a",
   "metadata": {},
   "outputs": [],
   "source": []
  },
  {
   "cell_type": "code",
   "execution_count": 205,
   "id": "0e611aa5",
   "metadata": {},
   "outputs": [
    {
     "data": {
      "application/vnd.plotly.v1+json": {
       "config": {
        "plotlyServerURL": "https://plot.ly"
       },
       "data": [
        {
         "hoverinfo": "none",
         "line": {
          "color": "#006837",
          "dash": "dot",
          "shape": "spline",
          "width": 1
         },
         "mode": "lines",
         "type": "scatter",
         "x": [
          0,
          0.5,
          1,
          null
         ],
         "xaxis": "x",
         "y": [
          64,
          64,
          64,
          null
         ],
         "yaxis": "y"
        },
        {
         "hoverinfo": "none",
         "line": {
          "color": "#006837",
          "dash": "dot",
          "shape": "spline",
          "width": 1
         },
         "mode": "lines",
         "type": "scatter",
         "x": [
          1,
          1.5,
          2,
          null
         ],
         "xaxis": "x",
         "y": [
          64,
          64,
          64,
          null
         ],
         "yaxis": "y"
        },
        {
         "hoverinfo": "none",
         "line": {
          "color": "#249d53",
          "dash": "dot",
          "shape": "spline",
          "width": 1
         },
         "mode": "lines",
         "type": "scatter",
         "x": [
          0,
          1.5,
          3,
          null
         ],
         "xaxis": "x",
         "y": [
          29,
          41,
          53,
          null
         ],
         "yaxis": "y"
        },
        {
         "hoverinfo": "none",
         "line": {
          "color": "#249d53",
          "dash": "dot",
          "shape": "spline",
          "width": 1
         },
         "mode": "lines",
         "type": "scatter",
         "x": [
          0,
          1.5,
          3,
          null
         ],
         "xaxis": "x",
         "y": [
          29,
          40.5,
          52,
          null
         ],
         "yaxis": "y"
        },
        {
         "hoverinfo": "none",
         "line": {
          "color": "#18954f",
          "dash": "dot",
          "shape": "spline",
          "width": 1
         },
         "mode": "lines",
         "type": "scatter",
         "x": [
          0,
          2,
          4,
          null
         ],
         "xaxis": "x",
         "y": [
          29,
          41.5,
          54,
          null
         ],
         "yaxis": "y"
        },
        {
         "hoverinfo": "none",
         "line": {
          "color": "#18954f",
          "dash": "dot",
          "shape": "spline",
          "width": 1
         },
         "mode": "lines",
         "type": "scatter",
         "x": [
          0,
          2,
          4,
          null
         ],
         "xaxis": "x",
         "y": [
          29,
          41,
          53,
          null
         ],
         "yaxis": "y"
        },
        {
         "hoverinfo": "none",
         "line": {
          "color": "#016a38",
          "dash": "dot",
          "shape": "spline",
          "width": 1
         },
         "mode": "lines",
         "type": "scatter",
         "x": [
          0,
          2.5,
          5,
          null
         ],
         "xaxis": "x",
         "y": [
          29,
          42.5,
          56,
          null
         ],
         "yaxis": "y"
        },
        {
         "hoverinfo": "none",
         "line": {
          "color": "#04703b",
          "dash": "dot",
          "shape": "spline",
          "width": 1
         },
         "mode": "lines",
         "type": "scatter",
         "x": [
          0,
          3.5,
          7,
          null
         ],
         "xaxis": "x",
         "y": [
          29,
          42.5,
          56,
          null
         ],
         "yaxis": "y"
        },
        {
         "hoverinfo": "none",
         "line": {
          "color": "#006837",
          "dash": "dot",
          "shape": "spline",
          "width": 1
         },
         "mode": "lines",
         "type": "scatter",
         "x": [
          3,
          3,
          3,
          null
         ],
         "xaxis": "x",
         "y": [
          53,
          36.5,
          20,
          null
         ],
         "yaxis": "y"
        },
        {
         "hoverinfo": "none",
         "line": {
          "color": "#006837",
          "dash": "dot",
          "shape": "spline",
          "width": 1
         },
         "mode": "lines",
         "type": "scatter",
         "x": [
          0,
          1.5,
          3,
          null
         ],
         "xaxis": "x",
         "y": [
          10,
          14.5,
          19,
          null
         ],
         "yaxis": "y"
        },
        {
         "hoverinfo": "none",
         "line": {
          "color": "#006837",
          "dash": "dot",
          "shape": "spline",
          "width": 1
         },
         "mode": "lines",
         "type": "scatter",
         "x": [
          0,
          12.5,
          25,
          null
         ],
         "xaxis": "x",
         "y": [
          10,
          13,
          16,
          null
         ],
         "yaxis": "y"
        },
        {
         "hoverinfo": "none",
         "line": {
          "color": "#006837",
          "dash": "dot",
          "shape": "spline",
          "width": 1
         },
         "mode": "lines",
         "type": "scatter",
         "x": [
          3,
          3,
          3,
          null
         ],
         "xaxis": "x",
         "y": [
          19,
          19.5,
          20,
          null
         ],
         "yaxis": "y"
        },
        {
         "hoverinfo": "none",
         "line": {
          "color": "#006837",
          "dash": "dot",
          "shape": "spline",
          "width": 1
         },
         "mode": "lines",
         "type": "scatter",
         "x": [
          4,
          4,
          4,
          null
         ],
         "xaxis": "x",
         "y": [
          54,
          55,
          56,
          null
         ],
         "yaxis": "y"
        },
        {
         "hoverinfo": "none",
         "line": {
          "color": "#006837",
          "dash": "dot",
          "shape": "spline",
          "width": 1
         },
         "mode": "lines",
         "type": "scatter",
         "x": [
          4,
          4,
          4,
          null
         ],
         "xaxis": "x",
         "y": [
          53,
          54,
          55,
          null
         ],
         "yaxis": "y"
        },
        {
         "hoverinfo": "none",
         "line": {
          "color": "#006837",
          "dash": "dot",
          "shape": "spline",
          "width": 1
         },
         "mode": "lines",
         "type": "scatter",
         "x": [
          0,
          2,
          4,
          null
         ],
         "xaxis": "x",
         "y": [
          57,
          57,
          57,
          null
         ],
         "yaxis": "y"
        },
        {
         "hoverinfo": "none",
         "line": {
          "color": "#006837",
          "dash": "dot",
          "shape": "spline",
          "width": 1
         },
         "mode": "lines",
         "type": "scatter",
         "x": [
          0,
          30.5,
          61,
          null
         ],
         "xaxis": "x",
         "y": [
          57,
          57,
          57,
          null
         ],
         "yaxis": "y"
        },
        {
         "hoverinfo": "none",
         "line": {
          "color": "#006837",
          "dash": "dot",
          "shape": "spline",
          "width": 1
         },
         "mode": "lines",
         "type": "scatter",
         "x": [
          4,
          4,
          4,
          null
         ],
         "xaxis": "x",
         "y": [
          57,
          56.5,
          56,
          null
         ],
         "yaxis": "y"
        },
        {
         "hoverinfo": "none",
         "line": {
          "color": "#016a38",
          "dash": "dot",
          "shape": "spline",
          "width": 1
         },
         "mode": "lines",
         "type": "scatter",
         "x": [
          7,
          7.5,
          8,
          null
         ],
         "xaxis": "x",
         "y": [
          56,
          56,
          56,
          null
         ],
         "yaxis": "y"
        },
        {
         "hoverinfo": "none",
         "line": {
          "color": "#016a38",
          "dash": "dot",
          "shape": "spline",
          "width": 1
         },
         "mode": "lines",
         "type": "scatter",
         "x": [
          7,
          9,
          11,
          null
         ],
         "xaxis": "x",
         "y": [
          56,
          45.5,
          35,
          null
         ],
         "yaxis": "y"
        },
        {
         "hoverinfo": "none",
         "line": {
          "color": "#04703b",
          "dash": "dot",
          "shape": "spline",
          "width": 1
         },
         "mode": "lines",
         "type": "scatter",
         "x": [
          7,
          9.5,
          12,
          null
         ],
         "xaxis": "x",
         "y": [
          56,
          47.5,
          39,
          null
         ],
         "yaxis": "y"
        },
        {
         "hoverinfo": "none",
         "line": {
          "color": "#006837",
          "dash": "dot",
          "shape": "spline",
          "width": 1
         },
         "mode": "lines",
         "type": "scatter",
         "x": [
          8,
          8.5,
          9,
          null
         ],
         "xaxis": "x",
         "y": [
          77,
          77,
          77,
          null
         ],
         "yaxis": "y"
        },
        {
         "hoverinfo": "none",
         "line": {
          "color": "#006837",
          "dash": "dot",
          "shape": "spline",
          "width": 1
         },
         "mode": "lines",
         "type": "scatter",
         "x": [
          9,
          9.5,
          10,
          null
         ],
         "xaxis": "x",
         "y": [
          77,
          76.5,
          76,
          null
         ],
         "yaxis": "y"
        },
        {
         "hoverinfo": "none",
         "line": {
          "color": "#6ec064",
          "dash": "dot",
          "shape": "spline",
          "width": 1
         },
         "mode": "lines",
         "type": "scatter",
         "x": [
          12,
          12.5,
          13,
          null
         ],
         "xaxis": "x",
         "y": [
          39,
          41.5,
          44,
          null
         ],
         "yaxis": "y"
        },
        {
         "hoverinfo": "none",
         "line": {
          "color": "#6ec064",
          "dash": "dot",
          "shape": "spline",
          "width": 1
         },
         "mode": "lines",
         "type": "scatter",
         "x": [
          12,
          12.5,
          13,
          null
         ],
         "xaxis": "x",
         "y": [
          39,
          41,
          43,
          null
         ],
         "yaxis": "y"
        },
        {
         "hoverinfo": "none",
         "line": {
          "color": "#15904c",
          "dash": "dot",
          "shape": "spline",
          "width": 1
         },
         "mode": "lines",
         "type": "scatter",
         "x": [
          13,
          13.5,
          14,
          null
         ],
         "xaxis": "x",
         "y": [
          44,
          46,
          48,
          null
         ],
         "yaxis": "y"
        },
        {
         "hoverinfo": "none",
         "line": {
          "color": "#15904c",
          "dash": "dot",
          "shape": "spline",
          "width": 1
         },
         "mode": "lines",
         "type": "scatter",
         "x": [
          13,
          13.5,
          14,
          null
         ],
         "xaxis": "x",
         "y": [
          44,
          45.5,
          47,
          null
         ],
         "yaxis": "y"
        },
        {
         "hoverinfo": "none",
         "line": {
          "color": "#15904c",
          "dash": "dot",
          "shape": "spline",
          "width": 1
         },
         "mode": "lines",
         "type": "scatter",
         "x": [
          13,
          13.5,
          14,
          null
         ],
         "xaxis": "x",
         "y": [
          44,
          46.5,
          49,
          null
         ],
         "yaxis": "y"
        },
        {
         "hoverinfo": "none",
         "line": {
          "color": "#036e3a",
          "dash": "dot",
          "shape": "spline",
          "width": 1
         },
         "mode": "lines",
         "type": "scatter",
         "x": [
          14,
          14.5,
          15,
          null
         ],
         "xaxis": "x",
         "y": [
          48,
          49,
          50,
          null
         ],
         "yaxis": "y"
        },
        {
         "hoverinfo": "none",
         "line": {
          "color": "#006837",
          "dash": "dot",
          "shape": "spline",
          "width": 1
         },
         "mode": "lines",
         "type": "scatter",
         "x": [
          14,
          63,
          112,
          null
         ],
         "xaxis": "x",
         "y": [
          47,
          39,
          31,
          null
         ],
         "yaxis": "y"
        },
        {
         "hoverinfo": "none",
         "line": {
          "color": "#036e3a",
          "dash": "dot",
          "shape": "spline",
          "width": 1
         },
         "mode": "lines",
         "type": "scatter",
         "x": [
          14,
          63.5,
          113,
          null
         ],
         "xaxis": "x",
         "y": [
          47,
          39.5,
          32,
          null
         ],
         "yaxis": "y"
        },
        {
         "hoverinfo": "none",
         "line": {
          "color": "#036e3a",
          "dash": "dot",
          "shape": "spline",
          "width": 1
         },
         "mode": "lines",
         "type": "scatter",
         "x": [
          14,
          63.5,
          113,
          null
         ],
         "xaxis": "x",
         "y": [
          47,
          39,
          31,
          null
         ],
         "yaxis": "y"
        },
        {
         "hoverinfo": "none",
         "line": {
          "color": "#148e4b",
          "dash": "dot",
          "shape": "spline",
          "width": 1
         },
         "mode": "lines",
         "type": "scatter",
         "x": [
          14,
          66.5,
          119,
          null
         ],
         "xaxis": "x",
         "y": [
          47,
          40.5,
          34,
          null
         ],
         "yaxis": "y"
        },
        {
         "hoverinfo": "none",
         "line": {
          "color": "#148e4b",
          "dash": "dot",
          "shape": "spline",
          "width": 1
         },
         "mode": "lines",
         "type": "scatter",
         "x": [
          14,
          66.5,
          119,
          null
         ],
         "xaxis": "x",
         "y": [
          47,
          40,
          33,
          null
         ],
         "yaxis": "y"
        },
        {
         "hoverinfo": "none",
         "line": {
          "color": "#026c39",
          "dash": "dot",
          "shape": "spline",
          "width": 1
         },
         "mode": "lines",
         "type": "scatter",
         "x": [
          14,
          69.5,
          125,
          null
         ],
         "xaxis": "x",
         "y": [
          47,
          42,
          37,
          null
         ],
         "yaxis": "y"
        },
        {
         "hoverinfo": "none",
         "line": {
          "color": "#026c39",
          "dash": "dot",
          "shape": "spline",
          "width": 1
         },
         "mode": "lines",
         "type": "scatter",
         "x": [
          14,
          69.5,
          125,
          null
         ],
         "xaxis": "x",
         "y": [
          47,
          41.5,
          36,
          null
         ],
         "yaxis": "y"
        },
        {
         "hoverinfo": "none",
         "line": {
          "color": "#026c39",
          "dash": "dot",
          "shape": "spline",
          "width": 1
         },
         "mode": "lines",
         "type": "scatter",
         "x": [
          14,
          72.5,
          131,
          null
         ],
         "xaxis": "x",
         "y": [
          47,
          43.5,
          40,
          null
         ],
         "yaxis": "y"
        },
        {
         "hoverinfo": "none",
         "line": {
          "color": "#026c39",
          "dash": "dot",
          "shape": "spline",
          "width": 1
         },
         "mode": "lines",
         "type": "scatter",
         "x": [
          14,
          72.5,
          131,
          null
         ],
         "xaxis": "x",
         "y": [
          47,
          43,
          39,
          null
         ],
         "yaxis": "y"
        },
        {
         "hoverinfo": "none",
         "line": {
          "color": "#026c39",
          "dash": "dot",
          "shape": "spline",
          "width": 1
         },
         "mode": "lines",
         "type": "scatter",
         "x": [
          14,
          75.5,
          137,
          null
         ],
         "xaxis": "x",
         "y": [
          47,
          44.5,
          42,
          null
         ],
         "yaxis": "y"
        },
        {
         "hoverinfo": "none",
         "line": {
          "color": "#026c39",
          "dash": "dot",
          "shape": "spline",
          "width": 1
         },
         "mode": "lines",
         "type": "scatter",
         "x": [
          14,
          75.5,
          137,
          null
         ],
         "xaxis": "x",
         "y": [
          47,
          44,
          41,
          null
         ],
         "yaxis": "y"
        },
        {
         "hoverinfo": "none",
         "line": {
          "color": "#006837",
          "dash": "dot",
          "shape": "spline",
          "width": 1
         },
         "mode": "lines",
         "type": "scatter",
         "x": [
          14,
          15.5,
          17,
          null
         ],
         "xaxis": "x",
         "y": [
          49,
          49.5,
          50,
          null
         ],
         "yaxis": "y"
        },
        {
         "hoverinfo": "none",
         "line": {
          "color": "#006837",
          "dash": "dot",
          "shape": "spline",
          "width": 1
         },
         "mode": "lines",
         "type": "scatter",
         "x": [
          14,
          15.5,
          17,
          null
         ],
         "xaxis": "x",
         "y": [
          49,
          50,
          51,
          null
         ],
         "yaxis": "y"
        },
        {
         "hoverinfo": "none",
         "line": {
          "color": "#016a38",
          "dash": "dot",
          "shape": "spline",
          "width": 1
         },
         "mode": "lines",
         "type": "scatter",
         "x": [
          15,
          15.5,
          16,
          null
         ],
         "xaxis": "x",
         "y": [
          50,
          50,
          50,
          null
         ],
         "yaxis": "y"
        },
        {
         "hoverinfo": "none",
         "line": {
          "color": "#08773f",
          "dash": "dot",
          "shape": "spline",
          "width": 1
         },
         "mode": "lines",
         "type": "scatter",
         "x": [
          15,
          58,
          101,
          null
         ],
         "xaxis": "x",
         "y": [
          50,
          30,
          10,
          null
         ],
         "yaxis": "y"
        },
        {
         "hoverinfo": "none",
         "line": {
          "color": "#036e3a",
          "dash": "dot",
          "shape": "spline",
          "width": 1
         },
         "mode": "lines",
         "type": "scatter",
         "x": [
          15,
          63,
          111,
          null
         ],
         "xaxis": "x",
         "y": [
          50,
          40.5,
          31,
          null
         ],
         "yaxis": "y"
        },
        {
         "hoverinfo": "none",
         "line": {
          "color": "#036e3a",
          "dash": "dot",
          "shape": "spline",
          "width": 1
         },
         "mode": "lines",
         "type": "scatter",
         "x": [
          15,
          63,
          111,
          null
         ],
         "xaxis": "x",
         "y": [
          50,
          39.5,
          29,
          null
         ],
         "yaxis": "y"
        },
        {
         "hoverinfo": "none",
         "line": {
          "color": "#036e3a",
          "dash": "dot",
          "shape": "spline",
          "width": 1
         },
         "mode": "lines",
         "type": "scatter",
         "x": [
          15,
          63,
          111,
          null
         ],
         "xaxis": "x",
         "y": [
          50,
          40,
          30,
          null
         ],
         "yaxis": "y"
        },
        {
         "hoverinfo": "none",
         "line": {
          "color": "#249d53",
          "dash": "dot",
          "shape": "spline",
          "width": 1
         },
         "mode": "lines",
         "type": "scatter",
         "x": [
          15,
          85.5,
          156,
          null
         ],
         "xaxis": "x",
         "y": [
          50,
          49.5,
          49,
          null
         ],
         "yaxis": "y"
        },
        {
         "hoverinfo": "none",
         "line": {
          "color": "#006837",
          "dash": "dot",
          "shape": "spline",
          "width": 1
         },
         "mode": "lines",
         "type": "scatter",
         "x": [
          16,
          17,
          18,
          null
         ],
         "xaxis": "x",
         "y": [
          50,
          50.5,
          51,
          null
         ],
         "yaxis": "y"
        },
        {
         "hoverinfo": "none",
         "line": {
          "color": "#006837",
          "dash": "dot",
          "shape": "spline",
          "width": 1
         },
         "mode": "lines",
         "type": "scatter",
         "x": [
          17,
          19,
          21,
          null
         ],
         "xaxis": "x",
         "y": [
          51,
          51,
          51,
          null
         ],
         "yaxis": "y"
        },
        {
         "hoverinfo": "none",
         "line": {
          "color": "#006837",
          "dash": "dot",
          "shape": "spline",
          "width": 1
         },
         "mode": "lines",
         "type": "scatter",
         "x": [
          18,
          18.5,
          19,
          null
         ],
         "xaxis": "x",
         "y": [
          51,
          51,
          51,
          null
         ],
         "yaxis": "y"
        },
        {
         "hoverinfo": "none",
         "line": {
          "color": "#006837",
          "dash": "dot",
          "shape": "spline",
          "width": 1
         },
         "mode": "lines",
         "type": "scatter",
         "x": [
          0,
          9,
          18,
          null
         ],
         "xaxis": "x",
         "y": [
          65,
          65.5,
          66,
          null
         ],
         "yaxis": "y"
        },
        {
         "hoverinfo": "none",
         "line": {
          "color": "#006837",
          "dash": "dot",
          "shape": "spline",
          "width": 1
         },
         "mode": "lines",
         "type": "scatter",
         "x": [
          18,
          19,
          20,
          null
         ],
         "xaxis": "x",
         "y": [
          66,
          66,
          66,
          null
         ],
         "yaxis": "y"
        },
        {
         "hoverinfo": "none",
         "line": {
          "color": "#006837",
          "dash": "dot",
          "shape": "spline",
          "width": 1
         },
         "mode": "lines",
         "type": "scatter",
         "x": [
          19,
          19.5,
          20,
          null
         ],
         "xaxis": "x",
         "y": [
          51,
          51,
          51,
          null
         ],
         "yaxis": "y"
        },
        {
         "hoverinfo": "none",
         "line": {
          "color": "#006837",
          "dash": "dot",
          "shape": "spline",
          "width": 1
         },
         "mode": "lines",
         "type": "scatter",
         "x": [
          20,
          20.5,
          21,
          null
         ],
         "xaxis": "x",
         "y": [
          51,
          51,
          51,
          null
         ],
         "yaxis": "y"
        },
        {
         "hoverinfo": "none",
         "line": {
          "color": "#006837",
          "dash": "dot",
          "shape": "spline",
          "width": 1
         },
         "mode": "lines",
         "type": "scatter",
         "x": [
          20,
          27,
          34,
          null
         ],
         "xaxis": "x",
         "y": [
          66,
          66,
          66,
          null
         ],
         "yaxis": "y"
        },
        {
         "hoverinfo": "none",
         "line": {
          "color": "#128a49",
          "dash": "dot",
          "shape": "spline",
          "width": 1
         },
         "mode": "lines",
         "type": "scatter",
         "x": [
          21,
          63,
          105,
          null
         ],
         "xaxis": "x",
         "y": [
          51,
          30.5,
          10,
          null
         ],
         "yaxis": "y"
        },
        {
         "hoverinfo": "none",
         "line": {
          "color": "#006837",
          "dash": "dot",
          "shape": "spline",
          "width": 1
         },
         "mode": "lines",
         "type": "scatter",
         "x": [
          21,
          21.5,
          22,
          null
         ],
         "xaxis": "x",
         "y": [
          69,
          69,
          69,
          null
         ],
         "yaxis": "y"
        },
        {
         "hoverinfo": "none",
         "line": {
          "color": "#006837",
          "dash": "dot",
          "shape": "spline",
          "width": 1
         },
         "mode": "lines",
         "type": "scatter",
         "x": [
          22,
          22.5,
          23,
          null
         ],
         "xaxis": "x",
         "y": [
          70,
          70,
          70,
          null
         ],
         "yaxis": "y"
        },
        {
         "hoverinfo": "none",
         "line": {
          "color": "#006837",
          "dash": "dot",
          "shape": "spline",
          "width": 1
         },
         "mode": "lines",
         "type": "scatter",
         "x": [
          23,
          23.5,
          24,
          null
         ],
         "xaxis": "x",
         "y": [
          70,
          70,
          70,
          null
         ],
         "yaxis": "y"
        },
        {
         "hoverinfo": "none",
         "line": {
          "color": "#006837",
          "dash": "dot",
          "shape": "spline",
          "width": 1
         },
         "mode": "lines",
         "type": "scatter",
         "x": [
          25,
          25.5,
          26,
          null
         ],
         "xaxis": "x",
         "y": [
          16,
          16,
          16,
          null
         ],
         "yaxis": "y"
        },
        {
         "hoverinfo": "none",
         "line": {
          "color": "#006837",
          "dash": "dot",
          "shape": "spline",
          "width": 1
         },
         "mode": "lines",
         "type": "scatter",
         "x": [
          25,
          26.5,
          28,
          null
         ],
         "xaxis": "x",
         "y": [
          16,
          16,
          16,
          null
         ],
         "yaxis": "y"
        },
        {
         "hoverinfo": "none",
         "line": {
          "color": "#006837",
          "dash": "dot",
          "shape": "spline",
          "width": 1
         },
         "mode": "lines",
         "type": "scatter",
         "x": [
          25,
          27.5,
          30,
          null
         ],
         "xaxis": "x",
         "y": [
          16,
          16,
          16,
          null
         ],
         "yaxis": "y"
        },
        {
         "hoverinfo": "none",
         "line": {
          "color": "#006837",
          "dash": "dot",
          "shape": "spline",
          "width": 1
         },
         "mode": "lines",
         "type": "scatter",
         "x": [
          26,
          26.5,
          27,
          null
         ],
         "xaxis": "x",
         "y": [
          70,
          70,
          70,
          null
         ],
         "yaxis": "y"
        },
        {
         "hoverinfo": "none",
         "line": {
          "color": "#006837",
          "dash": "dot",
          "shape": "spline",
          "width": 1
         },
         "mode": "lines",
         "type": "scatter",
         "x": [
          27,
          27.5,
          28,
          null
         ],
         "xaxis": "x",
         "y": [
          70,
          43,
          16,
          null
         ],
         "yaxis": "y"
        },
        {
         "hoverinfo": "none",
         "line": {
          "color": "#006837",
          "dash": "dot",
          "shape": "spline",
          "width": 1
         },
         "mode": "lines",
         "type": "scatter",
         "x": [
          28,
          28.5,
          29,
          null
         ],
         "xaxis": "x",
         "y": [
          16,
          16,
          16,
          null
         ],
         "yaxis": "y"
        },
        {
         "hoverinfo": "none",
         "line": {
          "color": "#006837",
          "dash": "dot",
          "shape": "spline",
          "width": 1
         },
         "mode": "lines",
         "type": "scatter",
         "x": [
          28,
          29,
          30,
          null
         ],
         "xaxis": "x",
         "y": [
          16,
          16,
          16,
          null
         ],
         "yaxis": "y"
        },
        {
         "hoverinfo": "none",
         "line": {
          "color": "#006837",
          "dash": "dot",
          "shape": "spline",
          "width": 1
         },
         "mode": "lines",
         "type": "scatter",
         "x": [
          30,
          30.5,
          31,
          null
         ],
         "xaxis": "x",
         "y": [
          16,
          16.5,
          17,
          null
         ],
         "yaxis": "y"
        },
        {
         "hoverinfo": "none",
         "line": {
          "color": "#006837",
          "dash": "dot",
          "shape": "spline",
          "width": 1
         },
         "mode": "lines",
         "type": "scatter",
         "x": [
          30,
          30.5,
          31,
          null
         ],
         "xaxis": "x",
         "y": [
          16,
          16,
          16,
          null
         ],
         "yaxis": "y"
        },
        {
         "hoverinfo": "none",
         "line": {
          "color": "#006837",
          "dash": "dot",
          "shape": "spline",
          "width": 1
         },
         "mode": "lines",
         "type": "scatter",
         "x": [
          31,
          31.5,
          32,
          null
         ],
         "xaxis": "x",
         "y": [
          17,
          17,
          17,
          null
         ],
         "yaxis": "y"
        },
        {
         "hoverinfo": "none",
         "line": {
          "color": "#006837",
          "dash": "dot",
          "shape": "spline",
          "width": 1
         },
         "mode": "lines",
         "type": "scatter",
         "x": [
          31,
          32,
          33,
          null
         ],
         "xaxis": "x",
         "y": [
          17,
          17,
          17,
          null
         ],
         "yaxis": "y"
        },
        {
         "hoverinfo": "none",
         "line": {
          "color": "#6ec064",
          "dash": "dot",
          "shape": "spline",
          "width": 1
         },
         "mode": "lines",
         "type": "scatter",
         "x": [
          32,
          51.5,
          71,
          null
         ],
         "xaxis": "x",
         "y": [
          17,
          20,
          23,
          null
         ],
         "yaxis": "y"
        },
        {
         "hoverinfo": "none",
         "line": {
          "color": "#4eb15d",
          "dash": "dot",
          "shape": "spline",
          "width": 1
         },
         "mode": "lines",
         "type": "scatter",
         "x": [
          32,
          59,
          86,
          null
         ],
         "xaxis": "x",
         "y": [
          17,
          21,
          25,
          null
         ],
         "yaxis": "y"
        },
        {
         "hoverinfo": "none",
         "line": {
          "color": "#006837",
          "dash": "dot",
          "shape": "spline",
          "width": 1
         },
         "mode": "lines",
         "type": "scatter",
         "x": [
          33,
          33.5,
          34,
          null
         ],
         "xaxis": "x",
         "y": [
          17,
          17,
          17,
          null
         ],
         "yaxis": "y"
        },
        {
         "hoverinfo": "none",
         "line": {
          "color": "#17934e",
          "dash": "dot",
          "shape": "spline",
          "width": 1
         },
         "mode": "lines",
         "type": "scatter",
         "x": [
          34,
          34.5,
          35,
          null
         ],
         "xaxis": "x",
         "y": [
          17,
          17,
          17,
          null
         ],
         "yaxis": "y"
        },
        {
         "hoverinfo": "none",
         "line": {
          "color": "#006837",
          "dash": "dot",
          "shape": "spline",
          "width": 1
         },
         "mode": "lines",
         "type": "scatter",
         "x": [
          34,
          35.5,
          37,
          null
         ],
         "xaxis": "x",
         "y": [
          66,
          66,
          66,
          null
         ],
         "yaxis": "y"
        },
        {
         "hoverinfo": "none",
         "line": {
          "color": "#006837",
          "dash": "dot",
          "shape": "spline",
          "width": 1
         },
         "mode": "lines",
         "type": "scatter",
         "x": [
          35,
          35.5,
          36,
          null
         ],
         "xaxis": "x",
         "y": [
          17,
          17,
          17,
          null
         ],
         "yaxis": "y"
        },
        {
         "hoverinfo": "none",
         "line": {
          "color": "#006837",
          "dash": "dot",
          "shape": "spline",
          "width": 1
         },
         "mode": "lines",
         "type": "scatter",
         "x": [
          35,
          36,
          37,
          null
         ],
         "xaxis": "x",
         "y": [
          17,
          17,
          17,
          null
         ],
         "yaxis": "y"
        },
        {
         "hoverinfo": "none",
         "line": {
          "color": "#6ec064",
          "dash": "dot",
          "shape": "spline",
          "width": 1
         },
         "mode": "lines",
         "type": "scatter",
         "x": [
          35,
          53,
          71,
          null
         ],
         "xaxis": "x",
         "y": [
          17,
          20,
          23,
          null
         ],
         "yaxis": "y"
        },
        {
         "hoverinfo": "none",
         "line": {
          "color": "#006837",
          "dash": "dot",
          "shape": "spline",
          "width": 1
         },
         "mode": "lines",
         "type": "scatter",
         "x": [
          35,
          54,
          73,
          null
         ],
         "xaxis": "x",
         "y": [
          17,
          21,
          25,
          null
         ],
         "yaxis": "y"
        },
        {
         "hoverinfo": "none",
         "line": {
          "color": "#4eb15d",
          "dash": "dot",
          "shape": "spline",
          "width": 1
         },
         "mode": "lines",
         "type": "scatter",
         "x": [
          35,
          60.5,
          86,
          null
         ],
         "xaxis": "x",
         "y": [
          17,
          21,
          25,
          null
         ],
         "yaxis": "y"
        },
        {
         "hoverinfo": "none",
         "line": {
          "color": "#006837",
          "dash": "dot",
          "shape": "spline",
          "width": 1
         },
         "mode": "lines",
         "type": "scatter",
         "x": [
          35,
          61.5,
          88,
          null
         ],
         "xaxis": "x",
         "y": [
          17,
          22,
          27,
          null
         ],
         "yaxis": "y"
        },
        {
         "hoverinfo": "none",
         "line": {
          "color": "#006837",
          "dash": "dot",
          "shape": "spline",
          "width": 1
         },
         "mode": "lines",
         "type": "scatter",
         "x": [
          36,
          37,
          38,
          null
         ],
         "xaxis": "x",
         "y": [
          17,
          17,
          17,
          null
         ],
         "yaxis": "y"
        },
        {
         "hoverinfo": "none",
         "line": {
          "color": "#006837",
          "dash": "dot",
          "shape": "spline",
          "width": 1
         },
         "mode": "lines",
         "type": "scatter",
         "x": [
          36,
          39.5,
          43,
          null
         ],
         "xaxis": "x",
         "y": [
          17,
          20,
          23,
          null
         ],
         "yaxis": "y"
        },
        {
         "hoverinfo": "none",
         "line": {
          "color": "#006837",
          "dash": "dot",
          "shape": "spline",
          "width": 1
         },
         "mode": "lines",
         "type": "scatter",
         "x": [
          36,
          41.5,
          47,
          null
         ],
         "xaxis": "x",
         "y": [
          17,
          20,
          23,
          null
         ],
         "yaxis": "y"
        },
        {
         "hoverinfo": "none",
         "line": {
          "color": "#006837",
          "dash": "dot",
          "shape": "spline",
          "width": 1
         },
         "mode": "lines",
         "type": "scatter",
         "x": [
          36,
          43.5,
          51,
          null
         ],
         "xaxis": "x",
         "y": [
          17,
          20,
          23,
          null
         ],
         "yaxis": "y"
        },
        {
         "hoverinfo": "none",
         "line": {
          "color": "#006837",
          "dash": "dot",
          "shape": "spline",
          "width": 1
         },
         "mode": "lines",
         "type": "scatter",
         "x": [
          36,
          45.5,
          55,
          null
         ],
         "xaxis": "x",
         "y": [
          17,
          20,
          23,
          null
         ],
         "yaxis": "y"
        },
        {
         "hoverinfo": "none",
         "line": {
          "color": "#006837",
          "dash": "dot",
          "shape": "spline",
          "width": 1
         },
         "mode": "lines",
         "type": "scatter",
         "x": [
          37,
          37.5,
          38,
          null
         ],
         "xaxis": "x",
         "y": [
          17,
          17,
          17,
          null
         ],
         "yaxis": "y"
        },
        {
         "hoverinfo": "none",
         "line": {
          "color": "#006837",
          "dash": "dot",
          "shape": "spline",
          "width": 1
         },
         "mode": "lines",
         "type": "scatter",
         "x": [
          37,
          38,
          39,
          null
         ],
         "xaxis": "x",
         "y": [
          17,
          17,
          17,
          null
         ],
         "yaxis": "y"
        },
        {
         "hoverinfo": "none",
         "line": {
          "color": "#006837",
          "dash": "dot",
          "shape": "spline",
          "width": 1
         },
         "mode": "lines",
         "type": "scatter",
         "x": [
          37,
          38.5,
          40,
          null
         ],
         "xaxis": "x",
         "y": [
          17,
          18.5,
          20,
          null
         ],
         "yaxis": "y"
        },
        {
         "hoverinfo": "none",
         "line": {
          "color": "#006837",
          "dash": "dot",
          "shape": "spline",
          "width": 1
         },
         "mode": "lines",
         "type": "scatter",
         "x": [
          37,
          39,
          41,
          null
         ],
         "xaxis": "x",
         "y": [
          17,
          19,
          21,
          null
         ],
         "yaxis": "y"
        },
        {
         "hoverinfo": "none",
         "line": {
          "color": "#006837",
          "dash": "dot",
          "shape": "spline",
          "width": 1
         },
         "mode": "lines",
         "type": "scatter",
         "x": [
          37,
          39.5,
          42,
          null
         ],
         "xaxis": "x",
         "y": [
          17,
          19.5,
          22,
          null
         ],
         "yaxis": "y"
        },
        {
         "hoverinfo": "none",
         "line": {
          "color": "#006837",
          "dash": "dot",
          "shape": "spline",
          "width": 1
         },
         "mode": "lines",
         "type": "scatter",
         "x": [
          37,
          48,
          59,
          null
         ],
         "xaxis": "x",
         "y": [
          66,
          66,
          66,
          null
         ],
         "yaxis": "y"
        },
        {
         "hoverinfo": "none",
         "line": {
          "color": "#006837",
          "dash": "dot",
          "shape": "spline",
          "width": 1
         },
         "mode": "lines",
         "type": "scatter",
         "x": [
          38,
          41,
          44,
          null
         ],
         "xaxis": "x",
         "y": [
          17,
          20,
          23,
          null
         ],
         "yaxis": "y"
        },
        {
         "hoverinfo": "none",
         "line": {
          "color": "#006837",
          "dash": "dot",
          "shape": "spline",
          "width": 1
         },
         "mode": "lines",
         "type": "scatter",
         "x": [
          38,
          43,
          48,
          null
         ],
         "xaxis": "x",
         "y": [
          17,
          20,
          23,
          null
         ],
         "yaxis": "y"
        },
        {
         "hoverinfo": "none",
         "line": {
          "color": "#006837",
          "dash": "dot",
          "shape": "spline",
          "width": 1
         },
         "mode": "lines",
         "type": "scatter",
         "x": [
          38,
          45,
          52,
          null
         ],
         "xaxis": "x",
         "y": [
          17,
          20,
          23,
          null
         ],
         "yaxis": "y"
        },
        {
         "hoverinfo": "none",
         "line": {
          "color": "#006837",
          "dash": "dot",
          "shape": "spline",
          "width": 1
         },
         "mode": "lines",
         "type": "scatter",
         "x": [
          38,
          47,
          56,
          null
         ],
         "xaxis": "x",
         "y": [
          17,
          20,
          23,
          null
         ],
         "yaxis": "y"
        },
        {
         "hoverinfo": "none",
         "line": {
          "color": "#006837",
          "dash": "dot",
          "shape": "spline",
          "width": 1
         },
         "mode": "lines",
         "type": "scatter",
         "x": [
          38,
          48.5,
          59,
          null
         ],
         "xaxis": "x",
         "y": [
          17,
          20,
          23,
          null
         ],
         "yaxis": "y"
        },
        {
         "hoverinfo": "none",
         "line": {
          "color": "#006837",
          "dash": "dot",
          "shape": "spline",
          "width": 1
         },
         "mode": "lines",
         "type": "scatter",
         "x": [
          39,
          39,
          39,
          null
         ],
         "xaxis": "x",
         "y": [
          17,
          17.5,
          18,
          null
         ],
         "yaxis": "y"
        },
        {
         "hoverinfo": "none",
         "line": {
          "color": "#006837",
          "dash": "dot",
          "shape": "spline",
          "width": 1
         },
         "mode": "lines",
         "type": "scatter",
         "x": [
          39,
          39.5,
          40,
          null
         ],
         "xaxis": "x",
         "y": [
          18,
          19,
          20,
          null
         ],
         "yaxis": "y"
        },
        {
         "hoverinfo": "none",
         "line": {
          "color": "#006837",
          "dash": "dot",
          "shape": "spline",
          "width": 1
         },
         "mode": "lines",
         "type": "scatter",
         "x": [
          39,
          41,
          43,
          null
         ],
         "xaxis": "x",
         "y": [
          18,
          20.5,
          23,
          null
         ],
         "yaxis": "y"
        },
        {
         "hoverinfo": "none",
         "line": {
          "color": "#006837",
          "dash": "dot",
          "shape": "spline",
          "width": 1
         },
         "mode": "lines",
         "type": "scatter",
         "x": [
          40,
          40,
          40,
          null
         ],
         "xaxis": "x",
         "y": [
          20,
          20.5,
          21,
          null
         ],
         "yaxis": "y"
        },
        {
         "hoverinfo": "none",
         "line": {
          "color": "#006837",
          "dash": "dot",
          "shape": "spline",
          "width": 1
         },
         "mode": "lines",
         "type": "scatter",
         "x": [
          40,
          40.5,
          41,
          null
         ],
         "xaxis": "x",
         "y": [
          21,
          21,
          21,
          null
         ],
         "yaxis": "y"
        },
        {
         "hoverinfo": "none",
         "line": {
          "color": "#006837",
          "dash": "dot",
          "shape": "spline",
          "width": 1
         },
         "mode": "lines",
         "type": "scatter",
         "x": [
          40,
          43.5,
          47,
          null
         ],
         "xaxis": "x",
         "y": [
          21,
          22,
          23,
          null
         ],
         "yaxis": "y"
        },
        {
         "hoverinfo": "none",
         "line": {
          "color": "#006837",
          "dash": "dot",
          "shape": "spline",
          "width": 1
         },
         "mode": "lines",
         "type": "scatter",
         "x": [
          41,
          41,
          41,
          null
         ],
         "xaxis": "x",
         "y": [
          21,
          21.5,
          22,
          null
         ],
         "yaxis": "y"
        },
        {
         "hoverinfo": "none",
         "line": {
          "color": "#006837",
          "dash": "dot",
          "shape": "spline",
          "width": 1
         },
         "mode": "lines",
         "type": "scatter",
         "x": [
          41,
          41.5,
          42,
          null
         ],
         "xaxis": "x",
         "y": [
          22,
          22,
          22,
          null
         ],
         "yaxis": "y"
        },
        {
         "hoverinfo": "none",
         "line": {
          "color": "#006837",
          "dash": "dot",
          "shape": "spline",
          "width": 1
         },
         "mode": "lines",
         "type": "scatter",
         "x": [
          41,
          46,
          51,
          null
         ],
         "xaxis": "x",
         "y": [
          22,
          22.5,
          23,
          null
         ],
         "yaxis": "y"
        },
        {
         "hoverinfo": "none",
         "line": {
          "color": "#006837",
          "dash": "dot",
          "shape": "spline",
          "width": 1
         },
         "mode": "lines",
         "type": "scatter",
         "x": [
          42,
          42,
          42,
          null
         ],
         "xaxis": "x",
         "y": [
          22,
          22.5,
          23,
          null
         ],
         "yaxis": "y"
        },
        {
         "hoverinfo": "none",
         "line": {
          "color": "#006837",
          "dash": "dot",
          "shape": "spline",
          "width": 1
         },
         "mode": "lines",
         "type": "scatter",
         "x": [
          42,
          48.5,
          55,
          null
         ],
         "xaxis": "x",
         "y": [
          23,
          23,
          23,
          null
         ],
         "yaxis": "y"
        },
        {
         "hoverinfo": "none",
         "line": {
          "color": "#006837",
          "dash": "dot",
          "shape": "spline",
          "width": 1
         },
         "mode": "lines",
         "type": "scatter",
         "x": [
          43,
          43.5,
          44,
          null
         ],
         "xaxis": "x",
         "y": [
          23,
          23,
          23,
          null
         ],
         "yaxis": "y"
        },
        {
         "hoverinfo": "none",
         "line": {
          "color": "#006837",
          "dash": "dot",
          "shape": "spline",
          "width": 1
         },
         "mode": "lines",
         "type": "scatter",
         "x": [
          44,
          44.5,
          45,
          null
         ],
         "xaxis": "x",
         "y": [
          70,
          70,
          70,
          null
         ],
         "yaxis": "y"
        },
        {
         "hoverinfo": "none",
         "line": {
          "color": "#006837",
          "dash": "dot",
          "shape": "spline",
          "width": 1
         },
         "mode": "lines",
         "type": "scatter",
         "x": [
          45,
          45.5,
          46,
          null
         ],
         "xaxis": "x",
         "y": [
          71,
          71,
          71,
          null
         ],
         "yaxis": "y"
        },
        {
         "hoverinfo": "none",
         "line": {
          "color": "#006837",
          "dash": "dot",
          "shape": "spline",
          "width": 1
         },
         "mode": "lines",
         "type": "scatter",
         "x": [
          47,
          47.5,
          48,
          null
         ],
         "xaxis": "x",
         "y": [
          23,
          23,
          23,
          null
         ],
         "yaxis": "y"
        },
        {
         "hoverinfo": "none",
         "line": {
          "color": "#006837",
          "dash": "dot",
          "shape": "spline",
          "width": 1
         },
         "mode": "lines",
         "type": "scatter",
         "x": [
          48,
          48.5,
          49,
          null
         ],
         "xaxis": "x",
         "y": [
          71,
          71,
          71,
          null
         ],
         "yaxis": "y"
        },
        {
         "hoverinfo": "none",
         "line": {
          "color": "#006837",
          "dash": "dot",
          "shape": "spline",
          "width": 1
         },
         "mode": "lines",
         "type": "scatter",
         "x": [
          49,
          49.5,
          50,
          null
         ],
         "xaxis": "x",
         "y": [
          72,
          72,
          72,
          null
         ],
         "yaxis": "y"
        },
        {
         "hoverinfo": "none",
         "line": {
          "color": "#006837",
          "dash": "dot",
          "shape": "spline",
          "width": 1
         },
         "mode": "lines",
         "type": "scatter",
         "x": [
          51,
          51.5,
          52,
          null
         ],
         "xaxis": "x",
         "y": [
          23,
          23,
          23,
          null
         ],
         "yaxis": "y"
        },
        {
         "hoverinfo": "none",
         "line": {
          "color": "#006837",
          "dash": "dot",
          "shape": "spline",
          "width": 1
         },
         "mode": "lines",
         "type": "scatter",
         "x": [
          52,
          52.5,
          53,
          null
         ],
         "xaxis": "x",
         "y": [
          72,
          72,
          72,
          null
         ],
         "yaxis": "y"
        },
        {
         "hoverinfo": "none",
         "line": {
          "color": "#006837",
          "dash": "dot",
          "shape": "spline",
          "width": 1
         },
         "mode": "lines",
         "type": "scatter",
         "x": [
          53,
          53.5,
          54,
          null
         ],
         "xaxis": "x",
         "y": [
          73,
          73,
          73,
          null
         ],
         "yaxis": "y"
        },
        {
         "hoverinfo": "none",
         "line": {
          "color": "#006837",
          "dash": "dot",
          "shape": "spline",
          "width": 1
         },
         "mode": "lines",
         "type": "scatter",
         "x": [
          55,
          55.5,
          56,
          null
         ],
         "xaxis": "x",
         "y": [
          23,
          23,
          23,
          null
         ],
         "yaxis": "y"
        },
        {
         "hoverinfo": "none",
         "line": {
          "color": "#006837",
          "dash": "dot",
          "shape": "spline",
          "width": 1
         },
         "mode": "lines",
         "type": "scatter",
         "x": [
          56,
          56.5,
          57,
          null
         ],
         "xaxis": "x",
         "y": [
          73,
          73,
          73,
          null
         ],
         "yaxis": "y"
        },
        {
         "hoverinfo": "none",
         "line": {
          "color": "#006837",
          "dash": "dot",
          "shape": "spline",
          "width": 1
         },
         "mode": "lines",
         "type": "scatter",
         "x": [
          57,
          57.5,
          58,
          null
         ],
         "xaxis": "x",
         "y": [
          74,
          74,
          74,
          null
         ],
         "yaxis": "y"
        },
        {
         "hoverinfo": "none",
         "line": {
          "color": "#006837",
          "dash": "dot",
          "shape": "spline",
          "width": 1
         },
         "mode": "lines",
         "type": "scatter",
         "x": [
          59,
          59.5,
          60,
          null
         ],
         "xaxis": "x",
         "y": [
          23,
          23,
          23,
          null
         ],
         "yaxis": "y"
        },
        {
         "hoverinfo": "none",
         "line": {
          "color": "#006837",
          "dash": "dot",
          "shape": "spline",
          "width": 1
         },
         "mode": "lines",
         "type": "scatter",
         "x": [
          59,
          108,
          157,
          null
         ],
         "xaxis": "x",
         "y": [
          66,
          65.5,
          65,
          null
         ],
         "yaxis": "y"
        },
        {
         "hoverinfo": "none",
         "line": {
          "color": "#006837",
          "dash": "dot",
          "shape": "spline",
          "width": 1
         },
         "mode": "lines",
         "type": "scatter",
         "x": [
          60,
          77,
          94,
          null
         ],
         "xaxis": "x",
         "y": [
          23,
          25,
          27,
          null
         ],
         "yaxis": "y"
        },
        {
         "hoverinfo": "none",
         "line": {
          "color": "#006837",
          "dash": "dot",
          "shape": "spline",
          "width": 1
         },
         "mode": "lines",
         "type": "scatter",
         "x": [
          60,
          103,
          146,
          null
         ],
         "xaxis": "x",
         "y": [
          23,
          18.5,
          14,
          null
         ],
         "yaxis": "y"
        },
        {
         "hoverinfo": "none",
         "line": {
          "color": "#006837",
          "dash": "dot",
          "shape": "spline",
          "width": 1
         },
         "mode": "lines",
         "type": "scatter",
         "x": [
          61,
          63,
          65,
          null
         ],
         "xaxis": "x",
         "y": [
          57,
          57,
          57,
          null
         ],
         "yaxis": "y"
        },
        {
         "hoverinfo": "none",
         "line": {
          "color": "#006837",
          "dash": "dot",
          "shape": "spline",
          "width": 1
         },
         "mode": "lines",
         "type": "scatter",
         "x": [
          61,
          64,
          67,
          null
         ],
         "xaxis": "x",
         "y": [
          57,
          57.5,
          58,
          null
         ],
         "yaxis": "y"
        },
        {
         "hoverinfo": "none",
         "line": {
          "color": "#006837",
          "dash": "dot",
          "shape": "spline",
          "width": 1
         },
         "mode": "lines",
         "type": "scatter",
         "x": [
          61,
          64,
          67,
          null
         ],
         "xaxis": "x",
         "y": [
          57,
          57,
          57,
          null
         ],
         "yaxis": "y"
        },
        {
         "hoverinfo": "none",
         "line": {
          "color": "#006837",
          "dash": "dot",
          "shape": "spline",
          "width": 1
         },
         "mode": "lines",
         "type": "scatter",
         "x": [
          61,
          65,
          69,
          null
         ],
         "xaxis": "x",
         "y": [
          57,
          57.5,
          58,
          null
         ],
         "yaxis": "y"
        },
        {
         "hoverinfo": "none",
         "line": {
          "color": "#3faa59",
          "dash": "dot",
          "shape": "spline",
          "width": 1
         },
         "mode": "lines",
         "type": "scatter",
         "x": [
          61,
          66.5,
          72,
          null
         ],
         "xaxis": "x",
         "y": [
          57,
          41,
          25,
          null
         ],
         "yaxis": "y"
        },
        {
         "hoverinfo": "none",
         "line": {
          "color": "#3faa59",
          "dash": "dot",
          "shape": "spline",
          "width": 1
         },
         "mode": "lines",
         "type": "scatter",
         "x": [
          61,
          66.5,
          72,
          null
         ],
         "xaxis": "x",
         "y": [
          57,
          40.5,
          24,
          null
         ],
         "yaxis": "y"
        },
        {
         "hoverinfo": "none",
         "line": {
          "color": "#006837",
          "dash": "dot",
          "shape": "spline",
          "width": 1
         },
         "mode": "lines",
         "type": "scatter",
         "x": [
          61,
          70.5,
          80,
          null
         ],
         "xaxis": "x",
         "y": [
          57,
          58.5,
          60,
          null
         ],
         "yaxis": "y"
        },
        {
         "hoverinfo": "none",
         "line": {
          "color": "#006837",
          "dash": "dot",
          "shape": "spline",
          "width": 1
         },
         "mode": "lines",
         "type": "scatter",
         "x": [
          61,
          71.5,
          82,
          null
         ],
         "xaxis": "x",
         "y": [
          57,
          59,
          61,
          null
         ],
         "yaxis": "y"
        },
        {
         "hoverinfo": "none",
         "line": {
          "color": "#006837",
          "dash": "dot",
          "shape": "spline",
          "width": 1
         },
         "mode": "lines",
         "type": "scatter",
         "x": [
          61,
          71.5,
          82,
          null
         ],
         "xaxis": "x",
         "y": [
          57,
          58.5,
          60,
          null
         ],
         "yaxis": "y"
        },
        {
         "hoverinfo": "none",
         "line": {
          "color": "#249d53",
          "dash": "dot",
          "shape": "spline",
          "width": 1
         },
         "mode": "lines",
         "type": "scatter",
         "x": [
          61,
          72.5,
          84,
          null
         ],
         "xaxis": "x",
         "y": [
          57,
          59,
          61,
          null
         ],
         "yaxis": "y"
        },
        {
         "hoverinfo": "none",
         "line": {
          "color": "#0b7d42",
          "dash": "dot",
          "shape": "spline",
          "width": 1
         },
         "mode": "lines",
         "type": "scatter",
         "x": [
          61,
          74,
          87,
          null
         ],
         "xaxis": "x",
         "y": [
          57,
          42,
          27,
          null
         ],
         "yaxis": "y"
        },
        {
         "hoverinfo": "none",
         "line": {
          "color": "#0b7d42",
          "dash": "dot",
          "shape": "spline",
          "width": 1
         },
         "mode": "lines",
         "type": "scatter",
         "x": [
          61,
          74,
          87,
          null
         ],
         "xaxis": "x",
         "y": [
          57,
          41.5,
          26,
          null
         ],
         "yaxis": "y"
        },
        {
         "hoverinfo": "none",
         "line": {
          "color": "#006837",
          "dash": "dot",
          "shape": "spline",
          "width": 1
         },
         "mode": "lines",
         "type": "scatter",
         "x": [
          61,
          61.5,
          62,
          null
         ],
         "xaxis": "x",
         "y": [
          74,
          74,
          74,
          null
         ],
         "yaxis": "y"
        },
        {
         "hoverinfo": "none",
         "line": {
          "color": "#006837",
          "dash": "dot",
          "shape": "spline",
          "width": 1
         },
         "mode": "lines",
         "type": "scatter",
         "x": [
          62,
          62.5,
          63,
          null
         ],
         "xaxis": "x",
         "y": [
          74,
          74,
          74,
          null
         ],
         "yaxis": "y"
        },
        {
         "hoverinfo": "none",
         "line": {
          "color": "#006837",
          "dash": "dot",
          "shape": "spline",
          "width": 1
         },
         "mode": "lines",
         "type": "scatter",
         "x": [
          65,
          65.5,
          66,
          null
         ],
         "xaxis": "x",
         "y": [
          57,
          57,
          57,
          null
         ],
         "yaxis": "y"
        },
        {
         "hoverinfo": "none",
         "line": {
          "color": "#006837",
          "dash": "dot",
          "shape": "spline",
          "width": 1
         },
         "mode": "lines",
         "type": "scatter",
         "x": [
          66,
          68,
          70,
          null
         ],
         "xaxis": "x",
         "y": [
          57,
          58,
          59,
          null
         ],
         "yaxis": "y"
        },
        {
         "hoverinfo": "none",
         "line": {
          "color": "#006837",
          "dash": "dot",
          "shape": "spline",
          "width": 1
         },
         "mode": "lines",
         "type": "scatter",
         "x": [
          66,
          68,
          70,
          null
         ],
         "xaxis": "x",
         "y": [
          57,
          57.5,
          58,
          null
         ],
         "yaxis": "y"
        },
        {
         "hoverinfo": "none",
         "line": {
          "color": "#6ec064",
          "dash": "dot",
          "shape": "spline",
          "width": 1
         },
         "mode": "lines",
         "type": "scatter",
         "x": [
          66,
          68.5,
          71,
          null
         ],
         "xaxis": "x",
         "y": [
          57,
          40,
          23,
          null
         ],
         "yaxis": "y"
        },
        {
         "hoverinfo": "none",
         "line": {
          "color": "#006837",
          "dash": "dot",
          "shape": "spline",
          "width": 1
         },
         "mode": "lines",
         "type": "scatter",
         "x": [
          67,
          67.5,
          68,
          null
         ],
         "xaxis": "x",
         "y": [
          58,
          58,
          58,
          null
         ],
         "yaxis": "y"
        },
        {
         "hoverinfo": "none",
         "line": {
          "color": "#006837",
          "dash": "dot",
          "shape": "spline",
          "width": 1
         },
         "mode": "lines",
         "type": "scatter",
         "x": [
          68,
          68.5,
          69,
          null
         ],
         "xaxis": "x",
         "y": [
          58,
          58,
          58,
          null
         ],
         "yaxis": "y"
        },
        {
         "hoverinfo": "none",
         "line": {
          "color": "#006837",
          "dash": "dot",
          "shape": "spline",
          "width": 1
         },
         "mode": "lines",
         "type": "scatter",
         "x": [
          69,
          69.5,
          70,
          null
         ],
         "xaxis": "x",
         "y": [
          58,
          58.5,
          59,
          null
         ],
         "yaxis": "y"
        },
        {
         "hoverinfo": "none",
         "line": {
          "color": "#006837",
          "dash": "dot",
          "shape": "spline",
          "width": 1
         },
         "mode": "lines",
         "type": "scatter",
         "x": [
          69,
          69.5,
          70,
          null
         ],
         "xaxis": "x",
         "y": [
          58,
          58,
          58,
          null
         ],
         "yaxis": "y"
        },
        {
         "hoverinfo": "none",
         "line": {
          "color": "#e54e35",
          "dash": "dot",
          "shape": "spline",
          "width": 1
         },
         "mode": "lines",
         "type": "scatter",
         "x": [
          70,
          70.5,
          71,
          null
         ],
         "xaxis": "x",
         "y": [
          59,
          59,
          59,
          null
         ],
         "yaxis": "y"
        },
        {
         "hoverinfo": "none",
         "line": {
          "color": "#0f8446",
          "dash": "dot",
          "shape": "spline",
          "width": 1
         },
         "mode": "lines",
         "type": "scatter",
         "x": [
          70,
          72,
          74,
          null
         ],
         "xaxis": "x",
         "y": [
          59,
          59.5,
          60,
          null
         ],
         "yaxis": "y"
        },
        {
         "hoverinfo": "none",
         "line": {
          "color": "#016a38",
          "dash": "dot",
          "shape": "spline",
          "width": 1
         },
         "mode": "lines",
         "type": "scatter",
         "x": [
          71,
          71,
          71,
          null
         ],
         "xaxis": "x",
         "y": [
          23,
          23.5,
          24,
          null
         ],
         "yaxis": "y"
        },
        {
         "hoverinfo": "none",
         "line": {
          "color": "#3faa59",
          "dash": "dot",
          "shape": "spline",
          "width": 1
         },
         "mode": "lines",
         "type": "scatter",
         "x": [
          71,
          71.5,
          72,
          null
         ],
         "xaxis": "x",
         "y": [
          24,
          24.5,
          25,
          null
         ],
         "yaxis": "y"
        },
        {
         "hoverinfo": "none",
         "line": {
          "color": "#3faa59",
          "dash": "dot",
          "shape": "spline",
          "width": 1
         },
         "mode": "lines",
         "type": "scatter",
         "x": [
          71,
          71.5,
          72,
          null
         ],
         "xaxis": "x",
         "y": [
          24,
          24,
          24,
          null
         ],
         "yaxis": "y"
        },
        {
         "hoverinfo": "none",
         "line": {
          "color": "#0e8245",
          "dash": "dot",
          "shape": "spline",
          "width": 1
         },
         "mode": "lines",
         "type": "scatter",
         "x": [
          71,
          71,
          71,
          null
         ],
         "xaxis": "x",
         "y": [
          59,
          59.5,
          60,
          null
         ],
         "yaxis": "y"
        },
        {
         "hoverinfo": "none",
         "line": {
          "color": "#42ac5a",
          "dash": "dot",
          "shape": "spline",
          "width": 1
         },
         "mode": "lines",
         "type": "scatter",
         "x": [
          71,
          73,
          75,
          null
         ],
         "xaxis": "x",
         "y": [
          60,
          60,
          60,
          null
         ],
         "yaxis": "y"
        },
        {
         "hoverinfo": "none",
         "line": {
          "color": "#06733d",
          "dash": "dot",
          "shape": "spline",
          "width": 1
         },
         "mode": "lines",
         "type": "scatter",
         "x": [
          72,
          111,
          150,
          null
         ],
         "xaxis": "x",
         "y": [
          25,
          19.5,
          14,
          null
         ],
         "yaxis": "y"
        },
        {
         "hoverinfo": "none",
         "line": {
          "color": "#42ac5a",
          "dash": "dot",
          "shape": "spline",
          "width": 1
         },
         "mode": "lines",
         "type": "scatter",
         "x": [
          74,
          74.5,
          75,
          null
         ],
         "xaxis": "x",
         "y": [
          60,
          60,
          60,
          null
         ],
         "yaxis": "y"
        },
        {
         "hoverinfo": "none",
         "line": {
          "color": "#016a38",
          "dash": "dot",
          "shape": "spline",
          "width": 1
         },
         "mode": "lines",
         "type": "scatter",
         "x": [
          75,
          75.5,
          76,
          null
         ],
         "xaxis": "x",
         "y": [
          74,
          74,
          74,
          null
         ],
         "yaxis": "y"
        },
        {
         "hoverinfo": "none",
         "line": {
          "color": "#006837",
          "dash": "dot",
          "shape": "spline",
          "width": 1
         },
         "mode": "lines",
         "type": "scatter",
         "x": [
          76,
          76.5,
          77,
          null
         ],
         "xaxis": "x",
         "y": [
          75,
          75,
          75,
          null
         ],
         "yaxis": "y"
        },
        {
         "hoverinfo": "none",
         "line": {
          "color": "#006837",
          "dash": "dot",
          "shape": "spline",
          "width": 1
         },
         "mode": "lines",
         "type": "scatter",
         "x": [
          77,
          77.5,
          78,
          null
         ],
         "xaxis": "x",
         "y": [
          75,
          75,
          75,
          null
         ],
         "yaxis": "y"
        },
        {
         "hoverinfo": "none",
         "line": {
          "color": "#006837",
          "dash": "dot",
          "shape": "spline",
          "width": 1
         },
         "mode": "lines",
         "type": "scatter",
         "x": [
          80,
          80.5,
          81,
          null
         ],
         "xaxis": "x",
         "y": [
          60,
          60,
          60,
          null
         ],
         "yaxis": "y"
        },
        {
         "hoverinfo": "none",
         "line": {
          "color": "#006837",
          "dash": "dot",
          "shape": "spline",
          "width": 1
         },
         "mode": "lines",
         "type": "scatter",
         "x": [
          81,
          83,
          85,
          null
         ],
         "xaxis": "x",
         "y": [
          60,
          61,
          62,
          null
         ],
         "yaxis": "y"
        },
        {
         "hoverinfo": "none",
         "line": {
          "color": "#006837",
          "dash": "dot",
          "shape": "spline",
          "width": 1
         },
         "mode": "lines",
         "type": "scatter",
         "x": [
          81,
          83,
          85,
          null
         ],
         "xaxis": "x",
         "y": [
          60,
          60.5,
          61,
          null
         ],
         "yaxis": "y"
        },
        {
         "hoverinfo": "none",
         "line": {
          "color": "#4eb15d",
          "dash": "dot",
          "shape": "spline",
          "width": 1
         },
         "mode": "lines",
         "type": "scatter",
         "x": [
          81,
          83.5,
          86,
          null
         ],
         "xaxis": "x",
         "y": [
          60,
          42.5,
          25,
          null
         ],
         "yaxis": "y"
        },
        {
         "hoverinfo": "none",
         "line": {
          "color": "#006837",
          "dash": "dot",
          "shape": "spline",
          "width": 1
         },
         "mode": "lines",
         "type": "scatter",
         "x": [
          82,
          82.5,
          83,
          null
         ],
         "xaxis": "x",
         "y": [
          61,
          61,
          61,
          null
         ],
         "yaxis": "y"
        },
        {
         "hoverinfo": "none",
         "line": {
          "color": "#249d53",
          "dash": "dot",
          "shape": "spline",
          "width": 1
         },
         "mode": "lines",
         "type": "scatter",
         "x": [
          83,
          83.5,
          84,
          null
         ],
         "xaxis": "x",
         "y": [
          61,
          61,
          61,
          null
         ],
         "yaxis": "y"
        },
        {
         "hoverinfo": "none",
         "line": {
          "color": "#006837",
          "dash": "dot",
          "shape": "spline",
          "width": 1
         },
         "mode": "lines",
         "type": "scatter",
         "x": [
          84,
          84.5,
          85,
          null
         ],
         "xaxis": "x",
         "y": [
          61,
          61.5,
          62,
          null
         ],
         "yaxis": "y"
        },
        {
         "hoverinfo": "none",
         "line": {
          "color": "#006837",
          "dash": "dot",
          "shape": "spline",
          "width": 1
         },
         "mode": "lines",
         "type": "scatter",
         "x": [
          84,
          84.5,
          85,
          null
         ],
         "xaxis": "x",
         "y": [
          61,
          61,
          61,
          null
         ],
         "yaxis": "y"
        },
        {
         "hoverinfo": "none",
         "line": {
          "color": "#a50026",
          "dash": "dot",
          "shape": "spline",
          "width": 1
         },
         "mode": "lines",
         "type": "scatter",
         "x": [
          85,
          85.5,
          86,
          null
         ],
         "xaxis": "x",
         "y": [
          62,
          62,
          62,
          null
         ],
         "yaxis": "y"
        },
        {
         "hoverinfo": "none",
         "line": {
          "color": "#108647",
          "dash": "dot",
          "shape": "spline",
          "width": 1
         },
         "mode": "lines",
         "type": "scatter",
         "x": [
          85,
          87,
          89,
          null
         ],
         "xaxis": "x",
         "y": [
          62,
          62.5,
          63,
          null
         ],
         "yaxis": "y"
        },
        {
         "hoverinfo": "none",
         "line": {
          "color": "#016a38",
          "dash": "dot",
          "shape": "spline",
          "width": 1
         },
         "mode": "lines",
         "type": "scatter",
         "x": [
          86,
          86,
          86,
          null
         ],
         "xaxis": "x",
         "y": [
          25,
          25.5,
          26,
          null
         ],
         "yaxis": "y"
        },
        {
         "hoverinfo": "none",
         "line": {
          "color": "#0b7d42",
          "dash": "dot",
          "shape": "spline",
          "width": 1
         },
         "mode": "lines",
         "type": "scatter",
         "x": [
          86,
          86.5,
          87,
          null
         ],
         "xaxis": "x",
         "y": [
          26,
          26.5,
          27,
          null
         ],
         "yaxis": "y"
        },
        {
         "hoverinfo": "none",
         "line": {
          "color": "#0b7d42",
          "dash": "dot",
          "shape": "spline",
          "width": 1
         },
         "mode": "lines",
         "type": "scatter",
         "x": [
          86,
          86.5,
          87,
          null
         ],
         "xaxis": "x",
         "y": [
          26,
          26,
          26,
          null
         ],
         "yaxis": "y"
        },
        {
         "hoverinfo": "none",
         "line": {
          "color": "#0d8044",
          "dash": "dot",
          "shape": "spline",
          "width": 1
         },
         "mode": "lines",
         "type": "scatter",
         "x": [
          86,
          86,
          86,
          null
         ],
         "xaxis": "x",
         "y": [
          62,
          62.5,
          63,
          null
         ],
         "yaxis": "y"
        },
        {
         "hoverinfo": "none",
         "line": {
          "color": "#4bb05c",
          "dash": "dot",
          "shape": "spline",
          "width": 1
         },
         "mode": "lines",
         "type": "scatter",
         "x": [
          86,
          88,
          90,
          null
         ],
         "xaxis": "x",
         "y": [
          63,
          63,
          63,
          null
         ],
         "yaxis": "y"
        },
        {
         "hoverinfo": "none",
         "line": {
          "color": "#06733d",
          "dash": "dot",
          "shape": "spline",
          "width": 1
         },
         "mode": "lines",
         "type": "scatter",
         "x": [
          87,
          119,
          151,
          null
         ],
         "xaxis": "x",
         "y": [
          27,
          20.5,
          14,
          null
         ],
         "yaxis": "y"
        },
        {
         "hoverinfo": "none",
         "line": {
          "color": "#4bb05c",
          "dash": "dot",
          "shape": "spline",
          "width": 1
         },
         "mode": "lines",
         "type": "scatter",
         "x": [
          89,
          89.5,
          90,
          null
         ],
         "xaxis": "x",
         "y": [
          63,
          63,
          63,
          null
         ],
         "yaxis": "y"
        },
        {
         "hoverinfo": "none",
         "line": {
          "color": "#3faa59",
          "dash": "dot",
          "shape": "spline",
          "width": 1
         },
         "mode": "lines",
         "type": "scatter",
         "x": [
          90,
          91,
          92,
          null
         ],
         "xaxis": "x",
         "y": [
          63,
          63,
          63,
          null
         ],
         "yaxis": "y"
        },
        {
         "hoverinfo": "none",
         "line": {
          "color": "#016a38",
          "dash": "dot",
          "shape": "spline",
          "width": 1
         },
         "mode": "lines",
         "type": "scatter",
         "x": [
          90,
          90.5,
          91,
          null
         ],
         "xaxis": "x",
         "y": [
          77,
          77,
          77,
          null
         ],
         "yaxis": "y"
        },
        {
         "hoverinfo": "none",
         "line": {
          "color": "#0b7d42",
          "dash": "dot",
          "shape": "spline",
          "width": 1
         },
         "mode": "lines",
         "type": "scatter",
         "x": [
          92,
          92.5,
          93,
          null
         ],
         "xaxis": "x",
         "y": [
          63,
          63,
          63,
          null
         ],
         "yaxis": "y"
        },
        {
         "hoverinfo": "none",
         "line": {
          "color": "#04703b",
          "dash": "dot",
          "shape": "spline",
          "width": 1
         },
         "mode": "lines",
         "type": "scatter",
         "x": [
          93,
          94,
          95,
          null
         ],
         "xaxis": "x",
         "y": [
          63,
          45.5,
          28,
          null
         ],
         "yaxis": "y"
        },
        {
         "hoverinfo": "none",
         "line": {
          "color": "#04703b",
          "dash": "dot",
          "shape": "spline",
          "width": 1
         },
         "mode": "lines",
         "type": "scatter",
         "x": [
          93,
          94,
          95,
          null
         ],
         "xaxis": "x",
         "y": [
          63,
          45,
          27,
          null
         ],
         "yaxis": "y"
        },
        {
         "hoverinfo": "none",
         "line": {
          "color": "#036e3a",
          "dash": "dot",
          "shape": "spline",
          "width": 1
         },
         "mode": "lines",
         "type": "scatter",
         "x": [
          93,
          102,
          111,
          null
         ],
         "xaxis": "x",
         "y": [
          63,
          47,
          31,
          null
         ],
         "yaxis": "y"
        },
        {
         "hoverinfo": "none",
         "line": {
          "color": "#036e3a",
          "dash": "dot",
          "shape": "spline",
          "width": 1
         },
         "mode": "lines",
         "type": "scatter",
         "x": [
          93,
          102,
          111,
          null
         ],
         "xaxis": "x",
         "y": [
          63,
          46,
          29,
          null
         ],
         "yaxis": "y"
        },
        {
         "hoverinfo": "none",
         "line": {
          "color": "#036e3a",
          "dash": "dot",
          "shape": "spline",
          "width": 1
         },
         "mode": "lines",
         "type": "scatter",
         "x": [
          93,
          102,
          111,
          null
         ],
         "xaxis": "x",
         "y": [
          63,
          46.5,
          30,
          null
         ],
         "yaxis": "y"
        },
        {
         "hoverinfo": "none",
         "line": {
          "color": "#04703b",
          "dash": "dot",
          "shape": "spline",
          "width": 1
         },
         "mode": "lines",
         "type": "scatter",
         "x": [
          94,
          94.5,
          95,
          null
         ],
         "xaxis": "x",
         "y": [
          27,
          27.5,
          28,
          null
         ],
         "yaxis": "y"
        },
        {
         "hoverinfo": "none",
         "line": {
          "color": "#04703b",
          "dash": "dot",
          "shape": "spline",
          "width": 1
         },
         "mode": "lines",
         "type": "scatter",
         "x": [
          94,
          94.5,
          95,
          null
         ],
         "xaxis": "x",
         "y": [
          27,
          27,
          27,
          null
         ],
         "yaxis": "y"
        },
        {
         "hoverinfo": "none",
         "line": {
          "color": "#006837",
          "dash": "dot",
          "shape": "spline",
          "width": 1
         },
         "mode": "lines",
         "type": "scatter",
         "x": [
          94,
          119,
          144,
          null
         ],
         "xaxis": "x",
         "y": [
          27,
          20.5,
          14,
          null
         ],
         "yaxis": "y"
        },
        {
         "hoverinfo": "none",
         "line": {
          "color": "#026c39",
          "dash": "dot",
          "shape": "spline",
          "width": 1
         },
         "mode": "lines",
         "type": "scatter",
         "x": [
          95,
          97,
          99,
          null
         ],
         "xaxis": "x",
         "y": [
          28,
          28,
          28,
          null
         ],
         "yaxis": "y"
        },
        {
         "hoverinfo": "none",
         "line": {
          "color": "#006837",
          "dash": "dot",
          "shape": "spline",
          "width": 1
         },
         "mode": "lines",
         "type": "scatter",
         "x": [
          95,
          95.5,
          96,
          null
         ],
         "xaxis": "x",
         "y": [
          77,
          77,
          77,
          null
         ],
         "yaxis": "y"
        },
        {
         "hoverinfo": "none",
         "line": {
          "color": "#006837",
          "dash": "dot",
          "shape": "spline",
          "width": 1
         },
         "mode": "lines",
         "type": "scatter",
         "x": [
          96,
          96.5,
          97,
          null
         ],
         "xaxis": "x",
         "y": [
          78,
          78,
          78,
          null
         ],
         "yaxis": "y"
        },
        {
         "hoverinfo": "none",
         "line": {
          "color": "#006837",
          "dash": "dot",
          "shape": "spline",
          "width": 1
         },
         "mode": "lines",
         "type": "scatter",
         "x": [
          97,
          97.5,
          98,
          null
         ],
         "xaxis": "x",
         "y": [
          78,
          78,
          78,
          null
         ],
         "yaxis": "y"
        },
        {
         "hoverinfo": "none",
         "line": {
          "color": "#5db961",
          "dash": "dot",
          "shape": "spline",
          "width": 1
         },
         "mode": "lines",
         "type": "scatter",
         "x": [
          99,
          99.5,
          100,
          null
         ],
         "xaxis": "x",
         "y": [
          28,
          19,
          10,
          null
         ],
         "yaxis": "y"
        },
        {
         "hoverinfo": "none",
         "line": {
          "color": "#08773f",
          "dash": "dot",
          "shape": "spline",
          "width": 1
         },
         "mode": "lines",
         "type": "scatter",
         "x": [
          100,
          100.5,
          101,
          null
         ],
         "xaxis": "x",
         "y": [
          10,
          10,
          10,
          null
         ],
         "yaxis": "y"
        },
        {
         "hoverinfo": "none",
         "line": {
          "color": "#026c39",
          "dash": "dot",
          "shape": "spline",
          "width": 1
         },
         "mode": "lines",
         "type": "scatter",
         "x": [
          100,
          130,
          160,
          null
         ],
         "xaxis": "x",
         "y": [
          10,
          12.5,
          15,
          null
         ],
         "yaxis": "y"
        },
        {
         "hoverinfo": "none",
         "line": {
          "color": "#04703b",
          "dash": "dot",
          "shape": "spline",
          "width": 1
         },
         "mode": "lines",
         "type": "scatter",
         "x": [
          101,
          101.5,
          102,
          null
         ],
         "xaxis": "x",
         "y": [
          10,
          10,
          10,
          null
         ],
         "yaxis": "y"
        },
        {
         "hoverinfo": "none",
         "line": {
          "color": "#04703b",
          "dash": "dot",
          "shape": "spline",
          "width": 1
         },
         "mode": "lines",
         "type": "scatter",
         "x": [
          101,
          102,
          103,
          null
         ],
         "xaxis": "x",
         "y": [
          10,
          10,
          10,
          null
         ],
         "yaxis": "y"
        },
        {
         "hoverinfo": "none",
         "line": {
          "color": "#04703b",
          "dash": "dot",
          "shape": "spline",
          "width": 1
         },
         "mode": "lines",
         "type": "scatter",
         "x": [
          102,
          102.5,
          103,
          null
         ],
         "xaxis": "x",
         "y": [
          10,
          10,
          10,
          null
         ],
         "yaxis": "y"
        },
        {
         "hoverinfo": "none",
         "line": {
          "color": "#006837",
          "dash": "dot",
          "shape": "spline",
          "width": 1
         },
         "mode": "lines",
         "type": "scatter",
         "x": [
          102,
          103,
          104,
          null
         ],
         "xaxis": "x",
         "y": [
          10,
          10,
          10,
          null
         ],
         "yaxis": "y"
        },
        {
         "hoverinfo": "none",
         "line": {
          "color": "#006837",
          "dash": "dot",
          "shape": "spline",
          "width": 1
         },
         "mode": "lines",
         "type": "scatter",
         "x": [
          103,
          103.5,
          104,
          null
         ],
         "xaxis": "x",
         "y": [
          10,
          10,
          10,
          null
         ],
         "yaxis": "y"
        },
        {
         "hoverinfo": "none",
         "line": {
          "color": "#128a49",
          "dash": "dot",
          "shape": "spline",
          "width": 1
         },
         "mode": "lines",
         "type": "scatter",
         "x": [
          104,
          104.5,
          105,
          null
         ],
         "xaxis": "x",
         "y": [
          10,
          10,
          10,
          null
         ],
         "yaxis": "y"
        },
        {
         "hoverinfo": "none",
         "line": {
          "color": "#006837",
          "dash": "dot",
          "shape": "spline",
          "width": 1
         },
         "mode": "lines",
         "type": "scatter",
         "x": [
          105,
          105.5,
          106,
          null
         ],
         "xaxis": "x",
         "y": [
          10,
          10,
          10,
          null
         ],
         "yaxis": "y"
        },
        {
         "hoverinfo": "none",
         "line": {
          "color": "#006837",
          "dash": "dot",
          "shape": "spline",
          "width": 1
         },
         "mode": "lines",
         "type": "scatter",
         "x": [
          105,
          130,
          155,
          null
         ],
         "xaxis": "x",
         "y": [
          10,
          12.5,
          15,
          null
         ],
         "yaxis": "y"
        },
        {
         "hoverinfo": "none",
         "line": {
          "color": "#006837",
          "dash": "dot",
          "shape": "spline",
          "width": 1
         },
         "mode": "lines",
         "type": "scatter",
         "x": [
          106,
          106,
          106,
          null
         ],
         "xaxis": "x",
         "y": [
          10,
          11,
          12,
          null
         ],
         "yaxis": "y"
        },
        {
         "hoverinfo": "none",
         "line": {
          "color": "#006837",
          "dash": "dot",
          "shape": "spline",
          "width": 1
         },
         "mode": "lines",
         "type": "scatter",
         "x": [
          106,
          106,
          106,
          null
         ],
         "xaxis": "x",
         "y": [
          10,
          10.5,
          11,
          null
         ],
         "yaxis": "y"
        },
        {
         "hoverinfo": "none",
         "line": {
          "color": "#006837",
          "dash": "dot",
          "shape": "spline",
          "width": 1
         },
         "mode": "lines",
         "type": "scatter",
         "x": [
          106,
          106,
          106,
          null
         ],
         "xaxis": "x",
         "y": [
          12,
          12.5,
          13,
          null
         ],
         "yaxis": "y"
        },
        {
         "hoverinfo": "none",
         "line": {
          "color": "#006837",
          "dash": "dot",
          "shape": "spline",
          "width": 1
         },
         "mode": "lines",
         "type": "scatter",
         "x": [
          106,
          106.5,
          107,
          null
         ],
         "xaxis": "x",
         "y": [
          11,
          12,
          13,
          null
         ],
         "yaxis": "y"
        },
        {
         "hoverinfo": "none",
         "line": {
          "color": "#006837",
          "dash": "dot",
          "shape": "spline",
          "width": 1
         },
         "mode": "lines",
         "type": "scatter",
         "x": [
          106,
          106.5,
          107,
          null
         ],
         "xaxis": "x",
         "y": [
          13,
          13,
          13,
          null
         ],
         "yaxis": "y"
        },
        {
         "hoverinfo": "none",
         "line": {
          "color": "#016a38",
          "dash": "dot",
          "shape": "spline",
          "width": 1
         },
         "mode": "lines",
         "type": "scatter",
         "x": [
          106,
          130,
          154,
          null
         ],
         "xaxis": "x",
         "y": [
          13,
          14,
          15,
          null
         ],
         "yaxis": "y"
        },
        {
         "hoverinfo": "none",
         "line": {
          "color": "#006837",
          "dash": "dot",
          "shape": "spline",
          "width": 1
         },
         "mode": "lines",
         "type": "scatter",
         "x": [
          107,
          107.5,
          108,
          null
         ],
         "xaxis": "x",
         "y": [
          13,
          13,
          13,
          null
         ],
         "yaxis": "y"
        },
        {
         "hoverinfo": "none",
         "line": {
          "color": "#006837",
          "dash": "dot",
          "shape": "spline",
          "width": 1
         },
         "mode": "lines",
         "type": "scatter",
         "x": [
          108,
          109,
          110,
          null
         ],
         "xaxis": "x",
         "y": [
          13,
          13.5,
          14,
          null
         ],
         "yaxis": "y"
        },
        {
         "hoverinfo": "none",
         "line": {
          "color": "#006837",
          "dash": "dot",
          "shape": "spline",
          "width": 1
         },
         "mode": "lines",
         "type": "scatter",
         "x": [
          108,
          109,
          110,
          null
         ],
         "xaxis": "x",
         "y": [
          13,
          13,
          13,
          null
         ],
         "yaxis": "y"
        },
        {
         "hoverinfo": "none",
         "line": {
          "color": "#006837",
          "dash": "dot",
          "shape": "spline",
          "width": 1
         },
         "mode": "lines",
         "type": "scatter",
         "x": [
          108,
          108.5,
          109,
          null
         ],
         "xaxis": "x",
         "y": [
          66,
          66,
          66,
          null
         ],
         "yaxis": "y"
        },
        {
         "hoverinfo": "none",
         "line": {
          "color": "#036e3a",
          "dash": "dot",
          "shape": "spline",
          "width": 1
         },
         "mode": "lines",
         "type": "scatter",
         "x": [
          112,
          112.5,
          113,
          null
         ],
         "xaxis": "x",
         "y": [
          31,
          31.5,
          32,
          null
         ],
         "yaxis": "y"
        },
        {
         "hoverinfo": "none",
         "line": {
          "color": "#036e3a",
          "dash": "dot",
          "shape": "spline",
          "width": 1
         },
         "mode": "lines",
         "type": "scatter",
         "x": [
          112,
          112.5,
          113,
          null
         ],
         "xaxis": "x",
         "y": [
          31,
          31,
          31,
          null
         ],
         "yaxis": "y"
        },
        {
         "hoverinfo": "none",
         "line": {
          "color": "#148e4b",
          "dash": "dot",
          "shape": "spline",
          "width": 1
         },
         "mode": "lines",
         "type": "scatter",
         "x": [
          112,
          115.5,
          119,
          null
         ],
         "xaxis": "x",
         "y": [
          31,
          32.5,
          34,
          null
         ],
         "yaxis": "y"
        },
        {
         "hoverinfo": "none",
         "line": {
          "color": "#148e4b",
          "dash": "dot",
          "shape": "spline",
          "width": 1
         },
         "mode": "lines",
         "type": "scatter",
         "x": [
          112,
          115.5,
          119,
          null
         ],
         "xaxis": "x",
         "y": [
          31,
          32,
          33,
          null
         ],
         "yaxis": "y"
        },
        {
         "hoverinfo": "none",
         "line": {
          "color": "#026c39",
          "dash": "dot",
          "shape": "spline",
          "width": 1
         },
         "mode": "lines",
         "type": "scatter",
         "x": [
          112,
          118.5,
          125,
          null
         ],
         "xaxis": "x",
         "y": [
          31,
          34,
          37,
          null
         ],
         "yaxis": "y"
        },
        {
         "hoverinfo": "none",
         "line": {
          "color": "#026c39",
          "dash": "dot",
          "shape": "spline",
          "width": 1
         },
         "mode": "lines",
         "type": "scatter",
         "x": [
          112,
          118.5,
          125,
          null
         ],
         "xaxis": "x",
         "y": [
          31,
          33.5,
          36,
          null
         ],
         "yaxis": "y"
        },
        {
         "hoverinfo": "none",
         "line": {
          "color": "#026c39",
          "dash": "dot",
          "shape": "spline",
          "width": 1
         },
         "mode": "lines",
         "type": "scatter",
         "x": [
          112,
          121.5,
          131,
          null
         ],
         "xaxis": "x",
         "y": [
          31,
          35.5,
          40,
          null
         ],
         "yaxis": "y"
        },
        {
         "hoverinfo": "none",
         "line": {
          "color": "#026c39",
          "dash": "dot",
          "shape": "spline",
          "width": 1
         },
         "mode": "lines",
         "type": "scatter",
         "x": [
          112,
          121.5,
          131,
          null
         ],
         "xaxis": "x",
         "y": [
          31,
          35,
          39,
          null
         ],
         "yaxis": "y"
        },
        {
         "hoverinfo": "none",
         "line": {
          "color": "#026c39",
          "dash": "dot",
          "shape": "spline",
          "width": 1
         },
         "mode": "lines",
         "type": "scatter",
         "x": [
          112,
          124.5,
          137,
          null
         ],
         "xaxis": "x",
         "y": [
          31,
          36.5,
          42,
          null
         ],
         "yaxis": "y"
        },
        {
         "hoverinfo": "none",
         "line": {
          "color": "#026c39",
          "dash": "dot",
          "shape": "spline",
          "width": 1
         },
         "mode": "lines",
         "type": "scatter",
         "x": [
          112,
          124.5,
          137,
          null
         ],
         "xaxis": "x",
         "y": [
          31,
          36,
          41,
          null
         ],
         "yaxis": "y"
        },
        {
         "hoverinfo": "none",
         "line": {
          "color": "#006837",
          "dash": "dot",
          "shape": "spline",
          "width": 1
         },
         "mode": "lines",
         "type": "scatter",
         "x": [
          113,
          113.5,
          114,
          null
         ],
         "xaxis": "x",
         "y": [
          32,
          32,
          32,
          null
         ],
         "yaxis": "y"
        },
        {
         "hoverinfo": "none",
         "line": {
          "color": "#148e4b",
          "dash": "dot",
          "shape": "spline",
          "width": 1
         },
         "mode": "lines",
         "type": "scatter",
         "x": [
          114,
          114.5,
          115,
          null
         ],
         "xaxis": "x",
         "y": [
          32,
          32,
          32,
          null
         ],
         "yaxis": "y"
        },
        {
         "hoverinfo": "none",
         "line": {
          "color": "#006837",
          "dash": "dot",
          "shape": "spline",
          "width": 1
         },
         "mode": "lines",
         "type": "scatter",
         "x": [
          115,
          115.5,
          116,
          null
         ],
         "xaxis": "x",
         "y": [
          32,
          32,
          32,
          null
         ],
         "yaxis": "y"
        },
        {
         "hoverinfo": "none",
         "line": {
          "color": "#006837",
          "dash": "dot",
          "shape": "spline",
          "width": 1
         },
         "mode": "lines",
         "type": "scatter",
         "x": [
          115,
          116,
          117,
          null
         ],
         "xaxis": "x",
         "y": [
          32,
          32.5,
          33,
          null
         ],
         "yaxis": "y"
        },
        {
         "hoverinfo": "none",
         "line": {
          "color": "#006837",
          "dash": "dot",
          "shape": "spline",
          "width": 1
         },
         "mode": "lines",
         "type": "scatter",
         "x": [
          115,
          116,
          117,
          null
         ],
         "xaxis": "x",
         "y": [
          32,
          32,
          32,
          null
         ],
         "yaxis": "y"
        },
        {
         "hoverinfo": "none",
         "line": {
          "color": "#006837",
          "dash": "dot",
          "shape": "spline",
          "width": 1
         },
         "mode": "lines",
         "type": "scatter",
         "x": [
          116,
          116.5,
          117,
          null
         ],
         "xaxis": "x",
         "y": [
          32,
          32.5,
          33,
          null
         ],
         "yaxis": "y"
        },
        {
         "hoverinfo": "none",
         "line": {
          "color": "#006837",
          "dash": "dot",
          "shape": "spline",
          "width": 1
         },
         "mode": "lines",
         "type": "scatter",
         "x": [
          116,
          116.5,
          117,
          null
         ],
         "xaxis": "x",
         "y": [
          32,
          32,
          32,
          null
         ],
         "yaxis": "y"
        },
        {
         "hoverinfo": "none",
         "line": {
          "color": "#016a38",
          "dash": "dot",
          "shape": "spline",
          "width": 1
         },
         "mode": "lines",
         "type": "scatter",
         "x": [
          117,
          117.5,
          118,
          null
         ],
         "xaxis": "x",
         "y": [
          33,
          33,
          33,
          null
         ],
         "yaxis": "y"
        },
        {
         "hoverinfo": "none",
         "line": {
          "color": "#016a38",
          "dash": "dot",
          "shape": "spline",
          "width": 1
         },
         "mode": "lines",
         "type": "scatter",
         "x": [
          118,
          130.5,
          143,
          null
         ],
         "xaxis": "x",
         "y": [
          33,
          39,
          45,
          null
         ],
         "yaxis": "y"
        },
        {
         "hoverinfo": "none",
         "line": {
          "color": "#006837",
          "dash": "dot",
          "shape": "spline",
          "width": 1
         },
         "mode": "lines",
         "type": "scatter",
         "x": [
          119,
          119.5,
          120,
          null
         ],
         "xaxis": "x",
         "y": [
          34,
          34.5,
          35,
          null
         ],
         "yaxis": "y"
        },
        {
         "hoverinfo": "none",
         "line": {
          "color": "#006837",
          "dash": "dot",
          "shape": "spline",
          "width": 1
         },
         "mode": "lines",
         "type": "scatter",
         "x": [
          120,
          120.5,
          121,
          null
         ],
         "xaxis": "x",
         "y": [
          35,
          35,
          35,
          null
         ],
         "yaxis": "y"
        },
        {
         "hoverinfo": "none",
         "line": {
          "color": "#006837",
          "dash": "dot",
          "shape": "spline",
          "width": 1
         },
         "mode": "lines",
         "type": "scatter",
         "x": [
          121,
          121.5,
          122,
          null
         ],
         "xaxis": "x",
         "y": [
          35,
          35,
          35,
          null
         ],
         "yaxis": "y"
        },
        {
         "hoverinfo": "none",
         "line": {
          "color": "#006837",
          "dash": "dot",
          "shape": "spline",
          "width": 1
         },
         "mode": "lines",
         "type": "scatter",
         "x": [
          121,
          122,
          123,
          null
         ],
         "xaxis": "x",
         "y": [
          35,
          35.5,
          36,
          null
         ],
         "yaxis": "y"
        },
        {
         "hoverinfo": "none",
         "line": {
          "color": "#006837",
          "dash": "dot",
          "shape": "spline",
          "width": 1
         },
         "mode": "lines",
         "type": "scatter",
         "x": [
          121,
          122,
          123,
          null
         ],
         "xaxis": "x",
         "y": [
          35,
          35,
          35,
          null
         ],
         "yaxis": "y"
        },
        {
         "hoverinfo": "none",
         "line": {
          "color": "#006837",
          "dash": "dot",
          "shape": "spline",
          "width": 1
         },
         "mode": "lines",
         "type": "scatter",
         "x": [
          122,
          122.5,
          123,
          null
         ],
         "xaxis": "x",
         "y": [
          35,
          35.5,
          36,
          null
         ],
         "yaxis": "y"
        },
        {
         "hoverinfo": "none",
         "line": {
          "color": "#006837",
          "dash": "dot",
          "shape": "spline",
          "width": 1
         },
         "mode": "lines",
         "type": "scatter",
         "x": [
          122,
          122.5,
          123,
          null
         ],
         "xaxis": "x",
         "y": [
          35,
          35,
          35,
          null
         ],
         "yaxis": "y"
        },
        {
         "hoverinfo": "none",
         "line": {
          "color": "#016a38",
          "dash": "dot",
          "shape": "spline",
          "width": 1
         },
         "mode": "lines",
         "type": "scatter",
         "x": [
          123,
          123.5,
          124,
          null
         ],
         "xaxis": "x",
         "y": [
          36,
          36,
          36,
          null
         ],
         "yaxis": "y"
        },
        {
         "hoverinfo": "none",
         "line": {
          "color": "#016a38",
          "dash": "dot",
          "shape": "spline",
          "width": 1
         },
         "mode": "lines",
         "type": "scatter",
         "x": [
          124,
          133.5,
          143,
          null
         ],
         "xaxis": "x",
         "y": [
          36,
          40.5,
          45,
          null
         ],
         "yaxis": "y"
        },
        {
         "hoverinfo": "none",
         "line": {
          "color": "#006837",
          "dash": "dot",
          "shape": "spline",
          "width": 1
         },
         "mode": "lines",
         "type": "scatter",
         "x": [
          125,
          125.5,
          126,
          null
         ],
         "xaxis": "x",
         "y": [
          37,
          37,
          37,
          null
         ],
         "yaxis": "y"
        },
        {
         "hoverinfo": "none",
         "line": {
          "color": "#006837",
          "dash": "dot",
          "shape": "spline",
          "width": 1
         },
         "mode": "lines",
         "type": "scatter",
         "x": [
          126,
          126.5,
          127,
          null
         ],
         "xaxis": "x",
         "y": [
          37,
          37,
          37,
          null
         ],
         "yaxis": "y"
        },
        {
         "hoverinfo": "none",
         "line": {
          "color": "#006837",
          "dash": "dot",
          "shape": "spline",
          "width": 1
         },
         "mode": "lines",
         "type": "scatter",
         "x": [
          127,
          127.5,
          128,
          null
         ],
         "xaxis": "x",
         "y": [
          37,
          37,
          37,
          null
         ],
         "yaxis": "y"
        },
        {
         "hoverinfo": "none",
         "line": {
          "color": "#006837",
          "dash": "dot",
          "shape": "spline",
          "width": 1
         },
         "mode": "lines",
         "type": "scatter",
         "x": [
          127,
          128,
          129,
          null
         ],
         "xaxis": "x",
         "y": [
          37,
          37.5,
          38,
          null
         ],
         "yaxis": "y"
        },
        {
         "hoverinfo": "none",
         "line": {
          "color": "#006837",
          "dash": "dot",
          "shape": "spline",
          "width": 1
         },
         "mode": "lines",
         "type": "scatter",
         "x": [
          127,
          128,
          129,
          null
         ],
         "xaxis": "x",
         "y": [
          37,
          37,
          37,
          null
         ],
         "yaxis": "y"
        },
        {
         "hoverinfo": "none",
         "line": {
          "color": "#006837",
          "dash": "dot",
          "shape": "spline",
          "width": 1
         },
         "mode": "lines",
         "type": "scatter",
         "x": [
          128,
          128.5,
          129,
          null
         ],
         "xaxis": "x",
         "y": [
          37,
          37.5,
          38,
          null
         ],
         "yaxis": "y"
        },
        {
         "hoverinfo": "none",
         "line": {
          "color": "#006837",
          "dash": "dot",
          "shape": "spline",
          "width": 1
         },
         "mode": "lines",
         "type": "scatter",
         "x": [
          128,
          128.5,
          129,
          null
         ],
         "xaxis": "x",
         "y": [
          37,
          37,
          37,
          null
         ],
         "yaxis": "y"
        },
        {
         "hoverinfo": "none",
         "line": {
          "color": "#016a38",
          "dash": "dot",
          "shape": "spline",
          "width": 1
         },
         "mode": "lines",
         "type": "scatter",
         "x": [
          129,
          129.5,
          130,
          null
         ],
         "xaxis": "x",
         "y": [
          38,
          38.5,
          39,
          null
         ],
         "yaxis": "y"
        },
        {
         "hoverinfo": "none",
         "line": {
          "color": "#016a38",
          "dash": "dot",
          "shape": "spline",
          "width": 1
         },
         "mode": "lines",
         "type": "scatter",
         "x": [
          130,
          136.5,
          143,
          null
         ],
         "xaxis": "x",
         "y": [
          39,
          42,
          45,
          null
         ],
         "yaxis": "y"
        },
        {
         "hoverinfo": "none",
         "line": {
          "color": "#006837",
          "dash": "dot",
          "shape": "spline",
          "width": 1
         },
         "mode": "lines",
         "type": "scatter",
         "x": [
          131,
          131.5,
          132,
          null
         ],
         "xaxis": "x",
         "y": [
          40,
          40,
          40,
          null
         ],
         "yaxis": "y"
        },
        {
         "hoverinfo": "none",
         "line": {
          "color": "#006837",
          "dash": "dot",
          "shape": "spline",
          "width": 1
         },
         "mode": "lines",
         "type": "scatter",
         "x": [
          132,
          132.5,
          133,
          null
         ],
         "xaxis": "x",
         "y": [
          40,
          40,
          40,
          null
         ],
         "yaxis": "y"
        },
        {
         "hoverinfo": "none",
         "line": {
          "color": "#006837",
          "dash": "dot",
          "shape": "spline",
          "width": 1
         },
         "mode": "lines",
         "type": "scatter",
         "x": [
          133,
          133.5,
          134,
          null
         ],
         "xaxis": "x",
         "y": [
          40,
          40,
          40,
          null
         ],
         "yaxis": "y"
        },
        {
         "hoverinfo": "none",
         "line": {
          "color": "#0f8446",
          "dash": "dot",
          "shape": "spline",
          "width": 1
         },
         "mode": "lines",
         "type": "scatter",
         "x": [
          133,
          134,
          135,
          null
         ],
         "xaxis": "x",
         "y": [
          40,
          40.5,
          41,
          null
         ],
         "yaxis": "y"
        },
        {
         "hoverinfo": "none",
         "line": {
          "color": "#0f8446",
          "dash": "dot",
          "shape": "spline",
          "width": 1
         },
         "mode": "lines",
         "type": "scatter",
         "x": [
          133,
          134,
          135,
          null
         ],
         "xaxis": "x",
         "y": [
          40,
          40,
          40,
          null
         ],
         "yaxis": "y"
        },
        {
         "hoverinfo": "none",
         "line": {
          "color": "#0f8446",
          "dash": "dot",
          "shape": "spline",
          "width": 1
         },
         "mode": "lines",
         "type": "scatter",
         "x": [
          134,
          134.5,
          135,
          null
         ],
         "xaxis": "x",
         "y": [
          40,
          40.5,
          41,
          null
         ],
         "yaxis": "y"
        },
        {
         "hoverinfo": "none",
         "line": {
          "color": "#0f8446",
          "dash": "dot",
          "shape": "spline",
          "width": 1
         },
         "mode": "lines",
         "type": "scatter",
         "x": [
          134,
          134.5,
          135,
          null
         ],
         "xaxis": "x",
         "y": [
          40,
          40,
          40,
          null
         ],
         "yaxis": "y"
        },
        {
         "hoverinfo": "none",
         "line": {
          "color": "#016a38",
          "dash": "dot",
          "shape": "spline",
          "width": 1
         },
         "mode": "lines",
         "type": "scatter",
         "x": [
          135,
          135.5,
          136,
          null
         ],
         "xaxis": "x",
         "y": [
          41,
          41,
          41,
          null
         ],
         "yaxis": "y"
        },
        {
         "hoverinfo": "none",
         "line": {
          "color": "#016a38",
          "dash": "dot",
          "shape": "spline",
          "width": 1
         },
         "mode": "lines",
         "type": "scatter",
         "x": [
          136,
          139.5,
          143,
          null
         ],
         "xaxis": "x",
         "y": [
          41,
          43,
          45,
          null
         ],
         "yaxis": "y"
        },
        {
         "hoverinfo": "none",
         "line": {
          "color": "#006837",
          "dash": "dot",
          "shape": "spline",
          "width": 1
         },
         "mode": "lines",
         "type": "scatter",
         "x": [
          137,
          137.5,
          138,
          null
         ],
         "xaxis": "x",
         "y": [
          42,
          42,
          42,
          null
         ],
         "yaxis": "y"
        },
        {
         "hoverinfo": "none",
         "line": {
          "color": "#0b7d42",
          "dash": "dot",
          "shape": "spline",
          "width": 1
         },
         "mode": "lines",
         "type": "scatter",
         "x": [
          138,
          138.5,
          139,
          null
         ],
         "xaxis": "x",
         "y": [
          42,
          42,
          42,
          null
         ],
         "yaxis": "y"
        },
        {
         "hoverinfo": "none",
         "line": {
          "color": "#006837",
          "dash": "dot",
          "shape": "spline",
          "width": 1
         },
         "mode": "lines",
         "type": "scatter",
         "x": [
          139,
          139.5,
          140,
          null
         ],
         "xaxis": "x",
         "y": [
          42,
          43,
          44,
          null
         ],
         "yaxis": "y"
        },
        {
         "hoverinfo": "none",
         "line": {
          "color": "#006837",
          "dash": "dot",
          "shape": "spline",
          "width": 1
         },
         "mode": "lines",
         "type": "scatter",
         "x": [
          139,
          140,
          141,
          null
         ],
         "xaxis": "x",
         "y": [
          42,
          43.5,
          45,
          null
         ],
         "yaxis": "y"
        },
        {
         "hoverinfo": "none",
         "line": {
          "color": "#006837",
          "dash": "dot",
          "shape": "spline",
          "width": 1
         },
         "mode": "lines",
         "type": "scatter",
         "x": [
          139,
          140,
          141,
          null
         ],
         "xaxis": "x",
         "y": [
          42,
          43,
          44,
          null
         ],
         "yaxis": "y"
        },
        {
         "hoverinfo": "none",
         "line": {
          "color": "#006837",
          "dash": "dot",
          "shape": "spline",
          "width": 1
         },
         "mode": "lines",
         "type": "scatter",
         "x": [
          140,
          140.5,
          141,
          null
         ],
         "xaxis": "x",
         "y": [
          44,
          44.5,
          45,
          null
         ],
         "yaxis": "y"
        },
        {
         "hoverinfo": "none",
         "line": {
          "color": "#006837",
          "dash": "dot",
          "shape": "spline",
          "width": 1
         },
         "mode": "lines",
         "type": "scatter",
         "x": [
          140,
          140.5,
          141,
          null
         ],
         "xaxis": "x",
         "y": [
          44,
          44,
          44,
          null
         ],
         "yaxis": "y"
        },
        {
         "hoverinfo": "none",
         "line": {
          "color": "#016a38",
          "dash": "dot",
          "shape": "spline",
          "width": 1
         },
         "mode": "lines",
         "type": "scatter",
         "x": [
          141,
          141.5,
          142,
          null
         ],
         "xaxis": "x",
         "y": [
          45,
          45,
          45,
          null
         ],
         "yaxis": "y"
        },
        {
         "hoverinfo": "none",
         "line": {
          "color": "#016a38",
          "dash": "dot",
          "shape": "spline",
          "width": 1
         },
         "mode": "lines",
         "type": "scatter",
         "x": [
          142,
          142.5,
          143,
          null
         ],
         "xaxis": "x",
         "y": [
          45,
          45,
          45,
          null
         ],
         "yaxis": "y"
        },
        {
         "hoverinfo": "none",
         "line": {
          "color": "#016a38",
          "dash": "dot",
          "shape": "spline",
          "width": 1
         },
         "mode": "lines",
         "type": "scatter",
         "x": [
          143,
          144,
          145,
          null
         ],
         "xaxis": "x",
         "y": [
          45,
          45,
          45,
          null
         ],
         "yaxis": "y"
        },
        {
         "hoverinfo": "none",
         "line": {
          "color": "#006837",
          "dash": "dot",
          "shape": "spline",
          "width": 1
         },
         "mode": "lines",
         "type": "scatter",
         "x": [
          143,
          145.5,
          148,
          null
         ],
         "xaxis": "x",
         "y": [
          45,
          45.5,
          46,
          null
         ],
         "yaxis": "y"
        },
        {
         "hoverinfo": "none",
         "line": {
          "color": "#006837",
          "dash": "dot",
          "shape": "spline",
          "width": 1
         },
         "mode": "lines",
         "type": "scatter",
         "x": [
          143,
          145.5,
          148,
          null
         ],
         "xaxis": "x",
         "y": [
          45,
          45,
          45,
          null
         ],
         "yaxis": "y"
        },
        {
         "hoverinfo": "none",
         "line": {
          "color": "#006837",
          "dash": "dot",
          "shape": "spline",
          "width": 1
         },
         "mode": "lines",
         "type": "scatter",
         "x": [
          144,
          145.5,
          147,
          null
         ],
         "xaxis": "x",
         "y": [
          14,
          14,
          14,
          null
         ],
         "yaxis": "y"
        },
        {
         "hoverinfo": "none",
         "line": {
          "color": "#006837",
          "dash": "dot",
          "shape": "spline",
          "width": 1
         },
         "mode": "lines",
         "type": "scatter",
         "x": [
          144,
          146.5,
          149,
          null
         ],
         "xaxis": "x",
         "y": [
          14,
          14,
          14,
          null
         ],
         "yaxis": "y"
        },
        {
         "hoverinfo": "none",
         "line": {
          "color": "#006837",
          "dash": "dot",
          "shape": "spline",
          "width": 1
         },
         "mode": "lines",
         "type": "scatter",
         "x": [
          145,
          145.5,
          146,
          null
         ],
         "xaxis": "x",
         "y": [
          45,
          29.5,
          14,
          null
         ],
         "yaxis": "y"
        },
        {
         "hoverinfo": "none",
         "line": {
          "color": "#006837",
          "dash": "dot",
          "shape": "spline",
          "width": 1
         },
         "mode": "lines",
         "type": "scatter",
         "x": [
          145,
          149,
          153,
          null
         ],
         "xaxis": "x",
         "y": [
          45,
          47,
          49,
          null
         ],
         "yaxis": "y"
        },
        {
         "hoverinfo": "none",
         "line": {
          "color": "#006837",
          "dash": "dot",
          "shape": "spline",
          "width": 1
         },
         "mode": "lines",
         "type": "scatter",
         "x": [
          146,
          146.5,
          147,
          null
         ],
         "xaxis": "x",
         "y": [
          14,
          14,
          14,
          null
         ],
         "yaxis": "y"
        },
        {
         "hoverinfo": "none",
         "line": {
          "color": "#016a38",
          "dash": "dot",
          "shape": "spline",
          "width": 1
         },
         "mode": "lines",
         "type": "scatter",
         "x": [
          148,
          151,
          154,
          null
         ],
         "xaxis": "x",
         "y": [
          46,
          30.5,
          15,
          null
         ],
         "yaxis": "y"
        },
        {
         "hoverinfo": "none",
         "line": {
          "color": "#219c52",
          "dash": "dot",
          "shape": "spline",
          "width": 1
         },
         "mode": "lines",
         "type": "scatter",
         "x": [
          149,
          150.5,
          152,
          null
         ],
         "xaxis": "x",
         "y": [
          14,
          14.5,
          15,
          null
         ],
         "yaxis": "y"
        },
        {
         "hoverinfo": "none",
         "line": {
          "color": "#219c52",
          "dash": "dot",
          "shape": "spline",
          "width": 1
         },
         "mode": "lines",
         "type": "scatter",
         "x": [
          149,
          150.5,
          152,
          null
         ],
         "xaxis": "x",
         "y": [
          14,
          14,
          14,
          null
         ],
         "yaxis": "y"
        },
        {
         "hoverinfo": "none",
         "line": {
          "color": "#219c52",
          "dash": "dot",
          "shape": "spline",
          "width": 1
         },
         "mode": "lines",
         "type": "scatter",
         "x": [
          150,
          151,
          152,
          null
         ],
         "xaxis": "x",
         "y": [
          14,
          14.5,
          15,
          null
         ],
         "yaxis": "y"
        },
        {
         "hoverinfo": "none",
         "line": {
          "color": "#219c52",
          "dash": "dot",
          "shape": "spline",
          "width": 1
         },
         "mode": "lines",
         "type": "scatter",
         "x": [
          150,
          151,
          152,
          null
         ],
         "xaxis": "x",
         "y": [
          14,
          14,
          14,
          null
         ],
         "yaxis": "y"
        },
        {
         "hoverinfo": "none",
         "line": {
          "color": "#219c52",
          "dash": "dot",
          "shape": "spline",
          "width": 1
         },
         "mode": "lines",
         "type": "scatter",
         "x": [
          151,
          151.5,
          152,
          null
         ],
         "xaxis": "x",
         "y": [
          14,
          14.5,
          15,
          null
         ],
         "yaxis": "y"
        },
        {
         "hoverinfo": "none",
         "line": {
          "color": "#219c52",
          "dash": "dot",
          "shape": "spline",
          "width": 1
         },
         "mode": "lines",
         "type": "scatter",
         "x": [
          151,
          151.5,
          152,
          null
         ],
         "xaxis": "x",
         "y": [
          14,
          14,
          14,
          null
         ],
         "yaxis": "y"
        },
        {
         "hoverinfo": "none",
         "line": {
          "color": "#016a38",
          "dash": "dot",
          "shape": "spline",
          "width": 1
         },
         "mode": "lines",
         "type": "scatter",
         "x": [
          152,
          153,
          154,
          null
         ],
         "xaxis": "x",
         "y": [
          15,
          15,
          15,
          null
         ],
         "yaxis": "y"
        },
        {
         "hoverinfo": "none",
         "line": {
          "color": "#016a38",
          "dash": "dot",
          "shape": "spline",
          "width": 1
         },
         "mode": "lines",
         "type": "scatter",
         "x": [
          153,
          153.5,
          154,
          null
         ],
         "xaxis": "x",
         "y": [
          49,
          32,
          15,
          null
         ],
         "yaxis": "y"
        },
        {
         "hoverinfo": "none",
         "line": {
          "color": "#006837",
          "dash": "dot",
          "shape": "spline",
          "width": 1
         },
         "mode": "lines",
         "type": "scatter",
         "x": [
          156,
          156.5,
          157,
          null
         ],
         "xaxis": "x",
         "y": [
          49,
          49,
          49,
          null
         ],
         "yaxis": "y"
        },
        {
         "hoverinfo": "none",
         "line": {
          "color": "#006837",
          "dash": "dot",
          "shape": "spline",
          "width": 1
         },
         "mode": "lines",
         "type": "scatter",
         "x": [
          157,
          157.5,
          158,
          null
         ],
         "xaxis": "x",
         "y": [
          49,
          49,
          49,
          null
         ],
         "yaxis": "y"
        },
        {
         "hoverinfo": "none",
         "line": {
          "color": "#036e3a",
          "dash": "dot",
          "shape": "spline",
          "width": 1
         },
         "mode": "lines",
         "type": "scatter",
         "x": [
          157,
          158,
          159,
          null
         ],
         "xaxis": "x",
         "y": [
          65,
          65,
          65,
          null
         ],
         "yaxis": "y"
        },
        {
         "hoverinfo": "none",
         "line": {
          "color": "#036e3a",
          "dash": "dot",
          "shape": "spline",
          "width": 1
         },
         "mode": "lines",
         "type": "scatter",
         "x": [
          158,
          158.5,
          159,
          null
         ],
         "xaxis": "x",
         "y": [
          49,
          49,
          49,
          null
         ],
         "yaxis": "y"
        },
        {
         "hoverinfo": "none",
         "line": {
          "color": "#026c39",
          "dash": "dot",
          "shape": "spline",
          "width": 1
         },
         "mode": "lines",
         "type": "scatter",
         "x": [
          159,
          159.5,
          160,
          null
         ],
         "xaxis": "x",
         "y": [
          49,
          32,
          15,
          null
         ],
         "yaxis": "y"
        },
        {
         "hoverinfo": "none",
         "line": {
          "color": "#04703b",
          "dash": "dot",
          "shape": "spline",
          "width": 1
         },
         "mode": "lines",
         "type": "scatter",
         "x": [
          160,
          160.5,
          161,
          null
         ],
         "xaxis": "x",
         "y": [
          66,
          66,
          66,
          null
         ],
         "yaxis": "y"
        },
        {
         "hoverinfo": "none",
         "line": {
          "color": "#006837",
          "dash": "dot",
          "shape": "spline",
          "width": 1
         },
         "mode": "lines",
         "type": "scatter",
         "x": [
          161,
          161.5,
          162,
          null
         ],
         "xaxis": "x",
         "y": [
          67,
          67,
          67,
          null
         ],
         "yaxis": "y"
        },
        {
         "hoverinfo": "none",
         "line": {
          "color": "#006837",
          "dash": "dot",
          "shape": "spline",
          "width": 1
         },
         "mode": "lines",
         "type": "scatter",
         "x": [
          162,
          162.5,
          163,
          null
         ],
         "xaxis": "x",
         "y": [
          68,
          68,
          68,
          null
         ],
         "yaxis": "y"
        },
        {
         "hovertemplate": " %{text}",
         "marker": {
          "color": [
           "grey",
           "blue",
           "grey",
           "gold",
           "blue",
           "silver",
           "gold",
           "blue",
           "grey",
           "blue",
           "silver",
           "gold",
           "blue",
           "silver",
           "grey",
           "grey",
           "blue",
           "grey",
           "grey",
           "blue",
           "grey",
           "grey",
           "blue",
           "blue",
           "silver",
           "orange",
           "blue",
           "blue",
           "orange",
           "blue",
           "silver",
           "blue",
           "blue",
           "gold",
           "orange",
           "orange",
           "blue",
           "orange",
           "blue",
           "grey",
           "silver",
           "grey",
           "blue",
           "grey",
           "blue",
           "grey",
           "grey",
           "blue",
           "blue",
           "grey",
           "blue",
           "blue",
           "cyan",
           "blue",
           "blue",
           "blue",
           "orange",
           "blue",
           "blue",
           "blue",
           "orange",
           "blue",
           "blue",
           "orange",
           "blue",
           "orange",
           "blue",
           "orange",
           "blue",
           "orange",
           "orange",
           "cyan",
           "grey",
           "silver",
           "grey",
           "silver",
           "orange",
           "cyan",
           "grey",
           "silver",
           "grey",
           "silver",
           "orange",
           "cyan",
           "grey",
           "silver",
           "grey",
           "silver",
           "orange",
           "cyan",
           "grey",
           "silver",
           "grey",
           "silver",
           "blue",
           "orange",
           "blue",
           "blue",
           "grey",
           "blue",
           "grey",
           "blue",
           "orange",
           "blue",
           "silver",
           "blue",
           "blue",
           "blue",
           "silver",
           "blue",
           "orange",
           "blue",
           "orange",
           "blue",
           "silver",
           "grey",
           "blue",
           "cyan",
           "grey",
           "silver",
           "grey",
           "blue",
           "grey",
           "blue",
           "orange",
           "blue",
           "silver",
           "blue",
           "blue",
           "blue",
           "silver",
           "blue",
           "orange",
           "blue",
           "orange",
           "blue",
           "silver",
           "grey",
           "blue",
           "blue",
           "grey",
           "silver",
           "blue",
           "blue",
           "blue",
           "blue",
           "silver",
           "grey",
           "silver",
           "grey",
           "blue",
           "grey",
           "blue",
           "orange",
           "blue",
           "blue",
           "blue",
           "blue",
           "blue",
           "blue",
           "blue",
           "orange",
           "orange",
           "blue",
           "blue",
           "grey",
           "silver",
           "cyan",
           "cyan",
           "cyan",
           "silver",
           "silver",
           "blue",
           "blue",
           "silver",
           "orange",
           "blue",
           "blue",
           "blue",
           "silver",
           "blue",
           "blue",
           "silver",
           "orange",
           "blue",
           "blue",
           "blue",
           "silver",
           "blue",
           "blue",
           "silver",
           "orange",
           "blue",
           "blue",
           "blue",
           "silver",
           "blue",
           "blue",
           "silver",
           "orange",
           "blue",
           "blue",
           "blue",
           "silver",
           "blue",
           "blue",
           "silver",
           "orange",
           "blue",
           "blue",
           "blue",
           "silver",
           "blue",
           "blue",
           "blue",
           "blue",
           "blue",
           "cyan",
           "blue",
           "silver",
           "blue",
           "blue",
           "blue",
           "blue",
           "silver",
           "blue",
           "cyan",
           "cyan",
           "blue",
           "blue",
           "orange",
           "orange",
           "blue",
           "cyan",
           "cyan",
           "grey",
           "silver",
           "grey",
           "silver",
           "grey",
           "silver"
          ],
          "line": {
           "color": "black",
           "width": 0.5
          },
          "size": 10,
          "symbol": [
           "diamond-cross",
           "circle",
           "square-cross",
           "diamond",
           "circle",
           "star-square-dot",
           "diamond",
           "circle",
           "square-cross",
           "circle",
           "star-square-dot",
           "diamond",
           "circle",
           "star-square-dot",
           "square-cross",
           "square-cross",
           "circle",
           "square-cross",
           "diamond-cross",
           "circle",
           "square-cross",
           "square-cross",
           "circle",
           "circle",
           "star-square-dot",
           "cross",
           "circle",
           "circle",
           "cross",
           "circle",
           "star-square-dot",
           "circle",
           "circle",
           "diamond",
           "cross",
           "cross",
           "circle",
           "cross",
           "circle",
           "diamond-cross",
           "star-square-dot",
           "diamond-cross",
           "circle",
           "square-cross",
           "circle",
           "square-cross",
           "diamond-cross",
           "circle",
           "circle",
           "square-cross",
           "circle",
           "circle",
           "square",
           "circle",
           "circle",
           "circle",
           "cross",
           "circle",
           "circle",
           "circle",
           "cross",
           "circle",
           "circle",
           "cross",
           "circle",
           "cross",
           "circle",
           "cross",
           "circle",
           "cross",
           "cross",
           "square",
           "diamond-cross",
           "star-square-dot",
           "diamond-cross",
           "star-square-dot",
           "cross",
           "square",
           "diamond-cross",
           "star-square-dot",
           "diamond-cross",
           "star-square-dot",
           "cross",
           "square",
           "diamond-cross",
           "star-square-dot",
           "diamond-cross",
           "star-square-dot",
           "cross",
           "square",
           "diamond-cross",
           "star-square-dot",
           "diamond-cross",
           "star-square-dot",
           "circle",
           "cross",
           "circle",
           "circle",
           "diamond-cross",
           "circle",
           "square-cross",
           "circle",
           "cross",
           "circle",
           "star-square-dot",
           "circle",
           "circle",
           "circle",
           "star-square-dot",
           "circle",
           "cross",
           "circle",
           "cross",
           "circle",
           "star-square-dot",
           "square-cross",
           "circle",
           "square",
           "diamond-cross",
           "star-square-dot",
           "diamond-cross",
           "circle",
           "square-cross",
           "circle",
           "cross",
           "circle",
           "star-square-dot",
           "circle",
           "circle",
           "circle",
           "star-square-dot",
           "circle",
           "cross",
           "circle",
           "cross",
           "circle",
           "star-square-dot",
           "square-cross",
           "circle",
           "circle",
           "diamond-cross",
           "star-square-dot",
           "circle",
           "circle",
           "circle",
           "circle",
           "star-square-dot",
           "diamond-cross",
           "star-square-dot",
           "diamond-cross",
           "circle",
           "square-cross",
           "circle",
           "cross",
           "circle",
           "circle",
           "circle",
           "circle",
           "circle",
           "circle",
           "circle",
           "cross",
           "cross",
           "circle",
           "circle",
           "diamond-cross",
           "star-square-dot",
           "square",
           "square",
           "square",
           "star-square-dot",
           "star-square-dot",
           "circle",
           "circle",
           "star-square-dot",
           "cross",
           "circle",
           "circle",
           "circle",
           "star-square-dot",
           "circle",
           "circle",
           "star-square-dot",
           "cross",
           "circle",
           "circle",
           "circle",
           "star-square-dot",
           "circle",
           "circle",
           "star-square-dot",
           "cross",
           "circle",
           "circle",
           "circle",
           "star-square-dot",
           "circle",
           "circle",
           "star-square-dot",
           "cross",
           "circle",
           "circle",
           "circle",
           "star-square-dot",
           "circle",
           "circle",
           "star-square-dot",
           "cross",
           "circle",
           "circle",
           "circle",
           "star-square-dot",
           "circle",
           "circle",
           "circle",
           "circle",
           "circle",
           "square",
           "circle",
           "star-square-dot",
           "circle",
           "circle",
           "circle",
           "circle",
           "star-square-dot",
           "circle",
           "square",
           "square",
           "circle",
           "circle",
           "cross",
           "cross",
           "circle",
           "square",
           "square",
           "diamond-cross",
           "star-square-dot",
           "diamond-cross",
           "star-square-dot",
           "diamond-cross",
           "star-square-dot"
          ]
         },
         "mode": "markers",
         "text": [
          "No Input",
          "WORK.__MTF_PD_PIT_VERSION",
          "No Output",
          "INPUT.PD_VIEW",
          "WORK.__MTF_PD_PIT_DISTINCT_RATING1",
          "WORK.'SASTMP-000000348'",
          "INPUT.PD_RR_RATING",
          "WORK.__MTF_PD_PIT_DISTINCT_RATING2",
          "No Output",
          "WORK.__MTF_PD_PIT_DISTINCT_ZVAL1",
          "WORK.'SASTMP-000000351'",
          "INPUT.PD_Z_FACTOR",
          "WORK.__MTF_PD_PIT_DISTINCT_ZVAL2",
          "WORK.'SASTMP-000000351'",
          "No Output",
          "No Output",
          "WORK.__MTF_PD_PIT_VIEW_INPUT",
          "No Output",
          "No Input",
          "WORK.__MTF_PD_PIT_VERSION",
          "No Output",
          "No Output",
          "WORK.__MTF_PD_PIT_VIEW2",
          "WORK.__MTF_PD_PIT_PROC_MULTIYEAR_DATA",
          "WORK.SORTTMP000000000000000000001",
          "WORK.__MTF_PD_PIT_PROC_MULTIYEAR_DATA",
          "WORK.__MTF_PD_NON_MIGRATIONS_IN",
          "WORK.__MTF_PD_PIT_PROC_ONEYEAR_DATA",
          "WORK.__MTF_PD_PIT_PROC_MULTIYEAR_DATA",
          "WORK.__MTF_PD_PIT_ODR_WIDE",
          "WORK.'SASTMP-000000372'",
          "WORK.__MTF_PD_PIT_OUTSTANDING_STATS_1",
          "WORK.__MTF_PD_PIT_ODR_WIDE_TP",
          "WORK.ZFMMEM",
          "WORK.ZFMMEM",
          "WORK.__MTF_PD_PIT_ODR_WIDE_TP",
          "WORK.__MTF_PD_PIT_ODR_LONG",
          "WORK.ZFMMEM",
          "WORK.__MTF_PD_PIT_MULTIYEAR_OBS_GRP",
          "No Input",
          "WORK.'SASTMP-000000381'",
          "No Input",
          "WORK.__MTF_PD_PRED_VERSION",
          "No Output",
          "WORK.__MTF_PD_PRED_DATA_RATING_PARAMS",
          "No Output",
          "No Input",
          "WORK.__MTF_PD_PRED_DATA_TTC_TMP1",
          "WORK.__MTF_PD_PRED_DATA_TTC_TMP2",
          "No Output",
          "WORK.__MTF_PD_PRED_DATA_TTC_TMP3",
          "WORK.__MTF_PD_PRED_DATA_NONNULL",
          "WORK.__MTF_PD_PRED_DATA_IRB_OLD",
          "WORK.__MTF_PD_PRED_DATA_ASSET_CORR",
          "WORK.__MTF_PD_PRED_TTC_SCALED",
          "WORK.__MTF_PD_PRED_TTC_SCALED_T",
          "WORK.ZFMMEM",
          "WORK.__MTF_PD_PRED_TTC_SCALED_LONG",
          "WORK.__MTF_PD_PRED_RISK_RATING_NAMES",
          "WORK.__MTF_PD_PRED_TTC_SCALED_WIDE_1",
          "WORK.ZFMMEM",
          "WORK.__MTF_PD_PRED_TTC_OUT",
          "WORK.__MTF_PD_PRED_TTC_SCALED_WIDE_2",
          "WORK.__MTF_PD_PRED_TTC_SCALED_WIDE_2",
          "WORK.__MTF_PD_PRED_TTC_SCALED_WIDE_3",
          "WORK.__MTF_PD_PRED_TTC_SCALED_WIDE_3",
          "WORK.__MTF_PD_PRED_TTC_SCALED_WIDE_4",
          "WORK.__MTF_PD_PRED_TTC_SCALED_WIDE_4",
          "WORK.__MTF_PD_PRED_TTC_SCALED_WIDE_5",
          "WORK.__MTF_PD_PRED_TTC_SCALED_WIDE_5",
          "WORK.__MTF_PD_PRED_TTC_SCALED_WIDE_2",
          "WORK.__MTF_PD_PRED_TTC_OUT_TMP",
          "No Input",
          "WORK.'SASTMP-000000415'",
          "No Input",
          "WORK.'SASTMP-000000417'",
          "WORK.__MTF_PD_PRED_TTC_SCALED_WIDE_3",
          "WORK.__MTF_PD_PRED_TTC_OUT_TMP",
          "No Input",
          "WORK.'SASTMP-000000422'",
          "No Input",
          "WORK.'SASTMP-000000424'",
          "WORK.__MTF_PD_PRED_TTC_SCALED_WIDE_4",
          "WORK.__MTF_PD_PRED_TTC_OUT_TMP",
          "No Input",
          "WORK.'SASTMP-000000429'",
          "No Input",
          "WORK.'SASTMP-000000431'",
          "WORK.__MTF_PD_PRED_TTC_SCALED_WIDE_5",
          "WORK.__MTF_PD_PRED_TTC_OUT_TMP",
          "No Input",
          "WORK.'SASTMP-000000436'",
          "No Input",
          "WORK.'SASTMP-000000438'",
          "WORK.__MTF_PD_PRED_TTC_CUM",
          "WORK.ZFMMEM",
          "WORK.__MTF_PD_PIT_MULTIYEAR_TTC_PD",
          "WORK.__MTF_PD_PRED_PIC",
          "No Input",
          "WORK.__MTF_PIT_PITPD_VERSION",
          "No Output",
          "WORK.__MTF_PIT_PIC_UNIQUE",
          "WORK.__MTF_PIT_PIC_UNIQUE",
          "WORK.__MTF_PIT_COUNTRY_DATES",
          "WORK.'SASTMP-000000451'",
          "WORK.__MTF_PIT_COUNTRY_DATES_MULTI",
          "WORK.__MTF_PIT_COUNTRY_PIC_MULTI",
          "WORK.__MTF_PIT_COUNTRY_PIC_MULTI_RANK",
          "WORK.'SASTMP-000000458'",
          "WORK.__MTF_PIT_ONEYEAR_PDS",
          "WORK.__MTF_PIT_ONEYEAR_PDS",
          "WORK.__MTF_PIT_MULTI_PDS",
          "WORK.__MTF_PIT_MULTI_PDS",
          "WORK.__MTF_PD_PIT_ONEYEAR_PIT_PD_1",
          "WORK.'SASTMP-000000462'",
          "No Output",
          "WORK.__MTF_PIT_MULTIYEAR_ROW_INFO",
          "WORK.__MTF_PD_PIT_MULTIYEAR_PIT_PD_1",
          "No Input",
          "WORK.'SASTMP-000000469'",
          "No Input",
          "WORK.__MTF_PIT_PITPD_VERSION",
          "No Output",
          "WORK.__MTF_PIT_PIC_UNIQUE",
          "WORK.__MTF_PIT_PIC_UNIQUE",
          "WORK.__MTF_PIT_COUNTRY_DATES",
          "WORK.'SASTMP-000000478'",
          "WORK.__MTF_PIT_COUNTRY_DATES_MULTI",
          "WORK.__MTF_PIT_COUNTRY_PIC_MULTI",
          "WORK.__MTF_PIT_COUNTRY_PIC_MULTI_RANK",
          "WORK.'SASTMP-000000485'",
          "WORK.__MTF_PIT_ONEYEAR_PDS",
          "WORK.__MTF_PIT_ONEYEAR_PDS",
          "WORK.__MTF_PIT_MULTI_PDS",
          "WORK.__MTF_PIT_MULTI_PDS",
          "WORK.__MTF_PD_PIT_ONEYEAR_PIT_PD_0",
          "WORK.'SASTMP-000000489'",
          "No Output",
          "WORK.__MTF_PIT_MULTIYEAR_ROW_INFO",
          "WORK.__MTF_PD_PIT_MULTIYEAR_PIT_PD_0",
          "No Input",
          "WORK.'SASTMP-000000496'",
          "WORK.__MTF_PD_PIT_MULTIYEAR_PIT_PD",
          "WORK.__MTF_PD_PIT_MULTIYEAR_PIT_PD_20",
          "WORK.__MTF_PD_PIT_MULTIYEAR_TTC_PD_20",
          "WORK.__MTF_PD_PIT_MULTIYEAR_BOTH_PD",
          "WORK.'SASTMP-000000502'",
          "No Input",
          "WORK.'SASTMP-000000504'",
          "No Input",
          "WORK.__MTF_PD_JOIN_VERSION",
          "No Output",
          "WORK.__MTF_PD_PIT_MARGINAL_BOTH_PD",
          "WORK.__MTF_PD_PIT_MARGINAL_BOTH_PD",
          "WORK.__MTF_PD_PIT_MULTIYEAR_PRED",
          "WORK.__MTF_PD_JOIN_MULTIYEAR_PRED2",
          "WORK.__MTF_PD_JOIN_MULTIYEAR_PRED_STD",
          "WORK.__MTF_PD_JOIN_MULTIYEAR_PRED_GRP",
          "WORK.__MTF_PD_PIT_MULTIYEAR_BOTH_GRP",
          "WORK.__MTF_PD_JOIN_MULTIYEAR_CI",
          "WORK.__MTF_PD_PIT_MULTIYEAR_ME",
          "WORK.__MTF_PD_JOIN_MULTIYEAR_CI",
          "WORK.__MTF_PD_PIT_MULTIYEAR_ME",
          "WORK.__MTF_PD_JOIN_MULTIYEAR_CI_ME",
          "WORK.__MTF_PD_PIT_CONCLUSION",
          "No Input",
          "WORK.'SASTMP-000000526'",
          "WORK.TEST_PD_PIT_U",
          "WORK.TEST_PD_PIT",
          "WORK.TEST_PD_TTC_IN",
          "WORK.'SASTMP-000000531'",
          "WORK.'SASTMP-000000532'",
          "WORK.__MTF_PD_NON_TO_RATINGS",
          "WORK.__MTF_PD_NON_RATING_MIGRATIONS",
          "WORK.'SASTMP-000000537'",
          "WORK.__MTF_PD_NON_RATING_MIGRATIONS",
          "WORK.__MTF_PD_NON_RATING_MIG_COUNTS_1",
          "WORK.__MTF_PD_NON_MIGRATION_TEMPLATE",
          "WORK.__MTF_PD_NON_RATING_MIG_RES_1",
          "WORK.'SASTMP-000000545'",
          "WORK.__MTF_PD_NON_RATING_MIG_RES2_1",
          "WORK.__MTF_PD_NON_RATING_MIGRATIONS",
          "WORK.'SASTMP-000000550'",
          "WORK.__MTF_PD_NON_RATING_MIGRATIONS",
          "WORK.__MTF_PD_NON_RATING_MIG_COUNTS_2",
          "WORK.__MTF_PD_NON_MIGRATION_TEMPLATE",
          "WORK.__MTF_PD_NON_RATING_MIG_RES_2",
          "WORK.'SASTMP-000000558'",
          "WORK.__MTF_PD_NON_RATING_MIG_RES2_2",
          "WORK.__MTF_PD_NON_RATING_MIGRATIONS",
          "WORK.'SASTMP-000000563'",
          "WORK.__MTF_PD_NON_RATING_MIGRATIONS",
          "WORK.__MTF_PD_NON_RATING_MIG_COUNTS_3",
          "WORK.__MTF_PD_NON_MIGRATION_TEMPLATE",
          "WORK.__MTF_PD_NON_RATING_MIG_RES_3",
          "WORK.'SASTMP-000000571'",
          "WORK.__MTF_PD_NON_RATING_MIG_RES2_3",
          "WORK.__MTF_PD_NON_RATING_MIGRATIONS",
          "WORK.'SASTMP-000000576'",
          "WORK.__MTF_PD_NON_RATING_MIGRATIONS",
          "WORK.__MTF_PD_NON_RATING_MIG_COUNTS_4",
          "WORK.__MTF_PD_NON_MIGRATION_TEMPLATE",
          "WORK.__MTF_PD_NON_RATING_MIG_RES_4",
          "WORK.'SASTMP-000000584'",
          "WORK.__MTF_PD_NON_RATING_MIG_RES2_4",
          "WORK.__MTF_PD_NON_RATING_MIGRATIONS",
          "WORK.'SASTMP-000000589'",
          "WORK.__MTF_PD_NON_RATING_MIGRATIONS",
          "WORK.__MTF_PD_NON_RATING_MIG_COUNTS_5",
          "WORK.__MTF_PD_NON_MIGRATION_TEMPLATE",
          "WORK.__MTF_PD_NON_RATING_MIG_RES_5",
          "WORK.'SASTMP-000000597'",
          "WORK.__MTF_PD_NON_RATING_MIG_RES2_5",
          "WORK.__MTF_PD_NON_RATING_MIG_RES2",
          "WORK.__MTF_PD_NON_RATING_PD_TTC",
          "WORK.__MTF_PD_MARK_RATING_MIG_AVG1",
          "WORK.__MTF_PD_MARK_RATING_MIG_AVG2",
          "WORK.TEST_PD_MARK_IN",
          "WORK.__MTF_PD_NON_RATING_MIG_RES3_1",
          "WORK.'SASTMP-000000611'",
          "WORK.__MTF_PD_NON_RATING_PD_TTC_TABLE",
          "WORK.__MTF_PD_NON_ONEYEAR_PIT_PD_FULL",
          "WORK.__MTF_PD_NON_ONEYEAR_PIT_PD_DEF",
          "WORK.__MTF_PD_NON_JOINED_PDS",
          "WORK.'SASTMP-000000618'",
          "WORK.__MTF_PD_MARK_RATING_MIG_AVG1_20",
          "WORK.TEST_PD_NON_IN",
          "WORK.TEST_PD_STB_IN",
          "WORK.__MTF_PD_PIT_ODR_WIDE_DIS",
          "WORK.__MTF_PD_PIT_ODR_WIDE_TP_DIS",
          "WORK.ZFMMEM",
          "WORK.__MTF_PD_PIT_ODR_WIDE_TP_DIS",
          "WORK.__MTF_PD_PIT_ODR_LONG_DIS",
          "WORK.ZFMMEM",
          "WORK.TEST_PD_DIS_IN",
          "No Input",
          "WORK.'SASTMP-000000636'",
          "No Input",
          "WORK.'SASTMP-000000638'",
          "No Input",
          "WORK.'SASTMP-000000640'"
         ],
         "textposition": "top center",
         "type": "scatter",
         "x": [
          0,
          1,
          2,
          0,
          3,
          3,
          0,
          3,
          3,
          4,
          4,
          0,
          4,
          4,
          4,
          5,
          7,
          8,
          8,
          9,
          10,
          11,
          12,
          13,
          13,
          14,
          14,
          14,
          15,
          16,
          17,
          17,
          18,
          0,
          18,
          19,
          20,
          20,
          21,
          21,
          22,
          22,
          23,
          24,
          25,
          26,
          26,
          27,
          28,
          29,
          30,
          31,
          31,
          32,
          33,
          34,
          34,
          35,
          36,
          37,
          37,
          38,
          39,
          39,
          40,
          40,
          41,
          41,
          42,
          42,
          43,
          44,
          44,
          45,
          45,
          46,
          47,
          48,
          48,
          49,
          49,
          50,
          51,
          52,
          52,
          53,
          53,
          54,
          55,
          56,
          56,
          57,
          57,
          58,
          59,
          59,
          60,
          61,
          61,
          62,
          63,
          65,
          66,
          67,
          67,
          68,
          69,
          70,
          70,
          71,
          71,
          71,
          71,
          72,
          72,
          73,
          74,
          75,
          75,
          76,
          76,
          77,
          78,
          80,
          81,
          82,
          82,
          83,
          84,
          85,
          85,
          86,
          86,
          86,
          86,
          87,
          87,
          88,
          89,
          90,
          90,
          91,
          92,
          93,
          94,
          95,
          95,
          95,
          96,
          96,
          97,
          98,
          99,
          100,
          101,
          102,
          103,
          104,
          105,
          106,
          106,
          106,
          106,
          107,
          108,
          108,
          109,
          110,
          110,
          111,
          111,
          111,
          112,
          113,
          113,
          114,
          115,
          116,
          117,
          117,
          118,
          119,
          119,
          120,
          121,
          122,
          123,
          123,
          124,
          125,
          125,
          126,
          127,
          128,
          129,
          129,
          130,
          131,
          131,
          132,
          133,
          134,
          135,
          135,
          136,
          137,
          137,
          138,
          139,
          140,
          141,
          141,
          142,
          143,
          144,
          145,
          146,
          147,
          148,
          148,
          149,
          150,
          151,
          152,
          152,
          153,
          154,
          155,
          156,
          157,
          157,
          158,
          159,
          159,
          160,
          160,
          161,
          161,
          162,
          162,
          163
         ],
         "xaxis": "x",
         "y": [
          64,
          64,
          64,
          29,
          53,
          52,
          10,
          19,
          20,
          54,
          53,
          57,
          57,
          55,
          56,
          56,
          56,
          56,
          77,
          77,
          76,
          35,
          39,
          44,
          43,
          48,
          47,
          49,
          50,
          50,
          50,
          51,
          51,
          65,
          66,
          51,
          51,
          66,
          51,
          69,
          69,
          70,
          70,
          70,
          16,
          16,
          70,
          70,
          16,
          16,
          16,
          17,
          16,
          17,
          17,
          17,
          66,
          17,
          17,
          17,
          66,
          17,
          17,
          18,
          20,
          21,
          21,
          22,
          22,
          23,
          23,
          23,
          70,
          70,
          71,
          71,
          23,
          23,
          71,
          71,
          72,
          72,
          23,
          23,
          72,
          72,
          73,
          73,
          23,
          23,
          73,
          73,
          74,
          74,
          23,
          66,
          23,
          57,
          74,
          74,
          74,
          57,
          57,
          58,
          57,
          58,
          58,
          59,
          58,
          23,
          24,
          59,
          60,
          25,
          24,
          25,
          60,
          60,
          74,
          74,
          75,
          75,
          75,
          60,
          60,
          61,
          60,
          61,
          61,
          62,
          61,
          25,
          26,
          62,
          63,
          27,
          26,
          27,
          63,
          63,
          77,
          77,
          63,
          63,
          27,
          28,
          27,
          77,
          77,
          78,
          78,
          78,
          28,
          10,
          10,
          10,
          10,
          10,
          10,
          10,
          12,
          11,
          13,
          13,
          13,
          66,
          66,
          14,
          13,
          31,
          29,
          30,
          31,
          32,
          31,
          32,
          32,
          32,
          33,
          32,
          33,
          34,
          33,
          35,
          35,
          35,
          36,
          35,
          36,
          37,
          36,
          37,
          37,
          37,
          38,
          37,
          39,
          40,
          39,
          40,
          40,
          40,
          41,
          40,
          41,
          42,
          41,
          42,
          42,
          44,
          45,
          44,
          45,
          45,
          14,
          45,
          14,
          14,
          46,
          45,
          14,
          14,
          14,
          15,
          14,
          49,
          15,
          15,
          49,
          49,
          65,
          49,
          49,
          65,
          15,
          66,
          66,
          67,
          67,
          68,
          68
         ],
         "yaxis": "y"
        },
        {
         "hovertemplate": " %{text}",
         "marker": {
          "color": [
           0.01,
           0.01,
           2.93,
           2.93,
           2.46,
           2.46,
           0.13,
           0.49,
           0.01,
           0,
           0.01,
           0.01,
           0.01,
           0,
           0.02,
           0.02,
           0.01,
           0.18,
           0.18,
           0.45,
           0.01,
           0,
           5.48,
           5.48,
           2.15,
           2.15,
           2.15,
           0.38,
           0.07,
           0.33,
           0.33,
           2.03,
           2.03,
           0.29,
           0.29,
           0.26,
           0.26,
           0.24,
           0.24,
           0.01,
           0.01,
           0.19,
           0.86,
           0.34,
           0.34,
           0.34,
           2.98,
           0,
           0.01,
           0.01,
           0.01,
           0.01,
           0.01,
           0.01,
           0,
           1.89,
           0,
           0.01,
           0,
           0,
           0.01,
           0.01,
           0.01,
           0.01,
           0,
           0.01,
           0.01,
           0.01,
           0.01,
           0.01,
           5.43,
           4.39,
           0,
           2.38,
           0.01,
           0.01,
           0,
           5.43,
           0.01,
           4.39,
           0,
           0.01,
           0.02,
           0.01,
           0.01,
           0.01,
           0.01,
           0.03,
           0.01,
           0.01,
           0.01,
           0,
           0.01,
           0.01,
           0.01,
           0.01,
           0.01,
           0.01,
           0.01,
           0.02,
           0,
           0.01,
           0.01,
           0.01,
           0.01,
           0.01,
           0,
           0.01,
           0.01,
           0,
           0.01,
           0.01,
           0,
           0.01,
           0.01,
           0.01,
           0,
           0.01,
           0.01,
           0,
           0.01,
           0.07,
           0.01,
           0.01,
           0,
           0.01,
           0.01,
           0.04,
           3.85,
           3.85,
           0.01,
           0.02,
           0.02,
           2.92,
           1.18,
           1.18,
           0,
           0,
           0.01,
           0.05,
           0.05,
           5.43,
           0.02,
           0.04,
           0.05,
           0.05,
           21.81,
           1.58,
           0.2,
           3.85,
           3.85,
           1.43,
           4,
           0.66,
           4,
           0.12,
           0.01,
           0,
           0.01,
           0.06,
           0.06,
           4.39,
           0.02,
           2.92,
           0.06,
           0.06,
           25.71,
           1.64,
           0.2,
           1.18,
           1.18,
           1.39,
           4.23,
           0.69,
           4.23,
           3.88,
           0.17,
           1.18,
           0.43,
           0.43,
           0.34,
           0.34,
           0.34,
           0.43,
           0.43,
           0.01,
           0.29,
           0.02,
           0.01,
           0,
           4.88,
           0.86,
           0.21,
           0.44,
           0.42,
           0.42,
           0.01,
           0.01,
           1.89,
           0.05,
           0.01,
           0,
           0,
           0.01,
           0.02,
           0.02,
           0.14,
           0.01,
           0.01,
           0.01,
           0.01,
           0.33,
           0.33,
           2.03,
           2.03,
           0.29,
           0.29,
           0.26,
           0.26,
           0.24,
           0.24,
           0.09,
           2.07,
           0.02,
           0.1,
           0.1,
           0.1,
           0.1,
           0.16,
           0.16,
           0.08,
           0.06,
           0.03,
           0.06,
           0.06,
           0.06,
           0.06,
           0.16,
           0.16,
           0.06,
           0.05,
           0.02,
           0.06,
           0.06,
           0.06,
           0.06,
           0.17,
           0.16,
           0.07,
           0.04,
           0.02,
           1.55,
           1.55,
           1.55,
           1.55,
           0.16,
           0.16,
           0.05,
           1.15,
           0.02,
           0.05,
           0.05,
           0.05,
           0.05,
           0.16,
           0.16,
           0.12,
           0.08,
           0.08,
           0.03,
           0.01,
           0.01,
           0.01,
           0.03,
           0.14,
           2.87,
           2.87,
           2.87,
           2.87,
           2.87,
           2.87,
           0.14,
           0.14,
           0.03,
           0.08,
           0.34,
           0.32,
           0.21,
           0.47,
           0.04,
           0.01
          ],
          "colorbar": {
           "thickness": 15,
           "title": {
            "side": "right",
            "text": "Execution time (s)"
           },
           "xanchor": "left"
          },
          "colorscale": [
           [
            0,
            "rgb(165,0,38)"
           ],
           [
            0.1,
            "rgb(215,48,39)"
           ],
           [
            0.2,
            "rgb(244,109,67)"
           ],
           [
            0.3,
            "rgb(253,174,97)"
           ],
           [
            0.4,
            "rgb(254,224,139)"
           ],
           [
            0.5,
            "rgb(255,255,191)"
           ],
           [
            0.6,
            "rgb(217,239,139)"
           ],
           [
            0.7,
            "rgb(166,217,106)"
           ],
           [
            0.8,
            "rgb(102,189,99)"
           ],
           [
            0.9,
            "rgb(26,152,80)"
           ],
           [
            1,
            "rgb(0,104,55)"
           ]
          ],
          "reversescale": true,
          "showscale": true,
          "size": 8,
          "symbol": "hexagram"
         },
         "mode": "markers",
         "text": [
          "Task ID: 1 SubTask ID: 1<br> Input: No Input<br> Output: WORK.__MTF_PD_PIT_VERSION<br> Elapsed Time: 0.01",
          "Task ID: 2 SubTask ID: 1<br> Input: WORK.__MTF_PD_PIT_VERSION<br> Output: _null_<br> Elapsed Time: 0.01",
          "Task ID: 3 SubTask ID: 1<br> Input: INPUT.PD_VIEW<br> Output: WORK.__MTF_PD_PIT_DISTINCT_RATING1<br> Elapsed Time: 2.93",
          "Task ID: 3 SubTask ID: 1<br> Input: INPUT.PD_VIEW<br> Output: WORK.'SASTMP-000000348'<br> Elapsed Time: 2.93",
          "Task ID: 4 SubTask ID: 1<br> Input: INPUT.PD_VIEW<br> Output: WORK.__MTF_PD_PIT_DISTINCT_ZVAL1<br> Elapsed Time: 2.46",
          "Task ID: 4 SubTask ID: 1<br> Input: INPUT.PD_VIEW<br> Output: WORK.'SASTMP-000000351'<br> Elapsed Time: 2.46",
          "Task ID: 5 SubTask ID: 1<br> Input: INPUT.PD_VIEW<br> Output: _null_<br> Elapsed Time: 0.13",
          "Task ID: 7 SubTask ID: 1<br> Input: INPUT.PD_VIEW<br> Output: WORK.__MTF_PD_PIT_VIEW_INPUT<br> Elapsed Time: 0.49",
          "Task ID: 3 SubTask ID: 3<br> Input: WORK.__MTF_PD_PIT_DISTINCT_RATING1<br> Output: _null_<br> Elapsed Time: 0.01",
          "Task ID: 3 SubTask ID: 2<br> Input: INPUT.PD_RR_RATING<br> Output: WORK.__MTF_PD_PIT_DISTINCT_RATING2<br> Elapsed Time: 0.0",
          "Task ID: 25 SubTask ID: 1<br> Input: INPUT.PD_RR_RATING<br> Output: WORK.__MTF_PD_PRED_DATA_RATING_PARAMS<br> Elapsed Time: 0.01",
          "Task ID: 3 SubTask ID: 3<br> Input: WORK.__MTF_PD_PIT_DISTINCT_RATING2<br> Output: _null_<br> Elapsed Time: 0.01",
          "Task ID: 4 SubTask ID: 4<br> Input: WORK.__MTF_PD_PIT_DISTINCT_ZVAL1<br> Output: _null_<br> Elapsed Time: 0.01",
          "Task ID: 4 SubTask ID: 3<br> Input: WORK.'SASTMP-000000351'<br> Output: WORK.'SASTMP-000000351'<br> Elapsed Time: 0.0",
          "Task ID: 4 SubTask ID: 2<br> Input: INPUT.PD_Z_FACTOR<br> Output: WORK.__MTF_PD_PIT_DISTINCT_ZVAL2<br> Elapsed Time: 0.02",
          "Task ID: 61 SubTask ID: 1<br> Input: INPUT.PD_Z_FACTOR<br> Output: WORK.__MTF_PD_PRED_PIC<br> Elapsed Time: 0.02",
          "Task ID: 4 SubTask ID: 4<br> Input: WORK.__MTF_PD_PIT_DISTINCT_ZVAL2<br> Output: _null_<br> Elapsed Time: 0.01",
          "Task ID: 8 SubTask ID: 1<br> Input: WORK.__MTF_PD_PIT_VIEW_INPUT<br> Output: _null_<br> Elapsed Time: 0.18",
          "Task ID: 11 SubTask ID: 1<br> Input: WORK.__MTF_PD_PIT_VIEW_INPUT<br> Output: _null_<br> Elapsed Time: 0.18",
          "Task ID: 12 SubTask ID: 1<br> Input: WORK.__MTF_PD_PIT_VIEW_INPUT<br> Output: WORK.__MTF_PD_PIT_VIEW2<br> Elapsed Time: 0.45",
          "Task ID: 9 SubTask ID: 1<br> Input: No Input<br> Output: WORK.__MTF_PD_PIT_VERSION<br> Elapsed Time: 0.01",
          "Task ID: 10 SubTask ID: 1<br> Input: WORK.__MTF_PD_PIT_VERSION<br> Output: _null_<br> Elapsed Time: 0.0",
          "Task ID: 13 SubTask ID: 1<br> Input: WORK.__MTF_PD_PIT_VIEW2<br> Output: WORK.__MTF_PD_PIT_PROC_MULTIYEAR_DATA<br> Elapsed Time: 5.48",
          "Task ID: 13 SubTask ID: 1<br> Input: WORK.__MTF_PD_PIT_VIEW2<br> Output: WORK.SORTTMP000000000000000000001<br> Elapsed Time: 5.48",
          "Task ID: 14 SubTask ID: 1<br> Input: WORK.__MTF_PD_PIT_PROC_MULTIYEAR_DATA<br> Output: WORK.__MTF_PD_PIT_PROC_MULTIYEAR_DATA<br> Elapsed Time: 2.15",
          "Task ID: 14 SubTask ID: 1<br> Input: WORK.__MTF_PD_PIT_PROC_MULTIYEAR_DATA<br> Output: WORK.__MTF_PD_NON_MIGRATIONS_IN<br> Elapsed Time: 2.15",
          "Task ID: 14 SubTask ID: 1<br> Input: WORK.__MTF_PD_PIT_PROC_MULTIYEAR_DATA<br> Output: WORK.__MTF_PD_PIT_PROC_ONEYEAR_DATA<br> Elapsed Time: 2.15",
          "Task ID: 15 SubTask ID: 1<br> Input: WORK.__MTF_PD_PIT_PROC_MULTIYEAR_DATA<br> Output: WORK.__MTF_PD_PIT_PROC_MULTIYEAR_DATA<br> Elapsed Time: 0.38",
          "Task ID: 112 SubTask ID: 1<br> Input: WORK.__MTF_PD_NON_MIGRATIONS_IN<br> Output: WORK.__MTF_PD_NON_TO_RATINGS<br> Elapsed Time: 0.07",
          "Task ID: 113 SubTask ID: 1<br> Input: WORK.__MTF_PD_NON_MIGRATIONS_IN<br> Output: WORK.__MTF_PD_NON_RATING_MIGRATIONS<br> Elapsed Time: 0.33",
          "Task ID: 113 SubTask ID: 1<br> Input: WORK.__MTF_PD_NON_MIGRATIONS_IN<br> Output: WORK.'SASTMP-000000537'<br> Elapsed Time: 0.33",
          "Task ID: 119 SubTask ID: 1<br> Input: WORK.__MTF_PD_NON_MIGRATIONS_IN<br> Output: WORK.__MTF_PD_NON_RATING_MIGRATIONS<br> Elapsed Time: 2.03",
          "Task ID: 119 SubTask ID: 1<br> Input: WORK.__MTF_PD_NON_MIGRATIONS_IN<br> Output: WORK.'SASTMP-000000550'<br> Elapsed Time: 2.03",
          "Task ID: 125 SubTask ID: 1<br> Input: WORK.__MTF_PD_NON_MIGRATIONS_IN<br> Output: WORK.__MTF_PD_NON_RATING_MIGRATIONS<br> Elapsed Time: 0.29",
          "Task ID: 125 SubTask ID: 1<br> Input: WORK.__MTF_PD_NON_MIGRATIONS_IN<br> Output: WORK.'SASTMP-000000563'<br> Elapsed Time: 0.29",
          "Task ID: 131 SubTask ID: 1<br> Input: WORK.__MTF_PD_NON_MIGRATIONS_IN<br> Output: WORK.__MTF_PD_NON_RATING_MIGRATIONS<br> Elapsed Time: 0.26",
          "Task ID: 131 SubTask ID: 1<br> Input: WORK.__MTF_PD_NON_MIGRATIONS_IN<br> Output: WORK.'SASTMP-000000576'<br> Elapsed Time: 0.26",
          "Task ID: 137 SubTask ID: 1<br> Input: WORK.__MTF_PD_NON_MIGRATIONS_IN<br> Output: WORK.__MTF_PD_NON_RATING_MIGRATIONS<br> Elapsed Time: 0.24",
          "Task ID: 137 SubTask ID: 1<br> Input: WORK.__MTF_PD_NON_MIGRATIONS_IN<br> Output: WORK.'SASTMP-000000589'<br> Elapsed Time: 0.24",
          "Task ID: 17 SubTask ID: 1<br> Input: WORK.__MTF_PD_PIT_PROC_ONEYEAR_DATA<br> Output: WORK.'SASTMP-000000372'<br> Elapsed Time: 0.01",
          "Task ID: 17 SubTask ID: 1<br> Input: WORK.__MTF_PD_PIT_PROC_ONEYEAR_DATA<br> Output: WORK.__MTF_PD_PIT_OUTSTANDING_STATS_1<br> Elapsed Time: 0.01",
          "Task ID: 16 SubTask ID: 1<br> Input: WORK.__MTF_PD_PIT_PROC_MULTIYEAR_DATA<br> Output: WORK.__MTF_PD_PIT_ODR_WIDE<br> Elapsed Time: 0.19",
          "Task ID: 101 SubTask ID: 1<br> Input: WORK.__MTF_PD_PIT_PROC_MULTIYEAR_DATA<br> Output: WORK.__MTF_PD_PIT_MULTIYEAR_PRED<br> Elapsed Time: 0.86",
          "Task ID: 111 SubTask ID: 1<br> Input: WORK.__MTF_PD_PIT_PROC_MULTIYEAR_DATA<br> Output: WORK.TEST_PD_TTC_IN<br> Elapsed Time: 0.34",
          "Task ID: 111 SubTask ID: 1<br> Input: WORK.__MTF_PD_PIT_PROC_MULTIYEAR_DATA<br> Output: WORK.'SASTMP-000000531'<br> Elapsed Time: 0.34",
          "Task ID: 111 SubTask ID: 1<br> Input: WORK.__MTF_PD_PIT_PROC_MULTIYEAR_DATA<br> Output: WORK.'SASTMP-000000532'<br> Elapsed Time: 0.34",
          "Task ID: 156 SubTask ID: 1<br> Input: WORK.__MTF_PD_PIT_PROC_MULTIYEAR_DATA<br> Output: WORK.__MTF_PD_PIT_ODR_WIDE_DIS<br> Elapsed Time: 2.98",
          "Task ID: 18 SubTask ID: 1<br> Input: WORK.__MTF_PD_PIT_ODR_WIDE<br> Output: WORK.__MTF_PD_PIT_ODR_WIDE_TP<br> Elapsed Time: 0.0",
          "Task ID: 21 SubTask ID: 1<br> Input: WORK.__MTF_PD_PIT_OUTSTANDING_STATS_1<br> Output: WORK.__MTF_PD_PIT_MULTIYEAR_OBS_GRP<br> Elapsed Time: 0.01",
          "Task ID: 19 SubTask ID: 1<br> Input: WORK.__MTF_PD_PIT_ODR_WIDE_TP<br> Output: WORK.__MTF_PD_PIT_ODR_WIDE_TP<br> Elapsed Time: 0.01",
          "Task ID: 18 SubTask ID: 2<br> Input: WORK.ZFMMEM<br> Output: WORK.ZFMMEM<br> Elapsed Time: 0.01",
          "Task ID: 20 SubTask ID: 2<br> Input: WORK.ZFMMEM<br> Output: WORK.ZFMMEM<br> Elapsed Time: 0.01",
          "Task ID: 20 SubTask ID: 1<br> Input: WORK.__MTF_PD_PIT_ODR_WIDE_TP<br> Output: WORK.__MTF_PD_PIT_ODR_LONG<br> Elapsed Time: 0.01",
          "Task ID: 21 SubTask ID: 1<br> Input: WORK.__MTF_PD_PIT_ODR_LONG<br> Output: WORK.__MTF_PD_PIT_MULTIYEAR_OBS_GRP<br> Elapsed Time: 0.01",
          "Task ID: 34 SubTask ID: 2<br> Input: WORK.ZFMMEM<br> Output: WORK.ZFMMEM<br> Elapsed Time: 0.0",
          "Task ID: 105 SubTask ID: 1<br> Input: WORK.__MTF_PD_PIT_MULTIYEAR_OBS_GRP<br> Output: WORK.__MTF_PD_PIT_MULTIYEAR_BOTH_GRP<br> Elapsed Time: 1.89",
          "Task ID: 22 SubTask ID: 1<br> Input: No Input<br> Output: WORK.'SASTMP-000000381'<br> Elapsed Time: 0.0",
          "Task ID: 23 SubTask ID: 1<br> Input: No Input<br> Output: WORK.__MTF_PD_PRED_VERSION<br> Elapsed Time: 0.01",
          "Task ID: 24 SubTask ID: 1<br> Input: WORK.__MTF_PD_PRED_VERSION<br> Output: _null_<br> Elapsed Time: 0.0",
          "Task ID: 26 SubTask ID: 1<br> Input: WORK.__MTF_PD_PRED_DATA_RATING_PARAMS<br> Output: _null_<br> Elapsed Time: 0.0",
          "Task ID: 28 SubTask ID: 1<br> Input: WORK.__MTF_PD_PRED_DATA_RATING_PARAMS<br> Output: WORK.__MTF_PD_PRED_DATA_TTC_TMP2<br> Elapsed Time: 0.01",
          "Task ID: 30 SubTask ID: 1<br> Input: WORK.__MTF_PD_PRED_DATA_RATING_PARAMS<br> Output: WORK.__MTF_PD_PRED_DATA_TTC_TMP3<br> Elapsed Time: 0.01",
          "Task ID: 27 SubTask ID: 1<br> Input: No Input<br> Output: WORK.__MTF_PD_PRED_DATA_TTC_TMP1<br> Elapsed Time: 0.01",
          "Task ID: 28 SubTask ID: 1<br> Input: WORK.__MTF_PD_PRED_DATA_TTC_TMP1<br> Output: WORK.__MTF_PD_PRED_DATA_TTC_TMP2<br> Elapsed Time: 0.01",
          "Task ID: 29 SubTask ID: 1<br> Input: WORK.__MTF_PD_PRED_DATA_TTC_TMP2<br> Output: _null_<br> Elapsed Time: 0.0",
          "Task ID: 30 SubTask ID: 1<br> Input: WORK.__MTF_PD_PRED_DATA_TTC_TMP2<br> Output: WORK.__MTF_PD_PRED_DATA_TTC_TMP3<br> Elapsed Time: 0.01",
          "Task ID: 31 SubTask ID: 1<br> Input: WORK.__MTF_PD_PRED_DATA_TTC_TMP3<br> Output: WORK.__MTF_PD_PRED_DATA_NONNULL<br> Elapsed Time: 0.01",
          "Task ID: 31 SubTask ID: 1<br> Input: WORK.__MTF_PD_PRED_DATA_TTC_TMP3<br> Output: WORK.__MTF_PD_PRED_DATA_IRB_OLD<br> Elapsed Time: 0.01",
          "Task ID: 32 SubTask ID: 1<br> Input: WORK.__MTF_PD_PRED_DATA_NONNULL<br> Output: WORK.__MTF_PD_PRED_DATA_ASSET_CORR<br> Elapsed Time: 0.01",
          "Task ID: 33 SubTask ID: 1<br> Input: WORK.__MTF_PD_PRED_DATA_NONNULL<br> Output: WORK.__MTF_PD_PRED_TTC_SCALED<br> Elapsed Time: 0.01",
          "Task ID: 71 SubTask ID: 1<br> Input: WORK.__MTF_PD_PRED_DATA_ASSET_CORR<br> Output: WORK.__MTF_PIT_ONEYEAR_PDS<br> Elapsed Time: 5.43",
          "Task ID: 86 SubTask ID: 1<br> Input: WORK.__MTF_PD_PRED_DATA_ASSET_CORR<br> Output: WORK.__MTF_PIT_ONEYEAR_PDS<br> Elapsed Time: 4.39",
          "Task ID: 34 SubTask ID: 1<br> Input: WORK.__MTF_PD_PRED_TTC_SCALED<br> Output: WORK.__MTF_PD_PRED_TTC_SCALED_T<br> Elapsed Time: 0.0",
          "Task ID: 35 SubTask ID: 1<br> Input: WORK.__MTF_PD_PRED_TTC_SCALED_T<br> Output: WORK.__MTF_PD_PRED_TTC_SCALED_LONG<br> Elapsed Time: 2.38",
          "Task ID: 37 SubTask ID: 2<br> Input: WORK.ZFMMEM<br> Output: WORK.ZFMMEM<br> Elapsed Time: 0.01",
          "Task ID: 36 SubTask ID: 1<br> Input: WORK.__MTF_PD_PRED_TTC_SCALED_LONG<br> Output: WORK.__MTF_PD_PRED_RISK_RATING_NAMES<br> Elapsed Time: 0.01",
          "Task ID: 37 SubTask ID: 1<br> Input: WORK.__MTF_PD_PRED_TTC_SCALED_LONG<br> Output: WORK.__MTF_PD_PRED_TTC_SCALED_WIDE_1<br> Elapsed Time: 0.0",
          "Task ID: 71 SubTask ID: 1<br> Input: WORK.__MTF_PD_PRED_TTC_SCALED_LONG<br> Output: WORK.__MTF_PIT_ONEYEAR_PDS<br> Elapsed Time: 5.43",
          "Task ID: 73 SubTask ID: 1<br> Input: WORK.__MTF_PD_PRED_TTC_SCALED_LONG<br> Output: _null_<br> Elapsed Time: 0.01",
          "Task ID: 86 SubTask ID: 1<br> Input: WORK.__MTF_PD_PRED_TTC_SCALED_LONG<br> Output: WORK.__MTF_PIT_ONEYEAR_PDS<br> Elapsed Time: 4.39",
          "Task ID: 88 SubTask ID: 1<br> Input: WORK.__MTF_PD_PRED_TTC_SCALED_LONG<br> Output: _null_<br> Elapsed Time: 0.0",
          "Task ID: 38 SubTask ID: 1<br> Input: WORK.__MTF_PD_PRED_RISK_RATING_NAMES<br> Output: WORK.__MTF_PD_PRED_TTC_OUT<br> Elapsed Time: 0.01",
          "Task ID: 43 SubTask ID: 1<br> Input: WORK.__MTF_PD_PRED_RISK_RATING_NAMES<br> Output: WORK.__MTF_PD_PRED_TTC_SCALED_WIDE_2<br> Elapsed Time: 0.02",
          "Task ID: 47 SubTask ID: 1<br> Input: WORK.__MTF_PD_PRED_RISK_RATING_NAMES<br> Output: WORK.__MTF_PD_PRED_TTC_SCALED_WIDE_3<br> Elapsed Time: 0.01",
          "Task ID: 51 SubTask ID: 1<br> Input: WORK.__MTF_PD_PRED_RISK_RATING_NAMES<br> Output: WORK.__MTF_PD_PRED_TTC_SCALED_WIDE_4<br> Elapsed Time: 0.01",
          "Task ID: 55 SubTask ID: 1<br> Input: WORK.__MTF_PD_PRED_RISK_RATING_NAMES<br> Output: WORK.__MTF_PD_PRED_TTC_SCALED_WIDE_5<br> Elapsed Time: 0.01",
          "Task ID: 38 SubTask ID: 1<br> Input: WORK.__MTF_PD_PRED_TTC_SCALED_WIDE_1<br> Output: WORK.__MTF_PD_PRED_TTC_OUT<br> Elapsed Time: 0.01",
          "Task ID: 39 SubTask ID: 1<br> Input: WORK.__MTF_PD_PRED_TTC_SCALED_WIDE_1<br> Output: WORK.__MTF_PD_PRED_TTC_SCALED_WIDE_2<br> Elapsed Time: 0.03",
          "Task ID: 40 SubTask ID: 1<br> Input: WORK.__MTF_PD_PRED_TTC_SCALED_WIDE_1<br> Output: WORK.__MTF_PD_PRED_TTC_SCALED_WIDE_3<br> Elapsed Time: 0.01",
          "Task ID: 41 SubTask ID: 1<br> Input: WORK.__MTF_PD_PRED_TTC_SCALED_WIDE_1<br> Output: WORK.__MTF_PD_PRED_TTC_SCALED_WIDE_4<br> Elapsed Time: 0.01",
          "Task ID: 42 SubTask ID: 1<br> Input: WORK.__MTF_PD_PRED_TTC_SCALED_WIDE_1<br> Output: WORK.__MTF_PD_PRED_TTC_SCALED_WIDE_5<br> Elapsed Time: 0.01",
          "Task ID: 59 SubTask ID: 2<br> Input: WORK.ZFMMEM<br> Output: WORK.ZFMMEM<br> Elapsed Time: 0.0",
          "Task ID: 44 SubTask ID: 1<br> Input: WORK.__MTF_PD_PRED_TTC_OUT<br> Output: WORK.__MTF_PD_PRED_TTC_OUT_TMP<br> Elapsed Time: 0.01",
          "Task ID: 48 SubTask ID: 1<br> Input: WORK.__MTF_PD_PRED_TTC_OUT<br> Output: WORK.__MTF_PD_PRED_TTC_OUT_TMP<br> Elapsed Time: 0.01",
          "Task ID: 52 SubTask ID: 1<br> Input: WORK.__MTF_PD_PRED_TTC_OUT<br> Output: WORK.__MTF_PD_PRED_TTC_OUT_TMP<br> Elapsed Time: 0.01",
          "Task ID: 56 SubTask ID: 1<br> Input: WORK.__MTF_PD_PRED_TTC_OUT<br> Output: WORK.__MTF_PD_PRED_TTC_OUT_TMP<br> Elapsed Time: 0.01",
          "Task ID: 59 SubTask ID: 1<br> Input: WORK.__MTF_PD_PRED_TTC_OUT<br> Output: WORK.__MTF_PD_PRED_TTC_CUM<br> Elapsed Time: 0.01",
          "Task ID: 39 SubTask ID: 2<br> Input: WORK.__MTF_PD_PRED_TTC_SCALED_WIDE_2<br> Output: WORK.__MTF_PD_PRED_TTC_SCALED_WIDE_2<br> Elapsed Time: 0.01",
          "Task ID: 40 SubTask ID: 1<br> Input: WORK.__MTF_PD_PRED_TTC_SCALED_WIDE_2<br> Output: WORK.__MTF_PD_PRED_TTC_SCALED_WIDE_3<br> Elapsed Time: 0.01",
          "Task ID: 43 SubTask ID: 1<br> Input: WORK.__MTF_PD_PRED_TTC_SCALED_WIDE_2<br> Output: WORK.__MTF_PD_PRED_TTC_SCALED_WIDE_2<br> Elapsed Time: 0.02",
          "Task ID: 40 SubTask ID: 2<br> Input: WORK.__MTF_PD_PRED_TTC_SCALED_WIDE_3<br> Output: WORK.__MTF_PD_PRED_TTC_SCALED_WIDE_3<br> Elapsed Time: 0.0",
          "Task ID: 41 SubTask ID: 1<br> Input: WORK.__MTF_PD_PRED_TTC_SCALED_WIDE_3<br> Output: WORK.__MTF_PD_PRED_TTC_SCALED_WIDE_4<br> Elapsed Time: 0.01",
          "Task ID: 47 SubTask ID: 1<br> Input: WORK.__MTF_PD_PRED_TTC_SCALED_WIDE_3<br> Output: WORK.__MTF_PD_PRED_TTC_SCALED_WIDE_3<br> Elapsed Time: 0.01",
          "Task ID: 41 SubTask ID: 2<br> Input: WORK.__MTF_PD_PRED_TTC_SCALED_WIDE_4<br> Output: WORK.__MTF_PD_PRED_TTC_SCALED_WIDE_4<br> Elapsed Time: 0.01",
          "Task ID: 42 SubTask ID: 1<br> Input: WORK.__MTF_PD_PRED_TTC_SCALED_WIDE_4<br> Output: WORK.__MTF_PD_PRED_TTC_SCALED_WIDE_5<br> Elapsed Time: 0.01",
          "Task ID: 51 SubTask ID: 1<br> Input: WORK.__MTF_PD_PRED_TTC_SCALED_WIDE_4<br> Output: WORK.__MTF_PD_PRED_TTC_SCALED_WIDE_4<br> Elapsed Time: 0.01",
          "Task ID: 42 SubTask ID: 2<br> Input: WORK.__MTF_PD_PRED_TTC_SCALED_WIDE_5<br> Output: WORK.__MTF_PD_PRED_TTC_SCALED_WIDE_5<br> Elapsed Time: 0.0",
          "Task ID: 55 SubTask ID: 1<br> Input: WORK.__MTF_PD_PRED_TTC_SCALED_WIDE_5<br> Output: WORK.__MTF_PD_PRED_TTC_SCALED_WIDE_5<br> Elapsed Time: 0.01",
          "Task ID: 44 SubTask ID: 1<br> Input: WORK.__MTF_PD_PRED_TTC_SCALED_WIDE_2<br> Output: WORK.__MTF_PD_PRED_TTC_OUT_TMP<br> Elapsed Time: 0.01",
          "Task ID: 45 SubTask ID: 1<br> Input: No Input<br> Output: WORK.'SASTMP-000000415'<br> Elapsed Time: 0.0",
          "Task ID: 46 SubTask ID: 1<br> Input: No Input<br> Output: WORK.'SASTMP-000000417'<br> Elapsed Time: 0.01",
          "Task ID: 48 SubTask ID: 1<br> Input: WORK.__MTF_PD_PRED_TTC_SCALED_WIDE_3<br> Output: WORK.__MTF_PD_PRED_TTC_OUT_TMP<br> Elapsed Time: 0.01",
          "Task ID: 49 SubTask ID: 1<br> Input: No Input<br> Output: WORK.'SASTMP-000000422'<br> Elapsed Time: 0.0",
          "Task ID: 50 SubTask ID: 1<br> Input: No Input<br> Output: WORK.'SASTMP-000000424'<br> Elapsed Time: 0.01",
          "Task ID: 52 SubTask ID: 1<br> Input: WORK.__MTF_PD_PRED_TTC_SCALED_WIDE_4<br> Output: WORK.__MTF_PD_PRED_TTC_OUT_TMP<br> Elapsed Time: 0.01",
          "Task ID: 53 SubTask ID: 1<br> Input: No Input<br> Output: WORK.'SASTMP-000000429'<br> Elapsed Time: 0.01",
          "Task ID: 54 SubTask ID: 1<br> Input: No Input<br> Output: WORK.'SASTMP-000000431'<br> Elapsed Time: 0.0",
          "Task ID: 56 SubTask ID: 1<br> Input: WORK.__MTF_PD_PRED_TTC_SCALED_WIDE_5<br> Output: WORK.__MTF_PD_PRED_TTC_OUT_TMP<br> Elapsed Time: 0.01",
          "Task ID: 57 SubTask ID: 1<br> Input: No Input<br> Output: WORK.'SASTMP-000000436'<br> Elapsed Time: 0.01",
          "Task ID: 58 SubTask ID: 1<br> Input: No Input<br> Output: WORK.'SASTMP-000000438'<br> Elapsed Time: 0.0",
          "Task ID: 60 SubTask ID: 1<br> Input: WORK.__MTF_PD_PRED_TTC_CUM<br> Output: WORK.__MTF_PD_PIT_MULTIYEAR_TTC_PD<br> Elapsed Time: 0.01",
          "Task ID: 157 SubTask ID: 2<br> Input: WORK.ZFMMEM<br> Output: WORK.ZFMMEM<br> Elapsed Time: 0.07",
          "Task ID: 94 SubTask ID: 1<br> Input: WORK.__MTF_PD_PIT_MULTIYEAR_TTC_PD<br> Output: WORK.__MTF_PD_PIT_MULTIYEAR_TTC_PD_20<br> Elapsed Time: 0.01",
          "Task ID: 146 SubTask ID: 1<br> Input: WORK.__MTF_PD_PIT_MULTIYEAR_TTC_PD<br> Output: WORK.__MTF_PD_MARK_RATING_MIG_AVG2<br> Elapsed Time: 0.01",
          "Task ID: 65 SubTask ID: 1<br> Input: WORK.__MTF_PD_PRED_PIC<br> Output: WORK.__MTF_PIT_PIC_UNIQUE<br> Elapsed Time: 0.0",
          "Task ID: 67 SubTask ID: 1<br> Input: WORK.__MTF_PD_PRED_PIC<br> Output: WORK.__MTF_PIT_COUNTRY_DATES<br> Elapsed Time: 0.01",
          "Task ID: 67 SubTask ID: 1<br> Input: WORK.__MTF_PD_PRED_PIC<br> Output: WORK.'SASTMP-000000451'<br> Elapsed Time: 0.01",
          "Task ID: 69 SubTask ID: 1<br> Input: WORK.__MTF_PD_PRED_PIC<br> Output: WORK.__MTF_PIT_COUNTRY_PIC_MULTI<br> Elapsed Time: 0.04",
          "Task ID: 72 SubTask ID: 1<br> Input: WORK.__MTF_PD_PRED_PIC<br> Output: WORK.__MTF_PD_PIT_ONEYEAR_PIT_PD_1<br> Elapsed Time: 3.85",
          "Task ID: 72 SubTask ID: 1<br> Input: WORK.__MTF_PD_PRED_PIC<br> Output: WORK.'SASTMP-000000462'<br> Elapsed Time: 3.85",
          "Task ID: 80 SubTask ID: 1<br> Input: WORK.__MTF_PD_PRED_PIC<br> Output: WORK.__MTF_PIT_PIC_UNIQUE<br> Elapsed Time: 0.01",
          "Task ID: 82 SubTask ID: 1<br> Input: WORK.__MTF_PD_PRED_PIC<br> Output: WORK.__MTF_PIT_COUNTRY_DATES<br> Elapsed Time: 0.02",
          "Task ID: 82 SubTask ID: 1<br> Input: WORK.__MTF_PD_PRED_PIC<br> Output: WORK.'SASTMP-000000478'<br> Elapsed Time: 0.02",
          "Task ID: 84 SubTask ID: 1<br> Input: WORK.__MTF_PD_PRED_PIC<br> Output: WORK.__MTF_PIT_COUNTRY_PIC_MULTI<br> Elapsed Time: 2.92",
          "Task ID: 87 SubTask ID: 1<br> Input: WORK.__MTF_PD_PRED_PIC<br> Output: WORK.__MTF_PD_PIT_ONEYEAR_PIT_PD_0<br> Elapsed Time: 1.18",
          "Task ID: 87 SubTask ID: 1<br> Input: WORK.__MTF_PD_PRED_PIC<br> Output: WORK.'SASTMP-000000489'<br> Elapsed Time: 1.18",
          "Task ID: 62 SubTask ID: 1<br> Input: No Input<br> Output: WORK.__MTF_PIT_PITPD_VERSION<br> Elapsed Time: 0.0",
          "Task ID: 63 SubTask ID: 1<br> Input: WORK.__MTF_PIT_PITPD_VERSION<br> Output: _null_<br> Elapsed Time: 0.0",
          "Task ID: 66 SubTask ID: 1<br> Input: WORK.__MTF_PIT_PIC_UNIQUE<br> Output: WORK.__MTF_PIT_PIC_UNIQUE<br> Elapsed Time: 0.01",
          "Task ID: 70 SubTask ID: 1<br> Input: WORK.__MTF_PIT_PIC_UNIQUE<br> Output: WORK.__MTF_PIT_COUNTRY_PIC_MULTI_RANK<br> Elapsed Time: 0.05",
          "Task ID: 70 SubTask ID: 1<br> Input: WORK.__MTF_PIT_PIC_UNIQUE<br> Output: WORK.'SASTMP-000000458'<br> Elapsed Time: 0.05",
          "Task ID: 71 SubTask ID: 1<br> Input: WORK.__MTF_PIT_PIC_UNIQUE<br> Output: WORK.__MTF_PIT_ONEYEAR_PDS<br> Elapsed Time: 5.43",
          "Task ID: 68 SubTask ID: 1<br> Input: WORK.__MTF_PIT_COUNTRY_DATES<br> Output: WORK.__MTF_PIT_COUNTRY_DATES_MULTI<br> Elapsed Time: 0.02",
          "Task ID: 69 SubTask ID: 1<br> Input: WORK.__MTF_PIT_COUNTRY_DATES_MULTI<br> Output: WORK.__MTF_PIT_COUNTRY_PIC_MULTI<br> Elapsed Time: 0.04",
          "Task ID: 70 SubTask ID: 1<br> Input: WORK.__MTF_PIT_COUNTRY_PIC_MULTI<br> Output: WORK.__MTF_PIT_COUNTRY_PIC_MULTI_RANK<br> Elapsed Time: 0.05",
          "Task ID: 70 SubTask ID: 1<br> Input: WORK.__MTF_PIT_COUNTRY_PIC_MULTI<br> Output: WORK.'SASTMP-000000458'<br> Elapsed Time: 0.05",
          "Task ID: 71 SubTask ID: 3<br> Input: WORK.__MTF_PIT_COUNTRY_PIC_MULTI_RANK<br> Output: WORK.__MTF_PIT_MULTI_PDS<br> Elapsed Time: 21.81",
          "Task ID: 74 SubTask ID: 1<br> Input: WORK.__MTF_PIT_COUNTRY_PIC_MULTI_RANK<br> Output: WORK.__MTF_PIT_MULTIYEAR_ROW_INFO<br> Elapsed Time: 1.58",
          "Task ID: 71 SubTask ID: 2<br> Input: WORK.__MTF_PIT_ONEYEAR_PDS<br> Output: WORK.__MTF_PIT_ONEYEAR_PDS<br> Elapsed Time: 0.2",
          "Task ID: 72 SubTask ID: 1<br> Input: WORK.__MTF_PIT_ONEYEAR_PDS<br> Output: WORK.__MTF_PD_PIT_ONEYEAR_PIT_PD_1<br> Elapsed Time: 3.85",
          "Task ID: 72 SubTask ID: 1<br> Input: WORK.__MTF_PIT_ONEYEAR_PDS<br> Output: WORK.'SASTMP-000000462'<br> Elapsed Time: 3.85",
          "Task ID: 71 SubTask ID: 4<br> Input: WORK.__MTF_PIT_MULTI_PDS<br> Output: WORK.__MTF_PIT_MULTI_PDS<br> Elapsed Time: 1.43",
          "Task ID: 75 SubTask ID: 1<br> Input: WORK.__MTF_PIT_MULTI_PDS<br> Output: WORK.__MTF_PD_PIT_MULTIYEAR_PIT_PD_1<br> Elapsed Time: 4.0",
          "Task ID: 150 SubTask ID: 1<br> Input: WORK.__MTF_PD_PIT_ONEYEAR_PIT_PD_1<br> Output: WORK.__MTF_PD_NON_ONEYEAR_PIT_PD_FULL<br> Elapsed Time: 0.66",
          "Task ID: 75 SubTask ID: 1<br> Input: WORK.__MTF_PIT_MULTIYEAR_ROW_INFO<br> Output: WORK.__MTF_PD_PIT_MULTIYEAR_PIT_PD_1<br> Elapsed Time: 4.0",
          "Task ID: 76 SubTask ID: 1<br> Input: No Input<br> Output: WORK.'SASTMP-000000469'<br> Elapsed Time: 0.12",
          "Task ID: 77 SubTask ID: 1<br> Input: No Input<br> Output: WORK.__MTF_PIT_PITPD_VERSION<br> Elapsed Time: 0.01",
          "Task ID: 78 SubTask ID: 1<br> Input: WORK.__MTF_PIT_PITPD_VERSION<br> Output: _null_<br> Elapsed Time: 0.0",
          "Task ID: 81 SubTask ID: 1<br> Input: WORK.__MTF_PIT_PIC_UNIQUE<br> Output: WORK.__MTF_PIT_PIC_UNIQUE<br> Elapsed Time: 0.01",
          "Task ID: 85 SubTask ID: 1<br> Input: WORK.__MTF_PIT_PIC_UNIQUE<br> Output: WORK.__MTF_PIT_COUNTRY_PIC_MULTI_RANK<br> Elapsed Time: 0.06",
          "Task ID: 85 SubTask ID: 1<br> Input: WORK.__MTF_PIT_PIC_UNIQUE<br> Output: WORK.'SASTMP-000000485'<br> Elapsed Time: 0.06",
          "Task ID: 86 SubTask ID: 1<br> Input: WORK.__MTF_PIT_PIC_UNIQUE<br> Output: WORK.__MTF_PIT_ONEYEAR_PDS<br> Elapsed Time: 4.39",
          "Task ID: 83 SubTask ID: 1<br> Input: WORK.__MTF_PIT_COUNTRY_DATES<br> Output: WORK.__MTF_PIT_COUNTRY_DATES_MULTI<br> Elapsed Time: 0.02",
          "Task ID: 84 SubTask ID: 1<br> Input: WORK.__MTF_PIT_COUNTRY_DATES_MULTI<br> Output: WORK.__MTF_PIT_COUNTRY_PIC_MULTI<br> Elapsed Time: 2.92",
          "Task ID: 85 SubTask ID: 1<br> Input: WORK.__MTF_PIT_COUNTRY_PIC_MULTI<br> Output: WORK.__MTF_PIT_COUNTRY_PIC_MULTI_RANK<br> Elapsed Time: 0.06",
          "Task ID: 85 SubTask ID: 1<br> Input: WORK.__MTF_PIT_COUNTRY_PIC_MULTI<br> Output: WORK.'SASTMP-000000485'<br> Elapsed Time: 0.06",
          "Task ID: 86 SubTask ID: 3<br> Input: WORK.__MTF_PIT_COUNTRY_PIC_MULTI_RANK<br> Output: WORK.__MTF_PIT_MULTI_PDS<br> Elapsed Time: 25.71",
          "Task ID: 89 SubTask ID: 1<br> Input: WORK.__MTF_PIT_COUNTRY_PIC_MULTI_RANK<br> Output: WORK.__MTF_PIT_MULTIYEAR_ROW_INFO<br> Elapsed Time: 1.64",
          "Task ID: 86 SubTask ID: 2<br> Input: WORK.__MTF_PIT_ONEYEAR_PDS<br> Output: WORK.__MTF_PIT_ONEYEAR_PDS<br> Elapsed Time: 0.2",
          "Task ID: 87 SubTask ID: 1<br> Input: WORK.__MTF_PIT_ONEYEAR_PDS<br> Output: WORK.__MTF_PD_PIT_ONEYEAR_PIT_PD_0<br> Elapsed Time: 1.18",
          "Task ID: 87 SubTask ID: 1<br> Input: WORK.__MTF_PIT_ONEYEAR_PDS<br> Output: WORK.'SASTMP-000000489'<br> Elapsed Time: 1.18",
          "Task ID: 86 SubTask ID: 4<br> Input: WORK.__MTF_PIT_MULTI_PDS<br> Output: WORK.__MTF_PIT_MULTI_PDS<br> Elapsed Time: 1.39",
          "Task ID: 90 SubTask ID: 1<br> Input: WORK.__MTF_PIT_MULTI_PDS<br> Output: WORK.__MTF_PD_PIT_MULTIYEAR_PIT_PD_0<br> Elapsed Time: 4.23",
          "Task ID: 151 SubTask ID: 1<br> Input: WORK.__MTF_PD_PIT_ONEYEAR_PIT_PD_0<br> Output: WORK.__MTF_PD_NON_ONEYEAR_PIT_PD_DEF<br> Elapsed Time: 0.69",
          "Task ID: 90 SubTask ID: 1<br> Input: WORK.__MTF_PIT_MULTIYEAR_ROW_INFO<br> Output: WORK.__MTF_PD_PIT_MULTIYEAR_PIT_PD_0<br> Elapsed Time: 4.23",
          "Task ID: 92 SubTask ID: 1<br> Input: WORK.__MTF_PD_PIT_MULTIYEAR_PIT_PD_0<br> Output: WORK.__MTF_PD_PIT_MULTIYEAR_PIT_PD<br> Elapsed Time: 3.88",
          "Task ID: 91 SubTask ID: 1<br> Input: No Input<br> Output: WORK.'SASTMP-000000496'<br> Elapsed Time: 0.17",
          "Task ID: 93 SubTask ID: 1<br> Input: WORK.__MTF_PD_PIT_MULTIYEAR_PIT_PD<br> Output: WORK.__MTF_PD_PIT_MULTIYEAR_PIT_PD_20<br> Elapsed Time: 1.18",
          "Task ID: 95 SubTask ID: 1<br> Input: WORK.__MTF_PD_PIT_MULTIYEAR_PIT_PD_20<br> Output: WORK.__MTF_PD_PIT_MULTIYEAR_BOTH_PD<br> Elapsed Time: 0.43",
          "Task ID: 95 SubTask ID: 1<br> Input: WORK.__MTF_PD_PIT_MULTIYEAR_PIT_PD_20<br> Output: WORK.'SASTMP-000000502'<br> Elapsed Time: 0.43",
          "Task ID: 111 SubTask ID: 1<br> Input: WORK.__MTF_PD_PIT_MULTIYEAR_PIT_PD_20<br> Output: WORK.TEST_PD_TTC_IN<br> Elapsed Time: 0.34",
          "Task ID: 111 SubTask ID: 1<br> Input: WORK.__MTF_PD_PIT_MULTIYEAR_PIT_PD_20<br> Output: WORK.'SASTMP-000000531'<br> Elapsed Time: 0.34",
          "Task ID: 111 SubTask ID: 1<br> Input: WORK.__MTF_PD_PIT_MULTIYEAR_PIT_PD_20<br> Output: WORK.'SASTMP-000000532'<br> Elapsed Time: 0.34",
          "Task ID: 95 SubTask ID: 1<br> Input: WORK.__MTF_PD_PIT_MULTIYEAR_TTC_PD_20<br> Output: WORK.__MTF_PD_PIT_MULTIYEAR_BOTH_PD<br> Elapsed Time: 0.43",
          "Task ID: 95 SubTask ID: 1<br> Input: WORK.__MTF_PD_PIT_MULTIYEAR_TTC_PD_20<br> Output: WORK.'SASTMP-000000502'<br> Elapsed Time: 0.43",
          "Task ID: 144 SubTask ID: 1<br> Input: WORK.__MTF_PD_PIT_MULTIYEAR_TTC_PD_20<br> Output: WORK.__MTF_PD_NON_RATING_PD_TTC<br> Elapsed Time: 0.01",
          "Task ID: 99 SubTask ID: 1<br> Input: WORK.__MTF_PD_PIT_MULTIYEAR_BOTH_PD<br> Output: WORK.__MTF_PD_PIT_MARGINAL_BOTH_PD<br> Elapsed Time: 0.29",
          "Task ID: 96 SubTask ID: 1<br> Input: No Input<br> Output: WORK.'SASTMP-000000504'<br> Elapsed Time: 0.02",
          "Task ID: 97 SubTask ID: 1<br> Input: No Input<br> Output: WORK.__MTF_PD_JOIN_VERSION<br> Elapsed Time: 0.01",
          "Task ID: 98 SubTask ID: 1<br> Input: WORK.__MTF_PD_JOIN_VERSION<br> Output: _null_<br> Elapsed Time: 0.0",
          "Task ID: 100 SubTask ID: 1<br> Input: WORK.__MTF_PD_PIT_MARGINAL_BOTH_PD<br> Output: WORK.__MTF_PD_PIT_MARGINAL_BOTH_PD<br> Elapsed Time: 4.88",
          "Task ID: 101 SubTask ID: 1<br> Input: WORK.__MTF_PD_PIT_MARGINAL_BOTH_PD<br> Output: WORK.__MTF_PD_PIT_MULTIYEAR_PRED<br> Elapsed Time: 0.86",
          "Task ID: 160 SubTask ID: 1<br> Input: WORK.__MTF_PD_PIT_MARGINAL_BOTH_PD<br> Output: WORK.TEST_PD_DIS_IN<br> Elapsed Time: 0.21",
          "Task ID: 102 SubTask ID: 1<br> Input: WORK.__MTF_PD_PIT_MULTIYEAR_PRED<br> Output: WORK.__MTF_PD_JOIN_MULTIYEAR_PRED2<br> Elapsed Time: 0.44",
          "Task ID: 103 SubTask ID: 1<br> Input: WORK.__MTF_PD_PIT_MULTIYEAR_PRED<br> Output: WORK.__MTF_PD_JOIN_MULTIYEAR_PRED_STD<br> Elapsed Time: 0.42",
          "Task ID: 103 SubTask ID: 1<br> Input: WORK.__MTF_PD_JOIN_MULTIYEAR_PRED2<br> Output: WORK.__MTF_PD_JOIN_MULTIYEAR_PRED_STD<br> Elapsed Time: 0.42",
          "Task ID: 104 SubTask ID: 1<br> Input: WORK.__MTF_PD_JOIN_MULTIYEAR_PRED2<br> Output: WORK.__MTF_PD_JOIN_MULTIYEAR_PRED_GRP<br> Elapsed Time: 0.01",
          "Task ID: 104 SubTask ID: 1<br> Input: WORK.__MTF_PD_JOIN_MULTIYEAR_PRED_STD<br> Output: WORK.__MTF_PD_JOIN_MULTIYEAR_PRED_GRP<br> Elapsed Time: 0.01",
          "Task ID: 105 SubTask ID: 1<br> Input: WORK.__MTF_PD_JOIN_MULTIYEAR_PRED_GRP<br> Output: WORK.__MTF_PD_PIT_MULTIYEAR_BOTH_GRP<br> Elapsed Time: 1.89",
          "Task ID: 106 SubTask ID: 1<br> Input: WORK.__MTF_PD_PIT_MULTIYEAR_BOTH_GRP<br> Output: WORK.__MTF_PD_JOIN_MULTIYEAR_CI<br> Elapsed Time: 0.05",
          "Task ID: 155 SubTask ID: 1<br> Input: WORK.__MTF_PD_PIT_MULTIYEAR_BOTH_GRP<br> Output: WORK.TEST_PD_STB_IN<br> Elapsed Time: 0.01",
          "Task ID: 106 SubTask ID: 2<br> Input: WORK.__MTF_PD_JOIN_MULTIYEAR_CI<br> Output: WORK.__MTF_PD_PIT_MULTIYEAR_ME<br> Elapsed Time: 0.0",
          "Task ID: 106 SubTask ID: 2<br> Input: WORK.__MTF_PD_JOIN_MULTIYEAR_CI<br> Output: WORK.__MTF_PD_JOIN_MULTIYEAR_CI<br> Elapsed Time: 0.0",
          "Task ID: 106 SubTask ID: 3<br> Input: WORK.__MTF_PD_PIT_MULTIYEAR_ME<br> Output: WORK.__MTF_PD_PIT_MULTIYEAR_ME<br> Elapsed Time: 0.01",
          "Task ID: 107 SubTask ID: 1<br> Input: WORK.__MTF_PD_JOIN_MULTIYEAR_CI<br> Output: WORK.__MTF_PD_JOIN_MULTIYEAR_CI_ME<br> Elapsed Time: 0.02",
          "Task ID: 107 SubTask ID: 1<br> Input: WORK.__MTF_PD_PIT_MULTIYEAR_ME<br> Output: WORK.__MTF_PD_JOIN_MULTIYEAR_CI_ME<br> Elapsed Time: 0.02",
          "Task ID: 154 SubTask ID: 1<br> Input: WORK.__MTF_PD_PIT_MULTIYEAR_ME<br> Output: WORK.TEST_PD_NON_IN<br> Elapsed Time: 0.14",
          "Task ID: 108 SubTask ID: 1<br> Input: WORK.__MTF_PD_JOIN_MULTIYEAR_CI_ME<br> Output: WORK.__MTF_PD_PIT_CONCLUSION<br> Elapsed Time: 0.01",
          "Task ID: 110 SubTask ID: 1<br> Input: WORK.__MTF_PD_PIT_CONCLUSION<br> Output: WORK.TEST_PD_PIT_U<br> Elapsed Time: 0.01",
          "Task ID: 110 SubTask ID: 1<br> Input: WORK.__MTF_PD_PIT_CONCLUSION<br> Output: WORK.TEST_PD_PIT<br> Elapsed Time: 0.01",
          "Task ID: 109 SubTask ID: 1<br> Input: No Input<br> Output: WORK.'SASTMP-000000526'<br> Elapsed Time: 0.01",
          "Task ID: 113 SubTask ID: 1<br> Input: WORK.__MTF_PD_NON_TO_RATINGS<br> Output: WORK.__MTF_PD_NON_RATING_MIGRATIONS<br> Elapsed Time: 0.33",
          "Task ID: 113 SubTask ID: 1<br> Input: WORK.__MTF_PD_NON_TO_RATINGS<br> Output: WORK.'SASTMP-000000537'<br> Elapsed Time: 0.33",
          "Task ID: 119 SubTask ID: 1<br> Input: WORK.__MTF_PD_NON_TO_RATINGS<br> Output: WORK.__MTF_PD_NON_RATING_MIGRATIONS<br> Elapsed Time: 2.03",
          "Task ID: 119 SubTask ID: 1<br> Input: WORK.__MTF_PD_NON_TO_RATINGS<br> Output: WORK.'SASTMP-000000550'<br> Elapsed Time: 2.03",
          "Task ID: 125 SubTask ID: 1<br> Input: WORK.__MTF_PD_NON_TO_RATINGS<br> Output: WORK.__MTF_PD_NON_RATING_MIGRATIONS<br> Elapsed Time: 0.29",
          "Task ID: 125 SubTask ID: 1<br> Input: WORK.__MTF_PD_NON_TO_RATINGS<br> Output: WORK.'SASTMP-000000563'<br> Elapsed Time: 0.29",
          "Task ID: 131 SubTask ID: 1<br> Input: WORK.__MTF_PD_NON_TO_RATINGS<br> Output: WORK.__MTF_PD_NON_RATING_MIGRATIONS<br> Elapsed Time: 0.26",
          "Task ID: 131 SubTask ID: 1<br> Input: WORK.__MTF_PD_NON_TO_RATINGS<br> Output: WORK.'SASTMP-000000576'<br> Elapsed Time: 0.26",
          "Task ID: 137 SubTask ID: 1<br> Input: WORK.__MTF_PD_NON_TO_RATINGS<br> Output: WORK.__MTF_PD_NON_RATING_MIGRATIONS<br> Elapsed Time: 0.24",
          "Task ID: 137 SubTask ID: 1<br> Input: WORK.__MTF_PD_NON_TO_RATINGS<br> Output: WORK.'SASTMP-000000589'<br> Elapsed Time: 0.24",
          "Task ID: 114 SubTask ID: 1<br> Input: WORK.__MTF_PD_NON_RATING_MIGRATIONS<br> Output: WORK.__MTF_PD_NON_RATING_MIGRATIONS<br> Elapsed Time: 0.09",
          "Task ID: 115 SubTask ID: 1<br> Input: WORK.__MTF_PD_NON_RATING_MIGRATIONS<br> Output: WORK.__MTF_PD_NON_RATING_MIG_COUNTS_1<br> Elapsed Time: 2.07",
          "Task ID: 116 SubTask ID: 1<br> Input: WORK.__MTF_PD_NON_RATING_MIG_COUNTS_1<br> Output: WORK.__MTF_PD_NON_MIGRATION_TEMPLATE<br> Elapsed Time: 0.02",
          "Task ID: 117 SubTask ID: 1<br> Input: WORK.__MTF_PD_NON_RATING_MIG_COUNTS_1<br> Output: WORK.__MTF_PD_NON_RATING_MIG_RES_1<br> Elapsed Time: 0.1",
          "Task ID: 117 SubTask ID: 1<br> Input: WORK.__MTF_PD_NON_RATING_MIG_COUNTS_1<br> Output: WORK.'SASTMP-000000545'<br> Elapsed Time: 0.1",
          "Task ID: 117 SubTask ID: 1<br> Input: WORK.__MTF_PD_NON_MIGRATION_TEMPLATE<br> Output: WORK.__MTF_PD_NON_RATING_MIG_RES_1<br> Elapsed Time: 0.1",
          "Task ID: 117 SubTask ID: 1<br> Input: WORK.__MTF_PD_NON_MIGRATION_TEMPLATE<br> Output: WORK.'SASTMP-000000545'<br> Elapsed Time: 0.1",
          "Task ID: 118 SubTask ID: 1<br> Input: WORK.__MTF_PD_NON_RATING_MIG_RES_1<br> Output: WORK.__MTF_PD_NON_RATING_MIG_RES2_1<br> Elapsed Time: 0.16",
          "Task ID: 143 SubTask ID: 1<br> Input: WORK.__MTF_PD_NON_RATING_MIG_RES2_1<br> Output: WORK.__MTF_PD_NON_RATING_MIG_RES2<br> Elapsed Time: 0.16",
          "Task ID: 120 SubTask ID: 1<br> Input: WORK.__MTF_PD_NON_RATING_MIGRATIONS<br> Output: WORK.__MTF_PD_NON_RATING_MIGRATIONS<br> Elapsed Time: 0.08",
          "Task ID: 121 SubTask ID: 1<br> Input: WORK.__MTF_PD_NON_RATING_MIGRATIONS<br> Output: WORK.__MTF_PD_NON_RATING_MIG_COUNTS_2<br> Elapsed Time: 0.06",
          "Task ID: 122 SubTask ID: 1<br> Input: WORK.__MTF_PD_NON_RATING_MIG_COUNTS_2<br> Output: WORK.__MTF_PD_NON_MIGRATION_TEMPLATE<br> Elapsed Time: 0.03",
          "Task ID: 123 SubTask ID: 1<br> Input: WORK.__MTF_PD_NON_RATING_MIG_COUNTS_2<br> Output: WORK.__MTF_PD_NON_RATING_MIG_RES_2<br> Elapsed Time: 0.06",
          "Task ID: 123 SubTask ID: 1<br> Input: WORK.__MTF_PD_NON_RATING_MIG_COUNTS_2<br> Output: WORK.'SASTMP-000000558'<br> Elapsed Time: 0.06",
          "Task ID: 123 SubTask ID: 1<br> Input: WORK.__MTF_PD_NON_MIGRATION_TEMPLATE<br> Output: WORK.__MTF_PD_NON_RATING_MIG_RES_2<br> Elapsed Time: 0.06",
          "Task ID: 123 SubTask ID: 1<br> Input: WORK.__MTF_PD_NON_MIGRATION_TEMPLATE<br> Output: WORK.'SASTMP-000000558'<br> Elapsed Time: 0.06",
          "Task ID: 124 SubTask ID: 1<br> Input: WORK.__MTF_PD_NON_RATING_MIG_RES_2<br> Output: WORK.__MTF_PD_NON_RATING_MIG_RES2_2<br> Elapsed Time: 0.16",
          "Task ID: 143 SubTask ID: 1<br> Input: WORK.__MTF_PD_NON_RATING_MIG_RES2_2<br> Output: WORK.__MTF_PD_NON_RATING_MIG_RES2<br> Elapsed Time: 0.16",
          "Task ID: 126 SubTask ID: 1<br> Input: WORK.__MTF_PD_NON_RATING_MIGRATIONS<br> Output: WORK.__MTF_PD_NON_RATING_MIGRATIONS<br> Elapsed Time: 0.06",
          "Task ID: 127 SubTask ID: 1<br> Input: WORK.__MTF_PD_NON_RATING_MIGRATIONS<br> Output: WORK.__MTF_PD_NON_RATING_MIG_COUNTS_3<br> Elapsed Time: 0.05",
          "Task ID: 128 SubTask ID: 1<br> Input: WORK.__MTF_PD_NON_RATING_MIG_COUNTS_3<br> Output: WORK.__MTF_PD_NON_MIGRATION_TEMPLATE<br> Elapsed Time: 0.02",
          "Task ID: 129 SubTask ID: 1<br> Input: WORK.__MTF_PD_NON_RATING_MIG_COUNTS_3<br> Output: WORK.__MTF_PD_NON_RATING_MIG_RES_3<br> Elapsed Time: 0.06",
          "Task ID: 129 SubTask ID: 1<br> Input: WORK.__MTF_PD_NON_RATING_MIG_COUNTS_3<br> Output: WORK.'SASTMP-000000571'<br> Elapsed Time: 0.06",
          "Task ID: 129 SubTask ID: 1<br> Input: WORK.__MTF_PD_NON_MIGRATION_TEMPLATE<br> Output: WORK.__MTF_PD_NON_RATING_MIG_RES_3<br> Elapsed Time: 0.06",
          "Task ID: 129 SubTask ID: 1<br> Input: WORK.__MTF_PD_NON_MIGRATION_TEMPLATE<br> Output: WORK.'SASTMP-000000571'<br> Elapsed Time: 0.06",
          "Task ID: 130 SubTask ID: 1<br> Input: WORK.__MTF_PD_NON_RATING_MIG_RES_3<br> Output: WORK.__MTF_PD_NON_RATING_MIG_RES2_3<br> Elapsed Time: 0.17",
          "Task ID: 143 SubTask ID: 1<br> Input: WORK.__MTF_PD_NON_RATING_MIG_RES2_3<br> Output: WORK.__MTF_PD_NON_RATING_MIG_RES2<br> Elapsed Time: 0.16",
          "Task ID: 132 SubTask ID: 1<br> Input: WORK.__MTF_PD_NON_RATING_MIGRATIONS<br> Output: WORK.__MTF_PD_NON_RATING_MIGRATIONS<br> Elapsed Time: 0.07",
          "Task ID: 133 SubTask ID: 1<br> Input: WORK.__MTF_PD_NON_RATING_MIGRATIONS<br> Output: WORK.__MTF_PD_NON_RATING_MIG_COUNTS_4<br> Elapsed Time: 0.04",
          "Task ID: 134 SubTask ID: 1<br> Input: WORK.__MTF_PD_NON_RATING_MIG_COUNTS_4<br> Output: WORK.__MTF_PD_NON_MIGRATION_TEMPLATE<br> Elapsed Time: 0.02",
          "Task ID: 135 SubTask ID: 1<br> Input: WORK.__MTF_PD_NON_RATING_MIG_COUNTS_4<br> Output: WORK.__MTF_PD_NON_RATING_MIG_RES_4<br> Elapsed Time: 1.55",
          "Task ID: 135 SubTask ID: 1<br> Input: WORK.__MTF_PD_NON_RATING_MIG_COUNTS_4<br> Output: WORK.'SASTMP-000000584'<br> Elapsed Time: 1.55",
          "Task ID: 135 SubTask ID: 1<br> Input: WORK.__MTF_PD_NON_MIGRATION_TEMPLATE<br> Output: WORK.__MTF_PD_NON_RATING_MIG_RES_4<br> Elapsed Time: 1.55",
          "Task ID: 135 SubTask ID: 1<br> Input: WORK.__MTF_PD_NON_MIGRATION_TEMPLATE<br> Output: WORK.'SASTMP-000000584'<br> Elapsed Time: 1.55",
          "Task ID: 136 SubTask ID: 1<br> Input: WORK.__MTF_PD_NON_RATING_MIG_RES_4<br> Output: WORK.__MTF_PD_NON_RATING_MIG_RES2_4<br> Elapsed Time: 0.16",
          "Task ID: 143 SubTask ID: 1<br> Input: WORK.__MTF_PD_NON_RATING_MIG_RES2_4<br> Output: WORK.__MTF_PD_NON_RATING_MIG_RES2<br> Elapsed Time: 0.16",
          "Task ID: 138 SubTask ID: 1<br> Input: WORK.__MTF_PD_NON_RATING_MIGRATIONS<br> Output: WORK.__MTF_PD_NON_RATING_MIGRATIONS<br> Elapsed Time: 0.05",
          "Task ID: 139 SubTask ID: 1<br> Input: WORK.__MTF_PD_NON_RATING_MIGRATIONS<br> Output: WORK.__MTF_PD_NON_RATING_MIG_COUNTS_5<br> Elapsed Time: 1.15",
          "Task ID: 140 SubTask ID: 1<br> Input: WORK.__MTF_PD_NON_RATING_MIG_COUNTS_5<br> Output: WORK.__MTF_PD_NON_MIGRATION_TEMPLATE<br> Elapsed Time: 0.02",
          "Task ID: 141 SubTask ID: 1<br> Input: WORK.__MTF_PD_NON_RATING_MIG_COUNTS_5<br> Output: WORK.__MTF_PD_NON_RATING_MIG_RES_5<br> Elapsed Time: 0.05",
          "Task ID: 141 SubTask ID: 1<br> Input: WORK.__MTF_PD_NON_RATING_MIG_COUNTS_5<br> Output: WORK.'SASTMP-000000597'<br> Elapsed Time: 0.05",
          "Task ID: 141 SubTask ID: 1<br> Input: WORK.__MTF_PD_NON_MIGRATION_TEMPLATE<br> Output: WORK.__MTF_PD_NON_RATING_MIG_RES_5<br> Elapsed Time: 0.05",
          "Task ID: 141 SubTask ID: 1<br> Input: WORK.__MTF_PD_NON_MIGRATION_TEMPLATE<br> Output: WORK.'SASTMP-000000597'<br> Elapsed Time: 0.05",
          "Task ID: 142 SubTask ID: 1<br> Input: WORK.__MTF_PD_NON_RATING_MIG_RES_5<br> Output: WORK.__MTF_PD_NON_RATING_MIG_RES2_5<br> Elapsed Time: 0.16",
          "Task ID: 143 SubTask ID: 1<br> Input: WORK.__MTF_PD_NON_RATING_MIG_RES2_5<br> Output: WORK.__MTF_PD_NON_RATING_MIG_RES2<br> Elapsed Time: 0.16",
          "Task ID: 145 SubTask ID: 1<br> Input: WORK.__MTF_PD_NON_RATING_MIG_RES2<br> Output: WORK.__MTF_PD_MARK_RATING_MIG_AVG1<br> Elapsed Time: 0.12",
          "Task ID: 148 SubTask ID: 1<br> Input: WORK.__MTF_PD_NON_RATING_MIG_RES2<br> Output: WORK.__MTF_PD_NON_RATING_MIG_RES3_1<br> Elapsed Time: 0.08",
          "Task ID: 148 SubTask ID: 1<br> Input: WORK.__MTF_PD_NON_RATING_MIG_RES2<br> Output: WORK.'SASTMP-000000611'<br> Elapsed Time: 0.08",
          "Task ID: 147 SubTask ID: 1<br> Input: WORK.__MTF_PD_NON_RATING_PD_TTC<br> Output: WORK.TEST_PD_MARK_IN<br> Elapsed Time: 0.03",
          "Task ID: 149 SubTask ID: 1<br> Input: WORK.__MTF_PD_NON_RATING_PD_TTC<br> Output: WORK.__MTF_PD_NON_RATING_PD_TTC_TABLE<br> Elapsed Time: 0.01",
          "Task ID: 146 SubTask ID: 1<br> Input: WORK.__MTF_PD_MARK_RATING_MIG_AVG1<br> Output: WORK.__MTF_PD_MARK_RATING_MIG_AVG2<br> Elapsed Time: 0.01",
          "Task ID: 153 SubTask ID: 1<br> Input: WORK.__MTF_PD_MARK_RATING_MIG_AVG1<br> Output: WORK.__MTF_PD_MARK_RATING_MIG_AVG1_20<br> Elapsed Time: 0.01",
          "Task ID: 147 SubTask ID: 1<br> Input: WORK.__MTF_PD_MARK_RATING_MIG_AVG2<br> Output: WORK.TEST_PD_MARK_IN<br> Elapsed Time: 0.03",
          "Task ID: 154 SubTask ID: 1<br> Input: WORK.__MTF_PD_NON_RATING_MIG_RES3_1<br> Output: WORK.TEST_PD_NON_IN<br> Elapsed Time: 0.14",
          "Task ID: 152 SubTask ID: 1<br> Input: WORK.__MTF_PD_NON_RATING_PD_TTC_TABLE<br> Output: WORK.__MTF_PD_NON_JOINED_PDS<br> Elapsed Time: 2.87",
          "Task ID: 152 SubTask ID: 1<br> Input: WORK.__MTF_PD_NON_RATING_PD_TTC_TABLE<br> Output: WORK.'SASTMP-000000618'<br> Elapsed Time: 2.87",
          "Task ID: 152 SubTask ID: 1<br> Input: WORK.__MTF_PD_NON_ONEYEAR_PIT_PD_FULL<br> Output: WORK.__MTF_PD_NON_JOINED_PDS<br> Elapsed Time: 2.87",
          "Task ID: 152 SubTask ID: 1<br> Input: WORK.__MTF_PD_NON_ONEYEAR_PIT_PD_FULL<br> Output: WORK.'SASTMP-000000618'<br> Elapsed Time: 2.87",
          "Task ID: 152 SubTask ID: 1<br> Input: WORK.__MTF_PD_NON_ONEYEAR_PIT_PD_DEF<br> Output: WORK.__MTF_PD_NON_JOINED_PDS<br> Elapsed Time: 2.87",
          "Task ID: 152 SubTask ID: 1<br> Input: WORK.__MTF_PD_NON_ONEYEAR_PIT_PD_DEF<br> Output: WORK.'SASTMP-000000618'<br> Elapsed Time: 2.87",
          "Task ID: 154 SubTask ID: 1<br> Input: WORK.__MTF_PD_NON_JOINED_PDS<br> Output: WORK.TEST_PD_NON_IN<br> Elapsed Time: 0.14",
          "Task ID: 154 SubTask ID: 1<br> Input: WORK.__MTF_PD_MARK_RATING_MIG_AVG1_20<br> Output: WORK.TEST_PD_NON_IN<br> Elapsed Time: 0.14",
          "Task ID: 157 SubTask ID: 1<br> Input: WORK.__MTF_PD_PIT_ODR_WIDE_DIS<br> Output: WORK.__MTF_PD_PIT_ODR_WIDE_TP_DIS<br> Elapsed Time: 0.03",
          "Task ID: 158 SubTask ID: 1<br> Input: WORK.__MTF_PD_PIT_ODR_WIDE_TP_DIS<br> Output: WORK.__MTF_PD_PIT_ODR_WIDE_TP_DIS<br> Elapsed Time: 0.08",
          "Task ID: 159 SubTask ID: 2<br> Input: WORK.ZFMMEM<br> Output: WORK.ZFMMEM<br> Elapsed Time: 0.34",
          "Task ID: 159 SubTask ID: 1<br> Input: WORK.__MTF_PD_PIT_ODR_WIDE_TP_DIS<br> Output: WORK.__MTF_PD_PIT_ODR_LONG_DIS<br> Elapsed Time: 0.32",
          "Task ID: 160 SubTask ID: 1<br> Input: WORK.__MTF_PD_PIT_ODR_LONG_DIS<br> Output: WORK.TEST_PD_DIS_IN<br> Elapsed Time: 0.21",
          "Task ID: 161 SubTask ID: 1<br> Input: No Input<br> Output: WORK.'SASTMP-000000636'<br> Elapsed Time: 0.47",
          "Task ID: 162 SubTask ID: 1<br> Input: No Input<br> Output: WORK.'SASTMP-000000638'<br> Elapsed Time: 0.04",
          "Task ID: 163 SubTask ID: 1<br> Input: No Input<br> Output: WORK.'SASTMP-000000640'<br> Elapsed Time: 0.01"
         ],
         "textposition": "top center",
         "type": "scatter",
         "x": [
          0.5,
          1.5,
          1.5,
          1.5,
          2,
          2,
          2.5,
          3.5,
          3,
          1.5,
          12.5,
          3,
          4,
          4,
          2,
          30.5,
          4,
          7.5,
          9,
          9.5,
          8.5,
          9.5,
          12.5,
          12.5,
          13.5,
          13.5,
          13.5,
          14.5,
          63,
          63.5,
          63.5,
          66.5,
          66.5,
          69.5,
          69.5,
          72.5,
          72.5,
          75.5,
          75.5,
          15.5,
          15.5,
          15.5,
          58,
          63,
          63,
          63,
          85.5,
          17,
          19,
          18.5,
          9,
          19,
          19.5,
          20.5,
          27,
          63,
          21.5,
          22.5,
          23.5,
          25.5,
          26.5,
          27.5,
          26.5,
          27.5,
          28.5,
          29,
          30.5,
          30.5,
          31.5,
          32,
          51.5,
          59,
          33.5,
          34.5,
          35.5,
          35.5,
          36,
          53,
          54,
          60.5,
          61.5,
          37,
          39.5,
          41.5,
          43.5,
          45.5,
          37.5,
          38,
          38.5,
          39,
          39.5,
          48,
          41,
          43,
          45,
          47,
          48.5,
          39,
          39.5,
          41,
          40,
          40.5,
          43.5,
          41,
          41.5,
          46,
          42,
          48.5,
          43.5,
          44.5,
          45.5,
          47.5,
          48.5,
          49.5,
          51.5,
          52.5,
          53.5,
          55.5,
          56.5,
          57.5,
          59.5,
          108,
          77,
          103,
          63,
          64,
          64,
          65,
          66.5,
          66.5,
          70.5,
          71.5,
          71.5,
          72.5,
          74,
          74,
          61.5,
          62.5,
          65.5,
          68,
          68,
          68.5,
          67.5,
          68.5,
          69.5,
          69.5,
          70.5,
          72,
          71,
          71.5,
          71.5,
          71,
          73,
          111,
          74.5,
          75.5,
          76.5,
          77.5,
          80.5,
          83,
          83,
          83.5,
          82.5,
          83.5,
          84.5,
          84.5,
          85.5,
          87,
          86,
          86.5,
          86.5,
          86,
          88,
          119,
          89.5,
          91,
          90.5,
          92.5,
          94,
          94,
          102,
          102,
          102,
          94.5,
          94.5,
          119,
          97,
          95.5,
          96.5,
          97.5,
          99.5,
          100.5,
          130,
          101.5,
          102,
          102.5,
          103,
          103.5,
          104.5,
          105.5,
          130,
          106,
          106,
          106,
          106.5,
          106.5,
          130,
          107.5,
          109,
          109,
          108.5,
          112.5,
          112.5,
          115.5,
          115.5,
          118.5,
          118.5,
          121.5,
          121.5,
          124.5,
          124.5,
          113.5,
          114.5,
          115.5,
          116,
          116,
          116.5,
          116.5,
          117.5,
          130.5,
          119.5,
          120.5,
          121.5,
          122,
          122,
          122.5,
          122.5,
          123.5,
          133.5,
          125.5,
          126.5,
          127.5,
          128,
          128,
          128.5,
          128.5,
          129.5,
          136.5,
          131.5,
          132.5,
          133.5,
          134,
          134,
          134.5,
          134.5,
          135.5,
          139.5,
          137.5,
          138.5,
          139.5,
          140,
          140,
          140.5,
          140.5,
          141.5,
          142.5,
          144,
          145.5,
          145.5,
          145.5,
          146.5,
          145.5,
          149,
          146.5,
          151,
          150.5,
          150.5,
          151,
          151,
          151.5,
          151.5,
          153,
          153.5,
          156.5,
          157.5,
          158,
          158.5,
          159.5,
          160.5,
          161.5,
          162.5
         ],
         "xaxis": "x",
         "y": [
          64,
          64,
          41,
          40.5,
          41.5,
          41,
          42.5,
          42.5,
          36.5,
          14.5,
          13,
          19.5,
          55,
          54,
          57,
          57,
          56.5,
          56,
          45.5,
          47.5,
          77,
          76.5,
          41.5,
          41,
          46,
          45.5,
          46.5,
          49,
          39,
          39.5,
          39,
          40.5,
          40,
          42,
          41.5,
          43.5,
          43,
          44.5,
          44,
          49.5,
          50,
          50,
          30,
          40.5,
          39.5,
          40,
          49.5,
          50.5,
          51,
          51,
          65.5,
          66,
          51,
          51,
          66,
          30.5,
          69,
          70,
          70,
          16,
          16,
          16,
          70,
          43,
          16,
          16,
          16.5,
          16,
          17,
          17,
          20,
          21,
          17,
          17,
          66,
          17,
          17,
          20,
          21,
          21,
          22,
          17,
          20,
          20,
          20,
          20,
          17,
          17,
          18.5,
          19,
          19.5,
          66,
          20,
          20,
          20,
          20,
          20,
          17.5,
          19,
          20.5,
          20.5,
          21,
          22,
          21.5,
          22,
          22.5,
          22.5,
          23,
          23,
          70,
          71,
          23,
          71,
          72,
          23,
          72,
          73,
          23,
          73,
          74,
          23,
          65.5,
          25,
          18.5,
          57,
          57.5,
          57,
          57.5,
          41,
          40.5,
          58.5,
          59,
          58.5,
          59,
          42,
          41.5,
          74,
          74,
          57,
          58,
          57.5,
          40,
          58,
          58,
          58.5,
          58,
          59,
          59.5,
          23.5,
          24.5,
          24,
          59.5,
          60,
          19.5,
          60,
          74,
          75,
          75,
          60,
          61,
          60.5,
          42.5,
          61,
          61,
          61.5,
          61,
          62,
          62.5,
          25.5,
          26.5,
          26,
          62.5,
          63,
          20.5,
          63,
          63,
          77,
          63,
          45.5,
          45,
          47,
          46,
          46.5,
          27.5,
          27,
          20.5,
          28,
          77,
          78,
          78,
          19,
          10,
          12.5,
          10,
          10,
          10,
          10,
          10,
          10,
          10,
          12.5,
          11,
          10.5,
          12.5,
          12,
          13,
          14,
          13,
          13.5,
          13,
          66,
          31.5,
          31,
          32.5,
          32,
          34,
          33.5,
          35.5,
          35,
          36.5,
          36,
          32,
          32,
          32,
          32.5,
          32,
          32.5,
          32,
          33,
          39,
          34.5,
          35,
          35,
          35.5,
          35,
          35.5,
          35,
          36,
          40.5,
          37,
          37,
          37,
          37.5,
          37,
          37.5,
          37,
          38.5,
          42,
          40,
          40,
          40,
          40.5,
          40,
          40.5,
          40,
          41,
          43,
          42,
          42,
          43,
          43.5,
          43,
          44.5,
          44,
          45,
          45,
          45,
          45.5,
          45,
          14,
          14,
          29.5,
          47,
          14,
          30.5,
          14.5,
          14,
          14.5,
          14,
          14.5,
          14,
          15,
          32,
          49,
          49,
          65,
          49,
          32,
          66,
          67,
          68
         ],
         "yaxis": "y"
        },
        {
         "cells": {
          "align": [
           "left"
          ],
          "fill": {
           "color": "#F5F8FF"
          },
          "font": {
           "size": 10
          },
          "line": {
           "color": "darkslategray"
          },
          "values": [
           [
            1,
            2,
            3,
            4,
            5,
            6,
            7,
            8,
            9,
            10,
            11,
            12,
            13,
            14,
            15,
            16,
            17,
            18,
            19,
            20,
            21,
            22,
            23,
            24,
            25,
            26,
            27,
            28,
            29,
            30,
            31,
            32,
            33,
            34,
            35,
            36,
            37,
            38,
            39,
            40,
            41,
            42,
            43,
            44,
            45,
            46,
            47,
            48,
            49,
            50,
            51,
            52,
            53,
            54,
            55,
            56,
            57,
            58,
            59,
            60,
            61,
            62,
            63,
            64,
            65,
            66,
            67,
            68,
            69,
            70,
            71,
            72,
            73,
            74,
            75,
            76,
            77,
            78,
            79,
            80,
            81,
            82,
            83,
            84,
            85,
            86,
            87,
            88,
            89,
            90,
            91,
            92,
            93,
            94,
            95,
            96,
            97,
            98,
            99,
            100,
            101,
            102,
            103,
            104,
            105,
            106,
            107,
            108,
            109,
            110,
            111,
            112,
            113,
            114,
            115,
            116,
            117,
            118,
            119,
            120,
            121,
            122,
            123,
            124,
            125,
            126,
            127,
            128,
            129,
            130,
            131,
            132,
            133,
            134,
            135,
            136,
            137,
            138,
            139,
            140,
            141,
            142,
            143,
            144,
            145,
            146,
            147,
            148,
            149,
            150,
            151,
            152,
            153,
            154,
            155,
            156,
            157,
            158,
            159,
            160,
            161,
            162,
            163
           ],
           [
            "<br>/*------------------------------------------------------------------------------------------------------------------------*/<br>/*1. (mandatory) PiT PD backtest execution */<br>/*------------------------------------------------------------------------------------------------------------------------*/<br>options mprint;<br>    /*1.1 Compute PiT PD backtest */<br>        <br> data work.__mtf_pd_pit_version;<br> time_stamp = datetime();<br> format time_stamp DATETIME.;<br> version = '1.7.0';<br> put 'NOTE: you are running stat library version: ' version ;<br> run;<br>;<br><br>",
            " data _null_;<br> set __mtf_pd_pit_version;<br> mtf_version = 'MTF: ' || compress(version) || ' MTF_PD_PIT_BACKTEST: ' || compress(\"4.00\");<br> call symput('__mtf_version', mtf_version );<br> _time_stamp_ = datetime();<br> call symput('__mtf_timestamp', put(_time_stamp_ , best18.));<br> RUN;<br><br>",
            " proc sql noprint;<br> create table __mtf_pd_pit_distinct_rating1 as select distinct rating_number as rating from input.pd_view where rating_number lt 20;<br> create table __mtf_pd_pit_distinct_rating2 as select distinct risk_rating as rating from input.pd_rr_rating where risk_rating lt 20;<br> select case when count(*) eq 0 then 1 else 0 end into :__if_ratings_ttc_table_ok from ((select rating from __mtf_pd_pit_distinct_rating1 except select rating from __mtf_pd_pit_distinct_rating2)) ;<br>quit;<br><br>",
            " proc sql noprint;<br> create table __mtf_pd_pit_distinct_zval1 as select distinct reporting_date as reporting_date , country_code_map as country from input.pd_view where mod(month(reporting_date), 3) eq 0;<br> create table __mtf_pd_pit_distinct_zval2 as select distinct reporting_date as reporting_date , country as country from input.pd_z_factor;<br> select case when count(*) eq 0 then 1 else 0 end into :__if_zvalues_country_ok from ((select reporting_date , country from __mtf_pd_pit_distinct_zval1 except select reporting_date , country from __mtf_pd_pit_distinct_zval2)) ;<br>quit;<br><br>",
            " proc sql noprint;<br> select count(*) into :__if_no_exposure_int from input.pd_view where os_e is missing or os_e = 0 ;<br>quit;<br><br>",
            " data _null_;<br> __significance_level_err = 0;<br> if not(0.05 gt 0 and 0.05 lt 1) then do;<br> __significance_level_err = 1;<br> put \"ERROR: Macroparameter [significance_level] must be value from interval (0, 1)\";<br> end;<br> __min_r_squared_threshold_nw_err = 0;<br> if not(0.7 gt 0 and 0.7 lt 1) then do;<br> __min_r_squared_threshold_nw_err = 1;<br> put \"ERROR: Macroparameter [min_r_squared_threshold_nw] must be value from interval (0, 1)\";<br> end;<br> __min_r_squared_threshold_ew_err = 0;<br> if not(0.4 gt 0 and 0.4 lt 1) then do;<br> __min_r_squared_threshold_ew_err = 1;<br> put \"ERROR: Macroparameter [min_r_squared_threshold_ew] must be value from interval (0, 1)\";<br> end;<br> __backtest_level_err = 0;<br> if upcase(strip(\"PORTFOLIO\")) not in (\"PORTFOLIO\", \"INVESTMENT\", \"SPECULATIVE\") then do;<br> __backtest_level_err = 1;<br> put \"ERROR: Macroparameter [backtest_level] must be value from set {PORTFOLIO, INVESTMENT, SPECULATIVE}\";<br> end;<br> __maximum_time_horizon_err = 0;<br> if mod(5, 1) ne 0 then do;<br> __maximum_time_horizon_err = 1;<br> put \"ERROR: Macroparameter [maximum_time_horizon] must be integer.\";<br> end;<br> __retail_indicator_err = 0;<br> if 0 not in (0, 1) then do;<br> __retail_indicator_err = 1;<br> put \"ERROR: Macroparameter [retail_indicator] must be value from set {0, 1}\";<br> end;<br> __interpolation_indicator_err = 0;<br> if 0 not in (0, 1) then do;<br> __interpolation_indicator_err = 1;<br> put \"ERROR: Macroparameter [interpolation_indicator] must be value from set {0, 1}\";<br> end;<br> __subinterpolation_indicator_err = 0;<br> if 0 not in (0, 1) then do;<br> __subinterpolation_indicator_err = 1;<br> put \"ERROR: Macroparameter [sub_interpolation_indicator] must be value from set {0, 1}\";<br> end;<br> __seasoning_indicator_err = 0;<br> if 0 not in (0, 1) then do;<br> __seasoning_indicator_err = 1;<br> put \"ERROR: Macroparameter [seasoning_indicator] must be value from set {0, 1}\";<br> end;<br> __if_rename_numbers_ttc_err = 0;<br> if 1 not in (0, 1) then do;<br> __if_rename_numbers_ttc_err = 1;<br> put \"ERROR: Macroparameter [if_rename_numbers_ttc] must be value from set {0, 1}\";<br> end;<br> __min_speculative_rating_err = 0;<br> if upcase(strip(\"PORTFOLIO\")) in (\"INVESTMENT\", \"SPECULATIVE\") then do;<br> if not(10 ge 1 and 10 le 20 and mod(10, 1) eq 0 ) then do;<br> __min_speculative_rating_err = 1;<br> put \"ERROR: Macroparameter [min_speculative_rating] must be integer value from interval [1, 20]\";<br> end;<br> end;<br> __pit_adjustment_indicator_err = 0;<br> if 1 not in (0, 1) then do;<br> __pit_adjustment_indicator_err = 1;<br> put \"ERROR: Macroparameter [pit_adjustment_indicator] must be value from set {0, 1}\";<br> end;<br> __me_approach_err = 0;<br> if 2 not in (1, 2, 3) then do;<br> __me_approach_err = 1;<br> put \"ERROR: Macroparameter [me_approach] must empty or be value from interval (0, 1)\";<br> end;<br> __mse_development_err = 0;<br> if strip(\"\") ne \"\" then do;<br> if not (input(\"\", best12.) gt 0 and input(\"\", best12.) lt 1) then do;<br> __mse_development_err = 1;<br> put \"ERROR: Macroparameter [mse_development] must empty or be value from interval (0, 1)\";<br> end;<br> end;<br> __in_tablename_new_irb_err = 0;<br> if 0 eq 1 or 0 eq 1 then do;<br> if not exist(compress(\"input.pd_irb_map\")) then do;<br> __in_tablename_new_irb_err = 1;<br> put \"ERROR: Table [input.pd_irb_map] does not exist\";<br> end;<br> end;<br> __age_of_a_loan_err = 0;<br> if 0 eq 1 then do;<br> if 1 eq 0 then do;<br> __age_of_a_loan_err = 1;<br> put \"ERROR: Variable [age_of_loan] does not exist in dataset [input.pd_view].\";<br> end;<br> end;<br> __if_ratings_new_irb_ok_err = 0;<br> if (0 eq 1 or 0 eq 1) and 1 eq 0 then do;<br> __if_ratings_new_irb_ok_err = 1;<br> put \"ERROR: Values of variable [rating_number] in [input.pd_view] does match values of variable [rr_rating_num] in [input.pd_irb_map].\";<br> end;<br> __if_ratings_ttc_table_ok_err = 0;<br> if (0 eq 0 and 0 eq 0) and 1 eq 0 then do;<br> __if_ratings_ttc_table_ok_err = 1;<br> put \"ERROR: Values of variable [rating_number] in [input.pd_view] does match values of variable [risk_rating] in [input.pd_rr_rating].\";<br> end;<br> __if_zvalues_country_ok_err = 0;<br> if 1 eq 0 then do;<br> __if_zvalues_country_ok_err = 1;<br> put \"ERROR: Values of variable [reporting_date] and [country_code_map] in [input.pd_view] does match values of variable [reporting_date] and [country] in [input.pd_z_factor].\";<br> end;<br> if 39968 gt 0 then do;<br> put \"WARNING: There are rows with [os_e] is missing or [os_e] = 0\";<br> end;<br> __abort_macro = 0;<br> if sum( __significance_level_err , __min_r_squared_threshold_nw_err , __min_r_squared_threshold_ew_err , __backtest_level_err , __maximum_time_horizon_err , __retail_indicator_err , __interpolation_indicator_err , __subinterpolation_indicator_err , __if_rename_numbers_ttc_err , __min_speculative_rating_err , __pit_adjustment_indicator_err , __me_approach_err , __mse_development_err , __in_tablename_new_irb_err , __age_of_a_loan_err , __if_ratings_new_irb_ok_err , __if_ratings_ttc_table_ok_err , __if_zvalues_country_ok_err ) gt 0 then do;<br> __abort_macro = 1;<br> end;<br> call symputx('__abort_macro', __abort_macro);<br> run;<br><br>",
            " PROC SQL NOPRINT;<br> CREATE table __mtf_pd_pit_view_input AS SELECT * FROM input.pd_view WHERE pd_scope_ind = 1 ;<br>QUIT;<br><br>",
            " proc sql noprint;<br> select max(reporting_date) into :__max_reporting_date from __mtf_pd_pit_view_input;<br> quit;<br><br>",
            " data work.__mtf_pd_pit_version;<br> time_stamp = datetime();<br> format time_stamp DATETIME.;<br> version = '1.7.0';<br> put 'NOTE: you are running stat library version: ' version ;<br> run;<br>;<br><br>",
            " data _null_;<br> set work.__mtf_pd_pit_version;<br> mtf_version = 'MTF: ' || compress(version) || ' MTF_PD_PIT_BACKTEST: ' || compress(\"3.02\");<br> call symput('__mtf_version', mtf_version );<br> _time_stamp_ = datetime();<br> call symput('__mtf_timestamp', put(_time_stamp_ , best18.));<br> RUN;<br><br>",
            " proc sql noprint;<br> select max(reporting_date) into :__max_reporting_date from work.__mtf_pd_pit_view_input;<br> quit;<br><br>",
            " data work.__mtf_pd_pit_view2;<br> set work.__mtf_pd_pit_view_input;<br> maturity_date = maturity_date;<br> format maturity_date date. run;<br><br>",
            " proc sort data=work.__mtf_pd_pit_view2(keep= reporting_date customer_id country_code_map rating_number default_ind os_e into_default_12_m maturity_date ) OUT=work.__MTF_PD_PIT_PROC_MULTIYEAR_DATA;<br> by customer_id descending reporting_date;<br> run;<br><br>",
            " data work.__MTF_PD_PIT_PROC_MULTIYEAR_DATA ( drop= next_intodefault_date i __full_window_1-__full_window_6 ) WORK.__MTF_PD_NON_MIGRATIONS_IN ( keep = customer_id reporting_date rating_number intodefault_flag_1-intodefault_flag_6 ) WORK.__MTF_PD_PIT_PROC_ONEYEAR_DATA( keep= reporting_date os_e );<br> set work.__MTF_PD_PIT_PROC_MULTIYEAR_DATA;<br> retain next_default_date next_intodefault_date final_reporting_date;<br> by customer_id;<br> country_code_map=upcase(strip(country_code_map));<br> if first.customer_id then do;<br> next_intodefault_date=.;<br> final_reporting_date = reporting_date;<br> end;<br> if into_default_12_m = 1 then next_intodefault_date = reporting_date;<br> array intodefault_array {6} intodefault_flag_1-intodefault_flag_6;<br> array intoexit_array {6} intoexit_flag_1-intoexit_flag_6;<br> array __full_window {6} __full_window_1-__full_window_6;<br> do i = 1 to 6;<br> intodefault_array{i} = ifn(next_intodefault_date =., 0, intck('month', reporting_date, next_intodefault_date) <= (i-1)*12);<br> intoexit_array{i} = intck('month', reporting_date, final_reporting_date) < i*12;<br> __full_window{i} = intck('month', reporting_date, 21914) >= i*12;<br> end;<br> __full_window_sum=sum(of __full_window(*));<br> marginal_intodefault_flag_1 = intodefault_flag_1;<br> array marginal_intodefault_array {5} marginal_intodefault_flag_2-marginal_intodefault_flag_6;<br> do i = 1 to 6-1;<br> marginal_intodefault_array {i} = intodefault_array{i+1} - intodefault_array{i};<br> end;<br> array performing_array {6} performing_flag_1-performing_flag_6;<br> do i = 1 to 6;<br> performing_array{i} = (1-intodefault_array{i})*(1-intoexit_array{i});<br> end;<br> performing_flag_1 = 1;<br> rating_number = ifn(rating_number < 20, rating_number, 20);<br> if mod(month(reporting_date), 3) eq 0 then do;<br> output WORK.__MTF_PD_NON_MIGRATIONS_IN;<br> if __full_window_sum gt 0 and default_ind eq 0 then do;<br> output work.__MTF_PD_PIT_PROC_MULTIYEAR_DATA;<br> end;<br> if intodefault_flag_1 = 1 then do;<br> output __MTF_PD_PIT_PROC_ONEYEAR_DATA;<br> end;<br> end;<br> format final_reporting_date date9.;<br> run;<br><br>",
            " proc sort data=work.__MTF_PD_PIT_PROC_MULTIYEAR_DATA out=work.__MTF_PD_PIT_PROC_MULTIYEAR_DATA;<br> by reporting_date rating_number country_code_map;<br> run;<br><br>",
            " proc sql noprint _method;<br> create table WORK.__MTF_PD_PIT_ODR_WIDE as select reporting_date , sum(marginal_intodefault_flag_1) as defaulted_nw_1 , sum(marginal_intodefault_flag_1*os_e) as defaulted_ew_1 , sum(performing_flag_1) as total_nw_1 , sum(performing_flag_1*os_e) as total_ew_1 , intck('month', reporting_date, 21914) >= 1*12 as full_window_1 , (case when calculated full_window_1 then (calculated defaulted_nw_1 / calculated total_nw_1) else . end) as DR_nw_1 format percent10.2 , (case when calculated full_window_1 then (calculated defaulted_ew_1 / calculated total_ew_1) else . end) as DR_ew_1 format percent10.2 , sum(intodefault_flag_1) as cum_defaulted_nw_1 , sum(os_e*intodefault_flag_1) as cum_defaulted_ew_1 , sum(marginal_intodefault_flag_2) as defaulted_nw_2 , sum(marginal_intodefault_flag_2*os_e) as defaulted_ew_2 , sum(performing_flag_2) as total_nw_2 , sum(performing_flag_2*os_e) as total_ew_2 , intck('month', reporting_date, 21914) >= 2*12 as full_window_2 , (case when calculated full_window_2 then (calculated defaulted_nw_2 / calculated total_nw_2) * (1-calculated DR_nw_1) + calculated DR_nw_1 else . end) as DR_nw_2 format percent10.2 , (case when calculated full_window_2 then (calculated defaulted_ew_2 / calculated total_ew_2) * (1-calculated DR_ew_1) + calculated DR_ew_1 else . end) as DR_ew_2 format percent10.2 , sum(intodefault_flag_2) as cum_defaulted_nw_2 , sum(os_e*intodefault_flag_2) as cum_defaulted_ew_2 , sum(marginal_intodefault_flag_3) as defaulted_nw_3 , sum(marginal_intodefault_flag_3*os_e) as defaulted_ew_3 , sum(performing_flag_3) as total_nw_3 , sum(performing_flag_3*os_e) as total_ew_3 , intck('month', reporting_date, 21914) >= 3*12 as full_window_3 , (case when calculated full_window_3 then (calculated defaulted_nw_3 / calculated total_nw_3) * (1-calculated DR_nw_2) + calculated DR_nw_2 else . end) as DR_nw_3 format percent10.2 , (case when calculated full_window_3 then (calculated defaulted_ew_3 / calculated total_ew_3) * (1-calculated DR_ew_2) + calculated DR_ew_2 else . end) as DR_ew_3 format percent10.2 , sum(intodefault_flag_3) as cum_defaulted_nw_3 , sum(os_e*intodefault_flag_3) as cum_defaulted_ew_3 , sum(marginal_intodefault_flag_4) as defaulted_nw_4 , sum(marginal_intodefault_flag_4*os_e) as defaulted_ew_4 , sum(performing_flag_4) as total_nw_4 , sum(performing_flag_4*os_e) as total_ew_4 , intck('month', reporting_date, 21914) >= 4*12 as full_window_4 , (case when calculated full_window_4 then (calculated defaulted_nw_4 / calculated total_nw_4) * (1-calculated DR_nw_3) + calculated DR_nw_3 else . end) as DR_nw_4 format percent10.2 , (case when calculated full_window_4 then (calculated defaulted_ew_4 / calculated total_ew_4) * (1-calculated DR_ew_3) + calculated DR_ew_3 else . end) as DR_ew_4 format percent10.2 , sum(intodefault_flag_4) as cum_defaulted_nw_4 , sum(os_e*intodefault_flag_4) as cum_defaulted_ew_4 , sum(marginal_intodefault_flag_5) as defaulted_nw_5 , sum(marginal_intodefault_flag_5*os_e) as defaulted_ew_5 , sum(performing_flag_5) as total_nw_5 , sum(performing_flag_5*os_e) as total_ew_5 , intck('month', reporting_date, 21914) >= 5*12 as full_window_5 , (case when calculated full_window_5 then (calculated defaulted_nw_5 / calculated total_nw_5) * (1-calculated DR_nw_4) + calculated DR_nw_4 else . end) as DR_nw_5 format percent10.2 , (case when calculated full_window_5 then (calculated defaulted_ew_5 / calculated total_ew_5) * (1-calculated DR_ew_4) + calculated DR_ew_4 else . end) as DR_ew_5 format percent10.2 , sum(intodefault_flag_5) as cum_defaulted_nw_5 , sum(os_e*intodefault_flag_5) as cum_defaulted_ew_5 from work.__MTF_PD_PIT_PROC_MULTIYEAR_DATA group by reporting_date ;<br>quit;<br><br>",
            " proc sql noprint _method;<br> create table WORK.__MTF_PD_PIT_outstanding_stats_1 as select distinct reporting_date , mean(os_e) as outstanding_avg_1 , std(os_e) as outstanding_stdev_1 from WORK.__MTF_PD_PIT_PROC_ONEYEAR_DATA ;<br>quit;<br><br>",
            " proc transpose data=WORK.__MTF_PD_PIT_ODR_WIDE out=WORK.__MTF_PD_PIT_ODR_WIDE_TP ;<br> by reporting_date;<br> run;<br><br>",
            " data WORK.__MTF_PD_PIT_ODR_WIDE_TP (drop= pos length _name_);<br> set WORK.__MTF_PD_PIT_ODR_WIDE_TP;<br> __time_period = input(scan(_name_,-1,'_'), best12.);<br> call scan(_name_, -1, pos, length,'_');<br> final_var_name=substr(_name_,1,pos-2);<br> run;<br><br>",
            " proc transpose data=WORK.__MTF_PD_PIT_ODR_WIDE_TP out=WORK.__MTF_PD_PIT_ODR_LONG(drop=_name_);<br> by reporting_date __time_period;<br> var col1;<br> id final_var_name;<br> run;<br><br>",
            " proc sql noprint;<br> create table work.__MTF_PD_PIT_MULTIYEAR_OBS_GRP as select a.* , b.outstanding_avg_1 , b.outstanding_stdev_1 from WORK.__MTF_PD_PIT_ODR_LONG as a inner join (select avg(outstanding_avg_1) as outstanding_avg_1 ,avg(outstanding_stdev_1) as outstanding_stdev_1 from WORK.__MTF_PD_PIT_outstanding_stats_1) as b on 1=1 ;<br>quit;<br><br>",
            " proc datasets lib = work nolist noprint memtype=all;<br> delete __mtf_pd_mark: / mt=data;<br> quit;<br>;<br><br>",
            " data work.__MTF_PD_PRED_version;<br> time_stamp = datetime();<br> format time_stamp DATETIME.;<br> version = '1.7.0';<br> put 'NOTE: you are running stat library version: ' version ;<br> run;<br>;<br><br>",
            " data _null_;<br> set __MTF_PD_PRED_version;<br> mtf_version = 'MTF: ' || compress(version) || ' MTF_PD_PIT_BACKTEST_PRED: ' || compress(\"1.00\");<br> call symput('__mtf_pred_version', mtf_pred_version );<br> _time_stamp_ = datetime();<br> call symput('__mtf_pred_timestamp', put(_time_stamp_ , best18.));<br> RUN;<br><br>",
            " data __MTF_PD_PRED_data_rating_params;<br> set input.pd_rr_rating( rename = ( migrate_to_01=migrate_to_1 migrate_to_02=migrate_to_2 migrate_to_03=migrate_to_3 migrate_to_04=migrate_to_4 migrate_to_05=migrate_to_5 migrate_to_06=migrate_to_6 migrate_to_07=migrate_to_7 migrate_to_08=migrate_to_8 migrate_to_09=migrate_to_9 ) );<br> keep risk_rating asset_correlation scaling_factor pitness migrate_to_1 migrate_to_2 migrate_to_3 migrate_to_4 migrate_to_5 migrate_to_6 migrate_to_7 migrate_to_8 migrate_to_9 migrate_to_10 migrate_to_11 migrate_to_12 migrate_to_13 migrate_to_14 migrate_to_15 migrate_to_16 migrate_to_17 migrate_to_18 migrate_to_19 migrate_to_20 ;<br>run;<br><br>",
            " proc sql noprint;<br> select max(pitness) into :__max_pitness_indicator from __MTF_PD_PRED_data_rating_params quit;<br><br>",
            " data __MTF_PD_PRED_data_ttc_tmp1;<br> do risk_rating=1 to 20;<br> output;<br> end;<br> run;<br><br>",
            " proc sql noprint;<br> create table __MTF_PD_PRED_data_ttc_tmp2 as (select risk_rating from __MTF_PD_PRED_data_ttc_tmp1) except (select risk_rating from __MTF_PD_PRED_data_rating_params) ;<br>quit;<br><br>",
            " proc sql noprint;<br> select count(*) into :__if_input_values_ttc_matrix from __MTF_PD_PRED_data_ttc_tmp2 ;<br>quit;<br><br>",
            " proc sql noprint;<br> create table __MTF_PD_PRED_data_ttc_tmp3 as select a.* , coalesce(a.risk_rating, b.risk_rating) as __risk_rating_notnull from __MTF_PD_PRED_data_rating_params a full join __MTF_PD_PRED_data_ttc_tmp2 b on a.risk_rating eq b.risk_rating ;<br>quit;<br><br>",
            " data __MTF_PD_PRED_data_nonnull __MTF_PD_PRED_data_irb_old (keep = risk_rating migrate_to_20 rename=(risk_rating = __rating_irb_old migrate_to_20 = __PD_irb_old));<br> set __MTF_PD_PRED_data_ttc_tmp3;<br> array ttc_matrix{20} migrate_to_1 - migrate_to_20;<br> _where_irb_old=1;<br> if risk_rating eq . then do;<br> do i=1 to 19;<br> if __risk_rating_notnull eq i then do;<br> ttc_matrix{i}=0.99;<br> end;<br> else do;<br> ttc_matrix{i}=0;<br> end;<br> end;<br> if risk_rating eq 20 then do;<br> ttc_matrix{20}=1;<br> end;<br> else do;<br> ttc_matrix{20} = 0.01;<br> end;<br> risk_rating = __risk_rating_notnull;<br> scaling_factor = coalesce(scaling_factor, 1);<br> pitness = 0;<br> asset_correlation = 0;<br> _where_irb_old=0;<br> end;<br> output __MTF_PD_PRED_data_nonnull;<br> if _where_irb_old eq 1 then do;<br> output __MTF_PD_PRED_data_irb_old;<br> end;<br> drop __risk_rating_notnull _where_irb_old;<br> run;<br><br>",
            " proc sql noprint;<br> create table __MTF_PD_PRED_data_asset_corr as select risk_rating as __risk_rating_from ,asset_correlation as __asset_correlation from __MTF_PD_PRED_data_nonnull ;<br>quit;<br><br>",
            " data __MTF_PD_PRED_ttc_scaled;<br> set __MTF_PD_PRED_data_nonnull;<br> array ttc_matrix{20} migrate_to_1 - migrate_to_20;<br> rowsum_ttc_matrix = sum(of ttc_matrix[*]);<br> rowsum_ttc_matrix_to_19 = rowsum_ttc_matrix - migrate_to_20;<br> if rowsum_ttc_matrix ne 0 then do;<br> ttc_matrix{20} = ttc_matrix{20}/(1/scaling_factor+(1-1/scaling_factor)*ttc_matrix{20});<br> do i=1 to 19;<br> ttc_matrix{i}=ttc_matrix{i}/rowsum_ttc_matrix_to_19*(1-ttc_matrix{20});<br> end;<br> end;<br> else do;<br> ttc_matrix{20} = 0;<br> end;<br> if risk_rating eq 20 then do;<br> do i=1 to 19;<br> ttc_matrix{i} = 0;<br> end;<br> ttc_matrix{20} = 1;<br> end;<br> drop rowsum_ttc_matrix rowsum_ttc_matrix_to_19;<br> run;<br><br>",
            " proc transpose data=__MTF_PD_PRED_ttc_scaled (KEEP=risk_rating migrate_to_:) out=__MTF_PD_PRED_ttc_scaled_T (rename=(_name_=__risk_rating_to_str col1=__probability));<br> by risk_rating;<br> run;<br><br>",
            " proc sql noprint;<br> create table __MTF_PD_PRED_ttc_scaled_long as select risk_rating as __risk_rating_from , input(compress(__risk_rating_to_str, , 'dk'), 8.) as __risk_rating_to , __probability from __MTF_PD_PRED_ttc_scaled_T order by __risk_rating_from, __risk_rating_to ;<br>quit;<br><br>",
            " proc sql noprint _method;<br> create table __MTF_PD_PRED_risk_rating_names as select distinct __risk_rating_from from __MTF_PD_PRED_ttc_scaled_long order by __risk_rating_from ;<br>quit;<br><br>",
            " proc transpose data=__MTF_PD_PRED_ttc_scaled_long out=__MTF_PD_PRED_ttc_scaled_wide_1 (drop=_name_ __risk_rating_from);<br> by __risk_rating_from;<br> id __risk_rating_to;<br> var __probability;<br> run;<br><br>",
            " data __MTF_PD_PRED_ttc_out;<br> merge __MTF_PD_PRED_risk_rating_names __MTF_PD_PRED_ttc_scaled_wide_1;<br> __time_period=1;<br> run;<br><br>",
            " proc iml;<br> * Read data into IML ;<br> use __MTF_PD_PRED_ttc_scaled_wide_1;<br> read all var _ALL_ into left_matrix;<br> close __MTF_PD_PRED_ttc_scaled_wide_1;<br> use __MTF_PD_PRED_ttc_scaled_wide_1;<br> read all var _ALL_ into right_matrix;<br> close __MTF_PD_PRED_ttc_scaled_wide_1;<br> **multiply;<br> left_right_matrix = left_matrix*right_matrix;<br> ** write result into sas data;<br> create __MTF_PD_PRED_ttc_scaled_wide_2 from left_right_matrix;<br> append from left_right_matrix;<br> close __MTF_PD_PRED_ttc_scaled_wide_2;<br> quit;<br><br>",
            " proc iml;<br> * Read data into IML ;<br> use __MTF_PD_PRED_ttc_scaled_wide_2;<br> read all var _ALL_ into left_matrix;<br> close __MTF_PD_PRED_ttc_scaled_wide_2;<br> use __MTF_PD_PRED_ttc_scaled_wide_1;<br> read all var _ALL_ into right_matrix;<br> close __MTF_PD_PRED_ttc_scaled_wide_1;<br> **multiply;<br> left_right_matrix = left_matrix*right_matrix;<br> ** write result into sas data;<br> create __MTF_PD_PRED_ttc_scaled_wide_3 from left_right_matrix;<br> append from left_right_matrix;<br> close __MTF_PD_PRED_ttc_scaled_wide_3;<br> quit;<br><br>",
            " proc iml;<br> * Read data into IML ;<br> use __MTF_PD_PRED_ttc_scaled_wide_3;<br> read all var _ALL_ into left_matrix;<br> close __MTF_PD_PRED_ttc_scaled_wide_3;<br> use __MTF_PD_PRED_ttc_scaled_wide_1;<br> read all var _ALL_ into right_matrix;<br> close __MTF_PD_PRED_ttc_scaled_wide_1;<br> **multiply;<br> left_right_matrix = left_matrix*right_matrix;<br> ** write result into sas data;<br> create __MTF_PD_PRED_ttc_scaled_wide_4 from left_right_matrix;<br> append from left_right_matrix;<br> close __MTF_PD_PRED_ttc_scaled_wide_4;<br> quit;<br><br>",
            " proc iml;<br> * Read data into IML ;<br> use __MTF_PD_PRED_ttc_scaled_wide_4;<br> read all var _ALL_ into left_matrix;<br> close __MTF_PD_PRED_ttc_scaled_wide_4;<br> use __MTF_PD_PRED_ttc_scaled_wide_1;<br> read all var _ALL_ into right_matrix;<br> close __MTF_PD_PRED_ttc_scaled_wide_1;<br> **multiply;<br> left_right_matrix = left_matrix*right_matrix;<br> ** write result into sas data;<br> create __MTF_PD_PRED_ttc_scaled_wide_5 from left_right_matrix;<br> append from left_right_matrix;<br> close __MTF_PD_PRED_ttc_scaled_wide_5;<br> quit;<br><br>",
            " data __MTF_PD_PRED_ttc_scaled_wide_2;<br> merge __MTF_PD_PRED_risk_rating_names __MTF_PD_PRED_ttc_scaled_wide_2;<br> __time_period=2;<br> run;<br><br>",
            " proc sql noprint _method;<br> create table __MTF_PD_PRED_ttc_out_tmp as select * from __MTF_PD_PRED_ttc_out union all select * from __MTF_PD_PRED_ttc_scaled_wide_2 ;<br>quit;<br><br>",
            " proc datasets lib = WORK nolist noprint memtype=all;<br> delete __MTF_PD_PRED_ttc_out / mt=data;<br> quit;<br><br>",
            " proc datasets lib=WORK nolist noprint memtype=all;<br> change __MTF_PD_PRED_ttc_out_tmp = __MTF_PD_PRED_ttc_out;<br> run;<br><br>",
            " data __MTF_PD_PRED_ttc_scaled_wide_3;<br> merge __MTF_PD_PRED_risk_rating_names __MTF_PD_PRED_ttc_scaled_wide_3;<br> __time_period=3;<br> run;<br><br>",
            " proc sql noprint _method;<br> create table __MTF_PD_PRED_ttc_out_tmp as select * from __MTF_PD_PRED_ttc_out union all select * from __MTF_PD_PRED_ttc_scaled_wide_3 ;<br>quit;<br><br>",
            " proc datasets lib = WORK nolist noprint memtype=all;<br> delete __MTF_PD_PRED_ttc_out / mt=data;<br> quit;<br><br>",
            " proc datasets lib=WORK nolist noprint memtype=all;<br> change __MTF_PD_PRED_ttc_out_tmp = __MTF_PD_PRED_ttc_out;<br> run;<br><br>",
            " data __MTF_PD_PRED_ttc_scaled_wide_4;<br> merge __MTF_PD_PRED_risk_rating_names __MTF_PD_PRED_ttc_scaled_wide_4;<br> __time_period=4;<br> run;<br><br>",
            " proc sql noprint _method;<br> create table __MTF_PD_PRED_ttc_out_tmp as select * from __MTF_PD_PRED_ttc_out union all select * from __MTF_PD_PRED_ttc_scaled_wide_4 ;<br>quit;<br><br>",
            " proc datasets lib = WORK nolist noprint memtype=all;<br> delete __MTF_PD_PRED_ttc_out / mt=data;<br> quit;<br><br>",
            " proc datasets lib=WORK nolist noprint memtype=all;<br> change __MTF_PD_PRED_ttc_out_tmp = __MTF_PD_PRED_ttc_out;<br> run;<br><br>",
            " data __MTF_PD_PRED_ttc_scaled_wide_5;<br> merge __MTF_PD_PRED_risk_rating_names __MTF_PD_PRED_ttc_scaled_wide_5;<br> __time_period=5;<br> run;<br><br>",
            " proc sql noprint _method;<br> create table __MTF_PD_PRED_ttc_out_tmp as select * from __MTF_PD_PRED_ttc_out union all select * from __MTF_PD_PRED_ttc_scaled_wide_5 ;<br>quit;<br><br>",
            " proc datasets lib = WORK nolist noprint memtype=all;<br> delete __MTF_PD_PRED_ttc_out / mt=data;<br> quit;<br><br>",
            " proc datasets lib=WORK nolist noprint memtype=all;<br> change __MTF_PD_PRED_ttc_out_tmp = __MTF_PD_PRED_ttc_out;<br> run;<br><br>",
            " proc transpose data=__MTF_PD_PRED_ttc_out out=__MTF_PD_PRED_ttc_cum (rename=(col1=__multiyear_ttc_probability)) name=__risk_rating_to_tmp;<br> by __time_period __risk_rating_from;<br> run;<br><br>",
            " data work.__MTF_PD_PIT_MULTIYEAR_TTC_PD;<br> set __MTF_PD_PRED_ttc_cum;<br> __risk_rating_to = input(__risk_rating_to_tmp, 8.);<br> drop __risk_rating_to_tmp;<br> run;<br><br>",
            " data __MTF_PD_PRED_pic;<br> set input.pd_z_factor(keep=reporting_date country z_value rename=(reporting_date = reporting_date country = country_code_map));<br> __PIC = cdf(\"normal\", z_value, 0, 1);<br> country_code_map = upcase(strip(country_code_map));<br> keep reporting_date country_code_map __PIC;<br> run;<br><br>",
            " data work.__mtf_pit_pitpd_version;<br> time_stamp = datetime();<br> format time_stamp DATETIME.;<br> version = '1.7.0';<br> put 'NOTE: you are running stat library version: ' version ;<br> run;<br>;<br><br>",
            " data _null_;<br> set work.__mtf_pit_pitpd_version;<br> mtf_version = 'MTF: ' || compress(version) || ' MTF_IFRS9_PD_COMPUTE_PIT_PD: ' || compress(\"1.1\");<br> call symput('__mtf_version_pitpd', mtf_version );<br> _time_stamp_ = datetime();<br> call symput('__mtf_timestamp_pitpd', put(_time_stamp_ , best18.));<br> RUN;<br><br>",
            " data _null_;<br> __maximum_time_horizon_err = 0;<br> if mod(5, 1) ne 0 then do;<br> __maximum_time_horizon_err = 1;<br> put \"ERROR: Macroparameter [maximum_time_horizon] must be integer\";<br> end;<br> __pitness_indicator_err = 0;<br> if 1 not in (0, 1) then do;<br> __pitness_indicator_err = 1;<br> put \"ERROR: Macroparameter [pitness_indicator] must be value from set {0, 1}\";<br> end;<br> __abort_macro = 0;<br> if sum( __maximum_time_horizon_err , __pitness_indicator_err ) gt 0 then do;<br> __abort_macro = 1;<br> end;<br> call symputx('__abort_macro', __abort_macro);<br> run;<br><br>",
            " proc sql noprint;<br> create table WORK.__MTF_PIT_PIC_UNIQUE as select distinct __PIC from WORK.__MTF_PD_PRED_pic order by __PIC ;<br>quit;<br><br>",
            " data WORK.__MTF_PIT_PIC_UNIQUE;<br> set WORK.__MTF_PIT_PIC_UNIQUE;<br> __rank = _n_;<br> run;<br><br>",
            " proc sql noprint;<br> create table WORK.__MTF_PIT_COUNTRY_DATES as select distinct country_code_map , reporting_date from WORK.__MTF_PD_PRED_pic ;<br>quit;<br><br>",
            " data WORK.__MTF_PIT_COUNTRY_DATES_MULTI;<br> set WORK.__MTF_PIT_COUNTRY_DATES;<br> do __year= 1 to 5;<br> __PiT_reporting_date = intnx('month', reporting_date , 12*(__year-1), 'end');<br> output;<br> end;<br> format __PiT_reporting_date date9.;<br> run;<br><br>",
            " proc sql noprint;<br> create table WORK.__MTF_PIT_COUNTRY_PIC_MULTI as select b.country_code_map , b.reporting_date , b.__PiT_reporting_date , b.__year , a.__PIC from WORK.__MTF_PD_PRED_pic as a inner join WORK.__MTF_PIT_COUNTRY_DATES_MULTI as b on a.country_code_map=b.country_code_map and a.reporting_date eq b.__PiT_reporting_date order by b.country_code_map , b.reporting_date , b.__PiT_reporting_date ;<br>quit;<br><br>",
            " proc sql;<br> create table WORK.__MTF_PIT_COUNTRY_PIC_MULTI_RANK as select a.* , b.__rank from WORK.__MTF_PIT_COUNTRY_PIC_MULTI as a left join WORK.__MTF_PIT_PIC_UNIQUE as b on a.__PIC=b.__PIC order by country_code_map , reporting_date , __year ;<br>quit;<br><br>",
            " proc iml;<br> ** read data into IML ;<br> use WORK.__MTF_PD_PRED_ttc_scaled_long;<br> read all var _ALL_ into ttc_data[colname=ttc_data_cols];<br> close WORK.__MTF_PD_PRED_ttc_scaled_long;<br> use WORK.__MTF_PIT_PIC_UNIQUE;<br> read all var _ALL_ into unique_PIC_data[colname=unique_PIC_data_cols];<br> close WORK.__MTF_PIT_PIC_UNIQUE;<br> use WORK.__MTF_PD_PRED_data_asset_corr;<br> read all var _ALL_ into AC_data[colname=AC_data_cols];<br> close WORK.__MTF_PD_PRED_data_asset_corr;<br> * Create index columns to refer to columns by original name in SAS dataset;<br> i1 = 1:ncol(ttc_data_cols);<br> mattrib i1 colname = ttc_data_cols;<br> i2 = 1:ncol(unique_PIC_data_cols);<br> mattrib i2 colname = unique_PIC_data_cols;<br> i4 = 1:ncol(AC_data_cols);<br> mattrib i4 colname = AC_data_cols;<br> ** sort ttc data and rating asset correlations;<br> call sort(ttc_data,{1,2}, {2});<br> call sort(AC_data,{1}, {1});<br> rating_names = unique(ttc_data[,i1[, \"__risk_rating_from\"]]);<br> call sort(rating_names, {1});<br> ** size is determined by nr of possible transitions = nr_of_ratings*nr_of_ratings;<br> nr_of_ratings = ncol(unique(ttc_data[,i1[, \"__risk_rating_from\"]]));<br> ** compute quantiles of cumulative probabilities;<br> cum_prob = J(nr_of_ratings*nr_of_ratings,1,.);<br> norm_quantile_cum_prob = J(nr_of_ratings*nr_of_ratings,1,.);<br> do i = 1 to nr_of_ratings;<br> ** for each rating we compute the cumulative sum of the probability from default rating to best performing rating;<br> start_row_index = nr_of_ratings*(i-1);<br> cum_prob[start_row_index+1:start_row_index+nr_of_ratings,1] = cusum(ttc_data[start_row_index+1:start_row_index+nr_of_ratings,i1[, \"__probability\"]]);<br> do j = 1 to nr_of_ratings-1;<br> ** to compute quantiles of normal distribution we should input values between 0 and 1 (last value is 1, so only loop to nr_of_ratings - 1);<br> if cum_prob[(start_row_index+j),1] < 0.9999999999 & cum_prob[(start_row_index+j),1] > 0.0000000001 then norm_quantile_cum_prob[(start_row_index+j),1] = quantile(\"Normal\", cum_prob[(start_row_index+j),1]);<br> end;<br> end;<br> ** compute version of PICs used in vasicek formula;<br> nr_of_unique_PICs = nrow(unique_PIC_data);<br> PIC_quantile_1 = J(nr_of_unique_PICs,1,.);<br> do i = 1 to nr_of_unique_PICs;<br> PIC_quantile_1[i] = quantile(\"normal\",1-unique_PIC_data[i, i2[, \"__PIC\"]]);<br> end;<br> ** compute versions of asset correlations used in vasicek formula;<br> sqrt_asset_corr = sqrt(AC_data[, i4[,\"__asset_correlation\"]]);<br> sqrt_1_asset_corr = sqrt(J(nr_of_ratings,1,1)-AC_data[, i4[,\"__asset_correlation\"]]);<br> ** define vasicek probabilities (we obtain a matrix for every PIC that we have);<br> vasicek_prob_cum = J(nr_of_unique_PICs*nr_of_ratings, nr_of_ratings,.);<br> ** define matrices that will hold PiT probabilities;<br> pit_matrices = J(nr_of_unique_PICs*nr_of_ratings, nr_of_ratings,.);<br> ** compute PiT matrices;<br> do i = 1 to nr_of_unique_PICs;<br> do j = 1 to nr_of_ratings;<br> do k = 1 to nr_of_ratings;<br> start_row_index_PIC = nr_of_ratings*(i-1);<br> if k > 1 then do;<br> if 1 = 0 then do;<br> **compute non-default migration (j,k) as normalized ttc probability in case only default migration is made PiT;<br> pit_matrices[start_row_index_PIC+ j, nr_of_ratings-(k-1)] = ttc_data[nr_of_ratings*(j-1)+k,i1[, \"__probability\"]]* ((1-pit_matrices[start_row_index_PIC+ j, nr_of_ratings])/ (1- (j^=nr_of_ratings)*ttc_data[nr_of_ratings*(j-1)+1, i1[, \"__probability\"]]));<br> end;<br> else do;<br> **get vasicek probabilities for migration (j,k) of the TTC matrix (a specific migration);<br> vasicek_prob_cum[start_row_index_PIC + j, nr_of_ratings - (k-1)] = coalesce(cdf(\"Normal\",(norm_quantile_cum_prob[(nr_of_ratings*(j-1)+k)] - sqrt_asset_corr[nr_of_ratings-(j-1)]*PIC_quantile_1[i])/sqrt_1_asset_corr[nr_of_ratings-(j-1)]),1);<br> **compute non-default migration (j,k) as difference between vasicek probabilities in case all migrations are made PiT;<br> pit_matrices[start_row_index_PIC+ j, nr_of_ratings-(k-1)] = vasicek_prob_cum[start_row_index_PIC+ j, nr_of_ratings-(k-1)] - vasicek_prob_cum[start_row_index_PIC+ j, nr_of_ratings-(k-1)+1];<br> end;<br> end;<br> else do;<br> **get vasicek probabilities for migration (j,k) of the TTC matrix (a specific migration);<br> vasicek_prob_cum[start_row_index_PIC + j, nr_of_ratings - (k-1)] = coalesce(cdf(\"Normal\",(norm_quantile_cum_prob[(nr_of_ratings*(j-1)+k)] - sqrt_asset_corr[nr_of_ratings-(j-1)]*PIC_quantile_1[i])/sqrt_1_asset_corr[nr_of_ratings-(j-1)]),1);<br> if 1 = 0 then do;<br> pit_matrices[start_row_index_PIC+ j, nr_of_ratings-(k-1)] = vasicek_prob_cum[start_row_index_PIC+ j, nr_of_ratings-(k-1)];<br> end;<br> else do;<br> pit_matrices[start_row_index_PIC+ j, nr_of_ratings-(k-1)] = vasicek_prob_cum[start_row_index_PIC+ j, nr_of_ratings-(k-1)];<br> end;<br> end;<br> end;<br> end;<br> end;<br> ** transform pit probabilities into long format for outputting;<br> pit_probs = J(nr_of_unique_PICs*nr_of_ratings*nr_of_ratings,4,.);<br> do i = 1 to nr_of_unique_PICs;<br> do j = 1 to nr_of_ratings;<br> do k = 1 to nr_of_ratings;<br> start_row_index = (i-1)*nr_of_ratings*nr_of_ratings;<br> pit_probs[start_row_index +(j-1)*nr_of_ratings+k,1] = unique_PIC_data[i, i2[, \"__PIC\"]];<br> pit_probs[start_row_index +(j-1)*nr_of_ratings+k,2] = rating_names[,j];<br> pit_probs[start_row_index +(j-1)*nr_of_ratings+k,3] = rating_names[,k];<br> pit_probs[start_row_index +(j-1)*nr_of_ratings+k,4] = pit_matrices[(i-1)*nr_of_ratings+j,k];<br> end;<br> end;<br> end;<br> ** create dataset containing pit pds;<br> create WORK.__MTF_PIT_ONEYEAR_PDS from pit_probs [colname={\"__PIC\", \"__risk_rating_from\", \"__risk_rating_to\", \"__probability\"}];<br> append from pit_probs;<br> close WORK.__MTF_PIT_ONEYEAR_PDS;<br> ** read data into IML ;<br> use WORK.__MTF_PIT_COUNTRY_PIC_MULTI_RANK;<br> read all var _ALL_ into ranked_multiyear_PIC_data[colname=ranked_multiyear_PIC_data_cols];<br> close WORK.__MTF_PIT_COUNTRY_PIC_MULTI_RANK;<br> * Create index columns to refer to columns by original name in SAS dataset;<br> i3 = 1:ncol(ranked_multiyear_PIC_data_cols);<br> mattrib i3 colname = ranked_multiyear_PIC_data_cols;<br> **multiply pit matrices to obtain multi-year pit matrices;<br> nr_of_multiyear_PICs = nrow(ranked_multiyear_PIC_data);<br> multiyear_pit_matrices = J(nr_of_multiyear_PICs*nr_of_ratings,nr_of_ratings,.);<br> do i = 1 to nr_of_multiyear_PICs;<br> start_row = ranked_multiyear_PIC_data[i,i3[, \"__rank\"]] -1;<br> if ranked_multiyear_PIC_data[i, i3[, \"__year\"]] = 1 then do;<br> ** for first year multi-year pit matrix is just the pit matrix from that year;<br> multiyear_pit_matrices[(nr_of_ratings*(i-1)+1):(nr_of_ratings*(i-1)+nr_of_ratings),1:nr_of_ratings]= pit_matrices[(nr_of_ratings*start_row + 1):(nr_of_ratings*start_row + nr_of_ratings),1:nr_of_ratings];<br> end;<br> else do;<br> ** next multiply pit matrix from current year with multiyear pit matrix from previous year;<br> multiyear_pit_matrices[(nr_of_ratings*(i-1)+1):(nr_of_ratings*(i-1)+nr_of_ratings),1:nr_of_ratings] = multiyear_pit_matrices[(nr_of_ratings*(i-2)+1):(nr_of_ratings*(i-2)+nr_of_ratings),1:nr_of_ratings]* pit_matrices[(nr_of_ratings*start_row + 1):(nr_of_ratings*start_row + nr_of_ratings),1:nr_of_ratings];<br> end;<br> end;<br> ** transform multiyear pit probabilities into long format for outputting and compute marginal pit pds;<br> multiyear_pit_probs = J(nr_of_multiyear_PICs*nr_of_ratings*nr_of_ratings,3,.);<br> marginal_pit_pds = J(nr_of_multiyear_PICs*nr_of_ratings,3,.);<br> do i = 1 to nr_of_multiyear_PICs;<br> do j = 1 to nr_of_ratings;<br> do k = 1 to nr_of_ratings;<br> start_row_index = (i-1)*nr_of_ratings*nr_of_ratings;<br> multiyear_pit_probs[start_row_index +(j-1)*nr_of_ratings+k,1] = rating_names[,j];<br> multiyear_pit_probs[start_row_index +(j-1)*nr_of_ratings+k,2] = rating_names[,k];<br> multiyear_pit_probs[start_row_index +(j-1)*nr_of_ratings+k,3] = multiyear_pit_matrices[(i-1)*nr_of_ratings+j, k];<br> end;<br> marginal_pit_pds[nr_of_ratings*(i-1)+j,1] = ranked_multiyear_PIC_data[i, i3[, \"__year\"]];<br> marginal_pit_pds[nr_of_ratings*(i-1)+j,2] = rating_names[,j];<br> if ranked_multiyear_PIC_data[i, i3[, \"__year\"]] = 1 then do;<br> marginal_pit_pds[nr_of_ratings*(i-1)+j,3] = multiyear_pit_probs[start_row_index +(j-1)*nr_of_ratings+nr_of_ratings,3];<br> end;<br> else do;<br> marginal_pit_pds[nr_of_ratings*(i-1)+j,3] = multiyear_pit_probs[start_row_index +(j-1)*nr_of_ratings+nr_of_ratings,3]- multiyear_pit_probs[start_row_index +(j-1)*nr_of_ratings+nr_of_ratings-nr_of_ratings*nr_of_ratings,3];<br> end;<br> end;<br> end;<br> ** create datasets containing pit multiyear and marginal pds;<br> create WORK.__MTF_PIT_MULTI_PDS from multiyear_pit_probs [colname={\"__risk_rating_from\", \"__risk_rating_to\", \"__multiyear_pit_probability\"}];<br> append from multiyear_pit_probs;<br> close WORK.__MTF_PIT_MULTI_PDS;<br> quit;<br><br>",
            " proc sql noprint;<br> create table work.__MTF_PD_PIT_ONEYEAR_PIT_PD_1 as select b.country_code_map , b.reporting_date , a.* from WORK.__MTF_PIT_ONEYEAR_PDS as a left join WORK.__MTF_PD_PRED_pic as b on a.__PIC = b.__PIC order by country_code_map , reporting_date , __risk_rating_from , __risk_rating_to ;<br>quit;<br><br>",
            " proc sql noprint;<br> select count(distinct __risk_rating_from) into :__nr_of_ratings from WORK.__MTF_PD_PRED_ttc_scaled_long ;<br>quit;<br><br>",
            " data WORK.__MTF_PIT_MULTIYEAR_ROW_INFO (drop=i);<br> set WORK.__MTF_PIT_COUNTRY_PIC_MULTI_RANK (keep=country_code_map reporting_date __year);<br> do i = 1 to 20* 20;<br> output;<br> end;<br> run;<br><br>",
            " data work.__MTF_PD_PIT_MULTIYEAR_PIT_PD_1;<br> merge WORK.__MTF_PIT_MULTIYEAR_ROW_INFO WORK.__MTF_PIT_MULTI_PDS;<br> run;<br><br>",
            " proc datasets lib = work nolist noprint memtype=all;<br> delete __mtf_pit: / mt=data;<br> quit;<br>;<br><br>",
            " data work.__mtf_pit_pitpd_version;<br> time_stamp = datetime();<br> format time_stamp DATETIME.;<br> version = '1.7.0';<br> put 'NOTE: you are running stat library version: ' version ;<br> run;<br>;<br><br>",
            " data _null_;<br> set work.__mtf_pit_pitpd_version;<br> mtf_version = 'MTF: ' || compress(version) || ' MTF_IFRS9_PD_COMPUTE_PIT_PD: ' || compress(\"1.1\");<br> call symput('__mtf_version_pitpd', mtf_version );<br> _time_stamp_ = datetime();<br> call symput('__mtf_timestamp_pitpd', put(_time_stamp_ , best18.));<br> RUN;<br><br>",
            " data _null_;<br> __maximum_time_horizon_err = 0;<br> if mod(5, 1) ne 0 then do;<br> __maximum_time_horizon_err = 1;<br> put \"ERROR: Macroparameter [maximum_time_horizon] must be integer\";<br> end;<br> __pitness_indicator_err = 0;<br> if 0 not in (0, 1) then do;<br> __pitness_indicator_err = 1;<br> put \"ERROR: Macroparameter [pitness_indicator] must be value from set {0, 1}\";<br> end;<br> __abort_macro = 0;<br> if sum( __maximum_time_horizon_err , __pitness_indicator_err ) gt 0 then do;<br> __abort_macro = 1;<br> end;<br> call symputx('__abort_macro', __abort_macro);<br> run;<br><br>",
            " proc sql noprint;<br> create table WORK.__MTF_PIT_PIC_UNIQUE as select distinct __PIC from WORK.__MTF_PD_PRED_pic order by __PIC ;<br>quit;<br><br>",
            " data WORK.__MTF_PIT_PIC_UNIQUE;<br> set WORK.__MTF_PIT_PIC_UNIQUE;<br> __rank = _n_;<br> run;<br><br>",
            " proc sql noprint;<br> create table WORK.__MTF_PIT_COUNTRY_DATES as select distinct country_code_map , reporting_date from WORK.__MTF_PD_PRED_pic ;<br>quit;<br><br>",
            " data WORK.__MTF_PIT_COUNTRY_DATES_MULTI;<br> set WORK.__MTF_PIT_COUNTRY_DATES;<br> do __year= 1 to 5;<br> __PiT_reporting_date = intnx('month', reporting_date , 12*(__year-1), 'end');<br> output;<br> end;<br> format __PiT_reporting_date date9.;<br> run;<br><br>",
            " proc sql noprint;<br> create table WORK.__MTF_PIT_COUNTRY_PIC_MULTI as select b.country_code_map , b.reporting_date , b.__PiT_reporting_date , b.__year , a.__PIC from WORK.__MTF_PD_PRED_pic as a inner join WORK.__MTF_PIT_COUNTRY_DATES_MULTI as b on a.country_code_map=b.country_code_map and a.reporting_date eq b.__PiT_reporting_date order by b.country_code_map , b.reporting_date , b.__PiT_reporting_date ;<br>quit;<br><br>",
            " proc sql;<br> create table WORK.__MTF_PIT_COUNTRY_PIC_MULTI_RANK as select a.* , b.__rank from WORK.__MTF_PIT_COUNTRY_PIC_MULTI as a left join WORK.__MTF_PIT_PIC_UNIQUE as b on a.__PIC=b.__PIC order by country_code_map , reporting_date , __year ;<br>quit;<br><br>",
            " proc iml;<br> ** read data into IML ;<br> use WORK.__MTF_PD_PRED_ttc_scaled_long;<br> read all var _ALL_ into ttc_data[colname=ttc_data_cols];<br> close WORK.__MTF_PD_PRED_ttc_scaled_long;<br> use WORK.__MTF_PIT_PIC_UNIQUE;<br> read all var _ALL_ into unique_PIC_data[colname=unique_PIC_data_cols];<br> close WORK.__MTF_PIT_PIC_UNIQUE;<br> use WORK.__MTF_PD_PRED_data_asset_corr;<br> read all var _ALL_ into AC_data[colname=AC_data_cols];<br> close WORK.__MTF_PD_PRED_data_asset_corr;<br> * Create index columns to refer to columns by original name in SAS dataset;<br> i1 = 1:ncol(ttc_data_cols);<br> mattrib i1 colname = ttc_data_cols;<br> i2 = 1:ncol(unique_PIC_data_cols);<br> mattrib i2 colname = unique_PIC_data_cols;<br> i4 = 1:ncol(AC_data_cols);<br> mattrib i4 colname = AC_data_cols;<br> ** sort ttc data and rating asset correlations;<br> call sort(ttc_data,{1,2}, {2});<br> call sort(AC_data,{1}, {1});<br> rating_names = unique(ttc_data[,i1[, \"__risk_rating_from\"]]);<br> call sort(rating_names, {1});<br> ** size is determined by nr of possible transitions = nr_of_ratings*nr_of_ratings;<br> nr_of_ratings = ncol(unique(ttc_data[,i1[, \"__risk_rating_from\"]]));<br> ** compute quantiles of cumulative probabilities;<br> cum_prob = J(nr_of_ratings*nr_of_ratings,1,.);<br> norm_quantile_cum_prob = J(nr_of_ratings*nr_of_ratings,1,.);<br> do i = 1 to nr_of_ratings;<br> ** for each rating we compute the cumulative sum of the probability from default rating to best performing rating;<br> start_row_index = nr_of_ratings*(i-1);<br> cum_prob[start_row_index+1:start_row_index+nr_of_ratings,1] = cusum(ttc_data[start_row_index+1:start_row_index+nr_of_ratings,i1[, \"__probability\"]]);<br> do j = 1 to nr_of_ratings-1;<br> ** to compute quantiles of normal distribution we should input values between 0 and 1 (last value is 1, so only loop to nr_of_ratings - 1);<br> if cum_prob[(start_row_index+j),1] < 0.9999999999 & cum_prob[(start_row_index+j),1] > 0.0000000001 then norm_quantile_cum_prob[(start_row_index+j),1] = quantile(\"Normal\", cum_prob[(start_row_index+j),1]);<br> end;<br> end;<br> ** compute version of PICs used in vasicek formula;<br> nr_of_unique_PICs = nrow(unique_PIC_data);<br> PIC_quantile_1 = J(nr_of_unique_PICs,1,.);<br> do i = 1 to nr_of_unique_PICs;<br> PIC_quantile_1[i] = quantile(\"normal\",1-unique_PIC_data[i, i2[, \"__PIC\"]]);<br> end;<br> ** compute versions of asset correlations used in vasicek formula;<br> sqrt_asset_corr = sqrt(AC_data[, i4[,\"__asset_correlation\"]]);<br> sqrt_1_asset_corr = sqrt(J(nr_of_ratings,1,1)-AC_data[, i4[,\"__asset_correlation\"]]);<br> ** define vasicek probabilities (we obtain a matrix for every PIC that we have);<br> vasicek_prob_cum = J(nr_of_unique_PICs*nr_of_ratings, nr_of_ratings,.);<br> ** define matrices that will hold PiT probabilities;<br> pit_matrices = J(nr_of_unique_PICs*nr_of_ratings, nr_of_ratings,.);<br> ** compute PiT matrices;<br> do i = 1 to nr_of_unique_PICs;<br> do j = 1 to nr_of_ratings;<br> do k = 1 to nr_of_ratings;<br> start_row_index_PIC = nr_of_ratings*(i-1);<br> if k > 1 then do;<br> if 0 = 0 then do;<br> **compute non-default migration (j,k) as normalized ttc probability in case only default migration is made PiT;<br> pit_matrices[start_row_index_PIC+ j, nr_of_ratings-(k-1)] = ttc_data[nr_of_ratings*(j-1)+k,i1[, \"__probability\"]]* ((1-pit_matrices[start_row_index_PIC+ j, nr_of_ratings])/ (1- (j^=nr_of_ratings)*ttc_data[nr_of_ratings*(j-1)+1, i1[, \"__probability\"]]));<br> end;<br> else do;<br> **get vasicek probabilities for migration (j,k) of the TTC matrix (a specific migration);<br> vasicek_prob_cum[start_row_index_PIC + j, nr_of_ratings - (k-1)] = coalesce(cdf(\"Normal\",(norm_quantile_cum_prob[(nr_of_ratings*(j-1)+k)] - sqrt_asset_corr[nr_of_ratings-(j-1)]*PIC_quantile_1[i])/sqrt_1_asset_corr[nr_of_ratings-(j-1)]),1);<br> **compute non-default migration (j,k) as difference between vasicek probabilities in case all migrations are made PiT;<br> pit_matrices[start_row_index_PIC+ j, nr_of_ratings-(k-1)] = vasicek_prob_cum[start_row_index_PIC+ j, nr_of_ratings-(k-1)] - vasicek_prob_cum[start_row_index_PIC+ j, nr_of_ratings-(k-1)+1];<br> end;<br> end;<br> else do;<br> **get vasicek probabilities for migration (j,k) of the TTC matrix (a specific migration);<br> vasicek_prob_cum[start_row_index_PIC + j, nr_of_ratings - (k-1)] = coalesce(cdf(\"Normal\",(norm_quantile_cum_prob[(nr_of_ratings*(j-1)+k)] - sqrt_asset_corr[nr_of_ratings-(j-1)]*PIC_quantile_1[i])/sqrt_1_asset_corr[nr_of_ratings-(j-1)]),1);<br> if 0 = 0 then do;<br> pit_matrices[start_row_index_PIC+ j, nr_of_ratings-(k-1)] = vasicek_prob_cum[start_row_index_PIC+ j, nr_of_ratings-(k-1)];<br> end;<br> else do;<br> pit_matrices[start_row_index_PIC+ j, nr_of_ratings-(k-1)] = vasicek_prob_cum[start_row_index_PIC+ j, nr_of_ratings-(k-1)];<br> end;<br> end;<br> end;<br> end;<br> end;<br> ** transform pit probabilities into long format for outputting;<br> pit_probs = J(nr_of_unique_PICs*nr_of_ratings*nr_of_ratings,4,.);<br> do i = 1 to nr_of_unique_PICs;<br> do j = 1 to nr_of_ratings;<br> do k = 1 to nr_of_ratings;<br> start_row_index = (i-1)*nr_of_ratings*nr_of_ratings;<br> pit_probs[start_row_index +(j-1)*nr_of_ratings+k,1] = unique_PIC_data[i, i2[, \"__PIC\"]];<br> pit_probs[start_row_index +(j-1)*nr_of_ratings+k,2] = rating_names[,j];<br> pit_probs[start_row_index +(j-1)*nr_of_ratings+k,3] = rating_names[,k];<br> pit_probs[start_row_index +(j-1)*nr_of_ratings+k,4] = pit_matrices[(i-1)*nr_of_ratings+j,k];<br> end;<br> end;<br> end;<br> ** create dataset containing pit pds;<br> create WORK.__MTF_PIT_ONEYEAR_PDS from pit_probs [colname={\"__PIC\", \"__risk_rating_from\", \"__risk_rating_to\", \"__probability\"}];<br> append from pit_probs;<br> close WORK.__MTF_PIT_ONEYEAR_PDS;<br> ** read data into IML ;<br> use WORK.__MTF_PIT_COUNTRY_PIC_MULTI_RANK;<br> read all var _ALL_ into ranked_multiyear_PIC_data[colname=ranked_multiyear_PIC_data_cols];<br> close WORK.__MTF_PIT_COUNTRY_PIC_MULTI_RANK;<br> * Create index columns to refer to columns by original name in SAS dataset;<br> i3 = 1:ncol(ranked_multiyear_PIC_data_cols);<br> mattrib i3 colname = ranked_multiyear_PIC_data_cols;<br> **multiply pit matrices to obtain multi-year pit matrices;<br> nr_of_multiyear_PICs = nrow(ranked_multiyear_PIC_data);<br> multiyear_pit_matrices = J(nr_of_multiyear_PICs*nr_of_ratings,nr_of_ratings,.);<br> do i = 1 to nr_of_multiyear_PICs;<br> start_row = ranked_multiyear_PIC_data[i,i3[, \"__rank\"]] -1;<br> if ranked_multiyear_PIC_data[i, i3[, \"__year\"]] = 1 then do;<br> ** for first year multi-year pit matrix is just the pit matrix from that year;<br> multiyear_pit_matrices[(nr_of_ratings*(i-1)+1):(nr_of_ratings*(i-1)+nr_of_ratings),1:nr_of_ratings]= pit_matrices[(nr_of_ratings*start_row + 1):(nr_of_ratings*start_row + nr_of_ratings),1:nr_of_ratings];<br> end;<br> else do;<br> ** next multiply pit matrix from current year with multiyear pit matrix from previous year;<br> multiyear_pit_matrices[(nr_of_ratings*(i-1)+1):(nr_of_ratings*(i-1)+nr_of_ratings),1:nr_of_ratings] = multiyear_pit_matrices[(nr_of_ratings*(i-2)+1):(nr_of_ratings*(i-2)+nr_of_ratings),1:nr_of_ratings]* pit_matrices[(nr_of_ratings*start_row + 1):(nr_of_ratings*start_row + nr_of_ratings),1:nr_of_ratings];<br> end;<br> end;<br> ** transform multiyear pit probabilities into long format for outputting and compute marginal pit pds;<br> multiyear_pit_probs = J(nr_of_multiyear_PICs*nr_of_ratings*nr_of_ratings,3,.);<br> marginal_pit_pds = J(nr_of_multiyear_PICs*nr_of_ratings,3,.);<br> do i = 1 to nr_of_multiyear_PICs;<br> do j = 1 to nr_of_ratings;<br> do k = 1 to nr_of_ratings;<br> start_row_index = (i-1)*nr_of_ratings*nr_of_ratings;<br> multiyear_pit_probs[start_row_index +(j-1)*nr_of_ratings+k,1] = rating_names[,j];<br> multiyear_pit_probs[start_row_index +(j-1)*nr_of_ratings+k,2] = rating_names[,k];<br> multiyear_pit_probs[start_row_index +(j-1)*nr_of_ratings+k,3] = multiyear_pit_matrices[(i-1)*nr_of_ratings+j, k];<br> end;<br> marginal_pit_pds[nr_of_ratings*(i-1)+j,1] = ranked_multiyear_PIC_data[i, i3[, \"__year\"]];<br> marginal_pit_pds[nr_of_ratings*(i-1)+j,2] = rating_names[,j];<br> if ranked_multiyear_PIC_data[i, i3[, \"__year\"]] = 1 then do;<br> marginal_pit_pds[nr_of_ratings*(i-1)+j,3] = multiyear_pit_probs[start_row_index +(j-1)*nr_of_ratings+nr_of_ratings,3];<br> end;<br> else do;<br> marginal_pit_pds[nr_of_ratings*(i-1)+j,3] = multiyear_pit_probs[start_row_index +(j-1)*nr_of_ratings+nr_of_ratings,3]- multiyear_pit_probs[start_row_index +(j-1)*nr_of_ratings+nr_of_ratings-nr_of_ratings*nr_of_ratings,3];<br> end;<br> end;<br> end;<br> ** create datasets containing pit multiyear and marginal pds;<br> create WORK.__MTF_PIT_MULTI_PDS from multiyear_pit_probs [colname={\"__risk_rating_from\", \"__risk_rating_to\", \"__multiyear_pit_probability\"}];<br> append from multiyear_pit_probs;<br> close WORK.__MTF_PIT_MULTI_PDS;<br> quit;<br><br>",
            " proc sql noprint;<br> create table work.__MTF_PD_PIT_ONEYEAR_PIT_PD_0 as select b.country_code_map , b.reporting_date , a.* from WORK.__MTF_PIT_ONEYEAR_PDS as a left join WORK.__MTF_PD_PRED_pic as b on a.__PIC = b.__PIC order by country_code_map , reporting_date , __risk_rating_from , __risk_rating_to ;<br>quit;<br><br>",
            " proc sql noprint;<br> select count(distinct __risk_rating_from) into :__nr_of_ratings from WORK.__MTF_PD_PRED_ttc_scaled_long ;<br>quit;<br><br>",
            " data WORK.__MTF_PIT_MULTIYEAR_ROW_INFO (drop=i);<br> set WORK.__MTF_PIT_COUNTRY_PIC_MULTI_RANK (keep=country_code_map reporting_date __year);<br> do i = 1 to 20* 20;<br> output;<br> end;<br> run;<br><br>",
            " data work.__MTF_PD_PIT_MULTIYEAR_PIT_PD_0;<br> merge WORK.__MTF_PIT_MULTIYEAR_ROW_INFO WORK.__MTF_PIT_MULTI_PDS;<br> run;<br><br>",
            " proc datasets lib = work nolist noprint memtype=all;<br> delete __mtf_pit: / mt=data;<br> quit;<br>;<br><br>",
            " DATA work.__MTF_PD_PIT_MULTIYEAR_PIT_PD;<br> SET work.__MTF_PD_PIT_MULTIYEAR_PIT_PD_0;<br> RUN;<br><br>",
            " data work.__MTF_PD_PIT_MULTIYEAR_PIT_PD_20;<br> set work.__MTF_PD_PIT_MULTIYEAR_PIT_PD;<br> where __risk_rating_from ne 20 and __risk_rating_to eq 20;<br> run;<br><br>",
            " data work.__MTF_PD_PIT_MULTIYEAR_TTC_PD_20;<br> set work.__MTF_PD_PIT_MULTIYEAR_TTC_PD;<br> where __risk_rating_from ne 20 and __risk_rating_to eq 20;<br> run;<br><br>",
            " proc sql noprint _method;<br> create table work.__MTF_PD_PIT_MULTIYEAR_BOTH_PD as select a.country_code_map , a.reporting_date , a.__year as __time_period , a.__risk_rating_from , a.__risk_rating_to , a.__multiyear_pit_probability , b.__multiyear_ttc_probability from work.__MTF_PD_PIT_MULTIYEAR_PIT_PD_20 as a left join work.__MTF_PD_PIT_MULTIYEAR_TTC_PD_20 as b on a.__risk_rating_from = b.__risk_rating_from and a.__risk_rating_to = b.__risk_rating_to and a.__year = b.__time_period order by country_code_map, reporting_date, __risk_rating_from, __time_period ;<br>quit;<br><br>",
            " proc datasets lib = work nolist noprint memtype=all;<br> delete __MTF_PD_PRED: / mt=data;<br> quit;<br>;<br><br>",
            " data work.__MTF_PD_JOIN_version;<br> time_stamp = datetime();<br> format time_stamp DATETIME.;<br> version = '1.7.0';<br> put 'NOTE: you are running stat library version: ' version ;<br> run;<br>;<br><br>",
            " data _null_;<br> set __MTF_PD_JOIN_version;<br> mtf_version = 'MTF: ' || compress(version) || ' MTF_PD_PIT_BACKTEST_JOINT: ' || compress(\"1.00\");<br> call symput('__mtf_joint_version', mtf_joint_version );<br> _time_stamp_ = datetime();<br> call symput('__mtf_joint_timestamp', put(_time_stamp_ , best18.));<br> RUN;<br><br>",
            " data work.__MTF_PD_PIT_MARGINAL_BOTH_PD;<br> set work.__MTF_PD_PIT_MULTIYEAR_BOTH_PD;<br> by country_code_map reporting_date __risk_rating_from __time_period;<br> __marg_pd_tmp_lag = lag(__multiyear_pit_probability);<br> if first.__time_period then do;<br> __marginal_pit_probability = __multiyear_pit_probability;<br> end;<br> if __time_period ge 2 then do;<br> __marginal_pit_probability = __multiyear_pit_probability - __marg_pd_tmp_lag;<br> end;<br> drop __marg_pd_tmp_lag;<br> run;<br><br>",
            " proc sort data=work.__MTF_PD_PIT_MARGINAL_BOTH_PD out=work.__MTF_PD_PIT_MARGINAL_BOTH_PD;<br> by reporting_date __risk_rating_from country_code_map;<br> run;<br><br>",
            " proc sql noprint _method magic=102;<br> create table work.__MTF_PD_PIT_MULTIYEAR_PRED as select a.country_code_map ,a.reporting_date ,a.__time_period ,a.__risk_rating_from ,a.__risk_rating_to ,a.__marginal_pit_probability ,os_e as outstanding ,customer_id ,maturity_date ,case when maturity_date>a.reporting_date then INTCK('month',a.reporting_date,maturity_date) else . end as monthdiff ,case when calculated monthdiff is not missing and calculated monthdiff > 0 and calculated monthdiff < 12 then 1-(1-a.__multiyear_pit_probability) ** (calculated monthdiff/12) else a.__multiyear_pit_probability end as __multiyear_pit_probability ,case when calculated monthdiff is not missing and calculated monthdiff > 0 and calculated monthdiff < 12 then 1-(1-a.__multiyear_ttc_probability) ** (calculated monthdiff/12) else a.__multiyear_ttc_probability end as __multiyear_ttc_probability from work.__MTF_PD_PIT_MARGINAL_BOTH_PD a inner join work.__MTF_PD_PIT_PROC_MULTIYEAR_DATA b on a.reporting_date = b.reporting_date and a.__risk_rating_from = b.rating_number and a.country_code_map = b.country_code_map order by a.reporting_date, a.__time_period ;<br>quit;<br><br>",
            " proc sql noprint _method magic=102;<br> create table __MTF_PD_JOIN_MULTIYEAR_PRED2 as select distinct reporting_date , __time_period , count(*) as total_obs_date , sum(outstanding) as total_os_date , sum(__multiyear_pit_probability) as expected_pit_defaults , sum(__multiyear_ttc_probability) as expected_ttc_defaults , sum(outstanding*__multiyear_pit_probability) as expected_pit_total_def_os , sum(outstanding*__multiyear_ttc_probability) as expected_ttc_total_def_os , coalesce(calculated expected_pit_total_def_os / calculated expected_pit_defaults, 0) as expected_pit_def_os , coalesce(calculated expected_ttc_total_def_os / calculated expected_ttc_defaults, 0) as expected_ttc_def_os , mean(__multiyear_pit_probability) as pit_prob_nw , coalesce(calculated expected_pit_total_def_os / calculated total_os_date, 0) as pit_prob_ew , coalesce(calculated expected_ttc_total_def_os / calculated total_os_date, 0) as ttc_prob_ew , mean(__multiyear_ttc_probability) as ttc_prob_nw from work.__MTF_PD_PIT_MULTIYEAR_PRED group by reporting_date, __time_period order by reporting_date, __time_period ;<br>quit;<br><br>",
            " proc sql noprint _method;<br> create table __MTF_PD_JOIN_MULTIYEAR_PRED_STD as select distinct a.reporting_date , a.__time_period , sqrt((sum(((outstanding - expected_pit_def_os)**2)*__multiyear_pit_probability))/ sum(__multiyear_pit_probability)) as stdev_pit_def_os , sqrt((sum(((outstanding - expected_ttc_def_os)**2)*__multiyear_ttc_probability))/ sum(__multiyear_ttc_probability)) as stdev_ttc_def_os from work.__MTF_PD_PIT_MULTIYEAR_PRED A left join __MTF_PD_JOIN_MULTIYEAR_PRED2 B on a.reporting_date = b.reporting_date and a.__time_period = b.__time_period group by a.reporting_date, a.__time_period ;<br>quit;<br><br>",
            " proc sql noprint _method;<br> create table __MTF_PD_JOIN_MULTIYEAR_PRED_GRP as select distinct a.* , b.stdev_pit_def_os , b.stdev_ttc_def_os from __MTF_PD_JOIN_MULTIYEAR_PRED2 A left join __MTF_PD_JOIN_MULTIYEAR_PRED_STD B on a.reporting_date = b.reporting_date and a.__time_period = b.__time_period ;<br>quit;<br><br>",
            " proc sql noprint;<br> create table work.__MTF_PD_PIT_MULTIYEAR_BOTH_GRP as select a.* , b.DR_nw , b.DR_ew , b.outstanding_avg_1 , b.outstanding_stdev_1 , b.cum_defaulted_nw from __MTF_PD_JOIN_MULTIYEAR_PRED_GRP as a left join work.__MTF_PD_PIT_MULTIYEAR_OBS_GRP as b on a.reporting_date = b.reporting_date and a.__time_period = b.__time_period where full_window = 1 order by a.__time_period , a.reporting_date ;<br>quit;<br><br>",
            " proc iml;<br> use work.__MTF_PD_PIT_MULTIYEAR_BOTH_GRP;<br> read all var _ALL_ into pred_obs[colname=col_elements];<br> close work.__MTF_PD_PIT_MULTIYEAR_BOTH_GRP;<br> index = 1:ncol(col_elements);<br> mattrib index colname = col_elements;<br> m1 = pred_obs[loc(element(pred_obs[,index[,\"__time_period\"]], {1})), ];<br> m2 = pred_obs[loc(element(pred_obs[,index[,\"__time_period\"]], {2})), ];<br> m3 = pred_obs[loc(element(pred_obs[,index[,\"__time_period\"]], {3})), ];<br> m4 = pred_obs[loc(element(pred_obs[,index[,\"__time_period\"]], {4})), ];<br> m5 = pred_obs[loc(element(pred_obs[,index[,\"__time_period\"]], {5})), ];<br> SE_IRB_1 = m1[,index[,\"DR_nw\"]] - m1[,index[,\"ttc_prob_nw\"]];<br> if nrow(SE_IRB_1)=0 then RMSE_IRB_1=0;<br> else RMSE_IRB_1 = sqrt(sum(SE_IRB_1#SE_IRB_1)/nrow(SE_IRB_1));<br> DR_stdev_1 = std(m1[,index[,\"DR_nw\"]]);<br> DR_avg_1 = mean(m1[,index[,\"DR_nw\"]]);<br> if DR_avg_1=0 then CV_1=0;<br> else CV_1 = min(RMSE_IRB_1, DR_stdev_1)/DR_avg_1;<br> pit_binom_stdev_1 = J(nrow(m1), 1, 0);<br> pit_binom_nonZero_1 = loc(m1[,index[,\"total_obs_date\"]]>0);<br> pit_binom_stdev_1[pit_binom_nonZero_1] = sqrt(m1[pit_binom_nonZero_1, index[,\"pit_prob_nw\"]]#(1 - m1[pit_binom_nonZero_1, index[,\"pit_prob_nw\"]]) /m1[pit_binom_nonZero_1, index[,\"total_obs_date\"]]);<br> ttc_binom_stdev_1 = J(nrow(m1), 1, 0);<br> ttc_binom_nonZero_1 = loc(m1[,index[,\"total_obs_date\"]]>0);<br> ttc_binom_stdev_1[ttc_binom_nonZero_1] = sqrt(m1[ttc_binom_nonZero_1, index[,\"ttc_prob_nw\"]]#(1 - m1[ttc_binom_nonZero_1, index[,\"ttc_prob_nw\"]])) /sqrt(m1[ttc_binom_nonZero_1, index[,\"total_obs_date\"]]);<br> ODR_IRB_diff_1 = m1[,index[,\"DR_nw\"]] - m1[,index[,\"ttc_prob_nw\"]];<br> if nrow(ODR_IRB_diff_1)=0 then MSE_IRB_1=0;<br> else MSE_IRB_1 = sum(ODR_IRB_diff_1#ODR_IRB_diff_1)/nrow(ODR_IRB_diff_1);<br> pit_alternative_stdev_moderate_1 = sqrt((1-0.7)*MSE_IRB_1);<br> pit_alternative_stdev_poor_1 = sqrt((1-0.4)*MSE_IRB_1);<br> ttc_alternative_stdev_1 = CV_1*mean(m1[,index[,\"DR_nw\"]]);<br> pit_pd_me_nw_1 = pit_alternative_stdev_moderate_1*J(nrow(m1),1,1);<br> pit_pd_me_nw_wide_1 = pit_alternative_stdev_poor_1*J(nrow(m1),1,1);<br> ttc_pd_me_nw_1 = ttc_alternative_stdev_1*J(nrow(m1),1,1);<br> size_me_1 = J(nrow(m1), 1, 0);<br> size_nonZero_1 = loc(m1[,index[,\"expected_pit_defaults\"]]>0 & m1[,index[,\"expected_pit_def_os\"]]>0);<br> size_me_1[size_nonZero_1] = (m1[size_nonZero_1, index[,\"stdev_pit_def_os\"]]/sqrt(m1[size_nonZero_1, index[,\"expected_pit_defaults\"]])) /m1[size_nonZero_1, index[,\"expected_pit_def_os\"]];<br> pit_pd_me_ew_1 = sqrt((pit_pd_me_nw_wide_1##2 + mean(m1[,index[,\"DR_nw\"]])##2) #(size_me_1##2 + 1) - (mean(m1[,index[,\"DR_nw\"]])##2));<br> ttc_pd_me_ew_1 = sqrt((ttc_pd_me_nw_1##2 + mean(m1[,index[,\"DR_nw\"]])##2) #(size_me_1##2 + 1)- (mean(m1[,index[,\"DR_nw\"]])##2));<br> alpha_lower = probit(0.025);<br> alpha_upper = probit(0.975);<br> confidence_intervals_1 = J(nrow(m1),8,.);<br> confidence_intervals_1[,2*2*(1-1)+2*(1-1)+1] = 0<>((alpha_lower) # (pit_pd_me_nw_1) + m1[, index[, \"pit_prob_nw\"]]);<br> confidence_intervals_1[,2*2*(1-1)+2*(1-1)+2] = 0<>((alpha_upper) # (pit_pd_me_nw_1) + m1[, index[, \"pit_prob_nw\"]]);<br> confidence_intervals_1[,2*2*(1-1)+2*(2-1)+1] = 0<>((alpha_lower) # (ttc_pd_me_nw_1) + m1[, index[, \"ttc_prob_nw\"]]);<br> confidence_intervals_1[,2*2*(1-1)+2*(2-1)+2] = 0<>((alpha_upper) # (ttc_pd_me_nw_1) + m1[, index[, \"ttc_prob_nw\"]]);<br> confidence_intervals_1[,2*2*(2-1)+2*(1-1)+1] = 0<>((alpha_lower) # (pit_pd_me_ew_1) + m1[, index[, \"pit_prob_ew\"]]);<br> confidence_intervals_1[,2*2*(2-1)+2*(1-1)+2] = 0<>((alpha_upper) # (pit_pd_me_ew_1) + m1[, index[, \"pit_prob_ew\"]]);<br> confidence_intervals_1[,2*2*(2-1)+2*(2-1)+1] = 0<>((alpha_lower) # (ttc_pd_me_ew_1) + m1[, index[, \"ttc_prob_ew\"]]);<br> confidence_intervals_1[,2*2*(2-1)+2*(2-1)+2] = 0<>((alpha_upper) # (ttc_pd_me_ew_1) + m1[, index[, \"ttc_prob_ew\"]]);<br> confidence_intervals = confidence_intervals_1;<br> me_data_1 = 1*J(nrow(m1),1,1) || pit_binom_stdev_1 || ttc_binom_stdev_1 || ODR_IRB_diff_1 || MSE_IRB_1*J(nrow(m1),1,1) || pit_alternative_stdev_moderate_1*J(nrow(m1),1,1) || pit_alternative_stdev_poor_1*J(nrow(m1),1,1) || ttc_alternative_stdev_1*J(nrow(m1),1,1) || pit_pd_me_nw_1 || pit_pd_me_nw_wide_1 || ttc_pd_me_nw_1 || size_me_1 || pit_pd_me_ew_1 || ttc_pd_me_ew_1;<br> me_data = me_data_1;<br> pit_binom_stdev_2 = J(nrow(m2), 1, 0);<br> pit_binom_nonZero_2 = loc(m2[,index[,\"total_obs_date\"]]>0);<br> pit_binom_stdev_2[pit_binom_nonZero_2] = sqrt(m2[pit_binom_nonZero_2, index[,\"pit_prob_nw\"]]#(1 - m2[pit_binom_nonZero_2, index[,\"pit_prob_nw\"]]) /m2[pit_binom_nonZero_2, index[,\"total_obs_date\"]]);<br> ttc_binom_stdev_2 = J(nrow(m2), 1, 0);<br> ttc_binom_nonZero_2 = loc(m2[,index[,\"total_obs_date\"]]>0);<br> ttc_binom_stdev_2[ttc_binom_nonZero_2] = sqrt(m2[ttc_binom_nonZero_2, index[,\"ttc_prob_nw\"]]#(1 - m2[ttc_binom_nonZero_2, index[,\"ttc_prob_nw\"]])) /sqrt(m2[ttc_binom_nonZero_2, index[,\"total_obs_date\"]]);<br> ODR_IRB_diff_2 = m2[,index[,\"DR_nw\"]] - m2[,index[,\"ttc_prob_nw\"]];<br> if nrow(ODR_IRB_diff_2)=0 then MSE_IRB_2=0;<br> else MSE_IRB_2 = sum(ODR_IRB_diff_2#ODR_IRB_diff_2)/nrow(ODR_IRB_diff_2);<br> pit_alternative_stdev_moderate_2 = sqrt((1-0.7)*MSE_IRB_2);<br> pit_alternative_stdev_poor_2 = sqrt((1-0.4)*MSE_IRB_2);<br> ttc_alternative_stdev_2 = CV_1*mean(m2[,index[,\"DR_nw\"]]);<br> pit_pd_me_nw_2 = pit_alternative_stdev_moderate_2*J(nrow(m2),1,1);<br> pit_pd_me_nw_wide_2 = pit_alternative_stdev_poor_2*J(nrow(m2),1,1);<br> ttc_pd_me_nw_2 = ttc_alternative_stdev_2*J(nrow(m2),1,1);<br> size_me_2 = J(nrow(m2), 1, 0);<br> size_nonZero_2 = loc(m2[,index[,\"expected_pit_defaults\"]]>0 & m2[,index[,\"expected_pit_def_os\"]]>0);<br> size_me_2[size_nonZero_2] = (m2[size_nonZero_2, index[,\"stdev_pit_def_os\"]]/sqrt(m2[size_nonZero_2, index[,\"expected_pit_defaults\"]])) /m2[size_nonZero_2, index[,\"expected_pit_def_os\"]];<br> pit_pd_me_ew_2 = sqrt((pit_pd_me_nw_wide_2##2 + mean(m2[,index[,\"DR_nw\"]])##2) #(size_me_2##2 + 1) - (mean(m2[,index[,\"DR_nw\"]])##2));<br> ttc_pd_me_ew_2 = sqrt((ttc_pd_me_nw_2##2 + mean(m2[,index[,\"DR_nw\"]])##2) #(size_me_2##2 + 1)- (mean(m2[,index[,\"DR_nw\"]])##2));<br> alpha_lower = probit(0.025);<br> alpha_upper = probit(0.975);<br> confidence_intervals_2 = J(nrow(m2),8,.);<br> confidence_intervals_2[,2*2*(1-1)+2*(1-1)+1] = 0<>((alpha_lower) # (pit_pd_me_nw_2) + m2[, index[, \"pit_prob_nw\"]]);<br> confidence_intervals_2[,2*2*(1-1)+2*(1-1)+2] = 0<>((alpha_upper) # (pit_pd_me_nw_2) + m2[, index[, \"pit_prob_nw\"]]);<br> confidence_intervals_2[,2*2*(1-1)+2*(2-1)+1] = 0<>((alpha_lower) # (ttc_pd_me_nw_2) + m2[, index[, \"ttc_prob_nw\"]]);<br> confidence_intervals_2[,2*2*(1-1)+2*(2-1)+2] = 0<>((alpha_upper) # (ttc_pd_me_nw_2) + m2[, index[, \"ttc_prob_nw\"]]);<br> confidence_intervals_2[,2*2*(2-1)+2*(1-1)+1] = 0<>((alpha_lower) # (pit_pd_me_ew_2) + m2[, index[, \"pit_prob_ew\"]]);<br> confidence_intervals_2[,2*2*(2-1)+2*(1-1)+2] = 0<>((alpha_upper) # (pit_pd_me_ew_2) + m2[, index[, \"pit_prob_ew\"]]);<br> confidence_intervals_2[,2*2*(2-1)+2*(2-1)+1] = 0<>((alpha_lower) # (ttc_pd_me_ew_2) + m2[, index[, \"ttc_prob_ew\"]]);<br> confidence_intervals_2[,2*2*(2-1)+2*(2-1)+2] = 0<>((alpha_upper) # (ttc_pd_me_ew_2) + m2[, index[, \"ttc_prob_ew\"]]);<br> confidence_intervals = confidence_intervals // confidence_intervals_2;<br> me_data_2 = 2*J(nrow(m2),1,1) || pit_binom_stdev_2 || ttc_binom_stdev_2 || ODR_IRB_diff_2 || MSE_IRB_2*J(nrow(m2),1,1) || pit_alternative_stdev_moderate_2*J(nrow(m2),1,1) || pit_alternative_stdev_poor_2*J(nrow(m2),1,1) || ttc_alternative_stdev_2*J(nrow(m2),1,1) || pit_pd_me_nw_2 || pit_pd_me_nw_wide_2 || ttc_pd_me_nw_2 || size_me_2 || pit_pd_me_ew_2 || ttc_pd_me_ew_2;<br> me_data = me_data // me_data_2;<br> pit_binom_stdev_3 = J(nrow(m3), 1, 0);<br> pit_binom_nonZero_3 = loc(m3[,index[,\"total_obs_date\"]]>0);<br> pit_binom_stdev_3[pit_binom_nonZero_3] = sqrt(m3[pit_binom_nonZero_3, index[,\"pit_prob_nw\"]]#(1 - m3[pit_binom_nonZero_3, index[,\"pit_prob_nw\"]]) /m3[pit_binom_nonZero_3, index[,\"total_obs_date\"]]);<br> ttc_binom_stdev_3 = J(nrow(m3), 1, 0);<br> ttc_binom_nonZero_3 = loc(m3[,index[,\"total_obs_date\"]]>0);<br> ttc_binom_stdev_3[ttc_binom_nonZero_3] = sqrt(m3[ttc_binom_nonZero_3, index[,\"ttc_prob_nw\"]]#(1 - m3[ttc_binom_nonZero_3, index[,\"ttc_prob_nw\"]])) /sqrt(m3[ttc_binom_nonZero_3, index[,\"total_obs_date\"]]);<br> ODR_IRB_diff_3 = m3[,index[,\"DR_nw\"]] - m3[,index[,\"ttc_prob_nw\"]];<br> if nrow(ODR_IRB_diff_3)=0 then MSE_IRB_3=0;<br> else MSE_IRB_3 = sum(ODR_IRB_diff_3#ODR_IRB_diff_3)/nrow(ODR_IRB_diff_3);<br> pit_alternative_stdev_moderate_3 = sqrt((1-0.7)*MSE_IRB_3);<br> pit_alternative_stdev_poor_3 = sqrt((1-0.4)*MSE_IRB_3);<br> ttc_alternative_stdev_3 = CV_1*mean(m3[,index[,\"DR_nw\"]]);<br> pit_pd_me_nw_3 = pit_alternative_stdev_moderate_3*J(nrow(m3),1,1);<br> pit_pd_me_nw_wide_3 = pit_alternative_stdev_poor_3*J(nrow(m3),1,1);<br> ttc_pd_me_nw_3 = ttc_alternative_stdev_3*J(nrow(m3),1,1);<br> size_me_3 = J(nrow(m3), 1, 0);<br> size_nonZero_3 = loc(m3[,index[,\"expected_pit_defaults\"]]>0 & m3[,index[,\"expected_pit_def_os\"]]>0);<br> size_me_3[size_nonZero_3] = (m3[size_nonZero_3, index[,\"stdev_pit_def_os\"]]/sqrt(m3[size_nonZero_3, index[,\"expected_pit_defaults\"]])) /m3[size_nonZero_3, index[,\"expected_pit_def_os\"]];<br> pit_pd_me_ew_3 = sqrt((pit_pd_me_nw_wide_3##2 + mean(m3[,index[,\"DR_nw\"]])##2) #(size_me_3##2 + 1) - (mean(m3[,index[,\"DR_nw\"]])##2));<br> ttc_pd_me_ew_3 = sqrt((ttc_pd_me_nw_3##2 + mean(m3[,index[,\"DR_nw\"]])##2) #(size_me_3##2 + 1)- (mean(m3[,index[,\"DR_nw\"]])##2));<br> alpha_lower = probit(0.025);<br> alpha_upper = probit(0.975);<br> confidence_intervals_3 = J(nrow(m3),8,.);<br> confidence_intervals_3[,2*2*(1-1)+2*(1-1)+1] = 0<>((alpha_lower) # (pit_pd_me_nw_3) + m3[, index[, \"pit_prob_nw\"]]);<br> confidence_intervals_3[,2*2*(1-1)+2*(1-1)+2] = 0<>((alpha_upper) # (pit_pd_me_nw_3) + m3[, index[, \"pit_prob_nw\"]]);<br> confidence_intervals_3[,2*2*(1-1)+2*(2-1)+1] = 0<>((alpha_lower) # (ttc_pd_me_nw_3) + m3[, index[, \"ttc_prob_nw\"]]);<br> confidence_intervals_3[,2*2*(1-1)+2*(2-1)+2] = 0<>((alpha_upper) # (ttc_pd_me_nw_3) + m3[, index[, \"ttc_prob_nw\"]]);<br> confidence_intervals_3[,2*2*(2-1)+2*(1-1)+1] = 0<>((alpha_lower) # (pit_pd_me_ew_3) + m3[, index[, \"pit_prob_ew\"]]);<br> confidence_intervals_3[,2*2*(2-1)+2*(1-1)+2] = 0<>((alpha_upper) # (pit_pd_me_ew_3) + m3[, index[, \"pit_prob_ew\"]]);<br> confidence_intervals_3[,2*2*(2-1)+2*(2-1)+1] = 0<>((alpha_lower) # (ttc_pd_me_ew_3) + m3[, index[, \"ttc_prob_ew\"]]);<br> confidence_intervals_3[,2*2*(2-1)+2*(2-1)+2] = 0<>((alpha_upper) # (ttc_pd_me_ew_3) + m3[, index[, \"ttc_prob_ew\"]]);<br> confidence_intervals = confidence_intervals // confidence_intervals_3;<br> me_data_3 = 3*J(nrow(m3),1,1) || pit_binom_stdev_3 || ttc_binom_stdev_3 || ODR_IRB_diff_3 || MSE_IRB_3*J(nrow(m3),1,1) || pit_alternative_stdev_moderate_3*J(nrow(m3),1,1) || pit_alternative_stdev_poor_3*J(nrow(m3),1,1) || ttc_alternative_stdev_3*J(nrow(m3),1,1) || pit_pd_me_nw_3 || pit_pd_me_nw_wide_3 || ttc_pd_me_nw_3 || size_me_3 || pit_pd_me_ew_3 || ttc_pd_me_ew_3;<br> me_data = me_data // me_data_3;<br> pit_binom_stdev_4 = J(nrow(m4), 1, 0);<br> pit_binom_nonZero_4 = loc(m4[,index[,\"total_obs_date\"]]>0);<br> pit_binom_stdev_4[pit_binom_nonZero_4] = sqrt(m4[pit_binom_nonZero_4, index[,\"pit_prob_nw\"]]#(1 - m4[pit_binom_nonZero_4, index[,\"pit_prob_nw\"]]) /m4[pit_binom_nonZero_4, index[,\"total_obs_date\"]]);<br> ttc_binom_stdev_4 = J(nrow(m4), 1, 0);<br> ttc_binom_nonZero_4 = loc(m4[,index[,\"total_obs_date\"]]>0);<br> ttc_binom_stdev_4[ttc_binom_nonZero_4] = sqrt(m4[ttc_binom_nonZero_4, index[,\"ttc_prob_nw\"]]#(1 - m4[ttc_binom_nonZero_4, index[,\"ttc_prob_nw\"]])) /sqrt(m4[ttc_binom_nonZero_4, index[,\"total_obs_date\"]]);<br> ODR_IRB_diff_4 = m4[,index[,\"DR_nw\"]] - m4[,index[,\"ttc_prob_nw\"]];<br> if nrow(ODR_IRB_diff_4)=0 then MSE_IRB_4=0;<br> else MSE_IRB_4 = sum(ODR_IRB_diff_4#ODR_IRB_diff_4)/nrow(ODR_IRB_diff_4);<br> pit_alternative_stdev_moderate_4 = sqrt((1-0.7)*MSE_IRB_4);<br> pit_alternative_stdev_poor_4 = sqrt((1-0.4)*MSE_IRB_4);<br> ttc_alternative_stdev_4 = CV_1*mean(m4[,index[,\"DR_nw\"]]);<br> pit_pd_me_nw_4 = pit_alternative_stdev_moderate_4*J(nrow(m4),1,1);<br> pit_pd_me_nw_wide_4 = pit_alternative_stdev_poor_4*J(nrow(m4),1,1);<br> ttc_pd_me_nw_4 = ttc_alternative_stdev_4*J(nrow(m4),1,1);<br> size_me_4 = J(nrow(m4), 1, 0);<br> size_nonZero_4 = loc(m4[,index[,\"expected_pit_defaults\"]]>0 & m4[,index[,\"expected_pit_def_os\"]]>0);<br> size_me_4[size_nonZero_4] = (m4[size_nonZero_4, index[,\"stdev_pit_def_os\"]]/sqrt(m4[size_nonZero_4, index[,\"expected_pit_defaults\"]])) /m4[size_nonZero_4, index[,\"expected_pit_def_os\"]];<br> pit_pd_me_ew_4 = sqrt((pit_pd_me_nw_wide_4##2 + mean(m4[,index[,\"DR_nw\"]])##2) #(size_me_4##2 + 1) - (mean(m4[,index[,\"DR_nw\"]])##2));<br> ttc_pd_me_ew_4 = sqrt((ttc_pd_me_nw_4##2 + mean(m4[,index[,\"DR_nw\"]])##2) #(size_me_4##2 + 1)- (mean(m4[,index[,\"DR_nw\"]])##2));<br> alpha_lower = probit(0.025);<br> alpha_upper = probit(0.975);<br> confidence_intervals_4 = J(nrow(m4),8,.);<br> confidence_intervals_4[,2*2*(1-1)+2*(1-1)+1] = 0<>((alpha_lower) # (pit_pd_me_nw_4) + m4[, index[, \"pit_prob_nw\"]]);<br> confidence_intervals_4[,2*2*(1-1)+2*(1-1)+2] = 0<>((alpha_upper) # (pit_pd_me_nw_4) + m4[, index[, \"pit_prob_nw\"]]);<br> confidence_intervals_4[,2*2*(1-1)+2*(2-1)+1] = 0<>((alpha_lower) # (ttc_pd_me_nw_4) + m4[, index[, \"ttc_prob_nw\"]]);<br> confidence_intervals_4[,2*2*(1-1)+2*(2-1)+2] = 0<>((alpha_upper) # (ttc_pd_me_nw_4) + m4[, index[, \"ttc_prob_nw\"]]);<br> confidence_intervals_4[,2*2*(2-1)+2*(1-1)+1] = 0<>((alpha_lower) # (pit_pd_me_ew_4) + m4[, index[, \"pit_prob_ew\"]]);<br> confidence_intervals_4[,2*2*(2-1)+2*(1-1)+2] = 0<>((alpha_upper) # (pit_pd_me_ew_4) + m4[, index[, \"pit_prob_ew\"]]);<br> confidence_intervals_4[,2*2*(2-1)+2*(2-1)+1] = 0<>((alpha_lower) # (ttc_pd_me_ew_4) + m4[, index[, \"ttc_prob_ew\"]]);<br> confidence_intervals_4[,2*2*(2-1)+2*(2-1)+2] = 0<>((alpha_upper) # (ttc_pd_me_ew_4) + m4[, index[, \"ttc_prob_ew\"]]);<br> confidence_intervals = confidence_intervals // confidence_intervals_4;<br> me_data_4 = 4*J(nrow(m4),1,1) || pit_binom_stdev_4 || ttc_binom_stdev_4 || ODR_IRB_diff_4 || MSE_IRB_4*J(nrow(m4),1,1) || pit_alternative_stdev_moderate_4*J(nrow(m4),1,1) || pit_alternative_stdev_poor_4*J(nrow(m4),1,1) || ttc_alternative_stdev_4*J(nrow(m4),1,1) || pit_pd_me_nw_4 || pit_pd_me_nw_wide_4 || ttc_pd_me_nw_4 || size_me_4 || pit_pd_me_ew_4 || ttc_pd_me_ew_4;<br> me_data = me_data // me_data_4;<br> pit_binom_stdev_5 = J(nrow(m5), 1, 0);<br> pit_binom_nonZero_5 = loc(m5[,index[,\"total_obs_date\"]]>0);<br> pit_binom_stdev_5[pit_binom_nonZero_5] = sqrt(m5[pit_binom_nonZero_5, index[,\"pit_prob_nw\"]]#(1 - m5[pit_binom_nonZero_5, index[,\"pit_prob_nw\"]]) /m5[pit_binom_nonZero_5, index[,\"total_obs_date\"]]);<br> ttc_binom_stdev_5 = J(nrow(m5), 1, 0);<br> ttc_binom_nonZero_5 = loc(m5[,index[,\"total_obs_date\"]]>0);<br> ttc_binom_stdev_5[ttc_binom_nonZero_5] = sqrt(m5[ttc_binom_nonZero_5, index[,\"ttc_prob_nw\"]]#(1 - m5[ttc_binom_nonZero_5, index[,\"ttc_prob_nw\"]])) /sqrt(m5[ttc_binom_nonZero_5, index[,\"total_obs_date\"]]);<br> ODR_IRB_diff_5 = m5[,index[,\"DR_nw\"]] - m5[,index[,\"ttc_prob_nw\"]];<br> if nrow(ODR_IRB_diff_5)=0 then MSE_IRB_5=0;<br> else MSE_IRB_5 = sum(ODR_IRB_diff_5#ODR_IRB_diff_5)/nrow(ODR_IRB_diff_5);<br> pit_alternative_stdev_moderate_5 = sqrt((1-0.7)*MSE_IRB_5);<br> pit_alternative_stdev_poor_5 = sqrt((1-0.4)*MSE_IRB_5);<br> ttc_alternative_stdev_5 = CV_1*mean(m5[,index[,\"DR_nw\"]]);<br> pit_pd_me_nw_5 = pit_alternative_stdev_moderate_5*J(nrow(m5),1,1);<br> pit_pd_me_nw_wide_5 = pit_alternative_stdev_poor_5*J(nrow(m5),1,1);<br> ttc_pd_me_nw_5 = ttc_alternative_stdev_5*J(nrow(m5),1,1);<br> size_me_5 = J(nrow(m5), 1, 0);<br> size_nonZero_5 = loc(m5[,index[,\"expected_pit_defaults\"]]>0 & m5[,index[,\"expected_pit_def_os\"]]>0);<br> size_me_5[size_nonZero_5] = (m5[size_nonZero_5, index[,\"stdev_pit_def_os\"]]/sqrt(m5[size_nonZero_5, index[,\"expected_pit_defaults\"]])) /m5[size_nonZero_5, index[,\"expected_pit_def_os\"]];<br> pit_pd_me_ew_5 = sqrt((pit_pd_me_nw_wide_5##2 + mean(m5[,index[,\"DR_nw\"]])##2) #(size_me_5##2 + 1) - (mean(m5[,index[,\"DR_nw\"]])##2));<br> ttc_pd_me_ew_5 = sqrt((ttc_pd_me_nw_5##2 + mean(m5[,index[,\"DR_nw\"]])##2) #(size_me_5##2 + 1)- (mean(m5[,index[,\"DR_nw\"]])##2));<br> alpha_lower = probit(0.025);<br> alpha_upper = probit(0.975);<br> confidence_intervals_5 = J(nrow(m5),8,.);<br> confidence_intervals_5[,2*2*(1-1)+2*(1-1)+1] = 0<>((alpha_lower) # (pit_pd_me_nw_5) + m5[, index[, \"pit_prob_nw\"]]);<br> confidence_intervals_5[,2*2*(1-1)+2*(1-1)+2] = 0<>((alpha_upper) # (pit_pd_me_nw_5) + m5[, index[, \"pit_prob_nw\"]]);<br> confidence_intervals_5[,2*2*(1-1)+2*(2-1)+1] = 0<>((alpha_lower) # (ttc_pd_me_nw_5) + m5[, index[, \"ttc_prob_nw\"]]);<br> confidence_intervals_5[,2*2*(1-1)+2*(2-1)+2] = 0<>((alpha_upper) # (ttc_pd_me_nw_5) + m5[, index[, \"ttc_prob_nw\"]]);<br> confidence_intervals_5[,2*2*(2-1)+2*(1-1)+1] = 0<>((alpha_lower) # (pit_pd_me_ew_5) + m5[, index[, \"pit_prob_ew\"]]);<br> confidence_intervals_5[,2*2*(2-1)+2*(1-1)+2] = 0<>((alpha_upper) # (pit_pd_me_ew_5) + m5[, index[, \"pit_prob_ew\"]]);<br> confidence_intervals_5[,2*2*(2-1)+2*(2-1)+1] = 0<>((alpha_lower) # (ttc_pd_me_ew_5) + m5[, index[, \"ttc_prob_ew\"]]);<br> confidence_intervals_5[,2*2*(2-1)+2*(2-1)+2] = 0<>((alpha_upper) # (ttc_pd_me_ew_5) + m5[, index[, \"ttc_prob_ew\"]]);<br> confidence_intervals = confidence_intervals // confidence_intervals_5;<br> me_data_5 = 5*J(nrow(m5),1,1) || pit_binom_stdev_5 || ttc_binom_stdev_5 || ODR_IRB_diff_5 || MSE_IRB_5*J(nrow(m5),1,1) || pit_alternative_stdev_moderate_5*J(nrow(m5),1,1) || pit_alternative_stdev_poor_5*J(nrow(m5),1,1) || ttc_alternative_stdev_5*J(nrow(m5),1,1) || pit_pd_me_nw_5 || pit_pd_me_nw_wide_5 || ttc_pd_me_nw_5 || size_me_5 || pit_pd_me_ew_5 || ttc_pd_me_ew_5;<br> me_data = me_data // me_data_5;<br> pred_obs_ci = pred_obs || confidence_intervals;<br> pred_obs_ci_col_names =col_elements || t({\"pit_nw_lower_ci\", \"pit_nw_upper_ci\", \"ttc_nw_lower_ci\", \"ttc_nw_upper_ci\", \"pit_ew_lower_ci\", \"pit_ew_upper_ci\", \"ttc_ew_lower_ci\", \"ttc_ew_upper_ci\" });<br> create __MTF_PD_JOIN_MULTIYEAR_CI from pred_obs_ci[colname=pred_obs_ci_col_names];<br> append from pred_obs_ci;<br> close __MTF_PD_JOIN_MULTIYEAR_CI;<br> me_data = pred_obs[, index[, \"reporting_date\"]] || me_data;<br> me_data_col_names = t({ \"reporting_date\", \"__time_period\", \"pit_binom_stdev\", \"ttc_binom_stdev\", \"ODR_IRB_diff\", \"MSE_IRB\", \"pit_alternative_stdev_moderate\", \"pit_alternative_stdev_poor\", \"ttc_alternative_stdev\", \"pit_pd_me_nw\", \"pit_pd_me_nw_wide\", \"ttc_pd_me_nw\", \"size_me\", \"pit_pd_me_ew\", \"ttc_pd_me_ew\"});<br> create work.__MTF_PD_PIT_MULTIYEAR_ME from me_data[colname=me_data_col_names];<br> append from me_data;<br> close work.__MTF_PD_PIT_MULTIYEAR_ME;<br> quit;<br><br>",
            " proc sql noprint;<br> create table __MTF_PD_JOIN_MULTIYEAR_CI_ME as select a.* , b.pit_pd_me_nw , b.pit_pd_me_ew , b.size_me from __MTF_PD_JOIN_MULTIYEAR_CI as a left join work.__MTF_PD_PIT_MULTIYEAR_ME as b on a.reporting_date = b.reporting_date and a.__time_period = b.__time_period order by a.__time_period, a.reporting_date ;<br>quit;<br><br>",
            " proc sql noprint _method;<br> create table work.__MTF_PD_PIT_CONCLUSION as select a.* , case when dr_nw lt pit_nw_lower_ci then 'conservative' when dr_nw ge pit_nw_lower_ci and dr_nw le pit_nw_upper_ci then 'accurate' when dr_nw gt pit_nw_upper_ci then 'optimistic' else '' end as conclusion_nw informat $12. , case when dr_ew lt pit_ew_lower_ci then 'conservative' when dr_ew ge pit_ew_lower_ci and dr_ew le pit_ew_upper_ci then 'accurate' when dr_ew gt pit_ew_upper_ci then 'optimistic' else '' end as conclusion_ew informat $12. from __MTF_PD_JOIN_MULTIYEAR_CI_ME a ;<br>quit;<br><br>",
            " proc datasets lib = work nolist noprint memtype=all;<br> delete __MTF_PD_JOIN: / mt=data;<br> quit;<br>;<br><br>",
            " data work.test_PD_PIT_U (KEEP = reporting_date time_interval observed_nw observed_ew pit_pd_nw pit_pd_ew ttc_pd_nw ttc_pd_ew me_size me_nw me_ew lower_bound_nw lower_bound_ew upper_bound_nw upper_bound_ew conclusion_nw conclusion_ew _library_version_ _time_stamp_ _note_ ) work.test_PD_PIT (KEEP = reporting_date time_interval measure_name measure_value _library_version_ _time_stamp_ _note_ );<br> retain reporting_date time_interval observed_nw observed_ew pit_pd_nw pit_pd_ew ttc_pd_nw ttc_pd_ew me_size me_nw me_ew lower_bound_nw lower_bound_ew upper_bound_nw upper_bound_ew conclusion_nw conclusion_ew _library_version_ _time_stamp_ _note_ ;<br> set WORK.__MTF_PD_PIT_CONCLUSION( keep= reporting_date __time_period DR_nw DR_ew pit_prob_nw pit_prob_ew ttc_prob_nw ttc_prob_ew pit_pd_me_nw pit_pd_me_ew size_me pit_nw_lower_ci pit_nw_upper_ci pit_ew_lower_ci pit_ew_upper_ci conclusion_nw conclusion_ew rename=( __time_period = time_interval DR_nw = observed_nw DR_ew = observed_ew pit_prob_nw = pit_pd_nw pit_prob_ew = pit_pd_ew ttc_prob_nw = ttc_pd_nw ttc_prob_ew = ttc_pd_ew size_me = me_size pit_pd_me_nw = me_nw pit_pd_me_ew = me_ew pit_nw_lower_ci = lower_bound_nw pit_ew_lower_ci = lower_bound_ew pit_nw_upper_ci = upper_bound_nw pit_ew_upper_ci = upper_bound_ew ) ) ;<br> LENGTH _time_stamp_ 8 _note_ $40 _library_version_ $100 measure_name $32 ;<br> FORMAT _time_stamp_ DATETIME.;<br> _time_stamp_ = 1943001265.7325;<br> _library_version_= \"MTF: 1.7.0 MTF_PD_PIT_BACKTEST: 4.00\";<br> if _note_ ne '' then do;<br> observed_nw = .;<br> observed_ew = .;<br> pit_pd_nw = .;<br> pit_pd_ew =.;<br> me_size =.;<br> me_nw =.;<br> me_ew =.;<br> lower_bound_nw = .;<br> lower_bound_ew = .;<br> upper_bound_nw = .;<br> upper_bound_ew = .;<br> conclusion_nw = '';<br> conclusion_ew = '';<br> end;<br> output work.test_PD_PIT_u;<br> measure_name = 'observed_nw';<br> measure_value = observed_nw;<br> OUTPUT work.test_PD_PIT;<br> measure_name = 'observed_ew';<br> measure_value = observed_ew;<br> OUTPUT work.test_PD_PIT;<br> measure_name = 'pit_pd_nw';<br> measure_value = pit_pd_nw;<br> OUTPUT work.test_PD_PIT;<br> measure_name = 'pit_pd_ew';<br> measure_value = pit_pd_ew;<br> OUTPUT work.test_PD_PIT;<br> measure_name = 'me_size';<br> measure_value = me_size;<br> OUTPUT work.test_PD_PIT;<br> measure_name = 'me_nw';<br> measure_value = me_nw;<br> OUTPUT work.test_PD_PIT;<br> measure_name = 'me_ew';<br> measure_value = me_ew;<br> OUTPUT work.test_PD_PIT;<br> measure_name = 'lower_bound_nw';<br> measure_value = lower_bound_nw;<br> OUTPUT work.test_PD_PIT;<br> measure_name = 'lower_bound_ew';<br> measure_value = lower_bound_ew;<br> OUTPUT work.test_PD_PIT;<br> measure_name = 'upper_bound_nw';<br> measure_value = upper_bound_nw;<br> OUTPUT work.test_PD_PIT;<br> measure_name = 'upper_bound_ew';<br> measure_value = upper_bound_ew;<br> OUTPUT work.test_PD_PIT;<br> format reporting_date date9.;<br> run;<br><br>",
            " proc sql noprint _method;<br> create table work.test_PD_TTC_IN as select a.reporting_date as reporting_date , a.rating_number as rating , a.country_code_map as country_code_map , a.total_nw_1 as number_of_observations , a.oad_1 as os , a.DR_nw_1 as dr_nw , a.DR_ew_1 as dr_ew , b.__multiyear_pit_probability as pd_pit from ( select reporting_date , rating_number , country_code_map , sum(marginal_intodefault_flag_1) as defaulted_nw_1 , sum(marginal_intodefault_flag_1*os_e) as defaulted_ew_1 , sum(performing_flag_1) as total_nw_1 , sum(performing_flag_1*os_e) as total_ew_1 , sum(os_e) as oad_1 , intck('month', reporting_date, 21914) >= 12 as full_window_1 , (case when calculated full_window_1 then (calculated defaulted_nw_1 / calculated total_nw_1) else . end) as DR_nw_1 format percent10.2 , (case when calculated full_window_1 then (calculated defaulted_ew_1 / calculated total_ew_1) else . end) as DR_ew_1 format percent10.2 from WORK.__MTF_PD_PIT_PROC_MULTIYEAR_DATA where default_ind eq 0 and mod(month(reporting_date), 3) eq 0 and calculated full_window_1 eq 1 group by reporting_date , rating_number , country_code_map ) a inner join ( select reporting_date , country_code_map , __risk_rating_from , __multiyear_pit_probability from WORK.__MTF_PD_PIT_MULTIYEAR_PIT_PD_20 where __year eq 1 ) b on a.reporting_date eq b.reporting_date and a.country_code_map eq b.country_code_map and a.rating_number eq b.__risk_rating_from ;<br>quit;<br><br>",
            " proc sql noprint;<br> create table WORK.__MTF_PD_NON_TO_RATINGS as select customer_id , reporting_date , rating_number from __MTF_PD_NON_MIGRATIONS_IN order by customer_id , reporting_date , rating_number ;<br>quit;<br><br>",
            " proc sql noprint _method;<br> create table WORK.__MTF_PD_NON_RATING_MIGRATIONS as select a.customer_id , a.reporting_date as __from_date , a.intodefault_flag_1 , a.rating_number as __rating_from , b.rating_number as __rating_to from ( select customer_id , reporting_date , rating_number , intodefault_flag_1 from WORK.__MTF_PD_NON_MIGRATIONS_IN where reporting_date <= intnx('month', 21914, -12*1, 'end') ) a left join WORK.__MTF_PD_NON_TO_RATINGS as b on a.customer_id = b.customer_id and a.reporting_date = intnx('month', b.reporting_date,-12*1, 'end') ;<br>quit;<br><br>",
            " data WORK.__MTF_PD_NON_RATING_MIGRATIONS (drop= intodefault_flag_1);<br> set WORK.__MTF_PD_NON_RATING_MIGRATIONS;<br> if not missing(__rating_from);<br> if intodefault_flag_1 then __rating_to = 20;<br> if not missing(__rating_to);<br> run;<br><br>",
            " proc sql noprint;<br> create table WORK.__MTF_PD_NON_RATING_MIG_COUNTS_1 as select __from_date , __rating_from , __rating_to , count(*) as __nr_of_migrations from WORK.__MTF_PD_NON_RATING_MIGRATIONS group by __from_date , __rating_from , __rating_to ;<br>quit;<br><br>",
            " proc sql noprint _method;<br> create table WORK.__MTF_PD_NON_MIGRATION_TEMPLATE as select a.__from_date , b.__rating_from , c.__rating_to from ( select distinct __from_date from WORK.__MTF_PD_NON_RATING_MIG_COUNTS_1 ) a cross join ( select distinct __rating_from from WORK.__MTF_PD_NON_RATING_MIG_COUNTS_1 union all select distinct __rating_to as __rating_from from WORK.__MTF_PD_NON_RATING_MIG_COUNTS_1 ) b cross join ( select distinct __rating_to from WORK.__MTF_PD_NON_RATING_MIG_COUNTS_1 union all select distinct __rating_from as __rating_to from WORK.__MTF_PD_NON_RATING_MIG_COUNTS_1 ) c ;<br>quit;<br><br>",
            " proc sql noprint _method;<br> create table WORK.__MTF_PD_NON_RATING_MIG_RES_1 as select a.__from_date , a.__rating_from , a.__rating_to , coalesce(b.__nr_of_migrations,0) as __nr_of_migrations from WORK.__MTF_PD_NON_MIGRATION_TEMPLATE as a left join WORK.__MTF_PD_NON_RATING_MIG_COUNTS_1 as b on a.__from_date = b.__from_date and a.__rating_from = b.__rating_from and a.__rating_to = b.__rating_to ;<br>quit;<br><br>",
            " proc sql noprint;<br> create table WORK.__MTF_PD_NON_RATING_MIG_RES2_1 as select a.* , sum(__nr_of_migrations) as __nr_of_migrations_from , coalesce(__nr_of_migrations / calculated __nr_of_migrations_from, 0) as __migration_rate_from from WORK.__MTF_PD_NON_RATING_MIG_RES_1 a group by __from_date , __rating_from ;<br>quit;<br><br>",
            " proc sql noprint _method;<br> create table WORK.__MTF_PD_NON_RATING_MIGRATIONS as select a.customer_id , a.reporting_date as __from_date , a.intodefault_flag_2 , a.rating_number as __rating_from , b.rating_number as __rating_to from ( select customer_id , reporting_date , rating_number , intodefault_flag_2 from WORK.__MTF_PD_NON_MIGRATIONS_IN where reporting_date <= intnx('month', 21914, -12*2, 'end') ) a left join WORK.__MTF_PD_NON_TO_RATINGS as b on a.customer_id = b.customer_id and a.reporting_date = intnx('month', b.reporting_date,-12*2, 'end') ;<br>quit;<br><br>",
            " data WORK.__MTF_PD_NON_RATING_MIGRATIONS (drop= intodefault_flag_2);<br> set WORK.__MTF_PD_NON_RATING_MIGRATIONS;<br> if not missing(__rating_from);<br> if intodefault_flag_2 then __rating_to = 20;<br> if not missing(__rating_to);<br> run;<br><br>",
            " proc sql noprint;<br> create table WORK.__MTF_PD_NON_RATING_MIG_COUNTS_2 as select __from_date , __rating_from , __rating_to , count(*) as __nr_of_migrations from WORK.__MTF_PD_NON_RATING_MIGRATIONS group by __from_date , __rating_from , __rating_to ;<br>quit;<br><br>",
            " proc sql noprint _method;<br> create table WORK.__MTF_PD_NON_MIGRATION_TEMPLATE as select a.__from_date , b.__rating_from , c.__rating_to from ( select distinct __from_date from WORK.__MTF_PD_NON_RATING_MIG_COUNTS_2 ) a cross join ( select distinct __rating_from from WORK.__MTF_PD_NON_RATING_MIG_COUNTS_2 union all select distinct __rating_to as __rating_from from WORK.__MTF_PD_NON_RATING_MIG_COUNTS_2 ) b cross join ( select distinct __rating_to from WORK.__MTF_PD_NON_RATING_MIG_COUNTS_2 union all select distinct __rating_from as __rating_to from WORK.__MTF_PD_NON_RATING_MIG_COUNTS_2 ) c ;<br>quit;<br><br>",
            " proc sql noprint _method;<br> create table WORK.__MTF_PD_NON_RATING_MIG_RES_2 as select a.__from_date , a.__rating_from , a.__rating_to , coalesce(b.__nr_of_migrations,0) as __nr_of_migrations from WORK.__MTF_PD_NON_MIGRATION_TEMPLATE as a left join WORK.__MTF_PD_NON_RATING_MIG_COUNTS_2 as b on a.__from_date = b.__from_date and a.__rating_from = b.__rating_from and a.__rating_to = b.__rating_to ;<br>quit;<br><br>",
            " proc sql noprint;<br> create table WORK.__MTF_PD_NON_RATING_MIG_RES2_2 as select a.* , sum(__nr_of_migrations) as __nr_of_migrations_from , coalesce(__nr_of_migrations / calculated __nr_of_migrations_from, 0) as __migration_rate_from from WORK.__MTF_PD_NON_RATING_MIG_RES_2 a group by __from_date , __rating_from ;<br>quit;<br><br>",
            " proc sql noprint _method;<br> create table WORK.__MTF_PD_NON_RATING_MIGRATIONS as select a.customer_id , a.reporting_date as __from_date , a.intodefault_flag_3 , a.rating_number as __rating_from , b.rating_number as __rating_to from ( select customer_id , reporting_date , rating_number , intodefault_flag_3 from WORK.__MTF_PD_NON_MIGRATIONS_IN where reporting_date <= intnx('month', 21914, -12*3, 'end') ) a left join WORK.__MTF_PD_NON_TO_RATINGS as b on a.customer_id = b.customer_id and a.reporting_date = intnx('month', b.reporting_date,-12*3, 'end') ;<br>quit;<br><br>",
            " data WORK.__MTF_PD_NON_RATING_MIGRATIONS (drop= intodefault_flag_3);<br> set WORK.__MTF_PD_NON_RATING_MIGRATIONS;<br> if not missing(__rating_from);<br> if intodefault_flag_3 then __rating_to = 20;<br> if not missing(__rating_to);<br> run;<br><br>",
            " proc sql noprint;<br> create table WORK.__MTF_PD_NON_RATING_MIG_COUNTS_3 as select __from_date , __rating_from , __rating_to , count(*) as __nr_of_migrations from WORK.__MTF_PD_NON_RATING_MIGRATIONS group by __from_date , __rating_from , __rating_to ;<br>quit;<br><br>",
            " proc sql noprint _method;<br> create table WORK.__MTF_PD_NON_MIGRATION_TEMPLATE as select a.__from_date , b.__rating_from , c.__rating_to from ( select distinct __from_date from WORK.__MTF_PD_NON_RATING_MIG_COUNTS_3 ) a cross join ( select distinct __rating_from from WORK.__MTF_PD_NON_RATING_MIG_COUNTS_3 union all select distinct __rating_to as __rating_from from WORK.__MTF_PD_NON_RATING_MIG_COUNTS_3 ) b cross join ( select distinct __rating_to from WORK.__MTF_PD_NON_RATING_MIG_COUNTS_3 union all select distinct __rating_from as __rating_to from WORK.__MTF_PD_NON_RATING_MIG_COUNTS_3 ) c ;<br>quit;<br><br>",
            " proc sql noprint _method;<br> create table WORK.__MTF_PD_NON_RATING_MIG_RES_3 as select a.__from_date , a.__rating_from , a.__rating_to , coalesce(b.__nr_of_migrations,0) as __nr_of_migrations from WORK.__MTF_PD_NON_MIGRATION_TEMPLATE as a left join WORK.__MTF_PD_NON_RATING_MIG_COUNTS_3 as b on a.__from_date = b.__from_date and a.__rating_from = b.__rating_from and a.__rating_to = b.__rating_to ;<br>quit;<br><br>",
            " proc sql noprint;<br> create table WORK.__MTF_PD_NON_RATING_MIG_RES2_3 as select a.* , sum(__nr_of_migrations) as __nr_of_migrations_from , coalesce(__nr_of_migrations / calculated __nr_of_migrations_from, 0) as __migration_rate_from from WORK.__MTF_PD_NON_RATING_MIG_RES_3 a group by __from_date , __rating_from ;<br>quit;<br><br>",
            " proc sql noprint _method;<br> create table WORK.__MTF_PD_NON_RATING_MIGRATIONS as select a.customer_id , a.reporting_date as __from_date , a.intodefault_flag_4 , a.rating_number as __rating_from , b.rating_number as __rating_to from ( select customer_id , reporting_date , rating_number , intodefault_flag_4 from WORK.__MTF_PD_NON_MIGRATIONS_IN where reporting_date <= intnx('month', 21914, -12*4, 'end') ) a left join WORK.__MTF_PD_NON_TO_RATINGS as b on a.customer_id = b.customer_id and a.reporting_date = intnx('month', b.reporting_date,-12*4, 'end') ;<br>quit;<br><br>",
            " data WORK.__MTF_PD_NON_RATING_MIGRATIONS (drop= intodefault_flag_4);<br> set WORK.__MTF_PD_NON_RATING_MIGRATIONS;<br> if not missing(__rating_from);<br> if intodefault_flag_4 then __rating_to = 20;<br> if not missing(__rating_to);<br> run;<br><br>",
            " proc sql noprint;<br> create table WORK.__MTF_PD_NON_RATING_MIG_COUNTS_4 as select __from_date , __rating_from , __rating_to , count(*) as __nr_of_migrations from WORK.__MTF_PD_NON_RATING_MIGRATIONS group by __from_date , __rating_from , __rating_to ;<br>quit;<br><br>",
            " proc sql noprint _method;<br> create table WORK.__MTF_PD_NON_MIGRATION_TEMPLATE as select a.__from_date , b.__rating_from , c.__rating_to from ( select distinct __from_date from WORK.__MTF_PD_NON_RATING_MIG_COUNTS_4 ) a cross join ( select distinct __rating_from from WORK.__MTF_PD_NON_RATING_MIG_COUNTS_4 union all select distinct __rating_to as __rating_from from WORK.__MTF_PD_NON_RATING_MIG_COUNTS_4 ) b cross join ( select distinct __rating_to from WORK.__MTF_PD_NON_RATING_MIG_COUNTS_4 union all select distinct __rating_from as __rating_to from WORK.__MTF_PD_NON_RATING_MIG_COUNTS_4 ) c ;<br>quit;<br><br>",
            " proc sql noprint _method;<br> create table WORK.__MTF_PD_NON_RATING_MIG_RES_4 as select a.__from_date , a.__rating_from , a.__rating_to , coalesce(b.__nr_of_migrations,0) as __nr_of_migrations from WORK.__MTF_PD_NON_MIGRATION_TEMPLATE as a left join WORK.__MTF_PD_NON_RATING_MIG_COUNTS_4 as b on a.__from_date = b.__from_date and a.__rating_from = b.__rating_from and a.__rating_to = b.__rating_to ;<br>quit;<br><br>",
            " proc sql noprint;<br> create table WORK.__MTF_PD_NON_RATING_MIG_RES2_4 as select a.* , sum(__nr_of_migrations) as __nr_of_migrations_from , coalesce(__nr_of_migrations / calculated __nr_of_migrations_from, 0) as __migration_rate_from from WORK.__MTF_PD_NON_RATING_MIG_RES_4 a group by __from_date , __rating_from ;<br>quit;<br><br>",
            " proc sql noprint _method;<br> create table WORK.__MTF_PD_NON_RATING_MIGRATIONS as select a.customer_id , a.reporting_date as __from_date , a.intodefault_flag_5 , a.rating_number as __rating_from , b.rating_number as __rating_to from ( select customer_id , reporting_date , rating_number , intodefault_flag_5 from WORK.__MTF_PD_NON_MIGRATIONS_IN where reporting_date <= intnx('month', 21914, -12*5, 'end') ) a left join WORK.__MTF_PD_NON_TO_RATINGS as b on a.customer_id = b.customer_id and a.reporting_date = intnx('month', b.reporting_date,-12*5, 'end') ;<br>quit;<br><br>",
            " data WORK.__MTF_PD_NON_RATING_MIGRATIONS (drop= intodefault_flag_5);<br> set WORK.__MTF_PD_NON_RATING_MIGRATIONS;<br> if not missing(__rating_from);<br> if intodefault_flag_5 then __rating_to = 20;<br> if not missing(__rating_to);<br> run;<br><br>",
            " proc sql noprint;<br> create table WORK.__MTF_PD_NON_RATING_MIG_COUNTS_5 as select __from_date , __rating_from , __rating_to , count(*) as __nr_of_migrations from WORK.__MTF_PD_NON_RATING_MIGRATIONS group by __from_date , __rating_from , __rating_to ;<br>quit;<br><br>",
            " proc sql noprint _method;<br> create table WORK.__MTF_PD_NON_MIGRATION_TEMPLATE as select a.__from_date , b.__rating_from , c.__rating_to from ( select distinct __from_date from WORK.__MTF_PD_NON_RATING_MIG_COUNTS_5 ) a cross join ( select distinct __rating_from from WORK.__MTF_PD_NON_RATING_MIG_COUNTS_5 union all select distinct __rating_to as __rating_from from WORK.__MTF_PD_NON_RATING_MIG_COUNTS_5 ) b cross join ( select distinct __rating_to from WORK.__MTF_PD_NON_RATING_MIG_COUNTS_5 union all select distinct __rating_from as __rating_to from WORK.__MTF_PD_NON_RATING_MIG_COUNTS_5 ) c ;<br>quit;<br><br>",
            " proc sql noprint _method;<br> create table WORK.__MTF_PD_NON_RATING_MIG_RES_5 as select a.__from_date , a.__rating_from , a.__rating_to , coalesce(b.__nr_of_migrations,0) as __nr_of_migrations from WORK.__MTF_PD_NON_MIGRATION_TEMPLATE as a left join WORK.__MTF_PD_NON_RATING_MIG_COUNTS_5 as b on a.__from_date = b.__from_date and a.__rating_from = b.__rating_from and a.__rating_to = b.__rating_to ;<br>quit;<br><br>",
            " proc sql noprint;<br> create table WORK.__MTF_PD_NON_RATING_MIG_RES2_5 as select a.* , sum(__nr_of_migrations) as __nr_of_migrations_from , coalesce(__nr_of_migrations / calculated __nr_of_migrations_from, 0) as __migration_rate_from from WORK.__MTF_PD_NON_RATING_MIG_RES_5 a group by __from_date , __rating_from ;<br>quit;<br><br>",
            " data WORK.__MTF_PD_NON_RATING_MIG_RES2;<br> set WORK.__MTF_PD_NON_RATING_MIG_RES2_1 WORK.__MTF_PD_NON_RATING_MIG_RES2_2 WORK.__MTF_PD_NON_RATING_MIG_RES2_3 WORK.__MTF_PD_NON_RATING_MIG_RES2_4 WORK.__MTF_PD_NON_RATING_MIG_RES2_5 indsname=source ;<br> __time_period = input(substr(compress(reverse(source)),1,1),8.);<br> run;<br><br>",
            " data WORK.__MTF_PD_NON_RATING_PD_TTC;<br> set WORK.__MTF_PD_PIT_MULTIYEAR_TTC_PD_20 end=end;<br> where __time_period eq 1;<br> __rating = __risk_rating_from;<br> __pd = __multiyear_ttc_probability;<br> output;<br> if end then do;<br> __rating = 20;<br> __pd = 1;<br> output;<br> end;<br> keep __rating __pd;<br> run;<br><br>",
            " proc sql noprint _method;<br> create table WORK.__MTF_PD_MARK_RATING_MIG_AVG1 as select __time_period , __rating_from , __rating_to , mean(__migration_rate_from) as __migration_rate_from_avg from WORK.__MTF_PD_NON_RATING_MIG_RES2 group by __time_period , __rating_from , __rating_to ;<br>quit;<br><br>",
            " proc sql noprint _method magic=102;<br> create table WORK.__MTF_PD_MARK_RATING_MIG_AVG2 as select a.__time_period , a.__rating_from , a.__rating_to , a.__migration_rate_from_avg , b.__multiyear_ttc_probability from WORK.__MTF_PD_MARK_RATING_MIG_AVG1 a left join WORK.__MTF_PD_PIT_MULTIYEAR_TTC_PD b on a.__time_period eq b.__time_period and a.__rating_from eq b.__risk_rating_from and a.__rating_to eq b.__risk_rating_to ;<br>quit;<br><br>",
            " proc sql noprint _method ;<br> create table work.test_PD_MARK_IN as select a.__time_period as time_interval , a.__rating_from as rating_from , a.__rating_to as rating_to , a.__migration_rate_from_avg as migration_rate_avg , a.__multiyear_ttc_probability as pd_ttc_rating_from , b.__pd as pd_ttc_rating_to from WORK.__MTF_PD_MARK_RATING_MIG_AVG2 a left join WORK.__MTF_PD_NON_RATING_PD_TTC b on a.__rating_to eq b.__rating order by a.__time_period , a.__rating_from , a.__rating_to ;<br>quit;<br><br>",
            " proc sql noprint;<br> create table WORK.__MTF_PD_NON_RATING_MIG_RES3_1 as select a.* , sum(__nr_of_migrations) as __nr_of_migrations_to from WORK.__MTF_PD_NON_RATING_MIG_RES2 a where __rating_from ne 20 and __time_period eq 1 group by __from_date , __rating_to ;<br>quit;<br><br>",
            " proc sql noprint;<br> create table WORK.__MTF_PD_NON_RATING_PD_TTC_TABLE as select a.__rating as __rating_from , b.__rating as __rating_to , a.__pd as __pd_from , b.__pd as __pd_to from WORK.__MTF_PD_NON_RATING_PD_TTC a cross join WORK.__MTF_PD_NON_RATING_PD_TTC b where a.__rating ne 20 and b.__rating ne 20 ;<br>quit;<br><br>",
            " data WORK.__MTF_PD_NON_ONEYEAR_PIT_PD_FULL;<br> set WORK.__MTF_PD_PIT_ONEYEAR_PIT_PD_1;<br> where upcase(strip(country_code_map)) eq 'ALL';<br> run;<br><br>",
            " data WORK.__MTF_PD_NON_ONEYEAR_PIT_PD_DEF;<br> set WORK.__MTF_PD_PIT_ONEYEAR_PIT_PD_0;<br> where upcase(strip(country_code_map)) eq 'ALL';<br> run;<br><br>",
            " proc sql noprint _method magic=102;<br> create table WORK.__MTF_PD_NON_JOINED_PDS as select bc.reporting_date , a.__rating_from , a.__rating_to , a.__pd_from , a.__pd_to , bc.__pd_full , bc.__pd_def from WORK.__MTF_PD_NON_RATING_PD_TTC_TABLE a inner join ( select b.reporting_date , b.__risk_rating_from , b.__risk_rating_to , b.__probability as __pd_full , c.__probability as __pd_def from WORK.__MTF_PD_NON_ONEYEAR_PIT_PD_FULL b inner join WORK.__MTF_PD_NON_ONEYEAR_PIT_PD_DEF c on b.__risk_rating_from eq c.__risk_rating_from and b.__risk_rating_to eq c.__risk_rating_to and b.reporting_date eq c.reporting_date ) bc on a.__rating_from eq bc.__risk_rating_from and a.__rating_to eq bc.__risk_rating_to ;<br>quit;<br><br>",
            " proc sql noprint _method ;<br> create table WORK.__MTF_PD_MARK_RATING_MIG_AVG1_20 as select __rating_from , __rating_to , __migration_rate_from_avg from WORK.__MTF_PD_MARK_RATING_MIG_AVG1 d where d.__time_period eq 1 ;<br>quit;<br><br>",
            " proc sql noprint _method ;<br> create table work.test_PD_NON_IN as select a.__from_date as reporting_date , a.__rating_from as rating_from , a.__rating_to as rating_to , a.__nr_of_migrations as number_of_observations , b.__pd_from as pd_ttc_rating_from , b.__pd_to as pd_ttc_rating_to , b.__pd_full as prob_of_mig_pit , b.__pd_def as prob_of_mig_pit_def , c.pit_alternative_stdev_moderate as pd_me_nw , d.__migration_rate_from_avg as migration_rate_avg from WORK.__MTF_PD_NON_RATING_MIG_RES3_1 a inner join WORK.__MTF_PD_NON_JOINED_PDS b on a.__rating_from eq b.__rating_from and a.__rating_to eq b.__rating_to and a.__from_date eq b.reporting_date inner join WORK.__MTF_PD_PIT_MULTIYEAR_ME c on a.__from_date eq c.reporting_date and c.__time_period eq 1 inner join WORK.__MTF_PD_MARK_RATING_MIG_AVG1_20 d on a.__rating_from eq d.__rating_from and a.__rating_to eq d.__rating_to ;<br>quit;<br><br>",
            " proc sql noprint _method;<br> create table work.test_PD_STB_IN as select reporting_date as reporting_date , dr_nw as avg_obs , pit_prob_nw as avg_pred from __MTF_PD_PIT_MULTIYEAR_BOTH_GRP where __time_period eq 1 ;<br>quit;<br><br>",
            " proc sql noprint _method;<br> create table WORK.__MTF_PD_PIT_ODR_WIDE_DIS as select country_code_map , reporting_date , rating_number , sum(marginal_intodefault_flag_1) as defaulted_nw_1 , sum(performing_flag_1) as total_nw_1 , intck('month', reporting_date, 21914) >= 1*12 as full_window_1 , sum(marginal_intodefault_flag_2) as defaulted_nw_2 , sum(performing_flag_2) as total_nw_2 , intck('month', reporting_date, 21914) >= 2*12 as full_window_2 , sum(marginal_intodefault_flag_3) as defaulted_nw_3 , sum(performing_flag_3) as total_nw_3 , intck('month', reporting_date, 21914) >= 3*12 as full_window_3 , sum(marginal_intodefault_flag_4) as defaulted_nw_4 , sum(performing_flag_4) as total_nw_4 , intck('month', reporting_date, 21914) >= 4*12 as full_window_4 , sum(marginal_intodefault_flag_5) as defaulted_nw_5 , sum(performing_flag_5) as total_nw_5 , intck('month', reporting_date, 21914) >= 5*12 as full_window_5 from WORK.__MTF_PD_PIT_PROC_MULTIYEAR_DATA group by country_code_map , reporting_date , rating_number order by country_code_map , reporting_date , rating_number ;<br>quit;<br><br>",
            " proc transpose data=WORK.__MTF_PD_PIT_ODR_WIDE_DIS out=WORK.__MTF_PD_PIT_ODR_WIDE_TP_DIS ;<br> by country_code_map reporting_date rating_number ;<br> run;<br><br>",
            " data WORK.__MTF_PD_PIT_ODR_WIDE_TP_DIS (drop= pos length _name_);<br> set WORK.__MTF_PD_PIT_ODR_WIDE_TP_DIS;<br> __time_period = input(scan(_name_,-1,'_'), best12.);<br> call scan(_name_, -1, pos, length,'_');<br> final_var_name=substr(_name_,1,pos-2);<br> run;<br><br>",
            " proc transpose data=WORK.__MTF_PD_PIT_ODR_WIDE_TP_DIS out=WORK.__MTF_PD_PIT_ODR_LONG_DIS(drop=_name_ where=(full_window=1) );<br> by country_code_map reporting_date rating_number __time_period ;<br> var col1;<br> id final_var_name;<br> run;<br><br>",
            " proc sql noprint _method;<br> create table work.test_PD_DIS_IN as select a.__time_period as time_interval , a.reporting_date as reporting_date , a.rating_number as rating , a.defaulted_nw as number_of_defaulted_obs , a.total_nw as number_of_observations , b.__marginal_pit_probability as marginal_pit_probability from WORK.__MTF_PD_PIT_ODR_LONG_DIS a inner join WORK.__MTF_PD_PIT_MARGINAL_BOTH_PD b on a.reporting_date eq b.reporting_date and a.country_code_map eq b.country_code_map and a.rating_number eq b.__risk_rating_from and a.__time_period = b.__time_period order by time_interval , reporting_date , marginal_pit_probability ;<br>quit;<br><br>",
            " proc datasets lib = work nolist noprint memtype=all;<br> delete __mtf_pd_pit: / mt=all;<br> delete view __mtf_pd_pit: / mt=view;<br> quit;<br><br>",
            " proc datasets lib = work nolist noprint memtype=all;<br> delete __mtf_pd_non: / mt=data;<br> quit;<br><br>",
            " proc datasets lib = work nolist noprint memtype=all;<br> delete __mtf_pd_mark: / mt=data;<br> quit;<br>;<br><br><br>/* WRITE LOG TO THE FILE IN PRIEVIOUSLY STATED FILE PATCH */<br><br>"
           ],
           [
            "DATASTEP",
            "DATASTEP",
            "SQL",
            "SQL",
            "SQL",
            "DATASTEP",
            "SQL",
            "SQL",
            "DATASTEP",
            "DATASTEP",
            "SQL",
            "DATASTEP",
            "SORT",
            "DATASTEP",
            "SORT",
            "SQL",
            "SQL",
            "TRANSPOSE",
            "DATASTEP",
            "TRANSPOSE",
            "SQL",
            "DATASETS",
            "DATASTEP",
            "DATASTEP",
            "DATASTEP",
            "SQL",
            "DATASTEP",
            "SQL",
            "SQL",
            "SQL",
            "DATASTEP",
            "SQL",
            "DATASTEP",
            "TRANSPOSE",
            "SQL",
            "SQL",
            "TRANSPOSE",
            "DATASTEP",
            "IML",
            "IML",
            "IML",
            "IML",
            "DATASTEP",
            "SQL",
            "DATASETS",
            "DATASETS",
            "DATASTEP",
            "SQL",
            "DATASETS",
            "DATASETS",
            "DATASTEP",
            "SQL",
            "DATASETS",
            "DATASETS",
            "DATASTEP",
            "SQL",
            "DATASETS",
            "DATASETS",
            "TRANSPOSE",
            "DATASTEP",
            "DATASTEP",
            "DATASTEP",
            "DATASTEP",
            "DATASTEP",
            "SQL",
            "DATASTEP",
            "SQL",
            "DATASTEP",
            "SQL",
            "SQL",
            "IML",
            "SQL",
            "SQL",
            "DATASTEP",
            "DATASTEP",
            "DATASETS",
            "DATASTEP",
            "DATASTEP",
            "DATASTEP",
            "SQL",
            "DATASTEP",
            "SQL",
            "DATASTEP",
            "SQL",
            "SQL",
            "IML",
            "SQL",
            "SQL",
            "DATASTEP",
            "DATASTEP",
            "DATASETS",
            "DATASTEP",
            "DATASTEP",
            "DATASTEP",
            "SQL",
            "DATASETS",
            "DATASTEP",
            "DATASTEP",
            "DATASTEP",
            "SORT",
            "SQL",
            "SQL",
            "SQL",
            "SQL",
            "SQL",
            "IML",
            "SQL",
            "SQL",
            "DATASETS",
            "DATASTEP",
            "SQL",
            "SQL",
            "SQL",
            "DATASTEP",
            "SQL",
            "SQL",
            "SQL",
            "SQL",
            "SQL",
            "DATASTEP",
            "SQL",
            "SQL",
            "SQL",
            "SQL",
            "SQL",
            "DATASTEP",
            "SQL",
            "SQL",
            "SQL",
            "SQL",
            "SQL",
            "DATASTEP",
            "SQL",
            "SQL",
            "SQL",
            "SQL",
            "SQL",
            "DATASTEP",
            "SQL",
            "SQL",
            "SQL",
            "SQL",
            "DATASTEP",
            "DATASTEP",
            "SQL",
            "SQL",
            "SQL",
            "SQL",
            "SQL",
            "DATASTEP",
            "DATASTEP",
            "SQL",
            "SQL",
            "SQL",
            "SQL",
            "SQL",
            "TRANSPOSE",
            "DATASTEP",
            "TRANSPOSE",
            "SQL",
            "DATASETS",
            "DATASETS",
            "DATASETS"
           ],
           [
            0.06,
            0.07,
            29.41,
            24.9,
            1.28,
            0.06,
            4.8,
            1.87,
            0.04,
            0.04,
            1.8,
            4.49,
            54.8,
            21.43,
            3.86,
            1.89,
            0.08,
            0.09,
            0.08,
            0.24,
            0.09,
            0.03,
            0.04,
            0.04,
            0.07,
            0.04,
            0.04,
            0.08,
            0.04,
            0.09,
            0.09,
            0.06,
            0.07,
            0.08,
            23.72,
            0.08,
            0.13,
            0.11,
            0.36,
            0.16,
            0.15,
            0.15,
            0.11,
            0.11,
            0.04,
            0.04,
            0.11,
            0.11,
            0.05,
            0.04,
            0.11,
            0.11,
            0.04,
            0.04,
            0.11,
            0.11,
            0.04,
            0.04,
            0.11,
            0.09,
            0.1,
            0.03,
            0.04,
            0.02,
            0.08,
            0.07,
            0.11,
            0.21,
            0.36,
            0.44,
            288.77,
            38.47,
            0.06,
            15.8,
            40.06,
            1.15,
            0.05,
            0.06,
            0.02,
            0.09,
            0.08,
            0.14,
            0.25,
            29.22,
            0.5,
            316.98,
            11.74,
            0.07,
            16.37,
            42.27,
            1.7,
            38.78,
            11.78,
            0.09,
            4.32,
            0.21,
            0.05,
            0.06,
            2.9,
            48.78,
            8.59,
            4.35,
            4.2,
            0.13,
            18.85,
            0.64,
            0.18,
            0.08,
            0.07,
            0.16,
            3.38,
            0.71,
            3.29,
            0.9,
            20.64,
            0.24,
            0.97,
            1.58,
            20.31,
            0.82,
            0.63,
            0.26,
            0.62,
            1.59,
            2.84,
            0.63,
            0.49,
            0.23,
            0.55,
            1.73,
            2.63,
            0.63,
            0.42,
            0.2,
            15.52,
            1.54,
            2.45,
            0.45,
            11.53,
            0.2,
            0.47,
            1.55,
            1.68,
            0.1,
            1.12,
            0.16,
            0.22,
            0.88,
            0.09,
            6.56,
            6.84,
            28.71,
            0.1,
            1.45,
            0.1,
            29.72,
            1.07,
            0.78,
            6.59,
            2.08,
            4.68,
            0.44,
            0.08
           ]
          ]
         },
         "columnwidth": [
          1,
          13,
          2,
          2
         ],
         "domain": {
          "x": [
           0,
           1
          ],
          "y": [
           0,
           0.5
          ]
         },
         "header": {
          "align": [
           "left"
          ],
          "fill": {
           "color": "#C2D4FF"
          },
          "font": {
           "size": 12
          },
          "line": {
           "color": "darkslategray"
          },
          "values": [
           "Task ID",
           "Code",
           "Procedure",
           "Elapsed Time"
          ]
         },
         "type": "table"
        }
       ],
       "layout": {
        "height": 800,
        "showlegend": false,
        "template": {
         "data": {
          "bar": [
           {
            "error_x": {
             "color": "#2a3f5f"
            },
            "error_y": {
             "color": "#2a3f5f"
            },
            "marker": {
             "line": {
              "color": "#E5ECF6",
              "width": 0.5
             }
            },
            "type": "bar"
           }
          ],
          "barpolar": [
           {
            "marker": {
             "line": {
              "color": "#E5ECF6",
              "width": 0.5
             }
            },
            "type": "barpolar"
           }
          ],
          "carpet": [
           {
            "aaxis": {
             "endlinecolor": "#2a3f5f",
             "gridcolor": "white",
             "linecolor": "white",
             "minorgridcolor": "white",
             "startlinecolor": "#2a3f5f"
            },
            "baxis": {
             "endlinecolor": "#2a3f5f",
             "gridcolor": "white",
             "linecolor": "white",
             "minorgridcolor": "white",
             "startlinecolor": "#2a3f5f"
            },
            "type": "carpet"
           }
          ],
          "choropleth": [
           {
            "colorbar": {
             "outlinewidth": 0,
             "ticks": ""
            },
            "type": "choropleth"
           }
          ],
          "contour": [
           {
            "colorbar": {
             "outlinewidth": 0,
             "ticks": ""
            },
            "colorscale": [
             [
              0,
              "#0d0887"
             ],
             [
              0.1111111111111111,
              "#46039f"
             ],
             [
              0.2222222222222222,
              "#7201a8"
             ],
             [
              0.3333333333333333,
              "#9c179e"
             ],
             [
              0.4444444444444444,
              "#bd3786"
             ],
             [
              0.5555555555555556,
              "#d8576b"
             ],
             [
              0.6666666666666666,
              "#ed7953"
             ],
             [
              0.7777777777777778,
              "#fb9f3a"
             ],
             [
              0.8888888888888888,
              "#fdca26"
             ],
             [
              1,
              "#f0f921"
             ]
            ],
            "type": "contour"
           }
          ],
          "contourcarpet": [
           {
            "colorbar": {
             "outlinewidth": 0,
             "ticks": ""
            },
            "type": "contourcarpet"
           }
          ],
          "heatmap": [
           {
            "colorbar": {
             "outlinewidth": 0,
             "ticks": ""
            },
            "colorscale": [
             [
              0,
              "#0d0887"
             ],
             [
              0.1111111111111111,
              "#46039f"
             ],
             [
              0.2222222222222222,
              "#7201a8"
             ],
             [
              0.3333333333333333,
              "#9c179e"
             ],
             [
              0.4444444444444444,
              "#bd3786"
             ],
             [
              0.5555555555555556,
              "#d8576b"
             ],
             [
              0.6666666666666666,
              "#ed7953"
             ],
             [
              0.7777777777777778,
              "#fb9f3a"
             ],
             [
              0.8888888888888888,
              "#fdca26"
             ],
             [
              1,
              "#f0f921"
             ]
            ],
            "type": "heatmap"
           }
          ],
          "heatmapgl": [
           {
            "colorbar": {
             "outlinewidth": 0,
             "ticks": ""
            },
            "colorscale": [
             [
              0,
              "#0d0887"
             ],
             [
              0.1111111111111111,
              "#46039f"
             ],
             [
              0.2222222222222222,
              "#7201a8"
             ],
             [
              0.3333333333333333,
              "#9c179e"
             ],
             [
              0.4444444444444444,
              "#bd3786"
             ],
             [
              0.5555555555555556,
              "#d8576b"
             ],
             [
              0.6666666666666666,
              "#ed7953"
             ],
             [
              0.7777777777777778,
              "#fb9f3a"
             ],
             [
              0.8888888888888888,
              "#fdca26"
             ],
             [
              1,
              "#f0f921"
             ]
            ],
            "type": "heatmapgl"
           }
          ],
          "histogram": [
           {
            "marker": {
             "colorbar": {
              "outlinewidth": 0,
              "ticks": ""
             }
            },
            "type": "histogram"
           }
          ],
          "histogram2d": [
           {
            "colorbar": {
             "outlinewidth": 0,
             "ticks": ""
            },
            "colorscale": [
             [
              0,
              "#0d0887"
             ],
             [
              0.1111111111111111,
              "#46039f"
             ],
             [
              0.2222222222222222,
              "#7201a8"
             ],
             [
              0.3333333333333333,
              "#9c179e"
             ],
             [
              0.4444444444444444,
              "#bd3786"
             ],
             [
              0.5555555555555556,
              "#d8576b"
             ],
             [
              0.6666666666666666,
              "#ed7953"
             ],
             [
              0.7777777777777778,
              "#fb9f3a"
             ],
             [
              0.8888888888888888,
              "#fdca26"
             ],
             [
              1,
              "#f0f921"
             ]
            ],
            "type": "histogram2d"
           }
          ],
          "histogram2dcontour": [
           {
            "colorbar": {
             "outlinewidth": 0,
             "ticks": ""
            },
            "colorscale": [
             [
              0,
              "#0d0887"
             ],
             [
              0.1111111111111111,
              "#46039f"
             ],
             [
              0.2222222222222222,
              "#7201a8"
             ],
             [
              0.3333333333333333,
              "#9c179e"
             ],
             [
              0.4444444444444444,
              "#bd3786"
             ],
             [
              0.5555555555555556,
              "#d8576b"
             ],
             [
              0.6666666666666666,
              "#ed7953"
             ],
             [
              0.7777777777777778,
              "#fb9f3a"
             ],
             [
              0.8888888888888888,
              "#fdca26"
             ],
             [
              1,
              "#f0f921"
             ]
            ],
            "type": "histogram2dcontour"
           }
          ],
          "mesh3d": [
           {
            "colorbar": {
             "outlinewidth": 0,
             "ticks": ""
            },
            "type": "mesh3d"
           }
          ],
          "parcoords": [
           {
            "line": {
             "colorbar": {
              "outlinewidth": 0,
              "ticks": ""
             }
            },
            "type": "parcoords"
           }
          ],
          "pie": [
           {
            "automargin": true,
            "type": "pie"
           }
          ],
          "scatter": [
           {
            "marker": {
             "colorbar": {
              "outlinewidth": 0,
              "ticks": ""
             }
            },
            "type": "scatter"
           }
          ],
          "scatter3d": [
           {
            "line": {
             "colorbar": {
              "outlinewidth": 0,
              "ticks": ""
             }
            },
            "marker": {
             "colorbar": {
              "outlinewidth": 0,
              "ticks": ""
             }
            },
            "type": "scatter3d"
           }
          ],
          "scattercarpet": [
           {
            "marker": {
             "colorbar": {
              "outlinewidth": 0,
              "ticks": ""
             }
            },
            "type": "scattercarpet"
           }
          ],
          "scattergeo": [
           {
            "marker": {
             "colorbar": {
              "outlinewidth": 0,
              "ticks": ""
             }
            },
            "type": "scattergeo"
           }
          ],
          "scattergl": [
           {
            "marker": {
             "colorbar": {
              "outlinewidth": 0,
              "ticks": ""
             }
            },
            "type": "scattergl"
           }
          ],
          "scattermapbox": [
           {
            "marker": {
             "colorbar": {
              "outlinewidth": 0,
              "ticks": ""
             }
            },
            "type": "scattermapbox"
           }
          ],
          "scatterpolar": [
           {
            "marker": {
             "colorbar": {
              "outlinewidth": 0,
              "ticks": ""
             }
            },
            "type": "scatterpolar"
           }
          ],
          "scatterpolargl": [
           {
            "marker": {
             "colorbar": {
              "outlinewidth": 0,
              "ticks": ""
             }
            },
            "type": "scatterpolargl"
           }
          ],
          "scatterternary": [
           {
            "marker": {
             "colorbar": {
              "outlinewidth": 0,
              "ticks": ""
             }
            },
            "type": "scatterternary"
           }
          ],
          "surface": [
           {
            "colorbar": {
             "outlinewidth": 0,
             "ticks": ""
            },
            "colorscale": [
             [
              0,
              "#0d0887"
             ],
             [
              0.1111111111111111,
              "#46039f"
             ],
             [
              0.2222222222222222,
              "#7201a8"
             ],
             [
              0.3333333333333333,
              "#9c179e"
             ],
             [
              0.4444444444444444,
              "#bd3786"
             ],
             [
              0.5555555555555556,
              "#d8576b"
             ],
             [
              0.6666666666666666,
              "#ed7953"
             ],
             [
              0.7777777777777778,
              "#fb9f3a"
             ],
             [
              0.8888888888888888,
              "#fdca26"
             ],
             [
              1,
              "#f0f921"
             ]
            ],
            "type": "surface"
           }
          ],
          "table": [
           {
            "cells": {
             "fill": {
              "color": "#EBF0F8"
             },
             "line": {
              "color": "white"
             }
            },
            "header": {
             "fill": {
              "color": "#C8D4E3"
             },
             "line": {
              "color": "white"
             }
            },
            "type": "table"
           }
          ]
         },
         "layout": {
          "annotationdefaults": {
           "arrowcolor": "#2a3f5f",
           "arrowhead": 0,
           "arrowwidth": 1
          },
          "autotypenumbers": "strict",
          "coloraxis": {
           "colorbar": {
            "outlinewidth": 0,
            "ticks": ""
           }
          },
          "colorscale": {
           "diverging": [
            [
             0,
             "#8e0152"
            ],
            [
             0.1,
             "#c51b7d"
            ],
            [
             0.2,
             "#de77ae"
            ],
            [
             0.3,
             "#f1b6da"
            ],
            [
             0.4,
             "#fde0ef"
            ],
            [
             0.5,
             "#f7f7f7"
            ],
            [
             0.6,
             "#e6f5d0"
            ],
            [
             0.7,
             "#b8e186"
            ],
            [
             0.8,
             "#7fbc41"
            ],
            [
             0.9,
             "#4d9221"
            ],
            [
             1,
             "#276419"
            ]
           ],
           "sequential": [
            [
             0,
             "#0d0887"
            ],
            [
             0.1111111111111111,
             "#46039f"
            ],
            [
             0.2222222222222222,
             "#7201a8"
            ],
            [
             0.3333333333333333,
             "#9c179e"
            ],
            [
             0.4444444444444444,
             "#bd3786"
            ],
            [
             0.5555555555555556,
             "#d8576b"
            ],
            [
             0.6666666666666666,
             "#ed7953"
            ],
            [
             0.7777777777777778,
             "#fb9f3a"
            ],
            [
             0.8888888888888888,
             "#fdca26"
            ],
            [
             1,
             "#f0f921"
            ]
           ],
           "sequentialminus": [
            [
             0,
             "#0d0887"
            ],
            [
             0.1111111111111111,
             "#46039f"
            ],
            [
             0.2222222222222222,
             "#7201a8"
            ],
            [
             0.3333333333333333,
             "#9c179e"
            ],
            [
             0.4444444444444444,
             "#bd3786"
            ],
            [
             0.5555555555555556,
             "#d8576b"
            ],
            [
             0.6666666666666666,
             "#ed7953"
            ],
            [
             0.7777777777777778,
             "#fb9f3a"
            ],
            [
             0.8888888888888888,
             "#fdca26"
            ],
            [
             1,
             "#f0f921"
            ]
           ]
          },
          "colorway": [
           "#636efa",
           "#EF553B",
           "#00cc96",
           "#ab63fa",
           "#FFA15A",
           "#19d3f3",
           "#FF6692",
           "#B6E880",
           "#FF97FF",
           "#FECB52"
          ],
          "font": {
           "color": "#2a3f5f"
          },
          "geo": {
           "bgcolor": "white",
           "lakecolor": "white",
           "landcolor": "#E5ECF6",
           "showlakes": true,
           "showland": true,
           "subunitcolor": "white"
          },
          "hoverlabel": {
           "align": "left"
          },
          "hovermode": "closest",
          "mapbox": {
           "style": "light"
          },
          "paper_bgcolor": "white",
          "plot_bgcolor": "#E5ECF6",
          "polar": {
           "angularaxis": {
            "gridcolor": "white",
            "linecolor": "white",
            "ticks": ""
           },
           "bgcolor": "#E5ECF6",
           "radialaxis": {
            "gridcolor": "white",
            "linecolor": "white",
            "ticks": ""
           }
          },
          "scene": {
           "xaxis": {
            "backgroundcolor": "#E5ECF6",
            "gridcolor": "white",
            "gridwidth": 2,
            "linecolor": "white",
            "showbackground": true,
            "ticks": "",
            "zerolinecolor": "white"
           },
           "yaxis": {
            "backgroundcolor": "#E5ECF6",
            "gridcolor": "white",
            "gridwidth": 2,
            "linecolor": "white",
            "showbackground": true,
            "ticks": "",
            "zerolinecolor": "white"
           },
           "zaxis": {
            "backgroundcolor": "#E5ECF6",
            "gridcolor": "white",
            "gridwidth": 2,
            "linecolor": "white",
            "showbackground": true,
            "ticks": "",
            "zerolinecolor": "white"
           }
          },
          "shapedefaults": {
           "line": {
            "color": "#2a3f5f"
           }
          },
          "ternary": {
           "aaxis": {
            "gridcolor": "white",
            "linecolor": "white",
            "ticks": ""
           },
           "baxis": {
            "gridcolor": "white",
            "linecolor": "white",
            "ticks": ""
           },
           "bgcolor": "#E5ECF6",
           "caxis": {
            "gridcolor": "white",
            "linecolor": "white",
            "ticks": ""
           }
          },
          "title": {
           "x": 0.05
          },
          "xaxis": {
           "automargin": true,
           "gridcolor": "white",
           "linecolor": "white",
           "ticks": "",
           "title": {
            "standoff": 15
           },
           "zerolinecolor": "white",
           "zerolinewidth": 2
          },
          "yaxis": {
           "automargin": true,
           "gridcolor": "white",
           "linecolor": "white",
           "ticks": "",
           "title": {
            "standoff": 15
           },
           "zerolinecolor": "white",
           "zerolinewidth": 2
          }
         }
        },
        "title": {
         "text": "SAS Code Process analysis"
        },
        "width": 1000,
        "xaxis": {
         "anchor": "y",
         "domain": [
          0,
          1
         ],
         "side": "top",
         "title": {
          "text": "Calculation Step"
         }
        },
        "yaxis": {
         "anchor": "x",
         "domain": [
          0.5,
          1
         ],
         "showgrid": false,
         "showticklabels": false,
         "zeroline": false
        }
       }
      },
      "text/html": [
       "<div>                            <div id=\"00d0ff5f-0f02-4f99-b62a-96ea915e8404\" class=\"plotly-graph-div\" style=\"height:800px; width:1000px;\"></div>            <script type=\"text/javascript\">                require([\"plotly\"], function(Plotly) {                    window.PLOTLYENV=window.PLOTLYENV || {};                                    if (document.getElementById(\"00d0ff5f-0f02-4f99-b62a-96ea915e8404\")) {                    Plotly.newPlot(                        \"00d0ff5f-0f02-4f99-b62a-96ea915e8404\",                        [{\"hoverinfo\": \"none\", \"line\": {\"color\": \"#006837\", \"dash\": \"dot\", \"shape\": \"spline\", \"width\": 1}, \"mode\": \"lines\", \"type\": \"scatter\", \"x\": [0, 0.5, 1, null], \"xaxis\": \"x\", \"y\": [64, 64.0, 64, null], \"yaxis\": \"y\"}, {\"hoverinfo\": \"none\", \"line\": {\"color\": \"#006837\", \"dash\": \"dot\", \"shape\": \"spline\", \"width\": 1}, \"mode\": \"lines\", \"type\": \"scatter\", \"x\": [1, 1.5, 2, null], \"xaxis\": \"x\", \"y\": [64, 64.0, 64, null], \"yaxis\": \"y\"}, {\"hoverinfo\": \"none\", \"line\": {\"color\": \"#249d53\", \"dash\": \"dot\", \"shape\": \"spline\", \"width\": 1}, \"mode\": \"lines\", \"type\": \"scatter\", \"x\": [0, 1.5, 3, null], \"xaxis\": \"x\", \"y\": [29, 41.0, 53, null], \"yaxis\": \"y\"}, {\"hoverinfo\": \"none\", \"line\": {\"color\": \"#249d53\", \"dash\": \"dot\", \"shape\": \"spline\", \"width\": 1}, \"mode\": \"lines\", \"type\": \"scatter\", \"x\": [0, 1.5, 3, null], \"xaxis\": \"x\", \"y\": [29, 40.5, 52, null], \"yaxis\": \"y\"}, {\"hoverinfo\": \"none\", \"line\": {\"color\": \"#18954f\", \"dash\": \"dot\", \"shape\": \"spline\", \"width\": 1}, \"mode\": \"lines\", \"type\": \"scatter\", \"x\": [0, 2.0, 4, null], \"xaxis\": \"x\", \"y\": [29, 41.5, 54, null], \"yaxis\": \"y\"}, {\"hoverinfo\": \"none\", \"line\": {\"color\": \"#18954f\", \"dash\": \"dot\", \"shape\": \"spline\", \"width\": 1}, \"mode\": \"lines\", \"type\": \"scatter\", \"x\": [0, 2.0, 4, null], \"xaxis\": \"x\", \"y\": [29, 41.0, 53, null], \"yaxis\": \"y\"}, {\"hoverinfo\": \"none\", \"line\": {\"color\": \"#016a38\", \"dash\": \"dot\", \"shape\": \"spline\", \"width\": 1}, \"mode\": \"lines\", \"type\": \"scatter\", \"x\": [0, 2.5, 5, null], \"xaxis\": \"x\", \"y\": [29, 42.5, 56, null], \"yaxis\": \"y\"}, {\"hoverinfo\": \"none\", \"line\": {\"color\": \"#04703b\", \"dash\": \"dot\", \"shape\": \"spline\", \"width\": 1}, \"mode\": \"lines\", \"type\": \"scatter\", \"x\": [0, 3.5, 7, null], \"xaxis\": \"x\", \"y\": [29, 42.5, 56, null], \"yaxis\": \"y\"}, {\"hoverinfo\": \"none\", \"line\": {\"color\": \"#006837\", \"dash\": \"dot\", \"shape\": \"spline\", \"width\": 1}, \"mode\": \"lines\", \"type\": \"scatter\", \"x\": [3, 3.0, 3, null], \"xaxis\": \"x\", \"y\": [53, 36.5, 20, null], \"yaxis\": \"y\"}, {\"hoverinfo\": \"none\", \"line\": {\"color\": \"#006837\", \"dash\": \"dot\", \"shape\": \"spline\", \"width\": 1}, \"mode\": \"lines\", \"type\": \"scatter\", \"x\": [0, 1.5, 3, null], \"xaxis\": \"x\", \"y\": [10, 14.5, 19, null], \"yaxis\": \"y\"}, {\"hoverinfo\": \"none\", \"line\": {\"color\": \"#006837\", \"dash\": \"dot\", \"shape\": \"spline\", \"width\": 1}, \"mode\": \"lines\", \"type\": \"scatter\", \"x\": [0, 12.5, 25, null], \"xaxis\": \"x\", \"y\": [10, 13.0, 16, null], \"yaxis\": \"y\"}, {\"hoverinfo\": \"none\", \"line\": {\"color\": \"#006837\", \"dash\": \"dot\", \"shape\": \"spline\", \"width\": 1}, \"mode\": \"lines\", \"type\": \"scatter\", \"x\": [3, 3.0, 3, null], \"xaxis\": \"x\", \"y\": [19, 19.5, 20, null], \"yaxis\": \"y\"}, {\"hoverinfo\": \"none\", \"line\": {\"color\": \"#006837\", \"dash\": \"dot\", \"shape\": \"spline\", \"width\": 1}, \"mode\": \"lines\", \"type\": \"scatter\", \"x\": [4, 4.0, 4, null], \"xaxis\": \"x\", \"y\": [54, 55.0, 56, null], \"yaxis\": \"y\"}, {\"hoverinfo\": \"none\", \"line\": {\"color\": \"#006837\", \"dash\": \"dot\", \"shape\": \"spline\", \"width\": 1}, \"mode\": \"lines\", \"type\": \"scatter\", \"x\": [4, 4.0, 4, null], \"xaxis\": \"x\", \"y\": [53, 54.0, 55, null], \"yaxis\": \"y\"}, {\"hoverinfo\": \"none\", \"line\": {\"color\": \"#006837\", \"dash\": \"dot\", \"shape\": \"spline\", \"width\": 1}, \"mode\": \"lines\", \"type\": \"scatter\", \"x\": [0, 2.0, 4, null], \"xaxis\": \"x\", \"y\": [57, 57.0, 57, null], \"yaxis\": \"y\"}, {\"hoverinfo\": \"none\", \"line\": {\"color\": \"#006837\", \"dash\": \"dot\", \"shape\": \"spline\", \"width\": 1}, \"mode\": \"lines\", \"type\": \"scatter\", \"x\": [0, 30.5, 61, null], \"xaxis\": \"x\", \"y\": [57, 57.0, 57, null], \"yaxis\": \"y\"}, {\"hoverinfo\": \"none\", \"line\": {\"color\": \"#006837\", \"dash\": \"dot\", \"shape\": \"spline\", \"width\": 1}, \"mode\": \"lines\", \"type\": \"scatter\", \"x\": [4, 4.0, 4, null], \"xaxis\": \"x\", \"y\": [57, 56.5, 56, null], \"yaxis\": \"y\"}, {\"hoverinfo\": \"none\", \"line\": {\"color\": \"#016a38\", \"dash\": \"dot\", \"shape\": \"spline\", \"width\": 1}, \"mode\": \"lines\", \"type\": \"scatter\", \"x\": [7, 7.5, 8, null], \"xaxis\": \"x\", \"y\": [56, 56.0, 56, null], \"yaxis\": \"y\"}, {\"hoverinfo\": \"none\", \"line\": {\"color\": \"#016a38\", \"dash\": \"dot\", \"shape\": \"spline\", \"width\": 1}, \"mode\": \"lines\", \"type\": \"scatter\", \"x\": [7, 9.0, 11, null], \"xaxis\": \"x\", \"y\": [56, 45.5, 35, null], \"yaxis\": \"y\"}, {\"hoverinfo\": \"none\", \"line\": {\"color\": \"#04703b\", \"dash\": \"dot\", \"shape\": \"spline\", \"width\": 1}, \"mode\": \"lines\", \"type\": \"scatter\", \"x\": [7, 9.5, 12, null], \"xaxis\": \"x\", \"y\": [56, 47.5, 39, null], \"yaxis\": \"y\"}, {\"hoverinfo\": \"none\", \"line\": {\"color\": \"#006837\", \"dash\": \"dot\", \"shape\": \"spline\", \"width\": 1}, \"mode\": \"lines\", \"type\": \"scatter\", \"x\": [8, 8.5, 9, null], \"xaxis\": \"x\", \"y\": [77, 77.0, 77, null], \"yaxis\": \"y\"}, {\"hoverinfo\": \"none\", \"line\": {\"color\": \"#006837\", \"dash\": \"dot\", \"shape\": \"spline\", \"width\": 1}, \"mode\": \"lines\", \"type\": \"scatter\", \"x\": [9, 9.5, 10, null], \"xaxis\": \"x\", \"y\": [77, 76.5, 76, null], \"yaxis\": \"y\"}, {\"hoverinfo\": \"none\", \"line\": {\"color\": \"#6ec064\", \"dash\": \"dot\", \"shape\": \"spline\", \"width\": 1}, \"mode\": \"lines\", \"type\": \"scatter\", \"x\": [12, 12.5, 13, null], \"xaxis\": \"x\", \"y\": [39, 41.5, 44, null], \"yaxis\": \"y\"}, {\"hoverinfo\": \"none\", \"line\": {\"color\": \"#6ec064\", \"dash\": \"dot\", \"shape\": \"spline\", \"width\": 1}, \"mode\": \"lines\", \"type\": \"scatter\", \"x\": [12, 12.5, 13, null], \"xaxis\": \"x\", \"y\": [39, 41.0, 43, null], \"yaxis\": \"y\"}, {\"hoverinfo\": \"none\", \"line\": {\"color\": \"#15904c\", \"dash\": \"dot\", \"shape\": \"spline\", \"width\": 1}, \"mode\": \"lines\", \"type\": \"scatter\", \"x\": [13, 13.5, 14, null], \"xaxis\": \"x\", \"y\": [44, 46.0, 48, null], \"yaxis\": \"y\"}, {\"hoverinfo\": \"none\", \"line\": {\"color\": \"#15904c\", \"dash\": \"dot\", \"shape\": \"spline\", \"width\": 1}, \"mode\": \"lines\", \"type\": \"scatter\", \"x\": [13, 13.5, 14, null], \"xaxis\": \"x\", \"y\": [44, 45.5, 47, null], \"yaxis\": \"y\"}, {\"hoverinfo\": \"none\", \"line\": {\"color\": \"#15904c\", \"dash\": \"dot\", \"shape\": \"spline\", \"width\": 1}, \"mode\": \"lines\", \"type\": \"scatter\", \"x\": [13, 13.5, 14, null], \"xaxis\": \"x\", \"y\": [44, 46.5, 49, null], \"yaxis\": \"y\"}, {\"hoverinfo\": \"none\", \"line\": {\"color\": \"#036e3a\", \"dash\": \"dot\", \"shape\": \"spline\", \"width\": 1}, \"mode\": \"lines\", \"type\": \"scatter\", \"x\": [14, 14.5, 15, null], \"xaxis\": \"x\", \"y\": [48, 49.0, 50, null], \"yaxis\": \"y\"}, {\"hoverinfo\": \"none\", \"line\": {\"color\": \"#006837\", \"dash\": \"dot\", \"shape\": \"spline\", \"width\": 1}, \"mode\": \"lines\", \"type\": \"scatter\", \"x\": [14, 63.0, 112, null], \"xaxis\": \"x\", \"y\": [47, 39.0, 31, null], \"yaxis\": \"y\"}, {\"hoverinfo\": \"none\", \"line\": {\"color\": \"#036e3a\", \"dash\": \"dot\", \"shape\": \"spline\", \"width\": 1}, \"mode\": \"lines\", \"type\": \"scatter\", \"x\": [14, 63.5, 113, null], \"xaxis\": \"x\", \"y\": [47, 39.5, 32, null], \"yaxis\": \"y\"}, {\"hoverinfo\": \"none\", \"line\": {\"color\": \"#036e3a\", \"dash\": \"dot\", \"shape\": \"spline\", \"width\": 1}, \"mode\": \"lines\", \"type\": \"scatter\", \"x\": [14, 63.5, 113, null], \"xaxis\": \"x\", \"y\": [47, 39.0, 31, null], \"yaxis\": \"y\"}, {\"hoverinfo\": \"none\", \"line\": {\"color\": \"#148e4b\", \"dash\": \"dot\", \"shape\": \"spline\", \"width\": 1}, \"mode\": \"lines\", \"type\": \"scatter\", \"x\": [14, 66.5, 119, null], \"xaxis\": \"x\", \"y\": [47, 40.5, 34, null], \"yaxis\": \"y\"}, {\"hoverinfo\": \"none\", \"line\": {\"color\": \"#148e4b\", \"dash\": \"dot\", \"shape\": \"spline\", \"width\": 1}, \"mode\": \"lines\", \"type\": \"scatter\", \"x\": [14, 66.5, 119, null], \"xaxis\": \"x\", \"y\": [47, 40.0, 33, null], \"yaxis\": \"y\"}, {\"hoverinfo\": \"none\", \"line\": {\"color\": \"#026c39\", \"dash\": \"dot\", \"shape\": \"spline\", \"width\": 1}, \"mode\": \"lines\", \"type\": \"scatter\", \"x\": [14, 69.5, 125, null], \"xaxis\": \"x\", \"y\": [47, 42.0, 37, null], \"yaxis\": \"y\"}, {\"hoverinfo\": \"none\", \"line\": {\"color\": \"#026c39\", \"dash\": \"dot\", \"shape\": \"spline\", \"width\": 1}, \"mode\": \"lines\", \"type\": \"scatter\", \"x\": [14, 69.5, 125, null], \"xaxis\": \"x\", \"y\": [47, 41.5, 36, null], \"yaxis\": \"y\"}, {\"hoverinfo\": \"none\", \"line\": {\"color\": \"#026c39\", \"dash\": \"dot\", \"shape\": \"spline\", \"width\": 1}, \"mode\": \"lines\", \"type\": \"scatter\", \"x\": [14, 72.5, 131, null], \"xaxis\": \"x\", \"y\": [47, 43.5, 40, null], \"yaxis\": \"y\"}, {\"hoverinfo\": \"none\", \"line\": {\"color\": \"#026c39\", \"dash\": \"dot\", \"shape\": \"spline\", \"width\": 1}, \"mode\": \"lines\", \"type\": \"scatter\", \"x\": [14, 72.5, 131, null], \"xaxis\": \"x\", \"y\": [47, 43.0, 39, null], \"yaxis\": \"y\"}, {\"hoverinfo\": \"none\", \"line\": {\"color\": \"#026c39\", \"dash\": \"dot\", \"shape\": \"spline\", \"width\": 1}, \"mode\": \"lines\", \"type\": \"scatter\", \"x\": [14, 75.5, 137, null], \"xaxis\": \"x\", \"y\": [47, 44.5, 42, null], \"yaxis\": \"y\"}, {\"hoverinfo\": \"none\", \"line\": {\"color\": \"#026c39\", \"dash\": \"dot\", \"shape\": \"spline\", \"width\": 1}, \"mode\": \"lines\", \"type\": \"scatter\", \"x\": [14, 75.5, 137, null], \"xaxis\": \"x\", \"y\": [47, 44.0, 41, null], \"yaxis\": \"y\"}, {\"hoverinfo\": \"none\", \"line\": {\"color\": \"#006837\", \"dash\": \"dot\", \"shape\": \"spline\", \"width\": 1}, \"mode\": \"lines\", \"type\": \"scatter\", \"x\": [14, 15.5, 17, null], \"xaxis\": \"x\", \"y\": [49, 49.5, 50, null], \"yaxis\": \"y\"}, {\"hoverinfo\": \"none\", \"line\": {\"color\": \"#006837\", \"dash\": \"dot\", \"shape\": \"spline\", \"width\": 1}, \"mode\": \"lines\", \"type\": \"scatter\", \"x\": [14, 15.5, 17, null], \"xaxis\": \"x\", \"y\": [49, 50.0, 51, null], \"yaxis\": \"y\"}, {\"hoverinfo\": \"none\", \"line\": {\"color\": \"#016a38\", \"dash\": \"dot\", \"shape\": \"spline\", \"width\": 1}, \"mode\": \"lines\", \"type\": \"scatter\", \"x\": [15, 15.5, 16, null], \"xaxis\": \"x\", \"y\": [50, 50.0, 50, null], \"yaxis\": \"y\"}, {\"hoverinfo\": \"none\", \"line\": {\"color\": \"#08773f\", \"dash\": \"dot\", \"shape\": \"spline\", \"width\": 1}, \"mode\": \"lines\", \"type\": \"scatter\", \"x\": [15, 58.0, 101, null], \"xaxis\": \"x\", \"y\": [50, 30.0, 10, null], \"yaxis\": \"y\"}, {\"hoverinfo\": \"none\", \"line\": {\"color\": \"#036e3a\", \"dash\": \"dot\", \"shape\": \"spline\", \"width\": 1}, \"mode\": \"lines\", \"type\": \"scatter\", \"x\": [15, 63.0, 111, null], \"xaxis\": \"x\", \"y\": [50, 40.5, 31, null], \"yaxis\": \"y\"}, {\"hoverinfo\": \"none\", \"line\": {\"color\": \"#036e3a\", \"dash\": \"dot\", \"shape\": \"spline\", \"width\": 1}, \"mode\": \"lines\", \"type\": \"scatter\", \"x\": [15, 63.0, 111, null], \"xaxis\": \"x\", \"y\": [50, 39.5, 29, null], \"yaxis\": \"y\"}, {\"hoverinfo\": \"none\", \"line\": {\"color\": \"#036e3a\", \"dash\": \"dot\", \"shape\": \"spline\", \"width\": 1}, \"mode\": \"lines\", \"type\": \"scatter\", \"x\": [15, 63.0, 111, null], \"xaxis\": \"x\", \"y\": [50, 40.0, 30, null], \"yaxis\": \"y\"}, {\"hoverinfo\": \"none\", \"line\": {\"color\": \"#249d53\", \"dash\": \"dot\", \"shape\": \"spline\", \"width\": 1}, \"mode\": \"lines\", \"type\": \"scatter\", \"x\": [15, 85.5, 156, null], \"xaxis\": \"x\", \"y\": [50, 49.5, 49, null], \"yaxis\": \"y\"}, {\"hoverinfo\": \"none\", \"line\": {\"color\": \"#006837\", \"dash\": \"dot\", \"shape\": \"spline\", \"width\": 1}, \"mode\": \"lines\", \"type\": \"scatter\", \"x\": [16, 17.0, 18, null], \"xaxis\": \"x\", \"y\": [50, 50.5, 51, null], \"yaxis\": \"y\"}, {\"hoverinfo\": \"none\", \"line\": {\"color\": \"#006837\", \"dash\": \"dot\", \"shape\": \"spline\", \"width\": 1}, \"mode\": \"lines\", \"type\": \"scatter\", \"x\": [17, 19.0, 21, null], \"xaxis\": \"x\", \"y\": [51, 51.0, 51, null], \"yaxis\": \"y\"}, {\"hoverinfo\": \"none\", \"line\": {\"color\": \"#006837\", \"dash\": \"dot\", \"shape\": \"spline\", \"width\": 1}, \"mode\": \"lines\", \"type\": \"scatter\", \"x\": [18, 18.5, 19, null], \"xaxis\": \"x\", \"y\": [51, 51.0, 51, null], \"yaxis\": \"y\"}, {\"hoverinfo\": \"none\", \"line\": {\"color\": \"#006837\", \"dash\": \"dot\", \"shape\": \"spline\", \"width\": 1}, \"mode\": \"lines\", \"type\": \"scatter\", \"x\": [0, 9.0, 18, null], \"xaxis\": \"x\", \"y\": [65, 65.5, 66, null], \"yaxis\": \"y\"}, {\"hoverinfo\": \"none\", \"line\": {\"color\": \"#006837\", \"dash\": \"dot\", \"shape\": \"spline\", \"width\": 1}, \"mode\": \"lines\", \"type\": \"scatter\", \"x\": [18, 19.0, 20, null], \"xaxis\": \"x\", \"y\": [66, 66.0, 66, null], \"yaxis\": \"y\"}, {\"hoverinfo\": \"none\", \"line\": {\"color\": \"#006837\", \"dash\": \"dot\", \"shape\": \"spline\", \"width\": 1}, \"mode\": \"lines\", \"type\": \"scatter\", \"x\": [19, 19.5, 20, null], \"xaxis\": \"x\", \"y\": [51, 51.0, 51, null], \"yaxis\": \"y\"}, {\"hoverinfo\": \"none\", \"line\": {\"color\": \"#006837\", \"dash\": \"dot\", \"shape\": \"spline\", \"width\": 1}, \"mode\": \"lines\", \"type\": \"scatter\", \"x\": [20, 20.5, 21, null], \"xaxis\": \"x\", \"y\": [51, 51.0, 51, null], \"yaxis\": \"y\"}, {\"hoverinfo\": \"none\", \"line\": {\"color\": \"#006837\", \"dash\": \"dot\", \"shape\": \"spline\", \"width\": 1}, \"mode\": \"lines\", \"type\": \"scatter\", \"x\": [20, 27.0, 34, null], \"xaxis\": \"x\", \"y\": [66, 66.0, 66, null], \"yaxis\": \"y\"}, {\"hoverinfo\": \"none\", \"line\": {\"color\": \"#128a49\", \"dash\": \"dot\", \"shape\": \"spline\", \"width\": 1}, \"mode\": \"lines\", \"type\": \"scatter\", \"x\": [21, 63.0, 105, null], \"xaxis\": \"x\", \"y\": [51, 30.5, 10, null], \"yaxis\": \"y\"}, {\"hoverinfo\": \"none\", \"line\": {\"color\": \"#006837\", \"dash\": \"dot\", \"shape\": \"spline\", \"width\": 1}, \"mode\": \"lines\", \"type\": \"scatter\", \"x\": [21, 21.5, 22, null], \"xaxis\": \"x\", \"y\": [69, 69.0, 69, null], \"yaxis\": \"y\"}, {\"hoverinfo\": \"none\", \"line\": {\"color\": \"#006837\", \"dash\": \"dot\", \"shape\": \"spline\", \"width\": 1}, \"mode\": \"lines\", \"type\": \"scatter\", \"x\": [22, 22.5, 23, null], \"xaxis\": \"x\", \"y\": [70, 70.0, 70, null], \"yaxis\": \"y\"}, {\"hoverinfo\": \"none\", \"line\": {\"color\": \"#006837\", \"dash\": \"dot\", \"shape\": \"spline\", \"width\": 1}, \"mode\": \"lines\", \"type\": \"scatter\", \"x\": [23, 23.5, 24, null], \"xaxis\": \"x\", \"y\": [70, 70.0, 70, null], \"yaxis\": \"y\"}, {\"hoverinfo\": \"none\", \"line\": {\"color\": \"#006837\", \"dash\": \"dot\", \"shape\": \"spline\", \"width\": 1}, \"mode\": \"lines\", \"type\": \"scatter\", \"x\": [25, 25.5, 26, null], \"xaxis\": \"x\", \"y\": [16, 16.0, 16, null], \"yaxis\": \"y\"}, {\"hoverinfo\": \"none\", \"line\": {\"color\": \"#006837\", \"dash\": \"dot\", \"shape\": \"spline\", \"width\": 1}, \"mode\": \"lines\", \"type\": \"scatter\", \"x\": [25, 26.5, 28, null], \"xaxis\": \"x\", \"y\": [16, 16.0, 16, null], \"yaxis\": \"y\"}, {\"hoverinfo\": \"none\", \"line\": {\"color\": \"#006837\", \"dash\": \"dot\", \"shape\": \"spline\", \"width\": 1}, \"mode\": \"lines\", \"type\": \"scatter\", \"x\": [25, 27.5, 30, null], \"xaxis\": \"x\", \"y\": [16, 16.0, 16, null], \"yaxis\": \"y\"}, {\"hoverinfo\": \"none\", \"line\": {\"color\": \"#006837\", \"dash\": \"dot\", \"shape\": \"spline\", \"width\": 1}, \"mode\": \"lines\", \"type\": \"scatter\", \"x\": [26, 26.5, 27, null], \"xaxis\": \"x\", \"y\": [70, 70.0, 70, null], \"yaxis\": \"y\"}, {\"hoverinfo\": \"none\", \"line\": {\"color\": \"#006837\", \"dash\": \"dot\", \"shape\": \"spline\", \"width\": 1}, \"mode\": \"lines\", \"type\": \"scatter\", \"x\": [27, 27.5, 28, null], \"xaxis\": \"x\", \"y\": [70, 43.0, 16, null], \"yaxis\": \"y\"}, {\"hoverinfo\": \"none\", \"line\": {\"color\": \"#006837\", \"dash\": \"dot\", \"shape\": \"spline\", \"width\": 1}, \"mode\": \"lines\", \"type\": \"scatter\", \"x\": [28, 28.5, 29, null], \"xaxis\": \"x\", \"y\": [16, 16.0, 16, null], \"yaxis\": \"y\"}, {\"hoverinfo\": \"none\", \"line\": {\"color\": \"#006837\", \"dash\": \"dot\", \"shape\": \"spline\", \"width\": 1}, \"mode\": \"lines\", \"type\": \"scatter\", \"x\": [28, 29.0, 30, null], \"xaxis\": \"x\", \"y\": [16, 16.0, 16, null], \"yaxis\": \"y\"}, {\"hoverinfo\": \"none\", \"line\": {\"color\": \"#006837\", \"dash\": \"dot\", \"shape\": \"spline\", \"width\": 1}, \"mode\": \"lines\", \"type\": \"scatter\", \"x\": [30, 30.5, 31, null], \"xaxis\": \"x\", \"y\": [16, 16.5, 17, null], \"yaxis\": \"y\"}, {\"hoverinfo\": \"none\", \"line\": {\"color\": \"#006837\", \"dash\": \"dot\", \"shape\": \"spline\", \"width\": 1}, \"mode\": \"lines\", \"type\": \"scatter\", \"x\": [30, 30.5, 31, null], \"xaxis\": \"x\", \"y\": [16, 16.0, 16, null], \"yaxis\": \"y\"}, {\"hoverinfo\": \"none\", \"line\": {\"color\": \"#006837\", \"dash\": \"dot\", \"shape\": \"spline\", \"width\": 1}, \"mode\": \"lines\", \"type\": \"scatter\", \"x\": [31, 31.5, 32, null], \"xaxis\": \"x\", \"y\": [17, 17.0, 17, null], \"yaxis\": \"y\"}, {\"hoverinfo\": \"none\", \"line\": {\"color\": \"#006837\", \"dash\": \"dot\", \"shape\": \"spline\", \"width\": 1}, \"mode\": \"lines\", \"type\": \"scatter\", \"x\": [31, 32.0, 33, null], \"xaxis\": \"x\", \"y\": [17, 17.0, 17, null], \"yaxis\": \"y\"}, {\"hoverinfo\": \"none\", \"line\": {\"color\": \"#6ec064\", \"dash\": \"dot\", \"shape\": \"spline\", \"width\": 1}, \"mode\": \"lines\", \"type\": \"scatter\", \"x\": [32, 51.5, 71, null], \"xaxis\": \"x\", \"y\": [17, 20.0, 23, null], \"yaxis\": \"y\"}, {\"hoverinfo\": \"none\", \"line\": {\"color\": \"#4eb15d\", \"dash\": \"dot\", \"shape\": \"spline\", \"width\": 1}, \"mode\": \"lines\", \"type\": \"scatter\", \"x\": [32, 59.0, 86, null], \"xaxis\": \"x\", \"y\": [17, 21.0, 25, null], \"yaxis\": \"y\"}, {\"hoverinfo\": \"none\", \"line\": {\"color\": \"#006837\", \"dash\": \"dot\", \"shape\": \"spline\", \"width\": 1}, \"mode\": \"lines\", \"type\": \"scatter\", \"x\": [33, 33.5, 34, null], \"xaxis\": \"x\", \"y\": [17, 17.0, 17, null], \"yaxis\": \"y\"}, {\"hoverinfo\": \"none\", \"line\": {\"color\": \"#17934e\", \"dash\": \"dot\", \"shape\": \"spline\", \"width\": 1}, \"mode\": \"lines\", \"type\": \"scatter\", \"x\": [34, 34.5, 35, null], \"xaxis\": \"x\", \"y\": [17, 17.0, 17, null], \"yaxis\": \"y\"}, {\"hoverinfo\": \"none\", \"line\": {\"color\": \"#006837\", \"dash\": \"dot\", \"shape\": \"spline\", \"width\": 1}, \"mode\": \"lines\", \"type\": \"scatter\", \"x\": [34, 35.5, 37, null], \"xaxis\": \"x\", \"y\": [66, 66.0, 66, null], \"yaxis\": \"y\"}, {\"hoverinfo\": \"none\", \"line\": {\"color\": \"#006837\", \"dash\": \"dot\", \"shape\": \"spline\", \"width\": 1}, \"mode\": \"lines\", \"type\": \"scatter\", \"x\": [35, 35.5, 36, null], \"xaxis\": \"x\", \"y\": [17, 17.0, 17, null], \"yaxis\": \"y\"}, {\"hoverinfo\": \"none\", \"line\": {\"color\": \"#006837\", \"dash\": \"dot\", \"shape\": \"spline\", \"width\": 1}, \"mode\": \"lines\", \"type\": \"scatter\", \"x\": [35, 36.0, 37, null], \"xaxis\": \"x\", \"y\": [17, 17.0, 17, null], \"yaxis\": \"y\"}, {\"hoverinfo\": \"none\", \"line\": {\"color\": \"#6ec064\", \"dash\": \"dot\", \"shape\": \"spline\", \"width\": 1}, \"mode\": \"lines\", \"type\": \"scatter\", \"x\": [35, 53.0, 71, null], \"xaxis\": \"x\", \"y\": [17, 20.0, 23, null], \"yaxis\": \"y\"}, {\"hoverinfo\": \"none\", \"line\": {\"color\": \"#006837\", \"dash\": \"dot\", \"shape\": \"spline\", \"width\": 1}, \"mode\": \"lines\", \"type\": \"scatter\", \"x\": [35, 54.0, 73, null], \"xaxis\": \"x\", \"y\": [17, 21.0, 25, null], \"yaxis\": \"y\"}, {\"hoverinfo\": \"none\", \"line\": {\"color\": \"#4eb15d\", \"dash\": \"dot\", \"shape\": \"spline\", \"width\": 1}, \"mode\": \"lines\", \"type\": \"scatter\", \"x\": [35, 60.5, 86, null], \"xaxis\": \"x\", \"y\": [17, 21.0, 25, null], \"yaxis\": \"y\"}, {\"hoverinfo\": \"none\", \"line\": {\"color\": \"#006837\", \"dash\": \"dot\", \"shape\": \"spline\", \"width\": 1}, \"mode\": \"lines\", \"type\": \"scatter\", \"x\": [35, 61.5, 88, null], \"xaxis\": \"x\", \"y\": [17, 22.0, 27, null], \"yaxis\": \"y\"}, {\"hoverinfo\": \"none\", \"line\": {\"color\": \"#006837\", \"dash\": \"dot\", \"shape\": \"spline\", \"width\": 1}, \"mode\": \"lines\", \"type\": \"scatter\", \"x\": [36, 37.0, 38, null], \"xaxis\": \"x\", \"y\": [17, 17.0, 17, null], \"yaxis\": \"y\"}, {\"hoverinfo\": \"none\", \"line\": {\"color\": \"#006837\", \"dash\": \"dot\", \"shape\": \"spline\", \"width\": 1}, \"mode\": \"lines\", \"type\": \"scatter\", \"x\": [36, 39.5, 43, null], \"xaxis\": \"x\", \"y\": [17, 20.0, 23, null], \"yaxis\": \"y\"}, {\"hoverinfo\": \"none\", \"line\": {\"color\": \"#006837\", \"dash\": \"dot\", \"shape\": \"spline\", \"width\": 1}, \"mode\": \"lines\", \"type\": \"scatter\", \"x\": [36, 41.5, 47, null], \"xaxis\": \"x\", \"y\": [17, 20.0, 23, null], \"yaxis\": \"y\"}, {\"hoverinfo\": \"none\", \"line\": {\"color\": \"#006837\", \"dash\": \"dot\", \"shape\": \"spline\", \"width\": 1}, \"mode\": \"lines\", \"type\": \"scatter\", \"x\": [36, 43.5, 51, null], \"xaxis\": \"x\", \"y\": [17, 20.0, 23, null], \"yaxis\": \"y\"}, {\"hoverinfo\": \"none\", \"line\": {\"color\": \"#006837\", \"dash\": \"dot\", \"shape\": \"spline\", \"width\": 1}, \"mode\": \"lines\", \"type\": \"scatter\", \"x\": [36, 45.5, 55, null], \"xaxis\": \"x\", \"y\": [17, 20.0, 23, null], \"yaxis\": \"y\"}, {\"hoverinfo\": \"none\", \"line\": {\"color\": \"#006837\", \"dash\": \"dot\", \"shape\": \"spline\", \"width\": 1}, \"mode\": \"lines\", \"type\": \"scatter\", \"x\": [37, 37.5, 38, null], \"xaxis\": \"x\", \"y\": [17, 17.0, 17, null], \"yaxis\": \"y\"}, {\"hoverinfo\": \"none\", \"line\": {\"color\": \"#006837\", \"dash\": \"dot\", \"shape\": \"spline\", \"width\": 1}, \"mode\": \"lines\", \"type\": \"scatter\", \"x\": [37, 38.0, 39, null], \"xaxis\": \"x\", \"y\": [17, 17.0, 17, null], \"yaxis\": \"y\"}, {\"hoverinfo\": \"none\", \"line\": {\"color\": \"#006837\", \"dash\": \"dot\", \"shape\": \"spline\", \"width\": 1}, \"mode\": \"lines\", \"type\": \"scatter\", \"x\": [37, 38.5, 40, null], \"xaxis\": \"x\", \"y\": [17, 18.5, 20, null], \"yaxis\": \"y\"}, {\"hoverinfo\": \"none\", \"line\": {\"color\": \"#006837\", \"dash\": \"dot\", \"shape\": \"spline\", \"width\": 1}, \"mode\": \"lines\", \"type\": \"scatter\", \"x\": [37, 39.0, 41, null], \"xaxis\": \"x\", \"y\": [17, 19.0, 21, null], \"yaxis\": \"y\"}, {\"hoverinfo\": \"none\", \"line\": {\"color\": \"#006837\", \"dash\": \"dot\", \"shape\": \"spline\", \"width\": 1}, \"mode\": \"lines\", \"type\": \"scatter\", \"x\": [37, 39.5, 42, null], \"xaxis\": \"x\", \"y\": [17, 19.5, 22, null], \"yaxis\": \"y\"}, {\"hoverinfo\": \"none\", \"line\": {\"color\": \"#006837\", \"dash\": \"dot\", \"shape\": \"spline\", \"width\": 1}, \"mode\": \"lines\", \"type\": \"scatter\", \"x\": [37, 48.0, 59, null], \"xaxis\": \"x\", \"y\": [66, 66.0, 66, null], \"yaxis\": \"y\"}, {\"hoverinfo\": \"none\", \"line\": {\"color\": \"#006837\", \"dash\": \"dot\", \"shape\": \"spline\", \"width\": 1}, \"mode\": \"lines\", \"type\": \"scatter\", \"x\": [38, 41.0, 44, null], \"xaxis\": \"x\", \"y\": [17, 20.0, 23, null], \"yaxis\": \"y\"}, {\"hoverinfo\": \"none\", \"line\": {\"color\": \"#006837\", \"dash\": \"dot\", \"shape\": \"spline\", \"width\": 1}, \"mode\": \"lines\", \"type\": \"scatter\", \"x\": [38, 43.0, 48, null], \"xaxis\": \"x\", \"y\": [17, 20.0, 23, null], \"yaxis\": \"y\"}, {\"hoverinfo\": \"none\", \"line\": {\"color\": \"#006837\", \"dash\": \"dot\", \"shape\": \"spline\", \"width\": 1}, \"mode\": \"lines\", \"type\": \"scatter\", \"x\": [38, 45.0, 52, null], \"xaxis\": \"x\", \"y\": [17, 20.0, 23, null], \"yaxis\": \"y\"}, {\"hoverinfo\": \"none\", \"line\": {\"color\": \"#006837\", \"dash\": \"dot\", \"shape\": \"spline\", \"width\": 1}, \"mode\": \"lines\", \"type\": \"scatter\", \"x\": [38, 47.0, 56, null], \"xaxis\": \"x\", \"y\": [17, 20.0, 23, null], \"yaxis\": \"y\"}, {\"hoverinfo\": \"none\", \"line\": {\"color\": \"#006837\", \"dash\": \"dot\", \"shape\": \"spline\", \"width\": 1}, \"mode\": \"lines\", \"type\": \"scatter\", \"x\": [38, 48.5, 59, null], \"xaxis\": \"x\", \"y\": [17, 20.0, 23, null], \"yaxis\": \"y\"}, {\"hoverinfo\": \"none\", \"line\": {\"color\": \"#006837\", \"dash\": \"dot\", \"shape\": \"spline\", \"width\": 1}, \"mode\": \"lines\", \"type\": \"scatter\", \"x\": [39, 39.0, 39, null], \"xaxis\": \"x\", \"y\": [17, 17.5, 18, null], \"yaxis\": \"y\"}, {\"hoverinfo\": \"none\", \"line\": {\"color\": \"#006837\", \"dash\": \"dot\", \"shape\": \"spline\", \"width\": 1}, \"mode\": \"lines\", \"type\": \"scatter\", \"x\": [39, 39.5, 40, null], \"xaxis\": \"x\", \"y\": [18, 19.0, 20, null], \"yaxis\": \"y\"}, {\"hoverinfo\": \"none\", \"line\": {\"color\": \"#006837\", \"dash\": \"dot\", \"shape\": \"spline\", \"width\": 1}, \"mode\": \"lines\", \"type\": \"scatter\", \"x\": [39, 41.0, 43, null], \"xaxis\": \"x\", \"y\": [18, 20.5, 23, null], \"yaxis\": \"y\"}, {\"hoverinfo\": \"none\", \"line\": {\"color\": \"#006837\", \"dash\": \"dot\", \"shape\": \"spline\", \"width\": 1}, \"mode\": \"lines\", \"type\": \"scatter\", \"x\": [40, 40.0, 40, null], \"xaxis\": \"x\", \"y\": [20, 20.5, 21, null], \"yaxis\": \"y\"}, {\"hoverinfo\": \"none\", \"line\": {\"color\": \"#006837\", \"dash\": \"dot\", \"shape\": \"spline\", \"width\": 1}, \"mode\": \"lines\", \"type\": \"scatter\", \"x\": [40, 40.5, 41, null], \"xaxis\": \"x\", \"y\": [21, 21.0, 21, null], \"yaxis\": \"y\"}, {\"hoverinfo\": \"none\", \"line\": {\"color\": \"#006837\", \"dash\": \"dot\", \"shape\": \"spline\", \"width\": 1}, \"mode\": \"lines\", \"type\": \"scatter\", \"x\": [40, 43.5, 47, null], \"xaxis\": \"x\", \"y\": [21, 22.0, 23, null], \"yaxis\": \"y\"}, {\"hoverinfo\": \"none\", \"line\": {\"color\": \"#006837\", \"dash\": \"dot\", \"shape\": \"spline\", \"width\": 1}, \"mode\": \"lines\", \"type\": \"scatter\", \"x\": [41, 41.0, 41, null], \"xaxis\": \"x\", \"y\": [21, 21.5, 22, null], \"yaxis\": \"y\"}, {\"hoverinfo\": \"none\", \"line\": {\"color\": \"#006837\", \"dash\": \"dot\", \"shape\": \"spline\", \"width\": 1}, \"mode\": \"lines\", \"type\": \"scatter\", \"x\": [41, 41.5, 42, null], \"xaxis\": \"x\", \"y\": [22, 22.0, 22, null], \"yaxis\": \"y\"}, {\"hoverinfo\": \"none\", \"line\": {\"color\": \"#006837\", \"dash\": \"dot\", \"shape\": \"spline\", \"width\": 1}, \"mode\": \"lines\", \"type\": \"scatter\", \"x\": [41, 46.0, 51, null], \"xaxis\": \"x\", \"y\": [22, 22.5, 23, null], \"yaxis\": \"y\"}, {\"hoverinfo\": \"none\", \"line\": {\"color\": \"#006837\", \"dash\": \"dot\", \"shape\": \"spline\", \"width\": 1}, \"mode\": \"lines\", \"type\": \"scatter\", \"x\": [42, 42.0, 42, null], \"xaxis\": \"x\", \"y\": [22, 22.5, 23, null], \"yaxis\": \"y\"}, {\"hoverinfo\": \"none\", \"line\": {\"color\": \"#006837\", \"dash\": \"dot\", \"shape\": \"spline\", \"width\": 1}, \"mode\": \"lines\", \"type\": \"scatter\", \"x\": [42, 48.5, 55, null], \"xaxis\": \"x\", \"y\": [23, 23.0, 23, null], \"yaxis\": \"y\"}, {\"hoverinfo\": \"none\", \"line\": {\"color\": \"#006837\", \"dash\": \"dot\", \"shape\": \"spline\", \"width\": 1}, \"mode\": \"lines\", \"type\": \"scatter\", \"x\": [43, 43.5, 44, null], \"xaxis\": \"x\", \"y\": [23, 23.0, 23, null], \"yaxis\": \"y\"}, {\"hoverinfo\": \"none\", \"line\": {\"color\": \"#006837\", \"dash\": \"dot\", \"shape\": \"spline\", \"width\": 1}, \"mode\": \"lines\", \"type\": \"scatter\", \"x\": [44, 44.5, 45, null], \"xaxis\": \"x\", \"y\": [70, 70.0, 70, null], \"yaxis\": \"y\"}, {\"hoverinfo\": \"none\", \"line\": {\"color\": \"#006837\", \"dash\": \"dot\", \"shape\": \"spline\", \"width\": 1}, \"mode\": \"lines\", \"type\": \"scatter\", \"x\": [45, 45.5, 46, null], \"xaxis\": \"x\", \"y\": [71, 71.0, 71, null], \"yaxis\": \"y\"}, {\"hoverinfo\": \"none\", \"line\": {\"color\": \"#006837\", \"dash\": \"dot\", \"shape\": \"spline\", \"width\": 1}, \"mode\": \"lines\", \"type\": \"scatter\", \"x\": [47, 47.5, 48, null], \"xaxis\": \"x\", \"y\": [23, 23.0, 23, null], \"yaxis\": \"y\"}, {\"hoverinfo\": \"none\", \"line\": {\"color\": \"#006837\", \"dash\": \"dot\", \"shape\": \"spline\", \"width\": 1}, \"mode\": \"lines\", \"type\": \"scatter\", \"x\": [48, 48.5, 49, null], \"xaxis\": \"x\", \"y\": [71, 71.0, 71, null], \"yaxis\": \"y\"}, {\"hoverinfo\": \"none\", \"line\": {\"color\": \"#006837\", \"dash\": \"dot\", \"shape\": \"spline\", \"width\": 1}, \"mode\": \"lines\", \"type\": \"scatter\", \"x\": [49, 49.5, 50, null], \"xaxis\": \"x\", \"y\": [72, 72.0, 72, null], \"yaxis\": \"y\"}, {\"hoverinfo\": \"none\", \"line\": {\"color\": \"#006837\", \"dash\": \"dot\", \"shape\": \"spline\", \"width\": 1}, \"mode\": \"lines\", \"type\": \"scatter\", \"x\": [51, 51.5, 52, null], \"xaxis\": \"x\", \"y\": [23, 23.0, 23, null], \"yaxis\": \"y\"}, {\"hoverinfo\": \"none\", \"line\": {\"color\": \"#006837\", \"dash\": \"dot\", \"shape\": \"spline\", \"width\": 1}, \"mode\": \"lines\", \"type\": \"scatter\", \"x\": [52, 52.5, 53, null], \"xaxis\": \"x\", \"y\": [72, 72.0, 72, null], \"yaxis\": \"y\"}, {\"hoverinfo\": \"none\", \"line\": {\"color\": \"#006837\", \"dash\": \"dot\", \"shape\": \"spline\", \"width\": 1}, \"mode\": \"lines\", \"type\": \"scatter\", \"x\": [53, 53.5, 54, null], \"xaxis\": \"x\", \"y\": [73, 73.0, 73, null], \"yaxis\": \"y\"}, {\"hoverinfo\": \"none\", \"line\": {\"color\": \"#006837\", \"dash\": \"dot\", \"shape\": \"spline\", \"width\": 1}, \"mode\": \"lines\", \"type\": \"scatter\", \"x\": [55, 55.5, 56, null], \"xaxis\": \"x\", \"y\": [23, 23.0, 23, null], \"yaxis\": \"y\"}, {\"hoverinfo\": \"none\", \"line\": {\"color\": \"#006837\", \"dash\": \"dot\", \"shape\": \"spline\", \"width\": 1}, \"mode\": \"lines\", \"type\": \"scatter\", \"x\": [56, 56.5, 57, null], \"xaxis\": \"x\", \"y\": [73, 73.0, 73, null], \"yaxis\": \"y\"}, {\"hoverinfo\": \"none\", \"line\": {\"color\": \"#006837\", \"dash\": \"dot\", \"shape\": \"spline\", \"width\": 1}, \"mode\": \"lines\", \"type\": \"scatter\", \"x\": [57, 57.5, 58, null], \"xaxis\": \"x\", \"y\": [74, 74.0, 74, null], \"yaxis\": \"y\"}, {\"hoverinfo\": \"none\", \"line\": {\"color\": \"#006837\", \"dash\": \"dot\", \"shape\": \"spline\", \"width\": 1}, \"mode\": \"lines\", \"type\": \"scatter\", \"x\": [59, 59.5, 60, null], \"xaxis\": \"x\", \"y\": [23, 23.0, 23, null], \"yaxis\": \"y\"}, {\"hoverinfo\": \"none\", \"line\": {\"color\": \"#006837\", \"dash\": \"dot\", \"shape\": \"spline\", \"width\": 1}, \"mode\": \"lines\", \"type\": \"scatter\", \"x\": [59, 108.0, 157, null], \"xaxis\": \"x\", \"y\": [66, 65.5, 65, null], \"yaxis\": \"y\"}, {\"hoverinfo\": \"none\", \"line\": {\"color\": \"#006837\", \"dash\": \"dot\", \"shape\": \"spline\", \"width\": 1}, \"mode\": \"lines\", \"type\": \"scatter\", \"x\": [60, 77.0, 94, null], \"xaxis\": \"x\", \"y\": [23, 25.0, 27, null], \"yaxis\": \"y\"}, {\"hoverinfo\": \"none\", \"line\": {\"color\": \"#006837\", \"dash\": \"dot\", \"shape\": \"spline\", \"width\": 1}, \"mode\": \"lines\", \"type\": \"scatter\", \"x\": [60, 103.0, 146, null], \"xaxis\": \"x\", \"y\": [23, 18.5, 14, null], \"yaxis\": \"y\"}, {\"hoverinfo\": \"none\", \"line\": {\"color\": \"#006837\", \"dash\": \"dot\", \"shape\": \"spline\", \"width\": 1}, \"mode\": \"lines\", \"type\": \"scatter\", \"x\": [61, 63.0, 65, null], \"xaxis\": \"x\", \"y\": [57, 57.0, 57, null], \"yaxis\": \"y\"}, {\"hoverinfo\": \"none\", \"line\": {\"color\": \"#006837\", \"dash\": \"dot\", \"shape\": \"spline\", \"width\": 1}, \"mode\": \"lines\", \"type\": \"scatter\", \"x\": [61, 64.0, 67, null], \"xaxis\": \"x\", \"y\": [57, 57.5, 58, null], \"yaxis\": \"y\"}, {\"hoverinfo\": \"none\", \"line\": {\"color\": \"#006837\", \"dash\": \"dot\", \"shape\": \"spline\", \"width\": 1}, \"mode\": \"lines\", \"type\": \"scatter\", \"x\": [61, 64.0, 67, null], \"xaxis\": \"x\", \"y\": [57, 57.0, 57, null], \"yaxis\": \"y\"}, {\"hoverinfo\": \"none\", \"line\": {\"color\": \"#006837\", \"dash\": \"dot\", \"shape\": \"spline\", \"width\": 1}, \"mode\": \"lines\", \"type\": \"scatter\", \"x\": [61, 65.0, 69, null], \"xaxis\": \"x\", \"y\": [57, 57.5, 58, null], \"yaxis\": \"y\"}, {\"hoverinfo\": \"none\", \"line\": {\"color\": \"#3faa59\", \"dash\": \"dot\", \"shape\": \"spline\", \"width\": 1}, \"mode\": \"lines\", \"type\": \"scatter\", \"x\": [61, 66.5, 72, null], \"xaxis\": \"x\", \"y\": [57, 41.0, 25, null], \"yaxis\": \"y\"}, {\"hoverinfo\": \"none\", \"line\": {\"color\": \"#3faa59\", \"dash\": \"dot\", \"shape\": \"spline\", \"width\": 1}, \"mode\": \"lines\", \"type\": \"scatter\", \"x\": [61, 66.5, 72, null], \"xaxis\": \"x\", \"y\": [57, 40.5, 24, null], \"yaxis\": \"y\"}, {\"hoverinfo\": \"none\", \"line\": {\"color\": \"#006837\", \"dash\": \"dot\", \"shape\": \"spline\", \"width\": 1}, \"mode\": \"lines\", \"type\": \"scatter\", \"x\": [61, 70.5, 80, null], \"xaxis\": \"x\", \"y\": [57, 58.5, 60, null], \"yaxis\": \"y\"}, {\"hoverinfo\": \"none\", \"line\": {\"color\": \"#006837\", \"dash\": \"dot\", \"shape\": \"spline\", \"width\": 1}, \"mode\": \"lines\", \"type\": \"scatter\", \"x\": [61, 71.5, 82, null], \"xaxis\": \"x\", \"y\": [57, 59.0, 61, null], \"yaxis\": \"y\"}, {\"hoverinfo\": \"none\", \"line\": {\"color\": \"#006837\", \"dash\": \"dot\", \"shape\": \"spline\", \"width\": 1}, \"mode\": \"lines\", \"type\": \"scatter\", \"x\": [61, 71.5, 82, null], \"xaxis\": \"x\", \"y\": [57, 58.5, 60, null], \"yaxis\": \"y\"}, {\"hoverinfo\": \"none\", \"line\": {\"color\": \"#249d53\", \"dash\": \"dot\", \"shape\": \"spline\", \"width\": 1}, \"mode\": \"lines\", \"type\": \"scatter\", \"x\": [61, 72.5, 84, null], \"xaxis\": \"x\", \"y\": [57, 59.0, 61, null], \"yaxis\": \"y\"}, {\"hoverinfo\": \"none\", \"line\": {\"color\": \"#0b7d42\", \"dash\": \"dot\", \"shape\": \"spline\", \"width\": 1}, \"mode\": \"lines\", \"type\": \"scatter\", \"x\": [61, 74.0, 87, null], \"xaxis\": \"x\", \"y\": [57, 42.0, 27, null], \"yaxis\": \"y\"}, {\"hoverinfo\": \"none\", \"line\": {\"color\": \"#0b7d42\", \"dash\": \"dot\", \"shape\": \"spline\", \"width\": 1}, \"mode\": \"lines\", \"type\": \"scatter\", \"x\": [61, 74.0, 87, null], \"xaxis\": \"x\", \"y\": [57, 41.5, 26, null], \"yaxis\": \"y\"}, {\"hoverinfo\": \"none\", \"line\": {\"color\": \"#006837\", \"dash\": \"dot\", \"shape\": \"spline\", \"width\": 1}, \"mode\": \"lines\", \"type\": \"scatter\", \"x\": [61, 61.5, 62, null], \"xaxis\": \"x\", \"y\": [74, 74.0, 74, null], \"yaxis\": \"y\"}, {\"hoverinfo\": \"none\", \"line\": {\"color\": \"#006837\", \"dash\": \"dot\", \"shape\": \"spline\", \"width\": 1}, \"mode\": \"lines\", \"type\": \"scatter\", \"x\": [62, 62.5, 63, null], \"xaxis\": \"x\", \"y\": [74, 74.0, 74, null], \"yaxis\": \"y\"}, {\"hoverinfo\": \"none\", \"line\": {\"color\": \"#006837\", \"dash\": \"dot\", \"shape\": \"spline\", \"width\": 1}, \"mode\": \"lines\", \"type\": \"scatter\", \"x\": [65, 65.5, 66, null], \"xaxis\": \"x\", \"y\": [57, 57.0, 57, null], \"yaxis\": \"y\"}, {\"hoverinfo\": \"none\", \"line\": {\"color\": \"#006837\", \"dash\": \"dot\", \"shape\": \"spline\", \"width\": 1}, \"mode\": \"lines\", \"type\": \"scatter\", \"x\": [66, 68.0, 70, null], \"xaxis\": \"x\", \"y\": [57, 58.0, 59, null], \"yaxis\": \"y\"}, {\"hoverinfo\": \"none\", \"line\": {\"color\": \"#006837\", \"dash\": \"dot\", \"shape\": \"spline\", \"width\": 1}, \"mode\": \"lines\", \"type\": \"scatter\", \"x\": [66, 68.0, 70, null], \"xaxis\": \"x\", \"y\": [57, 57.5, 58, null], \"yaxis\": \"y\"}, {\"hoverinfo\": \"none\", \"line\": {\"color\": \"#6ec064\", \"dash\": \"dot\", \"shape\": \"spline\", \"width\": 1}, \"mode\": \"lines\", \"type\": \"scatter\", \"x\": [66, 68.5, 71, null], \"xaxis\": \"x\", \"y\": [57, 40.0, 23, null], \"yaxis\": \"y\"}, {\"hoverinfo\": \"none\", \"line\": {\"color\": \"#006837\", \"dash\": \"dot\", \"shape\": \"spline\", \"width\": 1}, \"mode\": \"lines\", \"type\": \"scatter\", \"x\": [67, 67.5, 68, null], \"xaxis\": \"x\", \"y\": [58, 58.0, 58, null], \"yaxis\": \"y\"}, {\"hoverinfo\": \"none\", \"line\": {\"color\": \"#006837\", \"dash\": \"dot\", \"shape\": \"spline\", \"width\": 1}, \"mode\": \"lines\", \"type\": \"scatter\", \"x\": [68, 68.5, 69, null], \"xaxis\": \"x\", \"y\": [58, 58.0, 58, null], \"yaxis\": \"y\"}, {\"hoverinfo\": \"none\", \"line\": {\"color\": \"#006837\", \"dash\": \"dot\", \"shape\": \"spline\", \"width\": 1}, \"mode\": \"lines\", \"type\": \"scatter\", \"x\": [69, 69.5, 70, null], \"xaxis\": \"x\", \"y\": [58, 58.5, 59, null], \"yaxis\": \"y\"}, {\"hoverinfo\": \"none\", \"line\": {\"color\": \"#006837\", \"dash\": \"dot\", \"shape\": \"spline\", \"width\": 1}, \"mode\": \"lines\", \"type\": \"scatter\", \"x\": [69, 69.5, 70, null], \"xaxis\": \"x\", \"y\": [58, 58.0, 58, null], \"yaxis\": \"y\"}, {\"hoverinfo\": \"none\", \"line\": {\"color\": \"#e54e35\", \"dash\": \"dot\", \"shape\": \"spline\", \"width\": 1}, \"mode\": \"lines\", \"type\": \"scatter\", \"x\": [70, 70.5, 71, null], \"xaxis\": \"x\", \"y\": [59, 59.0, 59, null], \"yaxis\": \"y\"}, {\"hoverinfo\": \"none\", \"line\": {\"color\": \"#0f8446\", \"dash\": \"dot\", \"shape\": \"spline\", \"width\": 1}, \"mode\": \"lines\", \"type\": \"scatter\", \"x\": [70, 72.0, 74, null], \"xaxis\": \"x\", \"y\": [59, 59.5, 60, null], \"yaxis\": \"y\"}, {\"hoverinfo\": \"none\", \"line\": {\"color\": \"#016a38\", \"dash\": \"dot\", \"shape\": \"spline\", \"width\": 1}, \"mode\": \"lines\", \"type\": \"scatter\", \"x\": [71, 71.0, 71, null], \"xaxis\": \"x\", \"y\": [23, 23.5, 24, null], \"yaxis\": \"y\"}, {\"hoverinfo\": \"none\", \"line\": {\"color\": \"#3faa59\", \"dash\": \"dot\", \"shape\": \"spline\", \"width\": 1}, \"mode\": \"lines\", \"type\": \"scatter\", \"x\": [71, 71.5, 72, null], \"xaxis\": \"x\", \"y\": [24, 24.5, 25, null], \"yaxis\": \"y\"}, {\"hoverinfo\": \"none\", \"line\": {\"color\": \"#3faa59\", \"dash\": \"dot\", \"shape\": \"spline\", \"width\": 1}, \"mode\": \"lines\", \"type\": \"scatter\", \"x\": [71, 71.5, 72, null], \"xaxis\": \"x\", \"y\": [24, 24.0, 24, null], \"yaxis\": \"y\"}, {\"hoverinfo\": \"none\", \"line\": {\"color\": \"#0e8245\", \"dash\": \"dot\", \"shape\": \"spline\", \"width\": 1}, \"mode\": \"lines\", \"type\": \"scatter\", \"x\": [71, 71.0, 71, null], \"xaxis\": \"x\", \"y\": [59, 59.5, 60, null], \"yaxis\": \"y\"}, {\"hoverinfo\": \"none\", \"line\": {\"color\": \"#42ac5a\", \"dash\": \"dot\", \"shape\": \"spline\", \"width\": 1}, \"mode\": \"lines\", \"type\": \"scatter\", \"x\": [71, 73.0, 75, null], \"xaxis\": \"x\", \"y\": [60, 60.0, 60, null], \"yaxis\": \"y\"}, {\"hoverinfo\": \"none\", \"line\": {\"color\": \"#06733d\", \"dash\": \"dot\", \"shape\": \"spline\", \"width\": 1}, \"mode\": \"lines\", \"type\": \"scatter\", \"x\": [72, 111.0, 150, null], \"xaxis\": \"x\", \"y\": [25, 19.5, 14, null], \"yaxis\": \"y\"}, {\"hoverinfo\": \"none\", \"line\": {\"color\": \"#42ac5a\", \"dash\": \"dot\", \"shape\": \"spline\", \"width\": 1}, \"mode\": \"lines\", \"type\": \"scatter\", \"x\": [74, 74.5, 75, null], \"xaxis\": \"x\", \"y\": [60, 60.0, 60, null], \"yaxis\": \"y\"}, {\"hoverinfo\": \"none\", \"line\": {\"color\": \"#016a38\", \"dash\": \"dot\", \"shape\": \"spline\", \"width\": 1}, \"mode\": \"lines\", \"type\": \"scatter\", \"x\": [75, 75.5, 76, null], \"xaxis\": \"x\", \"y\": [74, 74.0, 74, null], \"yaxis\": \"y\"}, {\"hoverinfo\": \"none\", \"line\": {\"color\": \"#006837\", \"dash\": \"dot\", \"shape\": \"spline\", \"width\": 1}, \"mode\": \"lines\", \"type\": \"scatter\", \"x\": [76, 76.5, 77, null], \"xaxis\": \"x\", \"y\": [75, 75.0, 75, null], \"yaxis\": \"y\"}, {\"hoverinfo\": \"none\", \"line\": {\"color\": \"#006837\", \"dash\": \"dot\", \"shape\": \"spline\", \"width\": 1}, \"mode\": \"lines\", \"type\": \"scatter\", \"x\": [77, 77.5, 78, null], \"xaxis\": \"x\", \"y\": [75, 75.0, 75, null], \"yaxis\": \"y\"}, {\"hoverinfo\": \"none\", \"line\": {\"color\": \"#006837\", \"dash\": \"dot\", \"shape\": \"spline\", \"width\": 1}, \"mode\": \"lines\", \"type\": \"scatter\", \"x\": [80, 80.5, 81, null], \"xaxis\": \"x\", \"y\": [60, 60.0, 60, null], \"yaxis\": \"y\"}, {\"hoverinfo\": \"none\", \"line\": {\"color\": \"#006837\", \"dash\": \"dot\", \"shape\": \"spline\", \"width\": 1}, \"mode\": \"lines\", \"type\": \"scatter\", \"x\": [81, 83.0, 85, null], \"xaxis\": \"x\", \"y\": [60, 61.0, 62, null], \"yaxis\": \"y\"}, {\"hoverinfo\": \"none\", \"line\": {\"color\": \"#006837\", \"dash\": \"dot\", \"shape\": \"spline\", \"width\": 1}, \"mode\": \"lines\", \"type\": \"scatter\", \"x\": [81, 83.0, 85, null], \"xaxis\": \"x\", \"y\": [60, 60.5, 61, null], \"yaxis\": \"y\"}, {\"hoverinfo\": \"none\", \"line\": {\"color\": \"#4eb15d\", \"dash\": \"dot\", \"shape\": \"spline\", \"width\": 1}, \"mode\": \"lines\", \"type\": \"scatter\", \"x\": [81, 83.5, 86, null], \"xaxis\": \"x\", \"y\": [60, 42.5, 25, null], \"yaxis\": \"y\"}, {\"hoverinfo\": \"none\", \"line\": {\"color\": \"#006837\", \"dash\": \"dot\", \"shape\": \"spline\", \"width\": 1}, \"mode\": \"lines\", \"type\": \"scatter\", \"x\": [82, 82.5, 83, null], \"xaxis\": \"x\", \"y\": [61, 61.0, 61, null], \"yaxis\": \"y\"}, {\"hoverinfo\": \"none\", \"line\": {\"color\": \"#249d53\", \"dash\": \"dot\", \"shape\": \"spline\", \"width\": 1}, \"mode\": \"lines\", \"type\": \"scatter\", \"x\": [83, 83.5, 84, null], \"xaxis\": \"x\", \"y\": [61, 61.0, 61, null], \"yaxis\": \"y\"}, {\"hoverinfo\": \"none\", \"line\": {\"color\": \"#006837\", \"dash\": \"dot\", \"shape\": \"spline\", \"width\": 1}, \"mode\": \"lines\", \"type\": \"scatter\", \"x\": [84, 84.5, 85, null], \"xaxis\": \"x\", \"y\": [61, 61.5, 62, null], \"yaxis\": \"y\"}, {\"hoverinfo\": \"none\", \"line\": {\"color\": \"#006837\", \"dash\": \"dot\", \"shape\": \"spline\", \"width\": 1}, \"mode\": \"lines\", \"type\": \"scatter\", \"x\": [84, 84.5, 85, null], \"xaxis\": \"x\", \"y\": [61, 61.0, 61, null], \"yaxis\": \"y\"}, {\"hoverinfo\": \"none\", \"line\": {\"color\": \"#a50026\", \"dash\": \"dot\", \"shape\": \"spline\", \"width\": 1}, \"mode\": \"lines\", \"type\": \"scatter\", \"x\": [85, 85.5, 86, null], \"xaxis\": \"x\", \"y\": [62, 62.0, 62, null], \"yaxis\": \"y\"}, {\"hoverinfo\": \"none\", \"line\": {\"color\": \"#108647\", \"dash\": \"dot\", \"shape\": \"spline\", \"width\": 1}, \"mode\": \"lines\", \"type\": \"scatter\", \"x\": [85, 87.0, 89, null], \"xaxis\": \"x\", \"y\": [62, 62.5, 63, null], \"yaxis\": \"y\"}, {\"hoverinfo\": \"none\", \"line\": {\"color\": \"#016a38\", \"dash\": \"dot\", \"shape\": \"spline\", \"width\": 1}, \"mode\": \"lines\", \"type\": \"scatter\", \"x\": [86, 86.0, 86, null], \"xaxis\": \"x\", \"y\": [25, 25.5, 26, null], \"yaxis\": \"y\"}, {\"hoverinfo\": \"none\", \"line\": {\"color\": \"#0b7d42\", \"dash\": \"dot\", \"shape\": \"spline\", \"width\": 1}, \"mode\": \"lines\", \"type\": \"scatter\", \"x\": [86, 86.5, 87, null], \"xaxis\": \"x\", \"y\": [26, 26.5, 27, null], \"yaxis\": \"y\"}, {\"hoverinfo\": \"none\", \"line\": {\"color\": \"#0b7d42\", \"dash\": \"dot\", \"shape\": \"spline\", \"width\": 1}, \"mode\": \"lines\", \"type\": \"scatter\", \"x\": [86, 86.5, 87, null], \"xaxis\": \"x\", \"y\": [26, 26.0, 26, null], \"yaxis\": \"y\"}, {\"hoverinfo\": \"none\", \"line\": {\"color\": \"#0d8044\", \"dash\": \"dot\", \"shape\": \"spline\", \"width\": 1}, \"mode\": \"lines\", \"type\": \"scatter\", \"x\": [86, 86.0, 86, null], \"xaxis\": \"x\", \"y\": [62, 62.5, 63, null], \"yaxis\": \"y\"}, {\"hoverinfo\": \"none\", \"line\": {\"color\": \"#4bb05c\", \"dash\": \"dot\", \"shape\": \"spline\", \"width\": 1}, \"mode\": \"lines\", \"type\": \"scatter\", \"x\": [86, 88.0, 90, null], \"xaxis\": \"x\", \"y\": [63, 63.0, 63, null], \"yaxis\": \"y\"}, {\"hoverinfo\": \"none\", \"line\": {\"color\": \"#06733d\", \"dash\": \"dot\", \"shape\": \"spline\", \"width\": 1}, \"mode\": \"lines\", \"type\": \"scatter\", \"x\": [87, 119.0, 151, null], \"xaxis\": \"x\", \"y\": [27, 20.5, 14, null], \"yaxis\": \"y\"}, {\"hoverinfo\": \"none\", \"line\": {\"color\": \"#4bb05c\", \"dash\": \"dot\", \"shape\": \"spline\", \"width\": 1}, \"mode\": \"lines\", \"type\": \"scatter\", \"x\": [89, 89.5, 90, null], \"xaxis\": \"x\", \"y\": [63, 63.0, 63, null], \"yaxis\": \"y\"}, {\"hoverinfo\": \"none\", \"line\": {\"color\": \"#3faa59\", \"dash\": \"dot\", \"shape\": \"spline\", \"width\": 1}, \"mode\": \"lines\", \"type\": \"scatter\", \"x\": [90, 91.0, 92, null], \"xaxis\": \"x\", \"y\": [63, 63.0, 63, null], \"yaxis\": \"y\"}, {\"hoverinfo\": \"none\", \"line\": {\"color\": \"#016a38\", \"dash\": \"dot\", \"shape\": \"spline\", \"width\": 1}, \"mode\": \"lines\", \"type\": \"scatter\", \"x\": [90, 90.5, 91, null], \"xaxis\": \"x\", \"y\": [77, 77.0, 77, null], \"yaxis\": \"y\"}, {\"hoverinfo\": \"none\", \"line\": {\"color\": \"#0b7d42\", \"dash\": \"dot\", \"shape\": \"spline\", \"width\": 1}, \"mode\": \"lines\", \"type\": \"scatter\", \"x\": [92, 92.5, 93, null], \"xaxis\": \"x\", \"y\": [63, 63.0, 63, null], \"yaxis\": \"y\"}, {\"hoverinfo\": \"none\", \"line\": {\"color\": \"#04703b\", \"dash\": \"dot\", \"shape\": \"spline\", \"width\": 1}, \"mode\": \"lines\", \"type\": \"scatter\", \"x\": [93, 94.0, 95, null], \"xaxis\": \"x\", \"y\": [63, 45.5, 28, null], \"yaxis\": \"y\"}, {\"hoverinfo\": \"none\", \"line\": {\"color\": \"#04703b\", \"dash\": \"dot\", \"shape\": \"spline\", \"width\": 1}, \"mode\": \"lines\", \"type\": \"scatter\", \"x\": [93, 94.0, 95, null], \"xaxis\": \"x\", \"y\": [63, 45.0, 27, null], \"yaxis\": \"y\"}, {\"hoverinfo\": \"none\", \"line\": {\"color\": \"#036e3a\", \"dash\": \"dot\", \"shape\": \"spline\", \"width\": 1}, \"mode\": \"lines\", \"type\": \"scatter\", \"x\": [93, 102.0, 111, null], \"xaxis\": \"x\", \"y\": [63, 47.0, 31, null], \"yaxis\": \"y\"}, {\"hoverinfo\": \"none\", \"line\": {\"color\": \"#036e3a\", \"dash\": \"dot\", \"shape\": \"spline\", \"width\": 1}, \"mode\": \"lines\", \"type\": \"scatter\", \"x\": [93, 102.0, 111, null], \"xaxis\": \"x\", \"y\": [63, 46.0, 29, null], \"yaxis\": \"y\"}, {\"hoverinfo\": \"none\", \"line\": {\"color\": \"#036e3a\", \"dash\": \"dot\", \"shape\": \"spline\", \"width\": 1}, \"mode\": \"lines\", \"type\": \"scatter\", \"x\": [93, 102.0, 111, null], \"xaxis\": \"x\", \"y\": [63, 46.5, 30, null], \"yaxis\": \"y\"}, {\"hoverinfo\": \"none\", \"line\": {\"color\": \"#04703b\", \"dash\": \"dot\", \"shape\": \"spline\", \"width\": 1}, \"mode\": \"lines\", \"type\": \"scatter\", \"x\": [94, 94.5, 95, null], \"xaxis\": \"x\", \"y\": [27, 27.5, 28, null], \"yaxis\": \"y\"}, {\"hoverinfo\": \"none\", \"line\": {\"color\": \"#04703b\", \"dash\": \"dot\", \"shape\": \"spline\", \"width\": 1}, \"mode\": \"lines\", \"type\": \"scatter\", \"x\": [94, 94.5, 95, null], \"xaxis\": \"x\", \"y\": [27, 27.0, 27, null], \"yaxis\": \"y\"}, {\"hoverinfo\": \"none\", \"line\": {\"color\": \"#006837\", \"dash\": \"dot\", \"shape\": \"spline\", \"width\": 1}, \"mode\": \"lines\", \"type\": \"scatter\", \"x\": [94, 119.0, 144, null], \"xaxis\": \"x\", \"y\": [27, 20.5, 14, null], \"yaxis\": \"y\"}, {\"hoverinfo\": \"none\", \"line\": {\"color\": \"#026c39\", \"dash\": \"dot\", \"shape\": \"spline\", \"width\": 1}, \"mode\": \"lines\", \"type\": \"scatter\", \"x\": [95, 97.0, 99, null], \"xaxis\": \"x\", \"y\": [28, 28.0, 28, null], \"yaxis\": \"y\"}, {\"hoverinfo\": \"none\", \"line\": {\"color\": \"#006837\", \"dash\": \"dot\", \"shape\": \"spline\", \"width\": 1}, \"mode\": \"lines\", \"type\": \"scatter\", \"x\": [95, 95.5, 96, null], \"xaxis\": \"x\", \"y\": [77, 77.0, 77, null], \"yaxis\": \"y\"}, {\"hoverinfo\": \"none\", \"line\": {\"color\": \"#006837\", \"dash\": \"dot\", \"shape\": \"spline\", \"width\": 1}, \"mode\": \"lines\", \"type\": \"scatter\", \"x\": [96, 96.5, 97, null], \"xaxis\": \"x\", \"y\": [78, 78.0, 78, null], \"yaxis\": \"y\"}, {\"hoverinfo\": \"none\", \"line\": {\"color\": \"#006837\", \"dash\": \"dot\", \"shape\": \"spline\", \"width\": 1}, \"mode\": \"lines\", \"type\": \"scatter\", \"x\": [97, 97.5, 98, null], \"xaxis\": \"x\", \"y\": [78, 78.0, 78, null], \"yaxis\": \"y\"}, {\"hoverinfo\": \"none\", \"line\": {\"color\": \"#5db961\", \"dash\": \"dot\", \"shape\": \"spline\", \"width\": 1}, \"mode\": \"lines\", \"type\": \"scatter\", \"x\": [99, 99.5, 100, null], \"xaxis\": \"x\", \"y\": [28, 19.0, 10, null], \"yaxis\": \"y\"}, {\"hoverinfo\": \"none\", \"line\": {\"color\": \"#08773f\", \"dash\": \"dot\", \"shape\": \"spline\", \"width\": 1}, \"mode\": \"lines\", \"type\": \"scatter\", \"x\": [100, 100.5, 101, null], \"xaxis\": \"x\", \"y\": [10, 10.0, 10, null], \"yaxis\": \"y\"}, {\"hoverinfo\": \"none\", \"line\": {\"color\": \"#026c39\", \"dash\": \"dot\", \"shape\": \"spline\", \"width\": 1}, \"mode\": \"lines\", \"type\": \"scatter\", \"x\": [100, 130.0, 160, null], \"xaxis\": \"x\", \"y\": [10, 12.5, 15, null], \"yaxis\": \"y\"}, {\"hoverinfo\": \"none\", \"line\": {\"color\": \"#04703b\", \"dash\": \"dot\", \"shape\": \"spline\", \"width\": 1}, \"mode\": \"lines\", \"type\": \"scatter\", \"x\": [101, 101.5, 102, null], \"xaxis\": \"x\", \"y\": [10, 10.0, 10, null], \"yaxis\": \"y\"}, {\"hoverinfo\": \"none\", \"line\": {\"color\": \"#04703b\", \"dash\": \"dot\", \"shape\": \"spline\", \"width\": 1}, \"mode\": \"lines\", \"type\": \"scatter\", \"x\": [101, 102.0, 103, null], \"xaxis\": \"x\", \"y\": [10, 10.0, 10, null], \"yaxis\": \"y\"}, {\"hoverinfo\": \"none\", \"line\": {\"color\": \"#04703b\", \"dash\": \"dot\", \"shape\": \"spline\", \"width\": 1}, \"mode\": \"lines\", \"type\": \"scatter\", \"x\": [102, 102.5, 103, null], \"xaxis\": \"x\", \"y\": [10, 10.0, 10, null], \"yaxis\": \"y\"}, {\"hoverinfo\": \"none\", \"line\": {\"color\": \"#006837\", \"dash\": \"dot\", \"shape\": \"spline\", \"width\": 1}, \"mode\": \"lines\", \"type\": \"scatter\", \"x\": [102, 103.0, 104, null], \"xaxis\": \"x\", \"y\": [10, 10.0, 10, null], \"yaxis\": \"y\"}, {\"hoverinfo\": \"none\", \"line\": {\"color\": \"#006837\", \"dash\": \"dot\", \"shape\": \"spline\", \"width\": 1}, \"mode\": \"lines\", \"type\": \"scatter\", \"x\": [103, 103.5, 104, null], \"xaxis\": \"x\", \"y\": [10, 10.0, 10, null], \"yaxis\": \"y\"}, {\"hoverinfo\": \"none\", \"line\": {\"color\": \"#128a49\", \"dash\": \"dot\", \"shape\": \"spline\", \"width\": 1}, \"mode\": \"lines\", \"type\": \"scatter\", \"x\": [104, 104.5, 105, null], \"xaxis\": \"x\", \"y\": [10, 10.0, 10, null], \"yaxis\": \"y\"}, {\"hoverinfo\": \"none\", \"line\": {\"color\": \"#006837\", \"dash\": \"dot\", \"shape\": \"spline\", \"width\": 1}, \"mode\": \"lines\", \"type\": \"scatter\", \"x\": [105, 105.5, 106, null], \"xaxis\": \"x\", \"y\": [10, 10.0, 10, null], \"yaxis\": \"y\"}, {\"hoverinfo\": \"none\", \"line\": {\"color\": \"#006837\", \"dash\": \"dot\", \"shape\": \"spline\", \"width\": 1}, \"mode\": \"lines\", \"type\": \"scatter\", \"x\": [105, 130.0, 155, null], \"xaxis\": \"x\", \"y\": [10, 12.5, 15, null], \"yaxis\": \"y\"}, {\"hoverinfo\": \"none\", \"line\": {\"color\": \"#006837\", \"dash\": \"dot\", \"shape\": \"spline\", \"width\": 1}, \"mode\": \"lines\", \"type\": \"scatter\", \"x\": [106, 106.0, 106, null], \"xaxis\": \"x\", \"y\": [10, 11.0, 12, null], \"yaxis\": \"y\"}, {\"hoverinfo\": \"none\", \"line\": {\"color\": \"#006837\", \"dash\": \"dot\", \"shape\": \"spline\", \"width\": 1}, \"mode\": \"lines\", \"type\": \"scatter\", \"x\": [106, 106.0, 106, null], \"xaxis\": \"x\", \"y\": [10, 10.5, 11, null], \"yaxis\": \"y\"}, {\"hoverinfo\": \"none\", \"line\": {\"color\": \"#006837\", \"dash\": \"dot\", \"shape\": \"spline\", \"width\": 1}, \"mode\": \"lines\", \"type\": \"scatter\", \"x\": [106, 106.0, 106, null], \"xaxis\": \"x\", \"y\": [12, 12.5, 13, null], \"yaxis\": \"y\"}, {\"hoverinfo\": \"none\", \"line\": {\"color\": \"#006837\", \"dash\": \"dot\", \"shape\": \"spline\", \"width\": 1}, \"mode\": \"lines\", \"type\": \"scatter\", \"x\": [106, 106.5, 107, null], \"xaxis\": \"x\", \"y\": [11, 12.0, 13, null], \"yaxis\": \"y\"}, {\"hoverinfo\": \"none\", \"line\": {\"color\": \"#006837\", \"dash\": \"dot\", \"shape\": \"spline\", \"width\": 1}, \"mode\": \"lines\", \"type\": \"scatter\", \"x\": [106, 106.5, 107, null], \"xaxis\": \"x\", \"y\": [13, 13.0, 13, null], \"yaxis\": \"y\"}, {\"hoverinfo\": \"none\", \"line\": {\"color\": \"#016a38\", \"dash\": \"dot\", \"shape\": \"spline\", \"width\": 1}, \"mode\": \"lines\", \"type\": \"scatter\", \"x\": [106, 130.0, 154, null], \"xaxis\": \"x\", \"y\": [13, 14.0, 15, null], \"yaxis\": \"y\"}, {\"hoverinfo\": \"none\", \"line\": {\"color\": \"#006837\", \"dash\": \"dot\", \"shape\": \"spline\", \"width\": 1}, \"mode\": \"lines\", \"type\": \"scatter\", \"x\": [107, 107.5, 108, null], \"xaxis\": \"x\", \"y\": [13, 13.0, 13, null], \"yaxis\": \"y\"}, {\"hoverinfo\": \"none\", \"line\": {\"color\": \"#006837\", \"dash\": \"dot\", \"shape\": \"spline\", \"width\": 1}, \"mode\": \"lines\", \"type\": \"scatter\", \"x\": [108, 109.0, 110, null], \"xaxis\": \"x\", \"y\": [13, 13.5, 14, null], \"yaxis\": \"y\"}, {\"hoverinfo\": \"none\", \"line\": {\"color\": \"#006837\", \"dash\": \"dot\", \"shape\": \"spline\", \"width\": 1}, \"mode\": \"lines\", \"type\": \"scatter\", \"x\": [108, 109.0, 110, null], \"xaxis\": \"x\", \"y\": [13, 13.0, 13, null], \"yaxis\": \"y\"}, {\"hoverinfo\": \"none\", \"line\": {\"color\": \"#006837\", \"dash\": \"dot\", \"shape\": \"spline\", \"width\": 1}, \"mode\": \"lines\", \"type\": \"scatter\", \"x\": [108, 108.5, 109, null], \"xaxis\": \"x\", \"y\": [66, 66.0, 66, null], \"yaxis\": \"y\"}, {\"hoverinfo\": \"none\", \"line\": {\"color\": \"#036e3a\", \"dash\": \"dot\", \"shape\": \"spline\", \"width\": 1}, \"mode\": \"lines\", \"type\": \"scatter\", \"x\": [112, 112.5, 113, null], \"xaxis\": \"x\", \"y\": [31, 31.5, 32, null], \"yaxis\": \"y\"}, {\"hoverinfo\": \"none\", \"line\": {\"color\": \"#036e3a\", \"dash\": \"dot\", \"shape\": \"spline\", \"width\": 1}, \"mode\": \"lines\", \"type\": \"scatter\", \"x\": [112, 112.5, 113, null], \"xaxis\": \"x\", \"y\": [31, 31.0, 31, null], \"yaxis\": \"y\"}, {\"hoverinfo\": \"none\", \"line\": {\"color\": \"#148e4b\", \"dash\": \"dot\", \"shape\": \"spline\", \"width\": 1}, \"mode\": \"lines\", \"type\": \"scatter\", \"x\": [112, 115.5, 119, null], \"xaxis\": \"x\", \"y\": [31, 32.5, 34, null], \"yaxis\": \"y\"}, {\"hoverinfo\": \"none\", \"line\": {\"color\": \"#148e4b\", \"dash\": \"dot\", \"shape\": \"spline\", \"width\": 1}, \"mode\": \"lines\", \"type\": \"scatter\", \"x\": [112, 115.5, 119, null], \"xaxis\": \"x\", \"y\": [31, 32.0, 33, null], \"yaxis\": \"y\"}, {\"hoverinfo\": \"none\", \"line\": {\"color\": \"#026c39\", \"dash\": \"dot\", \"shape\": \"spline\", \"width\": 1}, \"mode\": \"lines\", \"type\": \"scatter\", \"x\": [112, 118.5, 125, null], \"xaxis\": \"x\", \"y\": [31, 34.0, 37, null], \"yaxis\": \"y\"}, {\"hoverinfo\": \"none\", \"line\": {\"color\": \"#026c39\", \"dash\": \"dot\", \"shape\": \"spline\", \"width\": 1}, \"mode\": \"lines\", \"type\": \"scatter\", \"x\": [112, 118.5, 125, null], \"xaxis\": \"x\", \"y\": [31, 33.5, 36, null], \"yaxis\": \"y\"}, {\"hoverinfo\": \"none\", \"line\": {\"color\": \"#026c39\", \"dash\": \"dot\", \"shape\": \"spline\", \"width\": 1}, \"mode\": \"lines\", \"type\": \"scatter\", \"x\": [112, 121.5, 131, null], \"xaxis\": \"x\", \"y\": [31, 35.5, 40, null], \"yaxis\": \"y\"}, {\"hoverinfo\": \"none\", \"line\": {\"color\": \"#026c39\", \"dash\": \"dot\", \"shape\": \"spline\", \"width\": 1}, \"mode\": \"lines\", \"type\": \"scatter\", \"x\": [112, 121.5, 131, null], \"xaxis\": \"x\", \"y\": [31, 35.0, 39, null], \"yaxis\": \"y\"}, {\"hoverinfo\": \"none\", \"line\": {\"color\": \"#026c39\", \"dash\": \"dot\", \"shape\": \"spline\", \"width\": 1}, \"mode\": \"lines\", \"type\": \"scatter\", \"x\": [112, 124.5, 137, null], \"xaxis\": \"x\", \"y\": [31, 36.5, 42, null], \"yaxis\": \"y\"}, {\"hoverinfo\": \"none\", \"line\": {\"color\": \"#026c39\", \"dash\": \"dot\", \"shape\": \"spline\", \"width\": 1}, \"mode\": \"lines\", \"type\": \"scatter\", \"x\": [112, 124.5, 137, null], \"xaxis\": \"x\", \"y\": [31, 36.0, 41, null], \"yaxis\": \"y\"}, {\"hoverinfo\": \"none\", \"line\": {\"color\": \"#006837\", \"dash\": \"dot\", \"shape\": \"spline\", \"width\": 1}, \"mode\": \"lines\", \"type\": \"scatter\", \"x\": [113, 113.5, 114, null], \"xaxis\": \"x\", \"y\": [32, 32.0, 32, null], \"yaxis\": \"y\"}, {\"hoverinfo\": \"none\", \"line\": {\"color\": \"#148e4b\", \"dash\": \"dot\", \"shape\": \"spline\", \"width\": 1}, \"mode\": \"lines\", \"type\": \"scatter\", \"x\": [114, 114.5, 115, null], \"xaxis\": \"x\", \"y\": [32, 32.0, 32, null], \"yaxis\": \"y\"}, {\"hoverinfo\": \"none\", \"line\": {\"color\": \"#006837\", \"dash\": \"dot\", \"shape\": \"spline\", \"width\": 1}, \"mode\": \"lines\", \"type\": \"scatter\", \"x\": [115, 115.5, 116, null], \"xaxis\": \"x\", \"y\": [32, 32.0, 32, null], \"yaxis\": \"y\"}, {\"hoverinfo\": \"none\", \"line\": {\"color\": \"#006837\", \"dash\": \"dot\", \"shape\": \"spline\", \"width\": 1}, \"mode\": \"lines\", \"type\": \"scatter\", \"x\": [115, 116.0, 117, null], \"xaxis\": \"x\", \"y\": [32, 32.5, 33, null], \"yaxis\": \"y\"}, {\"hoverinfo\": \"none\", \"line\": {\"color\": \"#006837\", \"dash\": \"dot\", \"shape\": \"spline\", \"width\": 1}, \"mode\": \"lines\", \"type\": \"scatter\", \"x\": [115, 116.0, 117, null], \"xaxis\": \"x\", \"y\": [32, 32.0, 32, null], \"yaxis\": \"y\"}, {\"hoverinfo\": \"none\", \"line\": {\"color\": \"#006837\", \"dash\": \"dot\", \"shape\": \"spline\", \"width\": 1}, \"mode\": \"lines\", \"type\": \"scatter\", \"x\": [116, 116.5, 117, null], \"xaxis\": \"x\", \"y\": [32, 32.5, 33, null], \"yaxis\": \"y\"}, {\"hoverinfo\": \"none\", \"line\": {\"color\": \"#006837\", \"dash\": \"dot\", \"shape\": \"spline\", \"width\": 1}, \"mode\": \"lines\", \"type\": \"scatter\", \"x\": [116, 116.5, 117, null], \"xaxis\": \"x\", \"y\": [32, 32.0, 32, null], \"yaxis\": \"y\"}, {\"hoverinfo\": \"none\", \"line\": {\"color\": \"#016a38\", \"dash\": \"dot\", \"shape\": \"spline\", \"width\": 1}, \"mode\": \"lines\", \"type\": \"scatter\", \"x\": [117, 117.5, 118, null], \"xaxis\": \"x\", \"y\": [33, 33.0, 33, null], \"yaxis\": \"y\"}, {\"hoverinfo\": \"none\", \"line\": {\"color\": \"#016a38\", \"dash\": \"dot\", \"shape\": \"spline\", \"width\": 1}, \"mode\": \"lines\", \"type\": \"scatter\", \"x\": [118, 130.5, 143, null], \"xaxis\": \"x\", \"y\": [33, 39.0, 45, null], \"yaxis\": \"y\"}, {\"hoverinfo\": \"none\", \"line\": {\"color\": \"#006837\", \"dash\": \"dot\", \"shape\": \"spline\", \"width\": 1}, \"mode\": \"lines\", \"type\": \"scatter\", \"x\": [119, 119.5, 120, null], \"xaxis\": \"x\", \"y\": [34, 34.5, 35, null], \"yaxis\": \"y\"}, {\"hoverinfo\": \"none\", \"line\": {\"color\": \"#006837\", \"dash\": \"dot\", \"shape\": \"spline\", \"width\": 1}, \"mode\": \"lines\", \"type\": \"scatter\", \"x\": [120, 120.5, 121, null], \"xaxis\": \"x\", \"y\": [35, 35.0, 35, null], \"yaxis\": \"y\"}, {\"hoverinfo\": \"none\", \"line\": {\"color\": \"#006837\", \"dash\": \"dot\", \"shape\": \"spline\", \"width\": 1}, \"mode\": \"lines\", \"type\": \"scatter\", \"x\": [121, 121.5, 122, null], \"xaxis\": \"x\", \"y\": [35, 35.0, 35, null], \"yaxis\": \"y\"}, {\"hoverinfo\": \"none\", \"line\": {\"color\": \"#006837\", \"dash\": \"dot\", \"shape\": \"spline\", \"width\": 1}, \"mode\": \"lines\", \"type\": \"scatter\", \"x\": [121, 122.0, 123, null], \"xaxis\": \"x\", \"y\": [35, 35.5, 36, null], \"yaxis\": \"y\"}, {\"hoverinfo\": \"none\", \"line\": {\"color\": \"#006837\", \"dash\": \"dot\", \"shape\": \"spline\", \"width\": 1}, \"mode\": \"lines\", \"type\": \"scatter\", \"x\": [121, 122.0, 123, null], \"xaxis\": \"x\", \"y\": [35, 35.0, 35, null], \"yaxis\": \"y\"}, {\"hoverinfo\": \"none\", \"line\": {\"color\": \"#006837\", \"dash\": \"dot\", \"shape\": \"spline\", \"width\": 1}, \"mode\": \"lines\", \"type\": \"scatter\", \"x\": [122, 122.5, 123, null], \"xaxis\": \"x\", \"y\": [35, 35.5, 36, null], \"yaxis\": \"y\"}, {\"hoverinfo\": \"none\", \"line\": {\"color\": \"#006837\", \"dash\": \"dot\", \"shape\": \"spline\", \"width\": 1}, \"mode\": \"lines\", \"type\": \"scatter\", \"x\": [122, 122.5, 123, null], \"xaxis\": \"x\", \"y\": [35, 35.0, 35, null], \"yaxis\": \"y\"}, {\"hoverinfo\": \"none\", \"line\": {\"color\": \"#016a38\", \"dash\": \"dot\", \"shape\": \"spline\", \"width\": 1}, \"mode\": \"lines\", \"type\": \"scatter\", \"x\": [123, 123.5, 124, null], \"xaxis\": \"x\", \"y\": [36, 36.0, 36, null], \"yaxis\": \"y\"}, {\"hoverinfo\": \"none\", \"line\": {\"color\": \"#016a38\", \"dash\": \"dot\", \"shape\": \"spline\", \"width\": 1}, \"mode\": \"lines\", \"type\": \"scatter\", \"x\": [124, 133.5, 143, null], \"xaxis\": \"x\", \"y\": [36, 40.5, 45, null], \"yaxis\": \"y\"}, {\"hoverinfo\": \"none\", \"line\": {\"color\": \"#006837\", \"dash\": \"dot\", \"shape\": \"spline\", \"width\": 1}, \"mode\": \"lines\", \"type\": \"scatter\", \"x\": [125, 125.5, 126, null], \"xaxis\": \"x\", \"y\": [37, 37.0, 37, null], \"yaxis\": \"y\"}, {\"hoverinfo\": \"none\", \"line\": {\"color\": \"#006837\", \"dash\": \"dot\", \"shape\": \"spline\", \"width\": 1}, \"mode\": \"lines\", \"type\": \"scatter\", \"x\": [126, 126.5, 127, null], \"xaxis\": \"x\", \"y\": [37, 37.0, 37, null], \"yaxis\": \"y\"}, {\"hoverinfo\": \"none\", \"line\": {\"color\": \"#006837\", \"dash\": \"dot\", \"shape\": \"spline\", \"width\": 1}, \"mode\": \"lines\", \"type\": \"scatter\", \"x\": [127, 127.5, 128, null], \"xaxis\": \"x\", \"y\": [37, 37.0, 37, null], \"yaxis\": \"y\"}, {\"hoverinfo\": \"none\", \"line\": {\"color\": \"#006837\", \"dash\": \"dot\", \"shape\": \"spline\", \"width\": 1}, \"mode\": \"lines\", \"type\": \"scatter\", \"x\": [127, 128.0, 129, null], \"xaxis\": \"x\", \"y\": [37, 37.5, 38, null], \"yaxis\": \"y\"}, {\"hoverinfo\": \"none\", \"line\": {\"color\": \"#006837\", \"dash\": \"dot\", \"shape\": \"spline\", \"width\": 1}, \"mode\": \"lines\", \"type\": \"scatter\", \"x\": [127, 128.0, 129, null], \"xaxis\": \"x\", \"y\": [37, 37.0, 37, null], \"yaxis\": \"y\"}, {\"hoverinfo\": \"none\", \"line\": {\"color\": \"#006837\", \"dash\": \"dot\", \"shape\": \"spline\", \"width\": 1}, \"mode\": \"lines\", \"type\": \"scatter\", \"x\": [128, 128.5, 129, null], \"xaxis\": \"x\", \"y\": [37, 37.5, 38, null], \"yaxis\": \"y\"}, {\"hoverinfo\": \"none\", \"line\": {\"color\": \"#006837\", \"dash\": \"dot\", \"shape\": \"spline\", \"width\": 1}, \"mode\": \"lines\", \"type\": \"scatter\", \"x\": [128, 128.5, 129, null], \"xaxis\": \"x\", \"y\": [37, 37.0, 37, null], \"yaxis\": \"y\"}, {\"hoverinfo\": \"none\", \"line\": {\"color\": \"#016a38\", \"dash\": \"dot\", \"shape\": \"spline\", \"width\": 1}, \"mode\": \"lines\", \"type\": \"scatter\", \"x\": [129, 129.5, 130, null], \"xaxis\": \"x\", \"y\": [38, 38.5, 39, null], \"yaxis\": \"y\"}, {\"hoverinfo\": \"none\", \"line\": {\"color\": \"#016a38\", \"dash\": \"dot\", \"shape\": \"spline\", \"width\": 1}, \"mode\": \"lines\", \"type\": \"scatter\", \"x\": [130, 136.5, 143, null], \"xaxis\": \"x\", \"y\": [39, 42.0, 45, null], \"yaxis\": \"y\"}, {\"hoverinfo\": \"none\", \"line\": {\"color\": \"#006837\", \"dash\": \"dot\", \"shape\": \"spline\", \"width\": 1}, \"mode\": \"lines\", \"type\": \"scatter\", \"x\": [131, 131.5, 132, null], \"xaxis\": \"x\", \"y\": [40, 40.0, 40, null], \"yaxis\": \"y\"}, {\"hoverinfo\": \"none\", \"line\": {\"color\": \"#006837\", \"dash\": \"dot\", \"shape\": \"spline\", \"width\": 1}, \"mode\": \"lines\", \"type\": \"scatter\", \"x\": [132, 132.5, 133, null], \"xaxis\": \"x\", \"y\": [40, 40.0, 40, null], \"yaxis\": \"y\"}, {\"hoverinfo\": \"none\", \"line\": {\"color\": \"#006837\", \"dash\": \"dot\", \"shape\": \"spline\", \"width\": 1}, \"mode\": \"lines\", \"type\": \"scatter\", \"x\": [133, 133.5, 134, null], \"xaxis\": \"x\", \"y\": [40, 40.0, 40, null], \"yaxis\": \"y\"}, {\"hoverinfo\": \"none\", \"line\": {\"color\": \"#0f8446\", \"dash\": \"dot\", \"shape\": \"spline\", \"width\": 1}, \"mode\": \"lines\", \"type\": \"scatter\", \"x\": [133, 134.0, 135, null], \"xaxis\": \"x\", \"y\": [40, 40.5, 41, null], \"yaxis\": \"y\"}, {\"hoverinfo\": \"none\", \"line\": {\"color\": \"#0f8446\", \"dash\": \"dot\", \"shape\": \"spline\", \"width\": 1}, \"mode\": \"lines\", \"type\": \"scatter\", \"x\": [133, 134.0, 135, null], \"xaxis\": \"x\", \"y\": [40, 40.0, 40, null], \"yaxis\": \"y\"}, {\"hoverinfo\": \"none\", \"line\": {\"color\": \"#0f8446\", \"dash\": \"dot\", \"shape\": \"spline\", \"width\": 1}, \"mode\": \"lines\", \"type\": \"scatter\", \"x\": [134, 134.5, 135, null], \"xaxis\": \"x\", \"y\": [40, 40.5, 41, null], \"yaxis\": \"y\"}, {\"hoverinfo\": \"none\", \"line\": {\"color\": \"#0f8446\", \"dash\": \"dot\", \"shape\": \"spline\", \"width\": 1}, \"mode\": \"lines\", \"type\": \"scatter\", \"x\": [134, 134.5, 135, null], \"xaxis\": \"x\", \"y\": [40, 40.0, 40, null], \"yaxis\": \"y\"}, {\"hoverinfo\": \"none\", \"line\": {\"color\": \"#016a38\", \"dash\": \"dot\", \"shape\": \"spline\", \"width\": 1}, \"mode\": \"lines\", \"type\": \"scatter\", \"x\": [135, 135.5, 136, null], \"xaxis\": \"x\", \"y\": [41, 41.0, 41, null], \"yaxis\": \"y\"}, {\"hoverinfo\": \"none\", \"line\": {\"color\": \"#016a38\", \"dash\": \"dot\", \"shape\": \"spline\", \"width\": 1}, \"mode\": \"lines\", \"type\": \"scatter\", \"x\": [136, 139.5, 143, null], \"xaxis\": \"x\", \"y\": [41, 43.0, 45, null], \"yaxis\": \"y\"}, {\"hoverinfo\": \"none\", \"line\": {\"color\": \"#006837\", \"dash\": \"dot\", \"shape\": \"spline\", \"width\": 1}, \"mode\": \"lines\", \"type\": \"scatter\", \"x\": [137, 137.5, 138, null], \"xaxis\": \"x\", \"y\": [42, 42.0, 42, null], \"yaxis\": \"y\"}, {\"hoverinfo\": \"none\", \"line\": {\"color\": \"#0b7d42\", \"dash\": \"dot\", \"shape\": \"spline\", \"width\": 1}, \"mode\": \"lines\", \"type\": \"scatter\", \"x\": [138, 138.5, 139, null], \"xaxis\": \"x\", \"y\": [42, 42.0, 42, null], \"yaxis\": \"y\"}, {\"hoverinfo\": \"none\", \"line\": {\"color\": \"#006837\", \"dash\": \"dot\", \"shape\": \"spline\", \"width\": 1}, \"mode\": \"lines\", \"type\": \"scatter\", \"x\": [139, 139.5, 140, null], \"xaxis\": \"x\", \"y\": [42, 43.0, 44, null], \"yaxis\": \"y\"}, {\"hoverinfo\": \"none\", \"line\": {\"color\": \"#006837\", \"dash\": \"dot\", \"shape\": \"spline\", \"width\": 1}, \"mode\": \"lines\", \"type\": \"scatter\", \"x\": [139, 140.0, 141, null], \"xaxis\": \"x\", \"y\": [42, 43.5, 45, null], \"yaxis\": \"y\"}, {\"hoverinfo\": \"none\", \"line\": {\"color\": \"#006837\", \"dash\": \"dot\", \"shape\": \"spline\", \"width\": 1}, \"mode\": \"lines\", \"type\": \"scatter\", \"x\": [139, 140.0, 141, null], \"xaxis\": \"x\", \"y\": [42, 43.0, 44, null], \"yaxis\": \"y\"}, {\"hoverinfo\": \"none\", \"line\": {\"color\": \"#006837\", \"dash\": \"dot\", \"shape\": \"spline\", \"width\": 1}, \"mode\": \"lines\", \"type\": \"scatter\", \"x\": [140, 140.5, 141, null], \"xaxis\": \"x\", \"y\": [44, 44.5, 45, null], \"yaxis\": \"y\"}, {\"hoverinfo\": \"none\", \"line\": {\"color\": \"#006837\", \"dash\": \"dot\", \"shape\": \"spline\", \"width\": 1}, \"mode\": \"lines\", \"type\": \"scatter\", \"x\": [140, 140.5, 141, null], \"xaxis\": \"x\", \"y\": [44, 44.0, 44, null], \"yaxis\": \"y\"}, {\"hoverinfo\": \"none\", \"line\": {\"color\": \"#016a38\", \"dash\": \"dot\", \"shape\": \"spline\", \"width\": 1}, \"mode\": \"lines\", \"type\": \"scatter\", \"x\": [141, 141.5, 142, null], \"xaxis\": \"x\", \"y\": [45, 45.0, 45, null], \"yaxis\": \"y\"}, {\"hoverinfo\": \"none\", \"line\": {\"color\": \"#016a38\", \"dash\": \"dot\", \"shape\": \"spline\", \"width\": 1}, \"mode\": \"lines\", \"type\": \"scatter\", \"x\": [142, 142.5, 143, null], \"xaxis\": \"x\", \"y\": [45, 45.0, 45, null], \"yaxis\": \"y\"}, {\"hoverinfo\": \"none\", \"line\": {\"color\": \"#016a38\", \"dash\": \"dot\", \"shape\": \"spline\", \"width\": 1}, \"mode\": \"lines\", \"type\": \"scatter\", \"x\": [143, 144.0, 145, null], \"xaxis\": \"x\", \"y\": [45, 45.0, 45, null], \"yaxis\": \"y\"}, {\"hoverinfo\": \"none\", \"line\": {\"color\": \"#006837\", \"dash\": \"dot\", \"shape\": \"spline\", \"width\": 1}, \"mode\": \"lines\", \"type\": \"scatter\", \"x\": [143, 145.5, 148, null], \"xaxis\": \"x\", \"y\": [45, 45.5, 46, null], \"yaxis\": \"y\"}, {\"hoverinfo\": \"none\", \"line\": {\"color\": \"#006837\", \"dash\": \"dot\", \"shape\": \"spline\", \"width\": 1}, \"mode\": \"lines\", \"type\": \"scatter\", \"x\": [143, 145.5, 148, null], \"xaxis\": \"x\", \"y\": [45, 45.0, 45, null], \"yaxis\": \"y\"}, {\"hoverinfo\": \"none\", \"line\": {\"color\": \"#006837\", \"dash\": \"dot\", \"shape\": \"spline\", \"width\": 1}, \"mode\": \"lines\", \"type\": \"scatter\", \"x\": [144, 145.5, 147, null], \"xaxis\": \"x\", \"y\": [14, 14.0, 14, null], \"yaxis\": \"y\"}, {\"hoverinfo\": \"none\", \"line\": {\"color\": \"#006837\", \"dash\": \"dot\", \"shape\": \"spline\", \"width\": 1}, \"mode\": \"lines\", \"type\": \"scatter\", \"x\": [144, 146.5, 149, null], \"xaxis\": \"x\", \"y\": [14, 14.0, 14, null], \"yaxis\": \"y\"}, {\"hoverinfo\": \"none\", \"line\": {\"color\": \"#006837\", \"dash\": \"dot\", \"shape\": \"spline\", \"width\": 1}, \"mode\": \"lines\", \"type\": \"scatter\", \"x\": [145, 145.5, 146, null], \"xaxis\": \"x\", \"y\": [45, 29.5, 14, null], \"yaxis\": \"y\"}, {\"hoverinfo\": \"none\", \"line\": {\"color\": \"#006837\", \"dash\": \"dot\", \"shape\": \"spline\", \"width\": 1}, \"mode\": \"lines\", \"type\": \"scatter\", \"x\": [145, 149.0, 153, null], \"xaxis\": \"x\", \"y\": [45, 47.0, 49, null], \"yaxis\": \"y\"}, {\"hoverinfo\": \"none\", \"line\": {\"color\": \"#006837\", \"dash\": \"dot\", \"shape\": \"spline\", \"width\": 1}, \"mode\": \"lines\", \"type\": \"scatter\", \"x\": [146, 146.5, 147, null], \"xaxis\": \"x\", \"y\": [14, 14.0, 14, null], \"yaxis\": \"y\"}, {\"hoverinfo\": \"none\", \"line\": {\"color\": \"#016a38\", \"dash\": \"dot\", \"shape\": \"spline\", \"width\": 1}, \"mode\": \"lines\", \"type\": \"scatter\", \"x\": [148, 151.0, 154, null], \"xaxis\": \"x\", \"y\": [46, 30.5, 15, null], \"yaxis\": \"y\"}, {\"hoverinfo\": \"none\", \"line\": {\"color\": \"#219c52\", \"dash\": \"dot\", \"shape\": \"spline\", \"width\": 1}, \"mode\": \"lines\", \"type\": \"scatter\", \"x\": [149, 150.5, 152, null], \"xaxis\": \"x\", \"y\": [14, 14.5, 15, null], \"yaxis\": \"y\"}, {\"hoverinfo\": \"none\", \"line\": {\"color\": \"#219c52\", \"dash\": \"dot\", \"shape\": \"spline\", \"width\": 1}, \"mode\": \"lines\", \"type\": \"scatter\", \"x\": [149, 150.5, 152, null], \"xaxis\": \"x\", \"y\": [14, 14.0, 14, null], \"yaxis\": \"y\"}, {\"hoverinfo\": \"none\", \"line\": {\"color\": \"#219c52\", \"dash\": \"dot\", \"shape\": \"spline\", \"width\": 1}, \"mode\": \"lines\", \"type\": \"scatter\", \"x\": [150, 151.0, 152, null], \"xaxis\": \"x\", \"y\": [14, 14.5, 15, null], \"yaxis\": \"y\"}, {\"hoverinfo\": \"none\", \"line\": {\"color\": \"#219c52\", \"dash\": \"dot\", \"shape\": \"spline\", \"width\": 1}, \"mode\": \"lines\", \"type\": \"scatter\", \"x\": [150, 151.0, 152, null], \"xaxis\": \"x\", \"y\": [14, 14.0, 14, null], \"yaxis\": \"y\"}, {\"hoverinfo\": \"none\", \"line\": {\"color\": \"#219c52\", \"dash\": \"dot\", \"shape\": \"spline\", \"width\": 1}, \"mode\": \"lines\", \"type\": \"scatter\", \"x\": [151, 151.5, 152, null], \"xaxis\": \"x\", \"y\": [14, 14.5, 15, null], \"yaxis\": \"y\"}, {\"hoverinfo\": \"none\", \"line\": {\"color\": \"#219c52\", \"dash\": \"dot\", \"shape\": \"spline\", \"width\": 1}, \"mode\": \"lines\", \"type\": \"scatter\", \"x\": [151, 151.5, 152, null], \"xaxis\": \"x\", \"y\": [14, 14.0, 14, null], \"yaxis\": \"y\"}, {\"hoverinfo\": \"none\", \"line\": {\"color\": \"#016a38\", \"dash\": \"dot\", \"shape\": \"spline\", \"width\": 1}, \"mode\": \"lines\", \"type\": \"scatter\", \"x\": [152, 153.0, 154, null], \"xaxis\": \"x\", \"y\": [15, 15.0, 15, null], \"yaxis\": \"y\"}, {\"hoverinfo\": \"none\", \"line\": {\"color\": \"#016a38\", \"dash\": \"dot\", \"shape\": \"spline\", \"width\": 1}, \"mode\": \"lines\", \"type\": \"scatter\", \"x\": [153, 153.5, 154, null], \"xaxis\": \"x\", \"y\": [49, 32.0, 15, null], \"yaxis\": \"y\"}, {\"hoverinfo\": \"none\", \"line\": {\"color\": \"#006837\", \"dash\": \"dot\", \"shape\": \"spline\", \"width\": 1}, \"mode\": \"lines\", \"type\": \"scatter\", \"x\": [156, 156.5, 157, null], \"xaxis\": \"x\", \"y\": [49, 49.0, 49, null], \"yaxis\": \"y\"}, {\"hoverinfo\": \"none\", \"line\": {\"color\": \"#006837\", \"dash\": \"dot\", \"shape\": \"spline\", \"width\": 1}, \"mode\": \"lines\", \"type\": \"scatter\", \"x\": [157, 157.5, 158, null], \"xaxis\": \"x\", \"y\": [49, 49.0, 49, null], \"yaxis\": \"y\"}, {\"hoverinfo\": \"none\", \"line\": {\"color\": \"#036e3a\", \"dash\": \"dot\", \"shape\": \"spline\", \"width\": 1}, \"mode\": \"lines\", \"type\": \"scatter\", \"x\": [157, 158.0, 159, null], \"xaxis\": \"x\", \"y\": [65, 65.0, 65, null], \"yaxis\": \"y\"}, {\"hoverinfo\": \"none\", \"line\": {\"color\": \"#036e3a\", \"dash\": \"dot\", \"shape\": \"spline\", \"width\": 1}, \"mode\": \"lines\", \"type\": \"scatter\", \"x\": [158, 158.5, 159, null], \"xaxis\": \"x\", \"y\": [49, 49.0, 49, null], \"yaxis\": \"y\"}, {\"hoverinfo\": \"none\", \"line\": {\"color\": \"#026c39\", \"dash\": \"dot\", \"shape\": \"spline\", \"width\": 1}, \"mode\": \"lines\", \"type\": \"scatter\", \"x\": [159, 159.5, 160, null], \"xaxis\": \"x\", \"y\": [49, 32.0, 15, null], \"yaxis\": \"y\"}, {\"hoverinfo\": \"none\", \"line\": {\"color\": \"#04703b\", \"dash\": \"dot\", \"shape\": \"spline\", \"width\": 1}, \"mode\": \"lines\", \"type\": \"scatter\", \"x\": [160, 160.5, 161, null], \"xaxis\": \"x\", \"y\": [66, 66.0, 66, null], \"yaxis\": \"y\"}, {\"hoverinfo\": \"none\", \"line\": {\"color\": \"#006837\", \"dash\": \"dot\", \"shape\": \"spline\", \"width\": 1}, \"mode\": \"lines\", \"type\": \"scatter\", \"x\": [161, 161.5, 162, null], \"xaxis\": \"x\", \"y\": [67, 67.0, 67, null], \"yaxis\": \"y\"}, {\"hoverinfo\": \"none\", \"line\": {\"color\": \"#006837\", \"dash\": \"dot\", \"shape\": \"spline\", \"width\": 1}, \"mode\": \"lines\", \"type\": \"scatter\", \"x\": [162, 162.5, 163, null], \"xaxis\": \"x\", \"y\": [68, 68.0, 68, null], \"yaxis\": \"y\"}, {\"hovertemplate\": \" %{text}\", \"marker\": {\"color\": [\"grey\", \"blue\", \"grey\", \"gold\", \"blue\", \"silver\", \"gold\", \"blue\", \"grey\", \"blue\", \"silver\", \"gold\", \"blue\", \"silver\", \"grey\", \"grey\", \"blue\", \"grey\", \"grey\", \"blue\", \"grey\", \"grey\", \"blue\", \"blue\", \"silver\", \"orange\", \"blue\", \"blue\", \"orange\", \"blue\", \"silver\", \"blue\", \"blue\", \"gold\", \"orange\", \"orange\", \"blue\", \"orange\", \"blue\", \"grey\", \"silver\", \"grey\", \"blue\", \"grey\", \"blue\", \"grey\", \"grey\", \"blue\", \"blue\", \"grey\", \"blue\", \"blue\", \"cyan\", \"blue\", \"blue\", \"blue\", \"orange\", \"blue\", \"blue\", \"blue\", \"orange\", \"blue\", \"blue\", \"orange\", \"blue\", \"orange\", \"blue\", \"orange\", \"blue\", \"orange\", \"orange\", \"cyan\", \"grey\", \"silver\", \"grey\", \"silver\", \"orange\", \"cyan\", \"grey\", \"silver\", \"grey\", \"silver\", \"orange\", \"cyan\", \"grey\", \"silver\", \"grey\", \"silver\", \"orange\", \"cyan\", \"grey\", \"silver\", \"grey\", \"silver\", \"blue\", \"orange\", \"blue\", \"blue\", \"grey\", \"blue\", \"grey\", \"blue\", \"orange\", \"blue\", \"silver\", \"blue\", \"blue\", \"blue\", \"silver\", \"blue\", \"orange\", \"blue\", \"orange\", \"blue\", \"silver\", \"grey\", \"blue\", \"cyan\", \"grey\", \"silver\", \"grey\", \"blue\", \"grey\", \"blue\", \"orange\", \"blue\", \"silver\", \"blue\", \"blue\", \"blue\", \"silver\", \"blue\", \"orange\", \"blue\", \"orange\", \"blue\", \"silver\", \"grey\", \"blue\", \"blue\", \"grey\", \"silver\", \"blue\", \"blue\", \"blue\", \"blue\", \"silver\", \"grey\", \"silver\", \"grey\", \"blue\", \"grey\", \"blue\", \"orange\", \"blue\", \"blue\", \"blue\", \"blue\", \"blue\", \"blue\", \"blue\", \"orange\", \"orange\", \"blue\", \"blue\", \"grey\", \"silver\", \"cyan\", \"cyan\", \"cyan\", \"silver\", \"silver\", \"blue\", \"blue\", \"silver\", \"orange\", \"blue\", \"blue\", \"blue\", \"silver\", \"blue\", \"blue\", \"silver\", \"orange\", \"blue\", \"blue\", \"blue\", \"silver\", \"blue\", \"blue\", \"silver\", \"orange\", \"blue\", \"blue\", \"blue\", \"silver\", \"blue\", \"blue\", \"silver\", \"orange\", \"blue\", \"blue\", \"blue\", \"silver\", \"blue\", \"blue\", \"silver\", \"orange\", \"blue\", \"blue\", \"blue\", \"silver\", \"blue\", \"blue\", \"blue\", \"blue\", \"blue\", \"cyan\", \"blue\", \"silver\", \"blue\", \"blue\", \"blue\", \"blue\", \"silver\", \"blue\", \"cyan\", \"cyan\", \"blue\", \"blue\", \"orange\", \"orange\", \"blue\", \"cyan\", \"cyan\", \"grey\", \"silver\", \"grey\", \"silver\", \"grey\", \"silver\"], \"line\": {\"color\": \"black\", \"width\": 0.5}, \"size\": 10, \"symbol\": [\"diamond-cross\", \"circle\", \"square-cross\", \"diamond\", \"circle\", \"star-square-dot\", \"diamond\", \"circle\", \"square-cross\", \"circle\", \"star-square-dot\", \"diamond\", \"circle\", \"star-square-dot\", \"square-cross\", \"square-cross\", \"circle\", \"square-cross\", \"diamond-cross\", \"circle\", \"square-cross\", \"square-cross\", \"circle\", \"circle\", \"star-square-dot\", \"cross\", \"circle\", \"circle\", \"cross\", \"circle\", \"star-square-dot\", \"circle\", \"circle\", \"diamond\", \"cross\", \"cross\", \"circle\", \"cross\", \"circle\", \"diamond-cross\", \"star-square-dot\", \"diamond-cross\", \"circle\", \"square-cross\", \"circle\", \"square-cross\", \"diamond-cross\", \"circle\", \"circle\", \"square-cross\", \"circle\", \"circle\", \"square\", \"circle\", \"circle\", \"circle\", \"cross\", \"circle\", \"circle\", \"circle\", \"cross\", \"circle\", \"circle\", \"cross\", \"circle\", \"cross\", \"circle\", \"cross\", \"circle\", \"cross\", \"cross\", \"square\", \"diamond-cross\", \"star-square-dot\", \"diamond-cross\", \"star-square-dot\", \"cross\", \"square\", \"diamond-cross\", \"star-square-dot\", \"diamond-cross\", \"star-square-dot\", \"cross\", \"square\", \"diamond-cross\", \"star-square-dot\", \"diamond-cross\", \"star-square-dot\", \"cross\", \"square\", \"diamond-cross\", \"star-square-dot\", \"diamond-cross\", \"star-square-dot\", \"circle\", \"cross\", \"circle\", \"circle\", \"diamond-cross\", \"circle\", \"square-cross\", \"circle\", \"cross\", \"circle\", \"star-square-dot\", \"circle\", \"circle\", \"circle\", \"star-square-dot\", \"circle\", \"cross\", \"circle\", \"cross\", \"circle\", \"star-square-dot\", \"square-cross\", \"circle\", \"square\", \"diamond-cross\", \"star-square-dot\", \"diamond-cross\", \"circle\", \"square-cross\", \"circle\", \"cross\", \"circle\", \"star-square-dot\", \"circle\", \"circle\", \"circle\", \"star-square-dot\", \"circle\", \"cross\", \"circle\", \"cross\", \"circle\", \"star-square-dot\", \"square-cross\", \"circle\", \"circle\", \"diamond-cross\", \"star-square-dot\", \"circle\", \"circle\", \"circle\", \"circle\", \"star-square-dot\", \"diamond-cross\", \"star-square-dot\", \"diamond-cross\", \"circle\", \"square-cross\", \"circle\", \"cross\", \"circle\", \"circle\", \"circle\", \"circle\", \"circle\", \"circle\", \"circle\", \"cross\", \"cross\", \"circle\", \"circle\", \"diamond-cross\", \"star-square-dot\", \"square\", \"square\", \"square\", \"star-square-dot\", \"star-square-dot\", \"circle\", \"circle\", \"star-square-dot\", \"cross\", \"circle\", \"circle\", \"circle\", \"star-square-dot\", \"circle\", \"circle\", \"star-square-dot\", \"cross\", \"circle\", \"circle\", \"circle\", \"star-square-dot\", \"circle\", \"circle\", \"star-square-dot\", \"cross\", \"circle\", \"circle\", \"circle\", \"star-square-dot\", \"circle\", \"circle\", \"star-square-dot\", \"cross\", \"circle\", \"circle\", \"circle\", \"star-square-dot\", \"circle\", \"circle\", \"star-square-dot\", \"cross\", \"circle\", \"circle\", \"circle\", \"star-square-dot\", \"circle\", \"circle\", \"circle\", \"circle\", \"circle\", \"square\", \"circle\", \"star-square-dot\", \"circle\", \"circle\", \"circle\", \"circle\", \"star-square-dot\", \"circle\", \"square\", \"square\", \"circle\", \"circle\", \"cross\", \"cross\", \"circle\", \"square\", \"square\", \"diamond-cross\", \"star-square-dot\", \"diamond-cross\", \"star-square-dot\", \"diamond-cross\", \"star-square-dot\"]}, \"mode\": \"markers\", \"text\": [\"No Input\", \"WORK.__MTF_PD_PIT_VERSION\", \"No Output\", \"INPUT.PD_VIEW\", \"WORK.__MTF_PD_PIT_DISTINCT_RATING1\", \"WORK.'SASTMP-000000348'\", \"INPUT.PD_RR_RATING\", \"WORK.__MTF_PD_PIT_DISTINCT_RATING2\", \"No Output\", \"WORK.__MTF_PD_PIT_DISTINCT_ZVAL1\", \"WORK.'SASTMP-000000351'\", \"INPUT.PD_Z_FACTOR\", \"WORK.__MTF_PD_PIT_DISTINCT_ZVAL2\", \"WORK.'SASTMP-000000351'\", \"No Output\", \"No Output\", \"WORK.__MTF_PD_PIT_VIEW_INPUT\", \"No Output\", \"No Input\", \"WORK.__MTF_PD_PIT_VERSION\", \"No Output\", \"No Output\", \"WORK.__MTF_PD_PIT_VIEW2\", \"WORK.__MTF_PD_PIT_PROC_MULTIYEAR_DATA\", \"WORK.SORTTMP000000000000000000001\", \"WORK.__MTF_PD_PIT_PROC_MULTIYEAR_DATA\", \"WORK.__MTF_PD_NON_MIGRATIONS_IN\", \"WORK.__MTF_PD_PIT_PROC_ONEYEAR_DATA\", \"WORK.__MTF_PD_PIT_PROC_MULTIYEAR_DATA\", \"WORK.__MTF_PD_PIT_ODR_WIDE\", \"WORK.'SASTMP-000000372'\", \"WORK.__MTF_PD_PIT_OUTSTANDING_STATS_1\", \"WORK.__MTF_PD_PIT_ODR_WIDE_TP\", \"WORK.ZFMMEM\", \"WORK.ZFMMEM\", \"WORK.__MTF_PD_PIT_ODR_WIDE_TP\", \"WORK.__MTF_PD_PIT_ODR_LONG\", \"WORK.ZFMMEM\", \"WORK.__MTF_PD_PIT_MULTIYEAR_OBS_GRP\", \"No Input\", \"WORK.'SASTMP-000000381'\", \"No Input\", \"WORK.__MTF_PD_PRED_VERSION\", \"No Output\", \"WORK.__MTF_PD_PRED_DATA_RATING_PARAMS\", \"No Output\", \"No Input\", \"WORK.__MTF_PD_PRED_DATA_TTC_TMP1\", \"WORK.__MTF_PD_PRED_DATA_TTC_TMP2\", \"No Output\", \"WORK.__MTF_PD_PRED_DATA_TTC_TMP3\", \"WORK.__MTF_PD_PRED_DATA_NONNULL\", \"WORK.__MTF_PD_PRED_DATA_IRB_OLD\", \"WORK.__MTF_PD_PRED_DATA_ASSET_CORR\", \"WORK.__MTF_PD_PRED_TTC_SCALED\", \"WORK.__MTF_PD_PRED_TTC_SCALED_T\", \"WORK.ZFMMEM\", \"WORK.__MTF_PD_PRED_TTC_SCALED_LONG\", \"WORK.__MTF_PD_PRED_RISK_RATING_NAMES\", \"WORK.__MTF_PD_PRED_TTC_SCALED_WIDE_1\", \"WORK.ZFMMEM\", \"WORK.__MTF_PD_PRED_TTC_OUT\", \"WORK.__MTF_PD_PRED_TTC_SCALED_WIDE_2\", \"WORK.__MTF_PD_PRED_TTC_SCALED_WIDE_2\", \"WORK.__MTF_PD_PRED_TTC_SCALED_WIDE_3\", \"WORK.__MTF_PD_PRED_TTC_SCALED_WIDE_3\", \"WORK.__MTF_PD_PRED_TTC_SCALED_WIDE_4\", \"WORK.__MTF_PD_PRED_TTC_SCALED_WIDE_4\", \"WORK.__MTF_PD_PRED_TTC_SCALED_WIDE_5\", \"WORK.__MTF_PD_PRED_TTC_SCALED_WIDE_5\", \"WORK.__MTF_PD_PRED_TTC_SCALED_WIDE_2\", \"WORK.__MTF_PD_PRED_TTC_OUT_TMP\", \"No Input\", \"WORK.'SASTMP-000000415'\", \"No Input\", \"WORK.'SASTMP-000000417'\", \"WORK.__MTF_PD_PRED_TTC_SCALED_WIDE_3\", \"WORK.__MTF_PD_PRED_TTC_OUT_TMP\", \"No Input\", \"WORK.'SASTMP-000000422'\", \"No Input\", \"WORK.'SASTMP-000000424'\", \"WORK.__MTF_PD_PRED_TTC_SCALED_WIDE_4\", \"WORK.__MTF_PD_PRED_TTC_OUT_TMP\", \"No Input\", \"WORK.'SASTMP-000000429'\", \"No Input\", \"WORK.'SASTMP-000000431'\", \"WORK.__MTF_PD_PRED_TTC_SCALED_WIDE_5\", \"WORK.__MTF_PD_PRED_TTC_OUT_TMP\", \"No Input\", \"WORK.'SASTMP-000000436'\", \"No Input\", \"WORK.'SASTMP-000000438'\", \"WORK.__MTF_PD_PRED_TTC_CUM\", \"WORK.ZFMMEM\", \"WORK.__MTF_PD_PIT_MULTIYEAR_TTC_PD\", \"WORK.__MTF_PD_PRED_PIC\", \"No Input\", \"WORK.__MTF_PIT_PITPD_VERSION\", \"No Output\", \"WORK.__MTF_PIT_PIC_UNIQUE\", \"WORK.__MTF_PIT_PIC_UNIQUE\", \"WORK.__MTF_PIT_COUNTRY_DATES\", \"WORK.'SASTMP-000000451'\", \"WORK.__MTF_PIT_COUNTRY_DATES_MULTI\", \"WORK.__MTF_PIT_COUNTRY_PIC_MULTI\", \"WORK.__MTF_PIT_COUNTRY_PIC_MULTI_RANK\", \"WORK.'SASTMP-000000458'\", \"WORK.__MTF_PIT_ONEYEAR_PDS\", \"WORK.__MTF_PIT_ONEYEAR_PDS\", \"WORK.__MTF_PIT_MULTI_PDS\", \"WORK.__MTF_PIT_MULTI_PDS\", \"WORK.__MTF_PD_PIT_ONEYEAR_PIT_PD_1\", \"WORK.'SASTMP-000000462'\", \"No Output\", \"WORK.__MTF_PIT_MULTIYEAR_ROW_INFO\", \"WORK.__MTF_PD_PIT_MULTIYEAR_PIT_PD_1\", \"No Input\", \"WORK.'SASTMP-000000469'\", \"No Input\", \"WORK.__MTF_PIT_PITPD_VERSION\", \"No Output\", \"WORK.__MTF_PIT_PIC_UNIQUE\", \"WORK.__MTF_PIT_PIC_UNIQUE\", \"WORK.__MTF_PIT_COUNTRY_DATES\", \"WORK.'SASTMP-000000478'\", \"WORK.__MTF_PIT_COUNTRY_DATES_MULTI\", \"WORK.__MTF_PIT_COUNTRY_PIC_MULTI\", \"WORK.__MTF_PIT_COUNTRY_PIC_MULTI_RANK\", \"WORK.'SASTMP-000000485'\", \"WORK.__MTF_PIT_ONEYEAR_PDS\", \"WORK.__MTF_PIT_ONEYEAR_PDS\", \"WORK.__MTF_PIT_MULTI_PDS\", \"WORK.__MTF_PIT_MULTI_PDS\", \"WORK.__MTF_PD_PIT_ONEYEAR_PIT_PD_0\", \"WORK.'SASTMP-000000489'\", \"No Output\", \"WORK.__MTF_PIT_MULTIYEAR_ROW_INFO\", \"WORK.__MTF_PD_PIT_MULTIYEAR_PIT_PD_0\", \"No Input\", \"WORK.'SASTMP-000000496'\", \"WORK.__MTF_PD_PIT_MULTIYEAR_PIT_PD\", \"WORK.__MTF_PD_PIT_MULTIYEAR_PIT_PD_20\", \"WORK.__MTF_PD_PIT_MULTIYEAR_TTC_PD_20\", \"WORK.__MTF_PD_PIT_MULTIYEAR_BOTH_PD\", \"WORK.'SASTMP-000000502'\", \"No Input\", \"WORK.'SASTMP-000000504'\", \"No Input\", \"WORK.__MTF_PD_JOIN_VERSION\", \"No Output\", \"WORK.__MTF_PD_PIT_MARGINAL_BOTH_PD\", \"WORK.__MTF_PD_PIT_MARGINAL_BOTH_PD\", \"WORK.__MTF_PD_PIT_MULTIYEAR_PRED\", \"WORK.__MTF_PD_JOIN_MULTIYEAR_PRED2\", \"WORK.__MTF_PD_JOIN_MULTIYEAR_PRED_STD\", \"WORK.__MTF_PD_JOIN_MULTIYEAR_PRED_GRP\", \"WORK.__MTF_PD_PIT_MULTIYEAR_BOTH_GRP\", \"WORK.__MTF_PD_JOIN_MULTIYEAR_CI\", \"WORK.__MTF_PD_PIT_MULTIYEAR_ME\", \"WORK.__MTF_PD_JOIN_MULTIYEAR_CI\", \"WORK.__MTF_PD_PIT_MULTIYEAR_ME\", \"WORK.__MTF_PD_JOIN_MULTIYEAR_CI_ME\", \"WORK.__MTF_PD_PIT_CONCLUSION\", \"No Input\", \"WORK.'SASTMP-000000526'\", \"WORK.TEST_PD_PIT_U\", \"WORK.TEST_PD_PIT\", \"WORK.TEST_PD_TTC_IN\", \"WORK.'SASTMP-000000531'\", \"WORK.'SASTMP-000000532'\", \"WORK.__MTF_PD_NON_TO_RATINGS\", \"WORK.__MTF_PD_NON_RATING_MIGRATIONS\", \"WORK.'SASTMP-000000537'\", \"WORK.__MTF_PD_NON_RATING_MIGRATIONS\", \"WORK.__MTF_PD_NON_RATING_MIG_COUNTS_1\", \"WORK.__MTF_PD_NON_MIGRATION_TEMPLATE\", \"WORK.__MTF_PD_NON_RATING_MIG_RES_1\", \"WORK.'SASTMP-000000545'\", \"WORK.__MTF_PD_NON_RATING_MIG_RES2_1\", \"WORK.__MTF_PD_NON_RATING_MIGRATIONS\", \"WORK.'SASTMP-000000550'\", \"WORK.__MTF_PD_NON_RATING_MIGRATIONS\", \"WORK.__MTF_PD_NON_RATING_MIG_COUNTS_2\", \"WORK.__MTF_PD_NON_MIGRATION_TEMPLATE\", \"WORK.__MTF_PD_NON_RATING_MIG_RES_2\", \"WORK.'SASTMP-000000558'\", \"WORK.__MTF_PD_NON_RATING_MIG_RES2_2\", \"WORK.__MTF_PD_NON_RATING_MIGRATIONS\", \"WORK.'SASTMP-000000563'\", \"WORK.__MTF_PD_NON_RATING_MIGRATIONS\", \"WORK.__MTF_PD_NON_RATING_MIG_COUNTS_3\", \"WORK.__MTF_PD_NON_MIGRATION_TEMPLATE\", \"WORK.__MTF_PD_NON_RATING_MIG_RES_3\", \"WORK.'SASTMP-000000571'\", \"WORK.__MTF_PD_NON_RATING_MIG_RES2_3\", \"WORK.__MTF_PD_NON_RATING_MIGRATIONS\", \"WORK.'SASTMP-000000576'\", \"WORK.__MTF_PD_NON_RATING_MIGRATIONS\", \"WORK.__MTF_PD_NON_RATING_MIG_COUNTS_4\", \"WORK.__MTF_PD_NON_MIGRATION_TEMPLATE\", \"WORK.__MTF_PD_NON_RATING_MIG_RES_4\", \"WORK.'SASTMP-000000584'\", \"WORK.__MTF_PD_NON_RATING_MIG_RES2_4\", \"WORK.__MTF_PD_NON_RATING_MIGRATIONS\", \"WORK.'SASTMP-000000589'\", \"WORK.__MTF_PD_NON_RATING_MIGRATIONS\", \"WORK.__MTF_PD_NON_RATING_MIG_COUNTS_5\", \"WORK.__MTF_PD_NON_MIGRATION_TEMPLATE\", \"WORK.__MTF_PD_NON_RATING_MIG_RES_5\", \"WORK.'SASTMP-000000597'\", \"WORK.__MTF_PD_NON_RATING_MIG_RES2_5\", \"WORK.__MTF_PD_NON_RATING_MIG_RES2\", \"WORK.__MTF_PD_NON_RATING_PD_TTC\", \"WORK.__MTF_PD_MARK_RATING_MIG_AVG1\", \"WORK.__MTF_PD_MARK_RATING_MIG_AVG2\", \"WORK.TEST_PD_MARK_IN\", \"WORK.__MTF_PD_NON_RATING_MIG_RES3_1\", \"WORK.'SASTMP-000000611'\", \"WORK.__MTF_PD_NON_RATING_PD_TTC_TABLE\", \"WORK.__MTF_PD_NON_ONEYEAR_PIT_PD_FULL\", \"WORK.__MTF_PD_NON_ONEYEAR_PIT_PD_DEF\", \"WORK.__MTF_PD_NON_JOINED_PDS\", \"WORK.'SASTMP-000000618'\", \"WORK.__MTF_PD_MARK_RATING_MIG_AVG1_20\", \"WORK.TEST_PD_NON_IN\", \"WORK.TEST_PD_STB_IN\", \"WORK.__MTF_PD_PIT_ODR_WIDE_DIS\", \"WORK.__MTF_PD_PIT_ODR_WIDE_TP_DIS\", \"WORK.ZFMMEM\", \"WORK.__MTF_PD_PIT_ODR_WIDE_TP_DIS\", \"WORK.__MTF_PD_PIT_ODR_LONG_DIS\", \"WORK.ZFMMEM\", \"WORK.TEST_PD_DIS_IN\", \"No Input\", \"WORK.'SASTMP-000000636'\", \"No Input\", \"WORK.'SASTMP-000000638'\", \"No Input\", \"WORK.'SASTMP-000000640'\"], \"textposition\": \"top center\", \"type\": \"scatter\", \"x\": [0, 1, 2, 0, 3, 3, 0, 3, 3, 4, 4, 0, 4, 4, 4, 5, 7, 8, 8, 9, 10, 11, 12, 13, 13, 14, 14, 14, 15, 16, 17, 17, 18, 0, 18, 19, 20, 20, 21, 21, 22, 22, 23, 24, 25, 26, 26, 27, 28, 29, 30, 31, 31, 32, 33, 34, 34, 35, 36, 37, 37, 38, 39, 39, 40, 40, 41, 41, 42, 42, 43, 44, 44, 45, 45, 46, 47, 48, 48, 49, 49, 50, 51, 52, 52, 53, 53, 54, 55, 56, 56, 57, 57, 58, 59, 59, 60, 61, 61, 62, 63, 65, 66, 67, 67, 68, 69, 70, 70, 71, 71, 71, 71, 72, 72, 73, 74, 75, 75, 76, 76, 77, 78, 80, 81, 82, 82, 83, 84, 85, 85, 86, 86, 86, 86, 87, 87, 88, 89, 90, 90, 91, 92, 93, 94, 95, 95, 95, 96, 96, 97, 98, 99, 100, 101, 102, 103, 104, 105, 106, 106, 106, 106, 107, 108, 108, 109, 110, 110, 111, 111, 111, 112, 113, 113, 114, 115, 116, 117, 117, 118, 119, 119, 120, 121, 122, 123, 123, 124, 125, 125, 126, 127, 128, 129, 129, 130, 131, 131, 132, 133, 134, 135, 135, 136, 137, 137, 138, 139, 140, 141, 141, 142, 143, 144, 145, 146, 147, 148, 148, 149, 150, 151, 152, 152, 153, 154, 155, 156, 157, 157, 158, 159, 159, 160, 160, 161, 161, 162, 162, 163], \"xaxis\": \"x\", \"y\": [64, 64, 64, 29, 53, 52, 10, 19, 20, 54, 53, 57, 57, 55, 56, 56, 56, 56, 77, 77, 76, 35, 39, 44, 43, 48, 47, 49, 50, 50, 50, 51, 51, 65, 66, 51, 51, 66, 51, 69, 69, 70, 70, 70, 16, 16, 70, 70, 16, 16, 16, 17, 16, 17, 17, 17, 66, 17, 17, 17, 66, 17, 17, 18, 20, 21, 21, 22, 22, 23, 23, 23, 70, 70, 71, 71, 23, 23, 71, 71, 72, 72, 23, 23, 72, 72, 73, 73, 23, 23, 73, 73, 74, 74, 23, 66, 23, 57, 74, 74, 74, 57, 57, 58, 57, 58, 58, 59, 58, 23, 24, 59, 60, 25, 24, 25, 60, 60, 74, 74, 75, 75, 75, 60, 60, 61, 60, 61, 61, 62, 61, 25, 26, 62, 63, 27, 26, 27, 63, 63, 77, 77, 63, 63, 27, 28, 27, 77, 77, 78, 78, 78, 28, 10, 10, 10, 10, 10, 10, 10, 12, 11, 13, 13, 13, 66, 66, 14, 13, 31, 29, 30, 31, 32, 31, 32, 32, 32, 33, 32, 33, 34, 33, 35, 35, 35, 36, 35, 36, 37, 36, 37, 37, 37, 38, 37, 39, 40, 39, 40, 40, 40, 41, 40, 41, 42, 41, 42, 42, 44, 45, 44, 45, 45, 14, 45, 14, 14, 46, 45, 14, 14, 14, 15, 14, 49, 15, 15, 49, 49, 65, 49, 49, 65, 15, 66, 66, 67, 67, 68, 68], \"yaxis\": \"y\"}, {\"hovertemplate\": \" %{text}\", \"marker\": {\"color\": [0.01, 0.01, 2.93, 2.93, 2.46, 2.46, 0.13, 0.49, 0.01, 0.0, 0.01, 0.01, 0.01, 0.0, 0.02, 0.02, 0.01, 0.18, 0.18, 0.45, 0.01, 0.0, 5.48, 5.48, 2.15, 2.15, 2.15, 0.38, 0.07, 0.33, 0.33, 2.03, 2.03, 0.29, 0.29, 0.26, 0.26, 0.24, 0.24, 0.01, 0.01, 0.19, 0.86, 0.34, 0.34, 0.34, 2.98, 0.0, 0.01, 0.01, 0.01, 0.01, 0.01, 0.01, 0.0, 1.89, 0.0, 0.01, 0.0, 0.0, 0.01, 0.01, 0.01, 0.01, 0.0, 0.01, 0.01, 0.01, 0.01, 0.01, 5.43, 4.39, 0.0, 2.38, 0.01, 0.01, 0.0, 5.43, 0.01, 4.39, 0.0, 0.01, 0.02, 0.01, 0.01, 0.01, 0.01, 0.03, 0.01, 0.01, 0.01, 0.0, 0.01, 0.01, 0.01, 0.01, 0.01, 0.01, 0.01, 0.02, 0.0, 0.01, 0.01, 0.01, 0.01, 0.01, 0.0, 0.01, 0.01, 0.0, 0.01, 0.01, 0.0, 0.01, 0.01, 0.01, 0.0, 0.01, 0.01, 0.0, 0.01, 0.07, 0.01, 0.01, 0.0, 0.01, 0.01, 0.04, 3.85, 3.85, 0.01, 0.02, 0.02, 2.92, 1.18, 1.18, 0.0, 0.0, 0.01, 0.05, 0.05, 5.43, 0.02, 0.04, 0.05, 0.05, 21.81, 1.58, 0.2, 3.85, 3.85, 1.43, 4.0, 0.66, 4.0, 0.12, 0.01, 0.0, 0.01, 0.06, 0.06, 4.39, 0.02, 2.92, 0.06, 0.06, 25.71, 1.64, 0.2, 1.18, 1.18, 1.39, 4.23, 0.69, 4.23, 3.88, 0.17, 1.18, 0.43, 0.43, 0.34, 0.34, 0.34, 0.43, 0.43, 0.01, 0.29, 0.02, 0.01, 0.0, 4.88, 0.86, 0.21, 0.44, 0.42, 0.42, 0.01, 0.01, 1.89, 0.05, 0.01, 0.0, 0.0, 0.01, 0.02, 0.02, 0.14, 0.01, 0.01, 0.01, 0.01, 0.33, 0.33, 2.03, 2.03, 0.29, 0.29, 0.26, 0.26, 0.24, 0.24, 0.09, 2.07, 0.02, 0.1, 0.1, 0.1, 0.1, 0.16, 0.16, 0.08, 0.06, 0.03, 0.06, 0.06, 0.06, 0.06, 0.16, 0.16, 0.06, 0.05, 0.02, 0.06, 0.06, 0.06, 0.06, 0.17, 0.16, 0.07, 0.04, 0.02, 1.55, 1.55, 1.55, 1.55, 0.16, 0.16, 0.05, 1.15, 0.02, 0.05, 0.05, 0.05, 0.05, 0.16, 0.16, 0.12, 0.08, 0.08, 0.03, 0.01, 0.01, 0.01, 0.03, 0.14, 2.87, 2.87, 2.87, 2.87, 2.87, 2.87, 0.14, 0.14, 0.03, 0.08, 0.34, 0.32, 0.21, 0.47, 0.04, 0.01], \"colorbar\": {\"thickness\": 15, \"title\": {\"side\": \"right\", \"text\": \"Execution time (s)\"}, \"xanchor\": \"left\"}, \"colorscale\": [[0.0, \"rgb(165,0,38)\"], [0.1, \"rgb(215,48,39)\"], [0.2, \"rgb(244,109,67)\"], [0.3, \"rgb(253,174,97)\"], [0.4, \"rgb(254,224,139)\"], [0.5, \"rgb(255,255,191)\"], [0.6, \"rgb(217,239,139)\"], [0.7, \"rgb(166,217,106)\"], [0.8, \"rgb(102,189,99)\"], [0.9, \"rgb(26,152,80)\"], [1.0, \"rgb(0,104,55)\"]], \"reversescale\": true, \"showscale\": true, \"size\": 8, \"symbol\": \"hexagram\"}, \"mode\": \"markers\", \"text\": [\"Task ID: 1 SubTask ID: 1<br> Input: No Input<br> Output: WORK.__MTF_PD_PIT_VERSION<br> Elapsed Time: 0.01\", \"Task ID: 2 SubTask ID: 1<br> Input: WORK.__MTF_PD_PIT_VERSION<br> Output: _null_<br> Elapsed Time: 0.01\", \"Task ID: 3 SubTask ID: 1<br> Input: INPUT.PD_VIEW<br> Output: WORK.__MTF_PD_PIT_DISTINCT_RATING1<br> Elapsed Time: 2.93\", \"Task ID: 3 SubTask ID: 1<br> Input: INPUT.PD_VIEW<br> Output: WORK.'SASTMP-000000348'<br> Elapsed Time: 2.93\", \"Task ID: 4 SubTask ID: 1<br> Input: INPUT.PD_VIEW<br> Output: WORK.__MTF_PD_PIT_DISTINCT_ZVAL1<br> Elapsed Time: 2.46\", \"Task ID: 4 SubTask ID: 1<br> Input: INPUT.PD_VIEW<br> Output: WORK.'SASTMP-000000351'<br> Elapsed Time: 2.46\", \"Task ID: 5 SubTask ID: 1<br> Input: INPUT.PD_VIEW<br> Output: _null_<br> Elapsed Time: 0.13\", \"Task ID: 7 SubTask ID: 1<br> Input: INPUT.PD_VIEW<br> Output: WORK.__MTF_PD_PIT_VIEW_INPUT<br> Elapsed Time: 0.49\", \"Task ID: 3 SubTask ID: 3<br> Input: WORK.__MTF_PD_PIT_DISTINCT_RATING1<br> Output: _null_<br> Elapsed Time: 0.01\", \"Task ID: 3 SubTask ID: 2<br> Input: INPUT.PD_RR_RATING<br> Output: WORK.__MTF_PD_PIT_DISTINCT_RATING2<br> Elapsed Time: 0.0\", \"Task ID: 25 SubTask ID: 1<br> Input: INPUT.PD_RR_RATING<br> Output: WORK.__MTF_PD_PRED_DATA_RATING_PARAMS<br> Elapsed Time: 0.01\", \"Task ID: 3 SubTask ID: 3<br> Input: WORK.__MTF_PD_PIT_DISTINCT_RATING2<br> Output: _null_<br> Elapsed Time: 0.01\", \"Task ID: 4 SubTask ID: 4<br> Input: WORK.__MTF_PD_PIT_DISTINCT_ZVAL1<br> Output: _null_<br> Elapsed Time: 0.01\", \"Task ID: 4 SubTask ID: 3<br> Input: WORK.'SASTMP-000000351'<br> Output: WORK.'SASTMP-000000351'<br> Elapsed Time: 0.0\", \"Task ID: 4 SubTask ID: 2<br> Input: INPUT.PD_Z_FACTOR<br> Output: WORK.__MTF_PD_PIT_DISTINCT_ZVAL2<br> Elapsed Time: 0.02\", \"Task ID: 61 SubTask ID: 1<br> Input: INPUT.PD_Z_FACTOR<br> Output: WORK.__MTF_PD_PRED_PIC<br> Elapsed Time: 0.02\", \"Task ID: 4 SubTask ID: 4<br> Input: WORK.__MTF_PD_PIT_DISTINCT_ZVAL2<br> Output: _null_<br> Elapsed Time: 0.01\", \"Task ID: 8 SubTask ID: 1<br> Input: WORK.__MTF_PD_PIT_VIEW_INPUT<br> Output: _null_<br> Elapsed Time: 0.18\", \"Task ID: 11 SubTask ID: 1<br> Input: WORK.__MTF_PD_PIT_VIEW_INPUT<br> Output: _null_<br> Elapsed Time: 0.18\", \"Task ID: 12 SubTask ID: 1<br> Input: WORK.__MTF_PD_PIT_VIEW_INPUT<br> Output: WORK.__MTF_PD_PIT_VIEW2<br> Elapsed Time: 0.45\", \"Task ID: 9 SubTask ID: 1<br> Input: No Input<br> Output: WORK.__MTF_PD_PIT_VERSION<br> Elapsed Time: 0.01\", \"Task ID: 10 SubTask ID: 1<br> Input: WORK.__MTF_PD_PIT_VERSION<br> Output: _null_<br> Elapsed Time: 0.0\", \"Task ID: 13 SubTask ID: 1<br> Input: WORK.__MTF_PD_PIT_VIEW2<br> Output: WORK.__MTF_PD_PIT_PROC_MULTIYEAR_DATA<br> Elapsed Time: 5.48\", \"Task ID: 13 SubTask ID: 1<br> Input: WORK.__MTF_PD_PIT_VIEW2<br> Output: WORK.SORTTMP000000000000000000001<br> Elapsed Time: 5.48\", \"Task ID: 14 SubTask ID: 1<br> Input: WORK.__MTF_PD_PIT_PROC_MULTIYEAR_DATA<br> Output: WORK.__MTF_PD_PIT_PROC_MULTIYEAR_DATA<br> Elapsed Time: 2.15\", \"Task ID: 14 SubTask ID: 1<br> Input: WORK.__MTF_PD_PIT_PROC_MULTIYEAR_DATA<br> Output: WORK.__MTF_PD_NON_MIGRATIONS_IN<br> Elapsed Time: 2.15\", \"Task ID: 14 SubTask ID: 1<br> Input: WORK.__MTF_PD_PIT_PROC_MULTIYEAR_DATA<br> Output: WORK.__MTF_PD_PIT_PROC_ONEYEAR_DATA<br> Elapsed Time: 2.15\", \"Task ID: 15 SubTask ID: 1<br> Input: WORK.__MTF_PD_PIT_PROC_MULTIYEAR_DATA<br> Output: WORK.__MTF_PD_PIT_PROC_MULTIYEAR_DATA<br> Elapsed Time: 0.38\", \"Task ID: 112 SubTask ID: 1<br> Input: WORK.__MTF_PD_NON_MIGRATIONS_IN<br> Output: WORK.__MTF_PD_NON_TO_RATINGS<br> Elapsed Time: 0.07\", \"Task ID: 113 SubTask ID: 1<br> Input: WORK.__MTF_PD_NON_MIGRATIONS_IN<br> Output: WORK.__MTF_PD_NON_RATING_MIGRATIONS<br> Elapsed Time: 0.33\", \"Task ID: 113 SubTask ID: 1<br> Input: WORK.__MTF_PD_NON_MIGRATIONS_IN<br> Output: WORK.'SASTMP-000000537'<br> Elapsed Time: 0.33\", \"Task ID: 119 SubTask ID: 1<br> Input: WORK.__MTF_PD_NON_MIGRATIONS_IN<br> Output: WORK.__MTF_PD_NON_RATING_MIGRATIONS<br> Elapsed Time: 2.03\", \"Task ID: 119 SubTask ID: 1<br> Input: WORK.__MTF_PD_NON_MIGRATIONS_IN<br> Output: WORK.'SASTMP-000000550'<br> Elapsed Time: 2.03\", \"Task ID: 125 SubTask ID: 1<br> Input: WORK.__MTF_PD_NON_MIGRATIONS_IN<br> Output: WORK.__MTF_PD_NON_RATING_MIGRATIONS<br> Elapsed Time: 0.29\", \"Task ID: 125 SubTask ID: 1<br> Input: WORK.__MTF_PD_NON_MIGRATIONS_IN<br> Output: WORK.'SASTMP-000000563'<br> Elapsed Time: 0.29\", \"Task ID: 131 SubTask ID: 1<br> Input: WORK.__MTF_PD_NON_MIGRATIONS_IN<br> Output: WORK.__MTF_PD_NON_RATING_MIGRATIONS<br> Elapsed Time: 0.26\", \"Task ID: 131 SubTask ID: 1<br> Input: WORK.__MTF_PD_NON_MIGRATIONS_IN<br> Output: WORK.'SASTMP-000000576'<br> Elapsed Time: 0.26\", \"Task ID: 137 SubTask ID: 1<br> Input: WORK.__MTF_PD_NON_MIGRATIONS_IN<br> Output: WORK.__MTF_PD_NON_RATING_MIGRATIONS<br> Elapsed Time: 0.24\", \"Task ID: 137 SubTask ID: 1<br> Input: WORK.__MTF_PD_NON_MIGRATIONS_IN<br> Output: WORK.'SASTMP-000000589'<br> Elapsed Time: 0.24\", \"Task ID: 17 SubTask ID: 1<br> Input: WORK.__MTF_PD_PIT_PROC_ONEYEAR_DATA<br> Output: WORK.'SASTMP-000000372'<br> Elapsed Time: 0.01\", \"Task ID: 17 SubTask ID: 1<br> Input: WORK.__MTF_PD_PIT_PROC_ONEYEAR_DATA<br> Output: WORK.__MTF_PD_PIT_OUTSTANDING_STATS_1<br> Elapsed Time: 0.01\", \"Task ID: 16 SubTask ID: 1<br> Input: WORK.__MTF_PD_PIT_PROC_MULTIYEAR_DATA<br> Output: WORK.__MTF_PD_PIT_ODR_WIDE<br> Elapsed Time: 0.19\", \"Task ID: 101 SubTask ID: 1<br> Input: WORK.__MTF_PD_PIT_PROC_MULTIYEAR_DATA<br> Output: WORK.__MTF_PD_PIT_MULTIYEAR_PRED<br> Elapsed Time: 0.86\", \"Task ID: 111 SubTask ID: 1<br> Input: WORK.__MTF_PD_PIT_PROC_MULTIYEAR_DATA<br> Output: WORK.TEST_PD_TTC_IN<br> Elapsed Time: 0.34\", \"Task ID: 111 SubTask ID: 1<br> Input: WORK.__MTF_PD_PIT_PROC_MULTIYEAR_DATA<br> Output: WORK.'SASTMP-000000531'<br> Elapsed Time: 0.34\", \"Task ID: 111 SubTask ID: 1<br> Input: WORK.__MTF_PD_PIT_PROC_MULTIYEAR_DATA<br> Output: WORK.'SASTMP-000000532'<br> Elapsed Time: 0.34\", \"Task ID: 156 SubTask ID: 1<br> Input: WORK.__MTF_PD_PIT_PROC_MULTIYEAR_DATA<br> Output: WORK.__MTF_PD_PIT_ODR_WIDE_DIS<br> Elapsed Time: 2.98\", \"Task ID: 18 SubTask ID: 1<br> Input: WORK.__MTF_PD_PIT_ODR_WIDE<br> Output: WORK.__MTF_PD_PIT_ODR_WIDE_TP<br> Elapsed Time: 0.0\", \"Task ID: 21 SubTask ID: 1<br> Input: WORK.__MTF_PD_PIT_OUTSTANDING_STATS_1<br> Output: WORK.__MTF_PD_PIT_MULTIYEAR_OBS_GRP<br> Elapsed Time: 0.01\", \"Task ID: 19 SubTask ID: 1<br> Input: WORK.__MTF_PD_PIT_ODR_WIDE_TP<br> Output: WORK.__MTF_PD_PIT_ODR_WIDE_TP<br> Elapsed Time: 0.01\", \"Task ID: 18 SubTask ID: 2<br> Input: WORK.ZFMMEM<br> Output: WORK.ZFMMEM<br> Elapsed Time: 0.01\", \"Task ID: 20 SubTask ID: 2<br> Input: WORK.ZFMMEM<br> Output: WORK.ZFMMEM<br> Elapsed Time: 0.01\", \"Task ID: 20 SubTask ID: 1<br> Input: WORK.__MTF_PD_PIT_ODR_WIDE_TP<br> Output: WORK.__MTF_PD_PIT_ODR_LONG<br> Elapsed Time: 0.01\", \"Task ID: 21 SubTask ID: 1<br> Input: WORK.__MTF_PD_PIT_ODR_LONG<br> Output: WORK.__MTF_PD_PIT_MULTIYEAR_OBS_GRP<br> Elapsed Time: 0.01\", \"Task ID: 34 SubTask ID: 2<br> Input: WORK.ZFMMEM<br> Output: WORK.ZFMMEM<br> Elapsed Time: 0.0\", \"Task ID: 105 SubTask ID: 1<br> Input: WORK.__MTF_PD_PIT_MULTIYEAR_OBS_GRP<br> Output: WORK.__MTF_PD_PIT_MULTIYEAR_BOTH_GRP<br> Elapsed Time: 1.89\", \"Task ID: 22 SubTask ID: 1<br> Input: No Input<br> Output: WORK.'SASTMP-000000381'<br> Elapsed Time: 0.0\", \"Task ID: 23 SubTask ID: 1<br> Input: No Input<br> Output: WORK.__MTF_PD_PRED_VERSION<br> Elapsed Time: 0.01\", \"Task ID: 24 SubTask ID: 1<br> Input: WORK.__MTF_PD_PRED_VERSION<br> Output: _null_<br> Elapsed Time: 0.0\", \"Task ID: 26 SubTask ID: 1<br> Input: WORK.__MTF_PD_PRED_DATA_RATING_PARAMS<br> Output: _null_<br> Elapsed Time: 0.0\", \"Task ID: 28 SubTask ID: 1<br> Input: WORK.__MTF_PD_PRED_DATA_RATING_PARAMS<br> Output: WORK.__MTF_PD_PRED_DATA_TTC_TMP2<br> Elapsed Time: 0.01\", \"Task ID: 30 SubTask ID: 1<br> Input: WORK.__MTF_PD_PRED_DATA_RATING_PARAMS<br> Output: WORK.__MTF_PD_PRED_DATA_TTC_TMP3<br> Elapsed Time: 0.01\", \"Task ID: 27 SubTask ID: 1<br> Input: No Input<br> Output: WORK.__MTF_PD_PRED_DATA_TTC_TMP1<br> Elapsed Time: 0.01\", \"Task ID: 28 SubTask ID: 1<br> Input: WORK.__MTF_PD_PRED_DATA_TTC_TMP1<br> Output: WORK.__MTF_PD_PRED_DATA_TTC_TMP2<br> Elapsed Time: 0.01\", \"Task ID: 29 SubTask ID: 1<br> Input: WORK.__MTF_PD_PRED_DATA_TTC_TMP2<br> Output: _null_<br> Elapsed Time: 0.0\", \"Task ID: 30 SubTask ID: 1<br> Input: WORK.__MTF_PD_PRED_DATA_TTC_TMP2<br> Output: WORK.__MTF_PD_PRED_DATA_TTC_TMP3<br> Elapsed Time: 0.01\", \"Task ID: 31 SubTask ID: 1<br> Input: WORK.__MTF_PD_PRED_DATA_TTC_TMP3<br> Output: WORK.__MTF_PD_PRED_DATA_NONNULL<br> Elapsed Time: 0.01\", \"Task ID: 31 SubTask ID: 1<br> Input: WORK.__MTF_PD_PRED_DATA_TTC_TMP3<br> Output: WORK.__MTF_PD_PRED_DATA_IRB_OLD<br> Elapsed Time: 0.01\", \"Task ID: 32 SubTask ID: 1<br> Input: WORK.__MTF_PD_PRED_DATA_NONNULL<br> Output: WORK.__MTF_PD_PRED_DATA_ASSET_CORR<br> Elapsed Time: 0.01\", \"Task ID: 33 SubTask ID: 1<br> Input: WORK.__MTF_PD_PRED_DATA_NONNULL<br> Output: WORK.__MTF_PD_PRED_TTC_SCALED<br> Elapsed Time: 0.01\", \"Task ID: 71 SubTask ID: 1<br> Input: WORK.__MTF_PD_PRED_DATA_ASSET_CORR<br> Output: WORK.__MTF_PIT_ONEYEAR_PDS<br> Elapsed Time: 5.43\", \"Task ID: 86 SubTask ID: 1<br> Input: WORK.__MTF_PD_PRED_DATA_ASSET_CORR<br> Output: WORK.__MTF_PIT_ONEYEAR_PDS<br> Elapsed Time: 4.39\", \"Task ID: 34 SubTask ID: 1<br> Input: WORK.__MTF_PD_PRED_TTC_SCALED<br> Output: WORK.__MTF_PD_PRED_TTC_SCALED_T<br> Elapsed Time: 0.0\", \"Task ID: 35 SubTask ID: 1<br> Input: WORK.__MTF_PD_PRED_TTC_SCALED_T<br> Output: WORK.__MTF_PD_PRED_TTC_SCALED_LONG<br> Elapsed Time: 2.38\", \"Task ID: 37 SubTask ID: 2<br> Input: WORK.ZFMMEM<br> Output: WORK.ZFMMEM<br> Elapsed Time: 0.01\", \"Task ID: 36 SubTask ID: 1<br> Input: WORK.__MTF_PD_PRED_TTC_SCALED_LONG<br> Output: WORK.__MTF_PD_PRED_RISK_RATING_NAMES<br> Elapsed Time: 0.01\", \"Task ID: 37 SubTask ID: 1<br> Input: WORK.__MTF_PD_PRED_TTC_SCALED_LONG<br> Output: WORK.__MTF_PD_PRED_TTC_SCALED_WIDE_1<br> Elapsed Time: 0.0\", \"Task ID: 71 SubTask ID: 1<br> Input: WORK.__MTF_PD_PRED_TTC_SCALED_LONG<br> Output: WORK.__MTF_PIT_ONEYEAR_PDS<br> Elapsed Time: 5.43\", \"Task ID: 73 SubTask ID: 1<br> Input: WORK.__MTF_PD_PRED_TTC_SCALED_LONG<br> Output: _null_<br> Elapsed Time: 0.01\", \"Task ID: 86 SubTask ID: 1<br> Input: WORK.__MTF_PD_PRED_TTC_SCALED_LONG<br> Output: WORK.__MTF_PIT_ONEYEAR_PDS<br> Elapsed Time: 4.39\", \"Task ID: 88 SubTask ID: 1<br> Input: WORK.__MTF_PD_PRED_TTC_SCALED_LONG<br> Output: _null_<br> Elapsed Time: 0.0\", \"Task ID: 38 SubTask ID: 1<br> Input: WORK.__MTF_PD_PRED_RISK_RATING_NAMES<br> Output: WORK.__MTF_PD_PRED_TTC_OUT<br> Elapsed Time: 0.01\", \"Task ID: 43 SubTask ID: 1<br> Input: WORK.__MTF_PD_PRED_RISK_RATING_NAMES<br> Output: WORK.__MTF_PD_PRED_TTC_SCALED_WIDE_2<br> Elapsed Time: 0.02\", \"Task ID: 47 SubTask ID: 1<br> Input: WORK.__MTF_PD_PRED_RISK_RATING_NAMES<br> Output: WORK.__MTF_PD_PRED_TTC_SCALED_WIDE_3<br> Elapsed Time: 0.01\", \"Task ID: 51 SubTask ID: 1<br> Input: WORK.__MTF_PD_PRED_RISK_RATING_NAMES<br> Output: WORK.__MTF_PD_PRED_TTC_SCALED_WIDE_4<br> Elapsed Time: 0.01\", \"Task ID: 55 SubTask ID: 1<br> Input: WORK.__MTF_PD_PRED_RISK_RATING_NAMES<br> Output: WORK.__MTF_PD_PRED_TTC_SCALED_WIDE_5<br> Elapsed Time: 0.01\", \"Task ID: 38 SubTask ID: 1<br> Input: WORK.__MTF_PD_PRED_TTC_SCALED_WIDE_1<br> Output: WORK.__MTF_PD_PRED_TTC_OUT<br> Elapsed Time: 0.01\", \"Task ID: 39 SubTask ID: 1<br> Input: WORK.__MTF_PD_PRED_TTC_SCALED_WIDE_1<br> Output: WORK.__MTF_PD_PRED_TTC_SCALED_WIDE_2<br> Elapsed Time: 0.03\", \"Task ID: 40 SubTask ID: 1<br> Input: WORK.__MTF_PD_PRED_TTC_SCALED_WIDE_1<br> Output: WORK.__MTF_PD_PRED_TTC_SCALED_WIDE_3<br> Elapsed Time: 0.01\", \"Task ID: 41 SubTask ID: 1<br> Input: WORK.__MTF_PD_PRED_TTC_SCALED_WIDE_1<br> Output: WORK.__MTF_PD_PRED_TTC_SCALED_WIDE_4<br> Elapsed Time: 0.01\", \"Task ID: 42 SubTask ID: 1<br> Input: WORK.__MTF_PD_PRED_TTC_SCALED_WIDE_1<br> Output: WORK.__MTF_PD_PRED_TTC_SCALED_WIDE_5<br> Elapsed Time: 0.01\", \"Task ID: 59 SubTask ID: 2<br> Input: WORK.ZFMMEM<br> Output: WORK.ZFMMEM<br> Elapsed Time: 0.0\", \"Task ID: 44 SubTask ID: 1<br> Input: WORK.__MTF_PD_PRED_TTC_OUT<br> Output: WORK.__MTF_PD_PRED_TTC_OUT_TMP<br> Elapsed Time: 0.01\", \"Task ID: 48 SubTask ID: 1<br> Input: WORK.__MTF_PD_PRED_TTC_OUT<br> Output: WORK.__MTF_PD_PRED_TTC_OUT_TMP<br> Elapsed Time: 0.01\", \"Task ID: 52 SubTask ID: 1<br> Input: WORK.__MTF_PD_PRED_TTC_OUT<br> Output: WORK.__MTF_PD_PRED_TTC_OUT_TMP<br> Elapsed Time: 0.01\", \"Task ID: 56 SubTask ID: 1<br> Input: WORK.__MTF_PD_PRED_TTC_OUT<br> Output: WORK.__MTF_PD_PRED_TTC_OUT_TMP<br> Elapsed Time: 0.01\", \"Task ID: 59 SubTask ID: 1<br> Input: WORK.__MTF_PD_PRED_TTC_OUT<br> Output: WORK.__MTF_PD_PRED_TTC_CUM<br> Elapsed Time: 0.01\", \"Task ID: 39 SubTask ID: 2<br> Input: WORK.__MTF_PD_PRED_TTC_SCALED_WIDE_2<br> Output: WORK.__MTF_PD_PRED_TTC_SCALED_WIDE_2<br> Elapsed Time: 0.01\", \"Task ID: 40 SubTask ID: 1<br> Input: WORK.__MTF_PD_PRED_TTC_SCALED_WIDE_2<br> Output: WORK.__MTF_PD_PRED_TTC_SCALED_WIDE_3<br> Elapsed Time: 0.01\", \"Task ID: 43 SubTask ID: 1<br> Input: WORK.__MTF_PD_PRED_TTC_SCALED_WIDE_2<br> Output: WORK.__MTF_PD_PRED_TTC_SCALED_WIDE_2<br> Elapsed Time: 0.02\", \"Task ID: 40 SubTask ID: 2<br> Input: WORK.__MTF_PD_PRED_TTC_SCALED_WIDE_3<br> Output: WORK.__MTF_PD_PRED_TTC_SCALED_WIDE_3<br> Elapsed Time: 0.0\", \"Task ID: 41 SubTask ID: 1<br> Input: WORK.__MTF_PD_PRED_TTC_SCALED_WIDE_3<br> Output: WORK.__MTF_PD_PRED_TTC_SCALED_WIDE_4<br> Elapsed Time: 0.01\", \"Task ID: 47 SubTask ID: 1<br> Input: WORK.__MTF_PD_PRED_TTC_SCALED_WIDE_3<br> Output: WORK.__MTF_PD_PRED_TTC_SCALED_WIDE_3<br> Elapsed Time: 0.01\", \"Task ID: 41 SubTask ID: 2<br> Input: WORK.__MTF_PD_PRED_TTC_SCALED_WIDE_4<br> Output: WORK.__MTF_PD_PRED_TTC_SCALED_WIDE_4<br> Elapsed Time: 0.01\", \"Task ID: 42 SubTask ID: 1<br> Input: WORK.__MTF_PD_PRED_TTC_SCALED_WIDE_4<br> Output: WORK.__MTF_PD_PRED_TTC_SCALED_WIDE_5<br> Elapsed Time: 0.01\", \"Task ID: 51 SubTask ID: 1<br> Input: WORK.__MTF_PD_PRED_TTC_SCALED_WIDE_4<br> Output: WORK.__MTF_PD_PRED_TTC_SCALED_WIDE_4<br> Elapsed Time: 0.01\", \"Task ID: 42 SubTask ID: 2<br> Input: WORK.__MTF_PD_PRED_TTC_SCALED_WIDE_5<br> Output: WORK.__MTF_PD_PRED_TTC_SCALED_WIDE_5<br> Elapsed Time: 0.0\", \"Task ID: 55 SubTask ID: 1<br> Input: WORK.__MTF_PD_PRED_TTC_SCALED_WIDE_5<br> Output: WORK.__MTF_PD_PRED_TTC_SCALED_WIDE_5<br> Elapsed Time: 0.01\", \"Task ID: 44 SubTask ID: 1<br> Input: WORK.__MTF_PD_PRED_TTC_SCALED_WIDE_2<br> Output: WORK.__MTF_PD_PRED_TTC_OUT_TMP<br> Elapsed Time: 0.01\", \"Task ID: 45 SubTask ID: 1<br> Input: No Input<br> Output: WORK.'SASTMP-000000415'<br> Elapsed Time: 0.0\", \"Task ID: 46 SubTask ID: 1<br> Input: No Input<br> Output: WORK.'SASTMP-000000417'<br> Elapsed Time: 0.01\", \"Task ID: 48 SubTask ID: 1<br> Input: WORK.__MTF_PD_PRED_TTC_SCALED_WIDE_3<br> Output: WORK.__MTF_PD_PRED_TTC_OUT_TMP<br> Elapsed Time: 0.01\", \"Task ID: 49 SubTask ID: 1<br> Input: No Input<br> Output: WORK.'SASTMP-000000422'<br> Elapsed Time: 0.0\", \"Task ID: 50 SubTask ID: 1<br> Input: No Input<br> Output: WORK.'SASTMP-000000424'<br> Elapsed Time: 0.01\", \"Task ID: 52 SubTask ID: 1<br> Input: WORK.__MTF_PD_PRED_TTC_SCALED_WIDE_4<br> Output: WORK.__MTF_PD_PRED_TTC_OUT_TMP<br> Elapsed Time: 0.01\", \"Task ID: 53 SubTask ID: 1<br> Input: No Input<br> Output: WORK.'SASTMP-000000429'<br> Elapsed Time: 0.01\", \"Task ID: 54 SubTask ID: 1<br> Input: No Input<br> Output: WORK.'SASTMP-000000431'<br> Elapsed Time: 0.0\", \"Task ID: 56 SubTask ID: 1<br> Input: WORK.__MTF_PD_PRED_TTC_SCALED_WIDE_5<br> Output: WORK.__MTF_PD_PRED_TTC_OUT_TMP<br> Elapsed Time: 0.01\", \"Task ID: 57 SubTask ID: 1<br> Input: No Input<br> Output: WORK.'SASTMP-000000436'<br> Elapsed Time: 0.01\", \"Task ID: 58 SubTask ID: 1<br> Input: No Input<br> Output: WORK.'SASTMP-000000438'<br> Elapsed Time: 0.0\", \"Task ID: 60 SubTask ID: 1<br> Input: WORK.__MTF_PD_PRED_TTC_CUM<br> Output: WORK.__MTF_PD_PIT_MULTIYEAR_TTC_PD<br> Elapsed Time: 0.01\", \"Task ID: 157 SubTask ID: 2<br> Input: WORK.ZFMMEM<br> Output: WORK.ZFMMEM<br> Elapsed Time: 0.07\", \"Task ID: 94 SubTask ID: 1<br> Input: WORK.__MTF_PD_PIT_MULTIYEAR_TTC_PD<br> Output: WORK.__MTF_PD_PIT_MULTIYEAR_TTC_PD_20<br> Elapsed Time: 0.01\", \"Task ID: 146 SubTask ID: 1<br> Input: WORK.__MTF_PD_PIT_MULTIYEAR_TTC_PD<br> Output: WORK.__MTF_PD_MARK_RATING_MIG_AVG2<br> Elapsed Time: 0.01\", \"Task ID: 65 SubTask ID: 1<br> Input: WORK.__MTF_PD_PRED_PIC<br> Output: WORK.__MTF_PIT_PIC_UNIQUE<br> Elapsed Time: 0.0\", \"Task ID: 67 SubTask ID: 1<br> Input: WORK.__MTF_PD_PRED_PIC<br> Output: WORK.__MTF_PIT_COUNTRY_DATES<br> Elapsed Time: 0.01\", \"Task ID: 67 SubTask ID: 1<br> Input: WORK.__MTF_PD_PRED_PIC<br> Output: WORK.'SASTMP-000000451'<br> Elapsed Time: 0.01\", \"Task ID: 69 SubTask ID: 1<br> Input: WORK.__MTF_PD_PRED_PIC<br> Output: WORK.__MTF_PIT_COUNTRY_PIC_MULTI<br> Elapsed Time: 0.04\", \"Task ID: 72 SubTask ID: 1<br> Input: WORK.__MTF_PD_PRED_PIC<br> Output: WORK.__MTF_PD_PIT_ONEYEAR_PIT_PD_1<br> Elapsed Time: 3.85\", \"Task ID: 72 SubTask ID: 1<br> Input: WORK.__MTF_PD_PRED_PIC<br> Output: WORK.'SASTMP-000000462'<br> Elapsed Time: 3.85\", \"Task ID: 80 SubTask ID: 1<br> Input: WORK.__MTF_PD_PRED_PIC<br> Output: WORK.__MTF_PIT_PIC_UNIQUE<br> Elapsed Time: 0.01\", \"Task ID: 82 SubTask ID: 1<br> Input: WORK.__MTF_PD_PRED_PIC<br> Output: WORK.__MTF_PIT_COUNTRY_DATES<br> Elapsed Time: 0.02\", \"Task ID: 82 SubTask ID: 1<br> Input: WORK.__MTF_PD_PRED_PIC<br> Output: WORK.'SASTMP-000000478'<br> Elapsed Time: 0.02\", \"Task ID: 84 SubTask ID: 1<br> Input: WORK.__MTF_PD_PRED_PIC<br> Output: WORK.__MTF_PIT_COUNTRY_PIC_MULTI<br> Elapsed Time: 2.92\", \"Task ID: 87 SubTask ID: 1<br> Input: WORK.__MTF_PD_PRED_PIC<br> Output: WORK.__MTF_PD_PIT_ONEYEAR_PIT_PD_0<br> Elapsed Time: 1.18\", \"Task ID: 87 SubTask ID: 1<br> Input: WORK.__MTF_PD_PRED_PIC<br> Output: WORK.'SASTMP-000000489'<br> Elapsed Time: 1.18\", \"Task ID: 62 SubTask ID: 1<br> Input: No Input<br> Output: WORK.__MTF_PIT_PITPD_VERSION<br> Elapsed Time: 0.0\", \"Task ID: 63 SubTask ID: 1<br> Input: WORK.__MTF_PIT_PITPD_VERSION<br> Output: _null_<br> Elapsed Time: 0.0\", \"Task ID: 66 SubTask ID: 1<br> Input: WORK.__MTF_PIT_PIC_UNIQUE<br> Output: WORK.__MTF_PIT_PIC_UNIQUE<br> Elapsed Time: 0.01\", \"Task ID: 70 SubTask ID: 1<br> Input: WORK.__MTF_PIT_PIC_UNIQUE<br> Output: WORK.__MTF_PIT_COUNTRY_PIC_MULTI_RANK<br> Elapsed Time: 0.05\", \"Task ID: 70 SubTask ID: 1<br> Input: WORK.__MTF_PIT_PIC_UNIQUE<br> Output: WORK.'SASTMP-000000458'<br> Elapsed Time: 0.05\", \"Task ID: 71 SubTask ID: 1<br> Input: WORK.__MTF_PIT_PIC_UNIQUE<br> Output: WORK.__MTF_PIT_ONEYEAR_PDS<br> Elapsed Time: 5.43\", \"Task ID: 68 SubTask ID: 1<br> Input: WORK.__MTF_PIT_COUNTRY_DATES<br> Output: WORK.__MTF_PIT_COUNTRY_DATES_MULTI<br> Elapsed Time: 0.02\", \"Task ID: 69 SubTask ID: 1<br> Input: WORK.__MTF_PIT_COUNTRY_DATES_MULTI<br> Output: WORK.__MTF_PIT_COUNTRY_PIC_MULTI<br> Elapsed Time: 0.04\", \"Task ID: 70 SubTask ID: 1<br> Input: WORK.__MTF_PIT_COUNTRY_PIC_MULTI<br> Output: WORK.__MTF_PIT_COUNTRY_PIC_MULTI_RANK<br> Elapsed Time: 0.05\", \"Task ID: 70 SubTask ID: 1<br> Input: WORK.__MTF_PIT_COUNTRY_PIC_MULTI<br> Output: WORK.'SASTMP-000000458'<br> Elapsed Time: 0.05\", \"Task ID: 71 SubTask ID: 3<br> Input: WORK.__MTF_PIT_COUNTRY_PIC_MULTI_RANK<br> Output: WORK.__MTF_PIT_MULTI_PDS<br> Elapsed Time: 21.81\", \"Task ID: 74 SubTask ID: 1<br> Input: WORK.__MTF_PIT_COUNTRY_PIC_MULTI_RANK<br> Output: WORK.__MTF_PIT_MULTIYEAR_ROW_INFO<br> Elapsed Time: 1.58\", \"Task ID: 71 SubTask ID: 2<br> Input: WORK.__MTF_PIT_ONEYEAR_PDS<br> Output: WORK.__MTF_PIT_ONEYEAR_PDS<br> Elapsed Time: 0.2\", \"Task ID: 72 SubTask ID: 1<br> Input: WORK.__MTF_PIT_ONEYEAR_PDS<br> Output: WORK.__MTF_PD_PIT_ONEYEAR_PIT_PD_1<br> Elapsed Time: 3.85\", \"Task ID: 72 SubTask ID: 1<br> Input: WORK.__MTF_PIT_ONEYEAR_PDS<br> Output: WORK.'SASTMP-000000462'<br> Elapsed Time: 3.85\", \"Task ID: 71 SubTask ID: 4<br> Input: WORK.__MTF_PIT_MULTI_PDS<br> Output: WORK.__MTF_PIT_MULTI_PDS<br> Elapsed Time: 1.43\", \"Task ID: 75 SubTask ID: 1<br> Input: WORK.__MTF_PIT_MULTI_PDS<br> Output: WORK.__MTF_PD_PIT_MULTIYEAR_PIT_PD_1<br> Elapsed Time: 4.0\", \"Task ID: 150 SubTask ID: 1<br> Input: WORK.__MTF_PD_PIT_ONEYEAR_PIT_PD_1<br> Output: WORK.__MTF_PD_NON_ONEYEAR_PIT_PD_FULL<br> Elapsed Time: 0.66\", \"Task ID: 75 SubTask ID: 1<br> Input: WORK.__MTF_PIT_MULTIYEAR_ROW_INFO<br> Output: WORK.__MTF_PD_PIT_MULTIYEAR_PIT_PD_1<br> Elapsed Time: 4.0\", \"Task ID: 76 SubTask ID: 1<br> Input: No Input<br> Output: WORK.'SASTMP-000000469'<br> Elapsed Time: 0.12\", \"Task ID: 77 SubTask ID: 1<br> Input: No Input<br> Output: WORK.__MTF_PIT_PITPD_VERSION<br> Elapsed Time: 0.01\", \"Task ID: 78 SubTask ID: 1<br> Input: WORK.__MTF_PIT_PITPD_VERSION<br> Output: _null_<br> Elapsed Time: 0.0\", \"Task ID: 81 SubTask ID: 1<br> Input: WORK.__MTF_PIT_PIC_UNIQUE<br> Output: WORK.__MTF_PIT_PIC_UNIQUE<br> Elapsed Time: 0.01\", \"Task ID: 85 SubTask ID: 1<br> Input: WORK.__MTF_PIT_PIC_UNIQUE<br> Output: WORK.__MTF_PIT_COUNTRY_PIC_MULTI_RANK<br> Elapsed Time: 0.06\", \"Task ID: 85 SubTask ID: 1<br> Input: WORK.__MTF_PIT_PIC_UNIQUE<br> Output: WORK.'SASTMP-000000485'<br> Elapsed Time: 0.06\", \"Task ID: 86 SubTask ID: 1<br> Input: WORK.__MTF_PIT_PIC_UNIQUE<br> Output: WORK.__MTF_PIT_ONEYEAR_PDS<br> Elapsed Time: 4.39\", \"Task ID: 83 SubTask ID: 1<br> Input: WORK.__MTF_PIT_COUNTRY_DATES<br> Output: WORK.__MTF_PIT_COUNTRY_DATES_MULTI<br> Elapsed Time: 0.02\", \"Task ID: 84 SubTask ID: 1<br> Input: WORK.__MTF_PIT_COUNTRY_DATES_MULTI<br> Output: WORK.__MTF_PIT_COUNTRY_PIC_MULTI<br> Elapsed Time: 2.92\", \"Task ID: 85 SubTask ID: 1<br> Input: WORK.__MTF_PIT_COUNTRY_PIC_MULTI<br> Output: WORK.__MTF_PIT_COUNTRY_PIC_MULTI_RANK<br> Elapsed Time: 0.06\", \"Task ID: 85 SubTask ID: 1<br> Input: WORK.__MTF_PIT_COUNTRY_PIC_MULTI<br> Output: WORK.'SASTMP-000000485'<br> Elapsed Time: 0.06\", \"Task ID: 86 SubTask ID: 3<br> Input: WORK.__MTF_PIT_COUNTRY_PIC_MULTI_RANK<br> Output: WORK.__MTF_PIT_MULTI_PDS<br> Elapsed Time: 25.71\", \"Task ID: 89 SubTask ID: 1<br> Input: WORK.__MTF_PIT_COUNTRY_PIC_MULTI_RANK<br> Output: WORK.__MTF_PIT_MULTIYEAR_ROW_INFO<br> Elapsed Time: 1.64\", \"Task ID: 86 SubTask ID: 2<br> Input: WORK.__MTF_PIT_ONEYEAR_PDS<br> Output: WORK.__MTF_PIT_ONEYEAR_PDS<br> Elapsed Time: 0.2\", \"Task ID: 87 SubTask ID: 1<br> Input: WORK.__MTF_PIT_ONEYEAR_PDS<br> Output: WORK.__MTF_PD_PIT_ONEYEAR_PIT_PD_0<br> Elapsed Time: 1.18\", \"Task ID: 87 SubTask ID: 1<br> Input: WORK.__MTF_PIT_ONEYEAR_PDS<br> Output: WORK.'SASTMP-000000489'<br> Elapsed Time: 1.18\", \"Task ID: 86 SubTask ID: 4<br> Input: WORK.__MTF_PIT_MULTI_PDS<br> Output: WORK.__MTF_PIT_MULTI_PDS<br> Elapsed Time: 1.39\", \"Task ID: 90 SubTask ID: 1<br> Input: WORK.__MTF_PIT_MULTI_PDS<br> Output: WORK.__MTF_PD_PIT_MULTIYEAR_PIT_PD_0<br> Elapsed Time: 4.23\", \"Task ID: 151 SubTask ID: 1<br> Input: WORK.__MTF_PD_PIT_ONEYEAR_PIT_PD_0<br> Output: WORK.__MTF_PD_NON_ONEYEAR_PIT_PD_DEF<br> Elapsed Time: 0.69\", \"Task ID: 90 SubTask ID: 1<br> Input: WORK.__MTF_PIT_MULTIYEAR_ROW_INFO<br> Output: WORK.__MTF_PD_PIT_MULTIYEAR_PIT_PD_0<br> Elapsed Time: 4.23\", \"Task ID: 92 SubTask ID: 1<br> Input: WORK.__MTF_PD_PIT_MULTIYEAR_PIT_PD_0<br> Output: WORK.__MTF_PD_PIT_MULTIYEAR_PIT_PD<br> Elapsed Time: 3.88\", \"Task ID: 91 SubTask ID: 1<br> Input: No Input<br> Output: WORK.'SASTMP-000000496'<br> Elapsed Time: 0.17\", \"Task ID: 93 SubTask ID: 1<br> Input: WORK.__MTF_PD_PIT_MULTIYEAR_PIT_PD<br> Output: WORK.__MTF_PD_PIT_MULTIYEAR_PIT_PD_20<br> Elapsed Time: 1.18\", \"Task ID: 95 SubTask ID: 1<br> Input: WORK.__MTF_PD_PIT_MULTIYEAR_PIT_PD_20<br> Output: WORK.__MTF_PD_PIT_MULTIYEAR_BOTH_PD<br> Elapsed Time: 0.43\", \"Task ID: 95 SubTask ID: 1<br> Input: WORK.__MTF_PD_PIT_MULTIYEAR_PIT_PD_20<br> Output: WORK.'SASTMP-000000502'<br> Elapsed Time: 0.43\", \"Task ID: 111 SubTask ID: 1<br> Input: WORK.__MTF_PD_PIT_MULTIYEAR_PIT_PD_20<br> Output: WORK.TEST_PD_TTC_IN<br> Elapsed Time: 0.34\", \"Task ID: 111 SubTask ID: 1<br> Input: WORK.__MTF_PD_PIT_MULTIYEAR_PIT_PD_20<br> Output: WORK.'SASTMP-000000531'<br> Elapsed Time: 0.34\", \"Task ID: 111 SubTask ID: 1<br> Input: WORK.__MTF_PD_PIT_MULTIYEAR_PIT_PD_20<br> Output: WORK.'SASTMP-000000532'<br> Elapsed Time: 0.34\", \"Task ID: 95 SubTask ID: 1<br> Input: WORK.__MTF_PD_PIT_MULTIYEAR_TTC_PD_20<br> Output: WORK.__MTF_PD_PIT_MULTIYEAR_BOTH_PD<br> Elapsed Time: 0.43\", \"Task ID: 95 SubTask ID: 1<br> Input: WORK.__MTF_PD_PIT_MULTIYEAR_TTC_PD_20<br> Output: WORK.'SASTMP-000000502'<br> Elapsed Time: 0.43\", \"Task ID: 144 SubTask ID: 1<br> Input: WORK.__MTF_PD_PIT_MULTIYEAR_TTC_PD_20<br> Output: WORK.__MTF_PD_NON_RATING_PD_TTC<br> Elapsed Time: 0.01\", \"Task ID: 99 SubTask ID: 1<br> Input: WORK.__MTF_PD_PIT_MULTIYEAR_BOTH_PD<br> Output: WORK.__MTF_PD_PIT_MARGINAL_BOTH_PD<br> Elapsed Time: 0.29\", \"Task ID: 96 SubTask ID: 1<br> Input: No Input<br> Output: WORK.'SASTMP-000000504'<br> Elapsed Time: 0.02\", \"Task ID: 97 SubTask ID: 1<br> Input: No Input<br> Output: WORK.__MTF_PD_JOIN_VERSION<br> Elapsed Time: 0.01\", \"Task ID: 98 SubTask ID: 1<br> Input: WORK.__MTF_PD_JOIN_VERSION<br> Output: _null_<br> Elapsed Time: 0.0\", \"Task ID: 100 SubTask ID: 1<br> Input: WORK.__MTF_PD_PIT_MARGINAL_BOTH_PD<br> Output: WORK.__MTF_PD_PIT_MARGINAL_BOTH_PD<br> Elapsed Time: 4.88\", \"Task ID: 101 SubTask ID: 1<br> Input: WORK.__MTF_PD_PIT_MARGINAL_BOTH_PD<br> Output: WORK.__MTF_PD_PIT_MULTIYEAR_PRED<br> Elapsed Time: 0.86\", \"Task ID: 160 SubTask ID: 1<br> Input: WORK.__MTF_PD_PIT_MARGINAL_BOTH_PD<br> Output: WORK.TEST_PD_DIS_IN<br> Elapsed Time: 0.21\", \"Task ID: 102 SubTask ID: 1<br> Input: WORK.__MTF_PD_PIT_MULTIYEAR_PRED<br> Output: WORK.__MTF_PD_JOIN_MULTIYEAR_PRED2<br> Elapsed Time: 0.44\", \"Task ID: 103 SubTask ID: 1<br> Input: WORK.__MTF_PD_PIT_MULTIYEAR_PRED<br> Output: WORK.__MTF_PD_JOIN_MULTIYEAR_PRED_STD<br> Elapsed Time: 0.42\", \"Task ID: 103 SubTask ID: 1<br> Input: WORK.__MTF_PD_JOIN_MULTIYEAR_PRED2<br> Output: WORK.__MTF_PD_JOIN_MULTIYEAR_PRED_STD<br> Elapsed Time: 0.42\", \"Task ID: 104 SubTask ID: 1<br> Input: WORK.__MTF_PD_JOIN_MULTIYEAR_PRED2<br> Output: WORK.__MTF_PD_JOIN_MULTIYEAR_PRED_GRP<br> Elapsed Time: 0.01\", \"Task ID: 104 SubTask ID: 1<br> Input: WORK.__MTF_PD_JOIN_MULTIYEAR_PRED_STD<br> Output: WORK.__MTF_PD_JOIN_MULTIYEAR_PRED_GRP<br> Elapsed Time: 0.01\", \"Task ID: 105 SubTask ID: 1<br> Input: WORK.__MTF_PD_JOIN_MULTIYEAR_PRED_GRP<br> Output: WORK.__MTF_PD_PIT_MULTIYEAR_BOTH_GRP<br> Elapsed Time: 1.89\", \"Task ID: 106 SubTask ID: 1<br> Input: WORK.__MTF_PD_PIT_MULTIYEAR_BOTH_GRP<br> Output: WORK.__MTF_PD_JOIN_MULTIYEAR_CI<br> Elapsed Time: 0.05\", \"Task ID: 155 SubTask ID: 1<br> Input: WORK.__MTF_PD_PIT_MULTIYEAR_BOTH_GRP<br> Output: WORK.TEST_PD_STB_IN<br> Elapsed Time: 0.01\", \"Task ID: 106 SubTask ID: 2<br> Input: WORK.__MTF_PD_JOIN_MULTIYEAR_CI<br> Output: WORK.__MTF_PD_PIT_MULTIYEAR_ME<br> Elapsed Time: 0.0\", \"Task ID: 106 SubTask ID: 2<br> Input: WORK.__MTF_PD_JOIN_MULTIYEAR_CI<br> Output: WORK.__MTF_PD_JOIN_MULTIYEAR_CI<br> Elapsed Time: 0.0\", \"Task ID: 106 SubTask ID: 3<br> Input: WORK.__MTF_PD_PIT_MULTIYEAR_ME<br> Output: WORK.__MTF_PD_PIT_MULTIYEAR_ME<br> Elapsed Time: 0.01\", \"Task ID: 107 SubTask ID: 1<br> Input: WORK.__MTF_PD_JOIN_MULTIYEAR_CI<br> Output: WORK.__MTF_PD_JOIN_MULTIYEAR_CI_ME<br> Elapsed Time: 0.02\", \"Task ID: 107 SubTask ID: 1<br> Input: WORK.__MTF_PD_PIT_MULTIYEAR_ME<br> Output: WORK.__MTF_PD_JOIN_MULTIYEAR_CI_ME<br> Elapsed Time: 0.02\", \"Task ID: 154 SubTask ID: 1<br> Input: WORK.__MTF_PD_PIT_MULTIYEAR_ME<br> Output: WORK.TEST_PD_NON_IN<br> Elapsed Time: 0.14\", \"Task ID: 108 SubTask ID: 1<br> Input: WORK.__MTF_PD_JOIN_MULTIYEAR_CI_ME<br> Output: WORK.__MTF_PD_PIT_CONCLUSION<br> Elapsed Time: 0.01\", \"Task ID: 110 SubTask ID: 1<br> Input: WORK.__MTF_PD_PIT_CONCLUSION<br> Output: WORK.TEST_PD_PIT_U<br> Elapsed Time: 0.01\", \"Task ID: 110 SubTask ID: 1<br> Input: WORK.__MTF_PD_PIT_CONCLUSION<br> Output: WORK.TEST_PD_PIT<br> Elapsed Time: 0.01\", \"Task ID: 109 SubTask ID: 1<br> Input: No Input<br> Output: WORK.'SASTMP-000000526'<br> Elapsed Time: 0.01\", \"Task ID: 113 SubTask ID: 1<br> Input: WORK.__MTF_PD_NON_TO_RATINGS<br> Output: WORK.__MTF_PD_NON_RATING_MIGRATIONS<br> Elapsed Time: 0.33\", \"Task ID: 113 SubTask ID: 1<br> Input: WORK.__MTF_PD_NON_TO_RATINGS<br> Output: WORK.'SASTMP-000000537'<br> Elapsed Time: 0.33\", \"Task ID: 119 SubTask ID: 1<br> Input: WORK.__MTF_PD_NON_TO_RATINGS<br> Output: WORK.__MTF_PD_NON_RATING_MIGRATIONS<br> Elapsed Time: 2.03\", \"Task ID: 119 SubTask ID: 1<br> Input: WORK.__MTF_PD_NON_TO_RATINGS<br> Output: WORK.'SASTMP-000000550'<br> Elapsed Time: 2.03\", \"Task ID: 125 SubTask ID: 1<br> Input: WORK.__MTF_PD_NON_TO_RATINGS<br> Output: WORK.__MTF_PD_NON_RATING_MIGRATIONS<br> Elapsed Time: 0.29\", \"Task ID: 125 SubTask ID: 1<br> Input: WORK.__MTF_PD_NON_TO_RATINGS<br> Output: WORK.'SASTMP-000000563'<br> Elapsed Time: 0.29\", \"Task ID: 131 SubTask ID: 1<br> Input: WORK.__MTF_PD_NON_TO_RATINGS<br> Output: WORK.__MTF_PD_NON_RATING_MIGRATIONS<br> Elapsed Time: 0.26\", \"Task ID: 131 SubTask ID: 1<br> Input: WORK.__MTF_PD_NON_TO_RATINGS<br> Output: WORK.'SASTMP-000000576'<br> Elapsed Time: 0.26\", \"Task ID: 137 SubTask ID: 1<br> Input: WORK.__MTF_PD_NON_TO_RATINGS<br> Output: WORK.__MTF_PD_NON_RATING_MIGRATIONS<br> Elapsed Time: 0.24\", \"Task ID: 137 SubTask ID: 1<br> Input: WORK.__MTF_PD_NON_TO_RATINGS<br> Output: WORK.'SASTMP-000000589'<br> Elapsed Time: 0.24\", \"Task ID: 114 SubTask ID: 1<br> Input: WORK.__MTF_PD_NON_RATING_MIGRATIONS<br> Output: WORK.__MTF_PD_NON_RATING_MIGRATIONS<br> Elapsed Time: 0.09\", \"Task ID: 115 SubTask ID: 1<br> Input: WORK.__MTF_PD_NON_RATING_MIGRATIONS<br> Output: WORK.__MTF_PD_NON_RATING_MIG_COUNTS_1<br> Elapsed Time: 2.07\", \"Task ID: 116 SubTask ID: 1<br> Input: WORK.__MTF_PD_NON_RATING_MIG_COUNTS_1<br> Output: WORK.__MTF_PD_NON_MIGRATION_TEMPLATE<br> Elapsed Time: 0.02\", \"Task ID: 117 SubTask ID: 1<br> Input: WORK.__MTF_PD_NON_RATING_MIG_COUNTS_1<br> Output: WORK.__MTF_PD_NON_RATING_MIG_RES_1<br> Elapsed Time: 0.1\", \"Task ID: 117 SubTask ID: 1<br> Input: WORK.__MTF_PD_NON_RATING_MIG_COUNTS_1<br> Output: WORK.'SASTMP-000000545'<br> Elapsed Time: 0.1\", \"Task ID: 117 SubTask ID: 1<br> Input: WORK.__MTF_PD_NON_MIGRATION_TEMPLATE<br> Output: WORK.__MTF_PD_NON_RATING_MIG_RES_1<br> Elapsed Time: 0.1\", \"Task ID: 117 SubTask ID: 1<br> Input: WORK.__MTF_PD_NON_MIGRATION_TEMPLATE<br> Output: WORK.'SASTMP-000000545'<br> Elapsed Time: 0.1\", \"Task ID: 118 SubTask ID: 1<br> Input: WORK.__MTF_PD_NON_RATING_MIG_RES_1<br> Output: WORK.__MTF_PD_NON_RATING_MIG_RES2_1<br> Elapsed Time: 0.16\", \"Task ID: 143 SubTask ID: 1<br> Input: WORK.__MTF_PD_NON_RATING_MIG_RES2_1<br> Output: WORK.__MTF_PD_NON_RATING_MIG_RES2<br> Elapsed Time: 0.16\", \"Task ID: 120 SubTask ID: 1<br> Input: WORK.__MTF_PD_NON_RATING_MIGRATIONS<br> Output: WORK.__MTF_PD_NON_RATING_MIGRATIONS<br> Elapsed Time: 0.08\", \"Task ID: 121 SubTask ID: 1<br> Input: WORK.__MTF_PD_NON_RATING_MIGRATIONS<br> Output: WORK.__MTF_PD_NON_RATING_MIG_COUNTS_2<br> Elapsed Time: 0.06\", \"Task ID: 122 SubTask ID: 1<br> Input: WORK.__MTF_PD_NON_RATING_MIG_COUNTS_2<br> Output: WORK.__MTF_PD_NON_MIGRATION_TEMPLATE<br> Elapsed Time: 0.03\", \"Task ID: 123 SubTask ID: 1<br> Input: WORK.__MTF_PD_NON_RATING_MIG_COUNTS_2<br> Output: WORK.__MTF_PD_NON_RATING_MIG_RES_2<br> Elapsed Time: 0.06\", \"Task ID: 123 SubTask ID: 1<br> Input: WORK.__MTF_PD_NON_RATING_MIG_COUNTS_2<br> Output: WORK.'SASTMP-000000558'<br> Elapsed Time: 0.06\", \"Task ID: 123 SubTask ID: 1<br> Input: WORK.__MTF_PD_NON_MIGRATION_TEMPLATE<br> Output: WORK.__MTF_PD_NON_RATING_MIG_RES_2<br> Elapsed Time: 0.06\", \"Task ID: 123 SubTask ID: 1<br> Input: WORK.__MTF_PD_NON_MIGRATION_TEMPLATE<br> Output: WORK.'SASTMP-000000558'<br> Elapsed Time: 0.06\", \"Task ID: 124 SubTask ID: 1<br> Input: WORK.__MTF_PD_NON_RATING_MIG_RES_2<br> Output: WORK.__MTF_PD_NON_RATING_MIG_RES2_2<br> Elapsed Time: 0.16\", \"Task ID: 143 SubTask ID: 1<br> Input: WORK.__MTF_PD_NON_RATING_MIG_RES2_2<br> Output: WORK.__MTF_PD_NON_RATING_MIG_RES2<br> Elapsed Time: 0.16\", \"Task ID: 126 SubTask ID: 1<br> Input: WORK.__MTF_PD_NON_RATING_MIGRATIONS<br> Output: WORK.__MTF_PD_NON_RATING_MIGRATIONS<br> Elapsed Time: 0.06\", \"Task ID: 127 SubTask ID: 1<br> Input: WORK.__MTF_PD_NON_RATING_MIGRATIONS<br> Output: WORK.__MTF_PD_NON_RATING_MIG_COUNTS_3<br> Elapsed Time: 0.05\", \"Task ID: 128 SubTask ID: 1<br> Input: WORK.__MTF_PD_NON_RATING_MIG_COUNTS_3<br> Output: WORK.__MTF_PD_NON_MIGRATION_TEMPLATE<br> Elapsed Time: 0.02\", \"Task ID: 129 SubTask ID: 1<br> Input: WORK.__MTF_PD_NON_RATING_MIG_COUNTS_3<br> Output: WORK.__MTF_PD_NON_RATING_MIG_RES_3<br> Elapsed Time: 0.06\", \"Task ID: 129 SubTask ID: 1<br> Input: WORK.__MTF_PD_NON_RATING_MIG_COUNTS_3<br> Output: WORK.'SASTMP-000000571'<br> Elapsed Time: 0.06\", \"Task ID: 129 SubTask ID: 1<br> Input: WORK.__MTF_PD_NON_MIGRATION_TEMPLATE<br> Output: WORK.__MTF_PD_NON_RATING_MIG_RES_3<br> Elapsed Time: 0.06\", \"Task ID: 129 SubTask ID: 1<br> Input: WORK.__MTF_PD_NON_MIGRATION_TEMPLATE<br> Output: WORK.'SASTMP-000000571'<br> Elapsed Time: 0.06\", \"Task ID: 130 SubTask ID: 1<br> Input: WORK.__MTF_PD_NON_RATING_MIG_RES_3<br> Output: WORK.__MTF_PD_NON_RATING_MIG_RES2_3<br> Elapsed Time: 0.17\", \"Task ID: 143 SubTask ID: 1<br> Input: WORK.__MTF_PD_NON_RATING_MIG_RES2_3<br> Output: WORK.__MTF_PD_NON_RATING_MIG_RES2<br> Elapsed Time: 0.16\", \"Task ID: 132 SubTask ID: 1<br> Input: WORK.__MTF_PD_NON_RATING_MIGRATIONS<br> Output: WORK.__MTF_PD_NON_RATING_MIGRATIONS<br> Elapsed Time: 0.07\", \"Task ID: 133 SubTask ID: 1<br> Input: WORK.__MTF_PD_NON_RATING_MIGRATIONS<br> Output: WORK.__MTF_PD_NON_RATING_MIG_COUNTS_4<br> Elapsed Time: 0.04\", \"Task ID: 134 SubTask ID: 1<br> Input: WORK.__MTF_PD_NON_RATING_MIG_COUNTS_4<br> Output: WORK.__MTF_PD_NON_MIGRATION_TEMPLATE<br> Elapsed Time: 0.02\", \"Task ID: 135 SubTask ID: 1<br> Input: WORK.__MTF_PD_NON_RATING_MIG_COUNTS_4<br> Output: WORK.__MTF_PD_NON_RATING_MIG_RES_4<br> Elapsed Time: 1.55\", \"Task ID: 135 SubTask ID: 1<br> Input: WORK.__MTF_PD_NON_RATING_MIG_COUNTS_4<br> Output: WORK.'SASTMP-000000584'<br> Elapsed Time: 1.55\", \"Task ID: 135 SubTask ID: 1<br> Input: WORK.__MTF_PD_NON_MIGRATION_TEMPLATE<br> Output: WORK.__MTF_PD_NON_RATING_MIG_RES_4<br> Elapsed Time: 1.55\", \"Task ID: 135 SubTask ID: 1<br> Input: WORK.__MTF_PD_NON_MIGRATION_TEMPLATE<br> Output: WORK.'SASTMP-000000584'<br> Elapsed Time: 1.55\", \"Task ID: 136 SubTask ID: 1<br> Input: WORK.__MTF_PD_NON_RATING_MIG_RES_4<br> Output: WORK.__MTF_PD_NON_RATING_MIG_RES2_4<br> Elapsed Time: 0.16\", \"Task ID: 143 SubTask ID: 1<br> Input: WORK.__MTF_PD_NON_RATING_MIG_RES2_4<br> Output: WORK.__MTF_PD_NON_RATING_MIG_RES2<br> Elapsed Time: 0.16\", \"Task ID: 138 SubTask ID: 1<br> Input: WORK.__MTF_PD_NON_RATING_MIGRATIONS<br> Output: WORK.__MTF_PD_NON_RATING_MIGRATIONS<br> Elapsed Time: 0.05\", \"Task ID: 139 SubTask ID: 1<br> Input: WORK.__MTF_PD_NON_RATING_MIGRATIONS<br> Output: WORK.__MTF_PD_NON_RATING_MIG_COUNTS_5<br> Elapsed Time: 1.15\", \"Task ID: 140 SubTask ID: 1<br> Input: WORK.__MTF_PD_NON_RATING_MIG_COUNTS_5<br> Output: WORK.__MTF_PD_NON_MIGRATION_TEMPLATE<br> Elapsed Time: 0.02\", \"Task ID: 141 SubTask ID: 1<br> Input: WORK.__MTF_PD_NON_RATING_MIG_COUNTS_5<br> Output: WORK.__MTF_PD_NON_RATING_MIG_RES_5<br> Elapsed Time: 0.05\", \"Task ID: 141 SubTask ID: 1<br> Input: WORK.__MTF_PD_NON_RATING_MIG_COUNTS_5<br> Output: WORK.'SASTMP-000000597'<br> Elapsed Time: 0.05\", \"Task ID: 141 SubTask ID: 1<br> Input: WORK.__MTF_PD_NON_MIGRATION_TEMPLATE<br> Output: WORK.__MTF_PD_NON_RATING_MIG_RES_5<br> Elapsed Time: 0.05\", \"Task ID: 141 SubTask ID: 1<br> Input: WORK.__MTF_PD_NON_MIGRATION_TEMPLATE<br> Output: WORK.'SASTMP-000000597'<br> Elapsed Time: 0.05\", \"Task ID: 142 SubTask ID: 1<br> Input: WORK.__MTF_PD_NON_RATING_MIG_RES_5<br> Output: WORK.__MTF_PD_NON_RATING_MIG_RES2_5<br> Elapsed Time: 0.16\", \"Task ID: 143 SubTask ID: 1<br> Input: WORK.__MTF_PD_NON_RATING_MIG_RES2_5<br> Output: WORK.__MTF_PD_NON_RATING_MIG_RES2<br> Elapsed Time: 0.16\", \"Task ID: 145 SubTask ID: 1<br> Input: WORK.__MTF_PD_NON_RATING_MIG_RES2<br> Output: WORK.__MTF_PD_MARK_RATING_MIG_AVG1<br> Elapsed Time: 0.12\", \"Task ID: 148 SubTask ID: 1<br> Input: WORK.__MTF_PD_NON_RATING_MIG_RES2<br> Output: WORK.__MTF_PD_NON_RATING_MIG_RES3_1<br> Elapsed Time: 0.08\", \"Task ID: 148 SubTask ID: 1<br> Input: WORK.__MTF_PD_NON_RATING_MIG_RES2<br> Output: WORK.'SASTMP-000000611'<br> Elapsed Time: 0.08\", \"Task ID: 147 SubTask ID: 1<br> Input: WORK.__MTF_PD_NON_RATING_PD_TTC<br> Output: WORK.TEST_PD_MARK_IN<br> Elapsed Time: 0.03\", \"Task ID: 149 SubTask ID: 1<br> Input: WORK.__MTF_PD_NON_RATING_PD_TTC<br> Output: WORK.__MTF_PD_NON_RATING_PD_TTC_TABLE<br> Elapsed Time: 0.01\", \"Task ID: 146 SubTask ID: 1<br> Input: WORK.__MTF_PD_MARK_RATING_MIG_AVG1<br> Output: WORK.__MTF_PD_MARK_RATING_MIG_AVG2<br> Elapsed Time: 0.01\", \"Task ID: 153 SubTask ID: 1<br> Input: WORK.__MTF_PD_MARK_RATING_MIG_AVG1<br> Output: WORK.__MTF_PD_MARK_RATING_MIG_AVG1_20<br> Elapsed Time: 0.01\", \"Task ID: 147 SubTask ID: 1<br> Input: WORK.__MTF_PD_MARK_RATING_MIG_AVG2<br> Output: WORK.TEST_PD_MARK_IN<br> Elapsed Time: 0.03\", \"Task ID: 154 SubTask ID: 1<br> Input: WORK.__MTF_PD_NON_RATING_MIG_RES3_1<br> Output: WORK.TEST_PD_NON_IN<br> Elapsed Time: 0.14\", \"Task ID: 152 SubTask ID: 1<br> Input: WORK.__MTF_PD_NON_RATING_PD_TTC_TABLE<br> Output: WORK.__MTF_PD_NON_JOINED_PDS<br> Elapsed Time: 2.87\", \"Task ID: 152 SubTask ID: 1<br> Input: WORK.__MTF_PD_NON_RATING_PD_TTC_TABLE<br> Output: WORK.'SASTMP-000000618'<br> Elapsed Time: 2.87\", \"Task ID: 152 SubTask ID: 1<br> Input: WORK.__MTF_PD_NON_ONEYEAR_PIT_PD_FULL<br> Output: WORK.__MTF_PD_NON_JOINED_PDS<br> Elapsed Time: 2.87\", \"Task ID: 152 SubTask ID: 1<br> Input: WORK.__MTF_PD_NON_ONEYEAR_PIT_PD_FULL<br> Output: WORK.'SASTMP-000000618'<br> Elapsed Time: 2.87\", \"Task ID: 152 SubTask ID: 1<br> Input: WORK.__MTF_PD_NON_ONEYEAR_PIT_PD_DEF<br> Output: WORK.__MTF_PD_NON_JOINED_PDS<br> Elapsed Time: 2.87\", \"Task ID: 152 SubTask ID: 1<br> Input: WORK.__MTF_PD_NON_ONEYEAR_PIT_PD_DEF<br> Output: WORK.'SASTMP-000000618'<br> Elapsed Time: 2.87\", \"Task ID: 154 SubTask ID: 1<br> Input: WORK.__MTF_PD_NON_JOINED_PDS<br> Output: WORK.TEST_PD_NON_IN<br> Elapsed Time: 0.14\", \"Task ID: 154 SubTask ID: 1<br> Input: WORK.__MTF_PD_MARK_RATING_MIG_AVG1_20<br> Output: WORK.TEST_PD_NON_IN<br> Elapsed Time: 0.14\", \"Task ID: 157 SubTask ID: 1<br> Input: WORK.__MTF_PD_PIT_ODR_WIDE_DIS<br> Output: WORK.__MTF_PD_PIT_ODR_WIDE_TP_DIS<br> Elapsed Time: 0.03\", \"Task ID: 158 SubTask ID: 1<br> Input: WORK.__MTF_PD_PIT_ODR_WIDE_TP_DIS<br> Output: WORK.__MTF_PD_PIT_ODR_WIDE_TP_DIS<br> Elapsed Time: 0.08\", \"Task ID: 159 SubTask ID: 2<br> Input: WORK.ZFMMEM<br> Output: WORK.ZFMMEM<br> Elapsed Time: 0.34\", \"Task ID: 159 SubTask ID: 1<br> Input: WORK.__MTF_PD_PIT_ODR_WIDE_TP_DIS<br> Output: WORK.__MTF_PD_PIT_ODR_LONG_DIS<br> Elapsed Time: 0.32\", \"Task ID: 160 SubTask ID: 1<br> Input: WORK.__MTF_PD_PIT_ODR_LONG_DIS<br> Output: WORK.TEST_PD_DIS_IN<br> Elapsed Time: 0.21\", \"Task ID: 161 SubTask ID: 1<br> Input: No Input<br> Output: WORK.'SASTMP-000000636'<br> Elapsed Time: 0.47\", \"Task ID: 162 SubTask ID: 1<br> Input: No Input<br> Output: WORK.'SASTMP-000000638'<br> Elapsed Time: 0.04\", \"Task ID: 163 SubTask ID: 1<br> Input: No Input<br> Output: WORK.'SASTMP-000000640'<br> Elapsed Time: 0.01\"], \"textposition\": \"top center\", \"type\": \"scatter\", \"x\": [0.5, 1.5, 1.5, 1.5, 2.0, 2.0, 2.5, 3.5, 3.0, 1.5, 12.5, 3.0, 4.0, 4.0, 2.0, 30.5, 4.0, 7.5, 9.0, 9.5, 8.5, 9.5, 12.5, 12.5, 13.5, 13.5, 13.5, 14.5, 63.0, 63.5, 63.5, 66.5, 66.5, 69.5, 69.5, 72.5, 72.5, 75.5, 75.5, 15.5, 15.5, 15.5, 58.0, 63.0, 63.0, 63.0, 85.5, 17.0, 19.0, 18.5, 9.0, 19.0, 19.5, 20.5, 27.0, 63.0, 21.5, 22.5, 23.5, 25.5, 26.5, 27.5, 26.5, 27.5, 28.5, 29.0, 30.5, 30.5, 31.5, 32.0, 51.5, 59.0, 33.5, 34.5, 35.5, 35.5, 36.0, 53.0, 54.0, 60.5, 61.5, 37.0, 39.5, 41.5, 43.5, 45.5, 37.5, 38.0, 38.5, 39.0, 39.5, 48.0, 41.0, 43.0, 45.0, 47.0, 48.5, 39.0, 39.5, 41.0, 40.0, 40.5, 43.5, 41.0, 41.5, 46.0, 42.0, 48.5, 43.5, 44.5, 45.5, 47.5, 48.5, 49.5, 51.5, 52.5, 53.5, 55.5, 56.5, 57.5, 59.5, 108.0, 77.0, 103.0, 63.0, 64.0, 64.0, 65.0, 66.5, 66.5, 70.5, 71.5, 71.5, 72.5, 74.0, 74.0, 61.5, 62.5, 65.5, 68.0, 68.0, 68.5, 67.5, 68.5, 69.5, 69.5, 70.5, 72.0, 71.0, 71.5, 71.5, 71.0, 73.0, 111.0, 74.5, 75.5, 76.5, 77.5, 80.5, 83.0, 83.0, 83.5, 82.5, 83.5, 84.5, 84.5, 85.5, 87.0, 86.0, 86.5, 86.5, 86.0, 88.0, 119.0, 89.5, 91.0, 90.5, 92.5, 94.0, 94.0, 102.0, 102.0, 102.0, 94.5, 94.5, 119.0, 97.0, 95.5, 96.5, 97.5, 99.5, 100.5, 130.0, 101.5, 102.0, 102.5, 103.0, 103.5, 104.5, 105.5, 130.0, 106.0, 106.0, 106.0, 106.5, 106.5, 130.0, 107.5, 109.0, 109.0, 108.5, 112.5, 112.5, 115.5, 115.5, 118.5, 118.5, 121.5, 121.5, 124.5, 124.5, 113.5, 114.5, 115.5, 116.0, 116.0, 116.5, 116.5, 117.5, 130.5, 119.5, 120.5, 121.5, 122.0, 122.0, 122.5, 122.5, 123.5, 133.5, 125.5, 126.5, 127.5, 128.0, 128.0, 128.5, 128.5, 129.5, 136.5, 131.5, 132.5, 133.5, 134.0, 134.0, 134.5, 134.5, 135.5, 139.5, 137.5, 138.5, 139.5, 140.0, 140.0, 140.5, 140.5, 141.5, 142.5, 144.0, 145.5, 145.5, 145.5, 146.5, 145.5, 149.0, 146.5, 151.0, 150.5, 150.5, 151.0, 151.0, 151.5, 151.5, 153.0, 153.5, 156.5, 157.5, 158.0, 158.5, 159.5, 160.5, 161.5, 162.5], \"xaxis\": \"x\", \"y\": [64.0, 64.0, 41.0, 40.5, 41.5, 41.0, 42.5, 42.5, 36.5, 14.5, 13.0, 19.5, 55.0, 54.0, 57.0, 57.0, 56.5, 56.0, 45.5, 47.5, 77.0, 76.5, 41.5, 41.0, 46.0, 45.5, 46.5, 49.0, 39.0, 39.5, 39.0, 40.5, 40.0, 42.0, 41.5, 43.5, 43.0, 44.5, 44.0, 49.5, 50.0, 50.0, 30.0, 40.5, 39.5, 40.0, 49.5, 50.5, 51.0, 51.0, 65.5, 66.0, 51.0, 51.0, 66.0, 30.5, 69.0, 70.0, 70.0, 16.0, 16.0, 16.0, 70.0, 43.0, 16.0, 16.0, 16.5, 16.0, 17.0, 17.0, 20.0, 21.0, 17.0, 17.0, 66.0, 17.0, 17.0, 20.0, 21.0, 21.0, 22.0, 17.0, 20.0, 20.0, 20.0, 20.0, 17.0, 17.0, 18.5, 19.0, 19.5, 66.0, 20.0, 20.0, 20.0, 20.0, 20.0, 17.5, 19.0, 20.5, 20.5, 21.0, 22.0, 21.5, 22.0, 22.5, 22.5, 23.0, 23.0, 70.0, 71.0, 23.0, 71.0, 72.0, 23.0, 72.0, 73.0, 23.0, 73.0, 74.0, 23.0, 65.5, 25.0, 18.5, 57.0, 57.5, 57.0, 57.5, 41.0, 40.5, 58.5, 59.0, 58.5, 59.0, 42.0, 41.5, 74.0, 74.0, 57.0, 58.0, 57.5, 40.0, 58.0, 58.0, 58.5, 58.0, 59.0, 59.5, 23.5, 24.5, 24.0, 59.5, 60.0, 19.5, 60.0, 74.0, 75.0, 75.0, 60.0, 61.0, 60.5, 42.5, 61.0, 61.0, 61.5, 61.0, 62.0, 62.5, 25.5, 26.5, 26.0, 62.5, 63.0, 20.5, 63.0, 63.0, 77.0, 63.0, 45.5, 45.0, 47.0, 46.0, 46.5, 27.5, 27.0, 20.5, 28.0, 77.0, 78.0, 78.0, 19.0, 10.0, 12.5, 10.0, 10.0, 10.0, 10.0, 10.0, 10.0, 10.0, 12.5, 11.0, 10.5, 12.5, 12.0, 13.0, 14.0, 13.0, 13.5, 13.0, 66.0, 31.5, 31.0, 32.5, 32.0, 34.0, 33.5, 35.5, 35.0, 36.5, 36.0, 32.0, 32.0, 32.0, 32.5, 32.0, 32.5, 32.0, 33.0, 39.0, 34.5, 35.0, 35.0, 35.5, 35.0, 35.5, 35.0, 36.0, 40.5, 37.0, 37.0, 37.0, 37.5, 37.0, 37.5, 37.0, 38.5, 42.0, 40.0, 40.0, 40.0, 40.5, 40.0, 40.5, 40.0, 41.0, 43.0, 42.0, 42.0, 43.0, 43.5, 43.0, 44.5, 44.0, 45.0, 45.0, 45.0, 45.5, 45.0, 14.0, 14.0, 29.5, 47.0, 14.0, 30.5, 14.5, 14.0, 14.5, 14.0, 14.5, 14.0, 15.0, 32.0, 49.0, 49.0, 65.0, 49.0, 32.0, 66.0, 67.0, 68.0], \"yaxis\": \"y\"}, {\"cells\": {\"align\": [\"left\"], \"fill\": {\"color\": \"#F5F8FF\"}, \"font\": {\"size\": 10}, \"line\": {\"color\": \"darkslategray\"}, \"values\": [[1, 2, 3, 4, 5, 6, 7, 8, 9, 10, 11, 12, 13, 14, 15, 16, 17, 18, 19, 20, 21, 22, 23, 24, 25, 26, 27, 28, 29, 30, 31, 32, 33, 34, 35, 36, 37, 38, 39, 40, 41, 42, 43, 44, 45, 46, 47, 48, 49, 50, 51, 52, 53, 54, 55, 56, 57, 58, 59, 60, 61, 62, 63, 64, 65, 66, 67, 68, 69, 70, 71, 72, 73, 74, 75, 76, 77, 78, 79, 80, 81, 82, 83, 84, 85, 86, 87, 88, 89, 90, 91, 92, 93, 94, 95, 96, 97, 98, 99, 100, 101, 102, 103, 104, 105, 106, 107, 108, 109, 110, 111, 112, 113, 114, 115, 116, 117, 118, 119, 120, 121, 122, 123, 124, 125, 126, 127, 128, 129, 130, 131, 132, 133, 134, 135, 136, 137, 138, 139, 140, 141, 142, 143, 144, 145, 146, 147, 148, 149, 150, 151, 152, 153, 154, 155, 156, 157, 158, 159, 160, 161, 162, 163], [\"<br>/*------------------------------------------------------------------------------------------------------------------------*/<br>/*1. (mandatory) PiT PD backtest execution */<br>/*------------------------------------------------------------------------------------------------------------------------*/<br>options mprint;<br>    /*1.1 Compute PiT PD backtest */<br>        <br> data work.__mtf_pd_pit_version;<br> time_stamp = datetime();<br> format time_stamp DATETIME.;<br> version = '1.7.0';<br> put 'NOTE: you are running stat library version: ' version ;<br> run;<br>;<br><br>\", \" data _null_;<br> set __mtf_pd_pit_version;<br> mtf_version = 'MTF: ' || compress(version) || ' MTF_PD_PIT_BACKTEST: ' || compress(\\\"4.00\\\");<br> call symput('__mtf_version', mtf_version );<br> _time_stamp_ = datetime();<br> call symput('__mtf_timestamp', put(_time_stamp_ , best18.));<br> RUN;<br><br>\", \" proc sql noprint;<br> create table __mtf_pd_pit_distinct_rating1 as select distinct rating_number as rating from input.pd_view where rating_number lt 20;<br> create table __mtf_pd_pit_distinct_rating2 as select distinct risk_rating as rating from input.pd_rr_rating where risk_rating lt 20;<br> select case when count(*) eq 0 then 1 else 0 end into :__if_ratings_ttc_table_ok from ((select rating from __mtf_pd_pit_distinct_rating1 except select rating from __mtf_pd_pit_distinct_rating2)) ;<br>quit;<br><br>\", \" proc sql noprint;<br> create table __mtf_pd_pit_distinct_zval1 as select distinct reporting_date as reporting_date , country_code_map as country from input.pd_view where mod(month(reporting_date), 3) eq 0;<br> create table __mtf_pd_pit_distinct_zval2 as select distinct reporting_date as reporting_date , country as country from input.pd_z_factor;<br> select case when count(*) eq 0 then 1 else 0 end into :__if_zvalues_country_ok from ((select reporting_date , country from __mtf_pd_pit_distinct_zval1 except select reporting_date , country from __mtf_pd_pit_distinct_zval2)) ;<br>quit;<br><br>\", \" proc sql noprint;<br> select count(*) into :__if_no_exposure_int from input.pd_view where os_e is missing or os_e = 0 ;<br>quit;<br><br>\", \" data _null_;<br> __significance_level_err = 0;<br> if not(0.05 gt 0 and 0.05 lt 1) then do;<br> __significance_level_err = 1;<br> put \\\"ERROR: Macroparameter [significance_level] must be value from interval (0, 1)\\\";<br> end;<br> __min_r_squared_threshold_nw_err = 0;<br> if not(0.7 gt 0 and 0.7 lt 1) then do;<br> __min_r_squared_threshold_nw_err = 1;<br> put \\\"ERROR: Macroparameter [min_r_squared_threshold_nw] must be value from interval (0, 1)\\\";<br> end;<br> __min_r_squared_threshold_ew_err = 0;<br> if not(0.4 gt 0 and 0.4 lt 1) then do;<br> __min_r_squared_threshold_ew_err = 1;<br> put \\\"ERROR: Macroparameter [min_r_squared_threshold_ew] must be value from interval (0, 1)\\\";<br> end;<br> __backtest_level_err = 0;<br> if upcase(strip(\\\"PORTFOLIO\\\")) not in (\\\"PORTFOLIO\\\", \\\"INVESTMENT\\\", \\\"SPECULATIVE\\\") then do;<br> __backtest_level_err = 1;<br> put \\\"ERROR: Macroparameter [backtest_level] must be value from set {PORTFOLIO, INVESTMENT, SPECULATIVE}\\\";<br> end;<br> __maximum_time_horizon_err = 0;<br> if mod(5, 1) ne 0 then do;<br> __maximum_time_horizon_err = 1;<br> put \\\"ERROR: Macroparameter [maximum_time_horizon] must be integer.\\\";<br> end;<br> __retail_indicator_err = 0;<br> if 0 not in (0, 1) then do;<br> __retail_indicator_err = 1;<br> put \\\"ERROR: Macroparameter [retail_indicator] must be value from set {0, 1}\\\";<br> end;<br> __interpolation_indicator_err = 0;<br> if 0 not in (0, 1) then do;<br> __interpolation_indicator_err = 1;<br> put \\\"ERROR: Macroparameter [interpolation_indicator] must be value from set {0, 1}\\\";<br> end;<br> __subinterpolation_indicator_err = 0;<br> if 0 not in (0, 1) then do;<br> __subinterpolation_indicator_err = 1;<br> put \\\"ERROR: Macroparameter [sub_interpolation_indicator] must be value from set {0, 1}\\\";<br> end;<br> __seasoning_indicator_err = 0;<br> if 0 not in (0, 1) then do;<br> __seasoning_indicator_err = 1;<br> put \\\"ERROR: Macroparameter [seasoning_indicator] must be value from set {0, 1}\\\";<br> end;<br> __if_rename_numbers_ttc_err = 0;<br> if 1 not in (0, 1) then do;<br> __if_rename_numbers_ttc_err = 1;<br> put \\\"ERROR: Macroparameter [if_rename_numbers_ttc] must be value from set {0, 1}\\\";<br> end;<br> __min_speculative_rating_err = 0;<br> if upcase(strip(\\\"PORTFOLIO\\\")) in (\\\"INVESTMENT\\\", \\\"SPECULATIVE\\\") then do;<br> if not(10 ge 1 and 10 le 20 and mod(10, 1) eq 0 ) then do;<br> __min_speculative_rating_err = 1;<br> put \\\"ERROR: Macroparameter [min_speculative_rating] must be integer value from interval [1, 20]\\\";<br> end;<br> end;<br> __pit_adjustment_indicator_err = 0;<br> if 1 not in (0, 1) then do;<br> __pit_adjustment_indicator_err = 1;<br> put \\\"ERROR: Macroparameter [pit_adjustment_indicator] must be value from set {0, 1}\\\";<br> end;<br> __me_approach_err = 0;<br> if 2 not in (1, 2, 3) then do;<br> __me_approach_err = 1;<br> put \\\"ERROR: Macroparameter [me_approach] must empty or be value from interval (0, 1)\\\";<br> end;<br> __mse_development_err = 0;<br> if strip(\\\"\\\") ne \\\"\\\" then do;<br> if not (input(\\\"\\\", best12.) gt 0 and input(\\\"\\\", best12.) lt 1) then do;<br> __mse_development_err = 1;<br> put \\\"ERROR: Macroparameter [mse_development] must empty or be value from interval (0, 1)\\\";<br> end;<br> end;<br> __in_tablename_new_irb_err = 0;<br> if 0 eq 1 or 0 eq 1 then do;<br> if not exist(compress(\\\"input.pd_irb_map\\\")) then do;<br> __in_tablename_new_irb_err = 1;<br> put \\\"ERROR: Table [input.pd_irb_map] does not exist\\\";<br> end;<br> end;<br> __age_of_a_loan_err = 0;<br> if 0 eq 1 then do;<br> if 1 eq 0 then do;<br> __age_of_a_loan_err = 1;<br> put \\\"ERROR: Variable [age_of_loan] does not exist in dataset [input.pd_view].\\\";<br> end;<br> end;<br> __if_ratings_new_irb_ok_err = 0;<br> if (0 eq 1 or 0 eq 1) and 1 eq 0 then do;<br> __if_ratings_new_irb_ok_err = 1;<br> put \\\"ERROR: Values of variable [rating_number] in [input.pd_view] does match values of variable [rr_rating_num] in [input.pd_irb_map].\\\";<br> end;<br> __if_ratings_ttc_table_ok_err = 0;<br> if (0 eq 0 and 0 eq 0) and 1 eq 0 then do;<br> __if_ratings_ttc_table_ok_err = 1;<br> put \\\"ERROR: Values of variable [rating_number] in [input.pd_view] does match values of variable [risk_rating] in [input.pd_rr_rating].\\\";<br> end;<br> __if_zvalues_country_ok_err = 0;<br> if 1 eq 0 then do;<br> __if_zvalues_country_ok_err = 1;<br> put \\\"ERROR: Values of variable [reporting_date] and [country_code_map] in [input.pd_view] does match values of variable [reporting_date] and [country] in [input.pd_z_factor].\\\";<br> end;<br> if 39968 gt 0 then do;<br> put \\\"WARNING: There are rows with [os_e] is missing or [os_e] = 0\\\";<br> end;<br> __abort_macro = 0;<br> if sum( __significance_level_err , __min_r_squared_threshold_nw_err , __min_r_squared_threshold_ew_err , __backtest_level_err , __maximum_time_horizon_err , __retail_indicator_err , __interpolation_indicator_err , __subinterpolation_indicator_err , __if_rename_numbers_ttc_err , __min_speculative_rating_err , __pit_adjustment_indicator_err , __me_approach_err , __mse_development_err , __in_tablename_new_irb_err , __age_of_a_loan_err , __if_ratings_new_irb_ok_err , __if_ratings_ttc_table_ok_err , __if_zvalues_country_ok_err ) gt 0 then do;<br> __abort_macro = 1;<br> end;<br> call symputx('__abort_macro', __abort_macro);<br> run;<br><br>\", \" PROC SQL NOPRINT;<br> CREATE table __mtf_pd_pit_view_input AS SELECT * FROM input.pd_view WHERE pd_scope_ind = 1 ;<br>QUIT;<br><br>\", \" proc sql noprint;<br> select max(reporting_date) into :__max_reporting_date from __mtf_pd_pit_view_input;<br> quit;<br><br>\", \" data work.__mtf_pd_pit_version;<br> time_stamp = datetime();<br> format time_stamp DATETIME.;<br> version = '1.7.0';<br> put 'NOTE: you are running stat library version: ' version ;<br> run;<br>;<br><br>\", \" data _null_;<br> set work.__mtf_pd_pit_version;<br> mtf_version = 'MTF: ' || compress(version) || ' MTF_PD_PIT_BACKTEST: ' || compress(\\\"3.02\\\");<br> call symput('__mtf_version', mtf_version );<br> _time_stamp_ = datetime();<br> call symput('__mtf_timestamp', put(_time_stamp_ , best18.));<br> RUN;<br><br>\", \" proc sql noprint;<br> select max(reporting_date) into :__max_reporting_date from work.__mtf_pd_pit_view_input;<br> quit;<br><br>\", \" data work.__mtf_pd_pit_view2;<br> set work.__mtf_pd_pit_view_input;<br> maturity_date = maturity_date;<br> format maturity_date date. run;<br><br>\", \" proc sort data=work.__mtf_pd_pit_view2(keep= reporting_date customer_id country_code_map rating_number default_ind os_e into_default_12_m maturity_date ) OUT=work.__MTF_PD_PIT_PROC_MULTIYEAR_DATA;<br> by customer_id descending reporting_date;<br> run;<br><br>\", \" data work.__MTF_PD_PIT_PROC_MULTIYEAR_DATA ( drop= next_intodefault_date i __full_window_1-__full_window_6 ) WORK.__MTF_PD_NON_MIGRATIONS_IN ( keep = customer_id reporting_date rating_number intodefault_flag_1-intodefault_flag_6 ) WORK.__MTF_PD_PIT_PROC_ONEYEAR_DATA( keep= reporting_date os_e );<br> set work.__MTF_PD_PIT_PROC_MULTIYEAR_DATA;<br> retain next_default_date next_intodefault_date final_reporting_date;<br> by customer_id;<br> country_code_map=upcase(strip(country_code_map));<br> if first.customer_id then do;<br> next_intodefault_date=.;<br> final_reporting_date = reporting_date;<br> end;<br> if into_default_12_m = 1 then next_intodefault_date = reporting_date;<br> array intodefault_array {6} intodefault_flag_1-intodefault_flag_6;<br> array intoexit_array {6} intoexit_flag_1-intoexit_flag_6;<br> array __full_window {6} __full_window_1-__full_window_6;<br> do i = 1 to 6;<br> intodefault_array{i} = ifn(next_intodefault_date =., 0, intck('month', reporting_date, next_intodefault_date) <= (i-1)*12);<br> intoexit_array{i} = intck('month', reporting_date, final_reporting_date) < i*12;<br> __full_window{i} = intck('month', reporting_date, 21914) >= i*12;<br> end;<br> __full_window_sum=sum(of __full_window(*));<br> marginal_intodefault_flag_1 = intodefault_flag_1;<br> array marginal_intodefault_array {5} marginal_intodefault_flag_2-marginal_intodefault_flag_6;<br> do i = 1 to 6-1;<br> marginal_intodefault_array {i} = intodefault_array{i+1} - intodefault_array{i};<br> end;<br> array performing_array {6} performing_flag_1-performing_flag_6;<br> do i = 1 to 6;<br> performing_array{i} = (1-intodefault_array{i})*(1-intoexit_array{i});<br> end;<br> performing_flag_1 = 1;<br> rating_number = ifn(rating_number < 20, rating_number, 20);<br> if mod(month(reporting_date), 3) eq 0 then do;<br> output WORK.__MTF_PD_NON_MIGRATIONS_IN;<br> if __full_window_sum gt 0 and default_ind eq 0 then do;<br> output work.__MTF_PD_PIT_PROC_MULTIYEAR_DATA;<br> end;<br> if intodefault_flag_1 = 1 then do;<br> output __MTF_PD_PIT_PROC_ONEYEAR_DATA;<br> end;<br> end;<br> format final_reporting_date date9.;<br> run;<br><br>\", \" proc sort data=work.__MTF_PD_PIT_PROC_MULTIYEAR_DATA out=work.__MTF_PD_PIT_PROC_MULTIYEAR_DATA;<br> by reporting_date rating_number country_code_map;<br> run;<br><br>\", \" proc sql noprint _method;<br> create table WORK.__MTF_PD_PIT_ODR_WIDE as select reporting_date , sum(marginal_intodefault_flag_1) as defaulted_nw_1 , sum(marginal_intodefault_flag_1*os_e) as defaulted_ew_1 , sum(performing_flag_1) as total_nw_1 , sum(performing_flag_1*os_e) as total_ew_1 , intck('month', reporting_date, 21914) >= 1*12 as full_window_1 , (case when calculated full_window_1 then (calculated defaulted_nw_1 / calculated total_nw_1) else . end) as DR_nw_1 format percent10.2 , (case when calculated full_window_1 then (calculated defaulted_ew_1 / calculated total_ew_1) else . end) as DR_ew_1 format percent10.2 , sum(intodefault_flag_1) as cum_defaulted_nw_1 , sum(os_e*intodefault_flag_1) as cum_defaulted_ew_1 , sum(marginal_intodefault_flag_2) as defaulted_nw_2 , sum(marginal_intodefault_flag_2*os_e) as defaulted_ew_2 , sum(performing_flag_2) as total_nw_2 , sum(performing_flag_2*os_e) as total_ew_2 , intck('month', reporting_date, 21914) >= 2*12 as full_window_2 , (case when calculated full_window_2 then (calculated defaulted_nw_2 / calculated total_nw_2) * (1-calculated DR_nw_1) + calculated DR_nw_1 else . end) as DR_nw_2 format percent10.2 , (case when calculated full_window_2 then (calculated defaulted_ew_2 / calculated total_ew_2) * (1-calculated DR_ew_1) + calculated DR_ew_1 else . end) as DR_ew_2 format percent10.2 , sum(intodefault_flag_2) as cum_defaulted_nw_2 , sum(os_e*intodefault_flag_2) as cum_defaulted_ew_2 , sum(marginal_intodefault_flag_3) as defaulted_nw_3 , sum(marginal_intodefault_flag_3*os_e) as defaulted_ew_3 , sum(performing_flag_3) as total_nw_3 , sum(performing_flag_3*os_e) as total_ew_3 , intck('month', reporting_date, 21914) >= 3*12 as full_window_3 , (case when calculated full_window_3 then (calculated defaulted_nw_3 / calculated total_nw_3) * (1-calculated DR_nw_2) + calculated DR_nw_2 else . end) as DR_nw_3 format percent10.2 , (case when calculated full_window_3 then (calculated defaulted_ew_3 / calculated total_ew_3) * (1-calculated DR_ew_2) + calculated DR_ew_2 else . end) as DR_ew_3 format percent10.2 , sum(intodefault_flag_3) as cum_defaulted_nw_3 , sum(os_e*intodefault_flag_3) as cum_defaulted_ew_3 , sum(marginal_intodefault_flag_4) as defaulted_nw_4 , sum(marginal_intodefault_flag_4*os_e) as defaulted_ew_4 , sum(performing_flag_4) as total_nw_4 , sum(performing_flag_4*os_e) as total_ew_4 , intck('month', reporting_date, 21914) >= 4*12 as full_window_4 , (case when calculated full_window_4 then (calculated defaulted_nw_4 / calculated total_nw_4) * (1-calculated DR_nw_3) + calculated DR_nw_3 else . end) as DR_nw_4 format percent10.2 , (case when calculated full_window_4 then (calculated defaulted_ew_4 / calculated total_ew_4) * (1-calculated DR_ew_3) + calculated DR_ew_3 else . end) as DR_ew_4 format percent10.2 , sum(intodefault_flag_4) as cum_defaulted_nw_4 , sum(os_e*intodefault_flag_4) as cum_defaulted_ew_4 , sum(marginal_intodefault_flag_5) as defaulted_nw_5 , sum(marginal_intodefault_flag_5*os_e) as defaulted_ew_5 , sum(performing_flag_5) as total_nw_5 , sum(performing_flag_5*os_e) as total_ew_5 , intck('month', reporting_date, 21914) >= 5*12 as full_window_5 , (case when calculated full_window_5 then (calculated defaulted_nw_5 / calculated total_nw_5) * (1-calculated DR_nw_4) + calculated DR_nw_4 else . end) as DR_nw_5 format percent10.2 , (case when calculated full_window_5 then (calculated defaulted_ew_5 / calculated total_ew_5) * (1-calculated DR_ew_4) + calculated DR_ew_4 else . end) as DR_ew_5 format percent10.2 , sum(intodefault_flag_5) as cum_defaulted_nw_5 , sum(os_e*intodefault_flag_5) as cum_defaulted_ew_5 from work.__MTF_PD_PIT_PROC_MULTIYEAR_DATA group by reporting_date ;<br>quit;<br><br>\", \" proc sql noprint _method;<br> create table WORK.__MTF_PD_PIT_outstanding_stats_1 as select distinct reporting_date , mean(os_e) as outstanding_avg_1 , std(os_e) as outstanding_stdev_1 from WORK.__MTF_PD_PIT_PROC_ONEYEAR_DATA ;<br>quit;<br><br>\", \" proc transpose data=WORK.__MTF_PD_PIT_ODR_WIDE out=WORK.__MTF_PD_PIT_ODR_WIDE_TP ;<br> by reporting_date;<br> run;<br><br>\", \" data WORK.__MTF_PD_PIT_ODR_WIDE_TP (drop= pos length _name_);<br> set WORK.__MTF_PD_PIT_ODR_WIDE_TP;<br> __time_period = input(scan(_name_,-1,'_'), best12.);<br> call scan(_name_, -1, pos, length,'_');<br> final_var_name=substr(_name_,1,pos-2);<br> run;<br><br>\", \" proc transpose data=WORK.__MTF_PD_PIT_ODR_WIDE_TP out=WORK.__MTF_PD_PIT_ODR_LONG(drop=_name_);<br> by reporting_date __time_period;<br> var col1;<br> id final_var_name;<br> run;<br><br>\", \" proc sql noprint;<br> create table work.__MTF_PD_PIT_MULTIYEAR_OBS_GRP as select a.* , b.outstanding_avg_1 , b.outstanding_stdev_1 from WORK.__MTF_PD_PIT_ODR_LONG as a inner join (select avg(outstanding_avg_1) as outstanding_avg_1 ,avg(outstanding_stdev_1) as outstanding_stdev_1 from WORK.__MTF_PD_PIT_outstanding_stats_1) as b on 1=1 ;<br>quit;<br><br>\", \" proc datasets lib = work nolist noprint memtype=all;<br> delete __mtf_pd_mark: / mt=data;<br> quit;<br>;<br><br>\", \" data work.__MTF_PD_PRED_version;<br> time_stamp = datetime();<br> format time_stamp DATETIME.;<br> version = '1.7.0';<br> put 'NOTE: you are running stat library version: ' version ;<br> run;<br>;<br><br>\", \" data _null_;<br> set __MTF_PD_PRED_version;<br> mtf_version = 'MTF: ' || compress(version) || ' MTF_PD_PIT_BACKTEST_PRED: ' || compress(\\\"1.00\\\");<br> call symput('__mtf_pred_version', mtf_pred_version );<br> _time_stamp_ = datetime();<br> call symput('__mtf_pred_timestamp', put(_time_stamp_ , best18.));<br> RUN;<br><br>\", \" data __MTF_PD_PRED_data_rating_params;<br> set input.pd_rr_rating( rename = ( migrate_to_01=migrate_to_1 migrate_to_02=migrate_to_2 migrate_to_03=migrate_to_3 migrate_to_04=migrate_to_4 migrate_to_05=migrate_to_5 migrate_to_06=migrate_to_6 migrate_to_07=migrate_to_7 migrate_to_08=migrate_to_8 migrate_to_09=migrate_to_9 ) );<br> keep risk_rating asset_correlation scaling_factor pitness migrate_to_1 migrate_to_2 migrate_to_3 migrate_to_4 migrate_to_5 migrate_to_6 migrate_to_7 migrate_to_8 migrate_to_9 migrate_to_10 migrate_to_11 migrate_to_12 migrate_to_13 migrate_to_14 migrate_to_15 migrate_to_16 migrate_to_17 migrate_to_18 migrate_to_19 migrate_to_20 ;<br>run;<br><br>\", \" proc sql noprint;<br> select max(pitness) into :__max_pitness_indicator from __MTF_PD_PRED_data_rating_params quit;<br><br>\", \" data __MTF_PD_PRED_data_ttc_tmp1;<br> do risk_rating=1 to 20;<br> output;<br> end;<br> run;<br><br>\", \" proc sql noprint;<br> create table __MTF_PD_PRED_data_ttc_tmp2 as (select risk_rating from __MTF_PD_PRED_data_ttc_tmp1) except (select risk_rating from __MTF_PD_PRED_data_rating_params) ;<br>quit;<br><br>\", \" proc sql noprint;<br> select count(*) into :__if_input_values_ttc_matrix from __MTF_PD_PRED_data_ttc_tmp2 ;<br>quit;<br><br>\", \" proc sql noprint;<br> create table __MTF_PD_PRED_data_ttc_tmp3 as select a.* , coalesce(a.risk_rating, b.risk_rating) as __risk_rating_notnull from __MTF_PD_PRED_data_rating_params a full join __MTF_PD_PRED_data_ttc_tmp2 b on a.risk_rating eq b.risk_rating ;<br>quit;<br><br>\", \" data __MTF_PD_PRED_data_nonnull __MTF_PD_PRED_data_irb_old (keep = risk_rating migrate_to_20 rename=(risk_rating = __rating_irb_old migrate_to_20 = __PD_irb_old));<br> set __MTF_PD_PRED_data_ttc_tmp3;<br> array ttc_matrix{20} migrate_to_1 - migrate_to_20;<br> _where_irb_old=1;<br> if risk_rating eq . then do;<br> do i=1 to 19;<br> if __risk_rating_notnull eq i then do;<br> ttc_matrix{i}=0.99;<br> end;<br> else do;<br> ttc_matrix{i}=0;<br> end;<br> end;<br> if risk_rating eq 20 then do;<br> ttc_matrix{20}=1;<br> end;<br> else do;<br> ttc_matrix{20} = 0.01;<br> end;<br> risk_rating = __risk_rating_notnull;<br> scaling_factor = coalesce(scaling_factor, 1);<br> pitness = 0;<br> asset_correlation = 0;<br> _where_irb_old=0;<br> end;<br> output __MTF_PD_PRED_data_nonnull;<br> if _where_irb_old eq 1 then do;<br> output __MTF_PD_PRED_data_irb_old;<br> end;<br> drop __risk_rating_notnull _where_irb_old;<br> run;<br><br>\", \" proc sql noprint;<br> create table __MTF_PD_PRED_data_asset_corr as select risk_rating as __risk_rating_from ,asset_correlation as __asset_correlation from __MTF_PD_PRED_data_nonnull ;<br>quit;<br><br>\", \" data __MTF_PD_PRED_ttc_scaled;<br> set __MTF_PD_PRED_data_nonnull;<br> array ttc_matrix{20} migrate_to_1 - migrate_to_20;<br> rowsum_ttc_matrix = sum(of ttc_matrix[*]);<br> rowsum_ttc_matrix_to_19 = rowsum_ttc_matrix - migrate_to_20;<br> if rowsum_ttc_matrix ne 0 then do;<br> ttc_matrix{20} = ttc_matrix{20}/(1/scaling_factor+(1-1/scaling_factor)*ttc_matrix{20});<br> do i=1 to 19;<br> ttc_matrix{i}=ttc_matrix{i}/rowsum_ttc_matrix_to_19*(1-ttc_matrix{20});<br> end;<br> end;<br> else do;<br> ttc_matrix{20} = 0;<br> end;<br> if risk_rating eq 20 then do;<br> do i=1 to 19;<br> ttc_matrix{i} = 0;<br> end;<br> ttc_matrix{20} = 1;<br> end;<br> drop rowsum_ttc_matrix rowsum_ttc_matrix_to_19;<br> run;<br><br>\", \" proc transpose data=__MTF_PD_PRED_ttc_scaled (KEEP=risk_rating migrate_to_:) out=__MTF_PD_PRED_ttc_scaled_T (rename=(_name_=__risk_rating_to_str col1=__probability));<br> by risk_rating;<br> run;<br><br>\", \" proc sql noprint;<br> create table __MTF_PD_PRED_ttc_scaled_long as select risk_rating as __risk_rating_from , input(compress(__risk_rating_to_str, , 'dk'), 8.) as __risk_rating_to , __probability from __MTF_PD_PRED_ttc_scaled_T order by __risk_rating_from, __risk_rating_to ;<br>quit;<br><br>\", \" proc sql noprint _method;<br> create table __MTF_PD_PRED_risk_rating_names as select distinct __risk_rating_from from __MTF_PD_PRED_ttc_scaled_long order by __risk_rating_from ;<br>quit;<br><br>\", \" proc transpose data=__MTF_PD_PRED_ttc_scaled_long out=__MTF_PD_PRED_ttc_scaled_wide_1 (drop=_name_ __risk_rating_from);<br> by __risk_rating_from;<br> id __risk_rating_to;<br> var __probability;<br> run;<br><br>\", \" data __MTF_PD_PRED_ttc_out;<br> merge __MTF_PD_PRED_risk_rating_names __MTF_PD_PRED_ttc_scaled_wide_1;<br> __time_period=1;<br> run;<br><br>\", \" proc iml;<br> * Read data into IML ;<br> use __MTF_PD_PRED_ttc_scaled_wide_1;<br> read all var _ALL_ into left_matrix;<br> close __MTF_PD_PRED_ttc_scaled_wide_1;<br> use __MTF_PD_PRED_ttc_scaled_wide_1;<br> read all var _ALL_ into right_matrix;<br> close __MTF_PD_PRED_ttc_scaled_wide_1;<br> **multiply;<br> left_right_matrix = left_matrix*right_matrix;<br> ** write result into sas data;<br> create __MTF_PD_PRED_ttc_scaled_wide_2 from left_right_matrix;<br> append from left_right_matrix;<br> close __MTF_PD_PRED_ttc_scaled_wide_2;<br> quit;<br><br>\", \" proc iml;<br> * Read data into IML ;<br> use __MTF_PD_PRED_ttc_scaled_wide_2;<br> read all var _ALL_ into left_matrix;<br> close __MTF_PD_PRED_ttc_scaled_wide_2;<br> use __MTF_PD_PRED_ttc_scaled_wide_1;<br> read all var _ALL_ into right_matrix;<br> close __MTF_PD_PRED_ttc_scaled_wide_1;<br> **multiply;<br> left_right_matrix = left_matrix*right_matrix;<br> ** write result into sas data;<br> create __MTF_PD_PRED_ttc_scaled_wide_3 from left_right_matrix;<br> append from left_right_matrix;<br> close __MTF_PD_PRED_ttc_scaled_wide_3;<br> quit;<br><br>\", \" proc iml;<br> * Read data into IML ;<br> use __MTF_PD_PRED_ttc_scaled_wide_3;<br> read all var _ALL_ into left_matrix;<br> close __MTF_PD_PRED_ttc_scaled_wide_3;<br> use __MTF_PD_PRED_ttc_scaled_wide_1;<br> read all var _ALL_ into right_matrix;<br> close __MTF_PD_PRED_ttc_scaled_wide_1;<br> **multiply;<br> left_right_matrix = left_matrix*right_matrix;<br> ** write result into sas data;<br> create __MTF_PD_PRED_ttc_scaled_wide_4 from left_right_matrix;<br> append from left_right_matrix;<br> close __MTF_PD_PRED_ttc_scaled_wide_4;<br> quit;<br><br>\", \" proc iml;<br> * Read data into IML ;<br> use __MTF_PD_PRED_ttc_scaled_wide_4;<br> read all var _ALL_ into left_matrix;<br> close __MTF_PD_PRED_ttc_scaled_wide_4;<br> use __MTF_PD_PRED_ttc_scaled_wide_1;<br> read all var _ALL_ into right_matrix;<br> close __MTF_PD_PRED_ttc_scaled_wide_1;<br> **multiply;<br> left_right_matrix = left_matrix*right_matrix;<br> ** write result into sas data;<br> create __MTF_PD_PRED_ttc_scaled_wide_5 from left_right_matrix;<br> append from left_right_matrix;<br> close __MTF_PD_PRED_ttc_scaled_wide_5;<br> quit;<br><br>\", \" data __MTF_PD_PRED_ttc_scaled_wide_2;<br> merge __MTF_PD_PRED_risk_rating_names __MTF_PD_PRED_ttc_scaled_wide_2;<br> __time_period=2;<br> run;<br><br>\", \" proc sql noprint _method;<br> create table __MTF_PD_PRED_ttc_out_tmp as select * from __MTF_PD_PRED_ttc_out union all select * from __MTF_PD_PRED_ttc_scaled_wide_2 ;<br>quit;<br><br>\", \" proc datasets lib = WORK nolist noprint memtype=all;<br> delete __MTF_PD_PRED_ttc_out / mt=data;<br> quit;<br><br>\", \" proc datasets lib=WORK nolist noprint memtype=all;<br> change __MTF_PD_PRED_ttc_out_tmp = __MTF_PD_PRED_ttc_out;<br> run;<br><br>\", \" data __MTF_PD_PRED_ttc_scaled_wide_3;<br> merge __MTF_PD_PRED_risk_rating_names __MTF_PD_PRED_ttc_scaled_wide_3;<br> __time_period=3;<br> run;<br><br>\", \" proc sql noprint _method;<br> create table __MTF_PD_PRED_ttc_out_tmp as select * from __MTF_PD_PRED_ttc_out union all select * from __MTF_PD_PRED_ttc_scaled_wide_3 ;<br>quit;<br><br>\", \" proc datasets lib = WORK nolist noprint memtype=all;<br> delete __MTF_PD_PRED_ttc_out / mt=data;<br> quit;<br><br>\", \" proc datasets lib=WORK nolist noprint memtype=all;<br> change __MTF_PD_PRED_ttc_out_tmp = __MTF_PD_PRED_ttc_out;<br> run;<br><br>\", \" data __MTF_PD_PRED_ttc_scaled_wide_4;<br> merge __MTF_PD_PRED_risk_rating_names __MTF_PD_PRED_ttc_scaled_wide_4;<br> __time_period=4;<br> run;<br><br>\", \" proc sql noprint _method;<br> create table __MTF_PD_PRED_ttc_out_tmp as select * from __MTF_PD_PRED_ttc_out union all select * from __MTF_PD_PRED_ttc_scaled_wide_4 ;<br>quit;<br><br>\", \" proc datasets lib = WORK nolist noprint memtype=all;<br> delete __MTF_PD_PRED_ttc_out / mt=data;<br> quit;<br><br>\", \" proc datasets lib=WORK nolist noprint memtype=all;<br> change __MTF_PD_PRED_ttc_out_tmp = __MTF_PD_PRED_ttc_out;<br> run;<br><br>\", \" data __MTF_PD_PRED_ttc_scaled_wide_5;<br> merge __MTF_PD_PRED_risk_rating_names __MTF_PD_PRED_ttc_scaled_wide_5;<br> __time_period=5;<br> run;<br><br>\", \" proc sql noprint _method;<br> create table __MTF_PD_PRED_ttc_out_tmp as select * from __MTF_PD_PRED_ttc_out union all select * from __MTF_PD_PRED_ttc_scaled_wide_5 ;<br>quit;<br><br>\", \" proc datasets lib = WORK nolist noprint memtype=all;<br> delete __MTF_PD_PRED_ttc_out / mt=data;<br> quit;<br><br>\", \" proc datasets lib=WORK nolist noprint memtype=all;<br> change __MTF_PD_PRED_ttc_out_tmp = __MTF_PD_PRED_ttc_out;<br> run;<br><br>\", \" proc transpose data=__MTF_PD_PRED_ttc_out out=__MTF_PD_PRED_ttc_cum (rename=(col1=__multiyear_ttc_probability)) name=__risk_rating_to_tmp;<br> by __time_period __risk_rating_from;<br> run;<br><br>\", \" data work.__MTF_PD_PIT_MULTIYEAR_TTC_PD;<br> set __MTF_PD_PRED_ttc_cum;<br> __risk_rating_to = input(__risk_rating_to_tmp, 8.);<br> drop __risk_rating_to_tmp;<br> run;<br><br>\", \" data __MTF_PD_PRED_pic;<br> set input.pd_z_factor(keep=reporting_date country z_value rename=(reporting_date = reporting_date country = country_code_map));<br> __PIC = cdf(\\\"normal\\\", z_value, 0, 1);<br> country_code_map = upcase(strip(country_code_map));<br> keep reporting_date country_code_map __PIC;<br> run;<br><br>\", \" data work.__mtf_pit_pitpd_version;<br> time_stamp = datetime();<br> format time_stamp DATETIME.;<br> version = '1.7.0';<br> put 'NOTE: you are running stat library version: ' version ;<br> run;<br>;<br><br>\", \" data _null_;<br> set work.__mtf_pit_pitpd_version;<br> mtf_version = 'MTF: ' || compress(version) || ' MTF_IFRS9_PD_COMPUTE_PIT_PD: ' || compress(\\\"1.1\\\");<br> call symput('__mtf_version_pitpd', mtf_version );<br> _time_stamp_ = datetime();<br> call symput('__mtf_timestamp_pitpd', put(_time_stamp_ , best18.));<br> RUN;<br><br>\", \" data _null_;<br> __maximum_time_horizon_err = 0;<br> if mod(5, 1) ne 0 then do;<br> __maximum_time_horizon_err = 1;<br> put \\\"ERROR: Macroparameter [maximum_time_horizon] must be integer\\\";<br> end;<br> __pitness_indicator_err = 0;<br> if 1 not in (0, 1) then do;<br> __pitness_indicator_err = 1;<br> put \\\"ERROR: Macroparameter [pitness_indicator] must be value from set {0, 1}\\\";<br> end;<br> __abort_macro = 0;<br> if sum( __maximum_time_horizon_err , __pitness_indicator_err ) gt 0 then do;<br> __abort_macro = 1;<br> end;<br> call symputx('__abort_macro', __abort_macro);<br> run;<br><br>\", \" proc sql noprint;<br> create table WORK.__MTF_PIT_PIC_UNIQUE as select distinct __PIC from WORK.__MTF_PD_PRED_pic order by __PIC ;<br>quit;<br><br>\", \" data WORK.__MTF_PIT_PIC_UNIQUE;<br> set WORK.__MTF_PIT_PIC_UNIQUE;<br> __rank = _n_;<br> run;<br><br>\", \" proc sql noprint;<br> create table WORK.__MTF_PIT_COUNTRY_DATES as select distinct country_code_map , reporting_date from WORK.__MTF_PD_PRED_pic ;<br>quit;<br><br>\", \" data WORK.__MTF_PIT_COUNTRY_DATES_MULTI;<br> set WORK.__MTF_PIT_COUNTRY_DATES;<br> do __year= 1 to 5;<br> __PiT_reporting_date = intnx('month', reporting_date , 12*(__year-1), 'end');<br> output;<br> end;<br> format __PiT_reporting_date date9.;<br> run;<br><br>\", \" proc sql noprint;<br> create table WORK.__MTF_PIT_COUNTRY_PIC_MULTI as select b.country_code_map , b.reporting_date , b.__PiT_reporting_date , b.__year , a.__PIC from WORK.__MTF_PD_PRED_pic as a inner join WORK.__MTF_PIT_COUNTRY_DATES_MULTI as b on a.country_code_map=b.country_code_map and a.reporting_date eq b.__PiT_reporting_date order by b.country_code_map , b.reporting_date , b.__PiT_reporting_date ;<br>quit;<br><br>\", \" proc sql;<br> create table WORK.__MTF_PIT_COUNTRY_PIC_MULTI_RANK as select a.* , b.__rank from WORK.__MTF_PIT_COUNTRY_PIC_MULTI as a left join WORK.__MTF_PIT_PIC_UNIQUE as b on a.__PIC=b.__PIC order by country_code_map , reporting_date , __year ;<br>quit;<br><br>\", \" proc iml;<br> ** read data into IML ;<br> use WORK.__MTF_PD_PRED_ttc_scaled_long;<br> read all var _ALL_ into ttc_data[colname=ttc_data_cols];<br> close WORK.__MTF_PD_PRED_ttc_scaled_long;<br> use WORK.__MTF_PIT_PIC_UNIQUE;<br> read all var _ALL_ into unique_PIC_data[colname=unique_PIC_data_cols];<br> close WORK.__MTF_PIT_PIC_UNIQUE;<br> use WORK.__MTF_PD_PRED_data_asset_corr;<br> read all var _ALL_ into AC_data[colname=AC_data_cols];<br> close WORK.__MTF_PD_PRED_data_asset_corr;<br> * Create index columns to refer to columns by original name in SAS dataset;<br> i1 = 1:ncol(ttc_data_cols);<br> mattrib i1 colname = ttc_data_cols;<br> i2 = 1:ncol(unique_PIC_data_cols);<br> mattrib i2 colname = unique_PIC_data_cols;<br> i4 = 1:ncol(AC_data_cols);<br> mattrib i4 colname = AC_data_cols;<br> ** sort ttc data and rating asset correlations;<br> call sort(ttc_data,{1,2}, {2});<br> call sort(AC_data,{1}, {1});<br> rating_names = unique(ttc_data[,i1[, \\\"__risk_rating_from\\\"]]);<br> call sort(rating_names, {1});<br> ** size is determined by nr of possible transitions = nr_of_ratings*nr_of_ratings;<br> nr_of_ratings = ncol(unique(ttc_data[,i1[, \\\"__risk_rating_from\\\"]]));<br> ** compute quantiles of cumulative probabilities;<br> cum_prob = J(nr_of_ratings*nr_of_ratings,1,.);<br> norm_quantile_cum_prob = J(nr_of_ratings*nr_of_ratings,1,.);<br> do i = 1 to nr_of_ratings;<br> ** for each rating we compute the cumulative sum of the probability from default rating to best performing rating;<br> start_row_index = nr_of_ratings*(i-1);<br> cum_prob[start_row_index+1:start_row_index+nr_of_ratings,1] = cusum(ttc_data[start_row_index+1:start_row_index+nr_of_ratings,i1[, \\\"__probability\\\"]]);<br> do j = 1 to nr_of_ratings-1;<br> ** to compute quantiles of normal distribution we should input values between 0 and 1 (last value is 1, so only loop to nr_of_ratings - 1);<br> if cum_prob[(start_row_index+j),1] < 0.9999999999 & cum_prob[(start_row_index+j),1] > 0.0000000001 then norm_quantile_cum_prob[(start_row_index+j),1] = quantile(\\\"Normal\\\", cum_prob[(start_row_index+j),1]);<br> end;<br> end;<br> ** compute version of PICs used in vasicek formula;<br> nr_of_unique_PICs = nrow(unique_PIC_data);<br> PIC_quantile_1 = J(nr_of_unique_PICs,1,.);<br> do i = 1 to nr_of_unique_PICs;<br> PIC_quantile_1[i] = quantile(\\\"normal\\\",1-unique_PIC_data[i, i2[, \\\"__PIC\\\"]]);<br> end;<br> ** compute versions of asset correlations used in vasicek formula;<br> sqrt_asset_corr = sqrt(AC_data[, i4[,\\\"__asset_correlation\\\"]]);<br> sqrt_1_asset_corr = sqrt(J(nr_of_ratings,1,1)-AC_data[, i4[,\\\"__asset_correlation\\\"]]);<br> ** define vasicek probabilities (we obtain a matrix for every PIC that we have);<br> vasicek_prob_cum = J(nr_of_unique_PICs*nr_of_ratings, nr_of_ratings,.);<br> ** define matrices that will hold PiT probabilities;<br> pit_matrices = J(nr_of_unique_PICs*nr_of_ratings, nr_of_ratings,.);<br> ** compute PiT matrices;<br> do i = 1 to nr_of_unique_PICs;<br> do j = 1 to nr_of_ratings;<br> do k = 1 to nr_of_ratings;<br> start_row_index_PIC = nr_of_ratings*(i-1);<br> if k > 1 then do;<br> if 1 = 0 then do;<br> **compute non-default migration (j,k) as normalized ttc probability in case only default migration is made PiT;<br> pit_matrices[start_row_index_PIC+ j, nr_of_ratings-(k-1)] = ttc_data[nr_of_ratings*(j-1)+k,i1[, \\\"__probability\\\"]]* ((1-pit_matrices[start_row_index_PIC+ j, nr_of_ratings])/ (1- (j^=nr_of_ratings)*ttc_data[nr_of_ratings*(j-1)+1, i1[, \\\"__probability\\\"]]));<br> end;<br> else do;<br> **get vasicek probabilities for migration (j,k) of the TTC matrix (a specific migration);<br> vasicek_prob_cum[start_row_index_PIC + j, nr_of_ratings - (k-1)] = coalesce(cdf(\\\"Normal\\\",(norm_quantile_cum_prob[(nr_of_ratings*(j-1)+k)] - sqrt_asset_corr[nr_of_ratings-(j-1)]*PIC_quantile_1[i])/sqrt_1_asset_corr[nr_of_ratings-(j-1)]),1);<br> **compute non-default migration (j,k) as difference between vasicek probabilities in case all migrations are made PiT;<br> pit_matrices[start_row_index_PIC+ j, nr_of_ratings-(k-1)] = vasicek_prob_cum[start_row_index_PIC+ j, nr_of_ratings-(k-1)] - vasicek_prob_cum[start_row_index_PIC+ j, nr_of_ratings-(k-1)+1];<br> end;<br> end;<br> else do;<br> **get vasicek probabilities for migration (j,k) of the TTC matrix (a specific migration);<br> vasicek_prob_cum[start_row_index_PIC + j, nr_of_ratings - (k-1)] = coalesce(cdf(\\\"Normal\\\",(norm_quantile_cum_prob[(nr_of_ratings*(j-1)+k)] - sqrt_asset_corr[nr_of_ratings-(j-1)]*PIC_quantile_1[i])/sqrt_1_asset_corr[nr_of_ratings-(j-1)]),1);<br> if 1 = 0 then do;<br> pit_matrices[start_row_index_PIC+ j, nr_of_ratings-(k-1)] = vasicek_prob_cum[start_row_index_PIC+ j, nr_of_ratings-(k-1)];<br> end;<br> else do;<br> pit_matrices[start_row_index_PIC+ j, nr_of_ratings-(k-1)] = vasicek_prob_cum[start_row_index_PIC+ j, nr_of_ratings-(k-1)];<br> end;<br> end;<br> end;<br> end;<br> end;<br> ** transform pit probabilities into long format for outputting;<br> pit_probs = J(nr_of_unique_PICs*nr_of_ratings*nr_of_ratings,4,.);<br> do i = 1 to nr_of_unique_PICs;<br> do j = 1 to nr_of_ratings;<br> do k = 1 to nr_of_ratings;<br> start_row_index = (i-1)*nr_of_ratings*nr_of_ratings;<br> pit_probs[start_row_index +(j-1)*nr_of_ratings+k,1] = unique_PIC_data[i, i2[, \\\"__PIC\\\"]];<br> pit_probs[start_row_index +(j-1)*nr_of_ratings+k,2] = rating_names[,j];<br> pit_probs[start_row_index +(j-1)*nr_of_ratings+k,3] = rating_names[,k];<br> pit_probs[start_row_index +(j-1)*nr_of_ratings+k,4] = pit_matrices[(i-1)*nr_of_ratings+j,k];<br> end;<br> end;<br> end;<br> ** create dataset containing pit pds;<br> create WORK.__MTF_PIT_ONEYEAR_PDS from pit_probs [colname={\\\"__PIC\\\", \\\"__risk_rating_from\\\", \\\"__risk_rating_to\\\", \\\"__probability\\\"}];<br> append from pit_probs;<br> close WORK.__MTF_PIT_ONEYEAR_PDS;<br> ** read data into IML ;<br> use WORK.__MTF_PIT_COUNTRY_PIC_MULTI_RANK;<br> read all var _ALL_ into ranked_multiyear_PIC_data[colname=ranked_multiyear_PIC_data_cols];<br> close WORK.__MTF_PIT_COUNTRY_PIC_MULTI_RANK;<br> * Create index columns to refer to columns by original name in SAS dataset;<br> i3 = 1:ncol(ranked_multiyear_PIC_data_cols);<br> mattrib i3 colname = ranked_multiyear_PIC_data_cols;<br> **multiply pit matrices to obtain multi-year pit matrices;<br> nr_of_multiyear_PICs = nrow(ranked_multiyear_PIC_data);<br> multiyear_pit_matrices = J(nr_of_multiyear_PICs*nr_of_ratings,nr_of_ratings,.);<br> do i = 1 to nr_of_multiyear_PICs;<br> start_row = ranked_multiyear_PIC_data[i,i3[, \\\"__rank\\\"]] -1;<br> if ranked_multiyear_PIC_data[i, i3[, \\\"__year\\\"]] = 1 then do;<br> ** for first year multi-year pit matrix is just the pit matrix from that year;<br> multiyear_pit_matrices[(nr_of_ratings*(i-1)+1):(nr_of_ratings*(i-1)+nr_of_ratings),1:nr_of_ratings]= pit_matrices[(nr_of_ratings*start_row + 1):(nr_of_ratings*start_row + nr_of_ratings),1:nr_of_ratings];<br> end;<br> else do;<br> ** next multiply pit matrix from current year with multiyear pit matrix from previous year;<br> multiyear_pit_matrices[(nr_of_ratings*(i-1)+1):(nr_of_ratings*(i-1)+nr_of_ratings),1:nr_of_ratings] = multiyear_pit_matrices[(nr_of_ratings*(i-2)+1):(nr_of_ratings*(i-2)+nr_of_ratings),1:nr_of_ratings]* pit_matrices[(nr_of_ratings*start_row + 1):(nr_of_ratings*start_row + nr_of_ratings),1:nr_of_ratings];<br> end;<br> end;<br> ** transform multiyear pit probabilities into long format for outputting and compute marginal pit pds;<br> multiyear_pit_probs = J(nr_of_multiyear_PICs*nr_of_ratings*nr_of_ratings,3,.);<br> marginal_pit_pds = J(nr_of_multiyear_PICs*nr_of_ratings,3,.);<br> do i = 1 to nr_of_multiyear_PICs;<br> do j = 1 to nr_of_ratings;<br> do k = 1 to nr_of_ratings;<br> start_row_index = (i-1)*nr_of_ratings*nr_of_ratings;<br> multiyear_pit_probs[start_row_index +(j-1)*nr_of_ratings+k,1] = rating_names[,j];<br> multiyear_pit_probs[start_row_index +(j-1)*nr_of_ratings+k,2] = rating_names[,k];<br> multiyear_pit_probs[start_row_index +(j-1)*nr_of_ratings+k,3] = multiyear_pit_matrices[(i-1)*nr_of_ratings+j, k];<br> end;<br> marginal_pit_pds[nr_of_ratings*(i-1)+j,1] = ranked_multiyear_PIC_data[i, i3[, \\\"__year\\\"]];<br> marginal_pit_pds[nr_of_ratings*(i-1)+j,2] = rating_names[,j];<br> if ranked_multiyear_PIC_data[i, i3[, \\\"__year\\\"]] = 1 then do;<br> marginal_pit_pds[nr_of_ratings*(i-1)+j,3] = multiyear_pit_probs[start_row_index +(j-1)*nr_of_ratings+nr_of_ratings,3];<br> end;<br> else do;<br> marginal_pit_pds[nr_of_ratings*(i-1)+j,3] = multiyear_pit_probs[start_row_index +(j-1)*nr_of_ratings+nr_of_ratings,3]- multiyear_pit_probs[start_row_index +(j-1)*nr_of_ratings+nr_of_ratings-nr_of_ratings*nr_of_ratings,3];<br> end;<br> end;<br> end;<br> ** create datasets containing pit multiyear and marginal pds;<br> create WORK.__MTF_PIT_MULTI_PDS from multiyear_pit_probs [colname={\\\"__risk_rating_from\\\", \\\"__risk_rating_to\\\", \\\"__multiyear_pit_probability\\\"}];<br> append from multiyear_pit_probs;<br> close WORK.__MTF_PIT_MULTI_PDS;<br> quit;<br><br>\", \" proc sql noprint;<br> create table work.__MTF_PD_PIT_ONEYEAR_PIT_PD_1 as select b.country_code_map , b.reporting_date , a.* from WORK.__MTF_PIT_ONEYEAR_PDS as a left join WORK.__MTF_PD_PRED_pic as b on a.__PIC = b.__PIC order by country_code_map , reporting_date , __risk_rating_from , __risk_rating_to ;<br>quit;<br><br>\", \" proc sql noprint;<br> select count(distinct __risk_rating_from) into :__nr_of_ratings from WORK.__MTF_PD_PRED_ttc_scaled_long ;<br>quit;<br><br>\", \" data WORK.__MTF_PIT_MULTIYEAR_ROW_INFO (drop=i);<br> set WORK.__MTF_PIT_COUNTRY_PIC_MULTI_RANK (keep=country_code_map reporting_date __year);<br> do i = 1 to 20* 20;<br> output;<br> end;<br> run;<br><br>\", \" data work.__MTF_PD_PIT_MULTIYEAR_PIT_PD_1;<br> merge WORK.__MTF_PIT_MULTIYEAR_ROW_INFO WORK.__MTF_PIT_MULTI_PDS;<br> run;<br><br>\", \" proc datasets lib = work nolist noprint memtype=all;<br> delete __mtf_pit: / mt=data;<br> quit;<br>;<br><br>\", \" data work.__mtf_pit_pitpd_version;<br> time_stamp = datetime();<br> format time_stamp DATETIME.;<br> version = '1.7.0';<br> put 'NOTE: you are running stat library version: ' version ;<br> run;<br>;<br><br>\", \" data _null_;<br> set work.__mtf_pit_pitpd_version;<br> mtf_version = 'MTF: ' || compress(version) || ' MTF_IFRS9_PD_COMPUTE_PIT_PD: ' || compress(\\\"1.1\\\");<br> call symput('__mtf_version_pitpd', mtf_version );<br> _time_stamp_ = datetime();<br> call symput('__mtf_timestamp_pitpd', put(_time_stamp_ , best18.));<br> RUN;<br><br>\", \" data _null_;<br> __maximum_time_horizon_err = 0;<br> if mod(5, 1) ne 0 then do;<br> __maximum_time_horizon_err = 1;<br> put \\\"ERROR: Macroparameter [maximum_time_horizon] must be integer\\\";<br> end;<br> __pitness_indicator_err = 0;<br> if 0 not in (0, 1) then do;<br> __pitness_indicator_err = 1;<br> put \\\"ERROR: Macroparameter [pitness_indicator] must be value from set {0, 1}\\\";<br> end;<br> __abort_macro = 0;<br> if sum( __maximum_time_horizon_err , __pitness_indicator_err ) gt 0 then do;<br> __abort_macro = 1;<br> end;<br> call symputx('__abort_macro', __abort_macro);<br> run;<br><br>\", \" proc sql noprint;<br> create table WORK.__MTF_PIT_PIC_UNIQUE as select distinct __PIC from WORK.__MTF_PD_PRED_pic order by __PIC ;<br>quit;<br><br>\", \" data WORK.__MTF_PIT_PIC_UNIQUE;<br> set WORK.__MTF_PIT_PIC_UNIQUE;<br> __rank = _n_;<br> run;<br><br>\", \" proc sql noprint;<br> create table WORK.__MTF_PIT_COUNTRY_DATES as select distinct country_code_map , reporting_date from WORK.__MTF_PD_PRED_pic ;<br>quit;<br><br>\", \" data WORK.__MTF_PIT_COUNTRY_DATES_MULTI;<br> set WORK.__MTF_PIT_COUNTRY_DATES;<br> do __year= 1 to 5;<br> __PiT_reporting_date = intnx('month', reporting_date , 12*(__year-1), 'end');<br> output;<br> end;<br> format __PiT_reporting_date date9.;<br> run;<br><br>\", \" proc sql noprint;<br> create table WORK.__MTF_PIT_COUNTRY_PIC_MULTI as select b.country_code_map , b.reporting_date , b.__PiT_reporting_date , b.__year , a.__PIC from WORK.__MTF_PD_PRED_pic as a inner join WORK.__MTF_PIT_COUNTRY_DATES_MULTI as b on a.country_code_map=b.country_code_map and a.reporting_date eq b.__PiT_reporting_date order by b.country_code_map , b.reporting_date , b.__PiT_reporting_date ;<br>quit;<br><br>\", \" proc sql;<br> create table WORK.__MTF_PIT_COUNTRY_PIC_MULTI_RANK as select a.* , b.__rank from WORK.__MTF_PIT_COUNTRY_PIC_MULTI as a left join WORK.__MTF_PIT_PIC_UNIQUE as b on a.__PIC=b.__PIC order by country_code_map , reporting_date , __year ;<br>quit;<br><br>\", \" proc iml;<br> ** read data into IML ;<br> use WORK.__MTF_PD_PRED_ttc_scaled_long;<br> read all var _ALL_ into ttc_data[colname=ttc_data_cols];<br> close WORK.__MTF_PD_PRED_ttc_scaled_long;<br> use WORK.__MTF_PIT_PIC_UNIQUE;<br> read all var _ALL_ into unique_PIC_data[colname=unique_PIC_data_cols];<br> close WORK.__MTF_PIT_PIC_UNIQUE;<br> use WORK.__MTF_PD_PRED_data_asset_corr;<br> read all var _ALL_ into AC_data[colname=AC_data_cols];<br> close WORK.__MTF_PD_PRED_data_asset_corr;<br> * Create index columns to refer to columns by original name in SAS dataset;<br> i1 = 1:ncol(ttc_data_cols);<br> mattrib i1 colname = ttc_data_cols;<br> i2 = 1:ncol(unique_PIC_data_cols);<br> mattrib i2 colname = unique_PIC_data_cols;<br> i4 = 1:ncol(AC_data_cols);<br> mattrib i4 colname = AC_data_cols;<br> ** sort ttc data and rating asset correlations;<br> call sort(ttc_data,{1,2}, {2});<br> call sort(AC_data,{1}, {1});<br> rating_names = unique(ttc_data[,i1[, \\\"__risk_rating_from\\\"]]);<br> call sort(rating_names, {1});<br> ** size is determined by nr of possible transitions = nr_of_ratings*nr_of_ratings;<br> nr_of_ratings = ncol(unique(ttc_data[,i1[, \\\"__risk_rating_from\\\"]]));<br> ** compute quantiles of cumulative probabilities;<br> cum_prob = J(nr_of_ratings*nr_of_ratings,1,.);<br> norm_quantile_cum_prob = J(nr_of_ratings*nr_of_ratings,1,.);<br> do i = 1 to nr_of_ratings;<br> ** for each rating we compute the cumulative sum of the probability from default rating to best performing rating;<br> start_row_index = nr_of_ratings*(i-1);<br> cum_prob[start_row_index+1:start_row_index+nr_of_ratings,1] = cusum(ttc_data[start_row_index+1:start_row_index+nr_of_ratings,i1[, \\\"__probability\\\"]]);<br> do j = 1 to nr_of_ratings-1;<br> ** to compute quantiles of normal distribution we should input values between 0 and 1 (last value is 1, so only loop to nr_of_ratings - 1);<br> if cum_prob[(start_row_index+j),1] < 0.9999999999 & cum_prob[(start_row_index+j),1] > 0.0000000001 then norm_quantile_cum_prob[(start_row_index+j),1] = quantile(\\\"Normal\\\", cum_prob[(start_row_index+j),1]);<br> end;<br> end;<br> ** compute version of PICs used in vasicek formula;<br> nr_of_unique_PICs = nrow(unique_PIC_data);<br> PIC_quantile_1 = J(nr_of_unique_PICs,1,.);<br> do i = 1 to nr_of_unique_PICs;<br> PIC_quantile_1[i] = quantile(\\\"normal\\\",1-unique_PIC_data[i, i2[, \\\"__PIC\\\"]]);<br> end;<br> ** compute versions of asset correlations used in vasicek formula;<br> sqrt_asset_corr = sqrt(AC_data[, i4[,\\\"__asset_correlation\\\"]]);<br> sqrt_1_asset_corr = sqrt(J(nr_of_ratings,1,1)-AC_data[, i4[,\\\"__asset_correlation\\\"]]);<br> ** define vasicek probabilities (we obtain a matrix for every PIC that we have);<br> vasicek_prob_cum = J(nr_of_unique_PICs*nr_of_ratings, nr_of_ratings,.);<br> ** define matrices that will hold PiT probabilities;<br> pit_matrices = J(nr_of_unique_PICs*nr_of_ratings, nr_of_ratings,.);<br> ** compute PiT matrices;<br> do i = 1 to nr_of_unique_PICs;<br> do j = 1 to nr_of_ratings;<br> do k = 1 to nr_of_ratings;<br> start_row_index_PIC = nr_of_ratings*(i-1);<br> if k > 1 then do;<br> if 0 = 0 then do;<br> **compute non-default migration (j,k) as normalized ttc probability in case only default migration is made PiT;<br> pit_matrices[start_row_index_PIC+ j, nr_of_ratings-(k-1)] = ttc_data[nr_of_ratings*(j-1)+k,i1[, \\\"__probability\\\"]]* ((1-pit_matrices[start_row_index_PIC+ j, nr_of_ratings])/ (1- (j^=nr_of_ratings)*ttc_data[nr_of_ratings*(j-1)+1, i1[, \\\"__probability\\\"]]));<br> end;<br> else do;<br> **get vasicek probabilities for migration (j,k) of the TTC matrix (a specific migration);<br> vasicek_prob_cum[start_row_index_PIC + j, nr_of_ratings - (k-1)] = coalesce(cdf(\\\"Normal\\\",(norm_quantile_cum_prob[(nr_of_ratings*(j-1)+k)] - sqrt_asset_corr[nr_of_ratings-(j-1)]*PIC_quantile_1[i])/sqrt_1_asset_corr[nr_of_ratings-(j-1)]),1);<br> **compute non-default migration (j,k) as difference between vasicek probabilities in case all migrations are made PiT;<br> pit_matrices[start_row_index_PIC+ j, nr_of_ratings-(k-1)] = vasicek_prob_cum[start_row_index_PIC+ j, nr_of_ratings-(k-1)] - vasicek_prob_cum[start_row_index_PIC+ j, nr_of_ratings-(k-1)+1];<br> end;<br> end;<br> else do;<br> **get vasicek probabilities for migration (j,k) of the TTC matrix (a specific migration);<br> vasicek_prob_cum[start_row_index_PIC + j, nr_of_ratings - (k-1)] = coalesce(cdf(\\\"Normal\\\",(norm_quantile_cum_prob[(nr_of_ratings*(j-1)+k)] - sqrt_asset_corr[nr_of_ratings-(j-1)]*PIC_quantile_1[i])/sqrt_1_asset_corr[nr_of_ratings-(j-1)]),1);<br> if 0 = 0 then do;<br> pit_matrices[start_row_index_PIC+ j, nr_of_ratings-(k-1)] = vasicek_prob_cum[start_row_index_PIC+ j, nr_of_ratings-(k-1)];<br> end;<br> else do;<br> pit_matrices[start_row_index_PIC+ j, nr_of_ratings-(k-1)] = vasicek_prob_cum[start_row_index_PIC+ j, nr_of_ratings-(k-1)];<br> end;<br> end;<br> end;<br> end;<br> end;<br> ** transform pit probabilities into long format for outputting;<br> pit_probs = J(nr_of_unique_PICs*nr_of_ratings*nr_of_ratings,4,.);<br> do i = 1 to nr_of_unique_PICs;<br> do j = 1 to nr_of_ratings;<br> do k = 1 to nr_of_ratings;<br> start_row_index = (i-1)*nr_of_ratings*nr_of_ratings;<br> pit_probs[start_row_index +(j-1)*nr_of_ratings+k,1] = unique_PIC_data[i, i2[, \\\"__PIC\\\"]];<br> pit_probs[start_row_index +(j-1)*nr_of_ratings+k,2] = rating_names[,j];<br> pit_probs[start_row_index +(j-1)*nr_of_ratings+k,3] = rating_names[,k];<br> pit_probs[start_row_index +(j-1)*nr_of_ratings+k,4] = pit_matrices[(i-1)*nr_of_ratings+j,k];<br> end;<br> end;<br> end;<br> ** create dataset containing pit pds;<br> create WORK.__MTF_PIT_ONEYEAR_PDS from pit_probs [colname={\\\"__PIC\\\", \\\"__risk_rating_from\\\", \\\"__risk_rating_to\\\", \\\"__probability\\\"}];<br> append from pit_probs;<br> close WORK.__MTF_PIT_ONEYEAR_PDS;<br> ** read data into IML ;<br> use WORK.__MTF_PIT_COUNTRY_PIC_MULTI_RANK;<br> read all var _ALL_ into ranked_multiyear_PIC_data[colname=ranked_multiyear_PIC_data_cols];<br> close WORK.__MTF_PIT_COUNTRY_PIC_MULTI_RANK;<br> * Create index columns to refer to columns by original name in SAS dataset;<br> i3 = 1:ncol(ranked_multiyear_PIC_data_cols);<br> mattrib i3 colname = ranked_multiyear_PIC_data_cols;<br> **multiply pit matrices to obtain multi-year pit matrices;<br> nr_of_multiyear_PICs = nrow(ranked_multiyear_PIC_data);<br> multiyear_pit_matrices = J(nr_of_multiyear_PICs*nr_of_ratings,nr_of_ratings,.);<br> do i = 1 to nr_of_multiyear_PICs;<br> start_row = ranked_multiyear_PIC_data[i,i3[, \\\"__rank\\\"]] -1;<br> if ranked_multiyear_PIC_data[i, i3[, \\\"__year\\\"]] = 1 then do;<br> ** for first year multi-year pit matrix is just the pit matrix from that year;<br> multiyear_pit_matrices[(nr_of_ratings*(i-1)+1):(nr_of_ratings*(i-1)+nr_of_ratings),1:nr_of_ratings]= pit_matrices[(nr_of_ratings*start_row + 1):(nr_of_ratings*start_row + nr_of_ratings),1:nr_of_ratings];<br> end;<br> else do;<br> ** next multiply pit matrix from current year with multiyear pit matrix from previous year;<br> multiyear_pit_matrices[(nr_of_ratings*(i-1)+1):(nr_of_ratings*(i-1)+nr_of_ratings),1:nr_of_ratings] = multiyear_pit_matrices[(nr_of_ratings*(i-2)+1):(nr_of_ratings*(i-2)+nr_of_ratings),1:nr_of_ratings]* pit_matrices[(nr_of_ratings*start_row + 1):(nr_of_ratings*start_row + nr_of_ratings),1:nr_of_ratings];<br> end;<br> end;<br> ** transform multiyear pit probabilities into long format for outputting and compute marginal pit pds;<br> multiyear_pit_probs = J(nr_of_multiyear_PICs*nr_of_ratings*nr_of_ratings,3,.);<br> marginal_pit_pds = J(nr_of_multiyear_PICs*nr_of_ratings,3,.);<br> do i = 1 to nr_of_multiyear_PICs;<br> do j = 1 to nr_of_ratings;<br> do k = 1 to nr_of_ratings;<br> start_row_index = (i-1)*nr_of_ratings*nr_of_ratings;<br> multiyear_pit_probs[start_row_index +(j-1)*nr_of_ratings+k,1] = rating_names[,j];<br> multiyear_pit_probs[start_row_index +(j-1)*nr_of_ratings+k,2] = rating_names[,k];<br> multiyear_pit_probs[start_row_index +(j-1)*nr_of_ratings+k,3] = multiyear_pit_matrices[(i-1)*nr_of_ratings+j, k];<br> end;<br> marginal_pit_pds[nr_of_ratings*(i-1)+j,1] = ranked_multiyear_PIC_data[i, i3[, \\\"__year\\\"]];<br> marginal_pit_pds[nr_of_ratings*(i-1)+j,2] = rating_names[,j];<br> if ranked_multiyear_PIC_data[i, i3[, \\\"__year\\\"]] = 1 then do;<br> marginal_pit_pds[nr_of_ratings*(i-1)+j,3] = multiyear_pit_probs[start_row_index +(j-1)*nr_of_ratings+nr_of_ratings,3];<br> end;<br> else do;<br> marginal_pit_pds[nr_of_ratings*(i-1)+j,3] = multiyear_pit_probs[start_row_index +(j-1)*nr_of_ratings+nr_of_ratings,3]- multiyear_pit_probs[start_row_index +(j-1)*nr_of_ratings+nr_of_ratings-nr_of_ratings*nr_of_ratings,3];<br> end;<br> end;<br> end;<br> ** create datasets containing pit multiyear and marginal pds;<br> create WORK.__MTF_PIT_MULTI_PDS from multiyear_pit_probs [colname={\\\"__risk_rating_from\\\", \\\"__risk_rating_to\\\", \\\"__multiyear_pit_probability\\\"}];<br> append from multiyear_pit_probs;<br> close WORK.__MTF_PIT_MULTI_PDS;<br> quit;<br><br>\", \" proc sql noprint;<br> create table work.__MTF_PD_PIT_ONEYEAR_PIT_PD_0 as select b.country_code_map , b.reporting_date , a.* from WORK.__MTF_PIT_ONEYEAR_PDS as a left join WORK.__MTF_PD_PRED_pic as b on a.__PIC = b.__PIC order by country_code_map , reporting_date , __risk_rating_from , __risk_rating_to ;<br>quit;<br><br>\", \" proc sql noprint;<br> select count(distinct __risk_rating_from) into :__nr_of_ratings from WORK.__MTF_PD_PRED_ttc_scaled_long ;<br>quit;<br><br>\", \" data WORK.__MTF_PIT_MULTIYEAR_ROW_INFO (drop=i);<br> set WORK.__MTF_PIT_COUNTRY_PIC_MULTI_RANK (keep=country_code_map reporting_date __year);<br> do i = 1 to 20* 20;<br> output;<br> end;<br> run;<br><br>\", \" data work.__MTF_PD_PIT_MULTIYEAR_PIT_PD_0;<br> merge WORK.__MTF_PIT_MULTIYEAR_ROW_INFO WORK.__MTF_PIT_MULTI_PDS;<br> run;<br><br>\", \" proc datasets lib = work nolist noprint memtype=all;<br> delete __mtf_pit: / mt=data;<br> quit;<br>;<br><br>\", \" DATA work.__MTF_PD_PIT_MULTIYEAR_PIT_PD;<br> SET work.__MTF_PD_PIT_MULTIYEAR_PIT_PD_0;<br> RUN;<br><br>\", \" data work.__MTF_PD_PIT_MULTIYEAR_PIT_PD_20;<br> set work.__MTF_PD_PIT_MULTIYEAR_PIT_PD;<br> where __risk_rating_from ne 20 and __risk_rating_to eq 20;<br> run;<br><br>\", \" data work.__MTF_PD_PIT_MULTIYEAR_TTC_PD_20;<br> set work.__MTF_PD_PIT_MULTIYEAR_TTC_PD;<br> where __risk_rating_from ne 20 and __risk_rating_to eq 20;<br> run;<br><br>\", \" proc sql noprint _method;<br> create table work.__MTF_PD_PIT_MULTIYEAR_BOTH_PD as select a.country_code_map , a.reporting_date , a.__year as __time_period , a.__risk_rating_from , a.__risk_rating_to , a.__multiyear_pit_probability , b.__multiyear_ttc_probability from work.__MTF_PD_PIT_MULTIYEAR_PIT_PD_20 as a left join work.__MTF_PD_PIT_MULTIYEAR_TTC_PD_20 as b on a.__risk_rating_from = b.__risk_rating_from and a.__risk_rating_to = b.__risk_rating_to and a.__year = b.__time_period order by country_code_map, reporting_date, __risk_rating_from, __time_period ;<br>quit;<br><br>\", \" proc datasets lib = work nolist noprint memtype=all;<br> delete __MTF_PD_PRED: / mt=data;<br> quit;<br>;<br><br>\", \" data work.__MTF_PD_JOIN_version;<br> time_stamp = datetime();<br> format time_stamp DATETIME.;<br> version = '1.7.0';<br> put 'NOTE: you are running stat library version: ' version ;<br> run;<br>;<br><br>\", \" data _null_;<br> set __MTF_PD_JOIN_version;<br> mtf_version = 'MTF: ' || compress(version) || ' MTF_PD_PIT_BACKTEST_JOINT: ' || compress(\\\"1.00\\\");<br> call symput('__mtf_joint_version', mtf_joint_version );<br> _time_stamp_ = datetime();<br> call symput('__mtf_joint_timestamp', put(_time_stamp_ , best18.));<br> RUN;<br><br>\", \" data work.__MTF_PD_PIT_MARGINAL_BOTH_PD;<br> set work.__MTF_PD_PIT_MULTIYEAR_BOTH_PD;<br> by country_code_map reporting_date __risk_rating_from __time_period;<br> __marg_pd_tmp_lag = lag(__multiyear_pit_probability);<br> if first.__time_period then do;<br> __marginal_pit_probability = __multiyear_pit_probability;<br> end;<br> if __time_period ge 2 then do;<br> __marginal_pit_probability = __multiyear_pit_probability - __marg_pd_tmp_lag;<br> end;<br> drop __marg_pd_tmp_lag;<br> run;<br><br>\", \" proc sort data=work.__MTF_PD_PIT_MARGINAL_BOTH_PD out=work.__MTF_PD_PIT_MARGINAL_BOTH_PD;<br> by reporting_date __risk_rating_from country_code_map;<br> run;<br><br>\", \" proc sql noprint _method magic=102;<br> create table work.__MTF_PD_PIT_MULTIYEAR_PRED as select a.country_code_map ,a.reporting_date ,a.__time_period ,a.__risk_rating_from ,a.__risk_rating_to ,a.__marginal_pit_probability ,os_e as outstanding ,customer_id ,maturity_date ,case when maturity_date>a.reporting_date then INTCK('month',a.reporting_date,maturity_date) else . end as monthdiff ,case when calculated monthdiff is not missing and calculated monthdiff > 0 and calculated monthdiff < 12 then 1-(1-a.__multiyear_pit_probability) ** (calculated monthdiff/12) else a.__multiyear_pit_probability end as __multiyear_pit_probability ,case when calculated monthdiff is not missing and calculated monthdiff > 0 and calculated monthdiff < 12 then 1-(1-a.__multiyear_ttc_probability) ** (calculated monthdiff/12) else a.__multiyear_ttc_probability end as __multiyear_ttc_probability from work.__MTF_PD_PIT_MARGINAL_BOTH_PD a inner join work.__MTF_PD_PIT_PROC_MULTIYEAR_DATA b on a.reporting_date = b.reporting_date and a.__risk_rating_from = b.rating_number and a.country_code_map = b.country_code_map order by a.reporting_date, a.__time_period ;<br>quit;<br><br>\", \" proc sql noprint _method magic=102;<br> create table __MTF_PD_JOIN_MULTIYEAR_PRED2 as select distinct reporting_date , __time_period , count(*) as total_obs_date , sum(outstanding) as total_os_date , sum(__multiyear_pit_probability) as expected_pit_defaults , sum(__multiyear_ttc_probability) as expected_ttc_defaults , sum(outstanding*__multiyear_pit_probability) as expected_pit_total_def_os , sum(outstanding*__multiyear_ttc_probability) as expected_ttc_total_def_os , coalesce(calculated expected_pit_total_def_os / calculated expected_pit_defaults, 0) as expected_pit_def_os , coalesce(calculated expected_ttc_total_def_os / calculated expected_ttc_defaults, 0) as expected_ttc_def_os , mean(__multiyear_pit_probability) as pit_prob_nw , coalesce(calculated expected_pit_total_def_os / calculated total_os_date, 0) as pit_prob_ew , coalesce(calculated expected_ttc_total_def_os / calculated total_os_date, 0) as ttc_prob_ew , mean(__multiyear_ttc_probability) as ttc_prob_nw from work.__MTF_PD_PIT_MULTIYEAR_PRED group by reporting_date, __time_period order by reporting_date, __time_period ;<br>quit;<br><br>\", \" proc sql noprint _method;<br> create table __MTF_PD_JOIN_MULTIYEAR_PRED_STD as select distinct a.reporting_date , a.__time_period , sqrt((sum(((outstanding - expected_pit_def_os)**2)*__multiyear_pit_probability))/ sum(__multiyear_pit_probability)) as stdev_pit_def_os , sqrt((sum(((outstanding - expected_ttc_def_os)**2)*__multiyear_ttc_probability))/ sum(__multiyear_ttc_probability)) as stdev_ttc_def_os from work.__MTF_PD_PIT_MULTIYEAR_PRED A left join __MTF_PD_JOIN_MULTIYEAR_PRED2 B on a.reporting_date = b.reporting_date and a.__time_period = b.__time_period group by a.reporting_date, a.__time_period ;<br>quit;<br><br>\", \" proc sql noprint _method;<br> create table __MTF_PD_JOIN_MULTIYEAR_PRED_GRP as select distinct a.* , b.stdev_pit_def_os , b.stdev_ttc_def_os from __MTF_PD_JOIN_MULTIYEAR_PRED2 A left join __MTF_PD_JOIN_MULTIYEAR_PRED_STD B on a.reporting_date = b.reporting_date and a.__time_period = b.__time_period ;<br>quit;<br><br>\", \" proc sql noprint;<br> create table work.__MTF_PD_PIT_MULTIYEAR_BOTH_GRP as select a.* , b.DR_nw , b.DR_ew , b.outstanding_avg_1 , b.outstanding_stdev_1 , b.cum_defaulted_nw from __MTF_PD_JOIN_MULTIYEAR_PRED_GRP as a left join work.__MTF_PD_PIT_MULTIYEAR_OBS_GRP as b on a.reporting_date = b.reporting_date and a.__time_period = b.__time_period where full_window = 1 order by a.__time_period , a.reporting_date ;<br>quit;<br><br>\", \" proc iml;<br> use work.__MTF_PD_PIT_MULTIYEAR_BOTH_GRP;<br> read all var _ALL_ into pred_obs[colname=col_elements];<br> close work.__MTF_PD_PIT_MULTIYEAR_BOTH_GRP;<br> index = 1:ncol(col_elements);<br> mattrib index colname = col_elements;<br> m1 = pred_obs[loc(element(pred_obs[,index[,\\\"__time_period\\\"]], {1})), ];<br> m2 = pred_obs[loc(element(pred_obs[,index[,\\\"__time_period\\\"]], {2})), ];<br> m3 = pred_obs[loc(element(pred_obs[,index[,\\\"__time_period\\\"]], {3})), ];<br> m4 = pred_obs[loc(element(pred_obs[,index[,\\\"__time_period\\\"]], {4})), ];<br> m5 = pred_obs[loc(element(pred_obs[,index[,\\\"__time_period\\\"]], {5})), ];<br> SE_IRB_1 = m1[,index[,\\\"DR_nw\\\"]] - m1[,index[,\\\"ttc_prob_nw\\\"]];<br> if nrow(SE_IRB_1)=0 then RMSE_IRB_1=0;<br> else RMSE_IRB_1 = sqrt(sum(SE_IRB_1#SE_IRB_1)/nrow(SE_IRB_1));<br> DR_stdev_1 = std(m1[,index[,\\\"DR_nw\\\"]]);<br> DR_avg_1 = mean(m1[,index[,\\\"DR_nw\\\"]]);<br> if DR_avg_1=0 then CV_1=0;<br> else CV_1 = min(RMSE_IRB_1, DR_stdev_1)/DR_avg_1;<br> pit_binom_stdev_1 = J(nrow(m1), 1, 0);<br> pit_binom_nonZero_1 = loc(m1[,index[,\\\"total_obs_date\\\"]]>0);<br> pit_binom_stdev_1[pit_binom_nonZero_1] = sqrt(m1[pit_binom_nonZero_1, index[,\\\"pit_prob_nw\\\"]]#(1 - m1[pit_binom_nonZero_1, index[,\\\"pit_prob_nw\\\"]]) /m1[pit_binom_nonZero_1, index[,\\\"total_obs_date\\\"]]);<br> ttc_binom_stdev_1 = J(nrow(m1), 1, 0);<br> ttc_binom_nonZero_1 = loc(m1[,index[,\\\"total_obs_date\\\"]]>0);<br> ttc_binom_stdev_1[ttc_binom_nonZero_1] = sqrt(m1[ttc_binom_nonZero_1, index[,\\\"ttc_prob_nw\\\"]]#(1 - m1[ttc_binom_nonZero_1, index[,\\\"ttc_prob_nw\\\"]])) /sqrt(m1[ttc_binom_nonZero_1, index[,\\\"total_obs_date\\\"]]);<br> ODR_IRB_diff_1 = m1[,index[,\\\"DR_nw\\\"]] - m1[,index[,\\\"ttc_prob_nw\\\"]];<br> if nrow(ODR_IRB_diff_1)=0 then MSE_IRB_1=0;<br> else MSE_IRB_1 = sum(ODR_IRB_diff_1#ODR_IRB_diff_1)/nrow(ODR_IRB_diff_1);<br> pit_alternative_stdev_moderate_1 = sqrt((1-0.7)*MSE_IRB_1);<br> pit_alternative_stdev_poor_1 = sqrt((1-0.4)*MSE_IRB_1);<br> ttc_alternative_stdev_1 = CV_1*mean(m1[,index[,\\\"DR_nw\\\"]]);<br> pit_pd_me_nw_1 = pit_alternative_stdev_moderate_1*J(nrow(m1),1,1);<br> pit_pd_me_nw_wide_1 = pit_alternative_stdev_poor_1*J(nrow(m1),1,1);<br> ttc_pd_me_nw_1 = ttc_alternative_stdev_1*J(nrow(m1),1,1);<br> size_me_1 = J(nrow(m1), 1, 0);<br> size_nonZero_1 = loc(m1[,index[,\\\"expected_pit_defaults\\\"]]>0 & m1[,index[,\\\"expected_pit_def_os\\\"]]>0);<br> size_me_1[size_nonZero_1] = (m1[size_nonZero_1, index[,\\\"stdev_pit_def_os\\\"]]/sqrt(m1[size_nonZero_1, index[,\\\"expected_pit_defaults\\\"]])) /m1[size_nonZero_1, index[,\\\"expected_pit_def_os\\\"]];<br> pit_pd_me_ew_1 = sqrt((pit_pd_me_nw_wide_1##2 + mean(m1[,index[,\\\"DR_nw\\\"]])##2) #(size_me_1##2 + 1) - (mean(m1[,index[,\\\"DR_nw\\\"]])##2));<br> ttc_pd_me_ew_1 = sqrt((ttc_pd_me_nw_1##2 + mean(m1[,index[,\\\"DR_nw\\\"]])##2) #(size_me_1##2 + 1)- (mean(m1[,index[,\\\"DR_nw\\\"]])##2));<br> alpha_lower = probit(0.025);<br> alpha_upper = probit(0.975);<br> confidence_intervals_1 = J(nrow(m1),8,.);<br> confidence_intervals_1[,2*2*(1-1)+2*(1-1)+1] = 0<>((alpha_lower) # (pit_pd_me_nw_1) + m1[, index[, \\\"pit_prob_nw\\\"]]);<br> confidence_intervals_1[,2*2*(1-1)+2*(1-1)+2] = 0<>((alpha_upper) # (pit_pd_me_nw_1) + m1[, index[, \\\"pit_prob_nw\\\"]]);<br> confidence_intervals_1[,2*2*(1-1)+2*(2-1)+1] = 0<>((alpha_lower) # (ttc_pd_me_nw_1) + m1[, index[, \\\"ttc_prob_nw\\\"]]);<br> confidence_intervals_1[,2*2*(1-1)+2*(2-1)+2] = 0<>((alpha_upper) # (ttc_pd_me_nw_1) + m1[, index[, \\\"ttc_prob_nw\\\"]]);<br> confidence_intervals_1[,2*2*(2-1)+2*(1-1)+1] = 0<>((alpha_lower) # (pit_pd_me_ew_1) + m1[, index[, \\\"pit_prob_ew\\\"]]);<br> confidence_intervals_1[,2*2*(2-1)+2*(1-1)+2] = 0<>((alpha_upper) # (pit_pd_me_ew_1) + m1[, index[, \\\"pit_prob_ew\\\"]]);<br> confidence_intervals_1[,2*2*(2-1)+2*(2-1)+1] = 0<>((alpha_lower) # (ttc_pd_me_ew_1) + m1[, index[, \\\"ttc_prob_ew\\\"]]);<br> confidence_intervals_1[,2*2*(2-1)+2*(2-1)+2] = 0<>((alpha_upper) # (ttc_pd_me_ew_1) + m1[, index[, \\\"ttc_prob_ew\\\"]]);<br> confidence_intervals = confidence_intervals_1;<br> me_data_1 = 1*J(nrow(m1),1,1) || pit_binom_stdev_1 || ttc_binom_stdev_1 || ODR_IRB_diff_1 || MSE_IRB_1*J(nrow(m1),1,1) || pit_alternative_stdev_moderate_1*J(nrow(m1),1,1) || pit_alternative_stdev_poor_1*J(nrow(m1),1,1) || ttc_alternative_stdev_1*J(nrow(m1),1,1) || pit_pd_me_nw_1 || pit_pd_me_nw_wide_1 || ttc_pd_me_nw_1 || size_me_1 || pit_pd_me_ew_1 || ttc_pd_me_ew_1;<br> me_data = me_data_1;<br> pit_binom_stdev_2 = J(nrow(m2), 1, 0);<br> pit_binom_nonZero_2 = loc(m2[,index[,\\\"total_obs_date\\\"]]>0);<br> pit_binom_stdev_2[pit_binom_nonZero_2] = sqrt(m2[pit_binom_nonZero_2, index[,\\\"pit_prob_nw\\\"]]#(1 - m2[pit_binom_nonZero_2, index[,\\\"pit_prob_nw\\\"]]) /m2[pit_binom_nonZero_2, index[,\\\"total_obs_date\\\"]]);<br> ttc_binom_stdev_2 = J(nrow(m2), 1, 0);<br> ttc_binom_nonZero_2 = loc(m2[,index[,\\\"total_obs_date\\\"]]>0);<br> ttc_binom_stdev_2[ttc_binom_nonZero_2] = sqrt(m2[ttc_binom_nonZero_2, index[,\\\"ttc_prob_nw\\\"]]#(1 - m2[ttc_binom_nonZero_2, index[,\\\"ttc_prob_nw\\\"]])) /sqrt(m2[ttc_binom_nonZero_2, index[,\\\"total_obs_date\\\"]]);<br> ODR_IRB_diff_2 = m2[,index[,\\\"DR_nw\\\"]] - m2[,index[,\\\"ttc_prob_nw\\\"]];<br> if nrow(ODR_IRB_diff_2)=0 then MSE_IRB_2=0;<br> else MSE_IRB_2 = sum(ODR_IRB_diff_2#ODR_IRB_diff_2)/nrow(ODR_IRB_diff_2);<br> pit_alternative_stdev_moderate_2 = sqrt((1-0.7)*MSE_IRB_2);<br> pit_alternative_stdev_poor_2 = sqrt((1-0.4)*MSE_IRB_2);<br> ttc_alternative_stdev_2 = CV_1*mean(m2[,index[,\\\"DR_nw\\\"]]);<br> pit_pd_me_nw_2 = pit_alternative_stdev_moderate_2*J(nrow(m2),1,1);<br> pit_pd_me_nw_wide_2 = pit_alternative_stdev_poor_2*J(nrow(m2),1,1);<br> ttc_pd_me_nw_2 = ttc_alternative_stdev_2*J(nrow(m2),1,1);<br> size_me_2 = J(nrow(m2), 1, 0);<br> size_nonZero_2 = loc(m2[,index[,\\\"expected_pit_defaults\\\"]]>0 & m2[,index[,\\\"expected_pit_def_os\\\"]]>0);<br> size_me_2[size_nonZero_2] = (m2[size_nonZero_2, index[,\\\"stdev_pit_def_os\\\"]]/sqrt(m2[size_nonZero_2, index[,\\\"expected_pit_defaults\\\"]])) /m2[size_nonZero_2, index[,\\\"expected_pit_def_os\\\"]];<br> pit_pd_me_ew_2 = sqrt((pit_pd_me_nw_wide_2##2 + mean(m2[,index[,\\\"DR_nw\\\"]])##2) #(size_me_2##2 + 1) - (mean(m2[,index[,\\\"DR_nw\\\"]])##2));<br> ttc_pd_me_ew_2 = sqrt((ttc_pd_me_nw_2##2 + mean(m2[,index[,\\\"DR_nw\\\"]])##2) #(size_me_2##2 + 1)- (mean(m2[,index[,\\\"DR_nw\\\"]])##2));<br> alpha_lower = probit(0.025);<br> alpha_upper = probit(0.975);<br> confidence_intervals_2 = J(nrow(m2),8,.);<br> confidence_intervals_2[,2*2*(1-1)+2*(1-1)+1] = 0<>((alpha_lower) # (pit_pd_me_nw_2) + m2[, index[, \\\"pit_prob_nw\\\"]]);<br> confidence_intervals_2[,2*2*(1-1)+2*(1-1)+2] = 0<>((alpha_upper) # (pit_pd_me_nw_2) + m2[, index[, \\\"pit_prob_nw\\\"]]);<br> confidence_intervals_2[,2*2*(1-1)+2*(2-1)+1] = 0<>((alpha_lower) # (ttc_pd_me_nw_2) + m2[, index[, \\\"ttc_prob_nw\\\"]]);<br> confidence_intervals_2[,2*2*(1-1)+2*(2-1)+2] = 0<>((alpha_upper) # (ttc_pd_me_nw_2) + m2[, index[, \\\"ttc_prob_nw\\\"]]);<br> confidence_intervals_2[,2*2*(2-1)+2*(1-1)+1] = 0<>((alpha_lower) # (pit_pd_me_ew_2) + m2[, index[, \\\"pit_prob_ew\\\"]]);<br> confidence_intervals_2[,2*2*(2-1)+2*(1-1)+2] = 0<>((alpha_upper) # (pit_pd_me_ew_2) + m2[, index[, \\\"pit_prob_ew\\\"]]);<br> confidence_intervals_2[,2*2*(2-1)+2*(2-1)+1] = 0<>((alpha_lower) # (ttc_pd_me_ew_2) + m2[, index[, \\\"ttc_prob_ew\\\"]]);<br> confidence_intervals_2[,2*2*(2-1)+2*(2-1)+2] = 0<>((alpha_upper) # (ttc_pd_me_ew_2) + m2[, index[, \\\"ttc_prob_ew\\\"]]);<br> confidence_intervals = confidence_intervals // confidence_intervals_2;<br> me_data_2 = 2*J(nrow(m2),1,1) || pit_binom_stdev_2 || ttc_binom_stdev_2 || ODR_IRB_diff_2 || MSE_IRB_2*J(nrow(m2),1,1) || pit_alternative_stdev_moderate_2*J(nrow(m2),1,1) || pit_alternative_stdev_poor_2*J(nrow(m2),1,1) || ttc_alternative_stdev_2*J(nrow(m2),1,1) || pit_pd_me_nw_2 || pit_pd_me_nw_wide_2 || ttc_pd_me_nw_2 || size_me_2 || pit_pd_me_ew_2 || ttc_pd_me_ew_2;<br> me_data = me_data // me_data_2;<br> pit_binom_stdev_3 = J(nrow(m3), 1, 0);<br> pit_binom_nonZero_3 = loc(m3[,index[,\\\"total_obs_date\\\"]]>0);<br> pit_binom_stdev_3[pit_binom_nonZero_3] = sqrt(m3[pit_binom_nonZero_3, index[,\\\"pit_prob_nw\\\"]]#(1 - m3[pit_binom_nonZero_3, index[,\\\"pit_prob_nw\\\"]]) /m3[pit_binom_nonZero_3, index[,\\\"total_obs_date\\\"]]);<br> ttc_binom_stdev_3 = J(nrow(m3), 1, 0);<br> ttc_binom_nonZero_3 = loc(m3[,index[,\\\"total_obs_date\\\"]]>0);<br> ttc_binom_stdev_3[ttc_binom_nonZero_3] = sqrt(m3[ttc_binom_nonZero_3, index[,\\\"ttc_prob_nw\\\"]]#(1 - m3[ttc_binom_nonZero_3, index[,\\\"ttc_prob_nw\\\"]])) /sqrt(m3[ttc_binom_nonZero_3, index[,\\\"total_obs_date\\\"]]);<br> ODR_IRB_diff_3 = m3[,index[,\\\"DR_nw\\\"]] - m3[,index[,\\\"ttc_prob_nw\\\"]];<br> if nrow(ODR_IRB_diff_3)=0 then MSE_IRB_3=0;<br> else MSE_IRB_3 = sum(ODR_IRB_diff_3#ODR_IRB_diff_3)/nrow(ODR_IRB_diff_3);<br> pit_alternative_stdev_moderate_3 = sqrt((1-0.7)*MSE_IRB_3);<br> pit_alternative_stdev_poor_3 = sqrt((1-0.4)*MSE_IRB_3);<br> ttc_alternative_stdev_3 = CV_1*mean(m3[,index[,\\\"DR_nw\\\"]]);<br> pit_pd_me_nw_3 = pit_alternative_stdev_moderate_3*J(nrow(m3),1,1);<br> pit_pd_me_nw_wide_3 = pit_alternative_stdev_poor_3*J(nrow(m3),1,1);<br> ttc_pd_me_nw_3 = ttc_alternative_stdev_3*J(nrow(m3),1,1);<br> size_me_3 = J(nrow(m3), 1, 0);<br> size_nonZero_3 = loc(m3[,index[,\\\"expected_pit_defaults\\\"]]>0 & m3[,index[,\\\"expected_pit_def_os\\\"]]>0);<br> size_me_3[size_nonZero_3] = (m3[size_nonZero_3, index[,\\\"stdev_pit_def_os\\\"]]/sqrt(m3[size_nonZero_3, index[,\\\"expected_pit_defaults\\\"]])) /m3[size_nonZero_3, index[,\\\"expected_pit_def_os\\\"]];<br> pit_pd_me_ew_3 = sqrt((pit_pd_me_nw_wide_3##2 + mean(m3[,index[,\\\"DR_nw\\\"]])##2) #(size_me_3##2 + 1) - (mean(m3[,index[,\\\"DR_nw\\\"]])##2));<br> ttc_pd_me_ew_3 = sqrt((ttc_pd_me_nw_3##2 + mean(m3[,index[,\\\"DR_nw\\\"]])##2) #(size_me_3##2 + 1)- (mean(m3[,index[,\\\"DR_nw\\\"]])##2));<br> alpha_lower = probit(0.025);<br> alpha_upper = probit(0.975);<br> confidence_intervals_3 = J(nrow(m3),8,.);<br> confidence_intervals_3[,2*2*(1-1)+2*(1-1)+1] = 0<>((alpha_lower) # (pit_pd_me_nw_3) + m3[, index[, \\\"pit_prob_nw\\\"]]);<br> confidence_intervals_3[,2*2*(1-1)+2*(1-1)+2] = 0<>((alpha_upper) # (pit_pd_me_nw_3) + m3[, index[, \\\"pit_prob_nw\\\"]]);<br> confidence_intervals_3[,2*2*(1-1)+2*(2-1)+1] = 0<>((alpha_lower) # (ttc_pd_me_nw_3) + m3[, index[, \\\"ttc_prob_nw\\\"]]);<br> confidence_intervals_3[,2*2*(1-1)+2*(2-1)+2] = 0<>((alpha_upper) # (ttc_pd_me_nw_3) + m3[, index[, \\\"ttc_prob_nw\\\"]]);<br> confidence_intervals_3[,2*2*(2-1)+2*(1-1)+1] = 0<>((alpha_lower) # (pit_pd_me_ew_3) + m3[, index[, \\\"pit_prob_ew\\\"]]);<br> confidence_intervals_3[,2*2*(2-1)+2*(1-1)+2] = 0<>((alpha_upper) # (pit_pd_me_ew_3) + m3[, index[, \\\"pit_prob_ew\\\"]]);<br> confidence_intervals_3[,2*2*(2-1)+2*(2-1)+1] = 0<>((alpha_lower) # (ttc_pd_me_ew_3) + m3[, index[, \\\"ttc_prob_ew\\\"]]);<br> confidence_intervals_3[,2*2*(2-1)+2*(2-1)+2] = 0<>((alpha_upper) # (ttc_pd_me_ew_3) + m3[, index[, \\\"ttc_prob_ew\\\"]]);<br> confidence_intervals = confidence_intervals // confidence_intervals_3;<br> me_data_3 = 3*J(nrow(m3),1,1) || pit_binom_stdev_3 || ttc_binom_stdev_3 || ODR_IRB_diff_3 || MSE_IRB_3*J(nrow(m3),1,1) || pit_alternative_stdev_moderate_3*J(nrow(m3),1,1) || pit_alternative_stdev_poor_3*J(nrow(m3),1,1) || ttc_alternative_stdev_3*J(nrow(m3),1,1) || pit_pd_me_nw_3 || pit_pd_me_nw_wide_3 || ttc_pd_me_nw_3 || size_me_3 || pit_pd_me_ew_3 || ttc_pd_me_ew_3;<br> me_data = me_data // me_data_3;<br> pit_binom_stdev_4 = J(nrow(m4), 1, 0);<br> pit_binom_nonZero_4 = loc(m4[,index[,\\\"total_obs_date\\\"]]>0);<br> pit_binom_stdev_4[pit_binom_nonZero_4] = sqrt(m4[pit_binom_nonZero_4, index[,\\\"pit_prob_nw\\\"]]#(1 - m4[pit_binom_nonZero_4, index[,\\\"pit_prob_nw\\\"]]) /m4[pit_binom_nonZero_4, index[,\\\"total_obs_date\\\"]]);<br> ttc_binom_stdev_4 = J(nrow(m4), 1, 0);<br> ttc_binom_nonZero_4 = loc(m4[,index[,\\\"total_obs_date\\\"]]>0);<br> ttc_binom_stdev_4[ttc_binom_nonZero_4] = sqrt(m4[ttc_binom_nonZero_4, index[,\\\"ttc_prob_nw\\\"]]#(1 - m4[ttc_binom_nonZero_4, index[,\\\"ttc_prob_nw\\\"]])) /sqrt(m4[ttc_binom_nonZero_4, index[,\\\"total_obs_date\\\"]]);<br> ODR_IRB_diff_4 = m4[,index[,\\\"DR_nw\\\"]] - m4[,index[,\\\"ttc_prob_nw\\\"]];<br> if nrow(ODR_IRB_diff_4)=0 then MSE_IRB_4=0;<br> else MSE_IRB_4 = sum(ODR_IRB_diff_4#ODR_IRB_diff_4)/nrow(ODR_IRB_diff_4);<br> pit_alternative_stdev_moderate_4 = sqrt((1-0.7)*MSE_IRB_4);<br> pit_alternative_stdev_poor_4 = sqrt((1-0.4)*MSE_IRB_4);<br> ttc_alternative_stdev_4 = CV_1*mean(m4[,index[,\\\"DR_nw\\\"]]);<br> pit_pd_me_nw_4 = pit_alternative_stdev_moderate_4*J(nrow(m4),1,1);<br> pit_pd_me_nw_wide_4 = pit_alternative_stdev_poor_4*J(nrow(m4),1,1);<br> ttc_pd_me_nw_4 = ttc_alternative_stdev_4*J(nrow(m4),1,1);<br> size_me_4 = J(nrow(m4), 1, 0);<br> size_nonZero_4 = loc(m4[,index[,\\\"expected_pit_defaults\\\"]]>0 & m4[,index[,\\\"expected_pit_def_os\\\"]]>0);<br> size_me_4[size_nonZero_4] = (m4[size_nonZero_4, index[,\\\"stdev_pit_def_os\\\"]]/sqrt(m4[size_nonZero_4, index[,\\\"expected_pit_defaults\\\"]])) /m4[size_nonZero_4, index[,\\\"expected_pit_def_os\\\"]];<br> pit_pd_me_ew_4 = sqrt((pit_pd_me_nw_wide_4##2 + mean(m4[,index[,\\\"DR_nw\\\"]])##2) #(size_me_4##2 + 1) - (mean(m4[,index[,\\\"DR_nw\\\"]])##2));<br> ttc_pd_me_ew_4 = sqrt((ttc_pd_me_nw_4##2 + mean(m4[,index[,\\\"DR_nw\\\"]])##2) #(size_me_4##2 + 1)- (mean(m4[,index[,\\\"DR_nw\\\"]])##2));<br> alpha_lower = probit(0.025);<br> alpha_upper = probit(0.975);<br> confidence_intervals_4 = J(nrow(m4),8,.);<br> confidence_intervals_4[,2*2*(1-1)+2*(1-1)+1] = 0<>((alpha_lower) # (pit_pd_me_nw_4) + m4[, index[, \\\"pit_prob_nw\\\"]]);<br> confidence_intervals_4[,2*2*(1-1)+2*(1-1)+2] = 0<>((alpha_upper) # (pit_pd_me_nw_4) + m4[, index[, \\\"pit_prob_nw\\\"]]);<br> confidence_intervals_4[,2*2*(1-1)+2*(2-1)+1] = 0<>((alpha_lower) # (ttc_pd_me_nw_4) + m4[, index[, \\\"ttc_prob_nw\\\"]]);<br> confidence_intervals_4[,2*2*(1-1)+2*(2-1)+2] = 0<>((alpha_upper) # (ttc_pd_me_nw_4) + m4[, index[, \\\"ttc_prob_nw\\\"]]);<br> confidence_intervals_4[,2*2*(2-1)+2*(1-1)+1] = 0<>((alpha_lower) # (pit_pd_me_ew_4) + m4[, index[, \\\"pit_prob_ew\\\"]]);<br> confidence_intervals_4[,2*2*(2-1)+2*(1-1)+2] = 0<>((alpha_upper) # (pit_pd_me_ew_4) + m4[, index[, \\\"pit_prob_ew\\\"]]);<br> confidence_intervals_4[,2*2*(2-1)+2*(2-1)+1] = 0<>((alpha_lower) # (ttc_pd_me_ew_4) + m4[, index[, \\\"ttc_prob_ew\\\"]]);<br> confidence_intervals_4[,2*2*(2-1)+2*(2-1)+2] = 0<>((alpha_upper) # (ttc_pd_me_ew_4) + m4[, index[, \\\"ttc_prob_ew\\\"]]);<br> confidence_intervals = confidence_intervals // confidence_intervals_4;<br> me_data_4 = 4*J(nrow(m4),1,1) || pit_binom_stdev_4 || ttc_binom_stdev_4 || ODR_IRB_diff_4 || MSE_IRB_4*J(nrow(m4),1,1) || pit_alternative_stdev_moderate_4*J(nrow(m4),1,1) || pit_alternative_stdev_poor_4*J(nrow(m4),1,1) || ttc_alternative_stdev_4*J(nrow(m4),1,1) || pit_pd_me_nw_4 || pit_pd_me_nw_wide_4 || ttc_pd_me_nw_4 || size_me_4 || pit_pd_me_ew_4 || ttc_pd_me_ew_4;<br> me_data = me_data // me_data_4;<br> pit_binom_stdev_5 = J(nrow(m5), 1, 0);<br> pit_binom_nonZero_5 = loc(m5[,index[,\\\"total_obs_date\\\"]]>0);<br> pit_binom_stdev_5[pit_binom_nonZero_5] = sqrt(m5[pit_binom_nonZero_5, index[,\\\"pit_prob_nw\\\"]]#(1 - m5[pit_binom_nonZero_5, index[,\\\"pit_prob_nw\\\"]]) /m5[pit_binom_nonZero_5, index[,\\\"total_obs_date\\\"]]);<br> ttc_binom_stdev_5 = J(nrow(m5), 1, 0);<br> ttc_binom_nonZero_5 = loc(m5[,index[,\\\"total_obs_date\\\"]]>0);<br> ttc_binom_stdev_5[ttc_binom_nonZero_5] = sqrt(m5[ttc_binom_nonZero_5, index[,\\\"ttc_prob_nw\\\"]]#(1 - m5[ttc_binom_nonZero_5, index[,\\\"ttc_prob_nw\\\"]])) /sqrt(m5[ttc_binom_nonZero_5, index[,\\\"total_obs_date\\\"]]);<br> ODR_IRB_diff_5 = m5[,index[,\\\"DR_nw\\\"]] - m5[,index[,\\\"ttc_prob_nw\\\"]];<br> if nrow(ODR_IRB_diff_5)=0 then MSE_IRB_5=0;<br> else MSE_IRB_5 = sum(ODR_IRB_diff_5#ODR_IRB_diff_5)/nrow(ODR_IRB_diff_5);<br> pit_alternative_stdev_moderate_5 = sqrt((1-0.7)*MSE_IRB_5);<br> pit_alternative_stdev_poor_5 = sqrt((1-0.4)*MSE_IRB_5);<br> ttc_alternative_stdev_5 = CV_1*mean(m5[,index[,\\\"DR_nw\\\"]]);<br> pit_pd_me_nw_5 = pit_alternative_stdev_moderate_5*J(nrow(m5),1,1);<br> pit_pd_me_nw_wide_5 = pit_alternative_stdev_poor_5*J(nrow(m5),1,1);<br> ttc_pd_me_nw_5 = ttc_alternative_stdev_5*J(nrow(m5),1,1);<br> size_me_5 = J(nrow(m5), 1, 0);<br> size_nonZero_5 = loc(m5[,index[,\\\"expected_pit_defaults\\\"]]>0 & m5[,index[,\\\"expected_pit_def_os\\\"]]>0);<br> size_me_5[size_nonZero_5] = (m5[size_nonZero_5, index[,\\\"stdev_pit_def_os\\\"]]/sqrt(m5[size_nonZero_5, index[,\\\"expected_pit_defaults\\\"]])) /m5[size_nonZero_5, index[,\\\"expected_pit_def_os\\\"]];<br> pit_pd_me_ew_5 = sqrt((pit_pd_me_nw_wide_5##2 + mean(m5[,index[,\\\"DR_nw\\\"]])##2) #(size_me_5##2 + 1) - (mean(m5[,index[,\\\"DR_nw\\\"]])##2));<br> ttc_pd_me_ew_5 = sqrt((ttc_pd_me_nw_5##2 + mean(m5[,index[,\\\"DR_nw\\\"]])##2) #(size_me_5##2 + 1)- (mean(m5[,index[,\\\"DR_nw\\\"]])##2));<br> alpha_lower = probit(0.025);<br> alpha_upper = probit(0.975);<br> confidence_intervals_5 = J(nrow(m5),8,.);<br> confidence_intervals_5[,2*2*(1-1)+2*(1-1)+1] = 0<>((alpha_lower) # (pit_pd_me_nw_5) + m5[, index[, \\\"pit_prob_nw\\\"]]);<br> confidence_intervals_5[,2*2*(1-1)+2*(1-1)+2] = 0<>((alpha_upper) # (pit_pd_me_nw_5) + m5[, index[, \\\"pit_prob_nw\\\"]]);<br> confidence_intervals_5[,2*2*(1-1)+2*(2-1)+1] = 0<>((alpha_lower) # (ttc_pd_me_nw_5) + m5[, index[, \\\"ttc_prob_nw\\\"]]);<br> confidence_intervals_5[,2*2*(1-1)+2*(2-1)+2] = 0<>((alpha_upper) # (ttc_pd_me_nw_5) + m5[, index[, \\\"ttc_prob_nw\\\"]]);<br> confidence_intervals_5[,2*2*(2-1)+2*(1-1)+1] = 0<>((alpha_lower) # (pit_pd_me_ew_5) + m5[, index[, \\\"pit_prob_ew\\\"]]);<br> confidence_intervals_5[,2*2*(2-1)+2*(1-1)+2] = 0<>((alpha_upper) # (pit_pd_me_ew_5) + m5[, index[, \\\"pit_prob_ew\\\"]]);<br> confidence_intervals_5[,2*2*(2-1)+2*(2-1)+1] = 0<>((alpha_lower) # (ttc_pd_me_ew_5) + m5[, index[, \\\"ttc_prob_ew\\\"]]);<br> confidence_intervals_5[,2*2*(2-1)+2*(2-1)+2] = 0<>((alpha_upper) # (ttc_pd_me_ew_5) + m5[, index[, \\\"ttc_prob_ew\\\"]]);<br> confidence_intervals = confidence_intervals // confidence_intervals_5;<br> me_data_5 = 5*J(nrow(m5),1,1) || pit_binom_stdev_5 || ttc_binom_stdev_5 || ODR_IRB_diff_5 || MSE_IRB_5*J(nrow(m5),1,1) || pit_alternative_stdev_moderate_5*J(nrow(m5),1,1) || pit_alternative_stdev_poor_5*J(nrow(m5),1,1) || ttc_alternative_stdev_5*J(nrow(m5),1,1) || pit_pd_me_nw_5 || pit_pd_me_nw_wide_5 || ttc_pd_me_nw_5 || size_me_5 || pit_pd_me_ew_5 || ttc_pd_me_ew_5;<br> me_data = me_data // me_data_5;<br> pred_obs_ci = pred_obs || confidence_intervals;<br> pred_obs_ci_col_names =col_elements || t({\\\"pit_nw_lower_ci\\\", \\\"pit_nw_upper_ci\\\", \\\"ttc_nw_lower_ci\\\", \\\"ttc_nw_upper_ci\\\", \\\"pit_ew_lower_ci\\\", \\\"pit_ew_upper_ci\\\", \\\"ttc_ew_lower_ci\\\", \\\"ttc_ew_upper_ci\\\" });<br> create __MTF_PD_JOIN_MULTIYEAR_CI from pred_obs_ci[colname=pred_obs_ci_col_names];<br> append from pred_obs_ci;<br> close __MTF_PD_JOIN_MULTIYEAR_CI;<br> me_data = pred_obs[, index[, \\\"reporting_date\\\"]] || me_data;<br> me_data_col_names = t({ \\\"reporting_date\\\", \\\"__time_period\\\", \\\"pit_binom_stdev\\\", \\\"ttc_binom_stdev\\\", \\\"ODR_IRB_diff\\\", \\\"MSE_IRB\\\", \\\"pit_alternative_stdev_moderate\\\", \\\"pit_alternative_stdev_poor\\\", \\\"ttc_alternative_stdev\\\", \\\"pit_pd_me_nw\\\", \\\"pit_pd_me_nw_wide\\\", \\\"ttc_pd_me_nw\\\", \\\"size_me\\\", \\\"pit_pd_me_ew\\\", \\\"ttc_pd_me_ew\\\"});<br> create work.__MTF_PD_PIT_MULTIYEAR_ME from me_data[colname=me_data_col_names];<br> append from me_data;<br> close work.__MTF_PD_PIT_MULTIYEAR_ME;<br> quit;<br><br>\", \" proc sql noprint;<br> create table __MTF_PD_JOIN_MULTIYEAR_CI_ME as select a.* , b.pit_pd_me_nw , b.pit_pd_me_ew , b.size_me from __MTF_PD_JOIN_MULTIYEAR_CI as a left join work.__MTF_PD_PIT_MULTIYEAR_ME as b on a.reporting_date = b.reporting_date and a.__time_period = b.__time_period order by a.__time_period, a.reporting_date ;<br>quit;<br><br>\", \" proc sql noprint _method;<br> create table work.__MTF_PD_PIT_CONCLUSION as select a.* , case when dr_nw lt pit_nw_lower_ci then 'conservative' when dr_nw ge pit_nw_lower_ci and dr_nw le pit_nw_upper_ci then 'accurate' when dr_nw gt pit_nw_upper_ci then 'optimistic' else '' end as conclusion_nw informat $12. , case when dr_ew lt pit_ew_lower_ci then 'conservative' when dr_ew ge pit_ew_lower_ci and dr_ew le pit_ew_upper_ci then 'accurate' when dr_ew gt pit_ew_upper_ci then 'optimistic' else '' end as conclusion_ew informat $12. from __MTF_PD_JOIN_MULTIYEAR_CI_ME a ;<br>quit;<br><br>\", \" proc datasets lib = work nolist noprint memtype=all;<br> delete __MTF_PD_JOIN: / mt=data;<br> quit;<br>;<br><br>\", \" data work.test_PD_PIT_U (KEEP = reporting_date time_interval observed_nw observed_ew pit_pd_nw pit_pd_ew ttc_pd_nw ttc_pd_ew me_size me_nw me_ew lower_bound_nw lower_bound_ew upper_bound_nw upper_bound_ew conclusion_nw conclusion_ew _library_version_ _time_stamp_ _note_ ) work.test_PD_PIT (KEEP = reporting_date time_interval measure_name measure_value _library_version_ _time_stamp_ _note_ );<br> retain reporting_date time_interval observed_nw observed_ew pit_pd_nw pit_pd_ew ttc_pd_nw ttc_pd_ew me_size me_nw me_ew lower_bound_nw lower_bound_ew upper_bound_nw upper_bound_ew conclusion_nw conclusion_ew _library_version_ _time_stamp_ _note_ ;<br> set WORK.__MTF_PD_PIT_CONCLUSION( keep= reporting_date __time_period DR_nw DR_ew pit_prob_nw pit_prob_ew ttc_prob_nw ttc_prob_ew pit_pd_me_nw pit_pd_me_ew size_me pit_nw_lower_ci pit_nw_upper_ci pit_ew_lower_ci pit_ew_upper_ci conclusion_nw conclusion_ew rename=( __time_period = time_interval DR_nw = observed_nw DR_ew = observed_ew pit_prob_nw = pit_pd_nw pit_prob_ew = pit_pd_ew ttc_prob_nw = ttc_pd_nw ttc_prob_ew = ttc_pd_ew size_me = me_size pit_pd_me_nw = me_nw pit_pd_me_ew = me_ew pit_nw_lower_ci = lower_bound_nw pit_ew_lower_ci = lower_bound_ew pit_nw_upper_ci = upper_bound_nw pit_ew_upper_ci = upper_bound_ew ) ) ;<br> LENGTH _time_stamp_ 8 _note_ $40 _library_version_ $100 measure_name $32 ;<br> FORMAT _time_stamp_ DATETIME.;<br> _time_stamp_ = 1943001265.7325;<br> _library_version_= \\\"MTF: 1.7.0 MTF_PD_PIT_BACKTEST: 4.00\\\";<br> if _note_ ne '' then do;<br> observed_nw = .;<br> observed_ew = .;<br> pit_pd_nw = .;<br> pit_pd_ew =.;<br> me_size =.;<br> me_nw =.;<br> me_ew =.;<br> lower_bound_nw = .;<br> lower_bound_ew = .;<br> upper_bound_nw = .;<br> upper_bound_ew = .;<br> conclusion_nw = '';<br> conclusion_ew = '';<br> end;<br> output work.test_PD_PIT_u;<br> measure_name = 'observed_nw';<br> measure_value = observed_nw;<br> OUTPUT work.test_PD_PIT;<br> measure_name = 'observed_ew';<br> measure_value = observed_ew;<br> OUTPUT work.test_PD_PIT;<br> measure_name = 'pit_pd_nw';<br> measure_value = pit_pd_nw;<br> OUTPUT work.test_PD_PIT;<br> measure_name = 'pit_pd_ew';<br> measure_value = pit_pd_ew;<br> OUTPUT work.test_PD_PIT;<br> measure_name = 'me_size';<br> measure_value = me_size;<br> OUTPUT work.test_PD_PIT;<br> measure_name = 'me_nw';<br> measure_value = me_nw;<br> OUTPUT work.test_PD_PIT;<br> measure_name = 'me_ew';<br> measure_value = me_ew;<br> OUTPUT work.test_PD_PIT;<br> measure_name = 'lower_bound_nw';<br> measure_value = lower_bound_nw;<br> OUTPUT work.test_PD_PIT;<br> measure_name = 'lower_bound_ew';<br> measure_value = lower_bound_ew;<br> OUTPUT work.test_PD_PIT;<br> measure_name = 'upper_bound_nw';<br> measure_value = upper_bound_nw;<br> OUTPUT work.test_PD_PIT;<br> measure_name = 'upper_bound_ew';<br> measure_value = upper_bound_ew;<br> OUTPUT work.test_PD_PIT;<br> format reporting_date date9.;<br> run;<br><br>\", \" proc sql noprint _method;<br> create table work.test_PD_TTC_IN as select a.reporting_date as reporting_date , a.rating_number as rating , a.country_code_map as country_code_map , a.total_nw_1 as number_of_observations , a.oad_1 as os , a.DR_nw_1 as dr_nw , a.DR_ew_1 as dr_ew , b.__multiyear_pit_probability as pd_pit from ( select reporting_date , rating_number , country_code_map , sum(marginal_intodefault_flag_1) as defaulted_nw_1 , sum(marginal_intodefault_flag_1*os_e) as defaulted_ew_1 , sum(performing_flag_1) as total_nw_1 , sum(performing_flag_1*os_e) as total_ew_1 , sum(os_e) as oad_1 , intck('month', reporting_date, 21914) >= 12 as full_window_1 , (case when calculated full_window_1 then (calculated defaulted_nw_1 / calculated total_nw_1) else . end) as DR_nw_1 format percent10.2 , (case when calculated full_window_1 then (calculated defaulted_ew_1 / calculated total_ew_1) else . end) as DR_ew_1 format percent10.2 from WORK.__MTF_PD_PIT_PROC_MULTIYEAR_DATA where default_ind eq 0 and mod(month(reporting_date), 3) eq 0 and calculated full_window_1 eq 1 group by reporting_date , rating_number , country_code_map ) a inner join ( select reporting_date , country_code_map , __risk_rating_from , __multiyear_pit_probability from WORK.__MTF_PD_PIT_MULTIYEAR_PIT_PD_20 where __year eq 1 ) b on a.reporting_date eq b.reporting_date and a.country_code_map eq b.country_code_map and a.rating_number eq b.__risk_rating_from ;<br>quit;<br><br>\", \" proc sql noprint;<br> create table WORK.__MTF_PD_NON_TO_RATINGS as select customer_id , reporting_date , rating_number from __MTF_PD_NON_MIGRATIONS_IN order by customer_id , reporting_date , rating_number ;<br>quit;<br><br>\", \" proc sql noprint _method;<br> create table WORK.__MTF_PD_NON_RATING_MIGRATIONS as select a.customer_id , a.reporting_date as __from_date , a.intodefault_flag_1 , a.rating_number as __rating_from , b.rating_number as __rating_to from ( select customer_id , reporting_date , rating_number , intodefault_flag_1 from WORK.__MTF_PD_NON_MIGRATIONS_IN where reporting_date <= intnx('month', 21914, -12*1, 'end') ) a left join WORK.__MTF_PD_NON_TO_RATINGS as b on a.customer_id = b.customer_id and a.reporting_date = intnx('month', b.reporting_date,-12*1, 'end') ;<br>quit;<br><br>\", \" data WORK.__MTF_PD_NON_RATING_MIGRATIONS (drop= intodefault_flag_1);<br> set WORK.__MTF_PD_NON_RATING_MIGRATIONS;<br> if not missing(__rating_from);<br> if intodefault_flag_1 then __rating_to = 20;<br> if not missing(__rating_to);<br> run;<br><br>\", \" proc sql noprint;<br> create table WORK.__MTF_PD_NON_RATING_MIG_COUNTS_1 as select __from_date , __rating_from , __rating_to , count(*) as __nr_of_migrations from WORK.__MTF_PD_NON_RATING_MIGRATIONS group by __from_date , __rating_from , __rating_to ;<br>quit;<br><br>\", \" proc sql noprint _method;<br> create table WORK.__MTF_PD_NON_MIGRATION_TEMPLATE as select a.__from_date , b.__rating_from , c.__rating_to from ( select distinct __from_date from WORK.__MTF_PD_NON_RATING_MIG_COUNTS_1 ) a cross join ( select distinct __rating_from from WORK.__MTF_PD_NON_RATING_MIG_COUNTS_1 union all select distinct __rating_to as __rating_from from WORK.__MTF_PD_NON_RATING_MIG_COUNTS_1 ) b cross join ( select distinct __rating_to from WORK.__MTF_PD_NON_RATING_MIG_COUNTS_1 union all select distinct __rating_from as __rating_to from WORK.__MTF_PD_NON_RATING_MIG_COUNTS_1 ) c ;<br>quit;<br><br>\", \" proc sql noprint _method;<br> create table WORK.__MTF_PD_NON_RATING_MIG_RES_1 as select a.__from_date , a.__rating_from , a.__rating_to , coalesce(b.__nr_of_migrations,0) as __nr_of_migrations from WORK.__MTF_PD_NON_MIGRATION_TEMPLATE as a left join WORK.__MTF_PD_NON_RATING_MIG_COUNTS_1 as b on a.__from_date = b.__from_date and a.__rating_from = b.__rating_from and a.__rating_to = b.__rating_to ;<br>quit;<br><br>\", \" proc sql noprint;<br> create table WORK.__MTF_PD_NON_RATING_MIG_RES2_1 as select a.* , sum(__nr_of_migrations) as __nr_of_migrations_from , coalesce(__nr_of_migrations / calculated __nr_of_migrations_from, 0) as __migration_rate_from from WORK.__MTF_PD_NON_RATING_MIG_RES_1 a group by __from_date , __rating_from ;<br>quit;<br><br>\", \" proc sql noprint _method;<br> create table WORK.__MTF_PD_NON_RATING_MIGRATIONS as select a.customer_id , a.reporting_date as __from_date , a.intodefault_flag_2 , a.rating_number as __rating_from , b.rating_number as __rating_to from ( select customer_id , reporting_date , rating_number , intodefault_flag_2 from WORK.__MTF_PD_NON_MIGRATIONS_IN where reporting_date <= intnx('month', 21914, -12*2, 'end') ) a left join WORK.__MTF_PD_NON_TO_RATINGS as b on a.customer_id = b.customer_id and a.reporting_date = intnx('month', b.reporting_date,-12*2, 'end') ;<br>quit;<br><br>\", \" data WORK.__MTF_PD_NON_RATING_MIGRATIONS (drop= intodefault_flag_2);<br> set WORK.__MTF_PD_NON_RATING_MIGRATIONS;<br> if not missing(__rating_from);<br> if intodefault_flag_2 then __rating_to = 20;<br> if not missing(__rating_to);<br> run;<br><br>\", \" proc sql noprint;<br> create table WORK.__MTF_PD_NON_RATING_MIG_COUNTS_2 as select __from_date , __rating_from , __rating_to , count(*) as __nr_of_migrations from WORK.__MTF_PD_NON_RATING_MIGRATIONS group by __from_date , __rating_from , __rating_to ;<br>quit;<br><br>\", \" proc sql noprint _method;<br> create table WORK.__MTF_PD_NON_MIGRATION_TEMPLATE as select a.__from_date , b.__rating_from , c.__rating_to from ( select distinct __from_date from WORK.__MTF_PD_NON_RATING_MIG_COUNTS_2 ) a cross join ( select distinct __rating_from from WORK.__MTF_PD_NON_RATING_MIG_COUNTS_2 union all select distinct __rating_to as __rating_from from WORK.__MTF_PD_NON_RATING_MIG_COUNTS_2 ) b cross join ( select distinct __rating_to from WORK.__MTF_PD_NON_RATING_MIG_COUNTS_2 union all select distinct __rating_from as __rating_to from WORK.__MTF_PD_NON_RATING_MIG_COUNTS_2 ) c ;<br>quit;<br><br>\", \" proc sql noprint _method;<br> create table WORK.__MTF_PD_NON_RATING_MIG_RES_2 as select a.__from_date , a.__rating_from , a.__rating_to , coalesce(b.__nr_of_migrations,0) as __nr_of_migrations from WORK.__MTF_PD_NON_MIGRATION_TEMPLATE as a left join WORK.__MTF_PD_NON_RATING_MIG_COUNTS_2 as b on a.__from_date = b.__from_date and a.__rating_from = b.__rating_from and a.__rating_to = b.__rating_to ;<br>quit;<br><br>\", \" proc sql noprint;<br> create table WORK.__MTF_PD_NON_RATING_MIG_RES2_2 as select a.* , sum(__nr_of_migrations) as __nr_of_migrations_from , coalesce(__nr_of_migrations / calculated __nr_of_migrations_from, 0) as __migration_rate_from from WORK.__MTF_PD_NON_RATING_MIG_RES_2 a group by __from_date , __rating_from ;<br>quit;<br><br>\", \" proc sql noprint _method;<br> create table WORK.__MTF_PD_NON_RATING_MIGRATIONS as select a.customer_id , a.reporting_date as __from_date , a.intodefault_flag_3 , a.rating_number as __rating_from , b.rating_number as __rating_to from ( select customer_id , reporting_date , rating_number , intodefault_flag_3 from WORK.__MTF_PD_NON_MIGRATIONS_IN where reporting_date <= intnx('month', 21914, -12*3, 'end') ) a left join WORK.__MTF_PD_NON_TO_RATINGS as b on a.customer_id = b.customer_id and a.reporting_date = intnx('month', b.reporting_date,-12*3, 'end') ;<br>quit;<br><br>\", \" data WORK.__MTF_PD_NON_RATING_MIGRATIONS (drop= intodefault_flag_3);<br> set WORK.__MTF_PD_NON_RATING_MIGRATIONS;<br> if not missing(__rating_from);<br> if intodefault_flag_3 then __rating_to = 20;<br> if not missing(__rating_to);<br> run;<br><br>\", \" proc sql noprint;<br> create table WORK.__MTF_PD_NON_RATING_MIG_COUNTS_3 as select __from_date , __rating_from , __rating_to , count(*) as __nr_of_migrations from WORK.__MTF_PD_NON_RATING_MIGRATIONS group by __from_date , __rating_from , __rating_to ;<br>quit;<br><br>\", \" proc sql noprint _method;<br> create table WORK.__MTF_PD_NON_MIGRATION_TEMPLATE as select a.__from_date , b.__rating_from , c.__rating_to from ( select distinct __from_date from WORK.__MTF_PD_NON_RATING_MIG_COUNTS_3 ) a cross join ( select distinct __rating_from from WORK.__MTF_PD_NON_RATING_MIG_COUNTS_3 union all select distinct __rating_to as __rating_from from WORK.__MTF_PD_NON_RATING_MIG_COUNTS_3 ) b cross join ( select distinct __rating_to from WORK.__MTF_PD_NON_RATING_MIG_COUNTS_3 union all select distinct __rating_from as __rating_to from WORK.__MTF_PD_NON_RATING_MIG_COUNTS_3 ) c ;<br>quit;<br><br>\", \" proc sql noprint _method;<br> create table WORK.__MTF_PD_NON_RATING_MIG_RES_3 as select a.__from_date , a.__rating_from , a.__rating_to , coalesce(b.__nr_of_migrations,0) as __nr_of_migrations from WORK.__MTF_PD_NON_MIGRATION_TEMPLATE as a left join WORK.__MTF_PD_NON_RATING_MIG_COUNTS_3 as b on a.__from_date = b.__from_date and a.__rating_from = b.__rating_from and a.__rating_to = b.__rating_to ;<br>quit;<br><br>\", \" proc sql noprint;<br> create table WORK.__MTF_PD_NON_RATING_MIG_RES2_3 as select a.* , sum(__nr_of_migrations) as __nr_of_migrations_from , coalesce(__nr_of_migrations / calculated __nr_of_migrations_from, 0) as __migration_rate_from from WORK.__MTF_PD_NON_RATING_MIG_RES_3 a group by __from_date , __rating_from ;<br>quit;<br><br>\", \" proc sql noprint _method;<br> create table WORK.__MTF_PD_NON_RATING_MIGRATIONS as select a.customer_id , a.reporting_date as __from_date , a.intodefault_flag_4 , a.rating_number as __rating_from , b.rating_number as __rating_to from ( select customer_id , reporting_date , rating_number , intodefault_flag_4 from WORK.__MTF_PD_NON_MIGRATIONS_IN where reporting_date <= intnx('month', 21914, -12*4, 'end') ) a left join WORK.__MTF_PD_NON_TO_RATINGS as b on a.customer_id = b.customer_id and a.reporting_date = intnx('month', b.reporting_date,-12*4, 'end') ;<br>quit;<br><br>\", \" data WORK.__MTF_PD_NON_RATING_MIGRATIONS (drop= intodefault_flag_4);<br> set WORK.__MTF_PD_NON_RATING_MIGRATIONS;<br> if not missing(__rating_from);<br> if intodefault_flag_4 then __rating_to = 20;<br> if not missing(__rating_to);<br> run;<br><br>\", \" proc sql noprint;<br> create table WORK.__MTF_PD_NON_RATING_MIG_COUNTS_4 as select __from_date , __rating_from , __rating_to , count(*) as __nr_of_migrations from WORK.__MTF_PD_NON_RATING_MIGRATIONS group by __from_date , __rating_from , __rating_to ;<br>quit;<br><br>\", \" proc sql noprint _method;<br> create table WORK.__MTF_PD_NON_MIGRATION_TEMPLATE as select a.__from_date , b.__rating_from , c.__rating_to from ( select distinct __from_date from WORK.__MTF_PD_NON_RATING_MIG_COUNTS_4 ) a cross join ( select distinct __rating_from from WORK.__MTF_PD_NON_RATING_MIG_COUNTS_4 union all select distinct __rating_to as __rating_from from WORK.__MTF_PD_NON_RATING_MIG_COUNTS_4 ) b cross join ( select distinct __rating_to from WORK.__MTF_PD_NON_RATING_MIG_COUNTS_4 union all select distinct __rating_from as __rating_to from WORK.__MTF_PD_NON_RATING_MIG_COUNTS_4 ) c ;<br>quit;<br><br>\", \" proc sql noprint _method;<br> create table WORK.__MTF_PD_NON_RATING_MIG_RES_4 as select a.__from_date , a.__rating_from , a.__rating_to , coalesce(b.__nr_of_migrations,0) as __nr_of_migrations from WORK.__MTF_PD_NON_MIGRATION_TEMPLATE as a left join WORK.__MTF_PD_NON_RATING_MIG_COUNTS_4 as b on a.__from_date = b.__from_date and a.__rating_from = b.__rating_from and a.__rating_to = b.__rating_to ;<br>quit;<br><br>\", \" proc sql noprint;<br> create table WORK.__MTF_PD_NON_RATING_MIG_RES2_4 as select a.* , sum(__nr_of_migrations) as __nr_of_migrations_from , coalesce(__nr_of_migrations / calculated __nr_of_migrations_from, 0) as __migration_rate_from from WORK.__MTF_PD_NON_RATING_MIG_RES_4 a group by __from_date , __rating_from ;<br>quit;<br><br>\", \" proc sql noprint _method;<br> create table WORK.__MTF_PD_NON_RATING_MIGRATIONS as select a.customer_id , a.reporting_date as __from_date , a.intodefault_flag_5 , a.rating_number as __rating_from , b.rating_number as __rating_to from ( select customer_id , reporting_date , rating_number , intodefault_flag_5 from WORK.__MTF_PD_NON_MIGRATIONS_IN where reporting_date <= intnx('month', 21914, -12*5, 'end') ) a left join WORK.__MTF_PD_NON_TO_RATINGS as b on a.customer_id = b.customer_id and a.reporting_date = intnx('month', b.reporting_date,-12*5, 'end') ;<br>quit;<br><br>\", \" data WORK.__MTF_PD_NON_RATING_MIGRATIONS (drop= intodefault_flag_5);<br> set WORK.__MTF_PD_NON_RATING_MIGRATIONS;<br> if not missing(__rating_from);<br> if intodefault_flag_5 then __rating_to = 20;<br> if not missing(__rating_to);<br> run;<br><br>\", \" proc sql noprint;<br> create table WORK.__MTF_PD_NON_RATING_MIG_COUNTS_5 as select __from_date , __rating_from , __rating_to , count(*) as __nr_of_migrations from WORK.__MTF_PD_NON_RATING_MIGRATIONS group by __from_date , __rating_from , __rating_to ;<br>quit;<br><br>\", \" proc sql noprint _method;<br> create table WORK.__MTF_PD_NON_MIGRATION_TEMPLATE as select a.__from_date , b.__rating_from , c.__rating_to from ( select distinct __from_date from WORK.__MTF_PD_NON_RATING_MIG_COUNTS_5 ) a cross join ( select distinct __rating_from from WORK.__MTF_PD_NON_RATING_MIG_COUNTS_5 union all select distinct __rating_to as __rating_from from WORK.__MTF_PD_NON_RATING_MIG_COUNTS_5 ) b cross join ( select distinct __rating_to from WORK.__MTF_PD_NON_RATING_MIG_COUNTS_5 union all select distinct __rating_from as __rating_to from WORK.__MTF_PD_NON_RATING_MIG_COUNTS_5 ) c ;<br>quit;<br><br>\", \" proc sql noprint _method;<br> create table WORK.__MTF_PD_NON_RATING_MIG_RES_5 as select a.__from_date , a.__rating_from , a.__rating_to , coalesce(b.__nr_of_migrations,0) as __nr_of_migrations from WORK.__MTF_PD_NON_MIGRATION_TEMPLATE as a left join WORK.__MTF_PD_NON_RATING_MIG_COUNTS_5 as b on a.__from_date = b.__from_date and a.__rating_from = b.__rating_from and a.__rating_to = b.__rating_to ;<br>quit;<br><br>\", \" proc sql noprint;<br> create table WORK.__MTF_PD_NON_RATING_MIG_RES2_5 as select a.* , sum(__nr_of_migrations) as __nr_of_migrations_from , coalesce(__nr_of_migrations / calculated __nr_of_migrations_from, 0) as __migration_rate_from from WORK.__MTF_PD_NON_RATING_MIG_RES_5 a group by __from_date , __rating_from ;<br>quit;<br><br>\", \" data WORK.__MTF_PD_NON_RATING_MIG_RES2;<br> set WORK.__MTF_PD_NON_RATING_MIG_RES2_1 WORK.__MTF_PD_NON_RATING_MIG_RES2_2 WORK.__MTF_PD_NON_RATING_MIG_RES2_3 WORK.__MTF_PD_NON_RATING_MIG_RES2_4 WORK.__MTF_PD_NON_RATING_MIG_RES2_5 indsname=source ;<br> __time_period = input(substr(compress(reverse(source)),1,1),8.);<br> run;<br><br>\", \" data WORK.__MTF_PD_NON_RATING_PD_TTC;<br> set WORK.__MTF_PD_PIT_MULTIYEAR_TTC_PD_20 end=end;<br> where __time_period eq 1;<br> __rating = __risk_rating_from;<br> __pd = __multiyear_ttc_probability;<br> output;<br> if end then do;<br> __rating = 20;<br> __pd = 1;<br> output;<br> end;<br> keep __rating __pd;<br> run;<br><br>\", \" proc sql noprint _method;<br> create table WORK.__MTF_PD_MARK_RATING_MIG_AVG1 as select __time_period , __rating_from , __rating_to , mean(__migration_rate_from) as __migration_rate_from_avg from WORK.__MTF_PD_NON_RATING_MIG_RES2 group by __time_period , __rating_from , __rating_to ;<br>quit;<br><br>\", \" proc sql noprint _method magic=102;<br> create table WORK.__MTF_PD_MARK_RATING_MIG_AVG2 as select a.__time_period , a.__rating_from , a.__rating_to , a.__migration_rate_from_avg , b.__multiyear_ttc_probability from WORK.__MTF_PD_MARK_RATING_MIG_AVG1 a left join WORK.__MTF_PD_PIT_MULTIYEAR_TTC_PD b on a.__time_period eq b.__time_period and a.__rating_from eq b.__risk_rating_from and a.__rating_to eq b.__risk_rating_to ;<br>quit;<br><br>\", \" proc sql noprint _method ;<br> create table work.test_PD_MARK_IN as select a.__time_period as time_interval , a.__rating_from as rating_from , a.__rating_to as rating_to , a.__migration_rate_from_avg as migration_rate_avg , a.__multiyear_ttc_probability as pd_ttc_rating_from , b.__pd as pd_ttc_rating_to from WORK.__MTF_PD_MARK_RATING_MIG_AVG2 a left join WORK.__MTF_PD_NON_RATING_PD_TTC b on a.__rating_to eq b.__rating order by a.__time_period , a.__rating_from , a.__rating_to ;<br>quit;<br><br>\", \" proc sql noprint;<br> create table WORK.__MTF_PD_NON_RATING_MIG_RES3_1 as select a.* , sum(__nr_of_migrations) as __nr_of_migrations_to from WORK.__MTF_PD_NON_RATING_MIG_RES2 a where __rating_from ne 20 and __time_period eq 1 group by __from_date , __rating_to ;<br>quit;<br><br>\", \" proc sql noprint;<br> create table WORK.__MTF_PD_NON_RATING_PD_TTC_TABLE as select a.__rating as __rating_from , b.__rating as __rating_to , a.__pd as __pd_from , b.__pd as __pd_to from WORK.__MTF_PD_NON_RATING_PD_TTC a cross join WORK.__MTF_PD_NON_RATING_PD_TTC b where a.__rating ne 20 and b.__rating ne 20 ;<br>quit;<br><br>\", \" data WORK.__MTF_PD_NON_ONEYEAR_PIT_PD_FULL;<br> set WORK.__MTF_PD_PIT_ONEYEAR_PIT_PD_1;<br> where upcase(strip(country_code_map)) eq 'ALL';<br> run;<br><br>\", \" data WORK.__MTF_PD_NON_ONEYEAR_PIT_PD_DEF;<br> set WORK.__MTF_PD_PIT_ONEYEAR_PIT_PD_0;<br> where upcase(strip(country_code_map)) eq 'ALL';<br> run;<br><br>\", \" proc sql noprint _method magic=102;<br> create table WORK.__MTF_PD_NON_JOINED_PDS as select bc.reporting_date , a.__rating_from , a.__rating_to , a.__pd_from , a.__pd_to , bc.__pd_full , bc.__pd_def from WORK.__MTF_PD_NON_RATING_PD_TTC_TABLE a inner join ( select b.reporting_date , b.__risk_rating_from , b.__risk_rating_to , b.__probability as __pd_full , c.__probability as __pd_def from WORK.__MTF_PD_NON_ONEYEAR_PIT_PD_FULL b inner join WORK.__MTF_PD_NON_ONEYEAR_PIT_PD_DEF c on b.__risk_rating_from eq c.__risk_rating_from and b.__risk_rating_to eq c.__risk_rating_to and b.reporting_date eq c.reporting_date ) bc on a.__rating_from eq bc.__risk_rating_from and a.__rating_to eq bc.__risk_rating_to ;<br>quit;<br><br>\", \" proc sql noprint _method ;<br> create table WORK.__MTF_PD_MARK_RATING_MIG_AVG1_20 as select __rating_from , __rating_to , __migration_rate_from_avg from WORK.__MTF_PD_MARK_RATING_MIG_AVG1 d where d.__time_period eq 1 ;<br>quit;<br><br>\", \" proc sql noprint _method ;<br> create table work.test_PD_NON_IN as select a.__from_date as reporting_date , a.__rating_from as rating_from , a.__rating_to as rating_to , a.__nr_of_migrations as number_of_observations , b.__pd_from as pd_ttc_rating_from , b.__pd_to as pd_ttc_rating_to , b.__pd_full as prob_of_mig_pit , b.__pd_def as prob_of_mig_pit_def , c.pit_alternative_stdev_moderate as pd_me_nw , d.__migration_rate_from_avg as migration_rate_avg from WORK.__MTF_PD_NON_RATING_MIG_RES3_1 a inner join WORK.__MTF_PD_NON_JOINED_PDS b on a.__rating_from eq b.__rating_from and a.__rating_to eq b.__rating_to and a.__from_date eq b.reporting_date inner join WORK.__MTF_PD_PIT_MULTIYEAR_ME c on a.__from_date eq c.reporting_date and c.__time_period eq 1 inner join WORK.__MTF_PD_MARK_RATING_MIG_AVG1_20 d on a.__rating_from eq d.__rating_from and a.__rating_to eq d.__rating_to ;<br>quit;<br><br>\", \" proc sql noprint _method;<br> create table work.test_PD_STB_IN as select reporting_date as reporting_date , dr_nw as avg_obs , pit_prob_nw as avg_pred from __MTF_PD_PIT_MULTIYEAR_BOTH_GRP where __time_period eq 1 ;<br>quit;<br><br>\", \" proc sql noprint _method;<br> create table WORK.__MTF_PD_PIT_ODR_WIDE_DIS as select country_code_map , reporting_date , rating_number , sum(marginal_intodefault_flag_1) as defaulted_nw_1 , sum(performing_flag_1) as total_nw_1 , intck('month', reporting_date, 21914) >= 1*12 as full_window_1 , sum(marginal_intodefault_flag_2) as defaulted_nw_2 , sum(performing_flag_2) as total_nw_2 , intck('month', reporting_date, 21914) >= 2*12 as full_window_2 , sum(marginal_intodefault_flag_3) as defaulted_nw_3 , sum(performing_flag_3) as total_nw_3 , intck('month', reporting_date, 21914) >= 3*12 as full_window_3 , sum(marginal_intodefault_flag_4) as defaulted_nw_4 , sum(performing_flag_4) as total_nw_4 , intck('month', reporting_date, 21914) >= 4*12 as full_window_4 , sum(marginal_intodefault_flag_5) as defaulted_nw_5 , sum(performing_flag_5) as total_nw_5 , intck('month', reporting_date, 21914) >= 5*12 as full_window_5 from WORK.__MTF_PD_PIT_PROC_MULTIYEAR_DATA group by country_code_map , reporting_date , rating_number order by country_code_map , reporting_date , rating_number ;<br>quit;<br><br>\", \" proc transpose data=WORK.__MTF_PD_PIT_ODR_WIDE_DIS out=WORK.__MTF_PD_PIT_ODR_WIDE_TP_DIS ;<br> by country_code_map reporting_date rating_number ;<br> run;<br><br>\", \" data WORK.__MTF_PD_PIT_ODR_WIDE_TP_DIS (drop= pos length _name_);<br> set WORK.__MTF_PD_PIT_ODR_WIDE_TP_DIS;<br> __time_period = input(scan(_name_,-1,'_'), best12.);<br> call scan(_name_, -1, pos, length,'_');<br> final_var_name=substr(_name_,1,pos-2);<br> run;<br><br>\", \" proc transpose data=WORK.__MTF_PD_PIT_ODR_WIDE_TP_DIS out=WORK.__MTF_PD_PIT_ODR_LONG_DIS(drop=_name_ where=(full_window=1) );<br> by country_code_map reporting_date rating_number __time_period ;<br> var col1;<br> id final_var_name;<br> run;<br><br>\", \" proc sql noprint _method;<br> create table work.test_PD_DIS_IN as select a.__time_period as time_interval , a.reporting_date as reporting_date , a.rating_number as rating , a.defaulted_nw as number_of_defaulted_obs , a.total_nw as number_of_observations , b.__marginal_pit_probability as marginal_pit_probability from WORK.__MTF_PD_PIT_ODR_LONG_DIS a inner join WORK.__MTF_PD_PIT_MARGINAL_BOTH_PD b on a.reporting_date eq b.reporting_date and a.country_code_map eq b.country_code_map and a.rating_number eq b.__risk_rating_from and a.__time_period = b.__time_period order by time_interval , reporting_date , marginal_pit_probability ;<br>quit;<br><br>\", \" proc datasets lib = work nolist noprint memtype=all;<br> delete __mtf_pd_pit: / mt=all;<br> delete view __mtf_pd_pit: / mt=view;<br> quit;<br><br>\", \" proc datasets lib = work nolist noprint memtype=all;<br> delete __mtf_pd_non: / mt=data;<br> quit;<br><br>\", \" proc datasets lib = work nolist noprint memtype=all;<br> delete __mtf_pd_mark: / mt=data;<br> quit;<br>;<br><br><br>/* WRITE LOG TO THE FILE IN PRIEVIOUSLY STATED FILE PATCH */<br><br>\"], [\"DATASTEP\", \"DATASTEP\", \"SQL\", \"SQL\", \"SQL\", \"DATASTEP\", \"SQL\", \"SQL\", \"DATASTEP\", \"DATASTEP\", \"SQL\", \"DATASTEP\", \"SORT\", \"DATASTEP\", \"SORT\", \"SQL\", \"SQL\", \"TRANSPOSE\", \"DATASTEP\", \"TRANSPOSE\", \"SQL\", \"DATASETS\", \"DATASTEP\", \"DATASTEP\", \"DATASTEP\", \"SQL\", \"DATASTEP\", \"SQL\", \"SQL\", \"SQL\", \"DATASTEP\", \"SQL\", \"DATASTEP\", \"TRANSPOSE\", \"SQL\", \"SQL\", \"TRANSPOSE\", \"DATASTEP\", \"IML\", \"IML\", \"IML\", \"IML\", \"DATASTEP\", \"SQL\", \"DATASETS\", \"DATASETS\", \"DATASTEP\", \"SQL\", \"DATASETS\", \"DATASETS\", \"DATASTEP\", \"SQL\", \"DATASETS\", \"DATASETS\", \"DATASTEP\", \"SQL\", \"DATASETS\", \"DATASETS\", \"TRANSPOSE\", \"DATASTEP\", \"DATASTEP\", \"DATASTEP\", \"DATASTEP\", \"DATASTEP\", \"SQL\", \"DATASTEP\", \"SQL\", \"DATASTEP\", \"SQL\", \"SQL\", \"IML\", \"SQL\", \"SQL\", \"DATASTEP\", \"DATASTEP\", \"DATASETS\", \"DATASTEP\", \"DATASTEP\", \"DATASTEP\", \"SQL\", \"DATASTEP\", \"SQL\", \"DATASTEP\", \"SQL\", \"SQL\", \"IML\", \"SQL\", \"SQL\", \"DATASTEP\", \"DATASTEP\", \"DATASETS\", \"DATASTEP\", \"DATASTEP\", \"DATASTEP\", \"SQL\", \"DATASETS\", \"DATASTEP\", \"DATASTEP\", \"DATASTEP\", \"SORT\", \"SQL\", \"SQL\", \"SQL\", \"SQL\", \"SQL\", \"IML\", \"SQL\", \"SQL\", \"DATASETS\", \"DATASTEP\", \"SQL\", \"SQL\", \"SQL\", \"DATASTEP\", \"SQL\", \"SQL\", \"SQL\", \"SQL\", \"SQL\", \"DATASTEP\", \"SQL\", \"SQL\", \"SQL\", \"SQL\", \"SQL\", \"DATASTEP\", \"SQL\", \"SQL\", \"SQL\", \"SQL\", \"SQL\", \"DATASTEP\", \"SQL\", \"SQL\", \"SQL\", \"SQL\", \"SQL\", \"DATASTEP\", \"SQL\", \"SQL\", \"SQL\", \"SQL\", \"DATASTEP\", \"DATASTEP\", \"SQL\", \"SQL\", \"SQL\", \"SQL\", \"SQL\", \"DATASTEP\", \"DATASTEP\", \"SQL\", \"SQL\", \"SQL\", \"SQL\", \"SQL\", \"TRANSPOSE\", \"DATASTEP\", \"TRANSPOSE\", \"SQL\", \"DATASETS\", \"DATASETS\", \"DATASETS\"], [0.06, 0.07, 29.41, 24.9, 1.28, 0.06, 4.8, 1.87, 0.04, 0.04, 1.8, 4.49, 54.8, 21.43, 3.86, 1.89, 0.08, 0.09, 0.08, 0.24, 0.09, 0.03, 0.04, 0.04, 0.07, 0.04, 0.04, 0.08, 0.04, 0.09, 0.09, 0.06, 0.07, 0.08, 23.72, 0.08, 0.13, 0.11, 0.36, 0.16, 0.15, 0.15, 0.11, 0.11, 0.04, 0.04, 0.11, 0.11, 0.05, 0.04, 0.11, 0.11, 0.04, 0.04, 0.11, 0.11, 0.04, 0.04, 0.11, 0.09, 0.1, 0.03, 0.04, 0.02, 0.08, 0.07, 0.11, 0.21, 0.36, 0.44, 288.77, 38.47, 0.06, 15.8, 40.06, 1.15, 0.05, 0.06, 0.02, 0.09, 0.08, 0.14, 0.25, 29.22, 0.5, 316.98, 11.74, 0.07, 16.37, 42.27, 1.7, 38.78, 11.78, 0.09, 4.32, 0.21, 0.05, 0.06, 2.9, 48.78, 8.59, 4.35, 4.2, 0.13, 18.85, 0.64, 0.18, 0.08, 0.07, 0.16, 3.38, 0.71, 3.29, 0.9, 20.64, 0.24, 0.97, 1.58, 20.31, 0.82, 0.63, 0.26, 0.62, 1.59, 2.84, 0.63, 0.49, 0.23, 0.55, 1.73, 2.63, 0.63, 0.42, 0.2, 15.52, 1.54, 2.45, 0.45, 11.53, 0.2, 0.47, 1.55, 1.68, 0.1, 1.12, 0.16, 0.22, 0.88, 0.09, 6.56, 6.84, 28.71, 0.1, 1.45, 0.1, 29.72, 1.07, 0.78, 6.59, 2.08, 4.68, 0.44, 0.08]]}, \"columnwidth\": [1, 13, 2, 2], \"domain\": {\"x\": [0.0, 1.0], \"y\": [0.0, 0.5]}, \"header\": {\"align\": [\"left\"], \"fill\": {\"color\": \"#C2D4FF\"}, \"font\": {\"size\": 12}, \"line\": {\"color\": \"darkslategray\"}, \"values\": [\"Task ID\", \"Code\", \"Procedure\", \"Elapsed Time\"]}, \"type\": \"table\"}],                        {\"height\": 800, \"showlegend\": false, \"template\": {\"data\": {\"bar\": [{\"error_x\": {\"color\": \"#2a3f5f\"}, \"error_y\": {\"color\": \"#2a3f5f\"}, \"marker\": {\"line\": {\"color\": \"#E5ECF6\", \"width\": 0.5}}, \"type\": \"bar\"}], \"barpolar\": [{\"marker\": {\"line\": {\"color\": \"#E5ECF6\", \"width\": 0.5}}, \"type\": \"barpolar\"}], \"carpet\": [{\"aaxis\": {\"endlinecolor\": \"#2a3f5f\", \"gridcolor\": \"white\", \"linecolor\": \"white\", \"minorgridcolor\": \"white\", \"startlinecolor\": \"#2a3f5f\"}, \"baxis\": {\"endlinecolor\": \"#2a3f5f\", \"gridcolor\": \"white\", \"linecolor\": \"white\", \"minorgridcolor\": \"white\", \"startlinecolor\": \"#2a3f5f\"}, \"type\": \"carpet\"}], \"choropleth\": [{\"colorbar\": {\"outlinewidth\": 0, \"ticks\": \"\"}, \"type\": \"choropleth\"}], \"contour\": [{\"colorbar\": {\"outlinewidth\": 0, \"ticks\": \"\"}, \"colorscale\": [[0.0, \"#0d0887\"], [0.1111111111111111, \"#46039f\"], [0.2222222222222222, \"#7201a8\"], [0.3333333333333333, \"#9c179e\"], [0.4444444444444444, \"#bd3786\"], [0.5555555555555556, \"#d8576b\"], [0.6666666666666666, \"#ed7953\"], [0.7777777777777778, \"#fb9f3a\"], [0.8888888888888888, \"#fdca26\"], [1.0, \"#f0f921\"]], \"type\": \"contour\"}], \"contourcarpet\": [{\"colorbar\": {\"outlinewidth\": 0, \"ticks\": \"\"}, \"type\": \"contourcarpet\"}], \"heatmap\": [{\"colorbar\": {\"outlinewidth\": 0, \"ticks\": \"\"}, \"colorscale\": [[0.0, \"#0d0887\"], [0.1111111111111111, \"#46039f\"], [0.2222222222222222, \"#7201a8\"], [0.3333333333333333, \"#9c179e\"], [0.4444444444444444, \"#bd3786\"], [0.5555555555555556, \"#d8576b\"], [0.6666666666666666, \"#ed7953\"], [0.7777777777777778, \"#fb9f3a\"], [0.8888888888888888, \"#fdca26\"], [1.0, \"#f0f921\"]], \"type\": \"heatmap\"}], \"heatmapgl\": [{\"colorbar\": {\"outlinewidth\": 0, \"ticks\": \"\"}, \"colorscale\": [[0.0, \"#0d0887\"], [0.1111111111111111, \"#46039f\"], [0.2222222222222222, \"#7201a8\"], [0.3333333333333333, \"#9c179e\"], [0.4444444444444444, \"#bd3786\"], [0.5555555555555556, \"#d8576b\"], [0.6666666666666666, \"#ed7953\"], [0.7777777777777778, \"#fb9f3a\"], [0.8888888888888888, \"#fdca26\"], [1.0, \"#f0f921\"]], \"type\": \"heatmapgl\"}], \"histogram\": [{\"marker\": {\"colorbar\": {\"outlinewidth\": 0, \"ticks\": \"\"}}, \"type\": \"histogram\"}], \"histogram2d\": [{\"colorbar\": {\"outlinewidth\": 0, \"ticks\": \"\"}, \"colorscale\": [[0.0, \"#0d0887\"], [0.1111111111111111, \"#46039f\"], [0.2222222222222222, \"#7201a8\"], [0.3333333333333333, \"#9c179e\"], [0.4444444444444444, \"#bd3786\"], [0.5555555555555556, \"#d8576b\"], [0.6666666666666666, \"#ed7953\"], [0.7777777777777778, \"#fb9f3a\"], [0.8888888888888888, \"#fdca26\"], [1.0, \"#f0f921\"]], \"type\": \"histogram2d\"}], \"histogram2dcontour\": [{\"colorbar\": {\"outlinewidth\": 0, \"ticks\": \"\"}, \"colorscale\": [[0.0, \"#0d0887\"], [0.1111111111111111, \"#46039f\"], [0.2222222222222222, \"#7201a8\"], [0.3333333333333333, \"#9c179e\"], [0.4444444444444444, \"#bd3786\"], [0.5555555555555556, \"#d8576b\"], [0.6666666666666666, \"#ed7953\"], [0.7777777777777778, \"#fb9f3a\"], [0.8888888888888888, \"#fdca26\"], [1.0, \"#f0f921\"]], \"type\": \"histogram2dcontour\"}], \"mesh3d\": [{\"colorbar\": {\"outlinewidth\": 0, \"ticks\": \"\"}, \"type\": \"mesh3d\"}], \"parcoords\": [{\"line\": {\"colorbar\": {\"outlinewidth\": 0, \"ticks\": \"\"}}, \"type\": \"parcoords\"}], \"pie\": [{\"automargin\": true, \"type\": \"pie\"}], \"scatter\": [{\"marker\": {\"colorbar\": {\"outlinewidth\": 0, \"ticks\": \"\"}}, \"type\": \"scatter\"}], \"scatter3d\": [{\"line\": {\"colorbar\": {\"outlinewidth\": 0, \"ticks\": \"\"}}, \"marker\": {\"colorbar\": {\"outlinewidth\": 0, \"ticks\": \"\"}}, \"type\": \"scatter3d\"}], \"scattercarpet\": [{\"marker\": {\"colorbar\": {\"outlinewidth\": 0, \"ticks\": \"\"}}, \"type\": \"scattercarpet\"}], \"scattergeo\": [{\"marker\": {\"colorbar\": {\"outlinewidth\": 0, \"ticks\": \"\"}}, \"type\": \"scattergeo\"}], \"scattergl\": [{\"marker\": {\"colorbar\": {\"outlinewidth\": 0, \"ticks\": \"\"}}, \"type\": \"scattergl\"}], \"scattermapbox\": [{\"marker\": {\"colorbar\": {\"outlinewidth\": 0, \"ticks\": \"\"}}, \"type\": \"scattermapbox\"}], \"scatterpolar\": [{\"marker\": {\"colorbar\": {\"outlinewidth\": 0, \"ticks\": \"\"}}, \"type\": \"scatterpolar\"}], \"scatterpolargl\": [{\"marker\": {\"colorbar\": {\"outlinewidth\": 0, \"ticks\": \"\"}}, \"type\": \"scatterpolargl\"}], \"scatterternary\": [{\"marker\": {\"colorbar\": {\"outlinewidth\": 0, \"ticks\": \"\"}}, \"type\": \"scatterternary\"}], \"surface\": [{\"colorbar\": {\"outlinewidth\": 0, \"ticks\": \"\"}, \"colorscale\": [[0.0, \"#0d0887\"], [0.1111111111111111, \"#46039f\"], [0.2222222222222222, \"#7201a8\"], [0.3333333333333333, \"#9c179e\"], [0.4444444444444444, \"#bd3786\"], [0.5555555555555556, \"#d8576b\"], [0.6666666666666666, \"#ed7953\"], [0.7777777777777778, \"#fb9f3a\"], [0.8888888888888888, \"#fdca26\"], [1.0, \"#f0f921\"]], \"type\": \"surface\"}], \"table\": [{\"cells\": {\"fill\": {\"color\": \"#EBF0F8\"}, \"line\": {\"color\": \"white\"}}, \"header\": {\"fill\": {\"color\": \"#C8D4E3\"}, \"line\": {\"color\": \"white\"}}, \"type\": \"table\"}]}, \"layout\": {\"annotationdefaults\": {\"arrowcolor\": \"#2a3f5f\", \"arrowhead\": 0, \"arrowwidth\": 1}, \"autotypenumbers\": \"strict\", \"coloraxis\": {\"colorbar\": {\"outlinewidth\": 0, \"ticks\": \"\"}}, \"colorscale\": {\"diverging\": [[0, \"#8e0152\"], [0.1, \"#c51b7d\"], [0.2, \"#de77ae\"], [0.3, \"#f1b6da\"], [0.4, \"#fde0ef\"], [0.5, \"#f7f7f7\"], [0.6, \"#e6f5d0\"], [0.7, \"#b8e186\"], [0.8, \"#7fbc41\"], [0.9, \"#4d9221\"], [1, \"#276419\"]], \"sequential\": [[0.0, \"#0d0887\"], [0.1111111111111111, \"#46039f\"], [0.2222222222222222, \"#7201a8\"], [0.3333333333333333, \"#9c179e\"], [0.4444444444444444, \"#bd3786\"], [0.5555555555555556, \"#d8576b\"], [0.6666666666666666, \"#ed7953\"], [0.7777777777777778, \"#fb9f3a\"], [0.8888888888888888, \"#fdca26\"], [1.0, \"#f0f921\"]], \"sequentialminus\": [[0.0, \"#0d0887\"], [0.1111111111111111, \"#46039f\"], [0.2222222222222222, \"#7201a8\"], [0.3333333333333333, \"#9c179e\"], [0.4444444444444444, \"#bd3786\"], [0.5555555555555556, \"#d8576b\"], [0.6666666666666666, \"#ed7953\"], [0.7777777777777778, \"#fb9f3a\"], [0.8888888888888888, \"#fdca26\"], [1.0, \"#f0f921\"]]}, \"colorway\": [\"#636efa\", \"#EF553B\", \"#00cc96\", \"#ab63fa\", \"#FFA15A\", \"#19d3f3\", \"#FF6692\", \"#B6E880\", \"#FF97FF\", \"#FECB52\"], \"font\": {\"color\": \"#2a3f5f\"}, \"geo\": {\"bgcolor\": \"white\", \"lakecolor\": \"white\", \"landcolor\": \"#E5ECF6\", \"showlakes\": true, \"showland\": true, \"subunitcolor\": \"white\"}, \"hoverlabel\": {\"align\": \"left\"}, \"hovermode\": \"closest\", \"mapbox\": {\"style\": \"light\"}, \"paper_bgcolor\": \"white\", \"plot_bgcolor\": \"#E5ECF6\", \"polar\": {\"angularaxis\": {\"gridcolor\": \"white\", \"linecolor\": \"white\", \"ticks\": \"\"}, \"bgcolor\": \"#E5ECF6\", \"radialaxis\": {\"gridcolor\": \"white\", \"linecolor\": \"white\", \"ticks\": \"\"}}, \"scene\": {\"xaxis\": {\"backgroundcolor\": \"#E5ECF6\", \"gridcolor\": \"white\", \"gridwidth\": 2, \"linecolor\": \"white\", \"showbackground\": true, \"ticks\": \"\", \"zerolinecolor\": \"white\"}, \"yaxis\": {\"backgroundcolor\": \"#E5ECF6\", \"gridcolor\": \"white\", \"gridwidth\": 2, \"linecolor\": \"white\", \"showbackground\": true, \"ticks\": \"\", \"zerolinecolor\": \"white\"}, \"zaxis\": {\"backgroundcolor\": \"#E5ECF6\", \"gridcolor\": \"white\", \"gridwidth\": 2, \"linecolor\": \"white\", \"showbackground\": true, \"ticks\": \"\", \"zerolinecolor\": \"white\"}}, \"shapedefaults\": {\"line\": {\"color\": \"#2a3f5f\"}}, \"ternary\": {\"aaxis\": {\"gridcolor\": \"white\", \"linecolor\": \"white\", \"ticks\": \"\"}, \"baxis\": {\"gridcolor\": \"white\", \"linecolor\": \"white\", \"ticks\": \"\"}, \"bgcolor\": \"#E5ECF6\", \"caxis\": {\"gridcolor\": \"white\", \"linecolor\": \"white\", \"ticks\": \"\"}}, \"title\": {\"x\": 0.05}, \"xaxis\": {\"automargin\": true, \"gridcolor\": \"white\", \"linecolor\": \"white\", \"ticks\": \"\", \"title\": {\"standoff\": 15}, \"zerolinecolor\": \"white\", \"zerolinewidth\": 2}, \"yaxis\": {\"automargin\": true, \"gridcolor\": \"white\", \"linecolor\": \"white\", \"ticks\": \"\", \"title\": {\"standoff\": 15}, \"zerolinecolor\": \"white\", \"zerolinewidth\": 2}}}, \"title\": {\"text\": \"SAS Code Process analysis\"}, \"width\": 1000, \"xaxis\": {\"anchor\": \"y\", \"domain\": [0.0, 1.0], \"side\": \"top\", \"title\": {\"text\": \"Calculation Step\"}}, \"yaxis\": {\"anchor\": \"x\", \"domain\": [0.5, 1.0], \"showgrid\": false, \"showticklabels\": false, \"zeroline\": false}},                        {\"responsive\": true}                    ).then(function(){\n",
       "                            \n",
       "var gd = document.getElementById('00d0ff5f-0f02-4f99-b62a-96ea915e8404');\n",
       "var x = new MutationObserver(function (mutations, observer) {{\n",
       "        var display = window.getComputedStyle(gd).display;\n",
       "        if (!display || display === 'none') {{\n",
       "            console.log([gd, 'removed!']);\n",
       "            Plotly.purge(gd);\n",
       "            observer.disconnect();\n",
       "        }}\n",
       "}});\n",
       "\n",
       "// Listen for the removal of the full notebook cells\n",
       "var notebookContainer = gd.closest('#notebook-container');\n",
       "if (notebookContainer) {{\n",
       "    x.observe(notebookContainer, {childList: true});\n",
       "}}\n",
       "\n",
       "// Listen for the clearing of the current output cell\n",
       "var outputEl = gd.closest('.output');\n",
       "if (outputEl) {{\n",
       "    x.observe(outputEl, {childList: true});\n",
       "}}\n",
       "\n",
       "                        })                };                });            </script>        </div>"
      ]
     },
     "metadata": {},
     "output_type": "display_data"
    }
   ],
   "source": [
    "# Base\n",
    "fig = make_subplots(rows=2, cols=1,\n",
    "                    shared_xaxes=False,\n",
    "                    vertical_spacing=0,\n",
    "                    specs=[[{\"type\": \"scatter\"}], [{\"type\": \"table\"}]])\n",
    "\n",
    "# Network plot\n",
    "# a) Edges\n",
    "for i in range(len(edge_trace)):\n",
    "    fig.add_trace(edge_trace[i], row=1, col=1) \n",
    "# b) Nodes\n",
    "fig.add_trace(node_trace, row=1, col=1)\n",
    "# c) Text\n",
    "fig.add_trace(edge_text_trace, row=1, col=1) \n",
    "\n",
    "# Table plot\n",
    "fig.add_trace(go.Table(columnwidth=[1,13,2,2],\n",
    "                       header=dict(values=col_list,\n",
    "                                   font=dict(size=12),\n",
    "                                   fill = dict(color='#C2D4FF'),\n",
    "                                   line_color='darkslategray',\n",
    "                                   align = ['left']),\n",
    "                       cells=dict(values=[df_code[k].tolist() for k in col_list],\n",
    "                                  font=dict(size=10),\n",
    "                                  fill = dict(color='#F5F8FF'),\n",
    "                                  line_color='darkslategray',\n",
    "                                  align = ['left'])\n",
    "                      ), row=2, col=1)\n",
    "# Update\n",
    "fig.update_layout(width=1000, height=800,\n",
    "                  showlegend=False,\n",
    "                  title_text=\"SAS Code Process analysis\",\n",
    "                  xaxis=dict(title='Calculation Step', \n",
    "                             side='top'),\n",
    "                  yaxis=dict(showgrid=False, \n",
    "                             zeroline=False, \n",
    "                             showticklabels=False))\n"
   ]
  },
  {
   "cell_type": "code",
   "execution_count": null,
   "id": "a64db29d",
   "metadata": {},
   "outputs": [],
   "source": []
  },
  {
   "cell_type": "code",
   "execution_count": 206,
   "id": "307d2900",
   "metadata": {
    "scrolled": false
   },
   "outputs": [
    {
     "data": {
      "application/vnd.jupyter.widget-view+json": {
       "model_id": "d1f4fd62082e4fbe8c423c5dd0fbe5ea",
       "version_major": 2,
       "version_minor": 0
      },
      "text/plain": [
       "VBox(children=(FigureWidget({\n",
       "    'data': [{'hoverinfo': 'none',\n",
       "              'line': {'color': '#006837', 'd…"
      ]
     },
     "metadata": {},
     "output_type": "display_data"
    }
   ],
   "source": [
    "# Network plot\n",
    "fig_net = go.FigureWidget(edge_trace+[node_trace, edge_text_trace])\n",
    "fig_net.update_layout(clickmode='event+select', showlegend=False)\n",
    "fig_net.update_xaxes(title='Calculation Step')\n",
    "fig_net.update_yaxes(visible=False, showticklabels=False)\n",
    "\n",
    "# List for updates\n",
    "scatter = fig_net.data[0]\n",
    "filter_list = list(set(scatter.y))\n",
    "\n",
    "# Table\n",
    "col_list = ['Task ID','Code','Procedure','Elapsed Time']\n",
    "\n",
    "# a) Table structure    \n",
    "fig_tbl = go.FigureWidget([go.Table(columnwidth=[1,15,2,2],\n",
    "                                    header=dict(values=col_list,\n",
    "                                                font=dict(size=12),\n",
    "                                                fill = dict(color='#C2D4FF'),\n",
    "                                                line_color='darkslategray',\n",
    "                                                align = ['left']),\n",
    "                                    cells=dict(values=[df_code[k].tolist() for k in col_list],\n",
    "                                               font=dict(size=10),\n",
    "                                               fill = dict(color='#F5F8FF'),\n",
    "                                               line_color='darkslategray',\n",
    "                                               align = ['left'])\n",
    "                                   )\n",
    "                          ])\n",
    "    \n",
    "# b) Update\n",
    "def selection_fn(trace,points,selector):\n",
    "    df_filter = df_code.loc[df_code['Task ID'].isin(filter_list)]\n",
    "    fig_tbl.data[0].cells.values = [df_filter.loc[points.point_inds][col] for col in list(df_code.columns)]\n",
    "scatter.on_selection(selection_fn)\n",
    "\n",
    "# Put everything together\n",
    "VBox((fig_net, fig_tbl))\n"
   ]
  },
  {
   "cell_type": "code",
   "execution_count": null,
   "id": "b9a1b702",
   "metadata": {},
   "outputs": [],
   "source": []
  }
 ],
 "metadata": {
  "kernelspec": {
   "display_name": "Python 3",
   "language": "python",
   "name": "python3"
  },
  "language_info": {
   "codemirror_mode": {
    "name": "ipython",
    "version": 3
   },
   "file_extension": ".py",
   "mimetype": "text/x-python",
   "name": "python",
   "nbconvert_exporter": "python",
   "pygments_lexer": "ipython3",
   "version": "3.8.8"
  }
 },
 "nbformat": 4,
 "nbformat_minor": 5
}
