{
 "cells": [
  {
   "cell_type": "code",
   "execution_count": null,
   "id": "e64abfa9",
   "metadata": {},
   "outputs": [],
   "source": [
    "# Library\n",
    "import json\n",
    "\n",
    "import dash\n",
    "import dash_table\n",
    "import dash_core_components as dcc\n",
    "import dash_html_components as html\n",
    "from dash.dependencies import Input, Output\n",
    "import plotly.express as px\n",
    "import pandas as pd"
   ]
  },
  {
   "cell_type": "code",
   "execution_count": null,
   "id": "553d0169",
   "metadata": {},
   "outputs": [],
   "source": []
  },
  {
   "cell_type": "code",
   "execution_count": null,
   "id": "18f76ef9",
   "metadata": {},
   "outputs": [],
   "source": []
  },
  {
   "cell_type": "code",
   "execution_count": null,
   "id": "9702a187",
   "metadata": {},
   "outputs": [],
   "source": [
    "# Data scatter\n",
    "df_fig = pd.DataFrame({\n",
    "    \"x\": [1,2,1,2],\n",
    "    \"y\": [1,2,3,4],\n",
    "    \"customdata\": [1,2,3,4],\n",
    "    \"fruit\": [\"apple\", \"apple\", \"orange\", \"orange\"]\n",
    "})"
   ]
  },
  {
   "cell_type": "code",
   "execution_count": null,
   "id": "e2084ebe",
   "metadata": {},
   "outputs": [],
   "source": [
    "# Data table\n",
    "df_tbl = pd.read_csv('https://raw.githubusercontent.com/plotly/datasets/master/solar.csv')"
   ]
  },
  {
   "cell_type": "code",
   "execution_count": null,
   "id": "779fa2ee",
   "metadata": {},
   "outputs": [],
   "source": [
    "# Scatterplot figure\n",
    "fig = px.scatter(df_fig, x=\"x\", y=\"y\", color=\"fruit\", custom_data=[\"customdata\"])\n",
    "fig.update_layout(clickmode='event+select')\n",
    "fig.update_traces(marker_size=20)"
   ]
  },
  {
   "cell_type": "code",
   "execution_count": null,
   "id": "7f74ba27",
   "metadata": {},
   "outputs": [],
   "source": [
    "# Server setup\n",
    "app = dash.Dash()\n",
    "\n",
    "app.layout = html.Div([\n",
    "    dcc.Graph(id='scatter', figure=fig),\n",
    "             \n",
    "    dash_table.DataTable(id='table',\n",
    "                         columns=[{\"name\": i, \"id\": i} for i in df_tbl.columns],\n",
    "                         data=df_tbl.to_dict('records') )\n",
    "    \n",
    "    \n",
    "])\n",
    "\n",
    "\n",
    "\n",
    "# @app.callback(\n",
    "#     Output('selected-data', 'children'),\n",
    "#     Input('basic-interactions', 'selectedData'))\n",
    "# def display_selected_data(selectedData):\n",
    "#     return json.dumps(selectedData, indent=2)\n",
    "\n",
    "\n",
    "if __name__ == '__main__':\n",
    "    app.run_server(debug=False)"
   ]
  },
  {
   "cell_type": "code",
   "execution_count": null,
   "id": "2eba7106",
   "metadata": {},
   "outputs": [],
   "source": []
  }
 ],
 "metadata": {
  "kernelspec": {
   "display_name": "Python 3",
   "language": "python",
   "name": "python3"
  },
  "language_info": {
   "codemirror_mode": {
    "name": "ipython",
    "version": 3
   },
   "file_extension": ".py",
   "mimetype": "text/x-python",
   "name": "python",
   "nbconvert_exporter": "python",
   "pygments_lexer": "ipython3",
   "version": "3.8.8"
  }
 },
 "nbformat": 4,
 "nbformat_minor": 5
}
